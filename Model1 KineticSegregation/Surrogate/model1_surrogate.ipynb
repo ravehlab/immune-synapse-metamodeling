{
 "cells": [
  {
   "cell_type": "code",
   "execution_count": 1,
   "metadata": {
    "id": "D7AwcdonNvSY"
   },
   "outputs": [],
   "source": [
    "# !pip install arviz==0.6.1 -q\n",
    "# !pip install arviz==0.11.0 -q # new\n",
    "# !pip install pymc3==3.8 -q\n",
    "# !pip install Theano==1.0.4 -q"
   ]
  },
  {
   "cell_type": "code",
   "execution_count": 1,
   "metadata": {
    "colab": {
     "base_uri": "https://localhost:8080/"
    },
    "id": "EvDYjsGOTLHJ",
    "outputId": "38744b0d-09a7-4b5f-b429-7635248e1d62"
   },
   "outputs": [],
   "source": [
    "# !pip install arviz==0.11.0 -q \n",
    "# !pip install pymc3==3.8 -q\n",
    "# !pip install Theano==1.0.4 -q"
   ]
  },
  {
   "cell_type": "code",
   "execution_count": 3,
   "metadata": {
    "colab": {
     "base_uri": "https://localhost:8080/"
    },
    "id": "40Et5t0MNz1d",
    "outputId": "299bf723-c8c0-4785-e39d-daa3094805b1"
   },
   "outputs": [
    {
     "name": "stdout",
     "output_type": "stream",
     "text": [
      "Running on Python v1.19.2\n",
      "Running on PyMC3 v3.8\n",
      "Running on ArviZ v0.6.1\n"
     ]
    }
   ],
   "source": [
    "import numpy as np\n",
    "import pymc3 as pm\n",
    "import pandas as pd\n",
    "from scipy.optimize import curve_fit\n",
    "import matplotlib.pyplot as plt\n",
    "import IPython\n",
    "import seaborn as sns\n",
    "import arviz as az\n",
    "import csv\n",
    "import json\n",
    "\n",
    "print('Running on Python v{}'.format(np.__version__))\n",
    "print('Running on PyMC3 v{}'.format(pm.__version__))\n",
    "print('Running on ArviZ v{}'.format(az.__version__))"
   ]
  },
  {
   "cell_type": "markdown",
   "metadata": {},
   "source": [
    "# Define plot functions"
   ]
  },
  {
   "cell_type": "code",
   "execution_count": 4,
   "metadata": {},
   "outputs": [],
   "source": [
    "#@ def, Plot heatmaps subplots \n",
    "def plotHeatmaps(data,\n",
    "                 rowTitles,\n",
    "                 colTitles,\n",
    "                 xLabel,\n",
    "                 yLabel,\n",
    "                 nRows,\n",
    "                 nCols,\n",
    "                 vmins,\n",
    "                 vmaxs,\n",
    "                 iRow):\n",
    "    \n",
    "    fig = plt.figure(figsize=[4,12])\n",
    "    \n",
    "    # im identifier:\n",
    "    im = [None]*nCols\n",
    "    x1, x2 = data[0] # Free parameters of the data.\n",
    "    f = data[1] # Data that is the function of the free parameters.\n",
    "    \n",
    "    # Return the last row that is 'True' in 'plotWhat'. It sets in what row \n",
    "    # to show 'xlabel':\n",
    "    max_plotWhat = np.max(np.where(plotWhat))\n",
    "    \n",
    "    # plot the nRows x nCols subplots with labels, titles at  \n",
    "    # sceciefic locations. iCol is Column index, iRow is Row index:\n",
    "    for iCol in range(nCols):\n",
    "        fig.add_subplot(nRows, nCols, iRow*nCols + iCol+1)\n",
    "        im[iCol] = plt.pcolor(x1 ,x2, f[iCol],\n",
    "                              vmin=vmins[iCol], vmax=vmaxs[iCol],\n",
    "                              shading='auto', cmap='Purples')\n",
    "        \n",
    "        if True:  # iRow > 0:\n",
    "            dep_levels = np.arange(25., 250., 25.)\n",
    "            cs = plt.contour(x1, x2, f[iCol], dep_levels, colors='k',\n",
    "                             vmin=vmins[iCol], vmax=vmaxs[iCol])\n",
    "            plt.clabel(cs, dep_levels, inline=True, fmt='%.0f', fontsize=10)\n",
    "            \n",
    "        fig.colorbar(im[iCol])\n",
    "        \n",
    "        if iRow == 0:\n",
    "            plt.title(colTitles[iCol] + rowTitles[iRow])\n",
    "        \n",
    "        else:\n",
    "            plt.title(rowTitles[iRow])\n",
    "        \n",
    "        if iRow == max_plotWhat:\n",
    "            plt.xlabel(xLabel)\n",
    "            \n",
    "        if iCol == 0:\n",
    "            plt.ylabel(yLabel)\n",
    "    \n",
    "    fig.tight_layout()\n",
    "    "
   ]
  },
  {
   "cell_type": "code",
   "execution_count": 5,
   "metadata": {},
   "outputs": [],
   "source": [
    "DataToPlot = 4*[None]\n",
    "plotWhat = [True,False,False,False]\n",
    "\n",
    "def plotData(DataToPlot,plotWhat):\n",
    "    # titles and labels:\n",
    "    xLabel = \"t(sec)\"\n",
    "    yLabel = \"$\\kappa(kTnm^2)$\"\n",
    "\n",
    "    dep_Title = \"$Depletion$\\n\"\n",
    "    colTitles = [dep_Title]\n",
    "    \n",
    "    \n",
    "    rowTitles = [\"Training data\",\"Data fit\",\"Trained parameters\",\"Surrogate\"]\n",
    "\n",
    "    # min and max values for the different heatmaps:\n",
    "    vmins = [0]\n",
    "    vmaxs = [250]\n",
    "\n",
    "    nRows = 4\n",
    "    nCols = 1\n",
    "    \n",
    "    # Plot a row of subplot if the data is not empty and if value is 'True':\n",
    "    for iRow in range(nRows):\n",
    "        if DataToPlot[iRow] != None and plotWhat[iRow]:\n",
    "            plotHeatmaps(data = DataToPlot[iRow],\n",
    "                         nRows = nRows,\n",
    "                         nCols = nCols,\n",
    "                         rowTitles = rowTitles,\n",
    "                         colTitles = colTitles,\n",
    "                         xLabel = xLabel,\n",
    "                         yLabel = yLabel,\n",
    "                         vmins = vmins,\n",
    "                         vmaxs = vmaxs,\n",
    "                         iRow = iRow)\n"
   ]
  },
  {
   "cell_type": "markdown",
   "metadata": {
    "id": "Zi1QgchtwM2k"
   },
   "source": [
    "# 2.1. Training data"
   ]
  },
  {
   "cell_type": "code",
   "execution_count": 6,
   "metadata": {
    "cellView": "form",
    "code_folding": [
     0
    ],
    "id": "GCkTwxoMnINQ"
   },
   "outputs": [],
   "source": [
    "#@title 2.1.1. Read data\n",
    "# Training data for model1\n",
    "# Reading the data files for wTCR, wCD45 and dep:\n",
    "g11_data_array0 = np.array([[17.661,19.183,19.73,19.805,19.458,19.891,19.527,19.54,19.832,20.157,20.128],\n",
    "[19.807,20.516,20.608,21.018,20.983,20.983,20.846,20.773,20.84,20.802,20.817],\n",
    "[14.854,16.5,16.518,16.88,15.239,17.3,18.122,18.695,18.583,18.248,18.701],\n",
    "[17.808,20.029,19.971,19.622,19.793,19.91,19.881,19.915,19.98,20.045,19.794],\n",
    "[17.145,16.825,17.533,18.228,19.001,18.377,17.976,18.51,18.094,18.188,18.366],\n",
    "[19.667,20.514,20.274,20.947,20.916,21.256,21.668,21.175,20.76,20.632,20.101],\n",
    "[18.68,18.576,18.716,19.04,19.282,19.41,19.602,19.408,19.639,19.461,19.855],\n",
    "[16.496,18.266,18.58,18.612,18.559,19.555,19.953,20.253,20.713,20.557,20.536],\n",
    "[17.674,18.396,18.03,18.118,17.606,17.807,18.07,17.928,17.594,17.25,17.308],\n",
    "[19.08,19.262,18.823,18.762,17.688,16.945,17.339,18.742,18.945,19.308,19.242],\n",
    "[15.556,17.646,16.964,16.932,17.065,16.846,17.816,16.883,17.014,17.24,17.83],\n",
    "[18.485,19.306,19.624,19.605,19.746,19.579,20.574,20.42,20.268,20.555,20.235],\n",
    "[15.822,18.493,18.293,18.172,17.955,17.996,18.483,19.479,19.548,19.265,19.335],\n",
    "[18.794,19.639,19.373,19.302,18.612,19.361,19.757,19.137,19.559,17.867,18.11],\n",
    "[19.544,19.512,19.452,19.359,19.638,19.804,19.639,19.734,19.606,19.516,19.298],\n",
    "[18.865,18.723,18.375,17.985,19.549,19.418,19.875,18.889,18.312,18.905,19.247],\n",
    "[17.74,19.186,19.218,19.565,19.492,19.574,19.547,19.58,19.534,19.937,20.119],\n",
    "[18.161,18.791,18.908,19.036,19.124,19.352,19.251,19.114,18.099,17.437,17.8],\n",
    "[17.938,19.659,19.598,19.619,19.361,19.318,18.931,18.962,18.84,18.572,18.795],\n",
    "[19.298,20.702,20.232,18.734,18.933,18.68,20.009,20.906,19.983,21.698,21.396]])\n",
    "\n",
    "g22_data_array0 = np.array([[40.041,52.171,51.35,29.385,29.899,26.539,24.747,25.122,25.862,24.263,23.395],\n",
    "[40.704,65.18,16.491,21.928,17.19,19.452,19.197,17.847,19.484,21.011,21.138],\n",
    "[39.042,42.095,16.474,16.675,14.722,13.55,17.955,18.605,18.349,18.939,19.479],\n",
    "[38.419,47.203,14.739,12.982,12.733,15.255,13.751,16.323,17.894,17.449,19.414],\n",
    "[39.108,53.466,12.586,12,12.753,14.967,15.872,15.312,17.068,16.613,14.618],\n",
    "[38.113,45.535,20.098,12.111,11.407,13.368,13.442,13.216,13.973,17.431,15.352],\n",
    "[39.648,50.23,19.223,12.787,13.078,15.23,13.828,13.692,12.99,12.969,13.974],\n",
    "[38.017,50.687,17.7,12.634,15.672,13.763,14.569,13.574,15.226,13.608,14.524],\n",
    "[36.345,69.927,19.105,11.132,11.422,11.372,12.303,11.948,12.753,14.639,14.842],\n",
    "[40.794,61.187,28.937,13.248,13.526,12.374,12.695,13.368,13.863,11.607,14.586],\n",
    "[40.921,55.434,15.722,12.631,11.345,11.369,12.609,12.635,12.586,13.711,12.415],\n",
    "[38.929,56.889,18.765,11.926,11.054,12.053,11.273,11.119,12.761,13.477,13.677],\n",
    "[39.473,50.729,21.278,12.516,12.972,12.526,12.54,11.717,11.926,13.661,12.903],\n",
    "[38.131,35.466,11.213,9.67,11.095,10.651,10.628,10.119,12.048,11.376,12.653],\n",
    "[39.627,53.418,21.563,9.6493,11.463,10.294,10.446,11.087,11.837,11.89,12.081],\n",
    "[38.691,56.514,13.84,10.841,10.191,10.97,10.824,11.493,11.993,10.927,12.072],\n",
    "[38.369,63.582,19.472,12.247,12.861,10.001,11.511,11.678,10.888,11.904,10.845],\n",
    "[38.179,68.412,17.91,11.824,12.56,13.241,10.941,10.486,10.073,10.858,10.58],\n",
    "[37.695,58.418,21.777,21.935,11.346,10.919,11.021,12.221,11.51,10.89,11.082],\n",
    "[39.867,56.521,29.038,14.488,12.373,10.574,11.135,10.364,9.2701,10.909,10.99]])\n",
    "\n",
    "g12_data_array0 = np.array([[21.443,2.146,1.8681,3.8138,3.9293,5.6677,5.3346,4.3738,4.2115,5.28,8.2552],\n",
    "[24.357,5.1339,6.7392,8.223,9.3518,10.359,11.295,10.972,12.868,13.388,13.722],\n",
    "[20.173,5.2959,7.333,7.8585,10.086,11.09,11.441,12.287,12.422,13.599,14.602],\n",
    "[21.048,6.5607,8.4275,10.31,11.318,12.677,13.688,14.361,14.064,14.734,15.726],\n",
    "[25.645,5.9201,9.4306,10.969,12.123,12.807,13.398,14.336,14.965,15.327,16.625],\n",
    "[21.139,7.0034,9.7752,10.405,11.668,12.448,13.244,15.181,15.767,16.214,18.283],\n",
    "[21.274,6.9867,9.6211,11.519,13.453,14.475,15.672,17.101,17.715,18.632,19.162],\n",
    "[23.961,8.0956,10.543,11.696,13.353,14.386,15.99,17.091,18.055,18.893,19.542],\n",
    "[22.423,8.268,10.87,11.669,13.451,15.054,16.721,17.912,18.917,19.362,19.769],\n",
    "[27.017,7.3613,10.131,12.155,13.812,15.167,16.219,16.971,18.294,18.95,19.332],\n",
    "[20.636,8.0815,10.922,12.998,14.427,15.393,16.38,17.264,17.915,19.277,20.381],\n",
    "[19.696,9.7434,12.274,13.932,15.715,17.327,18.2,19.712,20.157,21.347,22.44],\n",
    "[22.62,8.7923,11.49,12.903,14.329,15.736,16.811,17.696,18.532,19.141,20.687],\n",
    "[21.159,8.8581,10.963,13.294,14.779,16.134,17.312,18.822,19.915,21.127,22.049],\n",
    "[23.141,7.6794,10.896,12.606,14.96,16.412,17.242,17.534,19.21,20.28,20.491],\n",
    "[24.11,7.9982,10.606,11.875,13.188,14.998,16.305,17.323,18.873,20.375,20.659],\n",
    "[25.384,7.243,10.881,13.414,15.346,16.97,18.282,18.986,20.141,21.525,22.371],\n",
    "[21.893,8.3062,11.252,12.743,14.472,16.041,17.768,19.057,20.07,20.825,21.393],\n",
    "[23.24,7.2108,10.11,12.491,14.012,16.15,17.421,18.109,19.321,20.581,22.27],\n",
    "[23.722,9.4973,11.47,13.331,15.163,17.049,17.551,18.817,20.326,20.695,22.219]])\n",
    "\n",
    "# scaling data to nanometer and cropping data:\n",
    "# PROGRAMMING RULE #1 - NEVER EVER USE MAGIC NUMBERS\n",
    "NM_PER_PIXEL = 10\n",
    "\n",
    "wTCR_array0_nm = 2*NM_PER_PIXEL*g11_data_array0 # x2 because the computation was over half-width\n",
    "wCD45_array0_nm = 2*NM_PER_PIXEL*g22_data_array0 # x2 because the computation was over half-width\n",
    "dep_array0_nm = NM_PER_PIXEL*g12_data_array0\n",
    "\n",
    "size_k, size_t = np.shape(dep_array0_nm)\n",
    "\n",
    "t0 = np.linspace(0, 100, size_t) # x-axis for arrays (time in seconds)\n",
    "k0 = np.linspace(100/size_k, 100, size_k) # y-axis for arrays (rigidity in kT*nm^2)\n"
   ]
  },
  {
   "cell_type": "code",
   "execution_count": 7,
   "metadata": {
    "cellView": "form",
    "code_folding": [],
    "id": "Om3VvsVEP-q8"
   },
   "outputs": [],
   "source": [
    "#@title Crop and save training data\n",
    "\n",
    "# select start indices for t and k:\n",
    "t_start = 1\n",
    "k_start = 1\n",
    "\n",
    "selected_t_inds = np.arange(t_start,size_t,1)\n",
    "selected_k_inds = np.arange(k_start,size_k,2) # every second value\n",
    "\n",
    "dep_array1_nm = dep_array0_nm[selected_k_inds,:]\n",
    "dep_array_nm = dep_array1_nm[:,selected_t_inds]\n",
    "\n",
    "t = t0[selected_t_inds]\n",
    "k = k0[selected_k_inds]\n",
    "\n",
    "[t_array, k_array] = np.meshgrid(t,k)\n",
    "\n",
    "if True:\n",
    "    np.save(\"dep_evidence_nm.npy\", dep_array_nm)\n"
   ]
  },
  {
   "cell_type": "code",
   "execution_count": 8,
   "metadata": {
    "cellView": "form",
    "code_folding": [],
    "id": "tmClS1XGTUWx"
   },
   "outputs": [],
   "source": [
    "#@title 2.1.2. Training data to dataFrame\n",
    "df_trainingData_model1 = pd.DataFrame(np.array([t_array.flatten(), \n",
    "                k_array.flatten(),\n",
    "                dep_array_nm.flatten()]).T,\n",
    "                columns=['time_sec', 'k0_kTnm2', 'dep_nm'])\n",
    "\n",
    "df_trainingData_model1.to_csv('trainingData_model1.csv')"
   ]
  },
  {
   "cell_type": "code",
   "execution_count": 9,
   "metadata": {},
   "outputs": [
    {
     "data": {
      "image/png": "[encoded data removed]",
      "text/plain": [
       "<Figure size 288x864 with 2 Axes>"
      ]
     },
     "metadata": {
      "needs_background": "light"
     },
     "output_type": "display_data"
    }
   ],
   "source": [
    "\n",
    "df_dep_nm = df_trainingData_model1.pivot('k0_kTnm2', 'time_sec', 'dep_nm')\n",
    "\n",
    "t = df_dep_nm.columns\n",
    "k = df_dep_nm.index\n",
    "\n",
    "dep_nm = df_dep_nm.values\n",
    "\n",
    "DataToPlot[0] = [[t,k],[dep_nm]]\n",
    "plotWhat=[True,False,False,False]\n",
    "\n",
    "plotData(DataToPlot, plotWhat)\n"
   ]
  },
  {
   "cell_type": "markdown",
   "metadata": {
    "id": "EB9t1xDYk89w"
   },
   "source": [
    "# 2.2. Data fit"
   ]
  },
  {
   "cell_type": "code",
   "execution_count": 10,
   "metadata": {
    "cellView": "form",
    "code_folding": [],
    "id": "ju3v26g_mj83"
   },
   "outputs": [],
   "source": [
    "#@title 2.2.1 Defined fit fnctions\n",
    "# fl is for 'flatten'\n",
    "\n",
    "def linear_z(xy, b, ax, ay):\n",
    "    x,y = xy\n",
    "    f = b + ax*x + ay*y\n",
    "    strf = \"b + ax*x + ay*y\"\n",
    "    return f\n",
    "\n",
    "# def sig(x, min, max, center, devisor):\n",
    "\n",
    "#     f = min + (max - min)/(1 + np.exp(-(x - center)/devisor))\n",
    "#     return f"
   ]
  },
  {
   "cell_type": "code",
   "execution_count": 11,
   "metadata": {
    "cellView": "code",
    "code_folding": [],
    "id": "v9Cns0AtnjS9"
   },
   "outputs": [],
   "source": [
    "#@title Read training data from csv file\n",
    "# Reading data from csv file:\n",
    "df_trainingData_model1 = pd.read_csv('trainingData_model1.csv')\n",
    "\n",
    "\n",
    "# Reading data from DataFrame:\n",
    "# 'f' is for 'flatten'  \n",
    "ft = df_trainingData_model1['time_sec']\n",
    "fk = df_trainingData_model1['k0_kTnm2']\n",
    "fdep_nm = df_trainingData_model1['dep_nm']"
   ]
  },
  {
   "cell_type": "code",
   "execution_count": 12,
   "metadata": {
    "cellView": "form",
    "code_folding": [],
    "id": "vPQwyWEfsORp"
   },
   "outputs": [],
   "source": [
    "#@title 2.2.2. Get fit parameters\n",
    "def get_fit_parameters(X,fitFunc,fXdata,parametersNames,p0):\n",
    "    \"\"\"\n",
    "    Returns fit parameters and aranges them in DataFrames where the index (rows)\n",
    "    are the fit parameters' names and the columns are 'mu' and 'sd'.\n",
    "    \"\"\"\n",
    "    popt, pcov = curve_fit(fitFunc, X, fXdata, p0)\n",
    "    mu = popt\n",
    "    sd = np.sqrt(np.diag(pcov))\n",
    "\n",
    "    data = {'mu':mu,'sd':sd}\n",
    "    index = parametersNames\n",
    "    \n",
    "    df = pd.DataFrame(data,index=index)\n",
    "\n",
    "    return df\n"
   ]
  },
  {
   "cell_type": "code",
   "execution_count": 13,
   "metadata": {
    "cellView": "form",
    "code_folding": [],
    "colab": {
     "base_uri": "https://localhost:8080/",
     "height": 136
    },
    "id": "tgSdlwnbeRCD",
    "outputId": "a9387ac7-426b-4f53-abd9-2e0a02b52941"
   },
   "outputs": [
    {
     "data": {
      "text/html": [
       "<div>\n",
       "<style scoped>\n",
       "    .dataframe tbody tr th:only-of-type {\n",
       "        vertical-align: middle;\n",
       "    }\n",
       "\n",
       "    .dataframe tbody tr th {\n",
       "        vertical-align: top;\n",
       "    }\n",
       "\n",
       "    .dataframe thead th {\n",
       "        text-align: right;\n",
       "    }\n",
       "</style>\n",
       "<table border=\"1\" class=\"dataframe\">\n",
       "  <thead>\n",
       "    <tr style=\"text-align: right;\">\n",
       "      <th></th>\n",
       "      <th>mu</th>\n",
       "      <th>sd</th>\n",
       "    </tr>\n",
       "  </thead>\n",
       "  <tbody>\n",
       "    <tr>\n",
       "      <th>intercept</th>\n",
       "      <td>43.137</td>\n",
       "      <td>3.940</td>\n",
       "    </tr>\n",
       "    <tr>\n",
       "      <th>tSlope</th>\n",
       "      <td>1.249</td>\n",
       "      <td>0.048</td>\n",
       "    </tr>\n",
       "    <tr>\n",
       "      <th>kSlope</th>\n",
       "      <td>0.629</td>\n",
       "      <td>0.048</td>\n",
       "    </tr>\n",
       "  </tbody>\n",
       "</table>\n",
       "</div>"
      ],
      "text/plain": [
       "               mu     sd\n",
       "intercept  43.137  3.940\n",
       "tSlope      1.249  0.048\n",
       "kSlope      0.629  0.048"
      ]
     },
     "metadata": {},
     "output_type": "display_data"
    },
    {
     "name": "stdout",
     "output_type": "stream",
     "text": [
      "intercept+tSlope*t+kSlope*k\n"
     ]
    }
   ],
   "source": [
    "#@title Fit parameters for dep\n",
    "p0_dep = 50., 1., 1.\n",
    "parametersNames_dep = ['intercept', 'tSlope', 'kSlope']\n",
    "equation_dep = parametersNames_dep[0] + \\\n",
    "                \"+\" + \\\n",
    "                parametersNames_dep[1] + \\\n",
    "                \"*\" + \\\n",
    "                \"t\" + \\\n",
    "                \"+\" + \\\n",
    "                parametersNames_dep[2] +\\\n",
    "                \"*\" + \\\n",
    "                \"k\"\n",
    "\n",
    "df_fitParameters_dep = get_fit_parameters(X=(ft,fk),\n",
    "                              fitFunc=linear_z,\n",
    "                              fXdata=fdep_nm,\n",
    "                              parametersNames=parametersNames_dep,\n",
    "                              p0=p0_dep)\n",
    "\n",
    "df_fitParameters_dep = df_fitParameters_dep.round(3)\n",
    "display(df_fitParameters_dep)\n",
    "print(equation_dep)"
   ]
  },
  {
   "cell_type": "code",
   "execution_count": 14,
   "metadata": {
    "code_folding": [],
    "colab": {
     "base_uri": "https://localhost:8080/",
     "height": 481
    },
    "id": "A9iiWHG75Qvt",
    "outputId": "876c1929-f315-47c8-d3dd-d23b3b0d5094"
   },
   "outputs": [],
   "source": [
    "#@title 2.2.3. Plotting training data vs. data fit\n",
    "# dep:\n",
    "dep_fit = df_fitParameters_dep.loc['intercept','mu'] + \\\n",
    "          df_fitParameters_dep.loc['tSlope','mu']*t_array + \\\n",
    "          df_fitParameters_dep.loc['kSlope','mu']*k_array"
   ]
  },
  {
   "cell_type": "code",
   "execution_count": 15,
   "metadata": {
    "code_folding": [],
    "colab": {
     "base_uri": "https://localhost:8080/",
     "height": 481
    },
    "id": "A9iiWHG75Qvt",
    "outputId": "876c1929-f315-47c8-d3dd-d23b3b0d5094"
   },
   "outputs": [
    {
     "data": {
      "image/png": "[encoded data removed]",
      "text/plain": [
       "<Figure size 288x864 with 2 Axes>"
      ]
     },
     "metadata": {
      "needs_background": "light"
     },
     "output_type": "display_data"
    },
    {
     "data": {
      "image/png": "[encoded data removed]",
      "text/plain": [
       "<Figure size 288x864 with 2 Axes>"
      ]
     },
     "metadata": {
      "needs_background": "light"
     },
     "output_type": "display_data"
    }
   ],
   "source": [
    "DataToPlot[1] = [[t,k],[dep_fit]]\n",
    "plotWhat=[True,True,False,False]\n",
    "\n",
    "plotData(DataToPlot, plotWhat)"
   ]
  },
  {
   "cell_type": "markdown",
   "metadata": {
    "id": "qMvf-Qy1R812"
   },
   "source": [
    "# 2.3. Data structure"
   ]
  },
  {
   "cell_type": "code",
   "execution_count": 16,
   "metadata": {
    "code_folding": [],
    "id": "58l7rjjKQXV-"
   },
   "outputs": [],
   "source": [
    "#@title Class RV new\n",
    "class RV: # TODO for Barak - make CSV field names correspond to dictionary names or have a meta-dict for it\n",
    "    def __init__(self,\n",
    "                 id : str,\n",
    "                 type2 : str,\n",
    "                 shortName : str,\n",
    "                 texName : str,\n",
    "                 description : str,\n",
    "                 distribution : str,\n",
    "                 distributionParameters : dict,\n",
    "                 units : str):\n",
    "        \n",
    "        self.id = id # str\n",
    "        self.type2 = type2 # str\n",
    "        self.shortName = shortName # str\n",
    "        self.texName = texName # str\n",
    "        self.description = description # str\n",
    "        self.distribution = distribution # str\n",
    "        self.distributionParameters = distributionParameters # array\n",
    "        self.units = units # str\n",
    "\n",
    "\n",
    "    def get_as_dictionary(self):  \n",
    "        return {'ID': self.id, # Unique variable name that is used by pymc3, e.g. rv_tSlope_wTCR_KSEG1.\n",
    "                'Type': self.type2, # Type of variable, e.g. 'Free parameter', 'Random variable'\n",
    "                'Short Name': self.shortName, # Short name, e.g. 't'.\n",
    "                'Latex Name': self.texName, # LaTex name for display.\n",
    "                'Description': self.description, # \n",
    "                'Distribution': self.distribution,\n",
    "                'Distribution parameters': self.distributionParameters,\n",
    "                'Units': self.units}   \n",
    "\n",
    "    def get_pymc3_statement():\n",
    "        '''\n",
    "        TASK 1\n",
    "        TODO make this return a 2-tuple from a variable name \n",
    "        to a pymc3 statment for creating this random variable\n",
    "        (to be used as input for eval)\n",
    "        '''\n",
    "#         if RV.distribution == \"Normal\":\n",
    "#             mu = RV.distributionParameters[\"mu\"]\n",
    "#             sd = RV.distributionParameters[\"sd\"]\n",
    "#             s0 = RV.id\n",
    "#             if RV.shortName == \"output\":\n",
    "#                 print(RV.shortName)\n",
    "#             s1 = (\"pm.\" + RV.distribution + \"('\" + RV.id  + \"'\" + \\\n",
    "#                                       \", mu=\" + str(mu) + \\\n",
    "#                                       \", sd=\" + str(sd) + \")\")\n",
    "#             s = (s0,s1)\n",
    "#             print(eval(\"s[0]\"),\"=\",eval(\"s[1]\"))\n",
    "        '''\n",
    "        Example: return tuple :\n",
    "        s = ('rv_alpha', 'pm.Normal(\"rv_alpha\", mu=354, sigma=a*10+b*20)')\n",
    "        so we can do eval(s[0]) = eval(s[1])\n",
    "        '''\n",
    "      # TODO: WRITE-ME\n",
    "#       return\n",
    "\n",
    "    @staticmethod\n",
    "    def RV_from_dictionary(d : dict):\n",
    "        ''' generates an RV object from a dictionary produced by get_as_dictionary() '''  \n",
    "        return RV(id=d['ID'],\n",
    "                type2=d['Type'],\n",
    "                shortName=d['Short Name'],\n",
    "                texName=d['Latex Name'],\n",
    "                description=d['Description'],\n",
    "                distribution=d['Distribution'],\n",
    "                distributionParameters=d['Distribution parameters'],\n",
    "                units=d['Units'])\n"
   ]
  },
  {
   "cell_type": "code",
   "execution_count": 17,
   "metadata": {
    "cellView": "code",
    "code_folding": [],
    "id": "RTRxgJvq3MmO"
   },
   "outputs": [],
   "source": [
    "#@title Class model\n",
    "model1_description = \"\"\"Distributions and inter distances of TCR and CD45 molecules\n",
    "that result from the early contact of a T cell and APC (Antigen Presenting Cell).\"\"\"\n",
    "\n",
    "class Model:\n",
    "    # Constructor\n",
    "    def __init__(self, \n",
    "                 shortName : str, \n",
    "                 longName : str, \n",
    "                 description : str, \n",
    "                 model_id  : str,\n",
    "                 RV_csv_file = None, # Topology of Bayes net\n",
    "                 data_csv_file = None): # Training data\n",
    "        '''\n",
    "        '''\n",
    "        self.shortName = shortName # str\n",
    "        self.longName = longName # str\n",
    "        self.description = description # str\n",
    "        self.model_id = model_id # str\n",
    "        self.set_RVs_from_csv(RV_csv_file) # fill in random variables from CSV file\n",
    "        self.set_data_from_csv(data_csv_file) # fill in training data from CSV file\n",
    "\n",
    "    # add a random variable to the model\n",
    "    def add_rv(self, rv): # BARAK\n",
    "        self.RVs.append(rv)\n",
    "\n",
    "    def get_dataframe(self): # TODO: think about the name\n",
    "        info = [ rv.get_as_dictionary() for rv in self.RVs ]\n",
    "        df = pd.DataFrame(info)\n",
    "        df.set_index('ID', drop=False)  \n",
    "        return df\n",
    "\n",
    "    def to_csv(self, csv_file): # TODO: think about the name\n",
    "        df = self.get_dataframe()\n",
    "        df.to_csv(csv_file)\n",
    "\n",
    "    def set_RVs_from_csv(self, csv_file):\n",
    "        ''' \n",
    "        read csv file (similar to Table S1 in metamodeling paper) with random variables\n",
    "        and set this model's random variables and the statistical relations among them\n",
    "        accordingly\n",
    "\n",
    "        If csv_file is None, set an empty list of RVs\n",
    "        '''\n",
    "        self.RVs = []\n",
    "        if csv_file == None:\n",
    "            return\n",
    "        df = pd.read_csv(csv_file)\n",
    "        # TODO: assert that it has all the right fields\n",
    "        rv_dicts = df.to_dict('records') # TODO: check if this is still appropraite\n",
    "        print(\"RV dicts from csv:\")\n",
    "        print(rv_dicts)\n",
    "        for rv_dict in rv_dicts:\n",
    "            rv= RV.from_dictionary(rv_dict)\n",
    "            self.add_rv(rv)\n",
    "\n",
    "    def set_data_from_csv(self, data_csv_file):\n",
    "    # TASK 2\n",
    "        # df = pd.read_csv(data_csv_file)\n",
    "        # display(df) # Yair\n",
    "        # TODO: code for filling in table of data\n",
    "        # self.data = ... # WRITE-ME\n",
    "        self.trainingData = pd.read_csv(data_csv_file)\n",
    "\n",
    "    # generate a pymc3 model from this model\n",
    "    def get_as_pymc3(self): # BARAK\n",
    "    # TASK 3 - make sure this works\n",
    "        '''\n",
    "        Go over all random variables in this model, \n",
    "        and generate a PyMC3 object with cooresponding\n",
    "        variable names and statistical relations among them\n",
    "        '''\n",
    "        # TODO (use \"eval\" command)\n",
    "        pm_model = pm.Model()\n",
    "        with pm_model as pm:\n",
    "             for rv in self.RVs:\n",
    "                 pass\n",
    "            #    s = rv.get_pymc3_statement()\n",
    "            #    eval(s[0]) = eval(s[1])\n",
    "        return pm_model\n",
    "\n",
    "    def update_rvs_from_pymc3(self, pymc3): # BARAK\n",
    "    # TASK 4 \n",
    "        # TODO: use trace from trained PyMC3 model to update statements for all RVs\n",
    "        return\n",
    "\n",
    "    \n",
    "     "
   ]
  },
  {
   "cell_type": "code",
   "execution_count": 18,
   "metadata": {
    "cellView": "form",
    "code_folding": [],
    "id": "FezVtO3_IZ_G"
   },
   "outputs": [],
   "source": [
    "#@title Start model1_dep\n",
    "model1_dep = Model(shortName = 'KSEG',  # str\n",
    "               longName = 'Kinetic segregation', # str\n",
    "               description = 'Model1 description', # str\n",
    "               model_id = '1', #, # str\n",
    "               RV_csv_file = None,\n",
    "               data_csv_file = 'trainingData_model1.csv') \n"
   ]
  },
  {
   "cell_type": "code",
   "execution_count": 19,
   "metadata": {
    "cellView": "form",
    "code_folding": [],
    "id": "gOFv5SM412C9"
   },
   "outputs": [],
   "source": [
    "#@title Define dep untrained table\n",
    "\n",
    "model1_dep.add_rv(\n",
    "    RV(id = 'fp_t_dep_KSEG1',\n",
    "       type2 = 'Free parameter',\n",
    "       shortName = 't',\n",
    "       texName = \"$$t^{KSEG}$$\",\n",
    "       description = 'Time',\n",
    "       distribution = 'Uniform',\n",
    "       distributionParameters = {'lower' : str(0.), 'upper' : str(100.)},\n",
    "       units = '$$sec$$'))\n",
    "\n",
    "model1_dep.add_rv(\n",
    "    RV(id = 'fp_k_dep_KSEG1',\n",
    "        type2 = 'Free parameter',\n",
    "        shortName = 'k',\n",
    "        texName = '$$\\kappa^{KSEG}$$',\n",
    "        description = 'Membrane rigidity',\n",
    "        distribution = 'Uniform',\n",
    "        distributionParameters = {'lower' : str(0.), 'upper' : str(100.)},\n",
    "        units = '$$kTnm^2$$'))\n",
    "\n",
    "model1_dep.add_rv(\n",
    "    RV(id = 'rv_intercept_dep_KSEG1',\n",
    "        type2 = 'Random variable',\n",
    "        shortName = 'intercept',\n",
    "        texName = '$$dep^{KSEG}_{intercepct}$$',\n",
    "        description = 'Depletion range between TCR and CD45',\n",
    "        distribution = 'Normal',\n",
    "        distributionParameters = {'mu' : str(df_fitParameters_dep.loc['intercept','mu']), # TODO: get from table \n",
    "                                  'sd' : str(df_fitParameters_dep.loc['intercept','sd'])},\n",
    "        units = '$$nm$$')) \n",
    "\n",
    "model1_dep.add_rv(\n",
    "    RV(id = 'rv_tSlope_dep_KSEG1',\n",
    "        type2 = 'Random variable',\n",
    "        shortName = 'tSlope',\n",
    "        texName = '$$dep^{KSEG}_{tSlope}$$',\n",
    "        description = 'Plain slope for t',\n",
    "        distribution = 'Normal',\n",
    "        distributionParameters = {'mu' : str(df_fitParameters_dep.loc['tSlope','mu']), # TODO: get from table \n",
    "                                  'sd' : str(df_fitParameters_dep.loc['tSlope','sd'])},\n",
    "        units = '$$-$$')) \n",
    "\n",
    "model1_dep.add_rv(\n",
    "    RV(id = 'rv_kSlope_dep_KSEG1',\n",
    "        type2 = 'Random variable',\n",
    "        shortName = 'kSlope',\n",
    "        texName = '$$dep^{KSEG}_{kSlope}$$',\n",
    "        description = 'Plain slope for k',\n",
    "        distribution = 'Normal',\n",
    "        distributionParameters = {'mu' : str(df_fitParameters_dep.loc['kSlope','mu']), # TODO: get from table \n",
    "                                  'sd' : str(df_fitParameters_dep.loc['kSlope','sd'])},\n",
    "        units = '$$-$$'))\n",
    "\n",
    "model1_dep.add_rv(\n",
    "    RV(id = 'rv_output_dep_KSEG1',\n",
    "       type2 = 'Random variable',\n",
    "       shortName = 'output',\n",
    "       texName = '$$dep^{KSEG}_{output}$$',\n",
    "       description = 'dep output',\n",
    "       distribution = 'Normal',\n",
    "       distributionParameters = {'mu' : equation_dep, 'sd' : str(20.)},\n",
    "       units = \"$$nm$$\")) \n",
    "\n",
    "model1_dep.to_csv(\"Model1_dep.csv\")"
   ]
  },
  {
   "cell_type": "code",
   "execution_count": 20,
   "metadata": {
    "cellView": "form",
    "code_folding": [],
    "colab": {
     "base_uri": "https://localhost:8080/",
     "height": 502
    },
    "id": "lr4ok7LVK-Oa",
    "outputId": "a491a0ba-d332-499c-f230-1154c2de6d1d"
   },
   "outputs": [
    {
     "data": {
      "text/html": [
       "<style  type=\"text/css\" >\n",
       "#T_636472da_8cd5_11ec_b516_4cebbd07c97crow0_col0,#T_636472da_8cd5_11ec_b516_4cebbd07c97crow0_col1,#T_636472da_8cd5_11ec_b516_4cebbd07c97crow0_col2,#T_636472da_8cd5_11ec_b516_4cebbd07c97crow0_col3,#T_636472da_8cd5_11ec_b516_4cebbd07c97crow0_col4,#T_636472da_8cd5_11ec_b516_4cebbd07c97crow0_col5,#T_636472da_8cd5_11ec_b516_4cebbd07c97crow0_col6,#T_636472da_8cd5_11ec_b516_4cebbd07c97crow1_col0,#T_636472da_8cd5_11ec_b516_4cebbd07c97crow1_col1,#T_636472da_8cd5_11ec_b516_4cebbd07c97crow1_col2,#T_636472da_8cd5_11ec_b516_4cebbd07c97crow1_col3,#T_636472da_8cd5_11ec_b516_4cebbd07c97crow1_col4,#T_636472da_8cd5_11ec_b516_4cebbd07c97crow1_col5,#T_636472da_8cd5_11ec_b516_4cebbd07c97crow1_col6,#T_636472da_8cd5_11ec_b516_4cebbd07c97crow2_col0,#T_636472da_8cd5_11ec_b516_4cebbd07c97crow2_col1,#T_636472da_8cd5_11ec_b516_4cebbd07c97crow2_col2,#T_636472da_8cd5_11ec_b516_4cebbd07c97crow2_col3,#T_636472da_8cd5_11ec_b516_4cebbd07c97crow2_col4,#T_636472da_8cd5_11ec_b516_4cebbd07c97crow2_col5,#T_636472da_8cd5_11ec_b516_4cebbd07c97crow2_col6,#T_636472da_8cd5_11ec_b516_4cebbd07c97crow3_col0,#T_636472da_8cd5_11ec_b516_4cebbd07c97crow3_col1,#T_636472da_8cd5_11ec_b516_4cebbd07c97crow3_col2,#T_636472da_8cd5_11ec_b516_4cebbd07c97crow3_col3,#T_636472da_8cd5_11ec_b516_4cebbd07c97crow3_col4,#T_636472da_8cd5_11ec_b516_4cebbd07c97crow3_col5,#T_636472da_8cd5_11ec_b516_4cebbd07c97crow3_col6,#T_636472da_8cd5_11ec_b516_4cebbd07c97crow4_col0,#T_636472da_8cd5_11ec_b516_4cebbd07c97crow4_col1,#T_636472da_8cd5_11ec_b516_4cebbd07c97crow4_col2,#T_636472da_8cd5_11ec_b516_4cebbd07c97crow4_col3,#T_636472da_8cd5_11ec_b516_4cebbd07c97crow4_col4,#T_636472da_8cd5_11ec_b516_4cebbd07c97crow4_col5,#T_636472da_8cd5_11ec_b516_4cebbd07c97crow4_col6,#T_636472da_8cd5_11ec_b516_4cebbd07c97crow5_col0,#T_636472da_8cd5_11ec_b516_4cebbd07c97crow5_col1,#T_636472da_8cd5_11ec_b516_4cebbd07c97crow5_col2,#T_636472da_8cd5_11ec_b516_4cebbd07c97crow5_col3,#T_636472da_8cd5_11ec_b516_4cebbd07c97crow5_col4,#T_636472da_8cd5_11ec_b516_4cebbd07c97crow5_col5,#T_636472da_8cd5_11ec_b516_4cebbd07c97crow5_col6{\n",
       "            text-align:  left;\n",
       "            background-color:  rgba(200, 150, 255, 0.65);\n",
       "            border:  1px black solid;\n",
       "        }</style><table id=\"T_636472da_8cd5_11ec_b516_4cebbd07c97c\" ><thead>    <tr>        <th class=\"blank level0\" ></th>        <th class=\"col_heading level0 col0\" >Type</th>        <th class=\"col_heading level0 col1\" >Short Name</th>        <th class=\"col_heading level0 col2\" >Latex Name</th>        <th class=\"col_heading level0 col3\" >Description</th>        <th class=\"col_heading level0 col4\" >Distribution</th>        <th class=\"col_heading level0 col5\" >Distribution parameters</th>        <th class=\"col_heading level0 col6\" >Units</th>    </tr>    <tr>        <th class=\"index_name level0\" >ID</th>        <th class=\"blank\" ></th>        <th class=\"blank\" ></th>        <th class=\"blank\" ></th>        <th class=\"blank\" ></th>        <th class=\"blank\" ></th>        <th class=\"blank\" ></th>        <th class=\"blank\" ></th>    </tr></thead><tbody>\n",
       "                <tr>\n",
       "                        <th id=\"T_636472da_8cd5_11ec_b516_4cebbd07c97clevel0_row0\" class=\"row_heading level0 row0\" >fp_t_dep_KSEG1</th>\n",
       "                        <td id=\"T_636472da_8cd5_11ec_b516_4cebbd07c97crow0_col0\" class=\"data row0 col0\" >Free parameter</td>\n",
       "                        <td id=\"T_636472da_8cd5_11ec_b516_4cebbd07c97crow0_col1\" class=\"data row0 col1\" >t</td>\n",
       "                        <td id=\"T_636472da_8cd5_11ec_b516_4cebbd07c97crow0_col2\" class=\"data row0 col2\" >$$t^{KSEG}$$</td>\n",
       "                        <td id=\"T_636472da_8cd5_11ec_b516_4cebbd07c97crow0_col3\" class=\"data row0 col3\" >Time</td>\n",
       "                        <td id=\"T_636472da_8cd5_11ec_b516_4cebbd07c97crow0_col4\" class=\"data row0 col4\" >Uniform</td>\n",
       "                        <td id=\"T_636472da_8cd5_11ec_b516_4cebbd07c97crow0_col5\" class=\"data row0 col5\" >{'lower': '0.0', 'upper': '100.0'}</td>\n",
       "                        <td id=\"T_636472da_8cd5_11ec_b516_4cebbd07c97crow0_col6\" class=\"data row0 col6\" >$$sec$$</td>\n",
       "            </tr>\n",
       "            <tr>\n",
       "                        <th id=\"T_636472da_8cd5_11ec_b516_4cebbd07c97clevel0_row1\" class=\"row_heading level0 row1\" >fp_k_dep_KSEG1</th>\n",
       "                        <td id=\"T_636472da_8cd5_11ec_b516_4cebbd07c97crow1_col0\" class=\"data row1 col0\" >Free parameter</td>\n",
       "                        <td id=\"T_636472da_8cd5_11ec_b516_4cebbd07c97crow1_col1\" class=\"data row1 col1\" >k</td>\n",
       "                        <td id=\"T_636472da_8cd5_11ec_b516_4cebbd07c97crow1_col2\" class=\"data row1 col2\" >$$\\kappa^{KSEG}$$</td>\n",
       "                        <td id=\"T_636472da_8cd5_11ec_b516_4cebbd07c97crow1_col3\" class=\"data row1 col3\" >Membrane rigidity</td>\n",
       "                        <td id=\"T_636472da_8cd5_11ec_b516_4cebbd07c97crow1_col4\" class=\"data row1 col4\" >Uniform</td>\n",
       "                        <td id=\"T_636472da_8cd5_11ec_b516_4cebbd07c97crow1_col5\" class=\"data row1 col5\" >{'lower': '0.0', 'upper': '100.0'}</td>\n",
       "                        <td id=\"T_636472da_8cd5_11ec_b516_4cebbd07c97crow1_col6\" class=\"data row1 col6\" >$$kTnm^2$$</td>\n",
       "            </tr>\n",
       "            <tr>\n",
       "                        <th id=\"T_636472da_8cd5_11ec_b516_4cebbd07c97clevel0_row2\" class=\"row_heading level0 row2\" >rv_intercept_dep_KSEG1</th>\n",
       "                        <td id=\"T_636472da_8cd5_11ec_b516_4cebbd07c97crow2_col0\" class=\"data row2 col0\" >Random variable</td>\n",
       "                        <td id=\"T_636472da_8cd5_11ec_b516_4cebbd07c97crow2_col1\" class=\"data row2 col1\" >intercept</td>\n",
       "                        <td id=\"T_636472da_8cd5_11ec_b516_4cebbd07c97crow2_col2\" class=\"data row2 col2\" >$$dep^{KSEG}_{intercepct}$$</td>\n",
       "                        <td id=\"T_636472da_8cd5_11ec_b516_4cebbd07c97crow2_col3\" class=\"data row2 col3\" >Depletion range between TCR and CD45</td>\n",
       "                        <td id=\"T_636472da_8cd5_11ec_b516_4cebbd07c97crow2_col4\" class=\"data row2 col4\" >Normal</td>\n",
       "                        <td id=\"T_636472da_8cd5_11ec_b516_4cebbd07c97crow2_col5\" class=\"data row2 col5\" >{'mu': '43.137', 'sd': '3.94'}</td>\n",
       "                        <td id=\"T_636472da_8cd5_11ec_b516_4cebbd07c97crow2_col6\" class=\"data row2 col6\" >$$nm$$</td>\n",
       "            </tr>\n",
       "            <tr>\n",
       "                        <th id=\"T_636472da_8cd5_11ec_b516_4cebbd07c97clevel0_row3\" class=\"row_heading level0 row3\" >rv_tSlope_dep_KSEG1</th>\n",
       "                        <td id=\"T_636472da_8cd5_11ec_b516_4cebbd07c97crow3_col0\" class=\"data row3 col0\" >Random variable</td>\n",
       "                        <td id=\"T_636472da_8cd5_11ec_b516_4cebbd07c97crow3_col1\" class=\"data row3 col1\" >tSlope</td>\n",
       "                        <td id=\"T_636472da_8cd5_11ec_b516_4cebbd07c97crow3_col2\" class=\"data row3 col2\" >$$dep^{KSEG}_{tSlope}$$</td>\n",
       "                        <td id=\"T_636472da_8cd5_11ec_b516_4cebbd07c97crow3_col3\" class=\"data row3 col3\" >Plain slope for t</td>\n",
       "                        <td id=\"T_636472da_8cd5_11ec_b516_4cebbd07c97crow3_col4\" class=\"data row3 col4\" >Normal</td>\n",
       "                        <td id=\"T_636472da_8cd5_11ec_b516_4cebbd07c97crow3_col5\" class=\"data row3 col5\" >{'mu': '1.249', 'sd': '0.048'}</td>\n",
       "                        <td id=\"T_636472da_8cd5_11ec_b516_4cebbd07c97crow3_col6\" class=\"data row3 col6\" >$$-$$</td>\n",
       "            </tr>\n",
       "            <tr>\n",
       "                        <th id=\"T_636472da_8cd5_11ec_b516_4cebbd07c97clevel0_row4\" class=\"row_heading level0 row4\" >rv_kSlope_dep_KSEG1</th>\n",
       "                        <td id=\"T_636472da_8cd5_11ec_b516_4cebbd07c97crow4_col0\" class=\"data row4 col0\" >Random variable</td>\n",
       "                        <td id=\"T_636472da_8cd5_11ec_b516_4cebbd07c97crow4_col1\" class=\"data row4 col1\" >kSlope</td>\n",
       "                        <td id=\"T_636472da_8cd5_11ec_b516_4cebbd07c97crow4_col2\" class=\"data row4 col2\" >$$dep^{KSEG}_{kSlope}$$</td>\n",
       "                        <td id=\"T_636472da_8cd5_11ec_b516_4cebbd07c97crow4_col3\" class=\"data row4 col3\" >Plain slope for k</td>\n",
       "                        <td id=\"T_636472da_8cd5_11ec_b516_4cebbd07c97crow4_col4\" class=\"data row4 col4\" >Normal</td>\n",
       "                        <td id=\"T_636472da_8cd5_11ec_b516_4cebbd07c97crow4_col5\" class=\"data row4 col5\" >{'mu': '0.629', 'sd': '0.048'}</td>\n",
       "                        <td id=\"T_636472da_8cd5_11ec_b516_4cebbd07c97crow4_col6\" class=\"data row4 col6\" >$$-$$</td>\n",
       "            </tr>\n",
       "            <tr>\n",
       "                        <th id=\"T_636472da_8cd5_11ec_b516_4cebbd07c97clevel0_row5\" class=\"row_heading level0 row5\" >rv_output_dep_KSEG1</th>\n",
       "                        <td id=\"T_636472da_8cd5_11ec_b516_4cebbd07c97crow5_col0\" class=\"data row5 col0\" >Random variable</td>\n",
       "                        <td id=\"T_636472da_8cd5_11ec_b516_4cebbd07c97crow5_col1\" class=\"data row5 col1\" >output</td>\n",
       "                        <td id=\"T_636472da_8cd5_11ec_b516_4cebbd07c97crow5_col2\" class=\"data row5 col2\" >$$dep^{KSEG}_{output}$$</td>\n",
       "                        <td id=\"T_636472da_8cd5_11ec_b516_4cebbd07c97crow5_col3\" class=\"data row5 col3\" >dep output</td>\n",
       "                        <td id=\"T_636472da_8cd5_11ec_b516_4cebbd07c97crow5_col4\" class=\"data row5 col4\" >Normal</td>\n",
       "                        <td id=\"T_636472da_8cd5_11ec_b516_4cebbd07c97crow5_col5\" class=\"data row5 col5\" >{'mu': 'intercept+tSlope*t+kSlope*k', 'sd': '20.0'}</td>\n",
       "                        <td id=\"T_636472da_8cd5_11ec_b516_4cebbd07c97crow5_col6\" class=\"data row5 col6\" >$$nm$$</td>\n",
       "            </tr>\n",
       "    </tbody></table>"
      ],
      "text/plain": [
       "<pandas.io.formats.style.Styler at 0x21bf5d5e070>"
      ]
     },
     "metadata": {},
     "output_type": "display_data"
    }
   ],
   "source": [
    "#@title Display RVs tables as DataFrames\n",
    "# Display untrained table:\n",
    "df_model1_untrainedTable = model1_dep.get_dataframe()\n",
    "df_model1_untrainedTable = df_model1_untrainedTable.set_index('ID')\n",
    "# display(df_model1_dep_untrainedTable)\n",
    "\n",
    "display(df_model1_untrainedTable.style.set_properties(**{'text-align': 'left',\n",
    "                                                'background-color': 'rgba(200, 150, 255, 0.65)',\n",
    "                                                'border' : '1px black solid'}))\n",
    "\n",
    "# Math(r\"e^\\alpha\")"
   ]
  },
  {
   "cell_type": "markdown",
   "metadata": {
    "id": "HQyb29idZLvF"
   },
   "source": [
    "# Untrained model"
   ]
  },
  {
   "cell_type": "code",
   "execution_count": 21,
   "metadata": {
    "cellView": "code",
    "code_folding": [],
    "colab": {
     "base_uri": "https://localhost:8080/",
     "height": 269
    },
    "id": "YvxTaO89cZFH",
    "outputId": "a1c48640-7e6b-4e29-e0c4-d21f0dbbe019"
   },
   "outputs": [],
   "source": [
    "#@title Untrained model\n",
    "def get_pm_model1_untrained(df_trainingData_model1):  # model1\n",
    "    \n",
    "    pm_model1 = pm.Model()\n",
    "    with pm_model1:\n",
    "        dfRV = df_model1_untrainedTable\n",
    "        DP = 'Distribution parameters'\n",
    "        ### model1 - KS (kinetic segregation) #######################        \n",
    "        # from class ################################################\n",
    "        # model1.D:\n",
    "        t_KSEG1_obs = df_trainingData_model1.loc[:,'time_sec'].values\n",
    "        k_KSEG1_obs = df_trainingData_model1.loc[:,'k0_kTnm2'].values\n",
    "\n",
    "        dep_KSEG1_obs = df_trainingData_model1.loc[:,'dep_nm'].values\n",
    "        \n",
    "        # rv_t\n",
    "        ID = 'fp_t_dep_KSEG1'\n",
    "        rv_t = pm.Uniform('rv_t',\n",
    "            lower = dfRV.loc[ID,DP]['lower'],\n",
    "            upper = dfRV.loc[ID,DP]['upper'],\n",
    "            observed = t_KSEG1_obs)\n",
    "        \n",
    "        # rv_k\n",
    "        ID = 'fp_k_dep_KSEG1'\n",
    "        rv_k = pm.Uniform('rv_k',\n",
    "            lower = dfRV.loc[ID,DP]['lower'],\n",
    "            upper = dfRV.loc[ID,DP]['upper'],\n",
    "            observed = k_KSEG1_obs) # todo values\n",
    "        \n",
    "        # dep_KSEG ####################################################\n",
    "        \"\"\"TODO: read parameters values from RV table\"\"\"\n",
    "        # rv_intercept_dep_KSEG1\n",
    "        ID = 'rv_intercept_dep_KSEG1'\n",
    "        rv_intercept_dep_KSEG1 = pm.Normal(ID, \n",
    "            mu = eval(dfRV.loc[ID,DP]['mu']), \n",
    "            sd = eval(dfRV.loc[ID,DP]['sd']))\n",
    "        \n",
    "        # rv_tSlope_dep_KSEG1\n",
    "        ID = 'rv_tSlope_dep_KSEG1'\n",
    "        rv_tSlope_dep_KSEG1 = pm.Normal(ID, \n",
    "            mu = eval(dfRV.loc[ID,DP]['mu']), \n",
    "            sd = eval(dfRV.loc[ID,DP]['sd'])) \n",
    "        \n",
    "        # rv_kSlope_dep_KSEG1\n",
    "        ID = 'rv_kSlope_dep_KSEG1'\n",
    "        rv_kSlope_dep_KSEG1 = pm.Normal(ID, \n",
    "            mu = eval(dfRV.loc[ID,DP]['mu']), \n",
    "            sd = eval(dfRV.loc[ID,DP]['sd'])) \n",
    "        \n",
    "        ID = 'rv_output_dep_KSEG1'\n",
    "        rv_output_dep_KSEG1 = pm.Normal(ID, \n",
    "            mu = rv_intercept_dep_KSEG1 +\\\n",
    "            rv_tSlope_dep_KSEG1*rv_t +\\\n",
    "            rv_kSlope_dep_KSEG1*rv_k,\n",
    "            sd = eval(dfRV.loc[ID,DP]['sd']),\n",
    "            observed = dep_KSEG1_obs) #\n",
    "        #############################################################\n",
    "    return pm_model1\n",
    "\n"
   ]
  },
  {
   "cell_type": "code",
   "execution_count": 23,
   "metadata": {},
   "outputs": [
    {
     "ename": "NameError",
     "evalue": "name 'pm_model1' is not defined",
     "output_type": "error",
     "traceback": [
      "\u001b[1;31m---------------------------------------------------------------------------\u001b[0m",
      "\u001b[1;31mNameError\u001b[0m                                 Traceback (most recent call last)",
      "\u001b[1;32m<ipython-input-23-97ad2e48aa9e>\u001b[0m in \u001b[0;36m<module>\u001b[1;34m\u001b[0m\n\u001b[0;32m      1\u001b[0m \u001b[1;31m# pm_model1 = get_pm_model1_untrained(df_trainingData_model1)\u001b[0m\u001b[1;33m\u001b[0m\u001b[1;33m\u001b[0m\u001b[1;33m\u001b[0m\u001b[0m\n\u001b[1;32m----> 2\u001b[1;33m \u001b[0mgv1\u001b[0m \u001b[1;33m=\u001b[0m \u001b[0mpm\u001b[0m\u001b[1;33m.\u001b[0m\u001b[0mmodel_to_graphviz\u001b[0m\u001b[1;33m(\u001b[0m\u001b[0mpm_model1\u001b[0m\u001b[1;33m)\u001b[0m\u001b[1;33m\u001b[0m\u001b[1;33m\u001b[0m\u001b[0m\n\u001b[0m\u001b[0;32m      3\u001b[0m \u001b[0mgv1\u001b[0m\u001b[1;33m\u001b[0m\u001b[1;33m\u001b[0m\u001b[0m\n",
      "\u001b[1;31mNameError\u001b[0m: name 'pm_model1' is not defined"
     ]
    }
   ],
   "source": [
    "# pm_model1 = get_pm_model1_untrained(df_trainingData_model1) \n",
    "gv1 = pm.model_to_graphviz(pm_model1)\n",
    "gv1   "
   ]
  },
  {
   "cell_type": "code",
   "execution_count": null,
   "metadata": {
    "colab": {
     "base_uri": "https://localhost:8080/",
     "height": 370
    },
    "id": "zh1-hLyqd8AK",
    "outputId": "1b67ba6a-ebd6-4b55-e032-3adfb6e303e4"
   },
   "outputs": [],
   "source": [
    "# Run untrained model:\n",
    "with pm_model1:\n",
    "    trace1 = pm.sample(2000, chains=4);"
   ]
  },
  {
   "cell_type": "code",
   "execution_count": null,
   "metadata": {
    "id": "79dudvR7eUui"
   },
   "outputs": [],
   "source": [
    "pm.traceplot(trace1);"
   ]
  },
  {
   "cell_type": "code",
   "execution_count": null,
   "metadata": {
    "id": "UcCSSDdyeaPR"
   },
   "outputs": [],
   "source": [
    "# save trace_summary:\n",
    "trace1_summary = pm.summary(trace1).round(3) # var_names=[\"mu\", \"tau\"]\n",
    "trace1_summary.to_pickle('trace1_summary')\n",
    "\n",
    "if False: #False:  \n",
    "    files.download(\"trace1_summary\") \n",
    "# !ls"
   ]
  },
  {
   "cell_type": "code",
   "execution_count": null,
   "metadata": {
    "id": "OmOOAX-8eg5D"
   },
   "outputs": [],
   "source": [
    "#@title Read 'mean' and 'sd' values from 'trace_summary'\n",
    "# r = read, to distinguish between the original and the saved files.\n",
    "trace1_summary_r = pd.read_pickle('trace1_summary') \n",
    "\n",
    "# displaying the rv names and the data of intersest: 'mean' and 'sd':\n",
    "mean_sd_r = trace1_summary_r.loc[:, ['mean','sd']]\n",
    "mean_sd_r"
   ]
  },
  {
   "cell_type": "code",
   "execution_count": null,
   "metadata": {},
   "outputs": [],
   "source": [
    "#@ Update trained parameters values\n",
    "df_model1_trainedTable = df_model1_untrainedTable\n",
    "DP = 'Distribution parameters'\n",
    "for rv in mean_sd_r.index:\n",
    "#     print(rv)\n",
    "    df_model1_trainedTable.loc[rv,DP]['mu'] = str(mean_sd_r.loc[rv]['mean'])\n",
    "    df_model1_trainedTable.loc[rv,DP]['sd'] = str(mean_sd_r.loc[rv]['sd'])\n",
    "    \n",
    "df_model1_trainedTable.to_pickle('df_model1_trainedTable') "
   ]
  },
  {
   "cell_type": "code",
   "execution_count": null,
   "metadata": {
    "slideshow": {
     "slide_type": "slide"
    }
   },
   "outputs": [],
   "source": [
    "display(df_model1_trainedTable.style.set_properties(**{'text-align': 'left',\n",
    "                                                'background-color': 'rgba(200, 150, 255, 0.40)',\n",
    "                                                'border' : '1px black solid'}))\n",
    "\n",
    "# df_model1_trainedTable.style.set_table_styles([{'selector' : '',\n",
    "#                             'props' : [('border','4px solid green')]}])"
   ]
  },
  {
   "cell_type": "code",
   "execution_count": null,
   "metadata": {},
   "outputs": [],
   "source": [
    "#@title Get trained model values\n",
    "DP = 'Distribution parameters'\n",
    "# dep:\n",
    "dep_trained = eval(df_model1_trainedTable.loc['rv_intercept_dep_KSEG1',DP]['mu']) +\\\n",
    "              eval(df_model1_trainedTable.loc['rv_tSlope_dep_KSEG1',DP]['mu'])*t_array +\\\n",
    "              eval(df_model1_trainedTable.loc['rv_kSlope_dep_KSEG1',DP]['mu'])*k_array"
   ]
  },
  {
   "cell_type": "code",
   "execution_count": null,
   "metadata": {},
   "outputs": [],
   "source": [
    "DataToPlot[2] = [[t,k],[dep_trained]]\n",
    "plotWhat=[True,True,True,False]\n",
    "\n",
    "plotData(DataToPlot, plotWhat)"
   ]
  },
  {
   "cell_type": "code",
   "execution_count": null,
   "metadata": {
    "cellView": "code",
    "code_folding": [],
    "id": "2HtRJG6ippCG"
   },
   "outputs": [],
   "source": [
    "#@title Build trained model (with updated parameter estimates through their posteriors)\n",
    "def get_pm_model1_trained(df_model1_trainedTable, \n",
    "                          observed_t = None, \n",
    "                          observed_k = None):\n",
    "    \n",
    "    ''' return model1 trained based on trace1. \n",
    "    If observed_t and/or observed_k are specified, \n",
    "    return the model conditioned on those values '''\n",
    "    \n",
    "    pm_model1_trained = pm.Model()\n",
    "    with pm_model1_trained:\n",
    "        dfRV = df_model1_trainedTable\n",
    "        DP = 'Distribution parameters'\n",
    "        ### model1 - KS (kinetic segregation) ###########################    \n",
    "        #  #####################################################\n",
    "        \n",
    "        rv_t = pm.Normal('rv_t', mu=70, sd=30, observed= observed_t)\n",
    "        rv_k = pm.Normal('rv_k', mu=50, sd=20, observed= observed_k)\n",
    "\n",
    "        # dep_KSEG ####################################################\n",
    "        \"\"\"TODO: read parameters values from RV table\"\"\"\n",
    "        # rv_intercept_dep_KSEG1\n",
    "        ID = 'rv_intercept_dep_KSEG1'\n",
    "        rv_intercept_dep_KSEG1 = pm.Normal(ID, \n",
    "            mu = eval(dfRV.loc[ID,DP]['mu']), \n",
    "            sd = eval(dfRV.loc[ID,DP]['sd']))\n",
    "        \n",
    "        # rv_tSlope_dep_KSEG1\n",
    "        ID = 'rv_tSlope_dep_KSEG1'\n",
    "        rv_tSlope_dep_KSEG1 = pm.Normal(ID, \n",
    "            mu = eval(dfRV.loc[ID,DP]['mu']), \n",
    "            sd = eval(dfRV.loc[ID,DP]['sd'])) \n",
    "        \n",
    "        # rv_kSlope_dep_KSEG1\n",
    "        ID = 'rv_kSlope_dep_KSEG1'\n",
    "        rv_kSlope_dep_KSEG1 = pm.Normal(ID, \n",
    "            mu = eval(dfRV.loc[ID,DP]['mu']), \n",
    "            sd = eval(dfRV.loc[ID,DP]['sd'])) \n",
    "        \n",
    "        # rv_output_dep_KSEG1, equation:\n",
    "        \"\"\"\n",
    "        eq = b + a1*x1 + a2*x2\n",
    "        b = rv_intercept_dep_KSEG1\n",
    "        a1 = rv_tSlope_dep_KSEG1\n",
    "        x1 = rv_t\n",
    "        a2 = rv_kSlope_dep_KSEG1\n",
    "        x2 = rv_k\n",
    "        \"\"\"\n",
    "        ID = 'rv_output_dep_KSEG1'\n",
    "        rv_output_dep_KSEG1 = pm.Normal(ID, \n",
    "            mu = rv_intercept_dep_KSEG1 +\\\n",
    "            rv_tSlope_dep_KSEG1*rv_t +\\\n",
    "            rv_kSlope_dep_KSEG1*rv_k,\n",
    "            sd = eval(dfRV.loc[ID,DP]['sd'])) #\n",
    "\n",
    "    return pm_model1_trained\n",
    "\n",
    "pm_model1_trained= get_pm_model1_trained(df_model1_trainedTable)\n",
    "gv1 = pm.model_to_graphviz(pm_model1_trained)\n",
    "display(gv1)"
   ]
  },
  {
   "cell_type": "code",
   "execution_count": null,
   "metadata": {
    "id": "bqb-LTorenJt",
    "jupyter": {
     "outputs_hidden": true
    }
   },
   "outputs": [],
   "source": [
    "if True:\n",
    "    n_t = 21 # 20 \n",
    "    n_k = 20 # 20 \n",
    "    Ts = np.linspace(0,100, n_t)\n",
    "    Ks = np.linspace(100/n_k,100, n_k)\n",
    "    \n",
    "    deps_mean = np.zeros((n_k, n_t))\n",
    "    deps_std = np.zeros((n_k, n_t))\n",
    "\n",
    "    for i,k in enumerate(Ks):\n",
    "        for j,t in enumerate(Ts):\n",
    "            cur_model= get_pm_model1_trained(df_model1_trainedTable, observed_k= k, observed_t= t)\n",
    "            with cur_model:\n",
    "                cur_trace = pm.sample(2000, chains=4, progressbar = False);\n",
    "            print(f\"i,t={i,t}, j,k={j,k}\")\n",
    "    \n",
    "            deps_mean[i,j] = cur_trace.rv_output_dep_KSEG1.mean() \n",
    "            deps_std[i,j] = cur_trace.rv_output_dep_KSEG1.std();"
   ]
  },
  {
   "cell_type": "code",
   "execution_count": null,
   "metadata": {
    "id": "q06rq_XSfD4a"
   },
   "outputs": [],
   "source": [
    "\n",
    "if False:\n",
    "    np.save(\"trained_dep_KSEG_mean_21x20\", deps_mean)\n",
    "    np.save(\"trained_dep_KSEG_std_21x20\", deps_std)\n"
   ]
  },
  {
   "cell_type": "code",
   "execution_count": null,
   "metadata": {},
   "outputs": [],
   "source": [
    "# import pickle\n",
    "n_t = 21 # 20 \n",
    "n_k = 20 # 20 \n",
    "Ts = np.linspace(0,100, n_t)\n",
    "Ks = np.linspace(100/n_k,100, n_k)\n",
    "\n",
    "deps_mean = np.load('trained_dep_KSEG_mean_21x20.npy')"
   ]
  },
  {
   "cell_type": "code",
   "execution_count": null,
   "metadata": {},
   "outputs": [],
   "source": [
    "if True:\n",
    "    DataToPlot[3] = [[Ts,Ks],[deps_mean]]\n",
    "    plotWhat=[True,False,False,True]\n",
    "\n",
    "    plotData(DataToPlot, plotWhat)"
   ]
  },
  {
   "cell_type": "code",
   "execution_count": null,
   "metadata": {},
   "outputs": [],
   "source": []
  }
 ],
 "metadata": {
  "celltoolbar": "Slideshow",
  "colab": {
   "collapsed_sections": [],
   "name": "model1_surrogate.ipynb",
   "provenance": []
  },
  "kernelspec": {
   "display_name": "Python 3",
   "language": "python",
   "name": "python3"
  },
  "language_info": {
   "codemirror_mode": {
    "name": "ipython",
    "version": 3
   },
   "file_extension": ".py",
   "mimetype": "text/x-python",
   "name": "python",
   "nbconvert_exporter": "python",
   "pygments_lexer": "ipython3",
   "version": "3.8.5"
  },
  "toc": {
   "base_numbering": 1,
   "nav_menu": {},
   "number_sections": true,
   "sideBar": true,
   "skip_h1_title": false,
   "title_cell": "Table of Contents",
   "title_sidebar": "Contents",
   "toc_cell": false,
   "toc_position": {},
   "toc_section_display": true,
   "toc_window_display": false
  },
  "varInspector": {
   "cols": {
    "lenName": 16,
    "lenType": 16,
    "lenVar": 40
   },
   "kernels_config": {
    "python": {
     "delete_cmd_postfix": "",
     "delete_cmd_prefix": "del ",
     "library": "var_list.py",
     "varRefreshCmd": "print(var_dic_list())"
    },
    "r": {
     "delete_cmd_postfix": ") ",
     "delete_cmd_prefix": "rm(",
     "library": "var_list.r",
     "varRefreshCmd": "cat(var_dic_list()) "
    }
   },
   "types_to_exclude": [
    "module",
    "function",
    "builtin_function_or_method",
    "instance",
    "_Feature"
   ],
   "window_display": false
  }
 },
 "nbformat": 4,
 "nbformat_minor": 4
}
