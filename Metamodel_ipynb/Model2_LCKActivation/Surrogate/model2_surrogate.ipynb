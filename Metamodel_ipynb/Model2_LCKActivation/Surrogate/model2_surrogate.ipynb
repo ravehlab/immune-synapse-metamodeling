{
  "nbformat": 4,
  "nbformat_minor": 0,
  "metadata": {
    "colab": {
      "name": "model2_surrogate.ipynb",
      "provenance": [],
      "collapsed_sections": []
    },
    "kernelspec": {
      "name": "python3",
      "display_name": "Python 3"
    }
  },
  "cells": [
    {
      "cell_type": "code",
      "metadata": {
        "id": "Y-bP5TD9En2v",
        "colab": {
          "base_uri": "https://localhost:8080/"
        },
        "outputId": "34ebfce1-a88b-4896-f0e6-12580f617595"
      },
      "source": [
        "# !pip install arviz -q #==0.6.1\n",
        "# !pip install Theano==1.0.5 -q\n",
        "# !pip install pymc3==3.9.3 -q\n",
        "\n",
        "!pip install arviz==0.6.1 -q\n",
        "!pip install pymc3==3.8 -q\n",
        "!pip install Theano==1.0.4 -q"
      ],
      "execution_count": null,
      "outputs": [
        {
          "output_type": "stream",
          "text": [
            "\u001b[K     |████████████████████████████████| 1.4MB 6.0MB/s \n",
            "\u001b[K     |████████████████████████████████| 4.7MB 38.0MB/s \n",
            "\u001b[K     |████████████████████████████████| 317kB 47.6MB/s \n",
            "\u001b[K     |████████████████████████████████| 911kB 4.1MB/s \n",
            "\u001b[K     |████████████████████████████████| 2.8MB 5.7MB/s \n",
            "\u001b[?25h  Building wheel for Theano (setup.py) ... \u001b[?25l\u001b[?25hdone\n"
          ],
          "name": "stdout"
        }
      ]
    },
    {
      "cell_type": "code",
      "metadata": {
        "colab": {
          "base_uri": "https://localhost:8080/"
        },
        "id": "gajUOuJxEo67",
        "outputId": "44cad679-1363-4d96-fbd8-f9b847104146"
      },
      "source": [
        "import numpy as np\n",
        "import scipy as sp\n",
        "import pymc3 as pm\n",
        "import pandas as pd\n",
        "import matplotlib.pyplot as plt\n",
        "import seaborn as sns\n",
        "import theano.tensor as tt\n",
        "import scipy.stats as stats\n",
        "import arviz as az\n",
        "\n",
        "print('Running on PyMC3 v{}'.format(pm.__version__))\n",
        "print('Running on ArviZ v{}'.format(az.__version__))"
      ],
      "execution_count": null,
      "outputs": [
        {
          "output_type": "stream",
          "text": [
            "Running on PyMC3 v3.8\n",
            "Running on ArviZ v0.6.1\n"
          ],
          "name": "stdout"
        }
      ]
    },
    {
      "cell_type": "code",
      "metadata": {
        "id": "Aa3eX_fXPp0k"
      },
      "source": [
        "lambdaALCK_array0 = -1*np.array([[-0.014657,-0.014447,-0.014664,-0.015526,-0.01714,-0.022992,-0.034524,-0.070557,-0.11387,-0.20832,-0.01],\n",
        "[-0.012456,-0.012384,-0.013487,-0.013015,-0.01379,-0.018903,-0.03389,-0.052318,-0.093198,-0.15276,-0.01],\n",
        "[-0.0098342,-0.0096907,-0.0098001,-0.010041,-0.011918,-0.017406,-0.026369,-0.039222,-0.057673,-0.11743,-0.01],\n",
        "[-0.0080017,-0.0077559,-0.0076087,-0.0082535,-0.0099144,-0.012286,-0.01889,-0.03604,-0.054248,-0.095491,-0.01],\n",
        "[-0.0058524,-0.0056572,-0.0072154,-0.0066482,-0.0078467,-0.010037,-0.014898,-0.028174,-0.04584,-0.071974,-0.01],\n",
        "[-0.0046865,-0.0047947,-0.0044626,-0.0045893,-0.0049986,-0.0081368,-0.014763,-0.019339,-0.035599,-0.060622,-0.01],\n",
        "[-0.0036558,-0.0031606,-0.0036487,-0.0046674,-0.0031157,-0.0048789,-0.011206,-0.019952,-0.028773,-0.07807,-0.01],\n",
        "[-0.0024369,-0.0024442,-0.0025014,-0.0024395,-0.0035739,-0.0049891,-0.0062023,-0.010665,-0.018304,-0.029732,-0.01],\n",
        "[-0.0016189,-0.0017432,-0.0013415,-0.0026006,-0.0021152,-0.0028547,-0.0089079,-0.0074472,-0.017615,-0.024174,-0.01],\n",
        "[-0.0013258,-0.00074239,-0.00067486,-0.0013035,-0.0019591,-0.0021911,-0.0065414,-0.0074576,-0.016519,-0.65039,-0.01],\n",
        "[-0.00060974,-0.00027457,-0.00018559,-0.00016811,-0.00085357,-0.0020511,-0.0026312,-0.0053513,-0.038536,-0.014071,-0.01],\n",
        "[-0.00052181,-0.00050238,-0.00016453,-0.00011248,-0.00068145,-0.00015995,-0.0014959,-0.0041252,-0.0048673,-0.0055963,-0.01],\n",
        "[-7.0125e-05,-0.00049168,-0.00062104,-0.00094581,-6.2083e-05,-0.0002202,-0.00032468,-0.0053617,-0.01093,-0.01741,-0.01]])\n",
        "\n",
        "lambdaALCK_array = lambdaALCK_array0[:,:-1]\n",
        "\n",
        "# np.save(\"model2_evidence_lambdaALCK\", lambdaALCK_array)\n",
        "# from google.colab import files\n",
        "# files.download(\"model2_evidence_lambdaALCK.npy\") # Download locally from colab"
      ],
      "execution_count": null,
      "outputs": []
    },
    {
      "cell_type": "code",
      "metadata": {
        "id": "HkCQCSELqBy-"
      },
      "source": [
        "decaylengthALCK_array = 1/lambdaALCK_array"
      ],
      "execution_count": null,
      "outputs": []
    },
    {
      "cell_type": "code",
      "metadata": {
        "colab": {
          "base_uri": "https://localhost:8080/"
        },
        "id": "E2NzRKR4JZcx",
        "outputId": "0b73ac42-3d9d-4a16-aa71-4f04e6e8909f"
      },
      "source": [
        "N_Diff = lambdaALCK_array.shape[0]\n",
        "N_Poff = lambdaALCK_array.shape[0]\n",
        "\n",
        "logDiff = np.arange(-3, 0.25, 0.25); print(['logDiff.shape =',logDiff.shape])\n",
        "logPoff = np.arange(-5, 0.0, 0.5); print(['logPoff.shape =',logPoff.shape])\n",
        "\n",
        "logPoff_array, logDiff_array  = np.meshgrid(logPoff, logDiff)\n"
      ],
      "execution_count": null,
      "outputs": [
        {
          "output_type": "stream",
          "text": [
            "['logDiff.shape =', (13,)]\n",
            "['logPoff.shape =', (10,)]\n"
          ],
          "name": "stdout"
        }
      ]
    },
    {
      "cell_type": "code",
      "metadata": {
        "colab": {
          "base_uri": "https://localhost:8080/",
          "height": 270
        },
        "id": "qnnOIrFhXMIA",
        "outputId": "8348a574-9487-4174-9e8f-b5b244bbc325"
      },
      "source": [
        "# plot input data\n",
        "\n",
        "\n",
        "fig, ax0 = plt.subplots(figsize=[3, 3])\n",
        "vmin0 = 0; vmax0 = 0.1 #150\n",
        "im0 = ax0.pcolor(logPoff, logDiff, lambdaALCK_array, vmin=vmin0, vmax=vmax0)\n",
        "# ax0[0].contour(log_Poff_array, log_Diff_array, lambda_aLCK_array, \\\n",
        "#    vmin=vmin0, vmax=vmax0, colors='w')\n",
        "# im0 = ax0.pcolor(logPoff, logDiff, decaylengthALCK_array)\n",
        "# ax0.contour(logPoff, logDiff, decaylengthALCK_array, colors='w')\n",
        "fig.colorbar(im0, ax=ax0)\n",
        "ax0.set_title('$\\lambda_{LCK*}^{LA}$ \\nEvidence')\n",
        "ax0.set_xlabel('$log_{10}(Poff_{LCK*}^{LA}$)')\n",
        "ax0.set_ylabel('$log_{10}(D_{LCK*}^{LA}(\\mu m^2/sec)$)');"
      ],
      "execution_count": null,
      "outputs": [
        {
          "output_type": "display_data",
          "data": {
            "image/png": "[encoded data removed]",
            "text/plain": [
              "<Figure size 216x216 with 2 Axes>"
            ]
          },
          "metadata": {
            "tags": [],
            "needs_background": "light"
          }
        }
      ]
    },
    {
      "cell_type": "code",
      "metadata": {
        "colab": {
          "base_uri": "https://localhost:8080/",
          "height": 261
        },
        "id": "--XqvwsQS5WS",
        "outputId": "197754eb-f1eb-47cb-ea66-ca7e86c153ac"
      },
      "source": [
        "Diff_ind = 2\n",
        "Poff_ind = 8\n",
        "\n",
        "\n",
        "# min1 = 0\n",
        "maxPoff = 1.2 #0.3\n",
        "cenPoff = -0.0\n",
        "devPoff = 0.7\n",
        "sigPoff = maxPoff/(1 + np.exp(-(logPoff - cenPoff)/devPoff))\n",
        "sigPoff_array = maxPoff/(1 + np.exp(-(logPoff_array - cenPoff)/devPoff))\n",
        "\n",
        "# min2 = 0\n",
        "maxDiff = 1.0 #0.2\n",
        "cenDiff = -3\n",
        "devDiff = -0.7\n",
        "sigDiff = maxDiff/(1 + np.exp(-(logDiff - cenDiff)/devDiff))\n",
        "sigDiff_array = maxDiff/(1 + np.exp(-(logDiff_array - cenDiff)/devDiff))\n",
        "\n",
        "test_array = sigPoff_array * sigDiff_array\n",
        "\n",
        "\n",
        "fig, ax1 = plt.subplots(1,4, figsize=[13, 3.5])\n",
        "vmin0 = 0\n",
        "vmax0 = 0.1\n",
        "im0 = ax1[0].pcolor(logPoff, logDiff, lambdaALCK_array, vmin=vmin0, vmax=vmax0)\n",
        "ax1[0].contour(logPoff, logDiff, lambdaALCK_array, colors='w', vmin=vmin0, vmax=vmax0)\n",
        "fig.colorbar(im0, ax=ax1[0])\n",
        "ax1[0].plot([-5, -0.5],[logDiff[Diff_ind], logDiff[Diff_ind]],'-', color=[0.2, 0.5, 1.0])\n",
        "ax1[0].plot([logPoff[Poff_ind], logPoff[Poff_ind]],[-3, 0],'--', color=[0.2, 0.5, 1.0])\n",
        "ax1[0].set_title('$\\lambda_{LCK*}^{LA}$ Evidence')\n",
        "ax1[0].set_xlabel('$log_{10}(Poff_{LCK*}^{LA}$)')\n",
        "ax1[0].set_ylabel('$log_{10}(D_{LCK*}^{LA}(\\mu m^2/sec)$)');\n",
        "\n",
        "ax1[1].plot(logPoff, lambdaALCK_array[Diff_ind,:])\n",
        "ax1[1].plot(logPoff, sigPoff)\n",
        "ax1[1].set_xlabel('$log_{10}Poff$')\n",
        "\n",
        "ax1[2].plot(logDiff, lambdaALCK_array[:,Poff_ind],'--')\n",
        "ax1[2].plot(logDiff, sigDiff,'--')\n",
        "ax1[2].set_xlabel('$log_{10}Diff$')\n",
        "\n",
        "im3 = ax1[3].pcolor(logPoff, logDiff, test_array, vmin=vmin0, vmax=vmax0) #, vmin=vmin0, vmax=vmax0\n",
        "ax1[3].contour(logPoff, logDiff, test_array,colors='w', vmin=vmin0, vmax=vmax0)\n",
        "fig.colorbar(im3, ax=ax1[3])\n",
        "ax1[3].set_title('$\\lambda_{LCK*}^{LA}$ Test')\n",
        "ax1[3].set_xlabel('$log_{10}(Poff_{LCK*}^{LA}$)')\n",
        "ax1[3].set_ylabel('$log_{10}(D_{LCK*}^{LA}(\\mu m^2/sec)$)');\n",
        "\n",
        "plt.tight_layout()"
      ],
      "execution_count": null,
      "outputs": [
        {
          "output_type": "display_data",
          "data": {
            "image/png": "[encoded data removed]",
            "text/plain": [
              "<Figure size 936x252 with 6 Axes>"
            ]
          },
          "metadata": {
            "tags": [],
            "needs_background": "light"
          }
        }
      ]
    },
    {
      "cell_type": "code",
      "metadata": {
        "id": "Kg9z3-aXkb9B"
      },
      "source": [
        "        # maxDiff:\n",
        "        mu_rv_maxDiff_lambdaALCK_LA2 = 1.0\n",
        "        sd_rv_maxDiff_lambdaALCK_LA2 = 0.3\n",
        "        lower_rv_maxDiff_lambdaALCK_LA2 = 0.0\n",
        "        upper_rv_maxDiff_lambdaALCK_LA2 = None\n",
        "        \n",
        "        # center_logDiff:\n",
        "        mu_rv_center_logDiff_lambdaALCK_LA2 = -3.0\n",
        "        sd_rv_center_logDiff_lambdaALCK_LA2 = 0.5\n",
        "        \n",
        "        # devisor_logDiff:\n",
        "        mu_rv_devisor_logDiff_lambdaALCK_LA2 = -0.7\n",
        "        sd_rv_devisor_logDiff_lambdaALCK_LA2 = 0.3\n",
        "        lower_rv_devisor_logDiff_lambdaALCK_LA2 = None\n",
        "        upper_rv_devisor_logDiff_lambdaALCK_LA2 = 0\n",
        "\n",
        "        # maxPoff:\n",
        "        mu_rv_maxPoff_lambdaALCK_LA2 = 1.0\n",
        "        sd_rv_maxPoff_lambdaALCK_LA2 = 0.3\n",
        "        lower_rv_maxPoff_lambdaALCK_LA2 = 0.0\n",
        "        upper_rv_maxPoff_lambdaALCK_LA2 = None\n",
        "\n",
        "        # center_logPoff:\n",
        "        mu_rv_center_logPoff_lambdaALCK_LA2 = 0\n",
        "        sd_rv_center_logPoff_lambdaALCK_LA2 = 1.0\n",
        "        \n",
        "        # devisor_logPoff:\n",
        "        mu_rv_devisor_logPoff_lambdaALCK_LA2 = 0.5\n",
        "        sd_rv_devisor_logPoff_lambdaALCK_LA2 = 0.2\n",
        "        lower_rv_devisor_logPoff_lambdaALCK_LA2 = 0\n",
        "        upper_rv_devisor_logPoff_lambdaALCK_LA2 = None\n",
        "\n",
        "        # noise:\n",
        "        sd_noise_lambdaALCK_LA2 = 0.2"
      ],
      "execution_count": null,
      "outputs": []
    },
    {
      "cell_type": "code",
      "metadata": {
        "colab": {
          "base_uri": "https://localhost:8080/",
          "height": 269
        },
        "id": "vHYy7MlfTPSL",
        "outputId": "88b06138-fe0b-4c22-f00e-6bac85e7ba13"
      },
      "source": [
        "### model2 - LA (LCK activation) ####################################\n",
        "def get_model2_untrained(logDiff_array, logPoff_array, lambdaALCK_array):\n",
        "    '''\n",
        "    TODO: add proper documentation\n",
        "    '''\n",
        "    model2 = pm.Model()\n",
        "    with model2:\n",
        "        # dw_aLCK_LA ########################################################\n",
        "        # describing the behaviour of the distribution width (dw) of aLCK\n",
        "        logDiff_obs = logDiff_array.reshape(-1) \n",
        "        logPoff_obs = logPoff_array.reshape(-1)\n",
        "        lambdaALCK_obs = lambdaALCK_array.reshape(-1)\n",
        "        \n",
        "        rv_logDiff = pm.Uniform('rv_logDiff', -3, 0, observed=logDiff_obs)\n",
        "        rv_logPoff = pm.Uniform('rv_logPoff', -5, 0, observed=logPoff_obs)\n",
        "\n",
        "        # maxDiff lambdaALCK:\n",
        "        rv_maxDiff_lambdaALCK_LA2 = \\\n",
        "            pm.TruncatedNormal('rv_maxDiff_lambdaALCK_LA2',\n",
        "                                mu = mu_rv_maxDiff_lambdaALCK_LA2,\n",
        "                                sd = sd_rv_maxDiff_lambdaALCK_LA2,\n",
        "                                lower = lower_rv_maxDiff_lambdaALCK_LA2,\n",
        "                                upper = upper_rv_maxDiff_lambdaALCK_LA2)\n",
        "        \n",
        "        # center_logDiff:\n",
        "        rv_center_logDiff_lambdaALCK_LA2 = \\\n",
        "            pm.Normal('rv_center_logDiff_lambdaALCK_LA2',\n",
        "                    mu = mu_rv_center_logDiff_lambdaALCK_LA2, \n",
        "                    sd = sd_rv_center_logDiff_lambdaALCK_LA2)\n",
        "\n",
        "        # devisor_logDiff:\n",
        "        rv_devisor_logDiff_lambdaALCK_LA2 = \\\n",
        "            pm.TruncatedNormal('rv_devisor_logDiff_lambdaALCK_LA2',\n",
        "                                mu = mu_rv_devisor_logDiff_lambdaALCK_LA2, \n",
        "                                sd = sd_rv_devisor_logDiff_lambdaALCK_LA2,\n",
        "                                lower = lower_rv_devisor_logDiff_lambdaALCK_LA2,\n",
        "                                upper = upper_rv_devisor_logDiff_lambdaALCK_LA2)\n",
        "        \n",
        "        # maxPoff:\n",
        "        rv_maxPoff_lambdaALCK_LA2 = \\\n",
        "            pm.TruncatedNormal('rv_maxPoff_lambdaALCK_LA2',\n",
        "                                mu = mu_rv_maxPoff_lambdaALCK_LA2,\n",
        "                                sd = sd_rv_maxPoff_lambdaALCK_LA2,\n",
        "                                lower = lower_rv_maxPoff_lambdaALCK_LA2,\n",
        "                                upper = upper_rv_maxPoff_lambdaALCK_LA2)\n",
        "        \n",
        "        # center_logPoff:\n",
        "        rv_center_logPoff_lambdaALCK_LA2 = \\\n",
        "            pm.Normal('rv_center_logPoff_lambdaALCK_LA2',\n",
        "                    mu = mu_rv_center_logPoff_lambdaALCK_LA2, \n",
        "                    sd = sd_rv_center_logPoff_lambdaALCK_LA2)\n",
        "         \n",
        "        # devisor_logPoff:\n",
        "        rv_devisor_logPoff_lambdaALCK_LA2 = \\\n",
        "            pm.TruncatedNormal('rv_devisor_logPoff_lambdaALCK_LA2',\n",
        "                                mu = mu_rv_devisor_logPoff_lambdaALCK_LA2,\n",
        "                                sd = sd_rv_devisor_logPoff_lambdaALCK_LA2,\n",
        "                                lower = lower_rv_devisor_logPoff_lambdaALCK_LA2,\n",
        "                                upper = upper_rv_devisor_logPoff_lambdaALCK_LA2)\n",
        "\n",
        "        # noise:\n",
        "        rv_noise_lambdaALCK_LA2 = \\\n",
        "            pm.HalfNormal('rv_noise_lambdaALCK_LA2',\n",
        "                        sd = sd_noise_lambdaALCK_LA2)\n",
        "\n",
        "        # exponent of logDiff sigmoid:\n",
        "        rv_tmp_x1 = (rv_logDiff - rv_center_logDiff_lambdaALCK_LA2)/\\\n",
        "            rv_devisor_logDiff_lambdaALCK_LA2\n",
        "\n",
        "        # logDiff sigmoid:\n",
        "        rv_tmp_sig1 = rv_maxDiff_lambdaALCK_LA2/(1 + np.exp(-rv_tmp_x1))\n",
        "        \n",
        "        # exponent of logPoff sigmoid:\n",
        "        rv_tmp_x2 = (rv_logPoff - rv_center_logPoff_lambdaALCK_LA2)/\\\n",
        "            rv_devisor_logPoff_lambdaALCK_LA2\n",
        "\n",
        "        # logPoff sigmoid:\n",
        "        rv_tmp_sig2 = rv_maxPoff_lambdaALCK_LA2/(1 + np.exp(-rv_tmp_x2))\n",
        "\n",
        "        # lambdaALCK:\n",
        "        rv_lambdaALCK_LA2 = \\\n",
        "            pm.Normal('rv_lambdaALCK_LA2', \n",
        "            mu = rv_tmp_sig1*rv_tmp_sig2,\n",
        "            sd=rv_noise_lambdaALCK_LA2, \n",
        "            observed=lambdaALCK_obs)\n",
        "        \n",
        "    return model2    \n",
        "\n",
        "model2 = get_model2_untrained(logDiff_array, logPoff_array, lambdaALCK_array)\n",
        "gv2 = pm.model_to_graphviz(model2)\n",
        "gv2"
      ],
      "execution_count": null,
      "outputs": [
        {
          "output_type": "execute_result",
          "data": {
            "text/plain": [
              "<graphviz.dot.Digraph at 0x7f1272c673d0>"
            ],
            "image/svg+xml": "<?xml version=\"1.0\" encoding=\"UTF-8\" standalone=\"no\"?>\n<!DOCTYPE svg PUBLIC \"-//W3C//DTD SVG 1.1//EN\"\n \"http://www.w3.org/Graphics/SVG/1.1/DTD/svg11.dtd\">\n<!-- Generated by graphviz version 2.40.1 (20161225.0304)\n -->\n<!-- Title: %3 Pages: 1 -->\n<svg width=\"3481pt\" height=\"171pt\"\n viewBox=\"0.00 0.00 3480.93 171.00\" xmlns=\"http://www.w3.org/2000/svg\" xmlns:xlink=\"http://www.w3.org/1999/xlink\">\n<g id=\"graph0\" class=\"graph\" transform=\"scale(1 1) rotate(0) translate(4 167)\">\n<title>%3</title>\n<polygon fill=\"#ffffff\" stroke=\"transparent\" points=\"-4,4 -4,-167 3476.9325,-167 3476.9325,4 -4,4\"/>\n<g id=\"clust1\" class=\"cluster\">\n<title>cluster130</title>\n<path fill=\"none\" stroke=\"#000000\" d=\"M20,-8C20,-8 404,-8 404,-8 410,-8 416,-14 416,-20 416,-20 416,-143 416,-143 416,-149 410,-155 404,-155 404,-155 20,-155 20,-155 14,-155 8,-149 8,-143 8,-143 8,-20 8,-20 8,-14 14,-8 20,-8\"/>\n<text text-anchor=\"middle\" x=\"396.5\" y=\"-15.8\" font-family=\"Times,serif\" font-size=\"14.00\" fill=\"#000000\">130</text>\n</g>\n<!-- rv_logDiff -->\n<g id=\"node1\" class=\"node\">\n<title>rv_logDiff</title>\n<ellipse fill=\"#d3d3d3\" stroke=\"#000000\" cx=\"315\" cy=\"-129\" rx=\"92.8835\" ry=\"18\"/>\n<text text-anchor=\"middle\" x=\"315\" y=\"-125.3\" font-family=\"Times,serif\" font-size=\"14.00\" fill=\"#000000\">rv_logDiff ~ Uniform</text>\n</g>\n<!-- rv_lambdaALCK_LA2 -->\n<g id=\"node3\" class=\"node\">\n<title>rv_lambdaALCK_LA2</title>\n<ellipse fill=\"#d3d3d3\" stroke=\"#000000\" cx=\"271\" cy=\"-57\" rx=\"137.2758\" ry=\"18\"/>\n<text text-anchor=\"middle\" x=\"271\" y=\"-53.3\" font-family=\"Times,serif\" font-size=\"14.00\" fill=\"#000000\">rv_lambdaALCK_LA2 ~ Normal</text>\n</g>\n<!-- rv_logDiff&#45;&gt;rv_lambdaALCK_LA2 -->\n<g id=\"edge1\" class=\"edge\">\n<title>rv_logDiff&#45;&gt;rv_lambdaALCK_LA2</title>\n<path fill=\"none\" stroke=\"#000000\" d=\"M303.8969,-110.8314C298.9326,-102.7079 292.9778,-92.9637 287.5072,-84.0118\"/>\n<polygon fill=\"#000000\" stroke=\"#000000\" points=\"290.4536,-82.121 282.2526,-75.4133 284.4806,-85.7712 290.4536,-82.121\"/>\n</g>\n<!-- rv_logPoff -->\n<g id=\"node2\" class=\"node\">\n<title>rv_logPoff</title>\n<ellipse fill=\"#d3d3d3\" stroke=\"#000000\" cx=\"110\" cy=\"-129\" rx=\"93.6835\" ry=\"18\"/>\n<text text-anchor=\"middle\" x=\"110\" y=\"-125.3\" font-family=\"Times,serif\" font-size=\"14.00\" fill=\"#000000\">rv_logPoff ~ Uniform</text>\n</g>\n<!-- rv_logPoff&#45;&gt;rv_lambdaALCK_LA2 -->\n<g id=\"edge6\" class=\"edge\">\n<title>rv_logPoff&#45;&gt;rv_lambdaALCK_LA2</title>\n<path fill=\"none\" stroke=\"#000000\" d=\"M147.3413,-112.3008C169.8112,-102.2521 198.6505,-89.3551 222.8255,-78.5439\"/>\n<polygon fill=\"#000000\" stroke=\"#000000\" points=\"224.4805,-81.6379 232.1803,-74.3603 221.6227,-75.2478 224.4805,-81.6379\"/>\n</g>\n<!-- rv_noise_lambdaALCK_LA2 -->\n<g id=\"node4\" class=\"node\">\n<title>rv_noise_lambdaALCK_LA2</title>\n<ellipse fill=\"none\" stroke=\"#000000\" cx=\"603\" cy=\"-129\" rx=\"177.3685\" ry=\"18\"/>\n<text text-anchor=\"middle\" x=\"603\" y=\"-125.3\" font-family=\"Times,serif\" font-size=\"14.00\" fill=\"#000000\">rv_noise_lambdaALCK_LA2 ~ HalfNormal</text>\n</g>\n<!-- rv_noise_lambdaALCK_LA2&#45;&gt;rv_lambdaALCK_LA2 -->\n<g id=\"edge2\" class=\"edge\">\n<title>rv_noise_lambdaALCK_LA2&#45;&gt;rv_lambdaALCK_LA2</title>\n<path fill=\"none\" stroke=\"#000000\" d=\"M527.6641,-112.6621C475.2531,-101.2959 405.4485,-86.1575 351.868,-74.5376\"/>\n<polygon fill=\"#000000\" stroke=\"#000000\" points=\"352.5746,-71.1096 342.06,-72.4106 351.091,-77.9506 352.5746,-71.1096\"/>\n</g>\n<!-- rv_devisor_logPoff_lambdaALCK_LA2 -->\n<g id=\"node5\" class=\"node\">\n<title>rv_devisor_logPoff_lambdaALCK_LA2</title>\n<ellipse fill=\"none\" stroke=\"#000000\" cx=\"1038\" cy=\"-129\" rx=\"239.3577\" ry=\"18\"/>\n<text text-anchor=\"middle\" x=\"1038\" y=\"-125.3\" font-family=\"Times,serif\" font-size=\"14.00\" fill=\"#000000\">rv_devisor_logPoff_lambdaALCK_LA2 ~ TruncatedNormal</text>\n</g>\n<!-- rv_devisor_logPoff_lambdaALCK_LA2&#45;&gt;rv_lambdaALCK_LA2 -->\n<g id=\"edge3\" class=\"edge\">\n<title>rv_devisor_logPoff_lambdaALCK_LA2&#45;&gt;rv_lambdaALCK_LA2</title>\n<path fill=\"none\" stroke=\"#000000\" d=\"M888.2939,-114.9468C743.7252,-101.3758 527.4781,-81.0762 393.0461,-68.4567\"/>\n<polygon fill=\"#000000\" stroke=\"#000000\" points=\"392.9921,-64.9364 382.7087,-67.4863 392.3378,-71.9057 392.9921,-64.9364\"/>\n</g>\n<!-- rv_devisor_logDiff_lambdaALCK_LA2 -->\n<g id=\"node6\" class=\"node\">\n<title>rv_devisor_logDiff_lambdaALCK_LA2</title>\n<ellipse fill=\"none\" stroke=\"#000000\" cx=\"1534\" cy=\"-129\" rx=\"238.5577\" ry=\"18\"/>\n<text text-anchor=\"middle\" x=\"1534\" y=\"-125.3\" font-family=\"Times,serif\" font-size=\"14.00\" fill=\"#000000\">rv_devisor_logDiff_lambdaALCK_LA2 ~ TruncatedNormal</text>\n</g>\n<!-- rv_devisor_logDiff_lambdaALCK_LA2&#45;&gt;rv_lambdaALCK_LA2 -->\n<g id=\"edge8\" class=\"edge\">\n<title>rv_devisor_logDiff_lambdaALCK_LA2&#45;&gt;rv_lambdaALCK_LA2</title>\n<path fill=\"none\" stroke=\"#000000\" d=\"M1364.9392,-116.2909C1338.5225,-114.4317 1311.5271,-112.6053 1286,-111 973.3259,-91.3374 606.1678,-72.9756 410.4778,-63.5672\"/>\n<polygon fill=\"#000000\" stroke=\"#000000\" points=\"410.5835,-60.0684 400.4271,-63.0846 410.2477,-67.0603 410.5835,-60.0684\"/>\n</g>\n<!-- rv_maxDiff_lambdaALCK_LA2 -->\n<g id=\"node7\" class=\"node\">\n<title>rv_maxDiff_lambdaALCK_LA2</title>\n<ellipse fill=\"none\" stroke=\"#000000\" cx=\"2000\" cy=\"-129\" rx=\"209.8628\" ry=\"18\"/>\n<text text-anchor=\"middle\" x=\"2000\" y=\"-125.3\" font-family=\"Times,serif\" font-size=\"14.00\" fill=\"#000000\">rv_maxDiff_lambdaALCK_LA2 ~ TruncatedNormal</text>\n</g>\n<!-- rv_maxDiff_lambdaALCK_LA2&#45;&gt;rv_lambdaALCK_LA2 -->\n<g id=\"edge4\" class=\"edge\">\n<title>rv_maxDiff_lambdaALCK_LA2&#45;&gt;rv_lambdaALCK_LA2</title>\n<path fill=\"none\" stroke=\"#000000\" d=\"M1854.367,-116.0272C1830.2093,-114.1476 1805.4093,-112.384 1782,-111 1281.5585,-81.4134 686.8519,-65.9176 417.0484,-59.955\"/>\n<polygon fill=\"#000000\" stroke=\"#000000\" points=\"416.8772,-56.4505 406.8026,-59.7297 416.7232,-63.4488 416.8772,-56.4505\"/>\n</g>\n<!-- rv_center_logDiff_lambdaALCK_LA2 -->\n<g id=\"node8\" class=\"node\">\n<title>rv_center_logDiff_lambdaALCK_LA2</title>\n<ellipse fill=\"none\" stroke=\"#000000\" cx=\"2424\" cy=\"-129\" rx=\"196.0654\" ry=\"18\"/>\n<text text-anchor=\"middle\" x=\"2424\" y=\"-125.3\" font-family=\"Times,serif\" font-size=\"14.00\" fill=\"#000000\">rv_center_logDiff_lambdaALCK_LA2 ~ Normal</text>\n</g>\n<!-- rv_center_logDiff_lambdaALCK_LA2&#45;&gt;rv_lambdaALCK_LA2 -->\n<g id=\"edge7\" class=\"edge\">\n<title>rv_center_logDiff_lambdaALCK_LA2&#45;&gt;rv_lambdaALCK_LA2</title>\n<path fill=\"none\" stroke=\"#000000\" d=\"M2288.4505,-115.945C2265.2969,-114.0455 2241.4708,-112.2968 2219,-111 1547.3906,-72.2408 743.8662,-61.1138 418.5293,-58.0772\"/>\n<polygon fill=\"#000000\" stroke=\"#000000\" points=\"418.1327,-54.5735 408.1009,-57.9812 418.0682,-61.5732 418.1327,-54.5735\"/>\n</g>\n<!-- rv_maxPoff_lambdaALCK_LA2 -->\n<g id=\"node9\" class=\"node\">\n<title>rv_maxPoff_lambdaALCK_LA2</title>\n<ellipse fill=\"none\" stroke=\"#000000\" cx=\"2850\" cy=\"-129\" rx=\"211.4628\" ry=\"18\"/>\n<text text-anchor=\"middle\" x=\"2850\" y=\"-125.3\" font-family=\"Times,serif\" font-size=\"14.00\" fill=\"#000000\">rv_maxPoff_lambdaALCK_LA2 ~ TruncatedNormal</text>\n</g>\n<!-- rv_maxPoff_lambdaALCK_LA2&#45;&gt;rv_lambdaALCK_LA2 -->\n<g id=\"edge5\" class=\"edge\">\n<title>rv_maxPoff_lambdaALCK_LA2&#45;&gt;rv_lambdaALCK_LA2</title>\n<path fill=\"none\" stroke=\"#000000\" d=\"M2704.4557,-115.9317C2679.3097,-114.0213 2653.4112,-112.2726 2629,-111 2195.5205,-88.4028 862.7988,-66.1981 417.5618,-59.2339\"/>\n<polygon fill=\"#000000\" stroke=\"#000000\" points=\"417.5847,-55.734 407.5312,-59.0773 417.4753,-62.7331 417.5847,-55.734\"/>\n</g>\n<!-- rv_center_logPoff_lambdaALCK_LA2 -->\n<g id=\"node10\" class=\"node\">\n<title>rv_center_logPoff_lambdaALCK_LA2</title>\n<ellipse fill=\"none\" stroke=\"#000000\" cx=\"3276\" cy=\"-129\" rx=\"196.8651\" ry=\"18\"/>\n<text text-anchor=\"middle\" x=\"3276\" y=\"-125.3\" font-family=\"Times,serif\" font-size=\"14.00\" fill=\"#000000\">rv_center_logPoff_lambdaALCK_LA2 ~ Normal</text>\n</g>\n<!-- rv_center_logPoff_lambdaALCK_LA2&#45;&gt;rv_lambdaALCK_LA2 -->\n<g id=\"edge9\" class=\"edge\">\n<title>rv_center_logPoff_lambdaALCK_LA2&#45;&gt;rv_lambdaALCK_LA2</title>\n<path fill=\"none\" stroke=\"#000000\" d=\"M3140.9048,-115.8751C3117.2903,-113.9584 3092.9436,-112.2223 3070,-111 2546.4037,-83.1059 917.1024,-63.8721 417.887,-58.5153\"/>\n<polygon fill=\"#000000\" stroke=\"#000000\" points=\"417.7769,-55.014 407.74,-58.4067 417.7019,-62.0136 417.7769,-55.014\"/>\n</g>\n</g>\n</svg>\n"
          },
          "metadata": {
            "tags": []
          },
          "execution_count": 9
        }
      ]
    },
    {
      "cell_type": "code",
      "metadata": {
        "id": "dEivwhLrU9Kf"
      },
      "source": [
        "# from google.colab import files\n",
        "# gv2.render(\"model2_graph\", format=\"png\")\n",
        "# files.download(\"model2_graph.png\") # Download locally from colab"
      ],
      "execution_count": null,
      "outputs": []
    },
    {
      "cell_type": "code",
      "metadata": {
        "colab": {
          "base_uri": "https://localhost:8080/"
        },
        "id": "DsIhtEyhU-iV",
        "outputId": "c6de44b9-a9a1-4bd6-a2c2-7f04d1c91f10"
      },
      "source": [
        "with model2:\n",
        "    trace2 = pm.sample(2000, chains=4)"
      ],
      "execution_count": null,
      "outputs": [
        {
          "output_type": "stream",
          "text": [
            "Auto-assigning NUTS sampler...\n",
            "Initializing NUTS using jitter+adapt_diag...\n",
            "Sequential sampling (4 chains in 1 job)\n",
            "NUTS: [rv_noise_lambdaALCK_LA2, rv_devisor_logPoff_lambdaALCK_LA2, rv_center_logPoff_lambdaALCK_LA2, rv_maxPoff_lambdaALCK_LA2, rv_devisor_logDiff_lambdaALCK_LA2, rv_center_logDiff_lambdaALCK_LA2, rv_maxDiff_lambdaALCK_LA2]\n",
            "Sampling chain 0, 0 divergences: 100%|██████████| 2500/2500 [00:14<00:00, 177.18it/s]\n",
            "Sampling chain 1, 0 divergences: 100%|██████████| 2500/2500 [00:12<00:00, 194.60it/s]\n",
            "Sampling chain 2, 0 divergences: 100%|██████████| 2500/2500 [00:12<00:00, 202.17it/s]\n",
            "Sampling chain 3, 0 divergences: 100%|██████████| 2500/2500 [00:14<00:00, 173.12it/s]\n"
          ],
          "name": "stderr"
        }
      ]
    },
    {
      "cell_type": "code",
      "metadata": {
        "id": "4JwiFXpoVBVF"
      },
      "source": [
        "pm.traceplot(trace2);"
      ],
      "execution_count": null,
      "outputs": []
    },
    {
      "cell_type": "markdown",
      "metadata": {
        "id": "k0Xe4RZTvL8G"
      },
      "source": [
        "Once the 'trace' is given, its 'summary' can be saved and all following operations can be done on the saved 'trace_summary', (trace_summary = pm.summary(trace))."
      ]
    },
    {
      "cell_type": "code",
      "metadata": {
        "colab": {
          "base_uri": "https://localhost:8080/",
          "height": 50
        },
        "id": "hAW9UjBnu8q5",
        "outputId": "09729a4b-c84d-47ab-f623-fd820192fffe"
      },
      "source": [
        "trace2_summary = pm.summary(trace2).round(3) # var_names=[\"mu\", \"tau\"]\n",
        "trace2_summary.to_pickle('trace2_summary')\n",
        "if True: # False\n",
        "    files.download(\"trace2_summary\") \n",
        "!ls"
      ],
      "execution_count": null,
      "outputs": [
        {
          "output_type": "display_data",
          "data": {
            "application/javascript": [
              "\n",
              "    async function download(id, filename, size) {\n",
              "      if (!google.colab.kernel.accessAllowed) {\n",
              "        return;\n",
              "      }\n",
              "      const div = document.createElement('div');\n",
              "      const label = document.createElement('label');\n",
              "      label.textContent = `Downloading \"${filename}\": `;\n",
              "      div.appendChild(label);\n",
              "      const progress = document.createElement('progress');\n",
              "      progress.max = size;\n",
              "      div.appendChild(progress);\n",
              "      document.body.appendChild(div);\n",
              "\n",
              "      const buffers = [];\n",
              "      let downloaded = 0;\n",
              "\n",
              "      const channel = await google.colab.kernel.comms.open(id);\n",
              "      // Send a message to notify the kernel that we're ready.\n",
              "      channel.send({})\n",
              "\n",
              "      for await (const message of channel.messages) {\n",
              "        // Send a message to notify the kernel that we're ready.\n",
              "        channel.send({})\n",
              "        if (message.buffers) {\n",
              "          for (const buffer of message.buffers) {\n",
              "            buffers.push(buffer);\n",
              "            downloaded += buffer.byteLength;\n",
              "            progress.value = downloaded;\n",
              "          }\n",
              "        }\n",
              "      }\n",
              "      const blob = new Blob(buffers, {type: 'application/binary'});\n",
              "      const a = document.createElement('a');\n",
              "      a.href = window.URL.createObjectURL(blob);\n",
              "      a.download = filename;\n",
              "      div.appendChild(a);\n",
              "      a.click();\n",
              "      div.remove();\n",
              "    }\n",
              "  "
            ],
            "text/plain": [
              "<IPython.core.display.Javascript object>"
            ]
          },
          "metadata": {
            "tags": []
          }
        },
        {
          "output_type": "display_data",
          "data": {
            "application/javascript": [
              "download(\"download_1bce7380-b4b7-4c3d-9378-899b0b18b230\", \"trace2_summary\", 1610)"
            ],
            "text/plain": [
              "<IPython.core.display.Javascript object>"
            ]
          },
          "metadata": {
            "tags": []
          }
        },
        {
          "output_type": "stream",
          "text": [
            "model2_trained_lambdaALCK_LA2_mean.npy\tsample_data\n",
            "model2_trained_lambdaALCK_LA2_std.npy\ttrace2_summary\n"
          ],
          "name": "stdout"
        }
      ]
    },
    {
      "cell_type": "markdown",
      "metadata": {
        "id": "FsVgG4B5vbHA"
      },
      "source": [
        "Read from saved (pickled) trace summary. \n",
        "Getting 'mean' and 'sd' values from 'trace_summary':"
      ]
    },
    {
      "cell_type": "code",
      "metadata": {
        "colab": {
          "base_uri": "https://localhost:8080/",
          "height": 254
        },
        "id": "Pz0hMdLuv0qW",
        "outputId": "39c36973-c865-43c0-e0f2-75193c0d7081"
      },
      "source": [
        "# r = read, to distinguish between the original and the saved files.\n",
        "trace2_summary_r = pd.read_pickle('trace2_summary') \n",
        "\n",
        "# displaying the rv names and the data of intersest: 'mean' and 'sd':\n",
        "mean_sd_r = trace2_summary_r.loc[:, ['mean','sd']]\n",
        "mean_sd_r"
      ],
      "execution_count": null,
      "outputs": [
        {
          "output_type": "execute_result",
          "data": {
            "text/html": [
              "<div>\n",
              "<style scoped>\n",
              "    .dataframe tbody tr th:only-of-type {\n",
              "        vertical-align: middle;\n",
              "    }\n",
              "\n",
              "    .dataframe tbody tr th {\n",
              "        vertical-align: top;\n",
              "    }\n",
              "\n",
              "    .dataframe thead th {\n",
              "        text-align: right;\n",
              "    }\n",
              "</style>\n",
              "<table border=\"1\" class=\"dataframe\">\n",
              "  <thead>\n",
              "    <tr style=\"text-align: right;\">\n",
              "      <th></th>\n",
              "      <th>mean</th>\n",
              "      <th>sd</th>\n",
              "    </tr>\n",
              "  </thead>\n",
              "  <tbody>\n",
              "    <tr>\n",
              "      <th>rv_center_logDiff_lambdaALCK_LA2</th>\n",
              "      <td>-2.743</td>\n",
              "      <td>0.501</td>\n",
              "    </tr>\n",
              "    <tr>\n",
              "      <th>rv_center_logPoff_lambdaALCK_LA2</th>\n",
              "      <td>-0.103</td>\n",
              "      <td>0.424</td>\n",
              "    </tr>\n",
              "    <tr>\n",
              "      <th>rv_maxDiff_lambdaALCK_LA2</th>\n",
              "      <td>1.026</td>\n",
              "      <td>0.280</td>\n",
              "    </tr>\n",
              "    <tr>\n",
              "      <th>rv_devisor_logDiff_lambdaALCK_LA2</th>\n",
              "      <td>-1.209</td>\n",
              "      <td>0.218</td>\n",
              "    </tr>\n",
              "    <tr>\n",
              "      <th>rv_maxPoff_lambdaALCK_LA2</th>\n",
              "      <td>1.027</td>\n",
              "      <td>0.281</td>\n",
              "    </tr>\n",
              "    <tr>\n",
              "      <th>rv_devisor_logPoff_lambdaALCK_LA2</th>\n",
              "      <td>0.600</td>\n",
              "      <td>0.136</td>\n",
              "    </tr>\n",
              "    <tr>\n",
              "      <th>rv_noise_lambdaALCK_LA2</th>\n",
              "      <td>0.055</td>\n",
              "      <td>0.003</td>\n",
              "    </tr>\n",
              "  </tbody>\n",
              "</table>\n",
              "</div>"
            ],
            "text/plain": [
              "                                    mean     sd\n",
              "rv_center_logDiff_lambdaALCK_LA2  -2.743  0.501\n",
              "rv_center_logPoff_lambdaALCK_LA2  -0.103  0.424\n",
              "rv_maxDiff_lambdaALCK_LA2          1.026  0.280\n",
              "rv_devisor_logDiff_lambdaALCK_LA2 -1.209  0.218\n",
              "rv_maxPoff_lambdaALCK_LA2          1.027  0.281\n",
              "rv_devisor_logPoff_lambdaALCK_LA2  0.600  0.136\n",
              "rv_noise_lambdaALCK_LA2            0.055  0.003"
            ]
          },
          "metadata": {
            "tags": []
          },
          "execution_count": 14
        }
      ]
    },
    {
      "cell_type": "markdown",
      "metadata": {
        "id": "7nNPzp4gxij1"
      },
      "source": [
        "Validation:"
      ]
    },
    {
      "cell_type": "code",
      "metadata": {
        "id": "N_cevPdXaXcu"
      },
      "source": [
        "# exponent of logDiff sigmoid:\n",
        "rv_tmp_x1_post = (logDiff_array - trace2_summary_r.loc['rv_center_logDiff_lambdaALCK_LA2','mean'])/\\\n",
        "                                  trace2_summary_r.loc['rv_devisor_logDiff_lambdaALCK_LA2','mean']\n",
        "\n",
        "# logDiff sigmoid:\n",
        "rv_tmp_sig1_post = trace2_summary_r.loc['rv_maxDiff_lambdaALCK_LA2','mean']/\\\n",
        "    (1 + np.exp(-rv_tmp_x1_post))\n",
        "\n",
        "# exponent of logPoff sigmoid:\n",
        "rv_tmp_x2_post = (logPoff_array - trace2_summary_r.loc['rv_center_logPoff_lambdaALCK_LA2','mean'])/\\\n",
        "                                  trace2_summary_r.loc['rv_devisor_logPoff_lambdaALCK_LA2','mean']\n",
        "# logPoff sigmoid:\n",
        "rv_tmp_sig2_post = trace2_summary_r.loc['rv_maxPoff_lambdaALCK_LA2','mean']/\\\n",
        "    (1 + np.exp(-rv_tmp_x2_post))\n",
        "\n",
        "# lambdaALCK_validation:\n",
        "lambdaALCK_validation = rv_tmp_sig1_post*rv_tmp_sig2_post"
      ],
      "execution_count": null,
      "outputs": []
    },
    {
      "cell_type": "code",
      "metadata": {
        "colab": {
          "base_uri": "https://localhost:8080/",
          "height": 261
        },
        "id": "H8SjXva7arFV",
        "outputId": "df107257-000b-4064-f4d7-188e295b2780"
      },
      "source": [
        "plot_contours = False\n",
        "fig, ax0 = plt.subplots(1,2, figsize=[7, 3.5], sharey=True)\n",
        "vmin0 = 0; vmax0 = 0.1 #150\n",
        "im0 = ax0[0].pcolor(logPoff, logDiff, lambdaALCK_array, vmin=vmin0, vmax=vmax0)\n",
        "if plot_contours:\n",
        "    ax0[0].contour(logPoff, logDiff, lambdaALCK_array, vmin=vmin0, vmax=vmax0, colors='w')\n",
        "\n",
        "fig.colorbar(im0, ax=ax0[0])\n",
        "ax0[0].set_title('$\\lambda_{LCK*}^{LA}$ Evidence')\n",
        "ax0[0].set_xlabel('$log_{10}(Poff_{LCK*}^{LA}$)')\n",
        "ax0[0].set_ylabel('$log_{10}(D_{LCK*}^{LA}(\\mu m^2/sec)$)')\n",
        "\n",
        "###\n",
        "im1 = ax0[1].pcolor(logPoff, logDiff, lambdaALCK_validation)\n",
        "if plot_contours: \n",
        "    ax0[1].contour(logPoff, logDiff, rv_lambdaALCK_validation, \n",
        "                   vmin=vmin0, vmax=vmax0, colors='w')\n",
        "\n",
        "fig.colorbar(im0, ax=ax0[1])\n",
        "ax0[1].set_title('$\\lambda_{LCK*}^{LA}$ Validation')\n",
        "ax0[1].set_xlabel('$log_{10}(Poff_{LCK*}^{LA}$)')\n",
        "# ax0[1].set_ylabel('$log_{10}(D_{LCK*}^{LA}(\\mu m^2/sec)$)')\n",
        "###\n",
        "\n",
        "plt.tight_layout();"
      ],
      "execution_count": null,
      "outputs": [
        {
          "output_type": "display_data",
          "data": {
            "image/png": "[encoded data removed]",
            "text/plain": [
              "<Figure size 504x252 with 4 Axes>"
            ]
          },
          "metadata": {
            "tags": [],
            "needs_background": "light"
          }
        }
      ]
    },
    {
      "cell_type": "markdown",
      "metadata": {
        "id": "3ssQNQ5tTOgu"
      },
      "source": [
        "Build trained model (with updated parameter estimates through their posteriors):"
      ]
    },
    {
      "cell_type": "code",
      "metadata": {
        "id": "_BTZe4aRTP8d"
      },
      "source": [
        "def get_model2_trained(trace2, logDiff_obs=None, logPoff_obs=None):\n",
        "    ''' return model2 trained based on trace2. \n",
        "    If observed_t and/or observed_k are specified, \n",
        "    return the model conditioned on those values '''\n",
        "    model2_trained = pm.Model()\n",
        "    with model2_trained:\n",
        "        ### model2 - LA (LCK activation) ###########################    \n",
        "        # random variables x and y\n",
        "        rv_logDiff = pm.Uniform('rv_logDiff', -3, 0, observed=logDiff_obs)\n",
        "        rv_logPoff = pm.Uniform('rv_logPoff', -5, 0, observed=logPoff_obs)\n",
        "\n",
        "        # random variables\n",
        "        rv_noise_lambdaALCK_LA2 = pm.HalfNormal('rv_noise_lambdaALCK_LA2',\n",
        "                                             sd=trace2.rv_noise_lambdaALCK_LA2.mean()) # noise \n",
        "        # Sigmoid params:\n",
        "        # Diff sigmoid max:\n",
        "        rv_maxDiff_lambdaALCK_LA2 = pm.TruncatedNormal('rv_maxDiff_lambdaALCK_LA2', \n",
        "                             mu = trace2_summary_r.loc['rv_maxDiff_lambdaALCK_LA2','mean'],\n",
        "                             sd = trace2_summary_r.loc['rv_maxDiff_lambdaALCK_LA2','sd'],\n",
        "                             lower = lower_rv_maxDiff_lambdaALCK_LA2,\n",
        "                             upper = upper_rv_maxDiff_lambdaALCK_LA2)\n",
        "        \n",
        "        # Diff sigmoid center:\n",
        "        rv_center_logDiff_lambdaALCK_LA2 = pm.Normal('rv_center_logDiff_lambdaALCK_LA2',\n",
        "                           mu = trace2_summary_r.loc['rv_center_logDiff_lambdaALCK_LA2','mean'],\n",
        "                           sd = trace2_summary_r.loc['rv_center_logDiff_lambdaALCK_LA2','sd'])\n",
        "        \n",
        "        # Diff sigmoid devisor:\n",
        "        rv_devisor_logDiff_lambdaALCK_LA2 = pm.TruncatedNormal('rv_devisor_logDiff_lambdaALCK_LA2',\n",
        "                                     mu = trace2_summary_r.loc['rv_devisor_logDiff_lambdaALCK_LA2','mean'],\n",
        "                                     sd = trace2_summary_r.loc['rv_devisor_logDiff_lambdaALCK_LA2','sd'],\n",
        "                                     lower = lower_rv_devisor_logDiff_lambdaALCK_LA2,\n",
        "                                     upper = upper_rv_devisor_logDiff_lambdaALCK_LA2)\n",
        "        \n",
        "        # Poff sigmoid max:\n",
        "        rv_maxPoff_lambdaALCK_LA2 = pm.TruncatedNormal('rv_maxPoff_lambdaALCK_LA2', \n",
        "                              mu = trace2_summary_r.loc['rv_maxPoff_lambdaALCK_LA2','mean'],\n",
        "                              sd = trace2_summary_r.loc['rv_maxPoff_lambdaALCK_LA2','sd'],\n",
        "                              lower = lower_rv_maxPoff_lambdaALCK_LA2,\n",
        "                              upper = upper_rv_maxPoff_lambdaALCK_LA2)\n",
        "        \n",
        "        # Poff sigmoid center:        \n",
        "        rv_center_logPoff_lambdaALCK_LA2 = pm.Normal('rv_center_logPoff_lambdaALCK_LA2',\n",
        "                           mu = trace2_summary_r.loc['rv_center_logPoff_lambdaALCK_LA2','mean'],\n",
        "                           sd = trace2_summary_r.loc['rv_center_logPoff_lambdaALCK_LA2','sd'])\n",
        "        \n",
        "        # Poff sigmoid devisor:\n",
        "        rv_devisor_logPoff_lambdaALCK_LA2 = pm.TruncatedNormal('rv_devisor_logPoff_lambdaALCK_LA2', \n",
        "                                     mu = trace2_summary_r.loc['rv_devisor_logPoff_lambdaALCK_LA2','mean'], \n",
        "                                     sd = trace2_summary_r.loc['rv_devisor_logPoff_lambdaALCK_LA2','mean'],\n",
        "                                     lower = lower_rv_devisor_logPoff_lambdaALCK_LA2,\n",
        "                                     upper = upper_rv_devisor_logPoff_lambdaALCK_LA2)\n",
        "\n",
        "        # exponent of logDiff sigmoid:\n",
        "        rv_tmp_x1 = (rv_logDiff - rv_center_logDiff_lambdaALCK_LA2)/\\\n",
        "        rv_devisor_logDiff_lambdaALCK_LA2\n",
        "\n",
        "        # logDiff sigmoid:\n",
        "        rv_tmp_sig1 = rv_maxDiff_lambdaALCK_LA2/(1 + np.exp(-rv_tmp_x1))\n",
        "\n",
        "        # exponent of logPoff sigmoid:\n",
        "        rv_tmp_x2 = (rv_logPoff - rv_center_logPoff_lambdaALCK_LA2)/\\\n",
        "        rv_devisor_logPoff_lambdaALCK_LA2\n",
        "\n",
        "        # logpoff sigmoid:\n",
        "        rv_tmp_sig2 = rv_maxPoff_lambdaALCK_LA2/(1 + np.exp(-rv_tmp_x2))\n",
        "\n",
        "        # lambdaALCK:\n",
        "        rv_lambdaALCK_LA2 = pm.Normal('rv_lambdaALCK_LA2', \n",
        "                                       mu = rv_tmp_sig1*rv_tmp_sig2,\n",
        "                                       sd = rv_noise_lambdaALCK_LA2)\n",
        "\n",
        "    return model2_trained   \n",
        "\n",
        "model2_trained= get_model2_trained(trace2)\n",
        "# gv2 = pm.model_to_graphviz(model2_trained)\n",
        "# display(gv2)\n"
      ],
      "execution_count": null,
      "outputs": []
    },
    {
      "cell_type": "code",
      "metadata": {
        "id": "xSDqcSNsbm5n",
        "colab": {
          "base_uri": "https://localhost:8080/"
        },
        "outputId": "0e8a4d85-0c51-4839-a9fd-70496861196b"
      },
      "source": [
        "n_logDiff = 26 \n",
        "n_logPoff = 25 \n",
        "logDiffs = np.linspace(-3, 0, n_logDiff)\n",
        "logPoffs = np.linspace(-5, 0, n_logPoff)\n",
        "\n",
        "lambdas_mean = np.zeros((n_logDiff, n_logPoff))\n",
        "lambdas_std = np.zeros((n_logDiff, n_logPoff))\n",
        "\n",
        "for i,ld in enumerate(logDiffs):\n",
        "    for j,lp in enumerate(logPoffs):\n",
        "        #try:\n",
        "        cur_model = get_model2_trained(trace2, logDiff_obs=ld, logPoff_obs=lp)\n",
        "        with cur_model:\n",
        "            cur_trace = pm.sample(2000, chains=4, progressbar = False);\n",
        "        print(f\"i,ld={i,ld}, j,lp={j,lp}\")\n",
        "        # display(pm.summary(cur_trace).round(3))\n",
        "        lambdas_mean[i,j] = cur_trace.rv_lambdaALCK_LA2.mean() \n",
        "        lambdas_std[i,j] = cur_trace.rv_lambdaALCK_LA2.std()\n",
        "        #except ValueError:   \n",
        "\n",
        "# print('Some data was wrong') \n"
      ],
      "execution_count": null,
      "outputs": [
        {
          "output_type": "stream",
          "text": [
            "There were 429 divergences after tuning. Increase `target_accept` or reparameterize.\n",
            "The acceptance probability does not match the target. It is 0.6233943088842937, but should be close to 0.8. Try to increase the number of tuning steps.\n",
            "There were 778 divergences after tuning. Increase `target_accept` or reparameterize.\n",
            "The acceptance probability does not match the target. It is 0.6383955911633531, but should be close to 0.8. Try to increase the number of tuning steps.\n",
            "There were 987 divergences after tuning. Increase `target_accept` or reparameterize.\n",
            "The acceptance probability does not match the target. It is 0.6699859189741908, but should be close to 0.8. Try to increase the number of tuning steps.\n",
            "There were 1238 divergences after tuning. Increase `target_accept` or reparameterize.\n",
            "The acceptance probability does not match the target. It is 0.6903343397361745, but should be close to 0.8. Try to increase the number of tuning steps.\n",
            "The number of effective samples is smaller than 10% for some parameters.\n"
          ],
          "name": "stderr"
        },
        {
          "output_type": "stream",
          "text": [
            "i,ld=(25, 0.0), j,lp=(24, 0.0)\n"
          ],
          "name": "stdout"
        }
      ]
    },
    {
      "cell_type": "code",
      "metadata": {
        "colab": {
          "base_uri": "https://localhost:8080/"
        },
        "id": "BxkG90Xac3oF",
        "outputId": "84d4a51f-b525-46fc-b5b3-758cf902ee27"
      },
      "source": [
        "if True:\n",
        "    np.save(\"model2_trained_lambdaALCK_LA2_mean\", lambdas_mean)\n",
        "    np.save(\"model2_trained_lambdaALCK_LA2_std\", lambdas_std)\n",
        "    !ls"
      ],
      "execution_count": null,
      "outputs": [
        {
          "output_type": "stream",
          "text": [
            "model2_trained_lambdaALCK_LA2_mean.npy\tsample_data\n",
            "model2_trained_lambdaALCK_LA2_std.npy\ttrace2_summary\n"
          ],
          "name": "stdout"
        }
      ]
    },
    {
      "cell_type": "code",
      "metadata": {
        "colab": {
          "base_uri": "https://localhost:8080/",
          "height": 17
        },
        "id": "WdTzd5ZMc__-",
        "outputId": "66ba6952-859b-45e3-fffa-6e59e91d8cf4"
      },
      "source": [
        "if True:\n",
        "    from google.colab import files\n",
        "    files.download(\"model2_trained_lambdaALCK_LA2_mean.npy\") # Download locally from colab\n",
        "    files.download(\"model2_trained_lambdaALCK_LA2_std.npy\") # Download locally from colab\n"
      ],
      "execution_count": null,
      "outputs": [
        {
          "output_type": "display_data",
          "data": {
            "application/javascript": [
              "\n",
              "    async function download(id, filename, size) {\n",
              "      if (!google.colab.kernel.accessAllowed) {\n",
              "        return;\n",
              "      }\n",
              "      const div = document.createElement('div');\n",
              "      const label = document.createElement('label');\n",
              "      label.textContent = `Downloading \"${filename}\": `;\n",
              "      div.appendChild(label);\n",
              "      const progress = document.createElement('progress');\n",
              "      progress.max = size;\n",
              "      div.appendChild(progress);\n",
              "      document.body.appendChild(div);\n",
              "\n",
              "      const buffers = [];\n",
              "      let downloaded = 0;\n",
              "\n",
              "      const channel = await google.colab.kernel.comms.open(id);\n",
              "      // Send a message to notify the kernel that we're ready.\n",
              "      channel.send({})\n",
              "\n",
              "      for await (const message of channel.messages) {\n",
              "        // Send a message to notify the kernel that we're ready.\n",
              "        channel.send({})\n",
              "        if (message.buffers) {\n",
              "          for (const buffer of message.buffers) {\n",
              "            buffers.push(buffer);\n",
              "            downloaded += buffer.byteLength;\n",
              "            progress.value = downloaded;\n",
              "          }\n",
              "        }\n",
              "      }\n",
              "      const blob = new Blob(buffers, {type: 'application/binary'});\n",
              "      const a = document.createElement('a');\n",
              "      a.href = window.URL.createObjectURL(blob);\n",
              "      a.download = filename;\n",
              "      div.appendChild(a);\n",
              "      a.click();\n",
              "      div.remove();\n",
              "    }\n",
              "  "
            ],
            "text/plain": [
              "<IPython.core.display.Javascript object>"
            ]
          },
          "metadata": {
            "tags": []
          }
        },
        {
          "output_type": "display_data",
          "data": {
            "application/javascript": [
              "download(\"download_91ae5b54-9677-41f9-a238-2157dece6610\", \"model2_trained_lambdaALCK_LA2_mean.npy\", 5328)"
            ],
            "text/plain": [
              "<IPython.core.display.Javascript object>"
            ]
          },
          "metadata": {
            "tags": []
          }
        },
        {
          "output_type": "display_data",
          "data": {
            "application/javascript": [
              "\n",
              "    async function download(id, filename, size) {\n",
              "      if (!google.colab.kernel.accessAllowed) {\n",
              "        return;\n",
              "      }\n",
              "      const div = document.createElement('div');\n",
              "      const label = document.createElement('label');\n",
              "      label.textContent = `Downloading \"${filename}\": `;\n",
              "      div.appendChild(label);\n",
              "      const progress = document.createElement('progress');\n",
              "      progress.max = size;\n",
              "      div.appendChild(progress);\n",
              "      document.body.appendChild(div);\n",
              "\n",
              "      const buffers = [];\n",
              "      let downloaded = 0;\n",
              "\n",
              "      const channel = await google.colab.kernel.comms.open(id);\n",
              "      // Send a message to notify the kernel that we're ready.\n",
              "      channel.send({})\n",
              "\n",
              "      for await (const message of channel.messages) {\n",
              "        // Send a message to notify the kernel that we're ready.\n",
              "        channel.send({})\n",
              "        if (message.buffers) {\n",
              "          for (const buffer of message.buffers) {\n",
              "            buffers.push(buffer);\n",
              "            downloaded += buffer.byteLength;\n",
              "            progress.value = downloaded;\n",
              "          }\n",
              "        }\n",
              "      }\n",
              "      const blob = new Blob(buffers, {type: 'application/binary'});\n",
              "      const a = document.createElement('a');\n",
              "      a.href = window.URL.createObjectURL(blob);\n",
              "      a.download = filename;\n",
              "      div.appendChild(a);\n",
              "      a.click();\n",
              "      div.remove();\n",
              "    }\n",
              "  "
            ],
            "text/plain": [
              "<IPython.core.display.Javascript object>"
            ]
          },
          "metadata": {
            "tags": []
          }
        },
        {
          "output_type": "display_data",
          "data": {
            "application/javascript": [
              "download(\"download_b06d2092-db45-40ee-9959-ba6ff293e0b8\", \"model2_trained_lambdaALCK_LA2_std.npy\", 5328)"
            ],
            "text/plain": [
              "<IPython.core.display.Javascript object>"
            ]
          },
          "metadata": {
            "tags": []
          }
        }
      ]
    },
    {
      "cell_type": "code",
      "metadata": {
        "id": "EvVuOw-cn9M3"
      },
      "source": [
        "fig, ax0 = plt.subplots(1,3, figsize=[10,4], sharex=True)\n",
        "\n",
        "vmin0 = 0; vmax0 = 0.1 \n",
        "im0 = ax0[0].pcolor(logPoff, logDiff, lambdaALCK_array, \\\n",
        "   vmin=vmin0, vmax=vmax0)\n",
        "if plot_contours:\n",
        "    ax0[0].contour(logPoff, logDiff, lambdaALCK_array, \\\n",
        "    vmin=vmin0, vmax=vmax0, colors='w')\n",
        "fig.colorbar(im0, ax=ax0[0])\n",
        "ax0[0].set_title(' Evidence')\n",
        "ax0[0].set_xlabel('$Poff_{LCK*}^{LA}$')\n",
        "ax0[0].set_ylabel('$log_{10}(D_{LCK*}^{LA}$)')\n",
        "\n",
        "### validation\n",
        "im1 = ax0[1].pcolor(logPoff, logDiff, lambdaALCK_validation, \\\n",
        "    vmin=vmin0, vmax=vmax0)\n",
        "if plot_contours:\n",
        "    ax0[1].contour(logPoff, logDiff, lambdaALCK_validation, \\\n",
        "    vmin=vmin0, vmax=vmax0, colors='w') # vmin=vmin6, vmax=vmax6,\n",
        "fig.colorbar(im1, ax=ax0[1])\n",
        "ax0[1].set_title('$\\lambda_{LCK*}^{LA}$\\nValidation')\n",
        "ax0[1].set_xlabel('$Poff_{LCK*}^{LA}$')\n",
        "# ax0[1].set_ylabel('$log_{10}(D_{LCK*}^{LA})$')\n",
        "\n",
        "if False:\n",
        "    ### trainded\n",
        "    im2 = ax0[2].pcolor(logPoffs, logDiffs, lambdas_mean, \\\n",
        "        vmin=vmin0, vmax=vmax0)\n",
        "    if plot_contours:\n",
        "        ax0[2].contour(log_Poffs, log_Diffs, Zs_mean, \\\n",
        "        vmin=vmin0, vmax=vmax0, colors='w')\n",
        "    fig.colorbar(im1, ax=ax0[2])\n",
        "    ax0[2].set_title('\\nTrained)')\n",
        "    ax0[2].set_xlabel('$log_{10}(Poff_{LCK*}^{LA})$')\n",
        "    # ax0[2].set_ylabel('$log_{10}(D_{LCK*}^{LA})$')\n",
        "    ###\n",
        "\n",
        "plt.tight_layout();"
      ],
      "execution_count": null,
      "outputs": []
    },
    {
      "cell_type": "code",
      "metadata": {
        "id": "3lLscYkH1v7d"
      },
      "source": [
        ""
      ],
      "execution_count": null,
      "outputs": []
    }
  ]
}