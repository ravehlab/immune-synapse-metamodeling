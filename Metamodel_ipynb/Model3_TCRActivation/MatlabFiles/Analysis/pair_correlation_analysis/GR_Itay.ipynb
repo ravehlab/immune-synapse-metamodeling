{
 "cells": [
  {
   "cell_type": "code",
   "execution_count": 1,
   "metadata": {},
   "outputs": [],
   "source": [
    "import numpy as np\n",
    "import scipy.signal\n",
    "import matplotlib.pyplot as plt"
   ]
  },
  {
   "cell_type": "code",
   "execution_count": 62,
   "metadata": {},
   "outputs": [],
   "source": [
    "array_size = 200\n",
    "R_max = 100\n",
    "\n",
    "def Rings(R_max):\n",
    "\n",
    "    ij_rings = ()\n",
    "    linind_rings = ()\n",
    "\n",
    "    for ring_radius in np.arange(R_max+1):\n",
    "        if ring_radius == 0:\n",
    "            ring_mask = 1\n",
    "\n",
    "        else:\n",
    "            x = np.arange(-ring_radius,ring_radius+1)\n",
    "            y = x\n",
    "            X, Y = np.meshgrid(x, y) # , indexing='ij'\n",
    "            ring_mask = np.floor(np.sqrt(X**2 + Y**2)) == ring_radius\n",
    "        \n",
    "        # linear index of the ring point on the full array:\n",
    "        ij_rings = ij_rings + (np.nonzero(ring_mask),)\n",
    "        linind_rings = linind_rings + (np.nonzero(np.ravel(ring_mask)),)\n",
    "        \n",
    "    return ij_rings, linind_rings"
   ]
  },
  {
   "cell_type": "code",
   "execution_count": 66,
   "metadata": {},
   "outputs": [],
   "source": [
    "# ij_rings, linind_rings = Rings(100)\n",
    "# linind_rings\n",
    "# ij_rings = Rings(R_max)\n",
    "# ij_nind_rings[2][0]"
   ]
  },
  {
   "cell_type": "code",
   "execution_count": 48,
   "metadata": {},
   "outputs": [
    {
     "data": {
      "text/plain": [
       "(array([0, 0, 1, 1, 2], dtype=int64), array([1, 2, 0, 1, 2], dtype=int64))"
      ]
     },
     "execution_count": 48,
     "metadata": {},
     "output_type": "execute_result"
    }
   ],
   "source": [
    "A = [[0,2,5],[9,4,0],[0,0,1]]\n",
    "nz_A = np.nonzero(A)\n",
    "nz_A\n",
    "# ravel_A = np.ravel(A)\n",
    "# where_ravel_A = np.where(ravel_A)\n",
    "# where_ravel_A"
   ]
  },
  {
   "cell_type": "code",
   "execution_count": 2,
   "metadata": {},
   "outputs": [],
   "source": [
    "# example for input data:\n",
    "\n",
    "array1 = np.zeros([array_size,array_size])\n",
    "array2 = np.zeros([array_size,array_size])\n",
    "\n",
    "array1[100,100] = 1\n",
    "array2[np.random.rand(array_size,array_size) < 0.1] = 1\n",
    "\n"
   ]
  },
  {
   "cell_type": "code",
   "execution_count": 82,
   "metadata": {},
   "outputs": [],
   "source": [
    "def GR_ij(array1,array2,R_max,ij_rings):\n",
    "\n",
    "    gr = np.zeros(R_max+1)\n",
    "\n",
    "    for ring_radius in np.arange(R_max+1):\n",
    "        if ring_radius == 0:\n",
    "            ring_mask = 1\n",
    "            ring_area = 1\n",
    "            rings_conv_array1 = array1\n",
    "        else:\n",
    "            ring_mask = np.zeros((2*ring_radius+1,2*ring_radius+1))\n",
    "            print(ring_radius)\n",
    "            \n",
    "            i_rings = ij_rings[ring_radius][0]\n",
    "            j_rings = ij_rings[ring_radius][1]\n",
    "            ring_mask[i_rings,j_rings] = 1\n",
    "            # number of pixels that the ring is made of:\n",
    "            ring_area = sum(sum(1*ring_mask))\n",
    "        \n",
    "            # putting the ring on the full array:\n",
    "            rings_conv_array1 = scipy.signal.convolve2d(array1, ring_mask, mode='same')\n",
    "\n",
    "        # linear index of the ring point on the full array:\n",
    "        ij_array2 = np.nonzero(array2)\n",
    "\n",
    "        # sum over values on ring:\n",
    "        values_on_ring = rings_conv_array1[ij_array2]\n",
    "\n",
    "        # sum devided by ring area:\n",
    "        normalized_values_on_ring = np.sum(values_on_ring)/ring_area\n",
    "        \n",
    "        # fill factor of array2:\n",
    "        fill_factor2 = np.sum(array2)/array2.size\n",
    "        \n",
    "        # gr:\n",
    "        gr[ring_radius] = normalized_values_on_ring/fill_factor2\n",
    "        \n",
    "    return gr\n"
   ]
  },
  {
   "cell_type": "code",
   "execution_count": 83,
   "metadata": {},
   "outputs": [
    {
     "name": "stdout",
     "output_type": "stream",
     "text": [
      "1\n",
      "2\n",
      "3\n",
      "4\n",
      "5\n",
      "6\n",
      "7\n",
      "8\n",
      "9\n",
      "10\n",
      "11\n",
      "12\n",
      "13\n",
      "14\n",
      "15\n",
      "16\n",
      "17\n",
      "18\n",
      "19\n",
      "20\n",
      "21\n",
      "22\n",
      "23\n",
      "24\n",
      "25\n",
      "26\n",
      "27\n",
      "28\n",
      "29\n",
      "30\n",
      "31\n",
      "32\n",
      "33\n",
      "34\n",
      "35\n",
      "36\n",
      "37\n",
      "38\n",
      "39\n",
      "40\n",
      "41\n",
      "42\n",
      "43\n",
      "44\n",
      "45\n",
      "46\n",
      "47\n",
      "48\n",
      "49\n",
      "50\n",
      "51\n",
      "52\n",
      "53\n",
      "54\n",
      "55\n",
      "56\n",
      "57\n",
      "58\n",
      "59\n",
      "60\n",
      "61\n",
      "62\n",
      "63\n",
      "64\n",
      "65\n",
      "66\n",
      "67\n",
      "68\n",
      "69\n",
      "70\n",
      "71\n",
      "72\n",
      "73\n",
      "74\n",
      "75\n",
      "76\n",
      "77\n",
      "78\n",
      "79\n",
      "80\n",
      "81\n",
      "82\n",
      "83\n",
      "84\n",
      "85\n",
      "86\n",
      "87\n",
      "88\n",
      "89\n",
      "90\n",
      "91\n",
      "92\n",
      "93\n",
      "94\n",
      "95\n",
      "96\n",
      "97\n",
      "98\n",
      "99\n",
      "100\n"
     ]
    }
   ],
   "source": [
    "gr = GR_ij(array1,array2,R_max,ij_rings)"
   ]
  },
  {
   "cell_type": "raw",
   "metadata": {},
   "source": [
    "def GR_linind(array1,array2,R_max,linind_rings):\n",
    "\n",
    "    gr = np.zeros(R_max+1)\n",
    "\n",
    "    for ring_radius in np.arange(R_max+1):\n",
    "        if ring_radius == 0:\n",
    "            ring_mask = 1\n",
    "            ring_area = 1\n",
    "            rings_conv_array1 = array1\n",
    "        else:\n",
    "            ring_mask = np.zeros(2*ring_radius+1,2*ring_radius+1)\n",
    "            ring_mask[linind_rings[ring_radius]]\n",
    "            # number of pixels that the ring is made of:\n",
    "            ring_area = sum(sum(1*ring_mask))\n",
    "        \n",
    "            # putting the ring on the full array:\n",
    "            rings_conv_array1 = scipy.signal.convolve2d(array1, ring_mask, mode='same')\n",
    "\n",
    "        # linear index of the ring point on the full array:\n",
    "#         linind_array2 = np.where(np.ravel(array2))\n",
    "        ij_array2 = np.nonzero(array2)\n",
    "\n",
    "        # sum over values on ring:\n",
    "        values_on_ring = rings_conv_array1[ij_array2]\n",
    "\n",
    "        # sum devided by ring area:\n",
    "        normalized_values_on_ring = np.sum(values_on_ring)/ring_area\n",
    "        \n",
    "        # fill factor of array2:\n",
    "        fill_factor2 = np.sum(array2)/array2.size\n",
    "        \n",
    "        # gr:\n",
    "        gr[ring_radius] = normalized_values_on_ring/fill_factor2\n",
    "        \n",
    "    return gr\n"
   ]
  },
  {
   "cell_type": "code",
   "execution_count": 68,
   "metadata": {},
   "outputs": [],
   "source": [
    "def GR(array1,array2,R_max):\n",
    "\n",
    "    gr = np.zeros(R_max+1)\n",
    "\n",
    "    for ring_radius in np.arange(R_max+1):\n",
    "        if ring_radius == 0:\n",
    "            ring_mask = 1\n",
    "            ring_area = 1\n",
    "            rings_conv_array1 = array1\n",
    "        else:\n",
    "            x = np.arange(-ring_radius,ring_radius+1)\n",
    "            y = x\n",
    "            X, Y = np.meshgrid(x, y) # , indexing='ij'\n",
    "            ring_mask = np.floor(np.sqrt(X**2 + Y**2)) == ring_radius\n",
    "            \n",
    "            # number of pixels that the ring is made of:\n",
    "            ring_area = sum(sum(1*ring_mask))\n",
    "        \n",
    "            # putting the ring on the full array:\n",
    "            rings_conv_array1 = scipy.signal.convolve2d(array1, ring_mask, mode='same')\n",
    "\n",
    "        # linear index of the ring point on the full array:\n",
    "#         linind_array2 = np.where(np.ravel(array2))\n",
    "        ij_array2 = np.nonzero(array2)\n",
    "\n",
    "        # sum over values on ring:\n",
    "        values_on_ring = rings_conv_array1[ij_array2]\n",
    "\n",
    "        # sum devided by ring area:\n",
    "        normalized_values_on_ring = np.sum(values_on_ring)/ring_area\n",
    "        \n",
    "        # fill factor of array2:\n",
    "        fill_factor2 = np.sum(array2)/array2.size\n",
    "        \n",
    "        # gr:\n",
    "        gr[ring_radius] = normalized_values_on_ring/fill_factor2\n",
    "        \n",
    "    return gr\n"
   ]
  },
  {
   "cell_type": "code",
   "execution_count": 44,
   "metadata": {},
   "outputs": [
    {
     "ename": "IndexError",
     "evalue": "index 201 is out of bounds for axis 0 with size 200",
     "output_type": "error",
     "traceback": [
      "\u001b[1;31m---------------------------------------------------------------------------\u001b[0m",
      "\u001b[1;31mIndexError\u001b[0m                                Traceback (most recent call last)",
      "\u001b[1;32m<ipython-input-44-cf73d06eb96e>\u001b[0m in \u001b[0;36m<module>\u001b[1;34m\u001b[0m\n\u001b[1;32m----> 1\u001b[1;33m \u001b[0mgr\u001b[0m \u001b[1;33m=\u001b[0m \u001b[0mGR\u001b[0m\u001b[1;33m(\u001b[0m\u001b[0marray1\u001b[0m\u001b[1;33m,\u001b[0m\u001b[0marray2\u001b[0m\u001b[1;33m,\u001b[0m\u001b[0mR_max\u001b[0m\u001b[1;33m)\u001b[0m\u001b[1;33m\u001b[0m\u001b[1;33m\u001b[0m\u001b[0m\n\u001b[0m",
      "\u001b[1;32m<ipython-input-43-5452ebacef4b>\u001b[0m in \u001b[0;36mGR\u001b[1;34m(array1, array2, R_max)\u001b[0m\n\u001b[0;32m     25\u001b[0m \u001b[1;33m\u001b[0m\u001b[0m\n\u001b[0;32m     26\u001b[0m         \u001b[1;31m# sum over values on ring:\u001b[0m\u001b[1;33m\u001b[0m\u001b[1;33m\u001b[0m\u001b[1;33m\u001b[0m\u001b[0m\n\u001b[1;32m---> 27\u001b[1;33m         \u001b[0mvalues_on_ring\u001b[0m \u001b[1;33m=\u001b[0m \u001b[0mrings_conv_array1\u001b[0m\u001b[1;33m[\u001b[0m\u001b[0mlinind_array2\u001b[0m\u001b[1;33m]\u001b[0m\u001b[1;33m\u001b[0m\u001b[1;33m\u001b[0m\u001b[0m\n\u001b[0m\u001b[0;32m     28\u001b[0m \u001b[1;33m\u001b[0m\u001b[0m\n\u001b[0;32m     29\u001b[0m         \u001b[1;31m# sum devided by ring area:\u001b[0m\u001b[1;33m\u001b[0m\u001b[1;33m\u001b[0m\u001b[1;33m\u001b[0m\u001b[0m\n",
      "\u001b[1;31mIndexError\u001b[0m: index 201 is out of bounds for axis 0 with size 200"
     ]
    }
   ],
   "source": [
    "gr = GR(array1,array2,R_max)"
   ]
  },
  {
   "cell_type": "code",
   "execution_count": 84,
   "metadata": {},
   "outputs": [
    {
     "data": {
      "text/plain": [
       "[<matplotlib.lines.Line2D at 0x1e8bbed6040>]"
      ]
     },
     "execution_count": 84,
     "metadata": {},
     "output_type": "execute_result"
    },
    {
     "data": {
      "image/png": "[encoded data removed]",
      "text/plain": [
       "<Figure size 432x288 with 1 Axes>"
      ]
     },
     "metadata": {
      "needs_background": "light"
     },
     "output_type": "display_data"
    }
   ],
   "source": [
    "rs = np.arange(R_max+1)\n",
    "\n",
    "plt.plot(rs,gr,'.-')\n",
    "plt.plot([0, R_max],[1, 1],'-',color='k')"
   ]
  },
  {
   "cell_type": "raw",
   "metadata": {},
   "source": [
    "R_max = 100\n",
    "gr = np.zeros(R_max+1)\n",
    "linind_array2 = np.where(array2)\n",
    "\n",
    "for ring_radius in np.arange(R_max+1):\n",
    "    if ring_radius == 0:\n",
    "        ring_mask = 1\n",
    "        ring_area = 1\n",
    "        rings_conv_array1 = array1\n",
    "    else:\n",
    "        x = np.arange(-ring_radius,ring_radius+1)\n",
    "        y = x\n",
    "        X, Y = np.meshgrid(x, y) # , indexing='ij'\n",
    "        ring_mask = np.floor(np.sqrt(X**2 + Y**2)) == ring_radius\n",
    "    \n",
    "        ring_area = sum(sum(1*ring_mask))\n",
    "        \n",
    "        rings_conv_array1 = scipy.signal.convolve2d(array1, ring_mask, mode='same')\n",
    "\n",
    "    # sum over values on ring:\n",
    "    values_on_ring = rings_conv_array1[linind_array2]\n",
    "\n",
    "    # sum devided by ring area:\n",
    "    normalized_values_on_ring = np.sum(values_on_ring)/ring_area\n",
    "\n",
    "    # fill factor of array2:\n",
    "    fill_factor2 = np.sum(array2)/array2.size\n",
    "\n",
    "    # gr:\n",
    "    gr[ring_radius] = normalized_values_on_ring/fill_factor2\n",
    "\n"
   ]
  },
  {
   "cell_type": "code",
   "execution_count": 11,
   "metadata": {},
   "outputs": [
    {
     "data": {
      "text/plain": [
       "[<matplotlib.lines.Line2D at 0x1e8bbb2ebb0>]"
      ]
     },
     "execution_count": 11,
     "metadata": {},
     "output_type": "execute_result"
    },
    {
     "data": {
      "image/png": "[encoded data removed]",
      "text/plain": [
       "<Figure size 432x288 with 1 Axes>"
      ]
     },
     "metadata": {
      "needs_background": "light"
     },
     "output_type": "display_data"
    }
   ],
   "source": [
    "rs = np.arange(R_max+1)\n",
    "\n",
    "plt.plot(rs,gr,'.-')\n",
    "plt.plot([0, R_max],[1, 1],'-',color='k')"
   ]
  }
 ],
 "metadata": {
  "kernelspec": {
   "display_name": "Python 3",
   "language": "python",
   "name": "python3"
  },
  "language_info": {
   "codemirror_mode": {
    "name": "ipython",
    "version": 3
   },
   "file_extension": ".py",
   "mimetype": "text/x-python",
   "name": "python",
   "nbconvert_exporter": "python",
   "pygments_lexer": "ipython3",
   "version": "3.8.5"
  }
 },
 "nbformat": 4,
 "nbformat_minor": 4
}
