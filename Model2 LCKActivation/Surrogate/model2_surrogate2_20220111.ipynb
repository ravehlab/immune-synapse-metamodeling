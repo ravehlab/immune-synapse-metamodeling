{
 "cells": [
  {
   "cell_type": "code",
   "execution_count": 1,
   "metadata": {},
   "outputs": [
    {
     "name": "stdout",
     "output_type": "stream",
     "text": [
      "Running on PyMC3 v3.8\n",
      "Running on ArviZ v0.6.1\n"
     ]
    }
   ],
   "source": [
    "import numpy as np\n",
    "import pymc3 as pm\n",
    "import pandas as pd\n",
    "from scipy.optimize import curve_fit\n",
    "import matplotlib.pyplot as plt\n",
    "import matplotlib.colors as colors\n",
    "import IPython\n",
    "import seaborn as sns\n",
    "import arviz as az\n",
    "import csv\n",
    "import json\n",
    "import matplotlib.ticker as ticker\n",
    "from scipy.ndimage import gaussian_filter\n",
    "# from google.colab import files\n",
    "\n",
    "print('Running on PyMC3 v{}'.format(pm.__version__))\n",
    "print('Running on ArviZ v{}'.format(az.__version__))"
   ]
  },
  {
   "cell_type": "code",
   "execution_count": 2,
   "metadata": {},
   "outputs": [],
   "source": [
    "if False:\n",
    "    # import matplotlib.pyplot as plt\n",
    "    from matplotlib.colors import LogNorm\n",
    "    # import numpy as np\n",
    "    from matplotlib.mlab import bivariate_normal\n",
    "\n",
    "\n",
    "    N = 100\n",
    "    X, Y = np.mgrid[-3:3:complex(0, N), -2:2:complex(0, N)]\n",
    "\n",
    "    # A low hump with a spike coming out of the top right.\n",
    "    # Needs to have z/colour axis on a log scale so we see both hump and spike.\n",
    "    # linear scale only shows the spike.\n",
    "    Z1 = bivariate_normal(X, Y, 0.1, 0.2, 1.0, 1.0) + 0.1 * bivariate_normal(X, Y, 1.0, 1.0, 0.0, 0.0)\n",
    "\n",
    "    plt.subplot(2, 1, 1)\n",
    "    plt.pcolor(X, Y, Z1, norm=LogNorm(vmin=Z1.min(), vmax=Z1.max()), cmap='PuBu_r')\n",
    "    plt.colorbar()\n",
    "\n",
    "    plt.subplot(2, 1, 2)\n",
    "    plt.pcolor(X, Y, Z1, cmap='PuBu_r')\n",
    "    plt.colorbar()\n",
    "\n",
    "\n",
    "    plt.show()"
   ]
  },
  {
   "cell_type": "raw",
   "metadata": {},
   "source": [
    "norm=LogNorm, vmin=0.01, vmax=10"
   ]
  },
  {
   "cell_type": "code",
   "execution_count": 3,
   "metadata": {},
   "outputs": [],
   "source": [
    "#@ def, Plot heatmaps subplots \n",
    "def plotHeatmaps(data,\n",
    "                 rowTitles,\n",
    "                 colTitles,\n",
    "                 xLabel,\n",
    "                 yLabel,\n",
    "                 nRows,\n",
    "                 nCols,\n",
    "                 vmins,\n",
    "                 vmaxs,\n",
    "                 iRow):\n",
    "\n",
    "    ticklablesFontsize = 14\n",
    "    cbarFontSize = 14\n",
    "        \n",
    "    fig = plt.figure(figsize=[4,12])\n",
    "    \n",
    "    # im identifier:\n",
    "    im = [None]*nCols\n",
    "    x1, x2 = data[0] # Free parameters of the data.\n",
    "    f = data[1] # Data that is the function of the free parameters.\n",
    "    \n",
    "    # Return the last row that is 'True' in 'plotWhat'. It sets in what row \n",
    "    # to show 'xlabel':\n",
    "    max_plotWhat = np.max(np.where(plotWhat))\n",
    "    \n",
    "    # plot the nRows x nCols subplots with labels, titles at  \n",
    "    # sceciefic locations. iCol is Column index, iRow is Row index:\n",
    "    for iCol in range(nCols):        \n",
    "        ax = fig.add_subplot(nRows, nCols, iRow*nCols + iCol+1)\n",
    "        im[iCol] = plt.pcolor(10**x1 ,10**x2, 10**f[iCol],\n",
    "                              shading='auto', cmap='Blues',\n",
    "                              norm=colors.LogNorm())\n",
    "        \n",
    "        if True:  #iRow > 0:\n",
    "            DL_levels = np.arange(0., 3., 0.25)\n",
    "            cs = plt.contour(10**x1 ,10**x2, 10**f[iCol],\n",
    "                        10**DL_levels, colors='k',\n",
    "                        vmin=vmins[iCol], vmax=vmaxs[iCol])\n",
    "            plt.clabel(cs, 10**DL_levels, inline=True, fmt='%.0f', fontsize=10)\n",
    "        \n",
    "        cbar0 = fig.colorbar(im[iCol])\n",
    "        cbar0.ax.set_title('nm', fontsize=cbarFontSize)\n",
    "        \n",
    "        ax.set_xlim(10**-5.2, 10**-0.4)\n",
    "        ax.set_xticklabels(x1, fontsize=ticklablesFontsize)\n",
    "        ax.set_xscale('log')\n",
    "        ax.xaxis.set_major_locator(ticker.LogLocator(base=10, numticks=6))\n",
    "        \n",
    "        ax.set_ylim(10**-3.1, 10**-0.7)\n",
    "        ax.set_yticklabels(x2, fontsize=ticklablesFontsize)\n",
    "        ax.set_yscale('log')\n",
    "        ax.yaxis.set_major_locator(ticker.LogLocator(base=10, numticks=7))\n",
    "        \n",
    "        \n",
    "        ##################################################\n",
    "        \n",
    "        if iRow == 0:\n",
    "            plt.title(colTitles[iCol] + rowTitles[iRow])\n",
    "        \n",
    "        else:\n",
    "            plt.title(rowTitles[iRow])\n",
    "        \n",
    "        if iRow == max_plotWhat:\n",
    "            plt.xlabel(xLabel)\n",
    "            \n",
    "        if iCol == 0:\n",
    "            plt.ylabel(yLabel)\n",
    "    \n",
    "    fig.tight_layout()\n",
    "    "
   ]
  },
  {
   "cell_type": "code",
   "execution_count": 4,
   "metadata": {},
   "outputs": [],
   "source": [
    "DataToPlot = 4*[None]\n",
    "plotWhat = [True,False,False,False]\n",
    "\n",
    "def plotData(DataToPlot,plotWhat):\n",
    "    # titles and labels:\n",
    "#     xLabel = \"$log_{10}(Poff_{LCK*}^{LCKA}$)\"\n",
    "#     yLabel = \"$log_{10}(D_{LCK*}^{LCKA}) (\\mu m^2/sec)$\"\n",
    "#     DLALck_Title = \"$logDecaylength_{Lck*}^{LCKA}[nm]$\\n\" # Decaylength\n",
    "    xLabel = \"$Poff_{LCK*}^{LCKA}$\"\n",
    "    yLabel = \"$D_{LCK*}^{LCKA} [\\mu m^2/sec]$\"\n",
    "    DLALck_Title = \"$Decaylength_{Lck*}^{LckA}[nm]$\\n\" # Decaylength\n",
    "    colTitles = [DLALck_Title]\n",
    "    \n",
    "    \n",
    "    rowTitles = [\"Training data\",\"Fit data\",\"Trained parameters\",\"Surrogate\"]\n",
    "\n",
    "    # min and max values for the different heatmaps:\n",
    "    vmins = [0]\n",
    "    vmaxs = [3.0]\n",
    "\n",
    "    nRows = 4\n",
    "    nCols = 1\n",
    "    \n",
    "    # Plot a row of subplot if the data is not empty and if value is 'True':\n",
    "    for iRow in range(nRows):\n",
    "        if DataToPlot[iRow] != None and plotWhat[iRow]:\n",
    "            plotHeatmaps(data = DataToPlot[iRow],\n",
    "                         nRows = nRows,\n",
    "                         nCols = nCols,\n",
    "                         rowTitles = rowTitles,\n",
    "                         colTitles = colTitles,\n",
    "                         xLabel = xLabel,\n",
    "                         yLabel = yLabel,\n",
    "                         vmins = vmins,\n",
    "                         vmaxs = vmaxs,\n",
    "                         iRow = iRow)\n"
   ]
  },
  {
   "cell_type": "code",
   "execution_count": 5,
   "metadata": {
    "code_folding": [],
    "colab": {
     "base_uri": "https://localhost:8080/"
    },
    "id": "Aa3eX_fXPp0k",
    "outputId": "5a068810-058e-4300-924a-db2edf18069d"
   },
   "outputs": [
    {
     "name": "stdout",
     "output_type": "stream",
     "text": [
      "['logDiff.shape =', (10,)]\n",
      "['logPoff.shape =', (10,)]\n"
     ]
    }
   ],
   "source": [
    "#@title Training data for model2 { vertical-output: true, display-mode: \"form\" }\n",
    "# lambdaALCK_array0: x-axis is Poff (probability of spontaneous decay); \n",
    "# y-axis is Diff (diffusion coefficient in micron^2/sec); \n",
    "# z-axis is exponontial factor 'lambda': 'y = exp(-lambda*x)' in 1/nm.\n",
    "lambdaALCK_array0 = -1*np.array([[-0.014657,-0.014447,-0.014664,-0.015526,-0.01714,-0.022992,-0.034524,-0.070557,-0.11387,-0.20832,-0.01],\n",
    "[-0.012456,-0.012384,-0.013487,-0.013015,-0.01379,-0.018903,-0.03389,-0.052318,-0.093198,-0.15276,-0.01],\n",
    "[-0.0098342,-0.0096907,-0.0098001,-0.010041,-0.011918,-0.017406,-0.026369,-0.039222,-0.057673,-0.11743,-0.01],\n",
    "[-0.0080017,-0.0077559,-0.0076087,-0.0082535,-0.0099144,-0.012286,-0.01889,-0.03604,-0.054248,-0.095491,-0.01],\n",
    "[-0.0058524,-0.0056572,-0.0072154,-0.0066482,-0.0078467,-0.010037,-0.014898,-0.028174,-0.04584,-0.071974,-0.01],\n",
    "[-0.0046865,-0.0047947,-0.0044626,-0.0045893,-0.0049986,-0.0081368,-0.014763,-0.019339,-0.035599,-0.060622,-0.01],\n",
    "[-0.0036558,-0.0031606,-0.0036487,-0.0046674,-0.0031157,-0.0048789,-0.011206,-0.019952,-0.028773,-0.07807,-0.01],\n",
    "[-0.0024369,-0.0024442,-0.0025014,-0.0024395,-0.0035739,-0.0049891,-0.0062023,-0.010665,-0.018304,-0.029732,-0.01],\n",
    "[-0.0016189,-0.0017432,-0.0013415,-0.0026006,-0.0021152,-0.0028547,-0.0089079,-0.0074472,-0.017615,-0.024174,-0.01],\n",
    "[-0.0013258,-0.00074239,-0.00067486,-0.0013035,-0.0019591,-0.0021911,-0.0065414,-0.0074576,-0.016519,-0.65039,-0.01],\n",
    "[-0.00060974,-0.00027457,-0.00018559,-0.00016811,-0.00085357,-0.0020511,-0.0026312,-0.0053513,-0.038536,-0.014071,-0.01],\n",
    "[-0.00052181,-0.00050238,-0.00016453,-0.00011248,-0.00068145,-0.00015995,-0.0014959,-0.0041252,-0.0048673,-0.0055963,-0.01],\n",
    "[-7.0125e-05,-0.00049168,-0.00062104,-0.00094581,-6.2083e-05,-0.0002202,-0.00032468,-0.0053617,-0.01093,-0.01741,-0.01]])\n",
    "\n",
    "# cropping the last column:\n",
    "# lambdaALCK_array = lambdaALCK_array0[:,:-1]\n",
    "lambdaALCK_array = lambdaALCK_array0[:-3,:-1]\n",
    "DLALCK_array = 1./lambdaALCK_array\n",
    "logDLALCK_array = np.log10(DLALCK_array)\n",
    "\n",
    "logDiff0 = np.arange(-3, 0.25, 0.25) \n",
    "logPoff0 = np.arange(-5, 0.0, 0.5) \n",
    "\n",
    "logDiff = logDiff0[:-3]\n",
    "logPoff = logPoff0[:]\n",
    "\n",
    "print(['logDiff.shape =',logDiff.shape])\n",
    "print(['logPoff.shape =',logPoff.shape])\n",
    "\n",
    "logPoff_array, logDiff_array  = np.meshgrid(logPoff, logDiff)\n",
    "\n",
    "if True:\n",
    "    np.save(\"logDLALCK_array.csv\", logDLALCK_array)\n",
    "    "
   ]
  },
  {
   "cell_type": "code",
   "execution_count": 6,
   "metadata": {
    "cellView": "form",
    "code_folding": [],
    "id": "9mMJ-dFKL4xr"
   },
   "outputs": [],
   "source": [
    "#@title Convert trainingData to dataFrames\n",
    "df_trainingData_model2 = pd.DataFrame(np.array([logPoff_array.flatten(), \n",
    "                   logDiff_array.flatten(),  \n",
    "                   logDLALCK_array.flatten()]).T, # \n",
    "                   columns=['logPoff','logDiff','logDLALCK'])\n",
    "\n",
    "df_trainingData_model2.to_csv('trainingData_model2.csv')"
   ]
  },
  {
   "cell_type": "code",
   "execution_count": 7,
   "metadata": {},
   "outputs": [
    {
     "name": "stderr",
     "output_type": "stream",
     "text": [
      "C:\\Users\\Owner\\Anaconda3\\lib\\site-packages\\ipykernel_launcher.py:46: UserWarning: FixedFormatter should only be used together with FixedLocator\n",
      "C:\\Users\\Owner\\Anaconda3\\lib\\site-packages\\ipykernel_launcher.py:51: UserWarning: FixedFormatter should only be used together with FixedLocator\n"
     ]
    },
    {
     "data": {
      "image/png": "[encoded data removed]",
      "text/plain": [
       "<Figure size 288x864 with 2 Axes>"
      ]
     },
     "metadata": {
      "needs_background": "light"
     },
     "output_type": "display_data"
    }
   ],
   "source": [
    "\n",
    "df_logDLALCK = df_trainingData_model2.pivot('logDiff', 'logPoff', 'logDLALCK')\n",
    "\n",
    "df_logPoff = df_logDLALCK.columns\n",
    "df_logDiff = df_logDLALCK.index\n",
    "\n",
    "logDLALCK = df_logDLALCK.values\n",
    "\n",
    "DataToPlot[0] = [[df_logPoff,df_logDiff],[logDLALCK]]\n",
    "plotWhat=[True,False,False,False]\n",
    "\n",
    "plotData(DataToPlot, plotWhat)\n"
   ]
  },
  {
   "cell_type": "code",
   "execution_count": 8,
   "metadata": {
    "code_folding": []
   },
   "outputs": [],
   "source": [
    "#@title 2.2.1 Defined fit fnctions\n",
    "# fl is for 'flatten'\n",
    "fitEquation = \"b + ax*x + ay*y\"\n",
    "def linear_z(xy, b, ax, ay):\n",
    "    x,y = xy\n",
    "    f = b + ax*x + ay*y\n",
    "    \n",
    "    return f\n",
    "\n",
    "# def linear_z(xy, b, ax, ay, fitEquation):\n",
    "#     x,y = xy\n",
    "#     f = eval(fitEquation)\n",
    "    \n",
    "#     return f"
   ]
  },
  {
   "cell_type": "code",
   "execution_count": 9,
   "metadata": {},
   "outputs": [
    {
     "data": {
      "text/plain": [
       "'intercept+xSlope*x+ySlope*y'"
      ]
     },
     "execution_count": 9,
     "metadata": {},
     "output_type": "execute_result"
    }
   ],
   "source": [
    "def fitEquationStr(x,y,b,ax,ay):\n",
    "    \n",
    "    return b + \"+\" + ax + \"*\" + \"x\" + \"+\" + ay + \"*\" + y\n",
    "\n",
    "fitEquationStr(\"x\",\"y\",\"intercept\",\"xSlope\",\"ySlope\")\n",
    "    "
   ]
  },
  {
   "cell_type": "code",
   "execution_count": 10,
   "metadata": {},
   "outputs": [],
   "source": [
    "#@title Read training data from csv file\n",
    "# Reading data from csv file:\n",
    "df_trainingData_model2 = pd.read_csv('trainingData_model2.csv')\n",
    "\n",
    "# Reading data from DataFrame:\n",
    "# 'f' is for 'flatten'  \n",
    "flogPoff = df_trainingData_model2['logPoff']\n",
    "flogDiff = df_trainingData_model2['logDiff']\n",
    "flogDLALCK = df_trainingData_model2['logDLALCK']\n"
   ]
  },
  {
   "cell_type": "code",
   "execution_count": 11,
   "metadata": {
    "code_folding": []
   },
   "outputs": [],
   "source": [
    "#@title 2.2.2. Get fit parameters\n",
    "def get_fit_parameters(X,fitFunc,fXdata,parametersNames,p0):\n",
    "    \"\"\"\n",
    "    Returns fit parameters and aranges them in DataFrames where the index (rows)\n",
    "    are the fit parameters' names and the columns are 'mu' and 'sd'.\n",
    "    \"\"\"\n",
    "    popt, pcov = curve_fit(fitFunc, X, fXdata, p0)\n",
    "    mu = popt\n",
    "    sd = np.sqrt(np.diag(pcov))\n",
    "\n",
    "    data = {'mu':mu,'sd':sd}\n",
    "    index = parametersNames\n",
    "    \n",
    "    df = pd.DataFrame(data,index=index)\n",
    "\n",
    "    return df"
   ]
  },
  {
   "cell_type": "code",
   "execution_count": 12,
   "metadata": {},
   "outputs": [
    {
     "data": {
      "text/html": [
       "<div>\n",
       "<style scoped>\n",
       "    .dataframe tbody tr th:only-of-type {\n",
       "        vertical-align: middle;\n",
       "    }\n",
       "\n",
       "    .dataframe tbody tr th {\n",
       "        vertical-align: top;\n",
       "    }\n",
       "\n",
       "    .dataframe thead th {\n",
       "        text-align: right;\n",
       "    }\n",
       "</style>\n",
       "<table border=\"1\" class=\"dataframe\">\n",
       "  <thead>\n",
       "    <tr style=\"text-align: right;\">\n",
       "      <th></th>\n",
       "      <th>mu</th>\n",
       "      <th>sd</th>\n",
       "    </tr>\n",
       "  </thead>\n",
       "  <tbody>\n",
       "    <tr>\n",
       "      <td>intercept</td>\n",
       "      <td>1.972</td>\n",
       "      <td>0.080</td>\n",
       "    </tr>\n",
       "    <tr>\n",
       "      <td>PoffSlope</td>\n",
       "      <td>-0.280</td>\n",
       "      <td>0.016</td>\n",
       "    </tr>\n",
       "    <tr>\n",
       "      <td>DiffSlope</td>\n",
       "      <td>0.422</td>\n",
       "      <td>0.033</td>\n",
       "    </tr>\n",
       "  </tbody>\n",
       "</table>\n",
       "</div>"
      ],
      "text/plain": [
       "              mu     sd\n",
       "intercept  1.972  0.080\n",
       "PoffSlope -0.280  0.016\n",
       "DiffSlope  0.422  0.033"
      ]
     },
     "metadata": {},
     "output_type": "display_data"
    }
   ],
   "source": [
    "#@title Fit parameters for logDLALCK\n",
    "\n",
    "p0_DLALCK = 0., 0., 0.\n",
    "parametersNames_logDLALCK = ['intercept', 'PoffSlope', 'DiffSlope']\n",
    "\n",
    "df_fitParameters_logDLALCK = get_fit_parameters(X = (flogPoff,flogDiff),\n",
    "                              fitFunc = linear_z,\n",
    "                              fXdata = flogDLALCK,\n",
    "                              parametersNames = parametersNames_logDLALCK,\n",
    "                              p0 = p0_DLALCK)\n",
    "\n",
    "df_fitParameters_logDLALCK = df_fitParameters_logDLALCK.round(3)\n",
    "display(df_fitParameters_logDLALCK)"
   ]
  },
  {
   "cell_type": "code",
   "execution_count": 13,
   "metadata": {},
   "outputs": [],
   "source": [
    "#@title 2.2.3. Plotting training data vs. data fit\n",
    "# decayLengthALCK:\n",
    "logDLALCK_fit = df_fitParameters_logDLALCK.loc['intercept','mu'] + \\\n",
    "                df_fitParameters_logDLALCK.loc['PoffSlope','mu']*logPoff_array + \\\n",
    "                df_fitParameters_logDLALCK.loc['DiffSlope','mu']*logDiff_array"
   ]
  },
  {
   "cell_type": "code",
   "execution_count": 14,
   "metadata": {
    "code_folding": [],
    "colab": {
     "base_uri": "https://localhost:8080/",
     "height": 481
    },
    "id": "A9iiWHG75Qvt",
    "outputId": "876c1929-f315-47c8-d3dd-d23b3b0d5094"
   },
   "outputs": [
    {
     "name": "stderr",
     "output_type": "stream",
     "text": [
      "C:\\Users\\Owner\\Anaconda3\\lib\\site-packages\\ipykernel_launcher.py:46: UserWarning: FixedFormatter should only be used together with FixedLocator\n",
      "C:\\Users\\Owner\\Anaconda3\\lib\\site-packages\\ipykernel_launcher.py:51: UserWarning: FixedFormatter should only be used together with FixedLocator\n"
     ]
    },
    {
     "data": {
      "image/png": "[encoded data removed]",
      "text/plain": [
       "<Figure size 288x864 with 2 Axes>"
      ]
     },
     "metadata": {
      "needs_background": "light"
     },
     "output_type": "display_data"
    },
    {
     "data": {
      "image/png": "[encoded data removed]",
      "text/plain": [
       "<Figure size 288x864 with 2 Axes>"
      ]
     },
     "metadata": {
      "needs_background": "light"
     },
     "output_type": "display_data"
    }
   ],
   "source": [
    "DataToPlot[1] = [[logPoff,logDiff],[logDLALCK_fit]]\n",
    "plotWhat=[True,True,False,False]\n",
    "\n",
    "plotData(DataToPlot, plotWhat)"
   ]
  },
  {
   "cell_type": "markdown",
   "metadata": {
    "id": "qMvf-Qy1R812"
   },
   "source": [
    "# 2.3. Data structure"
   ]
  },
  {
   "cell_type": "code",
   "execution_count": 15,
   "metadata": {
    "code_folding": [
     0
    ],
    "id": "58l7rjjKQXV-"
   },
   "outputs": [],
   "source": [
    "#@title Class RV new\n",
    "class RV: # TODO for Barak - make CSV field names correspond to dictionary names or have a meta-dict for it\n",
    "    def __init__(self,\n",
    "                 id : str,\n",
    "                 type2 : str,\n",
    "                 shortName : str,\n",
    "                 texName : str,\n",
    "                 description : str,\n",
    "                 distribution : str,\n",
    "                 distributionParameters : dict,\n",
    "                 units : str):\n",
    "        \n",
    "        self.id = id # str\n",
    "        self.type2 = type2 # str\n",
    "        self.shortName = shortName # str\n",
    "        self.texName = texName # str\n",
    "        self.description = description # str\n",
    "        self.distribution = distribution # str\n",
    "        self.distributionParameters = distributionParameters # array\n",
    "        self.units = units # str\n",
    "\n",
    "\n",
    "    def get_as_dictionary(self):  \n",
    "        return {'ID': self.id, # Unique variable name that is used by pymc3, e.g. rv_tSlope_wTCR_KSEG1.\n",
    "                'Type': self.type2, # Type of variable, e.g. 'Free parameter', 'Random variable'\n",
    "                'Short Name': self.shortName, # Short name, e.g. 't'.\n",
    "                'Latex Name': self.texName, # LaTex name for display.\n",
    "                'Description': self.description, # \n",
    "                'Distribution': self.distribution,\n",
    "                'Distribution parameters': self.distributionParameters,\n",
    "                'Units': self.units}   \n",
    "\n",
    "    def get_pymc3_statement():\n",
    "        '''\n",
    "        TASK 1\n",
    "        TODO make this return a 2-tuple from a variable name \n",
    "        to a pymc3 statment for creating this random variable\n",
    "        (to be used as input for eval)\n",
    "        '''\n",
    "#         if RV.distribution == \"Normal\":\n",
    "#             mu = RV.distributionParameters[\"mu\"]\n",
    "#             sd = RV.distributionParameters[\"sd\"]\n",
    "#             s0 = RV.id\n",
    "#             if RV.shortName == \"output\":\n",
    "#                 print(RV.shortName)\n",
    "#             s1 = (\"pm.\" + RV.distribution + \"('\" + RV.id  + \"'\" + \\\n",
    "#                                       \", mu=\" + str(mu) + \\\n",
    "#                                       \", sd=\" + str(sd) + \")\")\n",
    "#             s = (s0,s1)\n",
    "#             print(eval(\"s[0]\"),\"=\",eval(\"s[1]\"))\n",
    "        '''\n",
    "        Example: return tuple :\n",
    "        s = ('rv_alpha', 'pm.Normal(\"rv_alpha\", mu=354, sigma=a*10+b*20)')\n",
    "        so we can do eval(s[0]) = eval(s[1])\n",
    "        '''\n",
    "      # TODO: WRITE-ME\n",
    "#       return\n",
    "\n",
    "    @staticmethod\n",
    "    def RV_from_dictionary(d : dict):\n",
    "          ''' generates an RV object from a dictionary produced by get_as_dictionary() '''  \n",
    "          return RV(id=d['ID'],\n",
    "                    type2=d['Type'],\n",
    "                    shortName=d['Short Name'],\n",
    "                    texName=d['Latex Name'],\n",
    "                    description=d['Description'],\n",
    "                    distribution=d['Distribution'],\n",
    "                    distributionParameters=d['Distribution parameters'],\n",
    "                    units=d['Units'])\n"
   ]
  },
  {
   "cell_type": "code",
   "execution_count": 16,
   "metadata": {
    "cellView": "code",
    "code_folding": [
     0
    ],
    "id": "RTRxgJvq3MmO"
   },
   "outputs": [],
   "source": [
    "#@title Class model\n",
    "\n",
    "class Model:\n",
    "    # Constructor\n",
    "    def __init__(self, \n",
    "                 shortName : str, \n",
    "                 longName : str, \n",
    "                 description : str, \n",
    "                 model_id  : str,\n",
    "                 RV_csv_file = None, # Topology of Bayes net\n",
    "                 data_csv_file = None): # Training data\n",
    "        '''\n",
    "        '''\n",
    "        self.shortName = shortName # str\n",
    "        self.longName = longName # str\n",
    "        self.description = description # str\n",
    "        self.model_id = model_id # str\n",
    "        self.set_RVs_from_csv(RV_csv_file) # fill in random variables from CSV file\n",
    "        self.set_data_from_csv(data_csv_file) # fill in training data from CSV file\n",
    "\n",
    "    # add a random variable to the model\n",
    "    def add_rv(self, rv): # BARAK\n",
    "        self.RVs.append(rv)\n",
    "\n",
    "    def get_dataframe(self): # TODO: think about the name\n",
    "        info = [ rv.get_as_dictionary() for rv in self.RVs ]\n",
    "        df = pd.DataFrame(info)\n",
    "        df.set_index('ID', drop=False)  \n",
    "        return df\n",
    "\n",
    "    def to_csv(self, csv_file): # TODO: think about the name\n",
    "        df = self.get_dataframe()\n",
    "        df.to_csv(csv_file)\n",
    "\n",
    "    def set_RVs_from_csv(self, csv_file):\n",
    "        ''' \n",
    "        read csv file (similar to Table S1 in metamodeling paper) with random variables\n",
    "        and set this model's random variables and the statistical relations among them\n",
    "        accordingly\n",
    "\n",
    "        If csv_file is None, set an empty list of RVs\n",
    "        '''\n",
    "        self.RVs = []\n",
    "        if csv_file == None:\n",
    "            return\n",
    "        df = pd.read_csv(csv_file)\n",
    "        # TODO: assert that it has all the right fields\n",
    "        rv_dicts = df.to_dict('records') # TODO: check if this is still appropraite\n",
    "        print(\"RV dicts from csv:\")\n",
    "        print(rv_dicts)\n",
    "        for rv_dict in rv_dicts:\n",
    "            rv= RV.from_dictionary(rv_dict)\n",
    "            self.add_rv(rv)\n",
    "\n",
    "    def set_data_from_csv(self, data_csv_file):\n",
    "    # TASK 2\n",
    "        # df = pd.read_csv(data_csv_file)\n",
    "        # display(df) # Yair\n",
    "        # TODO: code for filling in table of data\n",
    "        # self.data = ... # WRITE-ME\n",
    "        self.trainingData = pd.read_csv(data_csv_file)\n",
    "\n",
    "    # generate a pymc3 model from this model\n",
    "    def get_as_pymc3(self): # BARAK\n",
    "    # TASK 3 - make sure this works\n",
    "        '''\n",
    "        Go over all random variables in this model, \n",
    "        and generate a PyMC3 object with cooresponding\n",
    "        variable names and statistical relations among them\n",
    "        '''\n",
    "        # TODO (use \"eval\" command)\n",
    "        pm_model = pm.Model()\n",
    "        with pm_model as pm:\n",
    "             for rv in self.RVs:\n",
    "                 pass\n",
    "            #    s = rv.get_pymc3_statement()\n",
    "            #    eval(s[0]) = eval(s[1])\n",
    "        return pm_model\n",
    "\n",
    "    def update_rvs_from_pymc3(self, pymc3): # BARAK\n",
    "    # TASK 4 \n",
    "        # TODO: use trace from trained PyMC3 model to update statements for all RVs\n",
    "        return\n",
    "\n",
    "    \n",
    "     "
   ]
  },
  {
   "cell_type": "code",
   "execution_count": 17,
   "metadata": {
    "cellView": "form",
    "code_folding": [
     0
    ],
    "id": "UHxdlI2mIQFk"
   },
   "outputs": [],
   "source": [
    "#@title Start model2_decayLengthALCK\n",
    "model2_description = \"\"\"Steady state of the spatial distribution of active Lck,\n",
    "(Lck*), molecules relative to a fixed CD45 location. The distribution of the Lck*\n",
    "molecules is determined by their diffusion coefficient and their spontanous decay\n",
    "probability.\"\"\"\n",
    "\n",
    "model2_logDLALCK = Model(shortName = 'LCKA',  # str\n",
    "               longName = 'Lck activation', # str\n",
    "               description = 'Model2 description', # str\n",
    "               model_id = '2', #, # str\n",
    "               RV_csv_file = None,\n",
    "               data_csv_file = 'trainingData_model2.csv') \n"
   ]
  },
  {
   "cell_type": "code",
   "execution_count": 18,
   "metadata": {
    "cellView": "form",
    "code_folding": [
     0
    ],
    "id": "PVobfyTsI9ao"
   },
   "outputs": [],
   "source": [
    "#@title Define lambdaALCK untrained table\n",
    "\n",
    "# decayLengthALCK\n",
    "model2_logDLALCK.add_rv(\n",
    "    RV(id = 'fp_logPoff_logDLALCK_ALCK2',\n",
    "       type2 = 'Free parameter',\n",
    "       shortName = 'logPoff',\n",
    "       texName = \"$$logPoff^{ALCK}$$\",\n",
    "       description = 'log10 of deactivation probability',\n",
    "       distribution = 'Normal',\n",
    "       distributionParameters = {'mu' :str(-4.), 'sd' : str(1.)},\n",
    "       units = '$$-$$'))\n",
    "\n",
    "model2_logDLALCK.add_rv(\n",
    "    RV(id = 'fp_logDiff_logDLALCK_ALCK2',\n",
    "        type2 = 'Free parameter',\n",
    "        shortName = 'logDiff',\n",
    "        texName = '$$logDiff^{ALCK}$$',\n",
    "        description = 'log10 of diffuion coefficient',\n",
    "        distribution = 'Normal',\n",
    "        distributionParameters = {'mu' : str(-2.), 'sd' : str(1.)},\n",
    "        units = '$$\\mu m^2/sec$$'))\n",
    "\n",
    "model2_logDLALCK.add_rv(\n",
    "    RV(id = 'rv_intercept_logDLALCK_ALCK2',\n",
    "        type2 = 'Random variable',\n",
    "        shortName = 'intercept',\n",
    "        texName = '$$decayLength^{ALCK}_{intercepct}$$',\n",
    "        description = 'Intercept of plain with origin',\n",
    "        distribution = 'Normal',\n",
    "        distributionParameters = {'mu' : str(df_fitParameters_logDLALCK.loc['intercept','mu']), # TODO: get from table \n",
    "                                  'sd' : str(df_fitParameters_logDLALCK.loc['intercept','sd'])},\n",
    "        units = '$$nm^{-1}$$')) \n",
    "\n",
    "model2_logDLALCK.add_rv(\n",
    "    RV(id = 'rv_PoffSlope_logDLALCK_ALCK2',\n",
    "        type2 = 'Random variable',\n",
    "        shortName = 'PoffSlope',\n",
    "        texName = '$$decayLength^{ALCK}_{PoffSlope}$$',\n",
    "        description = 'Plain slope for logPoff',\n",
    "        distribution = 'Normal',\n",
    "        distributionParameters = {'mu' : str(df_fitParameters_logDLALCK.loc['PoffSlope','mu']), # TODO: get from table \n",
    "                                  'sd' : str(df_fitParameters_logDLALCK.loc['PoffSlope','sd'])},\n",
    "        units = '$$-$$')) \n",
    "\n",
    "model2_logDLALCK.add_rv(\n",
    "    RV(id = 'rv_DiffSlope_logDLALCK_ALCK2',\n",
    "        type2 = 'Random variable',\n",
    "        shortName = 'DiffSlope',\n",
    "        texName = '$$decayLength^{ALCK}_{DiffSlope}$$',\n",
    "        description = 'Plain slope for logDiff',\n",
    "        distribution = 'Normal',\n",
    "        distributionParameters = {'mu' : str(df_fitParameters_logDLALCK.loc['DiffSlope','mu']), # TODO: get from table \n",
    "                                  'sd' : str(df_fitParameters_logDLALCK.loc['DiffSlope','sd'])},\n",
    "        units = '$$-$$')) \n",
    "\n",
    "model2_logDLALCK.add_rv(\n",
    "    RV(id = 'rv_output_logDLALCK_ALCK2',\n",
    "       type2 = 'Random variable',\n",
    "       shortName = 'output',\n",
    "       texName = '$$decayLength^{ALCK}_{output}$$',\n",
    "       description = 'Decay length output',\n",
    "       distribution = 'Normal',\n",
    "       distributionParameters = {'mu' : str(2.), 'sd' : str(0.5)},\n",
    "       units = \"$$nm$$\")) \n",
    "\n",
    "model2_logDLALCK.to_csv(\"model2_logDLALCK.csv\")"
   ]
  },
  {
   "cell_type": "code",
   "execution_count": 19,
   "metadata": {},
   "outputs": [
    {
     "data": {
      "text/html": [
       "<style  type=\"text/css\" >\n",
       "    #T_dafcd392_8446_11ec_bb79_10604b82940crow0_col0 {\n",
       "            text-align:  left;\n",
       "            background-color:  rgba(0, 100, 255, 0.20);\n",
       "            border:  1px black solid;\n",
       "        }    #T_dafcd392_8446_11ec_bb79_10604b82940crow0_col1 {\n",
       "            text-align:  left;\n",
       "            background-color:  rgba(0, 100, 255, 0.20);\n",
       "            border:  1px black solid;\n",
       "        }    #T_dafcd392_8446_11ec_bb79_10604b82940crow0_col2 {\n",
       "            text-align:  left;\n",
       "            background-color:  rgba(0, 100, 255, 0.20);\n",
       "            border:  1px black solid;\n",
       "        }    #T_dafcd392_8446_11ec_bb79_10604b82940crow0_col3 {\n",
       "            text-align:  left;\n",
       "            background-color:  rgba(0, 100, 255, 0.20);\n",
       "            border:  1px black solid;\n",
       "        }    #T_dafcd392_8446_11ec_bb79_10604b82940crow0_col4 {\n",
       "            text-align:  left;\n",
       "            background-color:  rgba(0, 100, 255, 0.20);\n",
       "            border:  1px black solid;\n",
       "        }    #T_dafcd392_8446_11ec_bb79_10604b82940crow0_col5 {\n",
       "            text-align:  left;\n",
       "            background-color:  rgba(0, 100, 255, 0.20);\n",
       "            border:  1px black solid;\n",
       "        }    #T_dafcd392_8446_11ec_bb79_10604b82940crow0_col6 {\n",
       "            text-align:  left;\n",
       "            background-color:  rgba(0, 100, 255, 0.20);\n",
       "            border:  1px black solid;\n",
       "        }    #T_dafcd392_8446_11ec_bb79_10604b82940crow1_col0 {\n",
       "            text-align:  left;\n",
       "            background-color:  rgba(0, 100, 255, 0.20);\n",
       "            border:  1px black solid;\n",
       "        }    #T_dafcd392_8446_11ec_bb79_10604b82940crow1_col1 {\n",
       "            text-align:  left;\n",
       "            background-color:  rgba(0, 100, 255, 0.20);\n",
       "            border:  1px black solid;\n",
       "        }    #T_dafcd392_8446_11ec_bb79_10604b82940crow1_col2 {\n",
       "            text-align:  left;\n",
       "            background-color:  rgba(0, 100, 255, 0.20);\n",
       "            border:  1px black solid;\n",
       "        }    #T_dafcd392_8446_11ec_bb79_10604b82940crow1_col3 {\n",
       "            text-align:  left;\n",
       "            background-color:  rgba(0, 100, 255, 0.20);\n",
       "            border:  1px black solid;\n",
       "        }    #T_dafcd392_8446_11ec_bb79_10604b82940crow1_col4 {\n",
       "            text-align:  left;\n",
       "            background-color:  rgba(0, 100, 255, 0.20);\n",
       "            border:  1px black solid;\n",
       "        }    #T_dafcd392_8446_11ec_bb79_10604b82940crow1_col5 {\n",
       "            text-align:  left;\n",
       "            background-color:  rgba(0, 100, 255, 0.20);\n",
       "            border:  1px black solid;\n",
       "        }    #T_dafcd392_8446_11ec_bb79_10604b82940crow1_col6 {\n",
       "            text-align:  left;\n",
       "            background-color:  rgba(0, 100, 255, 0.20);\n",
       "            border:  1px black solid;\n",
       "        }    #T_dafcd392_8446_11ec_bb79_10604b82940crow2_col0 {\n",
       "            text-align:  left;\n",
       "            background-color:  rgba(0, 100, 255, 0.20);\n",
       "            border:  1px black solid;\n",
       "        }    #T_dafcd392_8446_11ec_bb79_10604b82940crow2_col1 {\n",
       "            text-align:  left;\n",
       "            background-color:  rgba(0, 100, 255, 0.20);\n",
       "            border:  1px black solid;\n",
       "        }    #T_dafcd392_8446_11ec_bb79_10604b82940crow2_col2 {\n",
       "            text-align:  left;\n",
       "            background-color:  rgba(0, 100, 255, 0.20);\n",
       "            border:  1px black solid;\n",
       "        }    #T_dafcd392_8446_11ec_bb79_10604b82940crow2_col3 {\n",
       "            text-align:  left;\n",
       "            background-color:  rgba(0, 100, 255, 0.20);\n",
       "            border:  1px black solid;\n",
       "        }    #T_dafcd392_8446_11ec_bb79_10604b82940crow2_col4 {\n",
       "            text-align:  left;\n",
       "            background-color:  rgba(0, 100, 255, 0.20);\n",
       "            border:  1px black solid;\n",
       "        }    #T_dafcd392_8446_11ec_bb79_10604b82940crow2_col5 {\n",
       "            text-align:  left;\n",
       "            background-color:  rgba(0, 100, 255, 0.20);\n",
       "            border:  1px black solid;\n",
       "        }    #T_dafcd392_8446_11ec_bb79_10604b82940crow2_col6 {\n",
       "            text-align:  left;\n",
       "            background-color:  rgba(0, 100, 255, 0.20);\n",
       "            border:  1px black solid;\n",
       "        }    #T_dafcd392_8446_11ec_bb79_10604b82940crow3_col0 {\n",
       "            text-align:  left;\n",
       "            background-color:  rgba(0, 100, 255, 0.20);\n",
       "            border:  1px black solid;\n",
       "        }    #T_dafcd392_8446_11ec_bb79_10604b82940crow3_col1 {\n",
       "            text-align:  left;\n",
       "            background-color:  rgba(0, 100, 255, 0.20);\n",
       "            border:  1px black solid;\n",
       "        }    #T_dafcd392_8446_11ec_bb79_10604b82940crow3_col2 {\n",
       "            text-align:  left;\n",
       "            background-color:  rgba(0, 100, 255, 0.20);\n",
       "            border:  1px black solid;\n",
       "        }    #T_dafcd392_8446_11ec_bb79_10604b82940crow3_col3 {\n",
       "            text-align:  left;\n",
       "            background-color:  rgba(0, 100, 255, 0.20);\n",
       "            border:  1px black solid;\n",
       "        }    #T_dafcd392_8446_11ec_bb79_10604b82940crow3_col4 {\n",
       "            text-align:  left;\n",
       "            background-color:  rgba(0, 100, 255, 0.20);\n",
       "            border:  1px black solid;\n",
       "        }    #T_dafcd392_8446_11ec_bb79_10604b82940crow3_col5 {\n",
       "            text-align:  left;\n",
       "            background-color:  rgba(0, 100, 255, 0.20);\n",
       "            border:  1px black solid;\n",
       "        }    #T_dafcd392_8446_11ec_bb79_10604b82940crow3_col6 {\n",
       "            text-align:  left;\n",
       "            background-color:  rgba(0, 100, 255, 0.20);\n",
       "            border:  1px black solid;\n",
       "        }    #T_dafcd392_8446_11ec_bb79_10604b82940crow4_col0 {\n",
       "            text-align:  left;\n",
       "            background-color:  rgba(0, 100, 255, 0.20);\n",
       "            border:  1px black solid;\n",
       "        }    #T_dafcd392_8446_11ec_bb79_10604b82940crow4_col1 {\n",
       "            text-align:  left;\n",
       "            background-color:  rgba(0, 100, 255, 0.20);\n",
       "            border:  1px black solid;\n",
       "        }    #T_dafcd392_8446_11ec_bb79_10604b82940crow4_col2 {\n",
       "            text-align:  left;\n",
       "            background-color:  rgba(0, 100, 255, 0.20);\n",
       "            border:  1px black solid;\n",
       "        }    #T_dafcd392_8446_11ec_bb79_10604b82940crow4_col3 {\n",
       "            text-align:  left;\n",
       "            background-color:  rgba(0, 100, 255, 0.20);\n",
       "            border:  1px black solid;\n",
       "        }    #T_dafcd392_8446_11ec_bb79_10604b82940crow4_col4 {\n",
       "            text-align:  left;\n",
       "            background-color:  rgba(0, 100, 255, 0.20);\n",
       "            border:  1px black solid;\n",
       "        }    #T_dafcd392_8446_11ec_bb79_10604b82940crow4_col5 {\n",
       "            text-align:  left;\n",
       "            background-color:  rgba(0, 100, 255, 0.20);\n",
       "            border:  1px black solid;\n",
       "        }    #T_dafcd392_8446_11ec_bb79_10604b82940crow4_col6 {\n",
       "            text-align:  left;\n",
       "            background-color:  rgba(0, 100, 255, 0.20);\n",
       "            border:  1px black solid;\n",
       "        }    #T_dafcd392_8446_11ec_bb79_10604b82940crow5_col0 {\n",
       "            text-align:  left;\n",
       "            background-color:  rgba(0, 100, 255, 0.20);\n",
       "            border:  1px black solid;\n",
       "        }    #T_dafcd392_8446_11ec_bb79_10604b82940crow5_col1 {\n",
       "            text-align:  left;\n",
       "            background-color:  rgba(0, 100, 255, 0.20);\n",
       "            border:  1px black solid;\n",
       "        }    #T_dafcd392_8446_11ec_bb79_10604b82940crow5_col2 {\n",
       "            text-align:  left;\n",
       "            background-color:  rgba(0, 100, 255, 0.20);\n",
       "            border:  1px black solid;\n",
       "        }    #T_dafcd392_8446_11ec_bb79_10604b82940crow5_col3 {\n",
       "            text-align:  left;\n",
       "            background-color:  rgba(0, 100, 255, 0.20);\n",
       "            border:  1px black solid;\n",
       "        }    #T_dafcd392_8446_11ec_bb79_10604b82940crow5_col4 {\n",
       "            text-align:  left;\n",
       "            background-color:  rgba(0, 100, 255, 0.20);\n",
       "            border:  1px black solid;\n",
       "        }    #T_dafcd392_8446_11ec_bb79_10604b82940crow5_col5 {\n",
       "            text-align:  left;\n",
       "            background-color:  rgba(0, 100, 255, 0.20);\n",
       "            border:  1px black solid;\n",
       "        }    #T_dafcd392_8446_11ec_bb79_10604b82940crow5_col6 {\n",
       "            text-align:  left;\n",
       "            background-color:  rgba(0, 100, 255, 0.20);\n",
       "            border:  1px black solid;\n",
       "        }</style><table id=\"T_dafcd392_8446_11ec_bb79_10604b82940c\" ><thead>    <tr>        <th class=\"blank level0\" ></th>        <th class=\"col_heading level0 col0\" >Type</th>        <th class=\"col_heading level0 col1\" >Short Name</th>        <th class=\"col_heading level0 col2\" >Latex Name</th>        <th class=\"col_heading level0 col3\" >Description</th>        <th class=\"col_heading level0 col4\" >Distribution</th>        <th class=\"col_heading level0 col5\" >Distribution parameters</th>        <th class=\"col_heading level0 col6\" >Units</th>    </tr>    <tr>        <th class=\"index_name level0\" >ID</th>        <th class=\"blank\" ></th>        <th class=\"blank\" ></th>        <th class=\"blank\" ></th>        <th class=\"blank\" ></th>        <th class=\"blank\" ></th>        <th class=\"blank\" ></th>        <th class=\"blank\" ></th>    </tr></thead><tbody>\n",
       "                <tr>\n",
       "                        <th id=\"T_dafcd392_8446_11ec_bb79_10604b82940clevel0_row0\" class=\"row_heading level0 row0\" >fp_logPoff_logDLALCK_ALCK2</th>\n",
       "                        <td id=\"T_dafcd392_8446_11ec_bb79_10604b82940crow0_col0\" class=\"data row0 col0\" >Free parameter</td>\n",
       "                        <td id=\"T_dafcd392_8446_11ec_bb79_10604b82940crow0_col1\" class=\"data row0 col1\" >logPoff</td>\n",
       "                        <td id=\"T_dafcd392_8446_11ec_bb79_10604b82940crow0_col2\" class=\"data row0 col2\" >$$logPoff^{ALCK}$$</td>\n",
       "                        <td id=\"T_dafcd392_8446_11ec_bb79_10604b82940crow0_col3\" class=\"data row0 col3\" >log10 of deactivation probability</td>\n",
       "                        <td id=\"T_dafcd392_8446_11ec_bb79_10604b82940crow0_col4\" class=\"data row0 col4\" >Normal</td>\n",
       "                        <td id=\"T_dafcd392_8446_11ec_bb79_10604b82940crow0_col5\" class=\"data row0 col5\" >{'mu': '-4.0', 'sd': '1.0'}</td>\n",
       "                        <td id=\"T_dafcd392_8446_11ec_bb79_10604b82940crow0_col6\" class=\"data row0 col6\" >$$-$$</td>\n",
       "            </tr>\n",
       "            <tr>\n",
       "                        <th id=\"T_dafcd392_8446_11ec_bb79_10604b82940clevel0_row1\" class=\"row_heading level0 row1\" >fp_logDiff_logDLALCK_ALCK2</th>\n",
       "                        <td id=\"T_dafcd392_8446_11ec_bb79_10604b82940crow1_col0\" class=\"data row1 col0\" >Free parameter</td>\n",
       "                        <td id=\"T_dafcd392_8446_11ec_bb79_10604b82940crow1_col1\" class=\"data row1 col1\" >logDiff</td>\n",
       "                        <td id=\"T_dafcd392_8446_11ec_bb79_10604b82940crow1_col2\" class=\"data row1 col2\" >$$logDiff^{ALCK}$$</td>\n",
       "                        <td id=\"T_dafcd392_8446_11ec_bb79_10604b82940crow1_col3\" class=\"data row1 col3\" >log10 of diffuion coefficient</td>\n",
       "                        <td id=\"T_dafcd392_8446_11ec_bb79_10604b82940crow1_col4\" class=\"data row1 col4\" >Normal</td>\n",
       "                        <td id=\"T_dafcd392_8446_11ec_bb79_10604b82940crow1_col5\" class=\"data row1 col5\" >{'mu': '-2.0', 'sd': '1.0'}</td>\n",
       "                        <td id=\"T_dafcd392_8446_11ec_bb79_10604b82940crow1_col6\" class=\"data row1 col6\" >$$\\mu m^2/sec$$</td>\n",
       "            </tr>\n",
       "            <tr>\n",
       "                        <th id=\"T_dafcd392_8446_11ec_bb79_10604b82940clevel0_row2\" class=\"row_heading level0 row2\" >rv_intercept_logDLALCK_ALCK2</th>\n",
       "                        <td id=\"T_dafcd392_8446_11ec_bb79_10604b82940crow2_col0\" class=\"data row2 col0\" >Random variable</td>\n",
       "                        <td id=\"T_dafcd392_8446_11ec_bb79_10604b82940crow2_col1\" class=\"data row2 col1\" >intercept</td>\n",
       "                        <td id=\"T_dafcd392_8446_11ec_bb79_10604b82940crow2_col2\" class=\"data row2 col2\" >$$decayLength^{ALCK}_{intercepct}$$</td>\n",
       "                        <td id=\"T_dafcd392_8446_11ec_bb79_10604b82940crow2_col3\" class=\"data row2 col3\" >Intercept of plain with origin</td>\n",
       "                        <td id=\"T_dafcd392_8446_11ec_bb79_10604b82940crow2_col4\" class=\"data row2 col4\" >Normal</td>\n",
       "                        <td id=\"T_dafcd392_8446_11ec_bb79_10604b82940crow2_col5\" class=\"data row2 col5\" >{'mu': '1.972', 'sd': '0.08'}</td>\n",
       "                        <td id=\"T_dafcd392_8446_11ec_bb79_10604b82940crow2_col6\" class=\"data row2 col6\" >$$nm^{-1}$$</td>\n",
       "            </tr>\n",
       "            <tr>\n",
       "                        <th id=\"T_dafcd392_8446_11ec_bb79_10604b82940clevel0_row3\" class=\"row_heading level0 row3\" >rv_PoffSlope_logDLALCK_ALCK2</th>\n",
       "                        <td id=\"T_dafcd392_8446_11ec_bb79_10604b82940crow3_col0\" class=\"data row3 col0\" >Random variable</td>\n",
       "                        <td id=\"T_dafcd392_8446_11ec_bb79_10604b82940crow3_col1\" class=\"data row3 col1\" >PoffSlope</td>\n",
       "                        <td id=\"T_dafcd392_8446_11ec_bb79_10604b82940crow3_col2\" class=\"data row3 col2\" >$$decayLength^{ALCK}_{PoffSlope}$$</td>\n",
       "                        <td id=\"T_dafcd392_8446_11ec_bb79_10604b82940crow3_col3\" class=\"data row3 col3\" >Plain slope for logPoff</td>\n",
       "                        <td id=\"T_dafcd392_8446_11ec_bb79_10604b82940crow3_col4\" class=\"data row3 col4\" >Normal</td>\n",
       "                        <td id=\"T_dafcd392_8446_11ec_bb79_10604b82940crow3_col5\" class=\"data row3 col5\" >{'mu': '-0.28', 'sd': '0.016'}</td>\n",
       "                        <td id=\"T_dafcd392_8446_11ec_bb79_10604b82940crow3_col6\" class=\"data row3 col6\" >$$-$$</td>\n",
       "            </tr>\n",
       "            <tr>\n",
       "                        <th id=\"T_dafcd392_8446_11ec_bb79_10604b82940clevel0_row4\" class=\"row_heading level0 row4\" >rv_DiffSlope_logDLALCK_ALCK2</th>\n",
       "                        <td id=\"T_dafcd392_8446_11ec_bb79_10604b82940crow4_col0\" class=\"data row4 col0\" >Random variable</td>\n",
       "                        <td id=\"T_dafcd392_8446_11ec_bb79_10604b82940crow4_col1\" class=\"data row4 col1\" >DiffSlope</td>\n",
       "                        <td id=\"T_dafcd392_8446_11ec_bb79_10604b82940crow4_col2\" class=\"data row4 col2\" >$$decayLength^{ALCK}_{DiffSlope}$$</td>\n",
       "                        <td id=\"T_dafcd392_8446_11ec_bb79_10604b82940crow4_col3\" class=\"data row4 col3\" >Plain slope for logDiff</td>\n",
       "                        <td id=\"T_dafcd392_8446_11ec_bb79_10604b82940crow4_col4\" class=\"data row4 col4\" >Normal</td>\n",
       "                        <td id=\"T_dafcd392_8446_11ec_bb79_10604b82940crow4_col5\" class=\"data row4 col5\" >{'mu': '0.422', 'sd': '0.033'}</td>\n",
       "                        <td id=\"T_dafcd392_8446_11ec_bb79_10604b82940crow4_col6\" class=\"data row4 col6\" >$$-$$</td>\n",
       "            </tr>\n",
       "            <tr>\n",
       "                        <th id=\"T_dafcd392_8446_11ec_bb79_10604b82940clevel0_row5\" class=\"row_heading level0 row5\" >rv_output_logDLALCK_ALCK2</th>\n",
       "                        <td id=\"T_dafcd392_8446_11ec_bb79_10604b82940crow5_col0\" class=\"data row5 col0\" >Random variable</td>\n",
       "                        <td id=\"T_dafcd392_8446_11ec_bb79_10604b82940crow5_col1\" class=\"data row5 col1\" >output</td>\n",
       "                        <td id=\"T_dafcd392_8446_11ec_bb79_10604b82940crow5_col2\" class=\"data row5 col2\" >$$decayLength^{ALCK}_{output}$$</td>\n",
       "                        <td id=\"T_dafcd392_8446_11ec_bb79_10604b82940crow5_col3\" class=\"data row5 col3\" >Decay length output</td>\n",
       "                        <td id=\"T_dafcd392_8446_11ec_bb79_10604b82940crow5_col4\" class=\"data row5 col4\" >Normal</td>\n",
       "                        <td id=\"T_dafcd392_8446_11ec_bb79_10604b82940crow5_col5\" class=\"data row5 col5\" >{'mu': '2.0', 'sd': '0.5'}</td>\n",
       "                        <td id=\"T_dafcd392_8446_11ec_bb79_10604b82940crow5_col6\" class=\"data row5 col6\" >$$nm$$</td>\n",
       "            </tr>\n",
       "    </tbody></table>"
      ],
      "text/plain": [
       "<pandas.io.formats.style.Styler at 0x115f1448>"
      ]
     },
     "metadata": {},
     "output_type": "display_data"
    }
   ],
   "source": [
    "# Display model2_DLALCK untrained table:\n",
    "df_model2_logDLALCK_untrainedTable = model2_logDLALCK.get_dataframe()\n",
    "df_model2_logDLALCK_untrainedTable = df_model2_logDLALCK_untrainedTable.set_index('ID')\n",
    "\n",
    "display(df_model2_logDLALCK_untrainedTable.style.set_properties(**{'text-align': 'left',\n",
    "                                                'background-color': 'rgba(0, 100, 255, 0.20)',\n",
    "                                                'border' : '1px black solid'}))\n",
    "\n",
    "# Math(r\"e^\\alpha\")"
   ]
  },
  {
   "cell_type": "code",
   "execution_count": 20,
   "metadata": {},
   "outputs": [
    {
     "data": {
      "text/html": [
       "<style  type=\"text/css\" >\n",
       "    #T_dcd40b76_8446_11ec_83e5_10604b82940crow0_col0 {\n",
       "            text-align:  left;\n",
       "            background-color:  rgba(0, 100, 255, 0.20);\n",
       "            border:  1px black solid;\n",
       "        }    #T_dcd40b76_8446_11ec_83e5_10604b82940crow0_col1 {\n",
       "            text-align:  left;\n",
       "            background-color:  rgba(0, 100, 255, 0.20);\n",
       "            border:  1px black solid;\n",
       "        }    #T_dcd40b76_8446_11ec_83e5_10604b82940crow0_col2 {\n",
       "            text-align:  left;\n",
       "            background-color:  rgba(0, 100, 255, 0.20);\n",
       "            border:  1px black solid;\n",
       "        }    #T_dcd40b76_8446_11ec_83e5_10604b82940crow0_col3 {\n",
       "            text-align:  left;\n",
       "            background-color:  rgba(0, 100, 255, 0.20);\n",
       "            border:  1px black solid;\n",
       "        }    #T_dcd40b76_8446_11ec_83e5_10604b82940crow0_col4 {\n",
       "            text-align:  left;\n",
       "            background-color:  rgba(0, 100, 255, 0.20);\n",
       "            border:  1px black solid;\n",
       "        }    #T_dcd40b76_8446_11ec_83e5_10604b82940crow0_col5 {\n",
       "            text-align:  left;\n",
       "            background-color:  rgba(0, 100, 255, 0.20);\n",
       "            border:  1px black solid;\n",
       "        }    #T_dcd40b76_8446_11ec_83e5_10604b82940crow0_col6 {\n",
       "            text-align:  left;\n",
       "            background-color:  rgba(0, 100, 255, 0.20);\n",
       "            border:  1px black solid;\n",
       "        }    #T_dcd40b76_8446_11ec_83e5_10604b82940crow1_col0 {\n",
       "            text-align:  left;\n",
       "            background-color:  rgba(0, 100, 255, 0.20);\n",
       "            border:  1px black solid;\n",
       "        }    #T_dcd40b76_8446_11ec_83e5_10604b82940crow1_col1 {\n",
       "            text-align:  left;\n",
       "            background-color:  rgba(0, 100, 255, 0.20);\n",
       "            border:  1px black solid;\n",
       "        }    #T_dcd40b76_8446_11ec_83e5_10604b82940crow1_col2 {\n",
       "            text-align:  left;\n",
       "            background-color:  rgba(0, 100, 255, 0.20);\n",
       "            border:  1px black solid;\n",
       "        }    #T_dcd40b76_8446_11ec_83e5_10604b82940crow1_col3 {\n",
       "            text-align:  left;\n",
       "            background-color:  rgba(0, 100, 255, 0.20);\n",
       "            border:  1px black solid;\n",
       "        }    #T_dcd40b76_8446_11ec_83e5_10604b82940crow1_col4 {\n",
       "            text-align:  left;\n",
       "            background-color:  rgba(0, 100, 255, 0.20);\n",
       "            border:  1px black solid;\n",
       "        }    #T_dcd40b76_8446_11ec_83e5_10604b82940crow1_col5 {\n",
       "            text-align:  left;\n",
       "            background-color:  rgba(0, 100, 255, 0.20);\n",
       "            border:  1px black solid;\n",
       "        }    #T_dcd40b76_8446_11ec_83e5_10604b82940crow1_col6 {\n",
       "            text-align:  left;\n",
       "            background-color:  rgba(0, 100, 255, 0.20);\n",
       "            border:  1px black solid;\n",
       "        }    #T_dcd40b76_8446_11ec_83e5_10604b82940crow2_col0 {\n",
       "            text-align:  left;\n",
       "            background-color:  rgba(0, 100, 255, 0.20);\n",
       "            border:  1px black solid;\n",
       "        }    #T_dcd40b76_8446_11ec_83e5_10604b82940crow2_col1 {\n",
       "            text-align:  left;\n",
       "            background-color:  rgba(0, 100, 255, 0.20);\n",
       "            border:  1px black solid;\n",
       "        }    #T_dcd40b76_8446_11ec_83e5_10604b82940crow2_col2 {\n",
       "            text-align:  left;\n",
       "            background-color:  rgba(0, 100, 255, 0.20);\n",
       "            border:  1px black solid;\n",
       "        }    #T_dcd40b76_8446_11ec_83e5_10604b82940crow2_col3 {\n",
       "            text-align:  left;\n",
       "            background-color:  rgba(0, 100, 255, 0.20);\n",
       "            border:  1px black solid;\n",
       "        }    #T_dcd40b76_8446_11ec_83e5_10604b82940crow2_col4 {\n",
       "            text-align:  left;\n",
       "            background-color:  rgba(0, 100, 255, 0.20);\n",
       "            border:  1px black solid;\n",
       "        }    #T_dcd40b76_8446_11ec_83e5_10604b82940crow2_col5 {\n",
       "            text-align:  left;\n",
       "            background-color:  rgba(0, 100, 255, 0.20);\n",
       "            border:  1px black solid;\n",
       "        }    #T_dcd40b76_8446_11ec_83e5_10604b82940crow2_col6 {\n",
       "            text-align:  left;\n",
       "            background-color:  rgba(0, 100, 255, 0.20);\n",
       "            border:  1px black solid;\n",
       "        }    #T_dcd40b76_8446_11ec_83e5_10604b82940crow3_col0 {\n",
       "            text-align:  left;\n",
       "            background-color:  rgba(0, 100, 255, 0.20);\n",
       "            border:  1px black solid;\n",
       "        }    #T_dcd40b76_8446_11ec_83e5_10604b82940crow3_col1 {\n",
       "            text-align:  left;\n",
       "            background-color:  rgba(0, 100, 255, 0.20);\n",
       "            border:  1px black solid;\n",
       "        }    #T_dcd40b76_8446_11ec_83e5_10604b82940crow3_col2 {\n",
       "            text-align:  left;\n",
       "            background-color:  rgba(0, 100, 255, 0.20);\n",
       "            border:  1px black solid;\n",
       "        }    #T_dcd40b76_8446_11ec_83e5_10604b82940crow3_col3 {\n",
       "            text-align:  left;\n",
       "            background-color:  rgba(0, 100, 255, 0.20);\n",
       "            border:  1px black solid;\n",
       "        }    #T_dcd40b76_8446_11ec_83e5_10604b82940crow3_col4 {\n",
       "            text-align:  left;\n",
       "            background-color:  rgba(0, 100, 255, 0.20);\n",
       "            border:  1px black solid;\n",
       "        }    #T_dcd40b76_8446_11ec_83e5_10604b82940crow3_col5 {\n",
       "            text-align:  left;\n",
       "            background-color:  rgba(0, 100, 255, 0.20);\n",
       "            border:  1px black solid;\n",
       "        }    #T_dcd40b76_8446_11ec_83e5_10604b82940crow3_col6 {\n",
       "            text-align:  left;\n",
       "            background-color:  rgba(0, 100, 255, 0.20);\n",
       "            border:  1px black solid;\n",
       "        }    #T_dcd40b76_8446_11ec_83e5_10604b82940crow4_col0 {\n",
       "            text-align:  left;\n",
       "            background-color:  rgba(0, 100, 255, 0.20);\n",
       "            border:  1px black solid;\n",
       "        }    #T_dcd40b76_8446_11ec_83e5_10604b82940crow4_col1 {\n",
       "            text-align:  left;\n",
       "            background-color:  rgba(0, 100, 255, 0.20);\n",
       "            border:  1px black solid;\n",
       "        }    #T_dcd40b76_8446_11ec_83e5_10604b82940crow4_col2 {\n",
       "            text-align:  left;\n",
       "            background-color:  rgba(0, 100, 255, 0.20);\n",
       "            border:  1px black solid;\n",
       "        }    #T_dcd40b76_8446_11ec_83e5_10604b82940crow4_col3 {\n",
       "            text-align:  left;\n",
       "            background-color:  rgba(0, 100, 255, 0.20);\n",
       "            border:  1px black solid;\n",
       "        }    #T_dcd40b76_8446_11ec_83e5_10604b82940crow4_col4 {\n",
       "            text-align:  left;\n",
       "            background-color:  rgba(0, 100, 255, 0.20);\n",
       "            border:  1px black solid;\n",
       "        }    #T_dcd40b76_8446_11ec_83e5_10604b82940crow4_col5 {\n",
       "            text-align:  left;\n",
       "            background-color:  rgba(0, 100, 255, 0.20);\n",
       "            border:  1px black solid;\n",
       "        }    #T_dcd40b76_8446_11ec_83e5_10604b82940crow4_col6 {\n",
       "            text-align:  left;\n",
       "            background-color:  rgba(0, 100, 255, 0.20);\n",
       "            border:  1px black solid;\n",
       "        }    #T_dcd40b76_8446_11ec_83e5_10604b82940crow5_col0 {\n",
       "            text-align:  left;\n",
       "            background-color:  rgba(0, 100, 255, 0.20);\n",
       "            border:  1px black solid;\n",
       "        }    #T_dcd40b76_8446_11ec_83e5_10604b82940crow5_col1 {\n",
       "            text-align:  left;\n",
       "            background-color:  rgba(0, 100, 255, 0.20);\n",
       "            border:  1px black solid;\n",
       "        }    #T_dcd40b76_8446_11ec_83e5_10604b82940crow5_col2 {\n",
       "            text-align:  left;\n",
       "            background-color:  rgba(0, 100, 255, 0.20);\n",
       "            border:  1px black solid;\n",
       "        }    #T_dcd40b76_8446_11ec_83e5_10604b82940crow5_col3 {\n",
       "            text-align:  left;\n",
       "            background-color:  rgba(0, 100, 255, 0.20);\n",
       "            border:  1px black solid;\n",
       "        }    #T_dcd40b76_8446_11ec_83e5_10604b82940crow5_col4 {\n",
       "            text-align:  left;\n",
       "            background-color:  rgba(0, 100, 255, 0.20);\n",
       "            border:  1px black solid;\n",
       "        }    #T_dcd40b76_8446_11ec_83e5_10604b82940crow5_col5 {\n",
       "            text-align:  left;\n",
       "            background-color:  rgba(0, 100, 255, 0.20);\n",
       "            border:  1px black solid;\n",
       "        }    #T_dcd40b76_8446_11ec_83e5_10604b82940crow5_col6 {\n",
       "            text-align:  left;\n",
       "            background-color:  rgba(0, 100, 255, 0.20);\n",
       "            border:  1px black solid;\n",
       "        }</style><table id=\"T_dcd40b76_8446_11ec_83e5_10604b82940c\" ><thead>    <tr>        <th class=\"blank level0\" ></th>        <th class=\"col_heading level0 col0\" >Type</th>        <th class=\"col_heading level0 col1\" >Short Name</th>        <th class=\"col_heading level0 col2\" >Latex Name</th>        <th class=\"col_heading level0 col3\" >Description</th>        <th class=\"col_heading level0 col4\" >Distribution</th>        <th class=\"col_heading level0 col5\" >Distribution parameters</th>        <th class=\"col_heading level0 col6\" >Units</th>    </tr>    <tr>        <th class=\"index_name level0\" >ID</th>        <th class=\"blank\" ></th>        <th class=\"blank\" ></th>        <th class=\"blank\" ></th>        <th class=\"blank\" ></th>        <th class=\"blank\" ></th>        <th class=\"blank\" ></th>        <th class=\"blank\" ></th>    </tr></thead><tbody>\n",
       "                <tr>\n",
       "                        <th id=\"T_dcd40b76_8446_11ec_83e5_10604b82940clevel0_row0\" class=\"row_heading level0 row0\" >fp_logPoff_logDLALCK_ALCK2</th>\n",
       "                        <td id=\"T_dcd40b76_8446_11ec_83e5_10604b82940crow0_col0\" class=\"data row0 col0\" >Free parameter</td>\n",
       "                        <td id=\"T_dcd40b76_8446_11ec_83e5_10604b82940crow0_col1\" class=\"data row0 col1\" >logPoff</td>\n",
       "                        <td id=\"T_dcd40b76_8446_11ec_83e5_10604b82940crow0_col2\" class=\"data row0 col2\" >$$logPoff^{ALCK}$$</td>\n",
       "                        <td id=\"T_dcd40b76_8446_11ec_83e5_10604b82940crow0_col3\" class=\"data row0 col3\" >log10 of deactivation probability</td>\n",
       "                        <td id=\"T_dcd40b76_8446_11ec_83e5_10604b82940crow0_col4\" class=\"data row0 col4\" >Normal</td>\n",
       "                        <td id=\"T_dcd40b76_8446_11ec_83e5_10604b82940crow0_col5\" class=\"data row0 col5\" >{'mu': '-4.0', 'sd': '1.0'}</td>\n",
       "                        <td id=\"T_dcd40b76_8446_11ec_83e5_10604b82940crow0_col6\" class=\"data row0 col6\" >$$-$$</td>\n",
       "            </tr>\n",
       "            <tr>\n",
       "                        <th id=\"T_dcd40b76_8446_11ec_83e5_10604b82940clevel0_row1\" class=\"row_heading level0 row1\" >fp_logDiff_logDLALCK_ALCK2</th>\n",
       "                        <td id=\"T_dcd40b76_8446_11ec_83e5_10604b82940crow1_col0\" class=\"data row1 col0\" >Free parameter</td>\n",
       "                        <td id=\"T_dcd40b76_8446_11ec_83e5_10604b82940crow1_col1\" class=\"data row1 col1\" >logDiff</td>\n",
       "                        <td id=\"T_dcd40b76_8446_11ec_83e5_10604b82940crow1_col2\" class=\"data row1 col2\" >$$logDiff^{ALCK}$$</td>\n",
       "                        <td id=\"T_dcd40b76_8446_11ec_83e5_10604b82940crow1_col3\" class=\"data row1 col3\" >log10 of diffuion coefficient</td>\n",
       "                        <td id=\"T_dcd40b76_8446_11ec_83e5_10604b82940crow1_col4\" class=\"data row1 col4\" >Normal</td>\n",
       "                        <td id=\"T_dcd40b76_8446_11ec_83e5_10604b82940crow1_col5\" class=\"data row1 col5\" >{'mu': '-2.0', 'sd': '1.0'}</td>\n",
       "                        <td id=\"T_dcd40b76_8446_11ec_83e5_10604b82940crow1_col6\" class=\"data row1 col6\" >$$\\mu m^2/sec$$</td>\n",
       "            </tr>\n",
       "            <tr>\n",
       "                        <th id=\"T_dcd40b76_8446_11ec_83e5_10604b82940clevel0_row2\" class=\"row_heading level0 row2\" >rv_intercept_logDLALCK_ALCK2</th>\n",
       "                        <td id=\"T_dcd40b76_8446_11ec_83e5_10604b82940crow2_col0\" class=\"data row2 col0\" >Random variable</td>\n",
       "                        <td id=\"T_dcd40b76_8446_11ec_83e5_10604b82940crow2_col1\" class=\"data row2 col1\" >intercept</td>\n",
       "                        <td id=\"T_dcd40b76_8446_11ec_83e5_10604b82940crow2_col2\" class=\"data row2 col2\" >$$decayLength^{ALCK}_{intercepct}$$</td>\n",
       "                        <td id=\"T_dcd40b76_8446_11ec_83e5_10604b82940crow2_col3\" class=\"data row2 col3\" >Intercept of plain with origin</td>\n",
       "                        <td id=\"T_dcd40b76_8446_11ec_83e5_10604b82940crow2_col4\" class=\"data row2 col4\" >Normal</td>\n",
       "                        <td id=\"T_dcd40b76_8446_11ec_83e5_10604b82940crow2_col5\" class=\"data row2 col5\" >{'mu': '1.972', 'sd': '0.08'}</td>\n",
       "                        <td id=\"T_dcd40b76_8446_11ec_83e5_10604b82940crow2_col6\" class=\"data row2 col6\" >$$nm^{-1}$$</td>\n",
       "            </tr>\n",
       "            <tr>\n",
       "                        <th id=\"T_dcd40b76_8446_11ec_83e5_10604b82940clevel0_row3\" class=\"row_heading level0 row3\" >rv_PoffSlope_logDLALCK_ALCK2</th>\n",
       "                        <td id=\"T_dcd40b76_8446_11ec_83e5_10604b82940crow3_col0\" class=\"data row3 col0\" >Random variable</td>\n",
       "                        <td id=\"T_dcd40b76_8446_11ec_83e5_10604b82940crow3_col1\" class=\"data row3 col1\" >PoffSlope</td>\n",
       "                        <td id=\"T_dcd40b76_8446_11ec_83e5_10604b82940crow3_col2\" class=\"data row3 col2\" >$$decayLength^{ALCK}_{PoffSlope}$$</td>\n",
       "                        <td id=\"T_dcd40b76_8446_11ec_83e5_10604b82940crow3_col3\" class=\"data row3 col3\" >Plain slope for logPoff</td>\n",
       "                        <td id=\"T_dcd40b76_8446_11ec_83e5_10604b82940crow3_col4\" class=\"data row3 col4\" >Normal</td>\n",
       "                        <td id=\"T_dcd40b76_8446_11ec_83e5_10604b82940crow3_col5\" class=\"data row3 col5\" >{'mu': '-0.28', 'sd': '0.016'}</td>\n",
       "                        <td id=\"T_dcd40b76_8446_11ec_83e5_10604b82940crow3_col6\" class=\"data row3 col6\" >$$-$$</td>\n",
       "            </tr>\n",
       "            <tr>\n",
       "                        <th id=\"T_dcd40b76_8446_11ec_83e5_10604b82940clevel0_row4\" class=\"row_heading level0 row4\" >rv_DiffSlope_logDLALCK_ALCK2</th>\n",
       "                        <td id=\"T_dcd40b76_8446_11ec_83e5_10604b82940crow4_col0\" class=\"data row4 col0\" >Random variable</td>\n",
       "                        <td id=\"T_dcd40b76_8446_11ec_83e5_10604b82940crow4_col1\" class=\"data row4 col1\" >DiffSlope</td>\n",
       "                        <td id=\"T_dcd40b76_8446_11ec_83e5_10604b82940crow4_col2\" class=\"data row4 col2\" >$$decayLength^{ALCK}_{DiffSlope}$$</td>\n",
       "                        <td id=\"T_dcd40b76_8446_11ec_83e5_10604b82940crow4_col3\" class=\"data row4 col3\" >Plain slope for logDiff</td>\n",
       "                        <td id=\"T_dcd40b76_8446_11ec_83e5_10604b82940crow4_col4\" class=\"data row4 col4\" >Normal</td>\n",
       "                        <td id=\"T_dcd40b76_8446_11ec_83e5_10604b82940crow4_col5\" class=\"data row4 col5\" >{'mu': '0.422', 'sd': '0.033'}</td>\n",
       "                        <td id=\"T_dcd40b76_8446_11ec_83e5_10604b82940crow4_col6\" class=\"data row4 col6\" >$$-$$</td>\n",
       "            </tr>\n",
       "            <tr>\n",
       "                        <th id=\"T_dcd40b76_8446_11ec_83e5_10604b82940clevel0_row5\" class=\"row_heading level0 row5\" >rv_output_logDLALCK_ALCK2</th>\n",
       "                        <td id=\"T_dcd40b76_8446_11ec_83e5_10604b82940crow5_col0\" class=\"data row5 col0\" >Random variable</td>\n",
       "                        <td id=\"T_dcd40b76_8446_11ec_83e5_10604b82940crow5_col1\" class=\"data row5 col1\" >output</td>\n",
       "                        <td id=\"T_dcd40b76_8446_11ec_83e5_10604b82940crow5_col2\" class=\"data row5 col2\" >$$decayLength^{ALCK}_{output}$$</td>\n",
       "                        <td id=\"T_dcd40b76_8446_11ec_83e5_10604b82940crow5_col3\" class=\"data row5 col3\" >Decay length output</td>\n",
       "                        <td id=\"T_dcd40b76_8446_11ec_83e5_10604b82940crow5_col4\" class=\"data row5 col4\" >Normal</td>\n",
       "                        <td id=\"T_dcd40b76_8446_11ec_83e5_10604b82940crow5_col5\" class=\"data row5 col5\" >{'mu': '2.0', 'sd': '0.5'}</td>\n",
       "                        <td id=\"T_dcd40b76_8446_11ec_83e5_10604b82940crow5_col6\" class=\"data row5 col6\" >$$nm$$</td>\n",
       "            </tr>\n",
       "    </tbody></table>"
      ],
      "text/plain": [
       "<pandas.io.formats.style.Styler at 0x116d8f88>"
      ]
     },
     "metadata": {},
     "output_type": "display_data"
    }
   ],
   "source": [
    "# concatanate untrained tables:\n",
    "\n",
    "df_model2_untrainedTable = pd.concat([df_model2_logDLALCK_untrainedTable],\n",
    "                                      ignore_index=False)\n",
    "\n",
    "# select \"Free parameter\" rows:\n",
    "# fpRows = df_model2_untrainedTable.loc[:,'Type'] == \"Free parameter\"\n",
    "\n",
    "# select \"Random variable\" rows:\n",
    "# rv1Rows = df_model2_untrainedTable.loc[:,'Type'] == \"Random variable\"\n",
    "\n",
    "display(df_model2_untrainedTable.style.set_properties(**{'text-align': 'left',\n",
    "                                                'background-color': 'rgba(0, 100, 255, 0.20)',\n",
    "                                                'border' : '1px black solid'}))\n",
    "\n"
   ]
  },
  {
   "cell_type": "markdown",
   "metadata": {
    "id": "HQyb29idZLvF"
   },
   "source": [
    "# Untrained model"
   ]
  },
  {
   "cell_type": "code",
   "execution_count": 21,
   "metadata": {
    "cellView": "code",
    "code_folding": [],
    "colab": {
     "base_uri": "https://localhost:8080/",
     "height": 269
    },
    "id": "YvxTaO89cZFH",
    "outputId": "a1c48640-7e6b-4e29-e0c4-d21f0dbbe019"
   },
   "outputs": [],
   "source": [
    "#@title Untrained model\n",
    "\n",
    "def get_pm_model2_untrained(df_trainingData_model2):\n",
    "    \n",
    "    pm_model2 = pm.Model()\n",
    "    with pm_model2:\n",
    "        dfRV = df_model2_untrainedTable\n",
    "        DP = 'Distribution parameters'\n",
    "        \n",
    "        # model2.D:\n",
    "        logPoff_LCKA2_obs = df_trainingData_model2.loc[:,'logPoff'].values\n",
    "        logDiff_LCKA2_obs = df_trainingData_model2.loc[:,'logDiff'].values\n",
    "\n",
    "        logDLALCK_ALCK2_obs = df_trainingData_model2.loc[:,'logDLALCK'].values\n",
    "        \n",
    "        # rv_logPoff\n",
    "        ID = 'fp_logPoff_logDLALCK_ALCK2'\n",
    "        rv_logPoff = pm.Normal('rv_logPoff',\n",
    "            mu = eval(dfRV.loc[ID,DP]['mu']),\n",
    "            sd = eval(dfRV.loc[ID,DP]['sd']),\n",
    "            observed = logPoff_LCKA2_obs)\n",
    "        \n",
    "        # rv_logDiff\n",
    "        ID = 'fp_logDiff_logDLALCK_ALCK2'\n",
    "        rv_logDiff = pm.Normal('rv_logDiff',\n",
    "            mu = eval(dfRV.loc[ID,DP]['mu']),\n",
    "            sd = eval(dfRV.loc[ID,DP]['sd']),\n",
    "            observed = logDiff_LCKA2_obs) # todo values\n",
    "        \n",
    "        \n",
    "        # decayLengthALCK ####################################################\n",
    "        \"\"\"TODO: read parameters values from RV table\"\"\"\n",
    "        # rv_intercept_logDLALCK_ALCK2\n",
    "        ID = 'rv_intercept_logDLALCK_ALCK2'\n",
    "        rv_intercept_logDLALCK_ALCK2 = pm.Normal(ID, \n",
    "            mu = eval(dfRV.loc[ID,DP]['mu']), \n",
    "            sd = eval(dfRV.loc[ID,DP]['sd']))\n",
    "\n",
    "        # rv_PoffSlope_logDLALCK_ALCK2\n",
    "        ID = 'rv_PoffSlope_logDLALCK_ALCK2'\n",
    "        rv_PoffSlope_logDLALCK_ALCK2 = pm.Normal(ID, \n",
    "            mu = eval(dfRV.loc[ID,DP]['mu']), \n",
    "            sd = eval(dfRV.loc[ID,DP]['sd'])) \n",
    "\n",
    "        # rv_DiffSlope_logDLALCK_ALCK2\n",
    "        ID = 'rv_DiffSlope_logDLALCK_ALCK2'\n",
    "        rv_DiffSlope_logDLALCK_ALCK2 = pm.Normal(ID, \n",
    "            mu = eval(dfRV.loc[ID,DP]['mu']), \n",
    "            sd = eval(dfRV.loc[ID,DP]['sd'])) \n",
    "\n",
    "        # rv_output_logDLALCK_ALCK2, equation:\n",
    "        ID = 'rv_output_logDLALCK_ALCK2'\n",
    "        rv_output_logDLALCK_ALCK2 = pm.Normal(ID, \n",
    "            mu = rv_intercept_logDLALCK_ALCK2 +\\\n",
    "            rv_PoffSlope_logDLALCK_ALCK2*rv_logPoff +\\\n",
    "            rv_DiffSlope_logDLALCK_ALCK2*rv_logDiff,\n",
    "            sd = eval(dfRV.loc[ID,DP]['sd']),\n",
    "            observed = logDLALCK_ALCK2_obs) #\n",
    "        \n",
    "        #############################################################\n",
    "    return pm_model2\n",
    "\n"
   ]
  },
  {
   "cell_type": "code",
   "execution_count": 22,
   "metadata": {},
   "outputs": [
    {
     "data": {
      "image/svg+xml": [
       "<?xml version=\"1.0\" encoding=\"UTF-8\" standalone=\"no\"?>\r\n",
       "<!DOCTYPE svg PUBLIC \"-//W3C//DTD SVG 1.1//EN\"\r\n",
       " \"http://www.w3.org/Graphics/SVG/1.1/DTD/svg11.dtd\">\r\n",
       "<!-- Generated by graphviz version 2.38.0 (20140413.2041)\r\n",
       " -->\r\n",
       "<!-- Title: %3 Pages: 1 -->\r\n",
       "<svg width=\"1520pt\" height=\"171pt\"\r\n",
       " viewBox=\"0.00 0.00 1519.63 171.00\" xmlns=\"http://www.w3.org/2000/svg\" xmlns:xlink=\"http://www.w3.org/1999/xlink\">\r\n",
       "<g id=\"graph0\" class=\"graph\" transform=\"scale(1 1) rotate(0) translate(4 167)\">\r\n",
       "<title>%3</title>\r\n",
       "<polygon fill=\"white\" stroke=\"none\" points=\"-4,4 -4,-167 1515.63,-167 1515.63,4 -4,4\"/>\r\n",
       "<g id=\"clust1\" class=\"cluster\"><title>cluster100</title>\r\n",
       "<path fill=\"none\" stroke=\"black\" d=\"M20,-8C20,-8 374,-8 374,-8 380,-8 386,-14 386,-20 386,-20 386,-143 386,-143 386,-149 380,-155 374,-155 374,-155 20,-155 20,-155 14,-155 8,-149 8,-143 8,-143 8,-20 8,-20 8,-14 14,-8 20,-8\"/>\r\n",
       "<text text-anchor=\"middle\" x=\"367.5\" y=\"-15.8\" font-family=\"Times New Roman,serif\" font-size=\"14.00\">100</text>\r\n",
       "</g>\r\n",
       "<!-- rv_logDiff -->\r\n",
       "<g id=\"node1\" class=\"node\"><title>rv_logDiff</title>\r\n",
       "<ellipse fill=\"lightgrey\" stroke=\"black\" cx=\"293\" cy=\"-129\" rx=\"85.2851\" ry=\"18\"/>\r\n",
       "<text text-anchor=\"middle\" x=\"293\" y=\"-125.3\" font-family=\"Times New Roman,serif\" font-size=\"14.00\">rv_logDiff ~ Normal</text>\r\n",
       "</g>\r\n",
       "<!-- rv_output_logDLALCK_ALCK2 -->\r\n",
       "<g id=\"node2\" class=\"node\"><title>rv_output_logDLALCK_ALCK2</title>\r\n",
       "<ellipse fill=\"lightgrey\" stroke=\"black\" cx=\"209\" cy=\"-57\" rx=\"168.97\" ry=\"18\"/>\r\n",
       "<text text-anchor=\"middle\" x=\"209\" y=\"-53.3\" font-family=\"Times New Roman,serif\" font-size=\"14.00\">rv_output_logDLALCK_ALCK2 ~ Normal</text>\r\n",
       "</g>\r\n",
       "<!-- rv_logDiff&#45;&gt;rv_output_logDLALCK_ALCK2 -->\r\n",
       "<g id=\"edge3\" class=\"edge\"><title>rv_logDiff&#45;&gt;rv_output_logDLALCK_ALCK2</title>\r\n",
       "<path fill=\"none\" stroke=\"black\" d=\"M273.093,-111.411C262.371,-102.476 248.964,-91.3033 237.187,-81.4893\"/>\r\n",
       "<polygon fill=\"black\" stroke=\"black\" points=\"239.27,-78.6693 229.347,-74.9562 234.789,-84.0469 239.27,-78.6693\"/>\r\n",
       "</g>\r\n",
       "<!-- rv_logPoff -->\r\n",
       "<g id=\"node3\" class=\"node\"><title>rv_logPoff</title>\r\n",
       "<ellipse fill=\"lightgrey\" stroke=\"black\" cx=\"103\" cy=\"-129\" rx=\"87.1846\" ry=\"18\"/>\r\n",
       "<text text-anchor=\"middle\" x=\"103\" y=\"-125.3\" font-family=\"Times New Roman,serif\" font-size=\"14.00\">rv_logPoff ~ Normal</text>\r\n",
       "</g>\r\n",
       "<!-- rv_logPoff&#45;&gt;rv_output_logDLALCK_ALCK2 -->\r\n",
       "<g id=\"edge2\" class=\"edge\"><title>rv_logPoff&#45;&gt;rv_output_logDLALCK_ALCK2</title>\r\n",
       "<path fill=\"none\" stroke=\"black\" d=\"M127.852,-111.588C141.868,-102.332 159.584,-90.6333 174.884,-80.5294\"/>\r\n",
       "<polygon fill=\"black\" stroke=\"black\" points=\"177.151,-83.2266 183.567,-74.7953 173.294,-77.3853 177.151,-83.2266\"/>\r\n",
       "</g>\r\n",
       "<!-- rv_intercept_logDLALCK_ALCK2 -->\r\n",
       "<g id=\"node4\" class=\"node\"><title>rv_intercept_logDLALCK_ALCK2</title>\r\n",
       "<ellipse fill=\"none\" stroke=\"black\" cx=\"573\" cy=\"-129\" rx=\"176.569\" ry=\"18\"/>\r\n",
       "<text text-anchor=\"middle\" x=\"573\" y=\"-125.3\" font-family=\"Times New Roman,serif\" font-size=\"14.00\">rv_intercept_logDLALCK_ALCK2 ~ Normal</text>\r\n",
       "</g>\r\n",
       "<!-- rv_intercept_logDLALCK_ALCK2&#45;&gt;rv_output_logDLALCK_ALCK2 -->\r\n",
       "<g id=\"edge4\" class=\"edge\"><title>rv_intercept_logDLALCK_ALCK2&#45;&gt;rv_output_logDLALCK_ALCK2</title>\r\n",
       "<path fill=\"none\" stroke=\"black\" d=\"M494.017,-112.811C435.885,-101.632 356.845,-86.4317 296.744,-74.8739\"/>\r\n",
       "<polygon fill=\"black\" stroke=\"black\" points=\"297.371,-71.4304 286.89,-72.9788 296.049,-78.3044 297.371,-71.4304\"/>\r\n",
       "</g>\r\n",
       "<!-- rv_DiffSlope_logDLALCK_ALCK2 -->\r\n",
       "<g id=\"node5\" class=\"node\"><title>rv_DiffSlope_logDLALCK_ALCK2</title>\r\n",
       "<ellipse fill=\"none\" stroke=\"black\" cx=\"948\" cy=\"-129\" rx=\"180.868\" ry=\"18\"/>\r\n",
       "<text text-anchor=\"middle\" x=\"948\" y=\"-125.3\" font-family=\"Times New Roman,serif\" font-size=\"14.00\">rv_DiffSlope_logDLALCK_ALCK2 ~ Normal</text>\r\n",
       "</g>\r\n",
       "<!-- rv_DiffSlope_logDLALCK_ALCK2&#45;&gt;rv_output_logDLALCK_ALCK2 -->\r\n",
       "<g id=\"edge1\" class=\"edge\"><title>rv_DiffSlope_logDLALCK_ALCK2&#45;&gt;rv_output_logDLALCK_ALCK2</title>\r\n",
       "<path fill=\"none\" stroke=\"black\" d=\"M821.801,-116.046C687.776,-103.351 476.872,-83.3735 340.764,-70.481\"/>\r\n",
       "<polygon fill=\"black\" stroke=\"black\" points=\"340.974,-66.9853 330.688,-69.5266 340.314,-73.9541 340.974,-66.9853\"/>\r\n",
       "</g>\r\n",
       "<!-- rv_PoffSlope_logDLALCK_ALCK2 -->\r\n",
       "<g id=\"node6\" class=\"node\"><title>rv_PoffSlope_logDLALCK_ALCK2</title>\r\n",
       "<ellipse fill=\"none\" stroke=\"black\" cx=\"1329\" cy=\"-129\" rx=\"182.768\" ry=\"18\"/>\r\n",
       "<text text-anchor=\"middle\" x=\"1329\" y=\"-125.3\" font-family=\"Times New Roman,serif\" font-size=\"14.00\">rv_PoffSlope_logDLALCK_ALCK2 ~ Normal</text>\r\n",
       "</g>\r\n",
       "<!-- rv_PoffSlope_logDLALCK_ALCK2&#45;&gt;rv_output_logDLALCK_ALCK2 -->\r\n",
       "<g id=\"edge5\" class=\"edge\"><title>rv_PoffSlope_logDLALCK_ALCK2&#45;&gt;rv_output_logDLALCK_ALCK2</title>\r\n",
       "<path fill=\"none\" stroke=\"black\" d=\"M1201.65,-116.098C1180.4,-114.275 1158.59,-112.503 1138,-111 868.85,-91.3495 555.383,-74.7765 370.045,-65.632\"/>\r\n",
       "<polygon fill=\"black\" stroke=\"black\" points=\"370.106,-62.1309 359.946,-65.1349 369.762,-69.1224 370.106,-62.1309\"/>\r\n",
       "</g>\r\n",
       "</g>\r\n",
       "</svg>\r\n"
      ],
      "text/plain": [
       "<graphviz.dot.Digraph at 0x116f5a88>"
      ]
     },
     "execution_count": 22,
     "metadata": {},
     "output_type": "execute_result"
    }
   ],
   "source": [
    "pm_model2= get_pm_model2_untrained(df_trainingData_model2) \n",
    "gv2 = pm.model_to_graphviz(pm_model2)\n",
    "gv2"
   ]
  },
  {
   "cell_type": "code",
   "execution_count": 23,
   "metadata": {
    "id": "dEivwhLrU9Kf"
   },
   "outputs": [],
   "source": [
    "if False:\n",
    "    gv2.render(\"model2_graph\", format=\"png\")\n",
    "    files.download(\"model2_graph.png\") # Download locally from colab"
   ]
  },
  {
   "cell_type": "code",
   "execution_count": 24,
   "metadata": {
    "colab": {
     "base_uri": "https://localhost:8080/"
    },
    "id": "DsIhtEyhU-iV",
    "outputId": "cda374bf-8fe7-446b-e0e6-d04ef5955129"
   },
   "outputs": [
    {
     "name": "stderr",
     "output_type": "stream",
     "text": [
      "Auto-assigning NUTS sampler...\n",
      "Initializing NUTS using jitter+adapt_diag...\n",
      "Multiprocess sampling (4 chains in 4 jobs)\n",
      "NUTS: [rv_DiffSlope_logDLALCK_ALCK2, rv_PoffSlope_logDLALCK_ALCK2, rv_intercept_logDLALCK_ALCK2]\n",
      "Sampling 4 chains, 0 divergences: 100%|██████████| 10000/10000 [00:13<00:00, 758.97draws/s]\n",
      "The acceptance probability does not match the target. It is 0.882969013495793, but should be close to 0.8. Try to increase the number of tuning steps.\n"
     ]
    }
   ],
   "source": [
    "with pm_model2:\n",
    "    trace2 = pm.sample(2000, chains=4)"
   ]
  },
  {
   "cell_type": "code",
   "execution_count": 25,
   "metadata": {
    "id": "4JwiFXpoVBVF"
   },
   "outputs": [
    {
     "name": "stderr",
     "output_type": "stream",
     "text": [
      "C:\\Users\\Owner\\Anaconda3\\lib\\site-packages\\arviz\\data\\io_pymc3.py:89: FutureWarning: Using `from_pymc3` without the model will be deprecated in a future release. Not using the model will return less accurate and less useful results. Make sure you use the model argument or call from_pymc3 within a model context.\n",
      "  FutureWarning,\n"
     ]
    },
    {
     "data": {
      "image/png": "[encoded data removed]",
      "text/plain": [
       "<Figure size 864x432 with 6 Axes>"
      ]
     },
     "metadata": {
      "needs_background": "light"
     },
     "output_type": "display_data"
    }
   ],
   "source": [
    "pm.traceplot(trace2);"
   ]
  },
  {
   "cell_type": "code",
   "execution_count": 26,
   "metadata": {
    "colab": {
     "base_uri": "https://localhost:8080/"
    },
    "id": "hAW9UjBnu8q5",
    "outputId": "3df5bd51-0c68-4259-e6fa-1a345a36e87b"
   },
   "outputs": [
    {
     "name": "stderr",
     "output_type": "stream",
     "text": [
      "C:\\Users\\Owner\\Anaconda3\\lib\\site-packages\\arviz\\data\\io_pymc3.py:89: FutureWarning: Using `from_pymc3` without the model will be deprecated in a future release. Not using the model will return less accurate and less useful results. Make sure you use the model argument or call from_pymc3 within a model context.\n",
      "  FutureWarning,\n"
     ]
    }
   ],
   "source": [
    "# save trace_summary:\n",
    "trace2_summary = pm.summary(trace2).round(3) # var_names=[\"mu\", \"tau\"]\n",
    "trace2_summary.to_pickle('trace2_summary')\n"
   ]
  },
  {
   "cell_type": "code",
   "execution_count": 27,
   "metadata": {
    "colab": {
     "base_uri": "https://localhost:8080/",
     "height": 254
    },
    "id": "Pz0hMdLuv0qW",
    "outputId": "0050b6ba-4e87-4ad8-9312-4d7c74b05359"
   },
   "outputs": [
    {
     "data": {
      "text/html": [
       "<div>\n",
       "<style scoped>\n",
       "    .dataframe tbody tr th:only-of-type {\n",
       "        vertical-align: middle;\n",
       "    }\n",
       "\n",
       "    .dataframe tbody tr th {\n",
       "        vertical-align: top;\n",
       "    }\n",
       "\n",
       "    .dataframe thead th {\n",
       "        text-align: right;\n",
       "    }\n",
       "</style>\n",
       "<table border=\"1\" class=\"dataframe\">\n",
       "  <thead>\n",
       "    <tr style=\"text-align: right;\">\n",
       "      <th></th>\n",
       "      <th>mean</th>\n",
       "      <th>sd</th>\n",
       "    </tr>\n",
       "  </thead>\n",
       "  <tbody>\n",
       "    <tr>\n",
       "      <td>rv_intercept_logDLALCK_ALCK2</td>\n",
       "      <td>1.973</td>\n",
       "      <td>0.060</td>\n",
       "    </tr>\n",
       "    <tr>\n",
       "      <td>rv_PoffSlope_logDLALCK_ALCK2</td>\n",
       "      <td>-0.280</td>\n",
       "      <td>0.014</td>\n",
       "    </tr>\n",
       "    <tr>\n",
       "      <td>rv_DiffSlope_logDLALCK_ALCK2</td>\n",
       "      <td>0.423</td>\n",
       "      <td>0.026</td>\n",
       "    </tr>\n",
       "  </tbody>\n",
       "</table>\n",
       "</div>"
      ],
      "text/plain": [
       "                               mean     sd\n",
       "rv_intercept_logDLALCK_ALCK2  1.973  0.060\n",
       "rv_PoffSlope_logDLALCK_ALCK2 -0.280  0.014\n",
       "rv_DiffSlope_logDLALCK_ALCK2  0.423  0.026"
      ]
     },
     "execution_count": 27,
     "metadata": {},
     "output_type": "execute_result"
    }
   ],
   "source": [
    "#@title Read 'mean' and 'sd' values from 'trace_summary'\n",
    "# r = read, to distinguish between the original and the saved files.\n",
    "trace2_summary_r = pd.read_pickle('trace2_summary') \n",
    "\n",
    "# displaying the rv names and the data of intersest: 'mean' and 'sd':\n",
    "mean_sd_r = trace2_summary_r.loc[:, ['mean','sd']]\n",
    "mean_sd_r"
   ]
  },
  {
   "cell_type": "code",
   "execution_count": 28,
   "metadata": {},
   "outputs": [
    {
     "data": {
      "text/html": [
       "<div>\n",
       "<style scoped>\n",
       "    .dataframe tbody tr th:only-of-type {\n",
       "        vertical-align: middle;\n",
       "    }\n",
       "\n",
       "    .dataframe tbody tr th {\n",
       "        vertical-align: top;\n",
       "    }\n",
       "\n",
       "    .dataframe thead th {\n",
       "        text-align: right;\n",
       "    }\n",
       "</style>\n",
       "<table border=\"1\" class=\"dataframe\">\n",
       "  <thead>\n",
       "    <tr style=\"text-align: right;\">\n",
       "      <th></th>\n",
       "      <th>Type</th>\n",
       "      <th>Short Name</th>\n",
       "      <th>Latex Name</th>\n",
       "      <th>Description</th>\n",
       "      <th>Distribution</th>\n",
       "      <th>Distribution parameters</th>\n",
       "      <th>Units</th>\n",
       "    </tr>\n",
       "    <tr>\n",
       "      <th>ID</th>\n",
       "      <th></th>\n",
       "      <th></th>\n",
       "      <th></th>\n",
       "      <th></th>\n",
       "      <th></th>\n",
       "      <th></th>\n",
       "      <th></th>\n",
       "    </tr>\n",
       "  </thead>\n",
       "  <tbody>\n",
       "    <tr>\n",
       "      <td>fp_logPoff_logDLALCK_ALCK2</td>\n",
       "      <td>Free parameter</td>\n",
       "      <td>logPoff</td>\n",
       "      <td>$$logPoff^{ALCK}$$</td>\n",
       "      <td>log10 of deactivation probability</td>\n",
       "      <td>Normal</td>\n",
       "      <td>{'mu': '-4.0', 'sd': '1.0'}</td>\n",
       "      <td>$$-$$</td>\n",
       "    </tr>\n",
       "    <tr>\n",
       "      <td>fp_logDiff_logDLALCK_ALCK2</td>\n",
       "      <td>Free parameter</td>\n",
       "      <td>logDiff</td>\n",
       "      <td>$$logDiff^{ALCK}$$</td>\n",
       "      <td>log10 of diffuion coefficient</td>\n",
       "      <td>Normal</td>\n",
       "      <td>{'mu': '-2.0', 'sd': '1.0'}</td>\n",
       "      <td>$$\\mu m^2/sec$$</td>\n",
       "    </tr>\n",
       "    <tr>\n",
       "      <td>rv_intercept_logDLALCK_ALCK2</td>\n",
       "      <td>Random variable</td>\n",
       "      <td>intercept</td>\n",
       "      <td>$$decayLength^{ALCK}_{intercepct}$$</td>\n",
       "      <td>Intercept of plain with origin</td>\n",
       "      <td>Normal</td>\n",
       "      <td>{'mu': '1.973', 'sd': '0.06'}</td>\n",
       "      <td>$$nm^{-1}$$</td>\n",
       "    </tr>\n",
       "    <tr>\n",
       "      <td>rv_PoffSlope_logDLALCK_ALCK2</td>\n",
       "      <td>Random variable</td>\n",
       "      <td>PoffSlope</td>\n",
       "      <td>$$decayLength^{ALCK}_{PoffSlope}$$</td>\n",
       "      <td>Plain slope for logPoff</td>\n",
       "      <td>Normal</td>\n",
       "      <td>{'mu': '-0.28', 'sd': '0.014'}</td>\n",
       "      <td>$$-$$</td>\n",
       "    </tr>\n",
       "    <tr>\n",
       "      <td>rv_DiffSlope_logDLALCK_ALCK2</td>\n",
       "      <td>Random variable</td>\n",
       "      <td>DiffSlope</td>\n",
       "      <td>$$decayLength^{ALCK}_{DiffSlope}$$</td>\n",
       "      <td>Plain slope for logDiff</td>\n",
       "      <td>Normal</td>\n",
       "      <td>{'mu': '0.423', 'sd': '0.026'}</td>\n",
       "      <td>$$-$$</td>\n",
       "    </tr>\n",
       "    <tr>\n",
       "      <td>rv_output_logDLALCK_ALCK2</td>\n",
       "      <td>Random variable</td>\n",
       "      <td>output</td>\n",
       "      <td>$$decayLength^{ALCK}_{output}$$</td>\n",
       "      <td>Decay length output</td>\n",
       "      <td>Normal</td>\n",
       "      <td>{'mu': '2.0', 'sd': '0.5'}</td>\n",
       "      <td>$$nm$$</td>\n",
       "    </tr>\n",
       "  </tbody>\n",
       "</table>\n",
       "</div>"
      ],
      "text/plain": [
       "                                         Type Short Name  \\\n",
       "ID                                                         \n",
       "fp_logPoff_logDLALCK_ALCK2     Free parameter    logPoff   \n",
       "fp_logDiff_logDLALCK_ALCK2     Free parameter    logDiff   \n",
       "rv_intercept_logDLALCK_ALCK2  Random variable  intercept   \n",
       "rv_PoffSlope_logDLALCK_ALCK2  Random variable  PoffSlope   \n",
       "rv_DiffSlope_logDLALCK_ALCK2  Random variable  DiffSlope   \n",
       "rv_output_logDLALCK_ALCK2     Random variable     output   \n",
       "\n",
       "                                                       Latex Name  \\\n",
       "ID                                                                  \n",
       "fp_logPoff_logDLALCK_ALCK2                     $$logPoff^{ALCK}$$   \n",
       "fp_logDiff_logDLALCK_ALCK2                     $$logDiff^{ALCK}$$   \n",
       "rv_intercept_logDLALCK_ALCK2  $$decayLength^{ALCK}_{intercepct}$$   \n",
       "rv_PoffSlope_logDLALCK_ALCK2   $$decayLength^{ALCK}_{PoffSlope}$$   \n",
       "rv_DiffSlope_logDLALCK_ALCK2   $$decayLength^{ALCK}_{DiffSlope}$$   \n",
       "rv_output_logDLALCK_ALCK2         $$decayLength^{ALCK}_{output}$$   \n",
       "\n",
       "                                                    Description Distribution  \\\n",
       "ID                                                                             \n",
       "fp_logPoff_logDLALCK_ALCK2    log10 of deactivation probability       Normal   \n",
       "fp_logDiff_logDLALCK_ALCK2        log10 of diffuion coefficient       Normal   \n",
       "rv_intercept_logDLALCK_ALCK2     Intercept of plain with origin       Normal   \n",
       "rv_PoffSlope_logDLALCK_ALCK2            Plain slope for logPoff       Normal   \n",
       "rv_DiffSlope_logDLALCK_ALCK2            Plain slope for logDiff       Normal   \n",
       "rv_output_logDLALCK_ALCK2                   Decay length output       Normal   \n",
       "\n",
       "                                     Distribution parameters            Units  \n",
       "ID                                                                             \n",
       "fp_logPoff_logDLALCK_ALCK2       {'mu': '-4.0', 'sd': '1.0'}            $$-$$  \n",
       "fp_logDiff_logDLALCK_ALCK2       {'mu': '-2.0', 'sd': '1.0'}  $$\\mu m^2/sec$$  \n",
       "rv_intercept_logDLALCK_ALCK2   {'mu': '1.973', 'sd': '0.06'}      $$nm^{-1}$$  \n",
       "rv_PoffSlope_logDLALCK_ALCK2  {'mu': '-0.28', 'sd': '0.014'}            $$-$$  \n",
       "rv_DiffSlope_logDLALCK_ALCK2  {'mu': '0.423', 'sd': '0.026'}            $$-$$  \n",
       "rv_output_logDLALCK_ALCK2         {'mu': '2.0', 'sd': '0.5'}           $$nm$$  "
      ]
     },
     "execution_count": 28,
     "metadata": {},
     "output_type": "execute_result"
    }
   ],
   "source": [
    "#@ Update trained parameters values\n",
    "df_model2_trainedTable = df_model2_untrainedTable\n",
    "DP = 'Distribution parameters'\n",
    "for rv in mean_sd_r.index:\n",
    "#     print(rv)\n",
    "    df_model2_trainedTable.loc[rv,DP]['mu'] = str(mean_sd_r.loc[rv]['mean'])\n",
    "    df_model2_trainedTable.loc[rv,DP]['sd'] = str(mean_sd_r.loc[rv]['sd'])\n",
    "\n",
    "df_model2_trainedTable.to_pickle('df_model2_trainedTable')\n",
    "df_model2_trainedTable"
   ]
  },
  {
   "cell_type": "code",
   "execution_count": 29,
   "metadata": {
    "slideshow": {
     "slide_type": "slide"
    }
   },
   "outputs": [
    {
     "data": {
      "text/html": [
       "<style  type=\"text/css\" >\n",
       "    #T_f95cf8f6_8447_11ec_8bb8_10604b82940crow0_col0 {\n",
       "            text-align:  left;\n",
       "            background-color:  rgba(0, 100, 255, 0.20);\n",
       "            border:  1px black solid;\n",
       "            width:  80px;\n",
       "        }    #T_f95cf8f6_8447_11ec_8bb8_10604b82940crow0_col1 {\n",
       "            text-align:  left;\n",
       "            background-color:  rgba(0, 100, 255, 0.20);\n",
       "            border:  1px black solid;\n",
       "            width:  80px;\n",
       "        }    #T_f95cf8f6_8447_11ec_8bb8_10604b82940crow0_col2 {\n",
       "            text-align:  left;\n",
       "            background-color:  rgba(0, 100, 255, 0.20);\n",
       "            border:  1px black solid;\n",
       "            width:  80px;\n",
       "        }    #T_f95cf8f6_8447_11ec_8bb8_10604b82940crow0_col3 {\n",
       "            text-align:  left;\n",
       "            background-color:  rgba(0, 100, 255, 0.20);\n",
       "            border:  1px black solid;\n",
       "            width:  80px;\n",
       "        }    #T_f95cf8f6_8447_11ec_8bb8_10604b82940crow0_col4 {\n",
       "            text-align:  left;\n",
       "            background-color:  rgba(0, 100, 255, 0.20);\n",
       "            border:  1px black solid;\n",
       "            width:  80px;\n",
       "        }    #T_f95cf8f6_8447_11ec_8bb8_10604b82940crow0_col5 {\n",
       "            text-align:  left;\n",
       "            background-color:  rgba(0, 100, 255, 0.20);\n",
       "            border:  1px black solid;\n",
       "            width:  80px;\n",
       "        }    #T_f95cf8f6_8447_11ec_8bb8_10604b82940crow0_col6 {\n",
       "            text-align:  left;\n",
       "            background-color:  rgba(0, 100, 255, 0.20);\n",
       "            border:  1px black solid;\n",
       "            width:  80px;\n",
       "        }    #T_f95cf8f6_8447_11ec_8bb8_10604b82940crow1_col0 {\n",
       "            text-align:  left;\n",
       "            background-color:  rgba(0, 100, 255, 0.20);\n",
       "            border:  1px black solid;\n",
       "            width:  80px;\n",
       "        }    #T_f95cf8f6_8447_11ec_8bb8_10604b82940crow1_col1 {\n",
       "            text-align:  left;\n",
       "            background-color:  rgba(0, 100, 255, 0.20);\n",
       "            border:  1px black solid;\n",
       "            width:  80px;\n",
       "        }    #T_f95cf8f6_8447_11ec_8bb8_10604b82940crow1_col2 {\n",
       "            text-align:  left;\n",
       "            background-color:  rgba(0, 100, 255, 0.20);\n",
       "            border:  1px black solid;\n",
       "            width:  80px;\n",
       "        }    #T_f95cf8f6_8447_11ec_8bb8_10604b82940crow1_col3 {\n",
       "            text-align:  left;\n",
       "            background-color:  rgba(0, 100, 255, 0.20);\n",
       "            border:  1px black solid;\n",
       "            width:  80px;\n",
       "        }    #T_f95cf8f6_8447_11ec_8bb8_10604b82940crow1_col4 {\n",
       "            text-align:  left;\n",
       "            background-color:  rgba(0, 100, 255, 0.20);\n",
       "            border:  1px black solid;\n",
       "            width:  80px;\n",
       "        }    #T_f95cf8f6_8447_11ec_8bb8_10604b82940crow1_col5 {\n",
       "            text-align:  left;\n",
       "            background-color:  rgba(0, 100, 255, 0.20);\n",
       "            border:  1px black solid;\n",
       "            width:  80px;\n",
       "        }    #T_f95cf8f6_8447_11ec_8bb8_10604b82940crow1_col6 {\n",
       "            text-align:  left;\n",
       "            background-color:  rgba(0, 100, 255, 0.20);\n",
       "            border:  1px black solid;\n",
       "            width:  80px;\n",
       "        }    #T_f95cf8f6_8447_11ec_8bb8_10604b82940crow2_col0 {\n",
       "            text-align:  left;\n",
       "            background-color:  rgba(0, 100, 255, 0.20);\n",
       "            border:  1px black solid;\n",
       "            width:  80px;\n",
       "        }    #T_f95cf8f6_8447_11ec_8bb8_10604b82940crow2_col1 {\n",
       "            text-align:  left;\n",
       "            background-color:  rgba(0, 100, 255, 0.20);\n",
       "            border:  1px black solid;\n",
       "            width:  80px;\n",
       "        }    #T_f95cf8f6_8447_11ec_8bb8_10604b82940crow2_col2 {\n",
       "            text-align:  left;\n",
       "            background-color:  rgba(0, 100, 255, 0.20);\n",
       "            border:  1px black solid;\n",
       "            width:  80px;\n",
       "        }    #T_f95cf8f6_8447_11ec_8bb8_10604b82940crow2_col3 {\n",
       "            text-align:  left;\n",
       "            background-color:  rgba(0, 100, 255, 0.20);\n",
       "            border:  1px black solid;\n",
       "            width:  80px;\n",
       "        }    #T_f95cf8f6_8447_11ec_8bb8_10604b82940crow2_col4 {\n",
       "            text-align:  left;\n",
       "            background-color:  rgba(0, 100, 255, 0.20);\n",
       "            border:  1px black solid;\n",
       "            width:  80px;\n",
       "        }    #T_f95cf8f6_8447_11ec_8bb8_10604b82940crow2_col5 {\n",
       "            text-align:  left;\n",
       "            background-color:  rgba(0, 100, 255, 0.20);\n",
       "            border:  1px black solid;\n",
       "            width:  80px;\n",
       "        }    #T_f95cf8f6_8447_11ec_8bb8_10604b82940crow2_col6 {\n",
       "            text-align:  left;\n",
       "            background-color:  rgba(0, 100, 255, 0.20);\n",
       "            border:  1px black solid;\n",
       "            width:  80px;\n",
       "        }    #T_f95cf8f6_8447_11ec_8bb8_10604b82940crow3_col0 {\n",
       "            text-align:  left;\n",
       "            background-color:  rgba(0, 100, 255, 0.20);\n",
       "            border:  1px black solid;\n",
       "            width:  80px;\n",
       "        }    #T_f95cf8f6_8447_11ec_8bb8_10604b82940crow3_col1 {\n",
       "            text-align:  left;\n",
       "            background-color:  rgba(0, 100, 255, 0.20);\n",
       "            border:  1px black solid;\n",
       "            width:  80px;\n",
       "        }    #T_f95cf8f6_8447_11ec_8bb8_10604b82940crow3_col2 {\n",
       "            text-align:  left;\n",
       "            background-color:  rgba(0, 100, 255, 0.20);\n",
       "            border:  1px black solid;\n",
       "            width:  80px;\n",
       "        }    #T_f95cf8f6_8447_11ec_8bb8_10604b82940crow3_col3 {\n",
       "            text-align:  left;\n",
       "            background-color:  rgba(0, 100, 255, 0.20);\n",
       "            border:  1px black solid;\n",
       "            width:  80px;\n",
       "        }    #T_f95cf8f6_8447_11ec_8bb8_10604b82940crow3_col4 {\n",
       "            text-align:  left;\n",
       "            background-color:  rgba(0, 100, 255, 0.20);\n",
       "            border:  1px black solid;\n",
       "            width:  80px;\n",
       "        }    #T_f95cf8f6_8447_11ec_8bb8_10604b82940crow3_col5 {\n",
       "            text-align:  left;\n",
       "            background-color:  rgba(0, 100, 255, 0.20);\n",
       "            border:  1px black solid;\n",
       "            width:  80px;\n",
       "        }    #T_f95cf8f6_8447_11ec_8bb8_10604b82940crow3_col6 {\n",
       "            text-align:  left;\n",
       "            background-color:  rgba(0, 100, 255, 0.20);\n",
       "            border:  1px black solid;\n",
       "            width:  80px;\n",
       "        }    #T_f95cf8f6_8447_11ec_8bb8_10604b82940crow4_col0 {\n",
       "            text-align:  left;\n",
       "            background-color:  rgba(0, 100, 255, 0.20);\n",
       "            border:  1px black solid;\n",
       "            width:  80px;\n",
       "        }    #T_f95cf8f6_8447_11ec_8bb8_10604b82940crow4_col1 {\n",
       "            text-align:  left;\n",
       "            background-color:  rgba(0, 100, 255, 0.20);\n",
       "            border:  1px black solid;\n",
       "            width:  80px;\n",
       "        }    #T_f95cf8f6_8447_11ec_8bb8_10604b82940crow4_col2 {\n",
       "            text-align:  left;\n",
       "            background-color:  rgba(0, 100, 255, 0.20);\n",
       "            border:  1px black solid;\n",
       "            width:  80px;\n",
       "        }    #T_f95cf8f6_8447_11ec_8bb8_10604b82940crow4_col3 {\n",
       "            text-align:  left;\n",
       "            background-color:  rgba(0, 100, 255, 0.20);\n",
       "            border:  1px black solid;\n",
       "            width:  80px;\n",
       "        }    #T_f95cf8f6_8447_11ec_8bb8_10604b82940crow4_col4 {\n",
       "            text-align:  left;\n",
       "            background-color:  rgba(0, 100, 255, 0.20);\n",
       "            border:  1px black solid;\n",
       "            width:  80px;\n",
       "        }    #T_f95cf8f6_8447_11ec_8bb8_10604b82940crow4_col5 {\n",
       "            text-align:  left;\n",
       "            background-color:  rgba(0, 100, 255, 0.20);\n",
       "            border:  1px black solid;\n",
       "            width:  80px;\n",
       "        }    #T_f95cf8f6_8447_11ec_8bb8_10604b82940crow4_col6 {\n",
       "            text-align:  left;\n",
       "            background-color:  rgba(0, 100, 255, 0.20);\n",
       "            border:  1px black solid;\n",
       "            width:  80px;\n",
       "        }    #T_f95cf8f6_8447_11ec_8bb8_10604b82940crow5_col0 {\n",
       "            text-align:  left;\n",
       "            background-color:  rgba(0, 100, 255, 0.20);\n",
       "            border:  1px black solid;\n",
       "            width:  80px;\n",
       "        }    #T_f95cf8f6_8447_11ec_8bb8_10604b82940crow5_col1 {\n",
       "            text-align:  left;\n",
       "            background-color:  rgba(0, 100, 255, 0.20);\n",
       "            border:  1px black solid;\n",
       "            width:  80px;\n",
       "        }    #T_f95cf8f6_8447_11ec_8bb8_10604b82940crow5_col2 {\n",
       "            text-align:  left;\n",
       "            background-color:  rgba(0, 100, 255, 0.20);\n",
       "            border:  1px black solid;\n",
       "            width:  80px;\n",
       "        }    #T_f95cf8f6_8447_11ec_8bb8_10604b82940crow5_col3 {\n",
       "            text-align:  left;\n",
       "            background-color:  rgba(0, 100, 255, 0.20);\n",
       "            border:  1px black solid;\n",
       "            width:  80px;\n",
       "        }    #T_f95cf8f6_8447_11ec_8bb8_10604b82940crow5_col4 {\n",
       "            text-align:  left;\n",
       "            background-color:  rgba(0, 100, 255, 0.20);\n",
       "            border:  1px black solid;\n",
       "            width:  80px;\n",
       "        }    #T_f95cf8f6_8447_11ec_8bb8_10604b82940crow5_col5 {\n",
       "            text-align:  left;\n",
       "            background-color:  rgba(0, 100, 255, 0.20);\n",
       "            border:  1px black solid;\n",
       "            width:  80px;\n",
       "        }    #T_f95cf8f6_8447_11ec_8bb8_10604b82940crow5_col6 {\n",
       "            text-align:  left;\n",
       "            background-color:  rgba(0, 100, 255, 0.20);\n",
       "            border:  1px black solid;\n",
       "            width:  80px;\n",
       "        }</style><table id=\"T_f95cf8f6_8447_11ec_8bb8_10604b82940c\" ><thead>    <tr>        <th class=\"blank level0\" ></th>        <th class=\"col_heading level0 col0\" >Type</th>        <th class=\"col_heading level0 col1\" >Short Name</th>        <th class=\"col_heading level0 col2\" >Latex Name</th>        <th class=\"col_heading level0 col3\" >Description</th>        <th class=\"col_heading level0 col4\" >Distribution</th>        <th class=\"col_heading level0 col5\" >Distribution parameters</th>        <th class=\"col_heading level0 col6\" >Units</th>    </tr>    <tr>        <th class=\"index_name level0\" >ID</th>        <th class=\"blank\" ></th>        <th class=\"blank\" ></th>        <th class=\"blank\" ></th>        <th class=\"blank\" ></th>        <th class=\"blank\" ></th>        <th class=\"blank\" ></th>        <th class=\"blank\" ></th>    </tr></thead><tbody>\n",
       "                <tr>\n",
       "                        <th id=\"T_f95cf8f6_8447_11ec_8bb8_10604b82940clevel0_row0\" class=\"row_heading level0 row0\" >fp_logPoff_logDLALCK_ALCK2</th>\n",
       "                        <td id=\"T_f95cf8f6_8447_11ec_8bb8_10604b82940crow0_col0\" class=\"data row0 col0\" >Free parameter</td>\n",
       "                        <td id=\"T_f95cf8f6_8447_11ec_8bb8_10604b82940crow0_col1\" class=\"data row0 col1\" >logPoff</td>\n",
       "                        <td id=\"T_f95cf8f6_8447_11ec_8bb8_10604b82940crow0_col2\" class=\"data row0 col2\" >$$logPoff^{ALCK}$$</td>\n",
       "                        <td id=\"T_f95cf8f6_8447_11ec_8bb8_10604b82940crow0_col3\" class=\"data row0 col3\" >log10 of deactivation probability</td>\n",
       "                        <td id=\"T_f95cf8f6_8447_11ec_8bb8_10604b82940crow0_col4\" class=\"data row0 col4\" >Normal</td>\n",
       "                        <td id=\"T_f95cf8f6_8447_11ec_8bb8_10604b82940crow0_col5\" class=\"data row0 col5\" >{'mu': '-4.0', 'sd': '1.0'}</td>\n",
       "                        <td id=\"T_f95cf8f6_8447_11ec_8bb8_10604b82940crow0_col6\" class=\"data row0 col6\" >$$-$$</td>\n",
       "            </tr>\n",
       "            <tr>\n",
       "                        <th id=\"T_f95cf8f6_8447_11ec_8bb8_10604b82940clevel0_row1\" class=\"row_heading level0 row1\" >fp_logDiff_logDLALCK_ALCK2</th>\n",
       "                        <td id=\"T_f95cf8f6_8447_11ec_8bb8_10604b82940crow1_col0\" class=\"data row1 col0\" >Free parameter</td>\n",
       "                        <td id=\"T_f95cf8f6_8447_11ec_8bb8_10604b82940crow1_col1\" class=\"data row1 col1\" >logDiff</td>\n",
       "                        <td id=\"T_f95cf8f6_8447_11ec_8bb8_10604b82940crow1_col2\" class=\"data row1 col2\" >$$logDiff^{ALCK}$$</td>\n",
       "                        <td id=\"T_f95cf8f6_8447_11ec_8bb8_10604b82940crow1_col3\" class=\"data row1 col3\" >log10 of diffuion coefficient</td>\n",
       "                        <td id=\"T_f95cf8f6_8447_11ec_8bb8_10604b82940crow1_col4\" class=\"data row1 col4\" >Normal</td>\n",
       "                        <td id=\"T_f95cf8f6_8447_11ec_8bb8_10604b82940crow1_col5\" class=\"data row1 col5\" >{'mu': '-2.0', 'sd': '1.0'}</td>\n",
       "                        <td id=\"T_f95cf8f6_8447_11ec_8bb8_10604b82940crow1_col6\" class=\"data row1 col6\" >$$\\mu m^2/sec$$</td>\n",
       "            </tr>\n",
       "            <tr>\n",
       "                        <th id=\"T_f95cf8f6_8447_11ec_8bb8_10604b82940clevel0_row2\" class=\"row_heading level0 row2\" >rv_intercept_logDLALCK_ALCK2</th>\n",
       "                        <td id=\"T_f95cf8f6_8447_11ec_8bb8_10604b82940crow2_col0\" class=\"data row2 col0\" >Random variable</td>\n",
       "                        <td id=\"T_f95cf8f6_8447_11ec_8bb8_10604b82940crow2_col1\" class=\"data row2 col1\" >intercept</td>\n",
       "                        <td id=\"T_f95cf8f6_8447_11ec_8bb8_10604b82940crow2_col2\" class=\"data row2 col2\" >$$decayLength^{ALCK}_{intercepct}$$</td>\n",
       "                        <td id=\"T_f95cf8f6_8447_11ec_8bb8_10604b82940crow2_col3\" class=\"data row2 col3\" >Intercept of plain with origin</td>\n",
       "                        <td id=\"T_f95cf8f6_8447_11ec_8bb8_10604b82940crow2_col4\" class=\"data row2 col4\" >Normal</td>\n",
       "                        <td id=\"T_f95cf8f6_8447_11ec_8bb8_10604b82940crow2_col5\" class=\"data row2 col5\" >{'mu': '1.973', 'sd': '0.06'}</td>\n",
       "                        <td id=\"T_f95cf8f6_8447_11ec_8bb8_10604b82940crow2_col6\" class=\"data row2 col6\" >$$nm^{-1}$$</td>\n",
       "            </tr>\n",
       "            <tr>\n",
       "                        <th id=\"T_f95cf8f6_8447_11ec_8bb8_10604b82940clevel0_row3\" class=\"row_heading level0 row3\" >rv_PoffSlope_logDLALCK_ALCK2</th>\n",
       "                        <td id=\"T_f95cf8f6_8447_11ec_8bb8_10604b82940crow3_col0\" class=\"data row3 col0\" >Random variable</td>\n",
       "                        <td id=\"T_f95cf8f6_8447_11ec_8bb8_10604b82940crow3_col1\" class=\"data row3 col1\" >PoffSlope</td>\n",
       "                        <td id=\"T_f95cf8f6_8447_11ec_8bb8_10604b82940crow3_col2\" class=\"data row3 col2\" >$$decayLength^{ALCK}_{PoffSlope}$$</td>\n",
       "                        <td id=\"T_f95cf8f6_8447_11ec_8bb8_10604b82940crow3_col3\" class=\"data row3 col3\" >Plain slope for logPoff</td>\n",
       "                        <td id=\"T_f95cf8f6_8447_11ec_8bb8_10604b82940crow3_col4\" class=\"data row3 col4\" >Normal</td>\n",
       "                        <td id=\"T_f95cf8f6_8447_11ec_8bb8_10604b82940crow3_col5\" class=\"data row3 col5\" >{'mu': '-0.28', 'sd': '0.014'}</td>\n",
       "                        <td id=\"T_f95cf8f6_8447_11ec_8bb8_10604b82940crow3_col6\" class=\"data row3 col6\" >$$-$$</td>\n",
       "            </tr>\n",
       "            <tr>\n",
       "                        <th id=\"T_f95cf8f6_8447_11ec_8bb8_10604b82940clevel0_row4\" class=\"row_heading level0 row4\" >rv_DiffSlope_logDLALCK_ALCK2</th>\n",
       "                        <td id=\"T_f95cf8f6_8447_11ec_8bb8_10604b82940crow4_col0\" class=\"data row4 col0\" >Random variable</td>\n",
       "                        <td id=\"T_f95cf8f6_8447_11ec_8bb8_10604b82940crow4_col1\" class=\"data row4 col1\" >DiffSlope</td>\n",
       "                        <td id=\"T_f95cf8f6_8447_11ec_8bb8_10604b82940crow4_col2\" class=\"data row4 col2\" >$$decayLength^{ALCK}_{DiffSlope}$$</td>\n",
       "                        <td id=\"T_f95cf8f6_8447_11ec_8bb8_10604b82940crow4_col3\" class=\"data row4 col3\" >Plain slope for logDiff</td>\n",
       "                        <td id=\"T_f95cf8f6_8447_11ec_8bb8_10604b82940crow4_col4\" class=\"data row4 col4\" >Normal</td>\n",
       "                        <td id=\"T_f95cf8f6_8447_11ec_8bb8_10604b82940crow4_col5\" class=\"data row4 col5\" >{'mu': '0.423', 'sd': '0.026'}</td>\n",
       "                        <td id=\"T_f95cf8f6_8447_11ec_8bb8_10604b82940crow4_col6\" class=\"data row4 col6\" >$$-$$</td>\n",
       "            </tr>\n",
       "            <tr>\n",
       "                        <th id=\"T_f95cf8f6_8447_11ec_8bb8_10604b82940clevel0_row5\" class=\"row_heading level0 row5\" >rv_output_logDLALCK_ALCK2</th>\n",
       "                        <td id=\"T_f95cf8f6_8447_11ec_8bb8_10604b82940crow5_col0\" class=\"data row5 col0\" >Random variable</td>\n",
       "                        <td id=\"T_f95cf8f6_8447_11ec_8bb8_10604b82940crow5_col1\" class=\"data row5 col1\" >output</td>\n",
       "                        <td id=\"T_f95cf8f6_8447_11ec_8bb8_10604b82940crow5_col2\" class=\"data row5 col2\" >$$decayLength^{ALCK}_{output}$$</td>\n",
       "                        <td id=\"T_f95cf8f6_8447_11ec_8bb8_10604b82940crow5_col3\" class=\"data row5 col3\" >Decay length output</td>\n",
       "                        <td id=\"T_f95cf8f6_8447_11ec_8bb8_10604b82940crow5_col4\" class=\"data row5 col4\" >Normal</td>\n",
       "                        <td id=\"T_f95cf8f6_8447_11ec_8bb8_10604b82940crow5_col5\" class=\"data row5 col5\" >{'mu': '2.0', 'sd': '0.5'}</td>\n",
       "                        <td id=\"T_f95cf8f6_8447_11ec_8bb8_10604b82940crow5_col6\" class=\"data row5 col6\" >$$nm$$</td>\n",
       "            </tr>\n",
       "    </tbody></table>"
      ],
      "text/plain": [
       "<pandas.io.formats.style.Styler at 0x7c789c8>"
      ]
     },
     "metadata": {},
     "output_type": "display_data"
    }
   ],
   "source": [
    "display(df_model2_trainedTable.style.set_properties(**{'text-align': 'left',\n",
    "                                                'background-color': 'rgba(0, 100, 255, 0.20)',\n",
    "                                                'border' : '1px black solid',\n",
    "                                                'width': '80px'}))\n",
    "\n"
   ]
  },
  {
   "cell_type": "code",
   "execution_count": 30,
   "metadata": {},
   "outputs": [],
   "source": [
    "#@title Get trained model values\n",
    "DP = 'Distribution parameters'\n",
    "# dep:\n",
    "logDLALCK_trained = eval(df_model2_trainedTable.loc['rv_intercept_logDLALCK_ALCK2',DP]['mu']) +\\\n",
    "                    eval(df_model2_trainedTable.loc['rv_PoffSlope_logDLALCK_ALCK2',DP]['mu'])*logPoff_array +\\\n",
    "                    eval(df_model2_trainedTable.loc['rv_DiffSlope_logDLALCK_ALCK2',DP]['mu'])*logDiff_array\n"
   ]
  },
  {
   "cell_type": "code",
   "execution_count": 31,
   "metadata": {},
   "outputs": [
    {
     "name": "stderr",
     "output_type": "stream",
     "text": [
      "C:\\Users\\Owner\\Anaconda3\\lib\\site-packages\\ipykernel_launcher.py:46: UserWarning: FixedFormatter should only be used together with FixedLocator\n",
      "C:\\Users\\Owner\\Anaconda3\\lib\\site-packages\\ipykernel_launcher.py:51: UserWarning: FixedFormatter should only be used together with FixedLocator\n"
     ]
    },
    {
     "data": {
      "image/png": "[encoded data removed]",
      "text/plain": [
       "<Figure size 288x864 with 2 Axes>"
      ]
     },
     "metadata": {
      "needs_background": "light"
     },
     "output_type": "display_data"
    },
    {
     "data": {
      "image/png": "[encoded data removed]",
      "text/plain": [
       "<Figure size 288x864 with 2 Axes>"
      ]
     },
     "metadata": {
      "needs_background": "light"
     },
     "output_type": "display_data"
    },
    {
     "data": {
      "image/png": "[encoded data removed]",
      "text/plain": [
       "<Figure size 288x864 with 2 Axes>"
      ]
     },
     "metadata": {
      "needs_background": "light"
     },
     "output_type": "display_data"
    }
   ],
   "source": [
    "DataToPlot[2] = [[logPoff,logDiff],[logDLALCK_trained]]\n",
    "plotWhat=[True,True,True,False]\n",
    "\n",
    "plotData(DataToPlot, plotWhat)"
   ]
  },
  {
   "cell_type": "code",
   "execution_count": 32,
   "metadata": {
    "cellView": "code",
    "code_folding": [],
    "id": "2HtRJG6ippCG"
   },
   "outputs": [
    {
     "data": {
      "image/svg+xml": [
       "<?xml version=\"1.0\" encoding=\"UTF-8\" standalone=\"no\"?>\r\n",
       "<!DOCTYPE svg PUBLIC \"-//W3C//DTD SVG 1.1//EN\"\r\n",
       " \"http://www.w3.org/Graphics/SVG/1.1/DTD/svg11.dtd\">\r\n",
       "<!-- Generated by graphviz version 2.38.0 (20140413.2041)\r\n",
       " -->\r\n",
       "<!-- Title: %3 Pages: 1 -->\r\n",
       "<svg width=\"1504pt\" height=\"116pt\"\r\n",
       " viewBox=\"0.00 0.00 1504.32 116.00\" xmlns=\"http://www.w3.org/2000/svg\" xmlns:xlink=\"http://www.w3.org/1999/xlink\">\r\n",
       "<g id=\"graph0\" class=\"graph\" transform=\"scale(1 1) rotate(0) translate(4 112)\">\r\n",
       "<title>%3</title>\r\n",
       "<polygon fill=\"white\" stroke=\"none\" points=\"-4,4 -4,-112 1500.32,-112 1500.32,4 -4,4\"/>\r\n",
       "<!-- rv_DiffSlope_logDLALCK_ALCK2 -->\r\n",
       "<g id=\"node1\" class=\"node\"><title>rv_DiffSlope_logDLALCK_ALCK2</title>\r\n",
       "<ellipse fill=\"none\" stroke=\"black\" cx=\"180.684\" cy=\"-90\" rx=\"180.868\" ry=\"18\"/>\r\n",
       "<text text-anchor=\"middle\" x=\"180.684\" y=\"-86.3\" font-family=\"Times New Roman,serif\" font-size=\"14.00\">rv_DiffSlope_logDLALCK_ALCK2 ~ Normal</text>\r\n",
       "</g>\r\n",
       "<!-- rv_output_logDLALCK_ALCK2 -->\r\n",
       "<g id=\"node4\" class=\"node\"><title>rv_output_logDLALCK_ALCK2</title>\r\n",
       "<ellipse fill=\"none\" stroke=\"black\" cx=\"656.684\" cy=\"-18\" rx=\"168.97\" ry=\"18\"/>\r\n",
       "<text text-anchor=\"middle\" x=\"656.684\" y=\"-14.3\" font-family=\"Times New Roman,serif\" font-size=\"14.00\">rv_output_logDLALCK_ALCK2 ~ Normal</text>\r\n",
       "</g>\r\n",
       "<!-- rv_DiffSlope_logDLALCK_ALCK2&#45;&gt;rv_output_logDLALCK_ALCK2 -->\r\n",
       "<g id=\"edge1\" class=\"edge\"><title>rv_DiffSlope_logDLALCK_ALCK2&#45;&gt;rv_output_logDLALCK_ALCK2</title>\r\n",
       "<path fill=\"none\" stroke=\"black\" d=\"M277.583,-74.7501C357.302,-63.0268 470.074,-46.4426 551.881,-34.4122\"/>\r\n",
       "<polygon fill=\"black\" stroke=\"black\" points=\"552.566,-37.8491 561.951,-32.9314 551.548,-30.9236 552.566,-37.8491\"/>\r\n",
       "</g>\r\n",
       "<!-- rv_logPoff -->\r\n",
       "<g id=\"node2\" class=\"node\"><title>rv_logPoff</title>\r\n",
       "<ellipse fill=\"none\" stroke=\"black\" cx=\"466.684\" cy=\"-90\" rx=\"87.1846\" ry=\"18\"/>\r\n",
       "<text text-anchor=\"middle\" x=\"466.684\" y=\"-86.3\" font-family=\"Times New Roman,serif\" font-size=\"14.00\">rv_logPoff ~ Normal</text>\r\n",
       "</g>\r\n",
       "<!-- rv_logPoff&#45;&gt;rv_output_logDLALCK_ALCK2 -->\r\n",
       "<g id=\"edge2\" class=\"edge\"><title>rv_logPoff&#45;&gt;rv_output_logDLALCK_ALCK2</title>\r\n",
       "<path fill=\"none\" stroke=\"black\" d=\"M507.444,-73.9832C535.19,-63.7609 572.22,-50.1184 602.452,-38.9803\"/>\r\n",
       "<polygon fill=\"black\" stroke=\"black\" points=\"603.835,-42.2009 612.008,-35.4596 601.415,-35.6325 603.835,-42.2009\"/>\r\n",
       "</g>\r\n",
       "<!-- rv_logDiff -->\r\n",
       "<g id=\"node3\" class=\"node\"><title>rv_logDiff</title>\r\n",
       "<ellipse fill=\"none\" stroke=\"black\" cx=\"656.684\" cy=\"-90\" rx=\"85.2851\" ry=\"18\"/>\r\n",
       "<text text-anchor=\"middle\" x=\"656.684\" y=\"-86.3\" font-family=\"Times New Roman,serif\" font-size=\"14.00\">rv_logDiff ~ Normal</text>\r\n",
       "</g>\r\n",
       "<!-- rv_logDiff&#45;&gt;rv_output_logDLALCK_ALCK2 -->\r\n",
       "<g id=\"edge3\" class=\"edge\"><title>rv_logDiff&#45;&gt;rv_output_logDLALCK_ALCK2</title>\r\n",
       "<path fill=\"none\" stroke=\"black\" d=\"M656.684,-71.6966C656.684,-63.9827 656.684,-54.7125 656.684,-46.1124\"/>\r\n",
       "<polygon fill=\"black\" stroke=\"black\" points=\"660.184,-46.1043 656.684,-36.1043 653.184,-46.1044 660.184,-46.1043\"/>\r\n",
       "</g>\r\n",
       "<!-- rv_intercept_logDLALCK_ALCK2 -->\r\n",
       "<g id=\"node5\" class=\"node\"><title>rv_intercept_logDLALCK_ALCK2</title>\r\n",
       "<ellipse fill=\"none\" stroke=\"black\" cx=\"936.684\" cy=\"-90\" rx=\"176.569\" ry=\"18\"/>\r\n",
       "<text text-anchor=\"middle\" x=\"936.684\" y=\"-86.3\" font-family=\"Times New Roman,serif\" font-size=\"14.00\">rv_intercept_logDLALCK_ALCK2 ~ Normal</text>\r\n",
       "</g>\r\n",
       "<!-- rv_intercept_logDLALCK_ALCK2&#45;&gt;rv_output_logDLALCK_ALCK2 -->\r\n",
       "<g id=\"edge4\" class=\"edge\"><title>rv_intercept_logDLALCK_ALCK2&#45;&gt;rv_output_logDLALCK_ALCK2</title>\r\n",
       "<path fill=\"none\" stroke=\"black\" d=\"M873.148,-73.1159C830.546,-62.4655 774.318,-48.4085 729.846,-37.2906\"/>\r\n",
       "<polygon fill=\"black\" stroke=\"black\" points=\"730.519,-33.8512 719.969,-34.8212 728.821,-40.6422 730.519,-33.8512\"/>\r\n",
       "</g>\r\n",
       "<!-- rv_PoffSlope_logDLALCK_ALCK2 -->\r\n",
       "<g id=\"node6\" class=\"node\"><title>rv_PoffSlope_logDLALCK_ALCK2</title>\r\n",
       "<ellipse fill=\"none\" stroke=\"black\" cx=\"1313.68\" cy=\"-90\" rx=\"182.768\" ry=\"18\"/>\r\n",
       "<text text-anchor=\"middle\" x=\"1313.68\" y=\"-86.3\" font-family=\"Times New Roman,serif\" font-size=\"14.00\">rv_PoffSlope_logDLALCK_ALCK2 ~ Normal</text>\r\n",
       "</g>\r\n",
       "<!-- rv_PoffSlope_logDLALCK_ALCK2&#45;&gt;rv_output_logDLALCK_ALCK2 -->\r\n",
       "<g id=\"edge5\" class=\"edge\"><title>rv_PoffSlope_logDLALCK_ALCK2&#45;&gt;rv_output_logDLALCK_ALCK2</title>\r\n",
       "<path fill=\"none\" stroke=\"black\" d=\"M1194.71,-76.3235C1077.93,-63.8816 900.527,-44.9803 781.711,-32.321\"/>\r\n",
       "<polygon fill=\"black\" stroke=\"black\" points=\"781.788,-28.8095 771.474,-31.2303 781.047,-35.7701 781.788,-28.8095\"/>\r\n",
       "</g>\r\n",
       "</g>\r\n",
       "</svg>\r\n"
      ],
      "text/plain": [
       "<graphviz.dot.Digraph at 0x1c62ec88>"
      ]
     },
     "metadata": {},
     "output_type": "display_data"
    }
   ],
   "source": [
    "#@title Build trained model (with updated parameter estimates through their posteriors)\n",
    "def get_pm_model2_trained(df_model2_trainedTable, \n",
    "                          observed_logPoff = None, \n",
    "                          observed_logDiff = None):\n",
    "    \n",
    "    ''' return model2 trained based on trace2. \n",
    "    If observed_logPoff and/or observed_logDiff are specified, \n",
    "    return the model conditioned on those values '''\n",
    "    \n",
    "    pm_model2_trained = pm.Model()\n",
    "    with pm_model2_trained:\n",
    "        dfRV = df_model2_trainedTable\n",
    "        DP = 'Distribution parameters'\n",
    "        \n",
    "        # model2.D:\n",
    "        rv_logPoff = pm.Normal('rv_logPoff', mu = -4., sd = 1., observed= observed_logPoff)\n",
    "        rv_logDiff = pm.Normal('rv_logDiff', mu = 2., sd = 1., observed= observed_logDiff)\n",
    "        \n",
    "        # decayLengthALCK ####################################################\n",
    "        \"\"\"TODO: read parameters values from RV table\"\"\"\n",
    "        # rv_intercept_logDLALCK_ALCK2\n",
    "        ID = 'rv_intercept_logDLALCK_ALCK2'\n",
    "        rv_intercept_logDLALCK_ALCK2 = pm.Normal(ID, \n",
    "            mu = eval(dfRV.loc[ID,DP]['mu']), \n",
    "            sd = eval(dfRV.loc[ID,DP]['sd']))\n",
    "\n",
    "        # rv_PoffSlope_logDLALCK_ALCK2\n",
    "        ID = 'rv_PoffSlope_logDLALCK_ALCK2'\n",
    "        rv_PoffSlope_logDLALCK_ALCK2 = pm.Normal(ID, \n",
    "            mu = eval(dfRV.loc[ID,DP]['mu']), \n",
    "            sd = eval(dfRV.loc[ID,DP]['sd'])) \n",
    "\n",
    "        # rv_DiffSlope_logDLALCK_ALCK2\n",
    "        ID = 'rv_DiffSlope_logDLALCK_ALCK2'\n",
    "        rv_DiffSlope_logDLALCK_ALCK2 = pm.Normal(ID, \n",
    "            mu = eval(dfRV.loc[ID,DP]['mu']), \n",
    "            sd = eval(dfRV.loc[ID,DP]['sd'])) \n",
    "\n",
    "        # rv_output_logDLALCK_ALCK2, equation:\n",
    "        ID = 'rv_output_logDLALCK_ALCK2'\n",
    "        rv_output_logDLALCK_ALCK2 = pm.Normal(ID, \n",
    "            mu = rv_intercept_logDLALCK_ALCK2 +\\\n",
    "            rv_PoffSlope_logDLALCK_ALCK2*rv_logPoff +\\\n",
    "            rv_DiffSlope_logDLALCK_ALCK2*rv_logDiff,\n",
    "            sd = eval(dfRV.loc[ID,DP]['sd'])) #\n",
    "\n",
    "        \n",
    "    return pm_model2_trained\n",
    "\n",
    "pm_model2_trained= get_pm_model2_trained(df_model2_trainedTable)\n",
    "gv2 = pm.model_to_graphviz(pm_model2_trained)\n",
    "display(gv2)"
   ]
  },
  {
   "cell_type": "code",
   "execution_count": 34,
   "metadata": {
    "id": "bqb-LTorenJt",
    "scrolled": true
   },
   "outputs": [
    {
     "name": "stderr",
     "output_type": "stream",
     "text": [
      "Auto-assigning NUTS sampler...\n",
      "Initializing NUTS using jitter+adapt_diag...\n",
      "Multiprocess sampling (4 chains in 4 jobs)\n",
      "NUTS: [rv_output_logDLALCK_ALCK2, rv_DiffSlope_logDLALCK_ALCK2, rv_PoffSlope_logDLALCK_ALCK2, rv_intercept_logDLALCK_ALCK2]\n"
     ]
    },
    {
     "name": "stdout",
     "output_type": "stream",
     "text": [
      "i,y=(0, -3.0), j,x=(0, -5.0)\n"
     ]
    },
    {
     "name": "stderr",
     "output_type": "stream",
     "text": [
      "Auto-assigning NUTS sampler...\n",
      "Initializing NUTS using jitter+adapt_diag...\n",
      "Multiprocess sampling (4 chains in 4 jobs)\n",
      "NUTS: [rv_output_logDLALCK_ALCK2, rv_DiffSlope_logDLALCK_ALCK2, rv_PoffSlope_logDLALCK_ALCK2, rv_intercept_logDLALCK_ALCK2]\n"
     ]
    },
    {
     "name": "stdout",
     "output_type": "stream",
     "text": [
      "i,y=(0, -3.0), j,x=(1, -4.75)\n"
     ]
    },
    {
     "name": "stderr",
     "output_type": "stream",
     "text": [
      "Auto-assigning NUTS sampler...\n",
      "Initializing NUTS using jitter+adapt_diag...\n",
      "Multiprocess sampling (4 chains in 4 jobs)\n",
      "NUTS: [rv_output_logDLALCK_ALCK2, rv_DiffSlope_logDLALCK_ALCK2, rv_PoffSlope_logDLALCK_ALCK2, rv_intercept_logDLALCK_ALCK2]\n"
     ]
    },
    {
     "name": "stdout",
     "output_type": "stream",
     "text": [
      "i,y=(0, -3.0), j,x=(2, -4.5)\n"
     ]
    },
    {
     "name": "stderr",
     "output_type": "stream",
     "text": [
      "Auto-assigning NUTS sampler...\n",
      "Initializing NUTS using jitter+adapt_diag...\n",
      "Multiprocess sampling (4 chains in 4 jobs)\n",
      "NUTS: [rv_output_logDLALCK_ALCK2, rv_DiffSlope_logDLALCK_ALCK2, rv_PoffSlope_logDLALCK_ALCK2, rv_intercept_logDLALCK_ALCK2]\n"
     ]
    },
    {
     "name": "stdout",
     "output_type": "stream",
     "text": [
      "i,y=(0, -3.0), j,x=(3, -4.25)\n"
     ]
    },
    {
     "name": "stderr",
     "output_type": "stream",
     "text": [
      "Auto-assigning NUTS sampler...\n",
      "Initializing NUTS using jitter+adapt_diag...\n",
      "Multiprocess sampling (4 chains in 4 jobs)\n",
      "NUTS: [rv_output_logDLALCK_ALCK2, rv_DiffSlope_logDLALCK_ALCK2, rv_PoffSlope_logDLALCK_ALCK2, rv_intercept_logDLALCK_ALCK2]\n"
     ]
    },
    {
     "name": "stdout",
     "output_type": "stream",
     "text": [
      "i,y=(0, -3.0), j,x=(4, -4.0)\n"
     ]
    },
    {
     "name": "stderr",
     "output_type": "stream",
     "text": [
      "Auto-assigning NUTS sampler...\n",
      "Initializing NUTS using jitter+adapt_diag...\n",
      "Multiprocess sampling (4 chains in 4 jobs)\n",
      "NUTS: [rv_output_logDLALCK_ALCK2, rv_DiffSlope_logDLALCK_ALCK2, rv_PoffSlope_logDLALCK_ALCK2, rv_intercept_logDLALCK_ALCK2]\n"
     ]
    },
    {
     "name": "stdout",
     "output_type": "stream",
     "text": [
      "i,y=(0, -3.0), j,x=(5, -3.75)\n"
     ]
    },
    {
     "name": "stderr",
     "output_type": "stream",
     "text": [
      "Auto-assigning NUTS sampler...\n",
      "Initializing NUTS using jitter+adapt_diag...\n",
      "Multiprocess sampling (4 chains in 4 jobs)\n",
      "NUTS: [rv_output_logDLALCK_ALCK2, rv_DiffSlope_logDLALCK_ALCK2, rv_PoffSlope_logDLALCK_ALCK2, rv_intercept_logDLALCK_ALCK2]\n"
     ]
    },
    {
     "name": "stdout",
     "output_type": "stream",
     "text": [
      "i,y=(0, -3.0), j,x=(6, -3.5)\n"
     ]
    },
    {
     "name": "stderr",
     "output_type": "stream",
     "text": [
      "Auto-assigning NUTS sampler...\n",
      "Initializing NUTS using jitter+adapt_diag...\n",
      "Multiprocess sampling (4 chains in 4 jobs)\n",
      "NUTS: [rv_output_logDLALCK_ALCK2, rv_DiffSlope_logDLALCK_ALCK2, rv_PoffSlope_logDLALCK_ALCK2, rv_intercept_logDLALCK_ALCK2]\n"
     ]
    },
    {
     "name": "stdout",
     "output_type": "stream",
     "text": [
      "i,y=(0, -3.0), j,x=(7, -3.25)\n"
     ]
    },
    {
     "name": "stderr",
     "output_type": "stream",
     "text": [
      "Auto-assigning NUTS sampler...\n",
      "Initializing NUTS using jitter+adapt_diag...\n",
      "Multiprocess sampling (4 chains in 4 jobs)\n",
      "NUTS: [rv_output_logDLALCK_ALCK2, rv_DiffSlope_logDLALCK_ALCK2, rv_PoffSlope_logDLALCK_ALCK2, rv_intercept_logDLALCK_ALCK2]\n"
     ]
    },
    {
     "name": "stdout",
     "output_type": "stream",
     "text": [
      "i,y=(0, -3.0), j,x=(8, -3.0)\n"
     ]
    },
    {
     "name": "stderr",
     "output_type": "stream",
     "text": [
      "Auto-assigning NUTS sampler...\n",
      "Initializing NUTS using jitter+adapt_diag...\n",
      "Multiprocess sampling (4 chains in 4 jobs)\n",
      "NUTS: [rv_output_logDLALCK_ALCK2, rv_DiffSlope_logDLALCK_ALCK2, rv_PoffSlope_logDLALCK_ALCK2, rv_intercept_logDLALCK_ALCK2]\n"
     ]
    },
    {
     "name": "stdout",
     "output_type": "stream",
     "text": [
      "i,y=(0, -3.0), j,x=(9, -2.75)\n"
     ]
    },
    {
     "name": "stderr",
     "output_type": "stream",
     "text": [
      "Auto-assigning NUTS sampler...\n",
      "Initializing NUTS using jitter+adapt_diag...\n",
      "Multiprocess sampling (4 chains in 4 jobs)\n",
      "NUTS: [rv_output_logDLALCK_ALCK2, rv_DiffSlope_logDLALCK_ALCK2, rv_PoffSlope_logDLALCK_ALCK2, rv_intercept_logDLALCK_ALCK2]\n"
     ]
    },
    {
     "name": "stdout",
     "output_type": "stream",
     "text": [
      "i,y=(0, -3.0), j,x=(10, -2.5)\n"
     ]
    },
    {
     "name": "stderr",
     "output_type": "stream",
     "text": [
      "Auto-assigning NUTS sampler...\n",
      "Initializing NUTS using jitter+adapt_diag...\n",
      "Multiprocess sampling (4 chains in 4 jobs)\n",
      "NUTS: [rv_output_logDLALCK_ALCK2, rv_DiffSlope_logDLALCK_ALCK2, rv_PoffSlope_logDLALCK_ALCK2, rv_intercept_logDLALCK_ALCK2]\n"
     ]
    },
    {
     "name": "stdout",
     "output_type": "stream",
     "text": [
      "i,y=(0, -3.0), j,x=(11, -2.25)\n"
     ]
    },
    {
     "name": "stderr",
     "output_type": "stream",
     "text": [
      "Auto-assigning NUTS sampler...\n",
      "Initializing NUTS using jitter+adapt_diag...\n",
      "Multiprocess sampling (4 chains in 4 jobs)\n",
      "NUTS: [rv_output_logDLALCK_ALCK2, rv_DiffSlope_logDLALCK_ALCK2, rv_PoffSlope_logDLALCK_ALCK2, rv_intercept_logDLALCK_ALCK2]\n"
     ]
    },
    {
     "name": "stdout",
     "output_type": "stream",
     "text": [
      "i,y=(0, -3.0), j,x=(12, -2.0)\n"
     ]
    },
    {
     "name": "stderr",
     "output_type": "stream",
     "text": [
      "Auto-assigning NUTS sampler...\n",
      "Initializing NUTS using jitter+adapt_diag...\n",
      "Multiprocess sampling (4 chains in 4 jobs)\n",
      "NUTS: [rv_output_logDLALCK_ALCK2, rv_DiffSlope_logDLALCK_ALCK2, rv_PoffSlope_logDLALCK_ALCK2, rv_intercept_logDLALCK_ALCK2]\n"
     ]
    },
    {
     "name": "stdout",
     "output_type": "stream",
     "text": [
      "i,y=(0, -3.0), j,x=(13, -1.75)\n"
     ]
    },
    {
     "name": "stderr",
     "output_type": "stream",
     "text": [
      "Auto-assigning NUTS sampler...\n",
      "Initializing NUTS using jitter+adapt_diag...\n",
      "Multiprocess sampling (4 chains in 4 jobs)\n",
      "NUTS: [rv_output_logDLALCK_ALCK2, rv_DiffSlope_logDLALCK_ALCK2, rv_PoffSlope_logDLALCK_ALCK2, rv_intercept_logDLALCK_ALCK2]\n"
     ]
    },
    {
     "name": "stdout",
     "output_type": "stream",
     "text": [
      "i,y=(0, -3.0), j,x=(14, -1.5)\n"
     ]
    },
    {
     "name": "stderr",
     "output_type": "stream",
     "text": [
      "Auto-assigning NUTS sampler...\n",
      "Initializing NUTS using jitter+adapt_diag...\n",
      "Multiprocess sampling (4 chains in 4 jobs)\n",
      "NUTS: [rv_output_logDLALCK_ALCK2, rv_DiffSlope_logDLALCK_ALCK2, rv_PoffSlope_logDLALCK_ALCK2, rv_intercept_logDLALCK_ALCK2]\n"
     ]
    },
    {
     "name": "stdout",
     "output_type": "stream",
     "text": [
      "i,y=(0, -3.0), j,x=(15, -1.25)\n"
     ]
    },
    {
     "name": "stderr",
     "output_type": "stream",
     "text": [
      "Auto-assigning NUTS sampler...\n",
      "Initializing NUTS using jitter+adapt_diag...\n",
      "Multiprocess sampling (4 chains in 4 jobs)\n",
      "NUTS: [rv_output_logDLALCK_ALCK2, rv_DiffSlope_logDLALCK_ALCK2, rv_PoffSlope_logDLALCK_ALCK2, rv_intercept_logDLALCK_ALCK2]\n"
     ]
    },
    {
     "name": "stdout",
     "output_type": "stream",
     "text": [
      "i,y=(0, -3.0), j,x=(16, -1.0)\n"
     ]
    },
    {
     "name": "stderr",
     "output_type": "stream",
     "text": [
      "Auto-assigning NUTS sampler...\n",
      "Initializing NUTS using jitter+adapt_diag...\n",
      "Multiprocess sampling (4 chains in 4 jobs)\n",
      "NUTS: [rv_output_logDLALCK_ALCK2, rv_DiffSlope_logDLALCK_ALCK2, rv_PoffSlope_logDLALCK_ALCK2, rv_intercept_logDLALCK_ALCK2]\n"
     ]
    },
    {
     "name": "stdout",
     "output_type": "stream",
     "text": [
      "i,y=(0, -3.0), j,x=(17, -0.75)\n"
     ]
    },
    {
     "name": "stderr",
     "output_type": "stream",
     "text": [
      "Auto-assigning NUTS sampler...\n",
      "Initializing NUTS using jitter+adapt_diag...\n",
      "Multiprocess sampling (4 chains in 4 jobs)\n",
      "NUTS: [rv_output_logDLALCK_ALCK2, rv_DiffSlope_logDLALCK_ALCK2, rv_PoffSlope_logDLALCK_ALCK2, rv_intercept_logDLALCK_ALCK2]\n"
     ]
    },
    {
     "name": "stdout",
     "output_type": "stream",
     "text": [
      "i,y=(0, -3.0), j,x=(18, -0.5)\n"
     ]
    },
    {
     "name": "stderr",
     "output_type": "stream",
     "text": [
      "Auto-assigning NUTS sampler...\n",
      "Initializing NUTS using jitter+adapt_diag...\n",
      "Multiprocess sampling (4 chains in 4 jobs)\n",
      "NUTS: [rv_output_logDLALCK_ALCK2, rv_DiffSlope_logDLALCK_ALCK2, rv_PoffSlope_logDLALCK_ALCK2, rv_intercept_logDLALCK_ALCK2]\n"
     ]
    },
    {
     "name": "stdout",
     "output_type": "stream",
     "text": [
      "i,y=(0, -3.0), j,x=(19, -0.25)\n"
     ]
    },
    {
     "name": "stderr",
     "output_type": "stream",
     "text": [
      "Auto-assigning NUTS sampler...\n",
      "Initializing NUTS using jitter+adapt_diag...\n",
      "Multiprocess sampling (4 chains in 4 jobs)\n",
      "NUTS: [rv_output_logDLALCK_ALCK2, rv_DiffSlope_logDLALCK_ALCK2, rv_PoffSlope_logDLALCK_ALCK2, rv_intercept_logDLALCK_ALCK2]\n"
     ]
    },
    {
     "name": "stdout",
     "output_type": "stream",
     "text": [
      "i,y=(1, -2.85), j,x=(0, -5.0)\n"
     ]
    },
    {
     "name": "stderr",
     "output_type": "stream",
     "text": [
      "Auto-assigning NUTS sampler...\n",
      "Initializing NUTS using jitter+adapt_diag...\n",
      "Multiprocess sampling (4 chains in 4 jobs)\n",
      "NUTS: [rv_output_logDLALCK_ALCK2, rv_DiffSlope_logDLALCK_ALCK2, rv_PoffSlope_logDLALCK_ALCK2, rv_intercept_logDLALCK_ALCK2]\n"
     ]
    },
    {
     "name": "stdout",
     "output_type": "stream",
     "text": [
      "i,y=(1, -2.85), j,x=(1, -4.75)\n"
     ]
    },
    {
     "name": "stderr",
     "output_type": "stream",
     "text": [
      "Auto-assigning NUTS sampler...\n",
      "Initializing NUTS using jitter+adapt_diag...\n",
      "Multiprocess sampling (4 chains in 4 jobs)\n",
      "NUTS: [rv_output_logDLALCK_ALCK2, rv_DiffSlope_logDLALCK_ALCK2, rv_PoffSlope_logDLALCK_ALCK2, rv_intercept_logDLALCK_ALCK2]\n"
     ]
    },
    {
     "name": "stdout",
     "output_type": "stream",
     "text": [
      "i,y=(1, -2.85), j,x=(2, -4.5)\n"
     ]
    },
    {
     "name": "stderr",
     "output_type": "stream",
     "text": [
      "Auto-assigning NUTS sampler...\n",
      "Initializing NUTS using jitter+adapt_diag...\n",
      "Multiprocess sampling (4 chains in 4 jobs)\n",
      "NUTS: [rv_output_logDLALCK_ALCK2, rv_DiffSlope_logDLALCK_ALCK2, rv_PoffSlope_logDLALCK_ALCK2, rv_intercept_logDLALCK_ALCK2]\n"
     ]
    },
    {
     "name": "stdout",
     "output_type": "stream",
     "text": [
      "i,y=(1, -2.85), j,x=(3, -4.25)\n"
     ]
    },
    {
     "name": "stderr",
     "output_type": "stream",
     "text": [
      "Auto-assigning NUTS sampler...\n",
      "Initializing NUTS using jitter+adapt_diag...\n",
      "Multiprocess sampling (4 chains in 4 jobs)\n",
      "NUTS: [rv_output_logDLALCK_ALCK2, rv_DiffSlope_logDLALCK_ALCK2, rv_PoffSlope_logDLALCK_ALCK2, rv_intercept_logDLALCK_ALCK2]\n"
     ]
    },
    {
     "name": "stdout",
     "output_type": "stream",
     "text": [
      "i,y=(1, -2.85), j,x=(4, -4.0)\n"
     ]
    },
    {
     "name": "stderr",
     "output_type": "stream",
     "text": [
      "Auto-assigning NUTS sampler...\n",
      "Initializing NUTS using jitter+adapt_diag...\n",
      "Multiprocess sampling (4 chains in 4 jobs)\n",
      "NUTS: [rv_output_logDLALCK_ALCK2, rv_DiffSlope_logDLALCK_ALCK2, rv_PoffSlope_logDLALCK_ALCK2, rv_intercept_logDLALCK_ALCK2]\n"
     ]
    },
    {
     "name": "stdout",
     "output_type": "stream",
     "text": [
      "i,y=(1, -2.85), j,x=(5, -3.75)\n"
     ]
    },
    {
     "name": "stderr",
     "output_type": "stream",
     "text": [
      "Auto-assigning NUTS sampler...\n",
      "Initializing NUTS using jitter+adapt_diag...\n",
      "Multiprocess sampling (4 chains in 4 jobs)\n",
      "NUTS: [rv_output_logDLALCK_ALCK2, rv_DiffSlope_logDLALCK_ALCK2, rv_PoffSlope_logDLALCK_ALCK2, rv_intercept_logDLALCK_ALCK2]\n"
     ]
    },
    {
     "name": "stdout",
     "output_type": "stream",
     "text": [
      "i,y=(1, -2.85), j,x=(6, -3.5)\n"
     ]
    },
    {
     "name": "stderr",
     "output_type": "stream",
     "text": [
      "Auto-assigning NUTS sampler...\n",
      "Initializing NUTS using jitter+adapt_diag...\n",
      "Multiprocess sampling (4 chains in 4 jobs)\n",
      "NUTS: [rv_output_logDLALCK_ALCK2, rv_DiffSlope_logDLALCK_ALCK2, rv_PoffSlope_logDLALCK_ALCK2, rv_intercept_logDLALCK_ALCK2]\n"
     ]
    },
    {
     "name": "stdout",
     "output_type": "stream",
     "text": [
      "i,y=(1, -2.85), j,x=(7, -3.25)\n"
     ]
    },
    {
     "name": "stderr",
     "output_type": "stream",
     "text": [
      "Auto-assigning NUTS sampler...\n",
      "Initializing NUTS using jitter+adapt_diag...\n",
      "Multiprocess sampling (4 chains in 4 jobs)\n",
      "NUTS: [rv_output_logDLALCK_ALCK2, rv_DiffSlope_logDLALCK_ALCK2, rv_PoffSlope_logDLALCK_ALCK2, rv_intercept_logDLALCK_ALCK2]\n"
     ]
    },
    {
     "name": "stdout",
     "output_type": "stream",
     "text": [
      "i,y=(1, -2.85), j,x=(8, -3.0)\n"
     ]
    },
    {
     "name": "stderr",
     "output_type": "stream",
     "text": [
      "Auto-assigning NUTS sampler...\n",
      "Initializing NUTS using jitter+adapt_diag...\n",
      "Multiprocess sampling (4 chains in 4 jobs)\n",
      "NUTS: [rv_output_logDLALCK_ALCK2, rv_DiffSlope_logDLALCK_ALCK2, rv_PoffSlope_logDLALCK_ALCK2, rv_intercept_logDLALCK_ALCK2]\n"
     ]
    },
    {
     "name": "stdout",
     "output_type": "stream",
     "text": [
      "i,y=(1, -2.85), j,x=(9, -2.75)\n"
     ]
    },
    {
     "name": "stderr",
     "output_type": "stream",
     "text": [
      "Auto-assigning NUTS sampler...\n",
      "Initializing NUTS using jitter+adapt_diag...\n",
      "Multiprocess sampling (4 chains in 4 jobs)\n",
      "NUTS: [rv_output_logDLALCK_ALCK2, rv_DiffSlope_logDLALCK_ALCK2, rv_PoffSlope_logDLALCK_ALCK2, rv_intercept_logDLALCK_ALCK2]\n"
     ]
    },
    {
     "name": "stdout",
     "output_type": "stream",
     "text": [
      "i,y=(1, -2.85), j,x=(10, -2.5)\n"
     ]
    },
    {
     "name": "stderr",
     "output_type": "stream",
     "text": [
      "Auto-assigning NUTS sampler...\n",
      "Initializing NUTS using jitter+adapt_diag...\n",
      "Multiprocess sampling (4 chains in 4 jobs)\n",
      "NUTS: [rv_output_logDLALCK_ALCK2, rv_DiffSlope_logDLALCK_ALCK2, rv_PoffSlope_logDLALCK_ALCK2, rv_intercept_logDLALCK_ALCK2]\n"
     ]
    },
    {
     "name": "stdout",
     "output_type": "stream",
     "text": [
      "i,y=(1, -2.85), j,x=(11, -2.25)\n"
     ]
    },
    {
     "name": "stderr",
     "output_type": "stream",
     "text": [
      "Auto-assigning NUTS sampler...\n",
      "Initializing NUTS using jitter+adapt_diag...\n",
      "Multiprocess sampling (4 chains in 4 jobs)\n",
      "NUTS: [rv_output_logDLALCK_ALCK2, rv_DiffSlope_logDLALCK_ALCK2, rv_PoffSlope_logDLALCK_ALCK2, rv_intercept_logDLALCK_ALCK2]\n"
     ]
    },
    {
     "name": "stdout",
     "output_type": "stream",
     "text": [
      "i,y=(1, -2.85), j,x=(12, -2.0)\n"
     ]
    },
    {
     "name": "stderr",
     "output_type": "stream",
     "text": [
      "Auto-assigning NUTS sampler...\n",
      "Initializing NUTS using jitter+adapt_diag...\n",
      "Multiprocess sampling (4 chains in 4 jobs)\n",
      "NUTS: [rv_output_logDLALCK_ALCK2, rv_DiffSlope_logDLALCK_ALCK2, rv_PoffSlope_logDLALCK_ALCK2, rv_intercept_logDLALCK_ALCK2]\n"
     ]
    },
    {
     "name": "stdout",
     "output_type": "stream",
     "text": [
      "i,y=(1, -2.85), j,x=(13, -1.75)\n"
     ]
    },
    {
     "name": "stderr",
     "output_type": "stream",
     "text": [
      "Auto-assigning NUTS sampler...\n",
      "Initializing NUTS using jitter+adapt_diag...\n",
      "Multiprocess sampling (4 chains in 4 jobs)\n",
      "NUTS: [rv_output_logDLALCK_ALCK2, rv_DiffSlope_logDLALCK_ALCK2, rv_PoffSlope_logDLALCK_ALCK2, rv_intercept_logDLALCK_ALCK2]\n"
     ]
    },
    {
     "name": "stdout",
     "output_type": "stream",
     "text": [
      "i,y=(1, -2.85), j,x=(14, -1.5)\n"
     ]
    },
    {
     "name": "stderr",
     "output_type": "stream",
     "text": [
      "Auto-assigning NUTS sampler...\n",
      "Initializing NUTS using jitter+adapt_diag...\n",
      "Multiprocess sampling (4 chains in 4 jobs)\n",
      "NUTS: [rv_output_logDLALCK_ALCK2, rv_DiffSlope_logDLALCK_ALCK2, rv_PoffSlope_logDLALCK_ALCK2, rv_intercept_logDLALCK_ALCK2]\n"
     ]
    },
    {
     "name": "stdout",
     "output_type": "stream",
     "text": [
      "i,y=(1, -2.85), j,x=(15, -1.25)\n"
     ]
    },
    {
     "name": "stderr",
     "output_type": "stream",
     "text": [
      "Auto-assigning NUTS sampler...\n",
      "Initializing NUTS using jitter+adapt_diag...\n",
      "Multiprocess sampling (4 chains in 4 jobs)\n",
      "NUTS: [rv_output_logDLALCK_ALCK2, rv_DiffSlope_logDLALCK_ALCK2, rv_PoffSlope_logDLALCK_ALCK2, rv_intercept_logDLALCK_ALCK2]\n"
     ]
    },
    {
     "name": "stdout",
     "output_type": "stream",
     "text": [
      "i,y=(1, -2.85), j,x=(16, -1.0)\n"
     ]
    },
    {
     "name": "stderr",
     "output_type": "stream",
     "text": [
      "Auto-assigning NUTS sampler...\n",
      "Initializing NUTS using jitter+adapt_diag...\n",
      "Multiprocess sampling (4 chains in 4 jobs)\n",
      "NUTS: [rv_output_logDLALCK_ALCK2, rv_DiffSlope_logDLALCK_ALCK2, rv_PoffSlope_logDLALCK_ALCK2, rv_intercept_logDLALCK_ALCK2]\n"
     ]
    },
    {
     "name": "stdout",
     "output_type": "stream",
     "text": [
      "i,y=(1, -2.85), j,x=(17, -0.75)\n"
     ]
    },
    {
     "name": "stderr",
     "output_type": "stream",
     "text": [
      "Auto-assigning NUTS sampler...\n",
      "Initializing NUTS using jitter+adapt_diag...\n",
      "Multiprocess sampling (4 chains in 4 jobs)\n",
      "NUTS: [rv_output_logDLALCK_ALCK2, rv_DiffSlope_logDLALCK_ALCK2, rv_PoffSlope_logDLALCK_ALCK2, rv_intercept_logDLALCK_ALCK2]\n"
     ]
    },
    {
     "name": "stdout",
     "output_type": "stream",
     "text": [
      "i,y=(1, -2.85), j,x=(18, -0.5)\n"
     ]
    },
    {
     "name": "stderr",
     "output_type": "stream",
     "text": [
      "Auto-assigning NUTS sampler...\n",
      "Initializing NUTS using jitter+adapt_diag...\n",
      "Multiprocess sampling (4 chains in 4 jobs)\n",
      "NUTS: [rv_output_logDLALCK_ALCK2, rv_DiffSlope_logDLALCK_ALCK2, rv_PoffSlope_logDLALCK_ALCK2, rv_intercept_logDLALCK_ALCK2]\n"
     ]
    },
    {
     "name": "stdout",
     "output_type": "stream",
     "text": [
      "i,y=(1, -2.85), j,x=(19, -0.25)\n"
     ]
    },
    {
     "name": "stderr",
     "output_type": "stream",
     "text": [
      "Auto-assigning NUTS sampler...\n",
      "Initializing NUTS using jitter+adapt_diag...\n",
      "Multiprocess sampling (4 chains in 4 jobs)\n",
      "NUTS: [rv_output_logDLALCK_ALCK2, rv_DiffSlope_logDLALCK_ALCK2, rv_PoffSlope_logDLALCK_ALCK2, rv_intercept_logDLALCK_ALCK2]\n"
     ]
    },
    {
     "name": "stdout",
     "output_type": "stream",
     "text": [
      "i,y=(2, -2.7), j,x=(0, -5.0)\n"
     ]
    },
    {
     "name": "stderr",
     "output_type": "stream",
     "text": [
      "Auto-assigning NUTS sampler...\n",
      "Initializing NUTS using jitter+adapt_diag...\n",
      "Multiprocess sampling (4 chains in 4 jobs)\n",
      "NUTS: [rv_output_logDLALCK_ALCK2, rv_DiffSlope_logDLALCK_ALCK2, rv_PoffSlope_logDLALCK_ALCK2, rv_intercept_logDLALCK_ALCK2]\n"
     ]
    },
    {
     "name": "stdout",
     "output_type": "stream",
     "text": [
      "i,y=(2, -2.7), j,x=(1, -4.75)\n"
     ]
    },
    {
     "name": "stderr",
     "output_type": "stream",
     "text": [
      "Auto-assigning NUTS sampler...\n",
      "Initializing NUTS using jitter+adapt_diag...\n",
      "Multiprocess sampling (4 chains in 4 jobs)\n",
      "NUTS: [rv_output_logDLALCK_ALCK2, rv_DiffSlope_logDLALCK_ALCK2, rv_PoffSlope_logDLALCK_ALCK2, rv_intercept_logDLALCK_ALCK2]\n"
     ]
    },
    {
     "name": "stdout",
     "output_type": "stream",
     "text": [
      "i,y=(2, -2.7), j,x=(2, -4.5)\n"
     ]
    },
    {
     "name": "stderr",
     "output_type": "stream",
     "text": [
      "Auto-assigning NUTS sampler...\n",
      "Initializing NUTS using jitter+adapt_diag...\n",
      "Multiprocess sampling (4 chains in 4 jobs)\n",
      "NUTS: [rv_output_logDLALCK_ALCK2, rv_DiffSlope_logDLALCK_ALCK2, rv_PoffSlope_logDLALCK_ALCK2, rv_intercept_logDLALCK_ALCK2]\n"
     ]
    },
    {
     "name": "stdout",
     "output_type": "stream",
     "text": [
      "i,y=(2, -2.7), j,x=(3, -4.25)\n"
     ]
    },
    {
     "name": "stderr",
     "output_type": "stream",
     "text": [
      "Auto-assigning NUTS sampler...\n",
      "Initializing NUTS using jitter+adapt_diag...\n",
      "Multiprocess sampling (4 chains in 4 jobs)\n",
      "NUTS: [rv_output_logDLALCK_ALCK2, rv_DiffSlope_logDLALCK_ALCK2, rv_PoffSlope_logDLALCK_ALCK2, rv_intercept_logDLALCK_ALCK2]\n"
     ]
    },
    {
     "name": "stdout",
     "output_type": "stream",
     "text": [
      "i,y=(2, -2.7), j,x=(4, -4.0)\n"
     ]
    },
    {
     "name": "stderr",
     "output_type": "stream",
     "text": [
      "Auto-assigning NUTS sampler...\n",
      "Initializing NUTS using jitter+adapt_diag...\n",
      "Multiprocess sampling (4 chains in 4 jobs)\n",
      "NUTS: [rv_output_logDLALCK_ALCK2, rv_DiffSlope_logDLALCK_ALCK2, rv_PoffSlope_logDLALCK_ALCK2, rv_intercept_logDLALCK_ALCK2]\n"
     ]
    },
    {
     "name": "stdout",
     "output_type": "stream",
     "text": [
      "i,y=(2, -2.7), j,x=(5, -3.75)\n"
     ]
    },
    {
     "name": "stderr",
     "output_type": "stream",
     "text": [
      "Auto-assigning NUTS sampler...\n",
      "Initializing NUTS using jitter+adapt_diag...\n",
      "Multiprocess sampling (4 chains in 4 jobs)\n",
      "NUTS: [rv_output_logDLALCK_ALCK2, rv_DiffSlope_logDLALCK_ALCK2, rv_PoffSlope_logDLALCK_ALCK2, rv_intercept_logDLALCK_ALCK2]\n"
     ]
    },
    {
     "name": "stdout",
     "output_type": "stream",
     "text": [
      "i,y=(2, -2.7), j,x=(6, -3.5)\n"
     ]
    },
    {
     "name": "stderr",
     "output_type": "stream",
     "text": [
      "Auto-assigning NUTS sampler...\n",
      "Initializing NUTS using jitter+adapt_diag...\n",
      "Multiprocess sampling (4 chains in 4 jobs)\n",
      "NUTS: [rv_output_logDLALCK_ALCK2, rv_DiffSlope_logDLALCK_ALCK2, rv_PoffSlope_logDLALCK_ALCK2, rv_intercept_logDLALCK_ALCK2]\n"
     ]
    },
    {
     "name": "stdout",
     "output_type": "stream",
     "text": [
      "i,y=(2, -2.7), j,x=(7, -3.25)\n"
     ]
    },
    {
     "name": "stderr",
     "output_type": "stream",
     "text": [
      "Auto-assigning NUTS sampler...\n",
      "Initializing NUTS using jitter+adapt_diag...\n",
      "Multiprocess sampling (4 chains in 4 jobs)\n",
      "NUTS: [rv_output_logDLALCK_ALCK2, rv_DiffSlope_logDLALCK_ALCK2, rv_PoffSlope_logDLALCK_ALCK2, rv_intercept_logDLALCK_ALCK2]\n"
     ]
    },
    {
     "name": "stdout",
     "output_type": "stream",
     "text": [
      "i,y=(2, -2.7), j,x=(8, -3.0)\n"
     ]
    },
    {
     "name": "stderr",
     "output_type": "stream",
     "text": [
      "Auto-assigning NUTS sampler...\n",
      "Initializing NUTS using jitter+adapt_diag...\n",
      "Multiprocess sampling (4 chains in 4 jobs)\n",
      "NUTS: [rv_output_logDLALCK_ALCK2, rv_DiffSlope_logDLALCK_ALCK2, rv_PoffSlope_logDLALCK_ALCK2, rv_intercept_logDLALCK_ALCK2]\n"
     ]
    },
    {
     "name": "stdout",
     "output_type": "stream",
     "text": [
      "i,y=(2, -2.7), j,x=(9, -2.75)\n"
     ]
    },
    {
     "name": "stderr",
     "output_type": "stream",
     "text": [
      "Auto-assigning NUTS sampler...\n",
      "Initializing NUTS using jitter+adapt_diag...\n",
      "Multiprocess sampling (4 chains in 4 jobs)\n",
      "NUTS: [rv_output_logDLALCK_ALCK2, rv_DiffSlope_logDLALCK_ALCK2, rv_PoffSlope_logDLALCK_ALCK2, rv_intercept_logDLALCK_ALCK2]\n"
     ]
    },
    {
     "name": "stdout",
     "output_type": "stream",
     "text": [
      "i,y=(2, -2.7), j,x=(10, -2.5)\n"
     ]
    },
    {
     "name": "stderr",
     "output_type": "stream",
     "text": [
      "Auto-assigning NUTS sampler...\n",
      "Initializing NUTS using jitter+adapt_diag...\n",
      "Multiprocess sampling (4 chains in 4 jobs)\n",
      "NUTS: [rv_output_logDLALCK_ALCK2, rv_DiffSlope_logDLALCK_ALCK2, rv_PoffSlope_logDLALCK_ALCK2, rv_intercept_logDLALCK_ALCK2]\n"
     ]
    },
    {
     "name": "stdout",
     "output_type": "stream",
     "text": [
      "i,y=(2, -2.7), j,x=(11, -2.25)\n"
     ]
    },
    {
     "name": "stderr",
     "output_type": "stream",
     "text": [
      "Auto-assigning NUTS sampler...\n",
      "Initializing NUTS using jitter+adapt_diag...\n",
      "Multiprocess sampling (4 chains in 4 jobs)\n",
      "NUTS: [rv_output_logDLALCK_ALCK2, rv_DiffSlope_logDLALCK_ALCK2, rv_PoffSlope_logDLALCK_ALCK2, rv_intercept_logDLALCK_ALCK2]\n"
     ]
    },
    {
     "name": "stdout",
     "output_type": "stream",
     "text": [
      "i,y=(2, -2.7), j,x=(12, -2.0)\n"
     ]
    },
    {
     "name": "stderr",
     "output_type": "stream",
     "text": [
      "Auto-assigning NUTS sampler...\n",
      "Initializing NUTS using jitter+adapt_diag...\n",
      "Multiprocess sampling (4 chains in 4 jobs)\n",
      "NUTS: [rv_output_logDLALCK_ALCK2, rv_DiffSlope_logDLALCK_ALCK2, rv_PoffSlope_logDLALCK_ALCK2, rv_intercept_logDLALCK_ALCK2]\n"
     ]
    },
    {
     "name": "stdout",
     "output_type": "stream",
     "text": [
      "i,y=(2, -2.7), j,x=(13, -1.75)\n"
     ]
    },
    {
     "name": "stderr",
     "output_type": "stream",
     "text": [
      "Auto-assigning NUTS sampler...\n",
      "Initializing NUTS using jitter+adapt_diag...\n",
      "Multiprocess sampling (4 chains in 4 jobs)\n",
      "NUTS: [rv_output_logDLALCK_ALCK2, rv_DiffSlope_logDLALCK_ALCK2, rv_PoffSlope_logDLALCK_ALCK2, rv_intercept_logDLALCK_ALCK2]\n"
     ]
    },
    {
     "name": "stdout",
     "output_type": "stream",
     "text": [
      "i,y=(2, -2.7), j,x=(14, -1.5)\n"
     ]
    },
    {
     "name": "stderr",
     "output_type": "stream",
     "text": [
      "Auto-assigning NUTS sampler...\n",
      "Initializing NUTS using jitter+adapt_diag...\n",
      "Multiprocess sampling (4 chains in 4 jobs)\n",
      "NUTS: [rv_output_logDLALCK_ALCK2, rv_DiffSlope_logDLALCK_ALCK2, rv_PoffSlope_logDLALCK_ALCK2, rv_intercept_logDLALCK_ALCK2]\n"
     ]
    },
    {
     "name": "stdout",
     "output_type": "stream",
     "text": [
      "i,y=(2, -2.7), j,x=(15, -1.25)\n"
     ]
    },
    {
     "name": "stderr",
     "output_type": "stream",
     "text": [
      "Auto-assigning NUTS sampler...\n",
      "Initializing NUTS using jitter+adapt_diag...\n",
      "Multiprocess sampling (4 chains in 4 jobs)\n",
      "NUTS: [rv_output_logDLALCK_ALCK2, rv_DiffSlope_logDLALCK_ALCK2, rv_PoffSlope_logDLALCK_ALCK2, rv_intercept_logDLALCK_ALCK2]\n"
     ]
    },
    {
     "name": "stdout",
     "output_type": "stream",
     "text": [
      "i,y=(2, -2.7), j,x=(16, -1.0)\n"
     ]
    },
    {
     "name": "stderr",
     "output_type": "stream",
     "text": [
      "Auto-assigning NUTS sampler...\n",
      "Initializing NUTS using jitter+adapt_diag...\n",
      "Multiprocess sampling (4 chains in 4 jobs)\n",
      "NUTS: [rv_output_logDLALCK_ALCK2, rv_DiffSlope_logDLALCK_ALCK2, rv_PoffSlope_logDLALCK_ALCK2, rv_intercept_logDLALCK_ALCK2]\n"
     ]
    },
    {
     "name": "stdout",
     "output_type": "stream",
     "text": [
      "i,y=(2, -2.7), j,x=(17, -0.75)\n"
     ]
    },
    {
     "name": "stderr",
     "output_type": "stream",
     "text": [
      "Auto-assigning NUTS sampler...\n",
      "Initializing NUTS using jitter+adapt_diag...\n",
      "Multiprocess sampling (4 chains in 4 jobs)\n",
      "NUTS: [rv_output_logDLALCK_ALCK2, rv_DiffSlope_logDLALCK_ALCK2, rv_PoffSlope_logDLALCK_ALCK2, rv_intercept_logDLALCK_ALCK2]\n"
     ]
    },
    {
     "name": "stdout",
     "output_type": "stream",
     "text": [
      "i,y=(2, -2.7), j,x=(18, -0.5)\n"
     ]
    },
    {
     "name": "stderr",
     "output_type": "stream",
     "text": [
      "Auto-assigning NUTS sampler...\n",
      "Initializing NUTS using jitter+adapt_diag...\n",
      "Multiprocess sampling (4 chains in 4 jobs)\n",
      "NUTS: [rv_output_logDLALCK_ALCK2, rv_DiffSlope_logDLALCK_ALCK2, rv_PoffSlope_logDLALCK_ALCK2, rv_intercept_logDLALCK_ALCK2]\n"
     ]
    },
    {
     "name": "stdout",
     "output_type": "stream",
     "text": [
      "i,y=(2, -2.7), j,x=(19, -0.25)\n"
     ]
    },
    {
     "name": "stderr",
     "output_type": "stream",
     "text": [
      "Auto-assigning NUTS sampler...\n",
      "Initializing NUTS using jitter+adapt_diag...\n",
      "Multiprocess sampling (4 chains in 4 jobs)\n",
      "NUTS: [rv_output_logDLALCK_ALCK2, rv_DiffSlope_logDLALCK_ALCK2, rv_PoffSlope_logDLALCK_ALCK2, rv_intercept_logDLALCK_ALCK2]\n"
     ]
    },
    {
     "name": "stdout",
     "output_type": "stream",
     "text": [
      "i,y=(3, -2.55), j,x=(0, -5.0)\n"
     ]
    },
    {
     "name": "stderr",
     "output_type": "stream",
     "text": [
      "Auto-assigning NUTS sampler...\n",
      "Initializing NUTS using jitter+adapt_diag...\n",
      "Multiprocess sampling (4 chains in 4 jobs)\n",
      "NUTS: [rv_output_logDLALCK_ALCK2, rv_DiffSlope_logDLALCK_ALCK2, rv_PoffSlope_logDLALCK_ALCK2, rv_intercept_logDLALCK_ALCK2]\n"
     ]
    },
    {
     "name": "stdout",
     "output_type": "stream",
     "text": [
      "i,y=(3, -2.55), j,x=(1, -4.75)\n"
     ]
    },
    {
     "name": "stderr",
     "output_type": "stream",
     "text": [
      "Auto-assigning NUTS sampler...\n",
      "Initializing NUTS using jitter+adapt_diag...\n",
      "Multiprocess sampling (4 chains in 4 jobs)\n",
      "NUTS: [rv_output_logDLALCK_ALCK2, rv_DiffSlope_logDLALCK_ALCK2, rv_PoffSlope_logDLALCK_ALCK2, rv_intercept_logDLALCK_ALCK2]\n"
     ]
    },
    {
     "name": "stdout",
     "output_type": "stream",
     "text": [
      "i,y=(3, -2.55), j,x=(2, -4.5)\n"
     ]
    },
    {
     "name": "stderr",
     "output_type": "stream",
     "text": [
      "Auto-assigning NUTS sampler...\n",
      "Initializing NUTS using jitter+adapt_diag...\n",
      "Multiprocess sampling (4 chains in 4 jobs)\n",
      "NUTS: [rv_output_logDLALCK_ALCK2, rv_DiffSlope_logDLALCK_ALCK2, rv_PoffSlope_logDLALCK_ALCK2, rv_intercept_logDLALCK_ALCK2]\n"
     ]
    },
    {
     "name": "stdout",
     "output_type": "stream",
     "text": [
      "i,y=(3, -2.55), j,x=(3, -4.25)\n"
     ]
    },
    {
     "name": "stderr",
     "output_type": "stream",
     "text": [
      "Auto-assigning NUTS sampler...\n",
      "Initializing NUTS using jitter+adapt_diag...\n",
      "Multiprocess sampling (4 chains in 4 jobs)\n",
      "NUTS: [rv_output_logDLALCK_ALCK2, rv_DiffSlope_logDLALCK_ALCK2, rv_PoffSlope_logDLALCK_ALCK2, rv_intercept_logDLALCK_ALCK2]\n"
     ]
    },
    {
     "name": "stdout",
     "output_type": "stream",
     "text": [
      "i,y=(3, -2.55), j,x=(4, -4.0)\n"
     ]
    },
    {
     "name": "stderr",
     "output_type": "stream",
     "text": [
      "Auto-assigning NUTS sampler...\n",
      "Initializing NUTS using jitter+adapt_diag...\n",
      "Multiprocess sampling (4 chains in 4 jobs)\n",
      "NUTS: [rv_output_logDLALCK_ALCK2, rv_DiffSlope_logDLALCK_ALCK2, rv_PoffSlope_logDLALCK_ALCK2, rv_intercept_logDLALCK_ALCK2]\n"
     ]
    },
    {
     "name": "stdout",
     "output_type": "stream",
     "text": [
      "i,y=(3, -2.55), j,x=(5, -3.75)\n"
     ]
    },
    {
     "name": "stderr",
     "output_type": "stream",
     "text": [
      "Auto-assigning NUTS sampler...\n",
      "Initializing NUTS using jitter+adapt_diag...\n",
      "Multiprocess sampling (4 chains in 4 jobs)\n",
      "NUTS: [rv_output_logDLALCK_ALCK2, rv_DiffSlope_logDLALCK_ALCK2, rv_PoffSlope_logDLALCK_ALCK2, rv_intercept_logDLALCK_ALCK2]\n"
     ]
    },
    {
     "name": "stdout",
     "output_type": "stream",
     "text": [
      "i,y=(3, -2.55), j,x=(6, -3.5)\n"
     ]
    },
    {
     "name": "stderr",
     "output_type": "stream",
     "text": [
      "Auto-assigning NUTS sampler...\n",
      "Initializing NUTS using jitter+adapt_diag...\n",
      "Multiprocess sampling (4 chains in 4 jobs)\n",
      "NUTS: [rv_output_logDLALCK_ALCK2, rv_DiffSlope_logDLALCK_ALCK2, rv_PoffSlope_logDLALCK_ALCK2, rv_intercept_logDLALCK_ALCK2]\n"
     ]
    },
    {
     "name": "stdout",
     "output_type": "stream",
     "text": [
      "i,y=(3, -2.55), j,x=(7, -3.25)\n"
     ]
    },
    {
     "name": "stderr",
     "output_type": "stream",
     "text": [
      "Auto-assigning NUTS sampler...\n",
      "Initializing NUTS using jitter+adapt_diag...\n",
      "Multiprocess sampling (4 chains in 4 jobs)\n",
      "NUTS: [rv_output_logDLALCK_ALCK2, rv_DiffSlope_logDLALCK_ALCK2, rv_PoffSlope_logDLALCK_ALCK2, rv_intercept_logDLALCK_ALCK2]\n"
     ]
    },
    {
     "name": "stdout",
     "output_type": "stream",
     "text": [
      "i,y=(3, -2.55), j,x=(8, -3.0)\n"
     ]
    },
    {
     "name": "stderr",
     "output_type": "stream",
     "text": [
      "Auto-assigning NUTS sampler...\n",
      "Initializing NUTS using jitter+adapt_diag...\n",
      "Multiprocess sampling (4 chains in 4 jobs)\n",
      "NUTS: [rv_output_logDLALCK_ALCK2, rv_DiffSlope_logDLALCK_ALCK2, rv_PoffSlope_logDLALCK_ALCK2, rv_intercept_logDLALCK_ALCK2]\n"
     ]
    },
    {
     "name": "stdout",
     "output_type": "stream",
     "text": [
      "i,y=(3, -2.55), j,x=(9, -2.75)\n"
     ]
    },
    {
     "name": "stderr",
     "output_type": "stream",
     "text": [
      "Auto-assigning NUTS sampler...\n",
      "Initializing NUTS using jitter+adapt_diag...\n",
      "Multiprocess sampling (4 chains in 4 jobs)\n",
      "NUTS: [rv_output_logDLALCK_ALCK2, rv_DiffSlope_logDLALCK_ALCK2, rv_PoffSlope_logDLALCK_ALCK2, rv_intercept_logDLALCK_ALCK2]\n"
     ]
    },
    {
     "name": "stdout",
     "output_type": "stream",
     "text": [
      "i,y=(3, -2.55), j,x=(10, -2.5)\n"
     ]
    },
    {
     "name": "stderr",
     "output_type": "stream",
     "text": [
      "Auto-assigning NUTS sampler...\n",
      "Initializing NUTS using jitter+adapt_diag...\n",
      "Multiprocess sampling (4 chains in 4 jobs)\n",
      "NUTS: [rv_output_logDLALCK_ALCK2, rv_DiffSlope_logDLALCK_ALCK2, rv_PoffSlope_logDLALCK_ALCK2, rv_intercept_logDLALCK_ALCK2]\n"
     ]
    },
    {
     "name": "stdout",
     "output_type": "stream",
     "text": [
      "i,y=(3, -2.55), j,x=(11, -2.25)\n"
     ]
    },
    {
     "name": "stderr",
     "output_type": "stream",
     "text": [
      "Auto-assigning NUTS sampler...\n",
      "Initializing NUTS using jitter+adapt_diag...\n",
      "Multiprocess sampling (4 chains in 4 jobs)\n",
      "NUTS: [rv_output_logDLALCK_ALCK2, rv_DiffSlope_logDLALCK_ALCK2, rv_PoffSlope_logDLALCK_ALCK2, rv_intercept_logDLALCK_ALCK2]\n"
     ]
    },
    {
     "name": "stdout",
     "output_type": "stream",
     "text": [
      "i,y=(3, -2.55), j,x=(12, -2.0)\n"
     ]
    },
    {
     "name": "stderr",
     "output_type": "stream",
     "text": [
      "Auto-assigning NUTS sampler...\n",
      "Initializing NUTS using jitter+adapt_diag...\n",
      "Multiprocess sampling (4 chains in 4 jobs)\n",
      "NUTS: [rv_output_logDLALCK_ALCK2, rv_DiffSlope_logDLALCK_ALCK2, rv_PoffSlope_logDLALCK_ALCK2, rv_intercept_logDLALCK_ALCK2]\n"
     ]
    },
    {
     "name": "stdout",
     "output_type": "stream",
     "text": [
      "i,y=(3, -2.55), j,x=(13, -1.75)\n"
     ]
    },
    {
     "name": "stderr",
     "output_type": "stream",
     "text": [
      "Auto-assigning NUTS sampler...\n",
      "Initializing NUTS using jitter+adapt_diag...\n",
      "Multiprocess sampling (4 chains in 4 jobs)\n",
      "NUTS: [rv_output_logDLALCK_ALCK2, rv_DiffSlope_logDLALCK_ALCK2, rv_PoffSlope_logDLALCK_ALCK2, rv_intercept_logDLALCK_ALCK2]\n"
     ]
    },
    {
     "name": "stdout",
     "output_type": "stream",
     "text": [
      "i,y=(3, -2.55), j,x=(14, -1.5)\n"
     ]
    },
    {
     "name": "stderr",
     "output_type": "stream",
     "text": [
      "Auto-assigning NUTS sampler...\n",
      "Initializing NUTS using jitter+adapt_diag...\n",
      "Multiprocess sampling (4 chains in 4 jobs)\n",
      "NUTS: [rv_output_logDLALCK_ALCK2, rv_DiffSlope_logDLALCK_ALCK2, rv_PoffSlope_logDLALCK_ALCK2, rv_intercept_logDLALCK_ALCK2]\n"
     ]
    },
    {
     "name": "stdout",
     "output_type": "stream",
     "text": [
      "i,y=(3, -2.55), j,x=(15, -1.25)\n"
     ]
    },
    {
     "name": "stderr",
     "output_type": "stream",
     "text": [
      "Auto-assigning NUTS sampler...\n",
      "Initializing NUTS using jitter+adapt_diag...\n",
      "Multiprocess sampling (4 chains in 4 jobs)\n",
      "NUTS: [rv_output_logDLALCK_ALCK2, rv_DiffSlope_logDLALCK_ALCK2, rv_PoffSlope_logDLALCK_ALCK2, rv_intercept_logDLALCK_ALCK2]\n"
     ]
    },
    {
     "name": "stdout",
     "output_type": "stream",
     "text": [
      "i,y=(3, -2.55), j,x=(16, -1.0)\n"
     ]
    },
    {
     "name": "stderr",
     "output_type": "stream",
     "text": [
      "Auto-assigning NUTS sampler...\n",
      "Initializing NUTS using jitter+adapt_diag...\n",
      "Multiprocess sampling (4 chains in 4 jobs)\n",
      "NUTS: [rv_output_logDLALCK_ALCK2, rv_DiffSlope_logDLALCK_ALCK2, rv_PoffSlope_logDLALCK_ALCK2, rv_intercept_logDLALCK_ALCK2]\n"
     ]
    },
    {
     "name": "stdout",
     "output_type": "stream",
     "text": [
      "i,y=(3, -2.55), j,x=(17, -0.75)\n"
     ]
    },
    {
     "name": "stderr",
     "output_type": "stream",
     "text": [
      "Auto-assigning NUTS sampler...\n",
      "Initializing NUTS using jitter+adapt_diag...\n",
      "Multiprocess sampling (4 chains in 4 jobs)\n",
      "NUTS: [rv_output_logDLALCK_ALCK2, rv_DiffSlope_logDLALCK_ALCK2, rv_PoffSlope_logDLALCK_ALCK2, rv_intercept_logDLALCK_ALCK2]\n"
     ]
    },
    {
     "name": "stdout",
     "output_type": "stream",
     "text": [
      "i,y=(3, -2.55), j,x=(18, -0.5)\n"
     ]
    },
    {
     "name": "stderr",
     "output_type": "stream",
     "text": [
      "Auto-assigning NUTS sampler...\n",
      "Initializing NUTS using jitter+adapt_diag...\n",
      "Multiprocess sampling (4 chains in 4 jobs)\n",
      "NUTS: [rv_output_logDLALCK_ALCK2, rv_DiffSlope_logDLALCK_ALCK2, rv_PoffSlope_logDLALCK_ALCK2, rv_intercept_logDLALCK_ALCK2]\n"
     ]
    },
    {
     "name": "stdout",
     "output_type": "stream",
     "text": [
      "i,y=(3, -2.55), j,x=(19, -0.25)\n"
     ]
    },
    {
     "name": "stderr",
     "output_type": "stream",
     "text": [
      "Auto-assigning NUTS sampler...\n",
      "Initializing NUTS using jitter+adapt_diag...\n",
      "Multiprocess sampling (4 chains in 4 jobs)\n",
      "NUTS: [rv_output_logDLALCK_ALCK2, rv_DiffSlope_logDLALCK_ALCK2, rv_PoffSlope_logDLALCK_ALCK2, rv_intercept_logDLALCK_ALCK2]\n",
      "The acceptance probability does not match the target. It is 0.8883096524165864, but should be close to 0.8. Try to increase the number of tuning steps.\n"
     ]
    },
    {
     "name": "stdout",
     "output_type": "stream",
     "text": [
      "i,y=(4, -2.4), j,x=(0, -5.0)\n"
     ]
    },
    {
     "name": "stderr",
     "output_type": "stream",
     "text": [
      "Auto-assigning NUTS sampler...\n",
      "Initializing NUTS using jitter+adapt_diag...\n",
      "Multiprocess sampling (4 chains in 4 jobs)\n",
      "NUTS: [rv_output_logDLALCK_ALCK2, rv_DiffSlope_logDLALCK_ALCK2, rv_PoffSlope_logDLALCK_ALCK2, rv_intercept_logDLALCK_ALCK2]\n"
     ]
    },
    {
     "name": "stdout",
     "output_type": "stream",
     "text": [
      "i,y=(4, -2.4), j,x=(1, -4.75)\n"
     ]
    },
    {
     "name": "stderr",
     "output_type": "stream",
     "text": [
      "Auto-assigning NUTS sampler...\n",
      "Initializing NUTS using jitter+adapt_diag...\n",
      "Multiprocess sampling (4 chains in 4 jobs)\n",
      "NUTS: [rv_output_logDLALCK_ALCK2, rv_DiffSlope_logDLALCK_ALCK2, rv_PoffSlope_logDLALCK_ALCK2, rv_intercept_logDLALCK_ALCK2]\n"
     ]
    },
    {
     "name": "stdout",
     "output_type": "stream",
     "text": [
      "i,y=(4, -2.4), j,x=(2, -4.5)\n"
     ]
    },
    {
     "name": "stderr",
     "output_type": "stream",
     "text": [
      "Auto-assigning NUTS sampler...\n",
      "Initializing NUTS using jitter+adapt_diag...\n",
      "Multiprocess sampling (4 chains in 4 jobs)\n",
      "NUTS: [rv_output_logDLALCK_ALCK2, rv_DiffSlope_logDLALCK_ALCK2, rv_PoffSlope_logDLALCK_ALCK2, rv_intercept_logDLALCK_ALCK2]\n"
     ]
    },
    {
     "name": "stdout",
     "output_type": "stream",
     "text": [
      "i,y=(4, -2.4), j,x=(3, -4.25)\n"
     ]
    },
    {
     "name": "stderr",
     "output_type": "stream",
     "text": [
      "Auto-assigning NUTS sampler...\n",
      "Initializing NUTS using jitter+adapt_diag...\n",
      "Multiprocess sampling (4 chains in 4 jobs)\n",
      "NUTS: [rv_output_logDLALCK_ALCK2, rv_DiffSlope_logDLALCK_ALCK2, rv_PoffSlope_logDLALCK_ALCK2, rv_intercept_logDLALCK_ALCK2]\n"
     ]
    },
    {
     "name": "stdout",
     "output_type": "stream",
     "text": [
      "i,y=(4, -2.4), j,x=(4, -4.0)\n"
     ]
    },
    {
     "name": "stderr",
     "output_type": "stream",
     "text": [
      "Auto-assigning NUTS sampler...\n",
      "Initializing NUTS using jitter+adapt_diag...\n",
      "Multiprocess sampling (4 chains in 4 jobs)\n",
      "NUTS: [rv_output_logDLALCK_ALCK2, rv_DiffSlope_logDLALCK_ALCK2, rv_PoffSlope_logDLALCK_ALCK2, rv_intercept_logDLALCK_ALCK2]\n"
     ]
    },
    {
     "name": "stdout",
     "output_type": "stream",
     "text": [
      "i,y=(4, -2.4), j,x=(5, -3.75)\n"
     ]
    },
    {
     "name": "stderr",
     "output_type": "stream",
     "text": [
      "Auto-assigning NUTS sampler...\n",
      "Initializing NUTS using jitter+adapt_diag...\n",
      "Multiprocess sampling (4 chains in 4 jobs)\n",
      "NUTS: [rv_output_logDLALCK_ALCK2, rv_DiffSlope_logDLALCK_ALCK2, rv_PoffSlope_logDLALCK_ALCK2, rv_intercept_logDLALCK_ALCK2]\n"
     ]
    },
    {
     "name": "stdout",
     "output_type": "stream",
     "text": [
      "i,y=(4, -2.4), j,x=(6, -3.5)\n"
     ]
    },
    {
     "name": "stderr",
     "output_type": "stream",
     "text": [
      "Auto-assigning NUTS sampler...\n",
      "Initializing NUTS using jitter+adapt_diag...\n",
      "Multiprocess sampling (4 chains in 4 jobs)\n",
      "NUTS: [rv_output_logDLALCK_ALCK2, rv_DiffSlope_logDLALCK_ALCK2, rv_PoffSlope_logDLALCK_ALCK2, rv_intercept_logDLALCK_ALCK2]\n"
     ]
    },
    {
     "name": "stdout",
     "output_type": "stream",
     "text": [
      "i,y=(4, -2.4), j,x=(7, -3.25)\n"
     ]
    },
    {
     "name": "stderr",
     "output_type": "stream",
     "text": [
      "Auto-assigning NUTS sampler...\n",
      "Initializing NUTS using jitter+adapt_diag...\n",
      "Multiprocess sampling (4 chains in 4 jobs)\n",
      "NUTS: [rv_output_logDLALCK_ALCK2, rv_DiffSlope_logDLALCK_ALCK2, rv_PoffSlope_logDLALCK_ALCK2, rv_intercept_logDLALCK_ALCK2]\n"
     ]
    },
    {
     "name": "stdout",
     "output_type": "stream",
     "text": [
      "i,y=(4, -2.4), j,x=(8, -3.0)\n"
     ]
    },
    {
     "name": "stderr",
     "output_type": "stream",
     "text": [
      "Auto-assigning NUTS sampler...\n",
      "Initializing NUTS using jitter+adapt_diag...\n",
      "Multiprocess sampling (4 chains in 4 jobs)\n",
      "NUTS: [rv_output_logDLALCK_ALCK2, rv_DiffSlope_logDLALCK_ALCK2, rv_PoffSlope_logDLALCK_ALCK2, rv_intercept_logDLALCK_ALCK2]\n"
     ]
    },
    {
     "name": "stdout",
     "output_type": "stream",
     "text": [
      "i,y=(4, -2.4), j,x=(9, -2.75)\n"
     ]
    },
    {
     "name": "stderr",
     "output_type": "stream",
     "text": [
      "Auto-assigning NUTS sampler...\n",
      "Initializing NUTS using jitter+adapt_diag...\n",
      "Multiprocess sampling (4 chains in 4 jobs)\n",
      "NUTS: [rv_output_logDLALCK_ALCK2, rv_DiffSlope_logDLALCK_ALCK2, rv_PoffSlope_logDLALCK_ALCK2, rv_intercept_logDLALCK_ALCK2]\n"
     ]
    },
    {
     "name": "stdout",
     "output_type": "stream",
     "text": [
      "i,y=(4, -2.4), j,x=(10, -2.5)\n"
     ]
    },
    {
     "name": "stderr",
     "output_type": "stream",
     "text": [
      "Auto-assigning NUTS sampler...\n",
      "Initializing NUTS using jitter+adapt_diag...\n",
      "Multiprocess sampling (4 chains in 4 jobs)\n",
      "NUTS: [rv_output_logDLALCK_ALCK2, rv_DiffSlope_logDLALCK_ALCK2, rv_PoffSlope_logDLALCK_ALCK2, rv_intercept_logDLALCK_ALCK2]\n"
     ]
    },
    {
     "name": "stdout",
     "output_type": "stream",
     "text": [
      "i,y=(4, -2.4), j,x=(11, -2.25)\n"
     ]
    },
    {
     "name": "stderr",
     "output_type": "stream",
     "text": [
      "Auto-assigning NUTS sampler...\n",
      "Initializing NUTS using jitter+adapt_diag...\n",
      "Multiprocess sampling (4 chains in 4 jobs)\n",
      "NUTS: [rv_output_logDLALCK_ALCK2, rv_DiffSlope_logDLALCK_ALCK2, rv_PoffSlope_logDLALCK_ALCK2, rv_intercept_logDLALCK_ALCK2]\n"
     ]
    },
    {
     "name": "stdout",
     "output_type": "stream",
     "text": [
      "i,y=(4, -2.4), j,x=(12, -2.0)\n"
     ]
    },
    {
     "name": "stderr",
     "output_type": "stream",
     "text": [
      "Auto-assigning NUTS sampler...\n",
      "Initializing NUTS using jitter+adapt_diag...\n",
      "Multiprocess sampling (4 chains in 4 jobs)\n",
      "NUTS: [rv_output_logDLALCK_ALCK2, rv_DiffSlope_logDLALCK_ALCK2, rv_PoffSlope_logDLALCK_ALCK2, rv_intercept_logDLALCK_ALCK2]\n"
     ]
    },
    {
     "name": "stdout",
     "output_type": "stream",
     "text": [
      "i,y=(4, -2.4), j,x=(13, -1.75)\n"
     ]
    },
    {
     "name": "stderr",
     "output_type": "stream",
     "text": [
      "Auto-assigning NUTS sampler...\n",
      "Initializing NUTS using jitter+adapt_diag...\n",
      "Multiprocess sampling (4 chains in 4 jobs)\n",
      "NUTS: [rv_output_logDLALCK_ALCK2, rv_DiffSlope_logDLALCK_ALCK2, rv_PoffSlope_logDLALCK_ALCK2, rv_intercept_logDLALCK_ALCK2]\n"
     ]
    },
    {
     "name": "stdout",
     "output_type": "stream",
     "text": [
      "i,y=(4, -2.4), j,x=(14, -1.5)\n"
     ]
    },
    {
     "name": "stderr",
     "output_type": "stream",
     "text": [
      "Auto-assigning NUTS sampler...\n",
      "Initializing NUTS using jitter+adapt_diag...\n",
      "Multiprocess sampling (4 chains in 4 jobs)\n",
      "NUTS: [rv_output_logDLALCK_ALCK2, rv_DiffSlope_logDLALCK_ALCK2, rv_PoffSlope_logDLALCK_ALCK2, rv_intercept_logDLALCK_ALCK2]\n"
     ]
    },
    {
     "name": "stdout",
     "output_type": "stream",
     "text": [
      "i,y=(4, -2.4), j,x=(15, -1.25)\n"
     ]
    },
    {
     "name": "stderr",
     "output_type": "stream",
     "text": [
      "Auto-assigning NUTS sampler...\n",
      "Initializing NUTS using jitter+adapt_diag...\n",
      "Multiprocess sampling (4 chains in 4 jobs)\n",
      "NUTS: [rv_output_logDLALCK_ALCK2, rv_DiffSlope_logDLALCK_ALCK2, rv_PoffSlope_logDLALCK_ALCK2, rv_intercept_logDLALCK_ALCK2]\n"
     ]
    },
    {
     "name": "stdout",
     "output_type": "stream",
     "text": [
      "i,y=(4, -2.4), j,x=(16, -1.0)\n"
     ]
    },
    {
     "name": "stderr",
     "output_type": "stream",
     "text": [
      "Auto-assigning NUTS sampler...\n",
      "Initializing NUTS using jitter+adapt_diag...\n",
      "Multiprocess sampling (4 chains in 4 jobs)\n",
      "NUTS: [rv_output_logDLALCK_ALCK2, rv_DiffSlope_logDLALCK_ALCK2, rv_PoffSlope_logDLALCK_ALCK2, rv_intercept_logDLALCK_ALCK2]\n"
     ]
    },
    {
     "name": "stdout",
     "output_type": "stream",
     "text": [
      "i,y=(4, -2.4), j,x=(17, -0.75)\n"
     ]
    },
    {
     "name": "stderr",
     "output_type": "stream",
     "text": [
      "Auto-assigning NUTS sampler...\n",
      "Initializing NUTS using jitter+adapt_diag...\n",
      "Multiprocess sampling (4 chains in 4 jobs)\n",
      "NUTS: [rv_output_logDLALCK_ALCK2, rv_DiffSlope_logDLALCK_ALCK2, rv_PoffSlope_logDLALCK_ALCK2, rv_intercept_logDLALCK_ALCK2]\n"
     ]
    },
    {
     "name": "stdout",
     "output_type": "stream",
     "text": [
      "i,y=(4, -2.4), j,x=(18, -0.5)\n"
     ]
    },
    {
     "name": "stderr",
     "output_type": "stream",
     "text": [
      "Auto-assigning NUTS sampler...\n",
      "Initializing NUTS using jitter+adapt_diag...\n",
      "Multiprocess sampling (4 chains in 4 jobs)\n",
      "NUTS: [rv_output_logDLALCK_ALCK2, rv_DiffSlope_logDLALCK_ALCK2, rv_PoffSlope_logDLALCK_ALCK2, rv_intercept_logDLALCK_ALCK2]\n"
     ]
    },
    {
     "name": "stdout",
     "output_type": "stream",
     "text": [
      "i,y=(4, -2.4), j,x=(19, -0.25)\n"
     ]
    },
    {
     "name": "stderr",
     "output_type": "stream",
     "text": [
      "Auto-assigning NUTS sampler...\n",
      "Initializing NUTS using jitter+adapt_diag...\n",
      "Multiprocess sampling (4 chains in 4 jobs)\n",
      "NUTS: [rv_output_logDLALCK_ALCK2, rv_DiffSlope_logDLALCK_ALCK2, rv_PoffSlope_logDLALCK_ALCK2, rv_intercept_logDLALCK_ALCK2]\n"
     ]
    },
    {
     "name": "stdout",
     "output_type": "stream",
     "text": [
      "i,y=(5, -2.25), j,x=(0, -5.0)\n"
     ]
    },
    {
     "name": "stderr",
     "output_type": "stream",
     "text": [
      "Auto-assigning NUTS sampler...\n",
      "Initializing NUTS using jitter+adapt_diag...\n",
      "Multiprocess sampling (4 chains in 4 jobs)\n",
      "NUTS: [rv_output_logDLALCK_ALCK2, rv_DiffSlope_logDLALCK_ALCK2, rv_PoffSlope_logDLALCK_ALCK2, rv_intercept_logDLALCK_ALCK2]\n"
     ]
    },
    {
     "name": "stdout",
     "output_type": "stream",
     "text": [
      "i,y=(5, -2.25), j,x=(1, -4.75)\n"
     ]
    },
    {
     "name": "stderr",
     "output_type": "stream",
     "text": [
      "Auto-assigning NUTS sampler...\n",
      "Initializing NUTS using jitter+adapt_diag...\n",
      "Multiprocess sampling (4 chains in 4 jobs)\n",
      "NUTS: [rv_output_logDLALCK_ALCK2, rv_DiffSlope_logDLALCK_ALCK2, rv_PoffSlope_logDLALCK_ALCK2, rv_intercept_logDLALCK_ALCK2]\n"
     ]
    },
    {
     "name": "stdout",
     "output_type": "stream",
     "text": [
      "i,y=(5, -2.25), j,x=(2, -4.5)\n"
     ]
    },
    {
     "name": "stderr",
     "output_type": "stream",
     "text": [
      "Auto-assigning NUTS sampler...\n",
      "Initializing NUTS using jitter+adapt_diag...\n",
      "Multiprocess sampling (4 chains in 4 jobs)\n",
      "NUTS: [rv_output_logDLALCK_ALCK2, rv_DiffSlope_logDLALCK_ALCK2, rv_PoffSlope_logDLALCK_ALCK2, rv_intercept_logDLALCK_ALCK2]\n"
     ]
    },
    {
     "name": "stdout",
     "output_type": "stream",
     "text": [
      "i,y=(5, -2.25), j,x=(3, -4.25)\n"
     ]
    },
    {
     "name": "stderr",
     "output_type": "stream",
     "text": [
      "Auto-assigning NUTS sampler...\n",
      "Initializing NUTS using jitter+adapt_diag...\n",
      "Multiprocess sampling (4 chains in 4 jobs)\n",
      "NUTS: [rv_output_logDLALCK_ALCK2, rv_DiffSlope_logDLALCK_ALCK2, rv_PoffSlope_logDLALCK_ALCK2, rv_intercept_logDLALCK_ALCK2]\n"
     ]
    },
    {
     "name": "stdout",
     "output_type": "stream",
     "text": [
      "i,y=(5, -2.25), j,x=(4, -4.0)\n"
     ]
    },
    {
     "name": "stderr",
     "output_type": "stream",
     "text": [
      "Auto-assigning NUTS sampler...\n",
      "Initializing NUTS using jitter+adapt_diag...\n",
      "Multiprocess sampling (4 chains in 4 jobs)\n",
      "NUTS: [rv_output_logDLALCK_ALCK2, rv_DiffSlope_logDLALCK_ALCK2, rv_PoffSlope_logDLALCK_ALCK2, rv_intercept_logDLALCK_ALCK2]\n"
     ]
    },
    {
     "name": "stdout",
     "output_type": "stream",
     "text": [
      "i,y=(5, -2.25), j,x=(5, -3.75)\n"
     ]
    },
    {
     "name": "stderr",
     "output_type": "stream",
     "text": [
      "Auto-assigning NUTS sampler...\n",
      "Initializing NUTS using jitter+adapt_diag...\n",
      "Multiprocess sampling (4 chains in 4 jobs)\n",
      "NUTS: [rv_output_logDLALCK_ALCK2, rv_DiffSlope_logDLALCK_ALCK2, rv_PoffSlope_logDLALCK_ALCK2, rv_intercept_logDLALCK_ALCK2]\n"
     ]
    },
    {
     "name": "stdout",
     "output_type": "stream",
     "text": [
      "i,y=(5, -2.25), j,x=(6, -3.5)\n"
     ]
    },
    {
     "name": "stderr",
     "output_type": "stream",
     "text": [
      "Auto-assigning NUTS sampler...\n",
      "Initializing NUTS using jitter+adapt_diag...\n",
      "Multiprocess sampling (4 chains in 4 jobs)\n",
      "NUTS: [rv_output_logDLALCK_ALCK2, rv_DiffSlope_logDLALCK_ALCK2, rv_PoffSlope_logDLALCK_ALCK2, rv_intercept_logDLALCK_ALCK2]\n"
     ]
    },
    {
     "name": "stdout",
     "output_type": "stream",
     "text": [
      "i,y=(5, -2.25), j,x=(7, -3.25)\n"
     ]
    },
    {
     "name": "stderr",
     "output_type": "stream",
     "text": [
      "Auto-assigning NUTS sampler...\n",
      "Initializing NUTS using jitter+adapt_diag...\n",
      "Multiprocess sampling (4 chains in 4 jobs)\n",
      "NUTS: [rv_output_logDLALCK_ALCK2, rv_DiffSlope_logDLALCK_ALCK2, rv_PoffSlope_logDLALCK_ALCK2, rv_intercept_logDLALCK_ALCK2]\n"
     ]
    },
    {
     "name": "stdout",
     "output_type": "stream",
     "text": [
      "i,y=(5, -2.25), j,x=(8, -3.0)\n"
     ]
    },
    {
     "name": "stderr",
     "output_type": "stream",
     "text": [
      "Auto-assigning NUTS sampler...\n",
      "Initializing NUTS using jitter+adapt_diag...\n",
      "Multiprocess sampling (4 chains in 4 jobs)\n",
      "NUTS: [rv_output_logDLALCK_ALCK2, rv_DiffSlope_logDLALCK_ALCK2, rv_PoffSlope_logDLALCK_ALCK2, rv_intercept_logDLALCK_ALCK2]\n"
     ]
    },
    {
     "name": "stdout",
     "output_type": "stream",
     "text": [
      "i,y=(5, -2.25), j,x=(9, -2.75)\n"
     ]
    },
    {
     "name": "stderr",
     "output_type": "stream",
     "text": [
      "Auto-assigning NUTS sampler...\n",
      "Initializing NUTS using jitter+adapt_diag...\n",
      "Multiprocess sampling (4 chains in 4 jobs)\n",
      "NUTS: [rv_output_logDLALCK_ALCK2, rv_DiffSlope_logDLALCK_ALCK2, rv_PoffSlope_logDLALCK_ALCK2, rv_intercept_logDLALCK_ALCK2]\n"
     ]
    },
    {
     "name": "stdout",
     "output_type": "stream",
     "text": [
      "i,y=(5, -2.25), j,x=(10, -2.5)\n"
     ]
    },
    {
     "name": "stderr",
     "output_type": "stream",
     "text": [
      "Auto-assigning NUTS sampler...\n",
      "Initializing NUTS using jitter+adapt_diag...\n",
      "Multiprocess sampling (4 chains in 4 jobs)\n",
      "NUTS: [rv_output_logDLALCK_ALCK2, rv_DiffSlope_logDLALCK_ALCK2, rv_PoffSlope_logDLALCK_ALCK2, rv_intercept_logDLALCK_ALCK2]\n"
     ]
    },
    {
     "name": "stdout",
     "output_type": "stream",
     "text": [
      "i,y=(5, -2.25), j,x=(11, -2.25)\n"
     ]
    },
    {
     "name": "stderr",
     "output_type": "stream",
     "text": [
      "Auto-assigning NUTS sampler...\n",
      "Initializing NUTS using jitter+adapt_diag...\n",
      "Multiprocess sampling (4 chains in 4 jobs)\n",
      "NUTS: [rv_output_logDLALCK_ALCK2, rv_DiffSlope_logDLALCK_ALCK2, rv_PoffSlope_logDLALCK_ALCK2, rv_intercept_logDLALCK_ALCK2]\n"
     ]
    },
    {
     "name": "stdout",
     "output_type": "stream",
     "text": [
      "i,y=(5, -2.25), j,x=(12, -2.0)\n"
     ]
    },
    {
     "name": "stderr",
     "output_type": "stream",
     "text": [
      "Auto-assigning NUTS sampler...\n",
      "Initializing NUTS using jitter+adapt_diag...\n",
      "Multiprocess sampling (4 chains in 4 jobs)\n",
      "NUTS: [rv_output_logDLALCK_ALCK2, rv_DiffSlope_logDLALCK_ALCK2, rv_PoffSlope_logDLALCK_ALCK2, rv_intercept_logDLALCK_ALCK2]\n"
     ]
    },
    {
     "name": "stdout",
     "output_type": "stream",
     "text": [
      "i,y=(5, -2.25), j,x=(13, -1.75)\n"
     ]
    },
    {
     "name": "stderr",
     "output_type": "stream",
     "text": [
      "Auto-assigning NUTS sampler...\n",
      "Initializing NUTS using jitter+adapt_diag...\n",
      "Multiprocess sampling (4 chains in 4 jobs)\n",
      "NUTS: [rv_output_logDLALCK_ALCK2, rv_DiffSlope_logDLALCK_ALCK2, rv_PoffSlope_logDLALCK_ALCK2, rv_intercept_logDLALCK_ALCK2]\n"
     ]
    },
    {
     "name": "stdout",
     "output_type": "stream",
     "text": [
      "i,y=(5, -2.25), j,x=(14, -1.5)\n"
     ]
    },
    {
     "name": "stderr",
     "output_type": "stream",
     "text": [
      "Auto-assigning NUTS sampler...\n",
      "Initializing NUTS using jitter+adapt_diag...\n",
      "Multiprocess sampling (4 chains in 4 jobs)\n",
      "NUTS: [rv_output_logDLALCK_ALCK2, rv_DiffSlope_logDLALCK_ALCK2, rv_PoffSlope_logDLALCK_ALCK2, rv_intercept_logDLALCK_ALCK2]\n"
     ]
    },
    {
     "name": "stdout",
     "output_type": "stream",
     "text": [
      "i,y=(5, -2.25), j,x=(15, -1.25)\n"
     ]
    },
    {
     "name": "stderr",
     "output_type": "stream",
     "text": [
      "Auto-assigning NUTS sampler...\n",
      "Initializing NUTS using jitter+adapt_diag...\n",
      "Multiprocess sampling (4 chains in 4 jobs)\n",
      "NUTS: [rv_output_logDLALCK_ALCK2, rv_DiffSlope_logDLALCK_ALCK2, rv_PoffSlope_logDLALCK_ALCK2, rv_intercept_logDLALCK_ALCK2]\n"
     ]
    },
    {
     "name": "stdout",
     "output_type": "stream",
     "text": [
      "i,y=(5, -2.25), j,x=(16, -1.0)\n"
     ]
    },
    {
     "name": "stderr",
     "output_type": "stream",
     "text": [
      "Auto-assigning NUTS sampler...\n",
      "Initializing NUTS using jitter+adapt_diag...\n",
      "Multiprocess sampling (4 chains in 4 jobs)\n",
      "NUTS: [rv_output_logDLALCK_ALCK2, rv_DiffSlope_logDLALCK_ALCK2, rv_PoffSlope_logDLALCK_ALCK2, rv_intercept_logDLALCK_ALCK2]\n"
     ]
    },
    {
     "name": "stdout",
     "output_type": "stream",
     "text": [
      "i,y=(5, -2.25), j,x=(17, -0.75)\n"
     ]
    },
    {
     "name": "stderr",
     "output_type": "stream",
     "text": [
      "Auto-assigning NUTS sampler...\n",
      "Initializing NUTS using jitter+adapt_diag...\n",
      "Multiprocess sampling (4 chains in 4 jobs)\n",
      "NUTS: [rv_output_logDLALCK_ALCK2, rv_DiffSlope_logDLALCK_ALCK2, rv_PoffSlope_logDLALCK_ALCK2, rv_intercept_logDLALCK_ALCK2]\n"
     ]
    },
    {
     "name": "stdout",
     "output_type": "stream",
     "text": [
      "i,y=(5, -2.25), j,x=(18, -0.5)\n"
     ]
    },
    {
     "name": "stderr",
     "output_type": "stream",
     "text": [
      "Auto-assigning NUTS sampler...\n",
      "Initializing NUTS using jitter+adapt_diag...\n",
      "Multiprocess sampling (4 chains in 4 jobs)\n",
      "NUTS: [rv_output_logDLALCK_ALCK2, rv_DiffSlope_logDLALCK_ALCK2, rv_PoffSlope_logDLALCK_ALCK2, rv_intercept_logDLALCK_ALCK2]\n"
     ]
    },
    {
     "name": "stdout",
     "output_type": "stream",
     "text": [
      "i,y=(5, -2.25), j,x=(19, -0.25)\n"
     ]
    },
    {
     "name": "stderr",
     "output_type": "stream",
     "text": [
      "Auto-assigning NUTS sampler...\n",
      "Initializing NUTS using jitter+adapt_diag...\n",
      "Multiprocess sampling (4 chains in 4 jobs)\n",
      "NUTS: [rv_output_logDLALCK_ALCK2, rv_DiffSlope_logDLALCK_ALCK2, rv_PoffSlope_logDLALCK_ALCK2, rv_intercept_logDLALCK_ALCK2]\n"
     ]
    },
    {
     "name": "stdout",
     "output_type": "stream",
     "text": [
      "i,y=(6, -2.1), j,x=(0, -5.0)\n"
     ]
    },
    {
     "name": "stderr",
     "output_type": "stream",
     "text": [
      "Auto-assigning NUTS sampler...\n",
      "Initializing NUTS using jitter+adapt_diag...\n",
      "Multiprocess sampling (4 chains in 4 jobs)\n",
      "NUTS: [rv_output_logDLALCK_ALCK2, rv_DiffSlope_logDLALCK_ALCK2, rv_PoffSlope_logDLALCK_ALCK2, rv_intercept_logDLALCK_ALCK2]\n"
     ]
    },
    {
     "name": "stdout",
     "output_type": "stream",
     "text": [
      "i,y=(6, -2.1), j,x=(1, -4.75)\n"
     ]
    },
    {
     "name": "stderr",
     "output_type": "stream",
     "text": [
      "Auto-assigning NUTS sampler...\n",
      "Initializing NUTS using jitter+adapt_diag...\n",
      "Multiprocess sampling (4 chains in 4 jobs)\n",
      "NUTS: [rv_output_logDLALCK_ALCK2, rv_DiffSlope_logDLALCK_ALCK2, rv_PoffSlope_logDLALCK_ALCK2, rv_intercept_logDLALCK_ALCK2]\n"
     ]
    },
    {
     "name": "stdout",
     "output_type": "stream",
     "text": [
      "i,y=(6, -2.1), j,x=(2, -4.5)\n"
     ]
    },
    {
     "name": "stderr",
     "output_type": "stream",
     "text": [
      "Auto-assigning NUTS sampler...\n",
      "Initializing NUTS using jitter+adapt_diag...\n",
      "Multiprocess sampling (4 chains in 4 jobs)\n",
      "NUTS: [rv_output_logDLALCK_ALCK2, rv_DiffSlope_logDLALCK_ALCK2, rv_PoffSlope_logDLALCK_ALCK2, rv_intercept_logDLALCK_ALCK2]\n"
     ]
    },
    {
     "name": "stdout",
     "output_type": "stream",
     "text": [
      "i,y=(6, -2.1), j,x=(3, -4.25)\n"
     ]
    },
    {
     "name": "stderr",
     "output_type": "stream",
     "text": [
      "Auto-assigning NUTS sampler...\n",
      "Initializing NUTS using jitter+adapt_diag...\n",
      "Multiprocess sampling (4 chains in 4 jobs)\n",
      "NUTS: [rv_output_logDLALCK_ALCK2, rv_DiffSlope_logDLALCK_ALCK2, rv_PoffSlope_logDLALCK_ALCK2, rv_intercept_logDLALCK_ALCK2]\n"
     ]
    },
    {
     "name": "stdout",
     "output_type": "stream",
     "text": [
      "i,y=(6, -2.1), j,x=(4, -4.0)\n"
     ]
    },
    {
     "name": "stderr",
     "output_type": "stream",
     "text": [
      "Auto-assigning NUTS sampler...\n",
      "Initializing NUTS using jitter+adapt_diag...\n",
      "Multiprocess sampling (4 chains in 4 jobs)\n",
      "NUTS: [rv_output_logDLALCK_ALCK2, rv_DiffSlope_logDLALCK_ALCK2, rv_PoffSlope_logDLALCK_ALCK2, rv_intercept_logDLALCK_ALCK2]\n"
     ]
    },
    {
     "name": "stdout",
     "output_type": "stream",
     "text": [
      "i,y=(6, -2.1), j,x=(5, -3.75)\n"
     ]
    },
    {
     "name": "stderr",
     "output_type": "stream",
     "text": [
      "Auto-assigning NUTS sampler...\n",
      "Initializing NUTS using jitter+adapt_diag...\n",
      "Multiprocess sampling (4 chains in 4 jobs)\n",
      "NUTS: [rv_output_logDLALCK_ALCK2, rv_DiffSlope_logDLALCK_ALCK2, rv_PoffSlope_logDLALCK_ALCK2, rv_intercept_logDLALCK_ALCK2]\n"
     ]
    },
    {
     "name": "stdout",
     "output_type": "stream",
     "text": [
      "i,y=(6, -2.1), j,x=(6, -3.5)\n"
     ]
    },
    {
     "name": "stderr",
     "output_type": "stream",
     "text": [
      "Auto-assigning NUTS sampler...\n",
      "Initializing NUTS using jitter+adapt_diag...\n",
      "Multiprocess sampling (4 chains in 4 jobs)\n",
      "NUTS: [rv_output_logDLALCK_ALCK2, rv_DiffSlope_logDLALCK_ALCK2, rv_PoffSlope_logDLALCK_ALCK2, rv_intercept_logDLALCK_ALCK2]\n"
     ]
    },
    {
     "name": "stdout",
     "output_type": "stream",
     "text": [
      "i,y=(6, -2.1), j,x=(7, -3.25)\n"
     ]
    },
    {
     "name": "stderr",
     "output_type": "stream",
     "text": [
      "Auto-assigning NUTS sampler...\n",
      "Initializing NUTS using jitter+adapt_diag...\n",
      "Multiprocess sampling (4 chains in 4 jobs)\n",
      "NUTS: [rv_output_logDLALCK_ALCK2, rv_DiffSlope_logDLALCK_ALCK2, rv_PoffSlope_logDLALCK_ALCK2, rv_intercept_logDLALCK_ALCK2]\n"
     ]
    },
    {
     "name": "stdout",
     "output_type": "stream",
     "text": [
      "i,y=(6, -2.1), j,x=(8, -3.0)\n"
     ]
    },
    {
     "name": "stderr",
     "output_type": "stream",
     "text": [
      "Auto-assigning NUTS sampler...\n",
      "Initializing NUTS using jitter+adapt_diag...\n",
      "Multiprocess sampling (4 chains in 4 jobs)\n",
      "NUTS: [rv_output_logDLALCK_ALCK2, rv_DiffSlope_logDLALCK_ALCK2, rv_PoffSlope_logDLALCK_ALCK2, rv_intercept_logDLALCK_ALCK2]\n"
     ]
    },
    {
     "name": "stdout",
     "output_type": "stream",
     "text": [
      "i,y=(6, -2.1), j,x=(9, -2.75)\n"
     ]
    },
    {
     "name": "stderr",
     "output_type": "stream",
     "text": [
      "Auto-assigning NUTS sampler...\n",
      "Initializing NUTS using jitter+adapt_diag...\n",
      "Multiprocess sampling (4 chains in 4 jobs)\n",
      "NUTS: [rv_output_logDLALCK_ALCK2, rv_DiffSlope_logDLALCK_ALCK2, rv_PoffSlope_logDLALCK_ALCK2, rv_intercept_logDLALCK_ALCK2]\n"
     ]
    },
    {
     "name": "stdout",
     "output_type": "stream",
     "text": [
      "i,y=(6, -2.1), j,x=(10, -2.5)\n"
     ]
    },
    {
     "name": "stderr",
     "output_type": "stream",
     "text": [
      "Auto-assigning NUTS sampler...\n",
      "Initializing NUTS using jitter+adapt_diag...\n",
      "Multiprocess sampling (4 chains in 4 jobs)\n",
      "NUTS: [rv_output_logDLALCK_ALCK2, rv_DiffSlope_logDLALCK_ALCK2, rv_PoffSlope_logDLALCK_ALCK2, rv_intercept_logDLALCK_ALCK2]\n"
     ]
    },
    {
     "name": "stdout",
     "output_type": "stream",
     "text": [
      "i,y=(6, -2.1), j,x=(11, -2.25)\n"
     ]
    },
    {
     "name": "stderr",
     "output_type": "stream",
     "text": [
      "Auto-assigning NUTS sampler...\n",
      "Initializing NUTS using jitter+adapt_diag...\n",
      "Multiprocess sampling (4 chains in 4 jobs)\n",
      "NUTS: [rv_output_logDLALCK_ALCK2, rv_DiffSlope_logDLALCK_ALCK2, rv_PoffSlope_logDLALCK_ALCK2, rv_intercept_logDLALCK_ALCK2]\n"
     ]
    },
    {
     "name": "stdout",
     "output_type": "stream",
     "text": [
      "i,y=(6, -2.1), j,x=(12, -2.0)\n"
     ]
    },
    {
     "name": "stderr",
     "output_type": "stream",
     "text": [
      "Auto-assigning NUTS sampler...\n",
      "Initializing NUTS using jitter+adapt_diag...\n",
      "Multiprocess sampling (4 chains in 4 jobs)\n",
      "NUTS: [rv_output_logDLALCK_ALCK2, rv_DiffSlope_logDLALCK_ALCK2, rv_PoffSlope_logDLALCK_ALCK2, rv_intercept_logDLALCK_ALCK2]\n"
     ]
    },
    {
     "name": "stdout",
     "output_type": "stream",
     "text": [
      "i,y=(6, -2.1), j,x=(13, -1.75)\n"
     ]
    },
    {
     "name": "stderr",
     "output_type": "stream",
     "text": [
      "Auto-assigning NUTS sampler...\n",
      "Initializing NUTS using jitter+adapt_diag...\n",
      "Multiprocess sampling (4 chains in 4 jobs)\n",
      "NUTS: [rv_output_logDLALCK_ALCK2, rv_DiffSlope_logDLALCK_ALCK2, rv_PoffSlope_logDLALCK_ALCK2, rv_intercept_logDLALCK_ALCK2]\n"
     ]
    },
    {
     "name": "stdout",
     "output_type": "stream",
     "text": [
      "i,y=(6, -2.1), j,x=(14, -1.5)\n"
     ]
    },
    {
     "name": "stderr",
     "output_type": "stream",
     "text": [
      "Auto-assigning NUTS sampler...\n",
      "Initializing NUTS using jitter+adapt_diag...\n",
      "Multiprocess sampling (4 chains in 4 jobs)\n",
      "NUTS: [rv_output_logDLALCK_ALCK2, rv_DiffSlope_logDLALCK_ALCK2, rv_PoffSlope_logDLALCK_ALCK2, rv_intercept_logDLALCK_ALCK2]\n"
     ]
    },
    {
     "name": "stdout",
     "output_type": "stream",
     "text": [
      "i,y=(6, -2.1), j,x=(15, -1.25)\n"
     ]
    },
    {
     "name": "stderr",
     "output_type": "stream",
     "text": [
      "Auto-assigning NUTS sampler...\n",
      "Initializing NUTS using jitter+adapt_diag...\n",
      "Multiprocess sampling (4 chains in 4 jobs)\n",
      "NUTS: [rv_output_logDLALCK_ALCK2, rv_DiffSlope_logDLALCK_ALCK2, rv_PoffSlope_logDLALCK_ALCK2, rv_intercept_logDLALCK_ALCK2]\n"
     ]
    },
    {
     "name": "stdout",
     "output_type": "stream",
     "text": [
      "i,y=(6, -2.1), j,x=(16, -1.0)\n"
     ]
    },
    {
     "name": "stderr",
     "output_type": "stream",
     "text": [
      "Auto-assigning NUTS sampler...\n",
      "Initializing NUTS using jitter+adapt_diag...\n",
      "Multiprocess sampling (4 chains in 4 jobs)\n",
      "NUTS: [rv_output_logDLALCK_ALCK2, rv_DiffSlope_logDLALCK_ALCK2, rv_PoffSlope_logDLALCK_ALCK2, rv_intercept_logDLALCK_ALCK2]\n"
     ]
    },
    {
     "name": "stdout",
     "output_type": "stream",
     "text": [
      "i,y=(6, -2.1), j,x=(17, -0.75)\n"
     ]
    },
    {
     "name": "stderr",
     "output_type": "stream",
     "text": [
      "Auto-assigning NUTS sampler...\n",
      "Initializing NUTS using jitter+adapt_diag...\n",
      "Multiprocess sampling (4 chains in 4 jobs)\n",
      "NUTS: [rv_output_logDLALCK_ALCK2, rv_DiffSlope_logDLALCK_ALCK2, rv_PoffSlope_logDLALCK_ALCK2, rv_intercept_logDLALCK_ALCK2]\n"
     ]
    },
    {
     "name": "stdout",
     "output_type": "stream",
     "text": [
      "i,y=(6, -2.1), j,x=(18, -0.5)\n"
     ]
    },
    {
     "name": "stderr",
     "output_type": "stream",
     "text": [
      "Auto-assigning NUTS sampler...\n",
      "Initializing NUTS using jitter+adapt_diag...\n",
      "Multiprocess sampling (4 chains in 4 jobs)\n",
      "NUTS: [rv_output_logDLALCK_ALCK2, rv_DiffSlope_logDLALCK_ALCK2, rv_PoffSlope_logDLALCK_ALCK2, rv_intercept_logDLALCK_ALCK2]\n"
     ]
    },
    {
     "name": "stdout",
     "output_type": "stream",
     "text": [
      "i,y=(6, -2.1), j,x=(19, -0.25)\n"
     ]
    },
    {
     "name": "stderr",
     "output_type": "stream",
     "text": [
      "Auto-assigning NUTS sampler...\n",
      "Initializing NUTS using jitter+adapt_diag...\n",
      "Multiprocess sampling (4 chains in 4 jobs)\n",
      "NUTS: [rv_output_logDLALCK_ALCK2, rv_DiffSlope_logDLALCK_ALCK2, rv_PoffSlope_logDLALCK_ALCK2, rv_intercept_logDLALCK_ALCK2]\n"
     ]
    },
    {
     "name": "stdout",
     "output_type": "stream",
     "text": [
      "i,y=(7, -1.95), j,x=(0, -5.0)\n"
     ]
    },
    {
     "name": "stderr",
     "output_type": "stream",
     "text": [
      "Auto-assigning NUTS sampler...\n",
      "Initializing NUTS using jitter+adapt_diag...\n",
      "Multiprocess sampling (4 chains in 4 jobs)\n",
      "NUTS: [rv_output_logDLALCK_ALCK2, rv_DiffSlope_logDLALCK_ALCK2, rv_PoffSlope_logDLALCK_ALCK2, rv_intercept_logDLALCK_ALCK2]\n"
     ]
    },
    {
     "name": "stdout",
     "output_type": "stream",
     "text": [
      "i,y=(7, -1.95), j,x=(1, -4.75)\n"
     ]
    },
    {
     "name": "stderr",
     "output_type": "stream",
     "text": [
      "Auto-assigning NUTS sampler...\n",
      "Initializing NUTS using jitter+adapt_diag...\n",
      "Multiprocess sampling (4 chains in 4 jobs)\n",
      "NUTS: [rv_output_logDLALCK_ALCK2, rv_DiffSlope_logDLALCK_ALCK2, rv_PoffSlope_logDLALCK_ALCK2, rv_intercept_logDLALCK_ALCK2]\n"
     ]
    },
    {
     "name": "stdout",
     "output_type": "stream",
     "text": [
      "i,y=(7, -1.95), j,x=(2, -4.5)\n"
     ]
    },
    {
     "name": "stderr",
     "output_type": "stream",
     "text": [
      "Auto-assigning NUTS sampler...\n",
      "Initializing NUTS using jitter+adapt_diag...\n",
      "Multiprocess sampling (4 chains in 4 jobs)\n",
      "NUTS: [rv_output_logDLALCK_ALCK2, rv_DiffSlope_logDLALCK_ALCK2, rv_PoffSlope_logDLALCK_ALCK2, rv_intercept_logDLALCK_ALCK2]\n"
     ]
    },
    {
     "name": "stdout",
     "output_type": "stream",
     "text": [
      "i,y=(7, -1.95), j,x=(3, -4.25)\n"
     ]
    },
    {
     "name": "stderr",
     "output_type": "stream",
     "text": [
      "Auto-assigning NUTS sampler...\n",
      "Initializing NUTS using jitter+adapt_diag...\n",
      "Multiprocess sampling (4 chains in 4 jobs)\n",
      "NUTS: [rv_output_logDLALCK_ALCK2, rv_DiffSlope_logDLALCK_ALCK2, rv_PoffSlope_logDLALCK_ALCK2, rv_intercept_logDLALCK_ALCK2]\n"
     ]
    },
    {
     "name": "stdout",
     "output_type": "stream",
     "text": [
      "i,y=(7, -1.95), j,x=(4, -4.0)\n"
     ]
    },
    {
     "name": "stderr",
     "output_type": "stream",
     "text": [
      "Auto-assigning NUTS sampler...\n",
      "Initializing NUTS using jitter+adapt_diag...\n",
      "Multiprocess sampling (4 chains in 4 jobs)\n",
      "NUTS: [rv_output_logDLALCK_ALCK2, rv_DiffSlope_logDLALCK_ALCK2, rv_PoffSlope_logDLALCK_ALCK2, rv_intercept_logDLALCK_ALCK2]\n"
     ]
    },
    {
     "name": "stdout",
     "output_type": "stream",
     "text": [
      "i,y=(7, -1.95), j,x=(5, -3.75)\n"
     ]
    },
    {
     "name": "stderr",
     "output_type": "stream",
     "text": [
      "Auto-assigning NUTS sampler...\n",
      "Initializing NUTS using jitter+adapt_diag...\n",
      "Multiprocess sampling (4 chains in 4 jobs)\n",
      "NUTS: [rv_output_logDLALCK_ALCK2, rv_DiffSlope_logDLALCK_ALCK2, rv_PoffSlope_logDLALCK_ALCK2, rv_intercept_logDLALCK_ALCK2]\n"
     ]
    },
    {
     "name": "stdout",
     "output_type": "stream",
     "text": [
      "i,y=(7, -1.95), j,x=(6, -3.5)\n"
     ]
    },
    {
     "name": "stderr",
     "output_type": "stream",
     "text": [
      "Auto-assigning NUTS sampler...\n",
      "Initializing NUTS using jitter+adapt_diag...\n",
      "Multiprocess sampling (4 chains in 4 jobs)\n",
      "NUTS: [rv_output_logDLALCK_ALCK2, rv_DiffSlope_logDLALCK_ALCK2, rv_PoffSlope_logDLALCK_ALCK2, rv_intercept_logDLALCK_ALCK2]\n"
     ]
    },
    {
     "name": "stdout",
     "output_type": "stream",
     "text": [
      "i,y=(7, -1.95), j,x=(7, -3.25)\n"
     ]
    },
    {
     "name": "stderr",
     "output_type": "stream",
     "text": [
      "Auto-assigning NUTS sampler...\n",
      "Initializing NUTS using jitter+adapt_diag...\n",
      "Multiprocess sampling (4 chains in 4 jobs)\n",
      "NUTS: [rv_output_logDLALCK_ALCK2, rv_DiffSlope_logDLALCK_ALCK2, rv_PoffSlope_logDLALCK_ALCK2, rv_intercept_logDLALCK_ALCK2]\n"
     ]
    },
    {
     "name": "stdout",
     "output_type": "stream",
     "text": [
      "i,y=(7, -1.95), j,x=(8, -3.0)\n"
     ]
    },
    {
     "name": "stderr",
     "output_type": "stream",
     "text": [
      "Auto-assigning NUTS sampler...\n",
      "Initializing NUTS using jitter+adapt_diag...\n",
      "Multiprocess sampling (4 chains in 4 jobs)\n",
      "NUTS: [rv_output_logDLALCK_ALCK2, rv_DiffSlope_logDLALCK_ALCK2, rv_PoffSlope_logDLALCK_ALCK2, rv_intercept_logDLALCK_ALCK2]\n"
     ]
    },
    {
     "name": "stdout",
     "output_type": "stream",
     "text": [
      "i,y=(7, -1.95), j,x=(9, -2.75)\n"
     ]
    },
    {
     "name": "stderr",
     "output_type": "stream",
     "text": [
      "Auto-assigning NUTS sampler...\n",
      "Initializing NUTS using jitter+adapt_diag...\n",
      "Multiprocess sampling (4 chains in 4 jobs)\n",
      "NUTS: [rv_output_logDLALCK_ALCK2, rv_DiffSlope_logDLALCK_ALCK2, rv_PoffSlope_logDLALCK_ALCK2, rv_intercept_logDLALCK_ALCK2]\n"
     ]
    },
    {
     "name": "stdout",
     "output_type": "stream",
     "text": [
      "i,y=(7, -1.95), j,x=(10, -2.5)\n"
     ]
    },
    {
     "name": "stderr",
     "output_type": "stream",
     "text": [
      "Auto-assigning NUTS sampler...\n",
      "Initializing NUTS using jitter+adapt_diag...\n",
      "Multiprocess sampling (4 chains in 4 jobs)\n",
      "NUTS: [rv_output_logDLALCK_ALCK2, rv_DiffSlope_logDLALCK_ALCK2, rv_PoffSlope_logDLALCK_ALCK2, rv_intercept_logDLALCK_ALCK2]\n"
     ]
    },
    {
     "name": "stdout",
     "output_type": "stream",
     "text": [
      "i,y=(7, -1.95), j,x=(11, -2.25)\n"
     ]
    },
    {
     "name": "stderr",
     "output_type": "stream",
     "text": [
      "Auto-assigning NUTS sampler...\n",
      "Initializing NUTS using jitter+adapt_diag...\n",
      "Multiprocess sampling (4 chains in 4 jobs)\n",
      "NUTS: [rv_output_logDLALCK_ALCK2, rv_DiffSlope_logDLALCK_ALCK2, rv_PoffSlope_logDLALCK_ALCK2, rv_intercept_logDLALCK_ALCK2]\n"
     ]
    },
    {
     "name": "stdout",
     "output_type": "stream",
     "text": [
      "i,y=(7, -1.95), j,x=(12, -2.0)\n"
     ]
    },
    {
     "name": "stderr",
     "output_type": "stream",
     "text": [
      "Auto-assigning NUTS sampler...\n",
      "Initializing NUTS using jitter+adapt_diag...\n",
      "Multiprocess sampling (4 chains in 4 jobs)\n",
      "NUTS: [rv_output_logDLALCK_ALCK2, rv_DiffSlope_logDLALCK_ALCK2, rv_PoffSlope_logDLALCK_ALCK2, rv_intercept_logDLALCK_ALCK2]\n"
     ]
    },
    {
     "name": "stdout",
     "output_type": "stream",
     "text": [
      "i,y=(7, -1.95), j,x=(13, -1.75)\n"
     ]
    },
    {
     "name": "stderr",
     "output_type": "stream",
     "text": [
      "Auto-assigning NUTS sampler...\n",
      "Initializing NUTS using jitter+adapt_diag...\n",
      "Multiprocess sampling (4 chains in 4 jobs)\n",
      "NUTS: [rv_output_logDLALCK_ALCK2, rv_DiffSlope_logDLALCK_ALCK2, rv_PoffSlope_logDLALCK_ALCK2, rv_intercept_logDLALCK_ALCK2]\n"
     ]
    },
    {
     "name": "stdout",
     "output_type": "stream",
     "text": [
      "i,y=(7, -1.95), j,x=(14, -1.5)\n"
     ]
    },
    {
     "name": "stderr",
     "output_type": "stream",
     "text": [
      "Auto-assigning NUTS sampler...\n",
      "Initializing NUTS using jitter+adapt_diag...\n",
      "Multiprocess sampling (4 chains in 4 jobs)\n",
      "NUTS: [rv_output_logDLALCK_ALCK2, rv_DiffSlope_logDLALCK_ALCK2, rv_PoffSlope_logDLALCK_ALCK2, rv_intercept_logDLALCK_ALCK2]\n"
     ]
    },
    {
     "name": "stdout",
     "output_type": "stream",
     "text": [
      "i,y=(7, -1.95), j,x=(15, -1.25)\n"
     ]
    },
    {
     "name": "stderr",
     "output_type": "stream",
     "text": [
      "Auto-assigning NUTS sampler...\n",
      "Initializing NUTS using jitter+adapt_diag...\n",
      "Multiprocess sampling (4 chains in 4 jobs)\n",
      "NUTS: [rv_output_logDLALCK_ALCK2, rv_DiffSlope_logDLALCK_ALCK2, rv_PoffSlope_logDLALCK_ALCK2, rv_intercept_logDLALCK_ALCK2]\n"
     ]
    },
    {
     "name": "stdout",
     "output_type": "stream",
     "text": [
      "i,y=(7, -1.95), j,x=(16, -1.0)\n"
     ]
    },
    {
     "name": "stderr",
     "output_type": "stream",
     "text": [
      "Auto-assigning NUTS sampler...\n",
      "Initializing NUTS using jitter+adapt_diag...\n",
      "Multiprocess sampling (4 chains in 4 jobs)\n",
      "NUTS: [rv_output_logDLALCK_ALCK2, rv_DiffSlope_logDLALCK_ALCK2, rv_PoffSlope_logDLALCK_ALCK2, rv_intercept_logDLALCK_ALCK2]\n"
     ]
    },
    {
     "name": "stdout",
     "output_type": "stream",
     "text": [
      "i,y=(7, -1.95), j,x=(17, -0.75)\n"
     ]
    },
    {
     "name": "stderr",
     "output_type": "stream",
     "text": [
      "Auto-assigning NUTS sampler...\n",
      "Initializing NUTS using jitter+adapt_diag...\n",
      "Multiprocess sampling (4 chains in 4 jobs)\n",
      "NUTS: [rv_output_logDLALCK_ALCK2, rv_DiffSlope_logDLALCK_ALCK2, rv_PoffSlope_logDLALCK_ALCK2, rv_intercept_logDLALCK_ALCK2]\n"
     ]
    },
    {
     "name": "stdout",
     "output_type": "stream",
     "text": [
      "i,y=(7, -1.95), j,x=(18, -0.5)\n"
     ]
    },
    {
     "name": "stderr",
     "output_type": "stream",
     "text": [
      "Auto-assigning NUTS sampler...\n",
      "Initializing NUTS using jitter+adapt_diag...\n",
      "Multiprocess sampling (4 chains in 4 jobs)\n",
      "NUTS: [rv_output_logDLALCK_ALCK2, rv_DiffSlope_logDLALCK_ALCK2, rv_PoffSlope_logDLALCK_ALCK2, rv_intercept_logDLALCK_ALCK2]\n"
     ]
    },
    {
     "name": "stdout",
     "output_type": "stream",
     "text": [
      "i,y=(7, -1.95), j,x=(19, -0.25)\n"
     ]
    },
    {
     "name": "stderr",
     "output_type": "stream",
     "text": [
      "Auto-assigning NUTS sampler...\n",
      "Initializing NUTS using jitter+adapt_diag...\n",
      "Multiprocess sampling (4 chains in 4 jobs)\n",
      "NUTS: [rv_output_logDLALCK_ALCK2, rv_DiffSlope_logDLALCK_ALCK2, rv_PoffSlope_logDLALCK_ALCK2, rv_intercept_logDLALCK_ALCK2]\n"
     ]
    },
    {
     "name": "stdout",
     "output_type": "stream",
     "text": [
      "i,y=(8, -1.8), j,x=(0, -5.0)\n"
     ]
    },
    {
     "name": "stderr",
     "output_type": "stream",
     "text": [
      "Auto-assigning NUTS sampler...\n",
      "Initializing NUTS using jitter+adapt_diag...\n",
      "Multiprocess sampling (4 chains in 4 jobs)\n",
      "NUTS: [rv_output_logDLALCK_ALCK2, rv_DiffSlope_logDLALCK_ALCK2, rv_PoffSlope_logDLALCK_ALCK2, rv_intercept_logDLALCK_ALCK2]\n"
     ]
    },
    {
     "name": "stdout",
     "output_type": "stream",
     "text": [
      "i,y=(8, -1.8), j,x=(1, -4.75)\n"
     ]
    },
    {
     "name": "stderr",
     "output_type": "stream",
     "text": [
      "Auto-assigning NUTS sampler...\n",
      "Initializing NUTS using jitter+adapt_diag...\n",
      "Multiprocess sampling (4 chains in 4 jobs)\n",
      "NUTS: [rv_output_logDLALCK_ALCK2, rv_DiffSlope_logDLALCK_ALCK2, rv_PoffSlope_logDLALCK_ALCK2, rv_intercept_logDLALCK_ALCK2]\n"
     ]
    },
    {
     "name": "stdout",
     "output_type": "stream",
     "text": [
      "i,y=(8, -1.8), j,x=(2, -4.5)\n"
     ]
    },
    {
     "name": "stderr",
     "output_type": "stream",
     "text": [
      "Auto-assigning NUTS sampler...\n",
      "Initializing NUTS using jitter+adapt_diag...\n",
      "Multiprocess sampling (4 chains in 4 jobs)\n",
      "NUTS: [rv_output_logDLALCK_ALCK2, rv_DiffSlope_logDLALCK_ALCK2, rv_PoffSlope_logDLALCK_ALCK2, rv_intercept_logDLALCK_ALCK2]\n"
     ]
    },
    {
     "name": "stdout",
     "output_type": "stream",
     "text": [
      "i,y=(8, -1.8), j,x=(3, -4.25)\n"
     ]
    },
    {
     "name": "stderr",
     "output_type": "stream",
     "text": [
      "Auto-assigning NUTS sampler...\n",
      "Initializing NUTS using jitter+adapt_diag...\n",
      "Multiprocess sampling (4 chains in 4 jobs)\n",
      "NUTS: [rv_output_logDLALCK_ALCK2, rv_DiffSlope_logDLALCK_ALCK2, rv_PoffSlope_logDLALCK_ALCK2, rv_intercept_logDLALCK_ALCK2]\n"
     ]
    },
    {
     "name": "stdout",
     "output_type": "stream",
     "text": [
      "i,y=(8, -1.8), j,x=(4, -4.0)\n"
     ]
    },
    {
     "name": "stderr",
     "output_type": "stream",
     "text": [
      "Auto-assigning NUTS sampler...\n",
      "Initializing NUTS using jitter+adapt_diag...\n",
      "Multiprocess sampling (4 chains in 4 jobs)\n",
      "NUTS: [rv_output_logDLALCK_ALCK2, rv_DiffSlope_logDLALCK_ALCK2, rv_PoffSlope_logDLALCK_ALCK2, rv_intercept_logDLALCK_ALCK2]\n"
     ]
    },
    {
     "name": "stdout",
     "output_type": "stream",
     "text": [
      "i,y=(8, -1.8), j,x=(5, -3.75)\n"
     ]
    },
    {
     "name": "stderr",
     "output_type": "stream",
     "text": [
      "Auto-assigning NUTS sampler...\n",
      "Initializing NUTS using jitter+adapt_diag...\n",
      "Multiprocess sampling (4 chains in 4 jobs)\n",
      "NUTS: [rv_output_logDLALCK_ALCK2, rv_DiffSlope_logDLALCK_ALCK2, rv_PoffSlope_logDLALCK_ALCK2, rv_intercept_logDLALCK_ALCK2]\n"
     ]
    },
    {
     "name": "stdout",
     "output_type": "stream",
     "text": [
      "i,y=(8, -1.8), j,x=(6, -3.5)\n"
     ]
    },
    {
     "name": "stderr",
     "output_type": "stream",
     "text": [
      "Auto-assigning NUTS sampler...\n",
      "Initializing NUTS using jitter+adapt_diag...\n",
      "Multiprocess sampling (4 chains in 4 jobs)\n",
      "NUTS: [rv_output_logDLALCK_ALCK2, rv_DiffSlope_logDLALCK_ALCK2, rv_PoffSlope_logDLALCK_ALCK2, rv_intercept_logDLALCK_ALCK2]\n"
     ]
    },
    {
     "name": "stdout",
     "output_type": "stream",
     "text": [
      "i,y=(8, -1.8), j,x=(7, -3.25)\n"
     ]
    },
    {
     "name": "stderr",
     "output_type": "stream",
     "text": [
      "Auto-assigning NUTS sampler...\n",
      "Initializing NUTS using jitter+adapt_diag...\n",
      "Multiprocess sampling (4 chains in 4 jobs)\n",
      "NUTS: [rv_output_logDLALCK_ALCK2, rv_DiffSlope_logDLALCK_ALCK2, rv_PoffSlope_logDLALCK_ALCK2, rv_intercept_logDLALCK_ALCK2]\n"
     ]
    },
    {
     "name": "stdout",
     "output_type": "stream",
     "text": [
      "i,y=(8, -1.8), j,x=(8, -3.0)\n"
     ]
    },
    {
     "name": "stderr",
     "output_type": "stream",
     "text": [
      "Auto-assigning NUTS sampler...\n",
      "Initializing NUTS using jitter+adapt_diag...\n",
      "Multiprocess sampling (4 chains in 4 jobs)\n",
      "NUTS: [rv_output_logDLALCK_ALCK2, rv_DiffSlope_logDLALCK_ALCK2, rv_PoffSlope_logDLALCK_ALCK2, rv_intercept_logDLALCK_ALCK2]\n"
     ]
    },
    {
     "name": "stdout",
     "output_type": "stream",
     "text": [
      "i,y=(8, -1.8), j,x=(9, -2.75)\n"
     ]
    },
    {
     "name": "stderr",
     "output_type": "stream",
     "text": [
      "Auto-assigning NUTS sampler...\n",
      "Initializing NUTS using jitter+adapt_diag...\n",
      "Multiprocess sampling (4 chains in 4 jobs)\n",
      "NUTS: [rv_output_logDLALCK_ALCK2, rv_DiffSlope_logDLALCK_ALCK2, rv_PoffSlope_logDLALCK_ALCK2, rv_intercept_logDLALCK_ALCK2]\n"
     ]
    },
    {
     "name": "stdout",
     "output_type": "stream",
     "text": [
      "i,y=(8, -1.8), j,x=(10, -2.5)\n"
     ]
    },
    {
     "name": "stderr",
     "output_type": "stream",
     "text": [
      "Auto-assigning NUTS sampler...\n",
      "Initializing NUTS using jitter+adapt_diag...\n",
      "Multiprocess sampling (4 chains in 4 jobs)\n",
      "NUTS: [rv_output_logDLALCK_ALCK2, rv_DiffSlope_logDLALCK_ALCK2, rv_PoffSlope_logDLALCK_ALCK2, rv_intercept_logDLALCK_ALCK2]\n"
     ]
    },
    {
     "name": "stdout",
     "output_type": "stream",
     "text": [
      "i,y=(8, -1.8), j,x=(11, -2.25)\n"
     ]
    },
    {
     "name": "stderr",
     "output_type": "stream",
     "text": [
      "Auto-assigning NUTS sampler...\n",
      "Initializing NUTS using jitter+adapt_diag...\n",
      "Multiprocess sampling (4 chains in 4 jobs)\n",
      "NUTS: [rv_output_logDLALCK_ALCK2, rv_DiffSlope_logDLALCK_ALCK2, rv_PoffSlope_logDLALCK_ALCK2, rv_intercept_logDLALCK_ALCK2]\n"
     ]
    },
    {
     "name": "stdout",
     "output_type": "stream",
     "text": [
      "i,y=(8, -1.8), j,x=(12, -2.0)\n"
     ]
    },
    {
     "name": "stderr",
     "output_type": "stream",
     "text": [
      "Auto-assigning NUTS sampler...\n",
      "Initializing NUTS using jitter+adapt_diag...\n",
      "Multiprocess sampling (4 chains in 4 jobs)\n",
      "NUTS: [rv_output_logDLALCK_ALCK2, rv_DiffSlope_logDLALCK_ALCK2, rv_PoffSlope_logDLALCK_ALCK2, rv_intercept_logDLALCK_ALCK2]\n"
     ]
    },
    {
     "name": "stdout",
     "output_type": "stream",
     "text": [
      "i,y=(8, -1.8), j,x=(13, -1.75)\n"
     ]
    },
    {
     "name": "stderr",
     "output_type": "stream",
     "text": [
      "Auto-assigning NUTS sampler...\n",
      "Initializing NUTS using jitter+adapt_diag...\n",
      "Multiprocess sampling (4 chains in 4 jobs)\n",
      "NUTS: [rv_output_logDLALCK_ALCK2, rv_DiffSlope_logDLALCK_ALCK2, rv_PoffSlope_logDLALCK_ALCK2, rv_intercept_logDLALCK_ALCK2]\n"
     ]
    },
    {
     "name": "stdout",
     "output_type": "stream",
     "text": [
      "i,y=(8, -1.8), j,x=(14, -1.5)\n"
     ]
    },
    {
     "name": "stderr",
     "output_type": "stream",
     "text": [
      "Auto-assigning NUTS sampler...\n",
      "Initializing NUTS using jitter+adapt_diag...\n",
      "Multiprocess sampling (4 chains in 4 jobs)\n",
      "NUTS: [rv_output_logDLALCK_ALCK2, rv_DiffSlope_logDLALCK_ALCK2, rv_PoffSlope_logDLALCK_ALCK2, rv_intercept_logDLALCK_ALCK2]\n"
     ]
    },
    {
     "name": "stdout",
     "output_type": "stream",
     "text": [
      "i,y=(8, -1.8), j,x=(15, -1.25)\n"
     ]
    },
    {
     "name": "stderr",
     "output_type": "stream",
     "text": [
      "Auto-assigning NUTS sampler...\n",
      "Initializing NUTS using jitter+adapt_diag...\n",
      "Multiprocess sampling (4 chains in 4 jobs)\n",
      "NUTS: [rv_output_logDLALCK_ALCK2, rv_DiffSlope_logDLALCK_ALCK2, rv_PoffSlope_logDLALCK_ALCK2, rv_intercept_logDLALCK_ALCK2]\n"
     ]
    },
    {
     "name": "stdout",
     "output_type": "stream",
     "text": [
      "i,y=(8, -1.8), j,x=(16, -1.0)\n"
     ]
    },
    {
     "name": "stderr",
     "output_type": "stream",
     "text": [
      "Auto-assigning NUTS sampler...\n",
      "Initializing NUTS using jitter+adapt_diag...\n",
      "Multiprocess sampling (4 chains in 4 jobs)\n",
      "NUTS: [rv_output_logDLALCK_ALCK2, rv_DiffSlope_logDLALCK_ALCK2, rv_PoffSlope_logDLALCK_ALCK2, rv_intercept_logDLALCK_ALCK2]\n"
     ]
    },
    {
     "name": "stdout",
     "output_type": "stream",
     "text": [
      "i,y=(8, -1.8), j,x=(17, -0.75)\n"
     ]
    },
    {
     "name": "stderr",
     "output_type": "stream",
     "text": [
      "Auto-assigning NUTS sampler...\n",
      "Initializing NUTS using jitter+adapt_diag...\n",
      "Multiprocess sampling (4 chains in 4 jobs)\n",
      "NUTS: [rv_output_logDLALCK_ALCK2, rv_DiffSlope_logDLALCK_ALCK2, rv_PoffSlope_logDLALCK_ALCK2, rv_intercept_logDLALCK_ALCK2]\n"
     ]
    },
    {
     "name": "stdout",
     "output_type": "stream",
     "text": [
      "i,y=(8, -1.8), j,x=(18, -0.5)\n"
     ]
    },
    {
     "name": "stderr",
     "output_type": "stream",
     "text": [
      "Auto-assigning NUTS sampler...\n",
      "Initializing NUTS using jitter+adapt_diag...\n",
      "Multiprocess sampling (4 chains in 4 jobs)\n",
      "NUTS: [rv_output_logDLALCK_ALCK2, rv_DiffSlope_logDLALCK_ALCK2, rv_PoffSlope_logDLALCK_ALCK2, rv_intercept_logDLALCK_ALCK2]\n"
     ]
    },
    {
     "name": "stdout",
     "output_type": "stream",
     "text": [
      "i,y=(8, -1.8), j,x=(19, -0.25)\n"
     ]
    },
    {
     "name": "stderr",
     "output_type": "stream",
     "text": [
      "Auto-assigning NUTS sampler...\n",
      "Initializing NUTS using jitter+adapt_diag...\n",
      "Multiprocess sampling (4 chains in 4 jobs)\n",
      "NUTS: [rv_output_logDLALCK_ALCK2, rv_DiffSlope_logDLALCK_ALCK2, rv_PoffSlope_logDLALCK_ALCK2, rv_intercept_logDLALCK_ALCK2]\n"
     ]
    },
    {
     "name": "stdout",
     "output_type": "stream",
     "text": [
      "i,y=(9, -1.6500000000000001), j,x=(0, -5.0)\n"
     ]
    },
    {
     "name": "stderr",
     "output_type": "stream",
     "text": [
      "Auto-assigning NUTS sampler...\n",
      "Initializing NUTS using jitter+adapt_diag...\n",
      "Multiprocess sampling (4 chains in 4 jobs)\n",
      "NUTS: [rv_output_logDLALCK_ALCK2, rv_DiffSlope_logDLALCK_ALCK2, rv_PoffSlope_logDLALCK_ALCK2, rv_intercept_logDLALCK_ALCK2]\n"
     ]
    },
    {
     "name": "stdout",
     "output_type": "stream",
     "text": [
      "i,y=(9, -1.6500000000000001), j,x=(1, -4.75)\n"
     ]
    },
    {
     "name": "stderr",
     "output_type": "stream",
     "text": [
      "Auto-assigning NUTS sampler...\n",
      "Initializing NUTS using jitter+adapt_diag...\n",
      "Multiprocess sampling (4 chains in 4 jobs)\n",
      "NUTS: [rv_output_logDLALCK_ALCK2, rv_DiffSlope_logDLALCK_ALCK2, rv_PoffSlope_logDLALCK_ALCK2, rv_intercept_logDLALCK_ALCK2]\n"
     ]
    },
    {
     "name": "stdout",
     "output_type": "stream",
     "text": [
      "i,y=(9, -1.6500000000000001), j,x=(2, -4.5)\n"
     ]
    },
    {
     "name": "stderr",
     "output_type": "stream",
     "text": [
      "Auto-assigning NUTS sampler...\n",
      "Initializing NUTS using jitter+adapt_diag...\n",
      "Multiprocess sampling (4 chains in 4 jobs)\n",
      "NUTS: [rv_output_logDLALCK_ALCK2, rv_DiffSlope_logDLALCK_ALCK2, rv_PoffSlope_logDLALCK_ALCK2, rv_intercept_logDLALCK_ALCK2]\n"
     ]
    },
    {
     "name": "stdout",
     "output_type": "stream",
     "text": [
      "i,y=(9, -1.6500000000000001), j,x=(3, -4.25)\n"
     ]
    },
    {
     "name": "stderr",
     "output_type": "stream",
     "text": [
      "Auto-assigning NUTS sampler...\n",
      "Initializing NUTS using jitter+adapt_diag...\n",
      "Multiprocess sampling (4 chains in 4 jobs)\n",
      "NUTS: [rv_output_logDLALCK_ALCK2, rv_DiffSlope_logDLALCK_ALCK2, rv_PoffSlope_logDLALCK_ALCK2, rv_intercept_logDLALCK_ALCK2]\n"
     ]
    },
    {
     "name": "stdout",
     "output_type": "stream",
     "text": [
      "i,y=(9, -1.6500000000000001), j,x=(4, -4.0)\n"
     ]
    },
    {
     "name": "stderr",
     "output_type": "stream",
     "text": [
      "Auto-assigning NUTS sampler...\n",
      "Initializing NUTS using jitter+adapt_diag...\n",
      "Multiprocess sampling (4 chains in 4 jobs)\n",
      "NUTS: [rv_output_logDLALCK_ALCK2, rv_DiffSlope_logDLALCK_ALCK2, rv_PoffSlope_logDLALCK_ALCK2, rv_intercept_logDLALCK_ALCK2]\n"
     ]
    },
    {
     "name": "stdout",
     "output_type": "stream",
     "text": [
      "i,y=(9, -1.6500000000000001), j,x=(5, -3.75)\n"
     ]
    },
    {
     "name": "stderr",
     "output_type": "stream",
     "text": [
      "Auto-assigning NUTS sampler...\n",
      "Initializing NUTS using jitter+adapt_diag...\n",
      "Multiprocess sampling (4 chains in 4 jobs)\n",
      "NUTS: [rv_output_logDLALCK_ALCK2, rv_DiffSlope_logDLALCK_ALCK2, rv_PoffSlope_logDLALCK_ALCK2, rv_intercept_logDLALCK_ALCK2]\n"
     ]
    },
    {
     "name": "stdout",
     "output_type": "stream",
     "text": [
      "i,y=(9, -1.6500000000000001), j,x=(6, -3.5)\n"
     ]
    },
    {
     "name": "stderr",
     "output_type": "stream",
     "text": [
      "Auto-assigning NUTS sampler...\n",
      "Initializing NUTS using jitter+adapt_diag...\n",
      "Multiprocess sampling (4 chains in 4 jobs)\n",
      "NUTS: [rv_output_logDLALCK_ALCK2, rv_DiffSlope_logDLALCK_ALCK2, rv_PoffSlope_logDLALCK_ALCK2, rv_intercept_logDLALCK_ALCK2]\n"
     ]
    },
    {
     "name": "stdout",
     "output_type": "stream",
     "text": [
      "i,y=(9, -1.6500000000000001), j,x=(7, -3.25)\n"
     ]
    },
    {
     "name": "stderr",
     "output_type": "stream",
     "text": [
      "Auto-assigning NUTS sampler...\n",
      "Initializing NUTS using jitter+adapt_diag...\n",
      "Multiprocess sampling (4 chains in 4 jobs)\n",
      "NUTS: [rv_output_logDLALCK_ALCK2, rv_DiffSlope_logDLALCK_ALCK2, rv_PoffSlope_logDLALCK_ALCK2, rv_intercept_logDLALCK_ALCK2]\n"
     ]
    },
    {
     "name": "stdout",
     "output_type": "stream",
     "text": [
      "i,y=(9, -1.6500000000000001), j,x=(8, -3.0)\n"
     ]
    },
    {
     "name": "stderr",
     "output_type": "stream",
     "text": [
      "Auto-assigning NUTS sampler...\n",
      "Initializing NUTS using jitter+adapt_diag...\n",
      "Multiprocess sampling (4 chains in 4 jobs)\n",
      "NUTS: [rv_output_logDLALCK_ALCK2, rv_DiffSlope_logDLALCK_ALCK2, rv_PoffSlope_logDLALCK_ALCK2, rv_intercept_logDLALCK_ALCK2]\n"
     ]
    },
    {
     "name": "stdout",
     "output_type": "stream",
     "text": [
      "i,y=(9, -1.6500000000000001), j,x=(9, -2.75)\n"
     ]
    },
    {
     "name": "stderr",
     "output_type": "stream",
     "text": [
      "Auto-assigning NUTS sampler...\n",
      "Initializing NUTS using jitter+adapt_diag...\n",
      "Multiprocess sampling (4 chains in 4 jobs)\n",
      "NUTS: [rv_output_logDLALCK_ALCK2, rv_DiffSlope_logDLALCK_ALCK2, rv_PoffSlope_logDLALCK_ALCK2, rv_intercept_logDLALCK_ALCK2]\n"
     ]
    },
    {
     "name": "stdout",
     "output_type": "stream",
     "text": [
      "i,y=(9, -1.6500000000000001), j,x=(10, -2.5)\n"
     ]
    },
    {
     "name": "stderr",
     "output_type": "stream",
     "text": [
      "Auto-assigning NUTS sampler...\n",
      "Initializing NUTS using jitter+adapt_diag...\n",
      "Multiprocess sampling (4 chains in 4 jobs)\n",
      "NUTS: [rv_output_logDLALCK_ALCK2, rv_DiffSlope_logDLALCK_ALCK2, rv_PoffSlope_logDLALCK_ALCK2, rv_intercept_logDLALCK_ALCK2]\n"
     ]
    },
    {
     "name": "stdout",
     "output_type": "stream",
     "text": [
      "i,y=(9, -1.6500000000000001), j,x=(11, -2.25)\n"
     ]
    },
    {
     "name": "stderr",
     "output_type": "stream",
     "text": [
      "Auto-assigning NUTS sampler...\n",
      "Initializing NUTS using jitter+adapt_diag...\n",
      "Multiprocess sampling (4 chains in 4 jobs)\n",
      "NUTS: [rv_output_logDLALCK_ALCK2, rv_DiffSlope_logDLALCK_ALCK2, rv_PoffSlope_logDLALCK_ALCK2, rv_intercept_logDLALCK_ALCK2]\n"
     ]
    },
    {
     "name": "stdout",
     "output_type": "stream",
     "text": [
      "i,y=(9, -1.6500000000000001), j,x=(12, -2.0)\n"
     ]
    },
    {
     "name": "stderr",
     "output_type": "stream",
     "text": [
      "Auto-assigning NUTS sampler...\n",
      "Initializing NUTS using jitter+adapt_diag...\n",
      "Multiprocess sampling (4 chains in 4 jobs)\n",
      "NUTS: [rv_output_logDLALCK_ALCK2, rv_DiffSlope_logDLALCK_ALCK2, rv_PoffSlope_logDLALCK_ALCK2, rv_intercept_logDLALCK_ALCK2]\n"
     ]
    },
    {
     "name": "stdout",
     "output_type": "stream",
     "text": [
      "i,y=(9, -1.6500000000000001), j,x=(13, -1.75)\n"
     ]
    },
    {
     "name": "stderr",
     "output_type": "stream",
     "text": [
      "Auto-assigning NUTS sampler...\n",
      "Initializing NUTS using jitter+adapt_diag...\n",
      "Multiprocess sampling (4 chains in 4 jobs)\n",
      "NUTS: [rv_output_logDLALCK_ALCK2, rv_DiffSlope_logDLALCK_ALCK2, rv_PoffSlope_logDLALCK_ALCK2, rv_intercept_logDLALCK_ALCK2]\n"
     ]
    },
    {
     "name": "stdout",
     "output_type": "stream",
     "text": [
      "i,y=(9, -1.6500000000000001), j,x=(14, -1.5)\n"
     ]
    },
    {
     "name": "stderr",
     "output_type": "stream",
     "text": [
      "Auto-assigning NUTS sampler...\n",
      "Initializing NUTS using jitter+adapt_diag...\n",
      "Multiprocess sampling (4 chains in 4 jobs)\n",
      "NUTS: [rv_output_logDLALCK_ALCK2, rv_DiffSlope_logDLALCK_ALCK2, rv_PoffSlope_logDLALCK_ALCK2, rv_intercept_logDLALCK_ALCK2]\n"
     ]
    },
    {
     "name": "stdout",
     "output_type": "stream",
     "text": [
      "i,y=(9, -1.6500000000000001), j,x=(15, -1.25)\n"
     ]
    },
    {
     "name": "stderr",
     "output_type": "stream",
     "text": [
      "Auto-assigning NUTS sampler...\n",
      "Initializing NUTS using jitter+adapt_diag...\n",
      "Multiprocess sampling (4 chains in 4 jobs)\n",
      "NUTS: [rv_output_logDLALCK_ALCK2, rv_DiffSlope_logDLALCK_ALCK2, rv_PoffSlope_logDLALCK_ALCK2, rv_intercept_logDLALCK_ALCK2]\n"
     ]
    },
    {
     "name": "stdout",
     "output_type": "stream",
     "text": [
      "i,y=(9, -1.6500000000000001), j,x=(16, -1.0)\n"
     ]
    },
    {
     "name": "stderr",
     "output_type": "stream",
     "text": [
      "Auto-assigning NUTS sampler...\n",
      "Initializing NUTS using jitter+adapt_diag...\n",
      "Multiprocess sampling (4 chains in 4 jobs)\n",
      "NUTS: [rv_output_logDLALCK_ALCK2, rv_DiffSlope_logDLALCK_ALCK2, rv_PoffSlope_logDLALCK_ALCK2, rv_intercept_logDLALCK_ALCK2]\n"
     ]
    },
    {
     "name": "stdout",
     "output_type": "stream",
     "text": [
      "i,y=(9, -1.6500000000000001), j,x=(17, -0.75)\n"
     ]
    },
    {
     "name": "stderr",
     "output_type": "stream",
     "text": [
      "Auto-assigning NUTS sampler...\n",
      "Initializing NUTS using jitter+adapt_diag...\n",
      "Multiprocess sampling (4 chains in 4 jobs)\n",
      "NUTS: [rv_output_logDLALCK_ALCK2, rv_DiffSlope_logDLALCK_ALCK2, rv_PoffSlope_logDLALCK_ALCK2, rv_intercept_logDLALCK_ALCK2]\n"
     ]
    },
    {
     "name": "stdout",
     "output_type": "stream",
     "text": [
      "i,y=(9, -1.6500000000000001), j,x=(18, -0.5)\n"
     ]
    },
    {
     "name": "stderr",
     "output_type": "stream",
     "text": [
      "Auto-assigning NUTS sampler...\n",
      "Initializing NUTS using jitter+adapt_diag...\n",
      "Multiprocess sampling (4 chains in 4 jobs)\n",
      "NUTS: [rv_output_logDLALCK_ALCK2, rv_DiffSlope_logDLALCK_ALCK2, rv_PoffSlope_logDLALCK_ALCK2, rv_intercept_logDLALCK_ALCK2]\n"
     ]
    },
    {
     "name": "stdout",
     "output_type": "stream",
     "text": [
      "i,y=(9, -1.6500000000000001), j,x=(19, -0.25)\n"
     ]
    },
    {
     "name": "stderr",
     "output_type": "stream",
     "text": [
      "Auto-assigning NUTS sampler...\n",
      "Initializing NUTS using jitter+adapt_diag...\n",
      "Multiprocess sampling (4 chains in 4 jobs)\n",
      "NUTS: [rv_output_logDLALCK_ALCK2, rv_DiffSlope_logDLALCK_ALCK2, rv_PoffSlope_logDLALCK_ALCK2, rv_intercept_logDLALCK_ALCK2]\n"
     ]
    },
    {
     "name": "stdout",
     "output_type": "stream",
     "text": [
      "i,y=(10, -1.5), j,x=(0, -5.0)\n"
     ]
    },
    {
     "name": "stderr",
     "output_type": "stream",
     "text": [
      "Auto-assigning NUTS sampler...\n",
      "Initializing NUTS using jitter+adapt_diag...\n",
      "Multiprocess sampling (4 chains in 4 jobs)\n",
      "NUTS: [rv_output_logDLALCK_ALCK2, rv_DiffSlope_logDLALCK_ALCK2, rv_PoffSlope_logDLALCK_ALCK2, rv_intercept_logDLALCK_ALCK2]\n"
     ]
    },
    {
     "name": "stdout",
     "output_type": "stream",
     "text": [
      "i,y=(10, -1.5), j,x=(1, -4.75)\n"
     ]
    },
    {
     "name": "stderr",
     "output_type": "stream",
     "text": [
      "Auto-assigning NUTS sampler...\n",
      "Initializing NUTS using jitter+adapt_diag...\n",
      "Multiprocess sampling (4 chains in 4 jobs)\n",
      "NUTS: [rv_output_logDLALCK_ALCK2, rv_DiffSlope_logDLALCK_ALCK2, rv_PoffSlope_logDLALCK_ALCK2, rv_intercept_logDLALCK_ALCK2]\n"
     ]
    },
    {
     "name": "stdout",
     "output_type": "stream",
     "text": [
      "i,y=(10, -1.5), j,x=(2, -4.5)\n"
     ]
    },
    {
     "name": "stderr",
     "output_type": "stream",
     "text": [
      "Auto-assigning NUTS sampler...\n",
      "Initializing NUTS using jitter+adapt_diag...\n",
      "Multiprocess sampling (4 chains in 4 jobs)\n",
      "NUTS: [rv_output_logDLALCK_ALCK2, rv_DiffSlope_logDLALCK_ALCK2, rv_PoffSlope_logDLALCK_ALCK2, rv_intercept_logDLALCK_ALCK2]\n"
     ]
    },
    {
     "name": "stdout",
     "output_type": "stream",
     "text": [
      "i,y=(10, -1.5), j,x=(3, -4.25)\n"
     ]
    },
    {
     "name": "stderr",
     "output_type": "stream",
     "text": [
      "Auto-assigning NUTS sampler...\n",
      "Initializing NUTS using jitter+adapt_diag...\n",
      "Multiprocess sampling (4 chains in 4 jobs)\n",
      "NUTS: [rv_output_logDLALCK_ALCK2, rv_DiffSlope_logDLALCK_ALCK2, rv_PoffSlope_logDLALCK_ALCK2, rv_intercept_logDLALCK_ALCK2]\n"
     ]
    },
    {
     "name": "stdout",
     "output_type": "stream",
     "text": [
      "i,y=(10, -1.5), j,x=(4, -4.0)\n"
     ]
    },
    {
     "name": "stderr",
     "output_type": "stream",
     "text": [
      "Auto-assigning NUTS sampler...\n",
      "Initializing NUTS using jitter+adapt_diag...\n",
      "Multiprocess sampling (4 chains in 4 jobs)\n",
      "NUTS: [rv_output_logDLALCK_ALCK2, rv_DiffSlope_logDLALCK_ALCK2, rv_PoffSlope_logDLALCK_ALCK2, rv_intercept_logDLALCK_ALCK2]\n"
     ]
    },
    {
     "name": "stdout",
     "output_type": "stream",
     "text": [
      "i,y=(10, -1.5), j,x=(5, -3.75)\n"
     ]
    },
    {
     "name": "stderr",
     "output_type": "stream",
     "text": [
      "Auto-assigning NUTS sampler...\n",
      "Initializing NUTS using jitter+adapt_diag...\n",
      "Multiprocess sampling (4 chains in 4 jobs)\n",
      "NUTS: [rv_output_logDLALCK_ALCK2, rv_DiffSlope_logDLALCK_ALCK2, rv_PoffSlope_logDLALCK_ALCK2, rv_intercept_logDLALCK_ALCK2]\n"
     ]
    },
    {
     "name": "stdout",
     "output_type": "stream",
     "text": [
      "i,y=(10, -1.5), j,x=(6, -3.5)\n"
     ]
    },
    {
     "name": "stderr",
     "output_type": "stream",
     "text": [
      "Auto-assigning NUTS sampler...\n",
      "Initializing NUTS using jitter+adapt_diag...\n",
      "Multiprocess sampling (4 chains in 4 jobs)\n",
      "NUTS: [rv_output_logDLALCK_ALCK2, rv_DiffSlope_logDLALCK_ALCK2, rv_PoffSlope_logDLALCK_ALCK2, rv_intercept_logDLALCK_ALCK2]\n"
     ]
    },
    {
     "name": "stdout",
     "output_type": "stream",
     "text": [
      "i,y=(10, -1.5), j,x=(7, -3.25)\n"
     ]
    },
    {
     "name": "stderr",
     "output_type": "stream",
     "text": [
      "Auto-assigning NUTS sampler...\n",
      "Initializing NUTS using jitter+adapt_diag...\n",
      "Multiprocess sampling (4 chains in 4 jobs)\n",
      "NUTS: [rv_output_logDLALCK_ALCK2, rv_DiffSlope_logDLALCK_ALCK2, rv_PoffSlope_logDLALCK_ALCK2, rv_intercept_logDLALCK_ALCK2]\n"
     ]
    },
    {
     "name": "stdout",
     "output_type": "stream",
     "text": [
      "i,y=(10, -1.5), j,x=(8, -3.0)\n"
     ]
    },
    {
     "name": "stderr",
     "output_type": "stream",
     "text": [
      "Auto-assigning NUTS sampler...\n",
      "Initializing NUTS using jitter+adapt_diag...\n",
      "Multiprocess sampling (4 chains in 4 jobs)\n",
      "NUTS: [rv_output_logDLALCK_ALCK2, rv_DiffSlope_logDLALCK_ALCK2, rv_PoffSlope_logDLALCK_ALCK2, rv_intercept_logDLALCK_ALCK2]\n"
     ]
    },
    {
     "name": "stdout",
     "output_type": "stream",
     "text": [
      "i,y=(10, -1.5), j,x=(9, -2.75)\n"
     ]
    },
    {
     "name": "stderr",
     "output_type": "stream",
     "text": [
      "Auto-assigning NUTS sampler...\n",
      "Initializing NUTS using jitter+adapt_diag...\n",
      "Multiprocess sampling (4 chains in 4 jobs)\n",
      "NUTS: [rv_output_logDLALCK_ALCK2, rv_DiffSlope_logDLALCK_ALCK2, rv_PoffSlope_logDLALCK_ALCK2, rv_intercept_logDLALCK_ALCK2]\n"
     ]
    },
    {
     "name": "stdout",
     "output_type": "stream",
     "text": [
      "i,y=(10, -1.5), j,x=(10, -2.5)\n"
     ]
    },
    {
     "name": "stderr",
     "output_type": "stream",
     "text": [
      "Auto-assigning NUTS sampler...\n",
      "Initializing NUTS using jitter+adapt_diag...\n",
      "Multiprocess sampling (4 chains in 4 jobs)\n",
      "NUTS: [rv_output_logDLALCK_ALCK2, rv_DiffSlope_logDLALCK_ALCK2, rv_PoffSlope_logDLALCK_ALCK2, rv_intercept_logDLALCK_ALCK2]\n"
     ]
    },
    {
     "name": "stdout",
     "output_type": "stream",
     "text": [
      "i,y=(10, -1.5), j,x=(11, -2.25)\n"
     ]
    },
    {
     "name": "stderr",
     "output_type": "stream",
     "text": [
      "Auto-assigning NUTS sampler...\n",
      "Initializing NUTS using jitter+adapt_diag...\n",
      "Multiprocess sampling (4 chains in 4 jobs)\n",
      "NUTS: [rv_output_logDLALCK_ALCK2, rv_DiffSlope_logDLALCK_ALCK2, rv_PoffSlope_logDLALCK_ALCK2, rv_intercept_logDLALCK_ALCK2]\n"
     ]
    },
    {
     "name": "stdout",
     "output_type": "stream",
     "text": [
      "i,y=(10, -1.5), j,x=(12, -2.0)\n"
     ]
    },
    {
     "name": "stderr",
     "output_type": "stream",
     "text": [
      "Auto-assigning NUTS sampler...\n",
      "Initializing NUTS using jitter+adapt_diag...\n",
      "Multiprocess sampling (4 chains in 4 jobs)\n",
      "NUTS: [rv_output_logDLALCK_ALCK2, rv_DiffSlope_logDLALCK_ALCK2, rv_PoffSlope_logDLALCK_ALCK2, rv_intercept_logDLALCK_ALCK2]\n"
     ]
    },
    {
     "name": "stdout",
     "output_type": "stream",
     "text": [
      "i,y=(10, -1.5), j,x=(13, -1.75)\n"
     ]
    },
    {
     "name": "stderr",
     "output_type": "stream",
     "text": [
      "Auto-assigning NUTS sampler...\n",
      "Initializing NUTS using jitter+adapt_diag...\n",
      "Multiprocess sampling (4 chains in 4 jobs)\n",
      "NUTS: [rv_output_logDLALCK_ALCK2, rv_DiffSlope_logDLALCK_ALCK2, rv_PoffSlope_logDLALCK_ALCK2, rv_intercept_logDLALCK_ALCK2]\n"
     ]
    },
    {
     "name": "stdout",
     "output_type": "stream",
     "text": [
      "i,y=(10, -1.5), j,x=(14, -1.5)\n"
     ]
    },
    {
     "name": "stderr",
     "output_type": "stream",
     "text": [
      "Auto-assigning NUTS sampler...\n",
      "Initializing NUTS using jitter+adapt_diag...\n",
      "Multiprocess sampling (4 chains in 4 jobs)\n",
      "NUTS: [rv_output_logDLALCK_ALCK2, rv_DiffSlope_logDLALCK_ALCK2, rv_PoffSlope_logDLALCK_ALCK2, rv_intercept_logDLALCK_ALCK2]\n"
     ]
    },
    {
     "name": "stdout",
     "output_type": "stream",
     "text": [
      "i,y=(10, -1.5), j,x=(15, -1.25)\n"
     ]
    },
    {
     "name": "stderr",
     "output_type": "stream",
     "text": [
      "Auto-assigning NUTS sampler...\n",
      "Initializing NUTS using jitter+adapt_diag...\n",
      "Multiprocess sampling (4 chains in 4 jobs)\n",
      "NUTS: [rv_output_logDLALCK_ALCK2, rv_DiffSlope_logDLALCK_ALCK2, rv_PoffSlope_logDLALCK_ALCK2, rv_intercept_logDLALCK_ALCK2]\n"
     ]
    },
    {
     "name": "stdout",
     "output_type": "stream",
     "text": [
      "i,y=(10, -1.5), j,x=(16, -1.0)\n"
     ]
    },
    {
     "name": "stderr",
     "output_type": "stream",
     "text": [
      "Auto-assigning NUTS sampler...\n",
      "Initializing NUTS using jitter+adapt_diag...\n",
      "Multiprocess sampling (4 chains in 4 jobs)\n",
      "NUTS: [rv_output_logDLALCK_ALCK2, rv_DiffSlope_logDLALCK_ALCK2, rv_PoffSlope_logDLALCK_ALCK2, rv_intercept_logDLALCK_ALCK2]\n"
     ]
    },
    {
     "name": "stdout",
     "output_type": "stream",
     "text": [
      "i,y=(10, -1.5), j,x=(17, -0.75)\n"
     ]
    },
    {
     "name": "stderr",
     "output_type": "stream",
     "text": [
      "Auto-assigning NUTS sampler...\n",
      "Initializing NUTS using jitter+adapt_diag...\n",
      "Multiprocess sampling (4 chains in 4 jobs)\n",
      "NUTS: [rv_output_logDLALCK_ALCK2, rv_DiffSlope_logDLALCK_ALCK2, rv_PoffSlope_logDLALCK_ALCK2, rv_intercept_logDLALCK_ALCK2]\n"
     ]
    },
    {
     "name": "stdout",
     "output_type": "stream",
     "text": [
      "i,y=(10, -1.5), j,x=(18, -0.5)\n"
     ]
    },
    {
     "name": "stderr",
     "output_type": "stream",
     "text": [
      "Auto-assigning NUTS sampler...\n",
      "Initializing NUTS using jitter+adapt_diag...\n",
      "Multiprocess sampling (4 chains in 4 jobs)\n",
      "NUTS: [rv_output_logDLALCK_ALCK2, rv_DiffSlope_logDLALCK_ALCK2, rv_PoffSlope_logDLALCK_ALCK2, rv_intercept_logDLALCK_ALCK2]\n"
     ]
    },
    {
     "name": "stdout",
     "output_type": "stream",
     "text": [
      "i,y=(10, -1.5), j,x=(19, -0.25)\n"
     ]
    },
    {
     "name": "stderr",
     "output_type": "stream",
     "text": [
      "Auto-assigning NUTS sampler...\n",
      "Initializing NUTS using jitter+adapt_diag...\n",
      "Multiprocess sampling (4 chains in 4 jobs)\n",
      "NUTS: [rv_output_logDLALCK_ALCK2, rv_DiffSlope_logDLALCK_ALCK2, rv_PoffSlope_logDLALCK_ALCK2, rv_intercept_logDLALCK_ALCK2]\n"
     ]
    },
    {
     "name": "stdout",
     "output_type": "stream",
     "text": [
      "i,y=(11, -1.35), j,x=(0, -5.0)\n"
     ]
    },
    {
     "name": "stderr",
     "output_type": "stream",
     "text": [
      "Auto-assigning NUTS sampler...\n",
      "Initializing NUTS using jitter+adapt_diag...\n",
      "Multiprocess sampling (4 chains in 4 jobs)\n",
      "NUTS: [rv_output_logDLALCK_ALCK2, rv_DiffSlope_logDLALCK_ALCK2, rv_PoffSlope_logDLALCK_ALCK2, rv_intercept_logDLALCK_ALCK2]\n"
     ]
    },
    {
     "name": "stdout",
     "output_type": "stream",
     "text": [
      "i,y=(11, -1.35), j,x=(1, -4.75)\n"
     ]
    },
    {
     "name": "stderr",
     "output_type": "stream",
     "text": [
      "Auto-assigning NUTS sampler...\n",
      "Initializing NUTS using jitter+adapt_diag...\n",
      "Multiprocess sampling (4 chains in 4 jobs)\n",
      "NUTS: [rv_output_logDLALCK_ALCK2, rv_DiffSlope_logDLALCK_ALCK2, rv_PoffSlope_logDLALCK_ALCK2, rv_intercept_logDLALCK_ALCK2]\n"
     ]
    },
    {
     "name": "stdout",
     "output_type": "stream",
     "text": [
      "i,y=(11, -1.35), j,x=(2, -4.5)\n"
     ]
    },
    {
     "name": "stderr",
     "output_type": "stream",
     "text": [
      "Auto-assigning NUTS sampler...\n",
      "Initializing NUTS using jitter+adapt_diag...\n",
      "Multiprocess sampling (4 chains in 4 jobs)\n",
      "NUTS: [rv_output_logDLALCK_ALCK2, rv_DiffSlope_logDLALCK_ALCK2, rv_PoffSlope_logDLALCK_ALCK2, rv_intercept_logDLALCK_ALCK2]\n"
     ]
    },
    {
     "name": "stdout",
     "output_type": "stream",
     "text": [
      "i,y=(11, -1.35), j,x=(3, -4.25)\n"
     ]
    },
    {
     "name": "stderr",
     "output_type": "stream",
     "text": [
      "Auto-assigning NUTS sampler...\n",
      "Initializing NUTS using jitter+adapt_diag...\n",
      "Multiprocess sampling (4 chains in 4 jobs)\n",
      "NUTS: [rv_output_logDLALCK_ALCK2, rv_DiffSlope_logDLALCK_ALCK2, rv_PoffSlope_logDLALCK_ALCK2, rv_intercept_logDLALCK_ALCK2]\n"
     ]
    },
    {
     "name": "stdout",
     "output_type": "stream",
     "text": [
      "i,y=(11, -1.35), j,x=(4, -4.0)\n"
     ]
    },
    {
     "name": "stderr",
     "output_type": "stream",
     "text": [
      "Auto-assigning NUTS sampler...\n",
      "Initializing NUTS using jitter+adapt_diag...\n",
      "Multiprocess sampling (4 chains in 4 jobs)\n",
      "NUTS: [rv_output_logDLALCK_ALCK2, rv_DiffSlope_logDLALCK_ALCK2, rv_PoffSlope_logDLALCK_ALCK2, rv_intercept_logDLALCK_ALCK2]\n"
     ]
    },
    {
     "name": "stdout",
     "output_type": "stream",
     "text": [
      "i,y=(11, -1.35), j,x=(5, -3.75)\n"
     ]
    },
    {
     "name": "stderr",
     "output_type": "stream",
     "text": [
      "Auto-assigning NUTS sampler...\n",
      "Initializing NUTS using jitter+adapt_diag...\n",
      "Multiprocess sampling (4 chains in 4 jobs)\n",
      "NUTS: [rv_output_logDLALCK_ALCK2, rv_DiffSlope_logDLALCK_ALCK2, rv_PoffSlope_logDLALCK_ALCK2, rv_intercept_logDLALCK_ALCK2]\n"
     ]
    },
    {
     "name": "stdout",
     "output_type": "stream",
     "text": [
      "i,y=(11, -1.35), j,x=(6, -3.5)\n"
     ]
    },
    {
     "name": "stderr",
     "output_type": "stream",
     "text": [
      "Auto-assigning NUTS sampler...\n",
      "Initializing NUTS using jitter+adapt_diag...\n",
      "Multiprocess sampling (4 chains in 4 jobs)\n",
      "NUTS: [rv_output_logDLALCK_ALCK2, rv_DiffSlope_logDLALCK_ALCK2, rv_PoffSlope_logDLALCK_ALCK2, rv_intercept_logDLALCK_ALCK2]\n"
     ]
    },
    {
     "name": "stdout",
     "output_type": "stream",
     "text": [
      "i,y=(11, -1.35), j,x=(7, -3.25)\n"
     ]
    },
    {
     "name": "stderr",
     "output_type": "stream",
     "text": [
      "Auto-assigning NUTS sampler...\n",
      "Initializing NUTS using jitter+adapt_diag...\n",
      "Multiprocess sampling (4 chains in 4 jobs)\n",
      "NUTS: [rv_output_logDLALCK_ALCK2, rv_DiffSlope_logDLALCK_ALCK2, rv_PoffSlope_logDLALCK_ALCK2, rv_intercept_logDLALCK_ALCK2]\n"
     ]
    },
    {
     "name": "stdout",
     "output_type": "stream",
     "text": [
      "i,y=(11, -1.35), j,x=(8, -3.0)\n"
     ]
    },
    {
     "name": "stderr",
     "output_type": "stream",
     "text": [
      "Auto-assigning NUTS sampler...\n",
      "Initializing NUTS using jitter+adapt_diag...\n",
      "Multiprocess sampling (4 chains in 4 jobs)\n",
      "NUTS: [rv_output_logDLALCK_ALCK2, rv_DiffSlope_logDLALCK_ALCK2, rv_PoffSlope_logDLALCK_ALCK2, rv_intercept_logDLALCK_ALCK2]\n"
     ]
    },
    {
     "name": "stdout",
     "output_type": "stream",
     "text": [
      "i,y=(11, -1.35), j,x=(9, -2.75)\n"
     ]
    },
    {
     "name": "stderr",
     "output_type": "stream",
     "text": [
      "Auto-assigning NUTS sampler...\n",
      "Initializing NUTS using jitter+adapt_diag...\n",
      "Multiprocess sampling (4 chains in 4 jobs)\n",
      "NUTS: [rv_output_logDLALCK_ALCK2, rv_DiffSlope_logDLALCK_ALCK2, rv_PoffSlope_logDLALCK_ALCK2, rv_intercept_logDLALCK_ALCK2]\n"
     ]
    },
    {
     "name": "stdout",
     "output_type": "stream",
     "text": [
      "i,y=(11, -1.35), j,x=(10, -2.5)\n"
     ]
    },
    {
     "name": "stderr",
     "output_type": "stream",
     "text": [
      "Auto-assigning NUTS sampler...\n",
      "Initializing NUTS using jitter+adapt_diag...\n",
      "Multiprocess sampling (4 chains in 4 jobs)\n",
      "NUTS: [rv_output_logDLALCK_ALCK2, rv_DiffSlope_logDLALCK_ALCK2, rv_PoffSlope_logDLALCK_ALCK2, rv_intercept_logDLALCK_ALCK2]\n"
     ]
    },
    {
     "name": "stdout",
     "output_type": "stream",
     "text": [
      "i,y=(11, -1.35), j,x=(11, -2.25)\n"
     ]
    },
    {
     "name": "stderr",
     "output_type": "stream",
     "text": [
      "Auto-assigning NUTS sampler...\n",
      "Initializing NUTS using jitter+adapt_diag...\n",
      "Multiprocess sampling (4 chains in 4 jobs)\n",
      "NUTS: [rv_output_logDLALCK_ALCK2, rv_DiffSlope_logDLALCK_ALCK2, rv_PoffSlope_logDLALCK_ALCK2, rv_intercept_logDLALCK_ALCK2]\n"
     ]
    },
    {
     "name": "stdout",
     "output_type": "stream",
     "text": [
      "i,y=(11, -1.35), j,x=(12, -2.0)\n"
     ]
    },
    {
     "name": "stderr",
     "output_type": "stream",
     "text": [
      "Auto-assigning NUTS sampler...\n",
      "Initializing NUTS using jitter+adapt_diag...\n",
      "Multiprocess sampling (4 chains in 4 jobs)\n",
      "NUTS: [rv_output_logDLALCK_ALCK2, rv_DiffSlope_logDLALCK_ALCK2, rv_PoffSlope_logDLALCK_ALCK2, rv_intercept_logDLALCK_ALCK2]\n"
     ]
    },
    {
     "name": "stdout",
     "output_type": "stream",
     "text": [
      "i,y=(11, -1.35), j,x=(13, -1.75)\n"
     ]
    },
    {
     "name": "stderr",
     "output_type": "stream",
     "text": [
      "Auto-assigning NUTS sampler...\n",
      "Initializing NUTS using jitter+adapt_diag...\n",
      "Multiprocess sampling (4 chains in 4 jobs)\n",
      "NUTS: [rv_output_logDLALCK_ALCK2, rv_DiffSlope_logDLALCK_ALCK2, rv_PoffSlope_logDLALCK_ALCK2, rv_intercept_logDLALCK_ALCK2]\n"
     ]
    },
    {
     "name": "stdout",
     "output_type": "stream",
     "text": [
      "i,y=(11, -1.35), j,x=(14, -1.5)\n"
     ]
    },
    {
     "name": "stderr",
     "output_type": "stream",
     "text": [
      "Auto-assigning NUTS sampler...\n",
      "Initializing NUTS using jitter+adapt_diag...\n",
      "Multiprocess sampling (4 chains in 4 jobs)\n",
      "NUTS: [rv_output_logDLALCK_ALCK2, rv_DiffSlope_logDLALCK_ALCK2, rv_PoffSlope_logDLALCK_ALCK2, rv_intercept_logDLALCK_ALCK2]\n"
     ]
    },
    {
     "name": "stdout",
     "output_type": "stream",
     "text": [
      "i,y=(11, -1.35), j,x=(15, -1.25)\n"
     ]
    },
    {
     "name": "stderr",
     "output_type": "stream",
     "text": [
      "Auto-assigning NUTS sampler...\n",
      "Initializing NUTS using jitter+adapt_diag...\n",
      "Multiprocess sampling (4 chains in 4 jobs)\n",
      "NUTS: [rv_output_logDLALCK_ALCK2, rv_DiffSlope_logDLALCK_ALCK2, rv_PoffSlope_logDLALCK_ALCK2, rv_intercept_logDLALCK_ALCK2]\n"
     ]
    },
    {
     "name": "stdout",
     "output_type": "stream",
     "text": [
      "i,y=(11, -1.35), j,x=(16, -1.0)\n"
     ]
    },
    {
     "name": "stderr",
     "output_type": "stream",
     "text": [
      "Auto-assigning NUTS sampler...\n",
      "Initializing NUTS using jitter+adapt_diag...\n",
      "Multiprocess sampling (4 chains in 4 jobs)\n",
      "NUTS: [rv_output_logDLALCK_ALCK2, rv_DiffSlope_logDLALCK_ALCK2, rv_PoffSlope_logDLALCK_ALCK2, rv_intercept_logDLALCK_ALCK2]\n"
     ]
    },
    {
     "name": "stdout",
     "output_type": "stream",
     "text": [
      "i,y=(11, -1.35), j,x=(17, -0.75)\n"
     ]
    },
    {
     "name": "stderr",
     "output_type": "stream",
     "text": [
      "Auto-assigning NUTS sampler...\n",
      "Initializing NUTS using jitter+adapt_diag...\n",
      "Multiprocess sampling (4 chains in 4 jobs)\n",
      "NUTS: [rv_output_logDLALCK_ALCK2, rv_DiffSlope_logDLALCK_ALCK2, rv_PoffSlope_logDLALCK_ALCK2, rv_intercept_logDLALCK_ALCK2]\n"
     ]
    },
    {
     "name": "stdout",
     "output_type": "stream",
     "text": [
      "i,y=(11, -1.35), j,x=(18, -0.5)\n"
     ]
    },
    {
     "name": "stderr",
     "output_type": "stream",
     "text": [
      "Auto-assigning NUTS sampler...\n",
      "Initializing NUTS using jitter+adapt_diag...\n",
      "Multiprocess sampling (4 chains in 4 jobs)\n",
      "NUTS: [rv_output_logDLALCK_ALCK2, rv_DiffSlope_logDLALCK_ALCK2, rv_PoffSlope_logDLALCK_ALCK2, rv_intercept_logDLALCK_ALCK2]\n"
     ]
    },
    {
     "name": "stdout",
     "output_type": "stream",
     "text": [
      "i,y=(11, -1.35), j,x=(19, -0.25)\n"
     ]
    },
    {
     "name": "stderr",
     "output_type": "stream",
     "text": [
      "Auto-assigning NUTS sampler...\n",
      "Initializing NUTS using jitter+adapt_diag...\n",
      "Multiprocess sampling (4 chains in 4 jobs)\n",
      "NUTS: [rv_output_logDLALCK_ALCK2, rv_DiffSlope_logDLALCK_ALCK2, rv_PoffSlope_logDLALCK_ALCK2, rv_intercept_logDLALCK_ALCK2]\n"
     ]
    },
    {
     "name": "stdout",
     "output_type": "stream",
     "text": [
      "i,y=(12, -1.2000000000000002), j,x=(0, -5.0)\n"
     ]
    },
    {
     "name": "stderr",
     "output_type": "stream",
     "text": [
      "Auto-assigning NUTS sampler...\n",
      "Initializing NUTS using jitter+adapt_diag...\n",
      "Multiprocess sampling (4 chains in 4 jobs)\n",
      "NUTS: [rv_output_logDLALCK_ALCK2, rv_DiffSlope_logDLALCK_ALCK2, rv_PoffSlope_logDLALCK_ALCK2, rv_intercept_logDLALCK_ALCK2]\n"
     ]
    },
    {
     "name": "stdout",
     "output_type": "stream",
     "text": [
      "i,y=(12, -1.2000000000000002), j,x=(1, -4.75)\n"
     ]
    },
    {
     "name": "stderr",
     "output_type": "stream",
     "text": [
      "Auto-assigning NUTS sampler...\n",
      "Initializing NUTS using jitter+adapt_diag...\n",
      "Multiprocess sampling (4 chains in 4 jobs)\n",
      "NUTS: [rv_output_logDLALCK_ALCK2, rv_DiffSlope_logDLALCK_ALCK2, rv_PoffSlope_logDLALCK_ALCK2, rv_intercept_logDLALCK_ALCK2]\n"
     ]
    },
    {
     "name": "stdout",
     "output_type": "stream",
     "text": [
      "i,y=(12, -1.2000000000000002), j,x=(2, -4.5)\n"
     ]
    },
    {
     "name": "stderr",
     "output_type": "stream",
     "text": [
      "Auto-assigning NUTS sampler...\n",
      "Initializing NUTS using jitter+adapt_diag...\n",
      "Multiprocess sampling (4 chains in 4 jobs)\n",
      "NUTS: [rv_output_logDLALCK_ALCK2, rv_DiffSlope_logDLALCK_ALCK2, rv_PoffSlope_logDLALCK_ALCK2, rv_intercept_logDLALCK_ALCK2]\n"
     ]
    },
    {
     "name": "stdout",
     "output_type": "stream",
     "text": [
      "i,y=(12, -1.2000000000000002), j,x=(3, -4.25)\n"
     ]
    },
    {
     "name": "stderr",
     "output_type": "stream",
     "text": [
      "Auto-assigning NUTS sampler...\n",
      "Initializing NUTS using jitter+adapt_diag...\n",
      "Multiprocess sampling (4 chains in 4 jobs)\n",
      "NUTS: [rv_output_logDLALCK_ALCK2, rv_DiffSlope_logDLALCK_ALCK2, rv_PoffSlope_logDLALCK_ALCK2, rv_intercept_logDLALCK_ALCK2]\n"
     ]
    },
    {
     "name": "stdout",
     "output_type": "stream",
     "text": [
      "i,y=(12, -1.2000000000000002), j,x=(4, -4.0)\n"
     ]
    },
    {
     "name": "stderr",
     "output_type": "stream",
     "text": [
      "Auto-assigning NUTS sampler...\n",
      "Initializing NUTS using jitter+adapt_diag...\n",
      "Multiprocess sampling (4 chains in 4 jobs)\n",
      "NUTS: [rv_output_logDLALCK_ALCK2, rv_DiffSlope_logDLALCK_ALCK2, rv_PoffSlope_logDLALCK_ALCK2, rv_intercept_logDLALCK_ALCK2]\n"
     ]
    },
    {
     "name": "stdout",
     "output_type": "stream",
     "text": [
      "i,y=(12, -1.2000000000000002), j,x=(5, -3.75)\n"
     ]
    },
    {
     "name": "stderr",
     "output_type": "stream",
     "text": [
      "Auto-assigning NUTS sampler...\n",
      "Initializing NUTS using jitter+adapt_diag...\n",
      "Multiprocess sampling (4 chains in 4 jobs)\n",
      "NUTS: [rv_output_logDLALCK_ALCK2, rv_DiffSlope_logDLALCK_ALCK2, rv_PoffSlope_logDLALCK_ALCK2, rv_intercept_logDLALCK_ALCK2]\n"
     ]
    },
    {
     "name": "stdout",
     "output_type": "stream",
     "text": [
      "i,y=(12, -1.2000000000000002), j,x=(6, -3.5)\n"
     ]
    },
    {
     "name": "stderr",
     "output_type": "stream",
     "text": [
      "Auto-assigning NUTS sampler...\n",
      "Initializing NUTS using jitter+adapt_diag...\n",
      "Multiprocess sampling (4 chains in 4 jobs)\n",
      "NUTS: [rv_output_logDLALCK_ALCK2, rv_DiffSlope_logDLALCK_ALCK2, rv_PoffSlope_logDLALCK_ALCK2, rv_intercept_logDLALCK_ALCK2]\n"
     ]
    },
    {
     "name": "stdout",
     "output_type": "stream",
     "text": [
      "i,y=(12, -1.2000000000000002), j,x=(7, -3.25)\n"
     ]
    },
    {
     "name": "stderr",
     "output_type": "stream",
     "text": [
      "Auto-assigning NUTS sampler...\n",
      "Initializing NUTS using jitter+adapt_diag...\n",
      "Multiprocess sampling (4 chains in 4 jobs)\n",
      "NUTS: [rv_output_logDLALCK_ALCK2, rv_DiffSlope_logDLALCK_ALCK2, rv_PoffSlope_logDLALCK_ALCK2, rv_intercept_logDLALCK_ALCK2]\n"
     ]
    },
    {
     "name": "stdout",
     "output_type": "stream",
     "text": [
      "i,y=(12, -1.2000000000000002), j,x=(8, -3.0)\n"
     ]
    },
    {
     "name": "stderr",
     "output_type": "stream",
     "text": [
      "Auto-assigning NUTS sampler...\n",
      "Initializing NUTS using jitter+adapt_diag...\n",
      "Multiprocess sampling (4 chains in 4 jobs)\n",
      "NUTS: [rv_output_logDLALCK_ALCK2, rv_DiffSlope_logDLALCK_ALCK2, rv_PoffSlope_logDLALCK_ALCK2, rv_intercept_logDLALCK_ALCK2]\n"
     ]
    },
    {
     "name": "stdout",
     "output_type": "stream",
     "text": [
      "i,y=(12, -1.2000000000000002), j,x=(9, -2.75)\n"
     ]
    },
    {
     "name": "stderr",
     "output_type": "stream",
     "text": [
      "Auto-assigning NUTS sampler...\n",
      "Initializing NUTS using jitter+adapt_diag...\n",
      "Multiprocess sampling (4 chains in 4 jobs)\n",
      "NUTS: [rv_output_logDLALCK_ALCK2, rv_DiffSlope_logDLALCK_ALCK2, rv_PoffSlope_logDLALCK_ALCK2, rv_intercept_logDLALCK_ALCK2]\n"
     ]
    },
    {
     "name": "stdout",
     "output_type": "stream",
     "text": [
      "i,y=(12, -1.2000000000000002), j,x=(10, -2.5)\n"
     ]
    },
    {
     "name": "stderr",
     "output_type": "stream",
     "text": [
      "Auto-assigning NUTS sampler...\n",
      "Initializing NUTS using jitter+adapt_diag...\n",
      "Multiprocess sampling (4 chains in 4 jobs)\n",
      "NUTS: [rv_output_logDLALCK_ALCK2, rv_DiffSlope_logDLALCK_ALCK2, rv_PoffSlope_logDLALCK_ALCK2, rv_intercept_logDLALCK_ALCK2]\n"
     ]
    },
    {
     "name": "stdout",
     "output_type": "stream",
     "text": [
      "i,y=(12, -1.2000000000000002), j,x=(11, -2.25)\n"
     ]
    },
    {
     "name": "stderr",
     "output_type": "stream",
     "text": [
      "Auto-assigning NUTS sampler...\n",
      "Initializing NUTS using jitter+adapt_diag...\n",
      "Multiprocess sampling (4 chains in 4 jobs)\n",
      "NUTS: [rv_output_logDLALCK_ALCK2, rv_DiffSlope_logDLALCK_ALCK2, rv_PoffSlope_logDLALCK_ALCK2, rv_intercept_logDLALCK_ALCK2]\n"
     ]
    },
    {
     "name": "stdout",
     "output_type": "stream",
     "text": [
      "i,y=(12, -1.2000000000000002), j,x=(12, -2.0)\n"
     ]
    },
    {
     "name": "stderr",
     "output_type": "stream",
     "text": [
      "Auto-assigning NUTS sampler...\n",
      "Initializing NUTS using jitter+adapt_diag...\n",
      "Multiprocess sampling (4 chains in 4 jobs)\n",
      "NUTS: [rv_output_logDLALCK_ALCK2, rv_DiffSlope_logDLALCK_ALCK2, rv_PoffSlope_logDLALCK_ALCK2, rv_intercept_logDLALCK_ALCK2]\n"
     ]
    },
    {
     "name": "stdout",
     "output_type": "stream",
     "text": [
      "i,y=(12, -1.2000000000000002), j,x=(13, -1.75)\n"
     ]
    },
    {
     "name": "stderr",
     "output_type": "stream",
     "text": [
      "Auto-assigning NUTS sampler...\n",
      "Initializing NUTS using jitter+adapt_diag...\n",
      "Multiprocess sampling (4 chains in 4 jobs)\n",
      "NUTS: [rv_output_logDLALCK_ALCK2, rv_DiffSlope_logDLALCK_ALCK2, rv_PoffSlope_logDLALCK_ALCK2, rv_intercept_logDLALCK_ALCK2]\n"
     ]
    },
    {
     "name": "stdout",
     "output_type": "stream",
     "text": [
      "i,y=(12, -1.2000000000000002), j,x=(14, -1.5)\n"
     ]
    },
    {
     "name": "stderr",
     "output_type": "stream",
     "text": [
      "Auto-assigning NUTS sampler...\n",
      "Initializing NUTS using jitter+adapt_diag...\n",
      "Multiprocess sampling (4 chains in 4 jobs)\n",
      "NUTS: [rv_output_logDLALCK_ALCK2, rv_DiffSlope_logDLALCK_ALCK2, rv_PoffSlope_logDLALCK_ALCK2, rv_intercept_logDLALCK_ALCK2]\n"
     ]
    },
    {
     "name": "stdout",
     "output_type": "stream",
     "text": [
      "i,y=(12, -1.2000000000000002), j,x=(15, -1.25)\n"
     ]
    },
    {
     "name": "stderr",
     "output_type": "stream",
     "text": [
      "Auto-assigning NUTS sampler...\n",
      "Initializing NUTS using jitter+adapt_diag...\n",
      "Multiprocess sampling (4 chains in 4 jobs)\n",
      "NUTS: [rv_output_logDLALCK_ALCK2, rv_DiffSlope_logDLALCK_ALCK2, rv_PoffSlope_logDLALCK_ALCK2, rv_intercept_logDLALCK_ALCK2]\n"
     ]
    },
    {
     "name": "stdout",
     "output_type": "stream",
     "text": [
      "i,y=(12, -1.2000000000000002), j,x=(16, -1.0)\n"
     ]
    },
    {
     "name": "stderr",
     "output_type": "stream",
     "text": [
      "Auto-assigning NUTS sampler...\n",
      "Initializing NUTS using jitter+adapt_diag...\n",
      "Multiprocess sampling (4 chains in 4 jobs)\n",
      "NUTS: [rv_output_logDLALCK_ALCK2, rv_DiffSlope_logDLALCK_ALCK2, rv_PoffSlope_logDLALCK_ALCK2, rv_intercept_logDLALCK_ALCK2]\n"
     ]
    },
    {
     "name": "stdout",
     "output_type": "stream",
     "text": [
      "i,y=(12, -1.2000000000000002), j,x=(17, -0.75)\n"
     ]
    },
    {
     "name": "stderr",
     "output_type": "stream",
     "text": [
      "Auto-assigning NUTS sampler...\n",
      "Initializing NUTS using jitter+adapt_diag...\n",
      "Multiprocess sampling (4 chains in 4 jobs)\n",
      "NUTS: [rv_output_logDLALCK_ALCK2, rv_DiffSlope_logDLALCK_ALCK2, rv_PoffSlope_logDLALCK_ALCK2, rv_intercept_logDLALCK_ALCK2]\n"
     ]
    },
    {
     "name": "stdout",
     "output_type": "stream",
     "text": [
      "i,y=(12, -1.2000000000000002), j,x=(18, -0.5)\n"
     ]
    },
    {
     "name": "stderr",
     "output_type": "stream",
     "text": [
      "Auto-assigning NUTS sampler...\n",
      "Initializing NUTS using jitter+adapt_diag...\n",
      "Multiprocess sampling (4 chains in 4 jobs)\n",
      "NUTS: [rv_output_logDLALCK_ALCK2, rv_DiffSlope_logDLALCK_ALCK2, rv_PoffSlope_logDLALCK_ALCK2, rv_intercept_logDLALCK_ALCK2]\n"
     ]
    },
    {
     "name": "stdout",
     "output_type": "stream",
     "text": [
      "i,y=(12, -1.2000000000000002), j,x=(19, -0.25)\n"
     ]
    },
    {
     "name": "stderr",
     "output_type": "stream",
     "text": [
      "Auto-assigning NUTS sampler...\n",
      "Initializing NUTS using jitter+adapt_diag...\n",
      "Multiprocess sampling (4 chains in 4 jobs)\n",
      "NUTS: [rv_output_logDLALCK_ALCK2, rv_DiffSlope_logDLALCK_ALCK2, rv_PoffSlope_logDLALCK_ALCK2, rv_intercept_logDLALCK_ALCK2]\n"
     ]
    },
    {
     "name": "stdout",
     "output_type": "stream",
     "text": [
      "i,y=(13, -1.05), j,x=(0, -5.0)\n"
     ]
    },
    {
     "name": "stderr",
     "output_type": "stream",
     "text": [
      "Auto-assigning NUTS sampler...\n",
      "Initializing NUTS using jitter+adapt_diag...\n",
      "Multiprocess sampling (4 chains in 4 jobs)\n",
      "NUTS: [rv_output_logDLALCK_ALCK2, rv_DiffSlope_logDLALCK_ALCK2, rv_PoffSlope_logDLALCK_ALCK2, rv_intercept_logDLALCK_ALCK2]\n"
     ]
    },
    {
     "name": "stdout",
     "output_type": "stream",
     "text": [
      "i,y=(13, -1.05), j,x=(1, -4.75)\n"
     ]
    },
    {
     "name": "stderr",
     "output_type": "stream",
     "text": [
      "Auto-assigning NUTS sampler...\n",
      "Initializing NUTS using jitter+adapt_diag...\n",
      "Multiprocess sampling (4 chains in 4 jobs)\n",
      "NUTS: [rv_output_logDLALCK_ALCK2, rv_DiffSlope_logDLALCK_ALCK2, rv_PoffSlope_logDLALCK_ALCK2, rv_intercept_logDLALCK_ALCK2]\n"
     ]
    },
    {
     "name": "stdout",
     "output_type": "stream",
     "text": [
      "i,y=(13, -1.05), j,x=(2, -4.5)\n"
     ]
    },
    {
     "name": "stderr",
     "output_type": "stream",
     "text": [
      "Auto-assigning NUTS sampler...\n",
      "Initializing NUTS using jitter+adapt_diag...\n",
      "Multiprocess sampling (4 chains in 4 jobs)\n",
      "NUTS: [rv_output_logDLALCK_ALCK2, rv_DiffSlope_logDLALCK_ALCK2, rv_PoffSlope_logDLALCK_ALCK2, rv_intercept_logDLALCK_ALCK2]\n"
     ]
    },
    {
     "name": "stdout",
     "output_type": "stream",
     "text": [
      "i,y=(13, -1.05), j,x=(3, -4.25)\n"
     ]
    },
    {
     "name": "stderr",
     "output_type": "stream",
     "text": [
      "Auto-assigning NUTS sampler...\n",
      "Initializing NUTS using jitter+adapt_diag...\n",
      "Multiprocess sampling (4 chains in 4 jobs)\n",
      "NUTS: [rv_output_logDLALCK_ALCK2, rv_DiffSlope_logDLALCK_ALCK2, rv_PoffSlope_logDLALCK_ALCK2, rv_intercept_logDLALCK_ALCK2]\n"
     ]
    },
    {
     "name": "stdout",
     "output_type": "stream",
     "text": [
      "i,y=(13, -1.05), j,x=(4, -4.0)\n"
     ]
    },
    {
     "name": "stderr",
     "output_type": "stream",
     "text": [
      "Auto-assigning NUTS sampler...\n",
      "Initializing NUTS using jitter+adapt_diag...\n",
      "Multiprocess sampling (4 chains in 4 jobs)\n",
      "NUTS: [rv_output_logDLALCK_ALCK2, rv_DiffSlope_logDLALCK_ALCK2, rv_PoffSlope_logDLALCK_ALCK2, rv_intercept_logDLALCK_ALCK2]\n"
     ]
    },
    {
     "name": "stdout",
     "output_type": "stream",
     "text": [
      "i,y=(13, -1.05), j,x=(5, -3.75)\n"
     ]
    },
    {
     "name": "stderr",
     "output_type": "stream",
     "text": [
      "Auto-assigning NUTS sampler...\n",
      "Initializing NUTS using jitter+adapt_diag...\n",
      "Multiprocess sampling (4 chains in 4 jobs)\n",
      "NUTS: [rv_output_logDLALCK_ALCK2, rv_DiffSlope_logDLALCK_ALCK2, rv_PoffSlope_logDLALCK_ALCK2, rv_intercept_logDLALCK_ALCK2]\n"
     ]
    },
    {
     "name": "stdout",
     "output_type": "stream",
     "text": [
      "i,y=(13, -1.05), j,x=(6, -3.5)\n"
     ]
    },
    {
     "name": "stderr",
     "output_type": "stream",
     "text": [
      "Auto-assigning NUTS sampler...\n",
      "Initializing NUTS using jitter+adapt_diag...\n",
      "Multiprocess sampling (4 chains in 4 jobs)\n",
      "NUTS: [rv_output_logDLALCK_ALCK2, rv_DiffSlope_logDLALCK_ALCK2, rv_PoffSlope_logDLALCK_ALCK2, rv_intercept_logDLALCK_ALCK2]\n"
     ]
    },
    {
     "name": "stdout",
     "output_type": "stream",
     "text": [
      "i,y=(13, -1.05), j,x=(7, -3.25)\n"
     ]
    },
    {
     "name": "stderr",
     "output_type": "stream",
     "text": [
      "Auto-assigning NUTS sampler...\n",
      "Initializing NUTS using jitter+adapt_diag...\n",
      "Multiprocess sampling (4 chains in 4 jobs)\n",
      "NUTS: [rv_output_logDLALCK_ALCK2, rv_DiffSlope_logDLALCK_ALCK2, rv_PoffSlope_logDLALCK_ALCK2, rv_intercept_logDLALCK_ALCK2]\n"
     ]
    },
    {
     "name": "stdout",
     "output_type": "stream",
     "text": [
      "i,y=(13, -1.05), j,x=(8, -3.0)\n"
     ]
    },
    {
     "name": "stderr",
     "output_type": "stream",
     "text": [
      "Auto-assigning NUTS sampler...\n",
      "Initializing NUTS using jitter+adapt_diag...\n",
      "Multiprocess sampling (4 chains in 4 jobs)\n",
      "NUTS: [rv_output_logDLALCK_ALCK2, rv_DiffSlope_logDLALCK_ALCK2, rv_PoffSlope_logDLALCK_ALCK2, rv_intercept_logDLALCK_ALCK2]\n"
     ]
    },
    {
     "name": "stdout",
     "output_type": "stream",
     "text": [
      "i,y=(13, -1.05), j,x=(9, -2.75)\n"
     ]
    },
    {
     "name": "stderr",
     "output_type": "stream",
     "text": [
      "Auto-assigning NUTS sampler...\n",
      "Initializing NUTS using jitter+adapt_diag...\n",
      "Multiprocess sampling (4 chains in 4 jobs)\n",
      "NUTS: [rv_output_logDLALCK_ALCK2, rv_DiffSlope_logDLALCK_ALCK2, rv_PoffSlope_logDLALCK_ALCK2, rv_intercept_logDLALCK_ALCK2]\n"
     ]
    },
    {
     "name": "stdout",
     "output_type": "stream",
     "text": [
      "i,y=(13, -1.05), j,x=(10, -2.5)\n"
     ]
    },
    {
     "name": "stderr",
     "output_type": "stream",
     "text": [
      "Auto-assigning NUTS sampler...\n",
      "Initializing NUTS using jitter+adapt_diag...\n",
      "Multiprocess sampling (4 chains in 4 jobs)\n",
      "NUTS: [rv_output_logDLALCK_ALCK2, rv_DiffSlope_logDLALCK_ALCK2, rv_PoffSlope_logDLALCK_ALCK2, rv_intercept_logDLALCK_ALCK2]\n"
     ]
    },
    {
     "name": "stdout",
     "output_type": "stream",
     "text": [
      "i,y=(13, -1.05), j,x=(11, -2.25)\n"
     ]
    },
    {
     "name": "stderr",
     "output_type": "stream",
     "text": [
      "Auto-assigning NUTS sampler...\n",
      "Initializing NUTS using jitter+adapt_diag...\n",
      "Multiprocess sampling (4 chains in 4 jobs)\n",
      "NUTS: [rv_output_logDLALCK_ALCK2, rv_DiffSlope_logDLALCK_ALCK2, rv_PoffSlope_logDLALCK_ALCK2, rv_intercept_logDLALCK_ALCK2]\n"
     ]
    },
    {
     "name": "stdout",
     "output_type": "stream",
     "text": [
      "i,y=(13, -1.05), j,x=(12, -2.0)\n"
     ]
    },
    {
     "name": "stderr",
     "output_type": "stream",
     "text": [
      "Auto-assigning NUTS sampler...\n",
      "Initializing NUTS using jitter+adapt_diag...\n",
      "Multiprocess sampling (4 chains in 4 jobs)\n",
      "NUTS: [rv_output_logDLALCK_ALCK2, rv_DiffSlope_logDLALCK_ALCK2, rv_PoffSlope_logDLALCK_ALCK2, rv_intercept_logDLALCK_ALCK2]\n"
     ]
    },
    {
     "name": "stdout",
     "output_type": "stream",
     "text": [
      "i,y=(13, -1.05), j,x=(13, -1.75)\n"
     ]
    },
    {
     "name": "stderr",
     "output_type": "stream",
     "text": [
      "Auto-assigning NUTS sampler...\n",
      "Initializing NUTS using jitter+adapt_diag...\n",
      "Multiprocess sampling (4 chains in 4 jobs)\n",
      "NUTS: [rv_output_logDLALCK_ALCK2, rv_DiffSlope_logDLALCK_ALCK2, rv_PoffSlope_logDLALCK_ALCK2, rv_intercept_logDLALCK_ALCK2]\n"
     ]
    },
    {
     "name": "stdout",
     "output_type": "stream",
     "text": [
      "i,y=(13, -1.05), j,x=(14, -1.5)\n"
     ]
    },
    {
     "name": "stderr",
     "output_type": "stream",
     "text": [
      "Auto-assigning NUTS sampler...\n",
      "Initializing NUTS using jitter+adapt_diag...\n",
      "Multiprocess sampling (4 chains in 4 jobs)\n",
      "NUTS: [rv_output_logDLALCK_ALCK2, rv_DiffSlope_logDLALCK_ALCK2, rv_PoffSlope_logDLALCK_ALCK2, rv_intercept_logDLALCK_ALCK2]\n"
     ]
    },
    {
     "name": "stdout",
     "output_type": "stream",
     "text": [
      "i,y=(13, -1.05), j,x=(15, -1.25)\n"
     ]
    },
    {
     "name": "stderr",
     "output_type": "stream",
     "text": [
      "Auto-assigning NUTS sampler...\n",
      "Initializing NUTS using jitter+adapt_diag...\n",
      "Multiprocess sampling (4 chains in 4 jobs)\n",
      "NUTS: [rv_output_logDLALCK_ALCK2, rv_DiffSlope_logDLALCK_ALCK2, rv_PoffSlope_logDLALCK_ALCK2, rv_intercept_logDLALCK_ALCK2]\n"
     ]
    },
    {
     "name": "stdout",
     "output_type": "stream",
     "text": [
      "i,y=(13, -1.05), j,x=(16, -1.0)\n"
     ]
    },
    {
     "name": "stderr",
     "output_type": "stream",
     "text": [
      "Auto-assigning NUTS sampler...\n",
      "Initializing NUTS using jitter+adapt_diag...\n",
      "Multiprocess sampling (4 chains in 4 jobs)\n",
      "NUTS: [rv_output_logDLALCK_ALCK2, rv_DiffSlope_logDLALCK_ALCK2, rv_PoffSlope_logDLALCK_ALCK2, rv_intercept_logDLALCK_ALCK2]\n"
     ]
    },
    {
     "name": "stdout",
     "output_type": "stream",
     "text": [
      "i,y=(13, -1.05), j,x=(17, -0.75)\n"
     ]
    },
    {
     "name": "stderr",
     "output_type": "stream",
     "text": [
      "Auto-assigning NUTS sampler...\n",
      "Initializing NUTS using jitter+adapt_diag...\n",
      "Multiprocess sampling (4 chains in 4 jobs)\n",
      "NUTS: [rv_output_logDLALCK_ALCK2, rv_DiffSlope_logDLALCK_ALCK2, rv_PoffSlope_logDLALCK_ALCK2, rv_intercept_logDLALCK_ALCK2]\n"
     ]
    },
    {
     "name": "stdout",
     "output_type": "stream",
     "text": [
      "i,y=(13, -1.05), j,x=(18, -0.5)\n"
     ]
    },
    {
     "name": "stderr",
     "output_type": "stream",
     "text": [
      "Auto-assigning NUTS sampler...\n",
      "Initializing NUTS using jitter+adapt_diag...\n",
      "Multiprocess sampling (4 chains in 4 jobs)\n",
      "NUTS: [rv_output_logDLALCK_ALCK2, rv_DiffSlope_logDLALCK_ALCK2, rv_PoffSlope_logDLALCK_ALCK2, rv_intercept_logDLALCK_ALCK2]\n"
     ]
    },
    {
     "name": "stdout",
     "output_type": "stream",
     "text": [
      "i,y=(13, -1.05), j,x=(19, -0.25)\n"
     ]
    },
    {
     "name": "stderr",
     "output_type": "stream",
     "text": [
      "Auto-assigning NUTS sampler...\n",
      "Initializing NUTS using jitter+adapt_diag...\n",
      "Multiprocess sampling (4 chains in 4 jobs)\n",
      "NUTS: [rv_output_logDLALCK_ALCK2, rv_DiffSlope_logDLALCK_ALCK2, rv_PoffSlope_logDLALCK_ALCK2, rv_intercept_logDLALCK_ALCK2]\n"
     ]
    },
    {
     "name": "stdout",
     "output_type": "stream",
     "text": [
      "i,y=(14, -0.8999999999999999), j,x=(0, -5.0)\n"
     ]
    },
    {
     "name": "stderr",
     "output_type": "stream",
     "text": [
      "Auto-assigning NUTS sampler...\n",
      "Initializing NUTS using jitter+adapt_diag...\n",
      "Multiprocess sampling (4 chains in 4 jobs)\n",
      "NUTS: [rv_output_logDLALCK_ALCK2, rv_DiffSlope_logDLALCK_ALCK2, rv_PoffSlope_logDLALCK_ALCK2, rv_intercept_logDLALCK_ALCK2]\n"
     ]
    },
    {
     "name": "stdout",
     "output_type": "stream",
     "text": [
      "i,y=(14, -0.8999999999999999), j,x=(1, -4.75)\n"
     ]
    },
    {
     "name": "stderr",
     "output_type": "stream",
     "text": [
      "Auto-assigning NUTS sampler...\n",
      "Initializing NUTS using jitter+adapt_diag...\n",
      "Multiprocess sampling (4 chains in 4 jobs)\n",
      "NUTS: [rv_output_logDLALCK_ALCK2, rv_DiffSlope_logDLALCK_ALCK2, rv_PoffSlope_logDLALCK_ALCK2, rv_intercept_logDLALCK_ALCK2]\n"
     ]
    },
    {
     "name": "stdout",
     "output_type": "stream",
     "text": [
      "i,y=(14, -0.8999999999999999), j,x=(2, -4.5)\n"
     ]
    },
    {
     "name": "stderr",
     "output_type": "stream",
     "text": [
      "Auto-assigning NUTS sampler...\n",
      "Initializing NUTS using jitter+adapt_diag...\n",
      "Multiprocess sampling (4 chains in 4 jobs)\n",
      "NUTS: [rv_output_logDLALCK_ALCK2, rv_DiffSlope_logDLALCK_ALCK2, rv_PoffSlope_logDLALCK_ALCK2, rv_intercept_logDLALCK_ALCK2]\n"
     ]
    },
    {
     "name": "stdout",
     "output_type": "stream",
     "text": [
      "i,y=(14, -0.8999999999999999), j,x=(3, -4.25)\n"
     ]
    },
    {
     "name": "stderr",
     "output_type": "stream",
     "text": [
      "Auto-assigning NUTS sampler...\n",
      "Initializing NUTS using jitter+adapt_diag...\n",
      "Multiprocess sampling (4 chains in 4 jobs)\n",
      "NUTS: [rv_output_logDLALCK_ALCK2, rv_DiffSlope_logDLALCK_ALCK2, rv_PoffSlope_logDLALCK_ALCK2, rv_intercept_logDLALCK_ALCK2]\n"
     ]
    },
    {
     "name": "stdout",
     "output_type": "stream",
     "text": [
      "i,y=(14, -0.8999999999999999), j,x=(4, -4.0)\n"
     ]
    },
    {
     "name": "stderr",
     "output_type": "stream",
     "text": [
      "Auto-assigning NUTS sampler...\n",
      "Initializing NUTS using jitter+adapt_diag...\n",
      "Multiprocess sampling (4 chains in 4 jobs)\n",
      "NUTS: [rv_output_logDLALCK_ALCK2, rv_DiffSlope_logDLALCK_ALCK2, rv_PoffSlope_logDLALCK_ALCK2, rv_intercept_logDLALCK_ALCK2]\n"
     ]
    },
    {
     "name": "stdout",
     "output_type": "stream",
     "text": [
      "i,y=(14, -0.8999999999999999), j,x=(5, -3.75)\n"
     ]
    },
    {
     "name": "stderr",
     "output_type": "stream",
     "text": [
      "Auto-assigning NUTS sampler...\n",
      "Initializing NUTS using jitter+adapt_diag...\n",
      "Multiprocess sampling (4 chains in 4 jobs)\n",
      "NUTS: [rv_output_logDLALCK_ALCK2, rv_DiffSlope_logDLALCK_ALCK2, rv_PoffSlope_logDLALCK_ALCK2, rv_intercept_logDLALCK_ALCK2]\n"
     ]
    },
    {
     "name": "stdout",
     "output_type": "stream",
     "text": [
      "i,y=(14, -0.8999999999999999), j,x=(6, -3.5)\n"
     ]
    },
    {
     "name": "stderr",
     "output_type": "stream",
     "text": [
      "Auto-assigning NUTS sampler...\n",
      "Initializing NUTS using jitter+adapt_diag...\n",
      "Multiprocess sampling (4 chains in 4 jobs)\n",
      "NUTS: [rv_output_logDLALCK_ALCK2, rv_DiffSlope_logDLALCK_ALCK2, rv_PoffSlope_logDLALCK_ALCK2, rv_intercept_logDLALCK_ALCK2]\n"
     ]
    },
    {
     "name": "stdout",
     "output_type": "stream",
     "text": [
      "i,y=(14, -0.8999999999999999), j,x=(7, -3.25)\n"
     ]
    },
    {
     "name": "stderr",
     "output_type": "stream",
     "text": [
      "Auto-assigning NUTS sampler...\n",
      "Initializing NUTS using jitter+adapt_diag...\n",
      "Multiprocess sampling (4 chains in 4 jobs)\n",
      "NUTS: [rv_output_logDLALCK_ALCK2, rv_DiffSlope_logDLALCK_ALCK2, rv_PoffSlope_logDLALCK_ALCK2, rv_intercept_logDLALCK_ALCK2]\n"
     ]
    },
    {
     "name": "stdout",
     "output_type": "stream",
     "text": [
      "i,y=(14, -0.8999999999999999), j,x=(8, -3.0)\n"
     ]
    },
    {
     "name": "stderr",
     "output_type": "stream",
     "text": [
      "Auto-assigning NUTS sampler...\n",
      "Initializing NUTS using jitter+adapt_diag...\n",
      "Multiprocess sampling (4 chains in 4 jobs)\n",
      "NUTS: [rv_output_logDLALCK_ALCK2, rv_DiffSlope_logDLALCK_ALCK2, rv_PoffSlope_logDLALCK_ALCK2, rv_intercept_logDLALCK_ALCK2]\n"
     ]
    },
    {
     "name": "stdout",
     "output_type": "stream",
     "text": [
      "i,y=(14, -0.8999999999999999), j,x=(9, -2.75)\n"
     ]
    },
    {
     "name": "stderr",
     "output_type": "stream",
     "text": [
      "Auto-assigning NUTS sampler...\n",
      "Initializing NUTS using jitter+adapt_diag...\n",
      "Multiprocess sampling (4 chains in 4 jobs)\n",
      "NUTS: [rv_output_logDLALCK_ALCK2, rv_DiffSlope_logDLALCK_ALCK2, rv_PoffSlope_logDLALCK_ALCK2, rv_intercept_logDLALCK_ALCK2]\n"
     ]
    },
    {
     "name": "stdout",
     "output_type": "stream",
     "text": [
      "i,y=(14, -0.8999999999999999), j,x=(10, -2.5)\n"
     ]
    },
    {
     "name": "stderr",
     "output_type": "stream",
     "text": [
      "Auto-assigning NUTS sampler...\n",
      "Initializing NUTS using jitter+adapt_diag...\n",
      "Multiprocess sampling (4 chains in 4 jobs)\n",
      "NUTS: [rv_output_logDLALCK_ALCK2, rv_DiffSlope_logDLALCK_ALCK2, rv_PoffSlope_logDLALCK_ALCK2, rv_intercept_logDLALCK_ALCK2]\n"
     ]
    },
    {
     "name": "stdout",
     "output_type": "stream",
     "text": [
      "i,y=(14, -0.8999999999999999), j,x=(11, -2.25)\n"
     ]
    },
    {
     "name": "stderr",
     "output_type": "stream",
     "text": [
      "Auto-assigning NUTS sampler...\n",
      "Initializing NUTS using jitter+adapt_diag...\n",
      "Multiprocess sampling (4 chains in 4 jobs)\n",
      "NUTS: [rv_output_logDLALCK_ALCK2, rv_DiffSlope_logDLALCK_ALCK2, rv_PoffSlope_logDLALCK_ALCK2, rv_intercept_logDLALCK_ALCK2]\n"
     ]
    },
    {
     "name": "stdout",
     "output_type": "stream",
     "text": [
      "i,y=(14, -0.8999999999999999), j,x=(12, -2.0)\n"
     ]
    },
    {
     "name": "stderr",
     "output_type": "stream",
     "text": [
      "Auto-assigning NUTS sampler...\n",
      "Initializing NUTS using jitter+adapt_diag...\n",
      "Multiprocess sampling (4 chains in 4 jobs)\n",
      "NUTS: [rv_output_logDLALCK_ALCK2, rv_DiffSlope_logDLALCK_ALCK2, rv_PoffSlope_logDLALCK_ALCK2, rv_intercept_logDLALCK_ALCK2]\n"
     ]
    },
    {
     "name": "stdout",
     "output_type": "stream",
     "text": [
      "i,y=(14, -0.8999999999999999), j,x=(13, -1.75)\n"
     ]
    },
    {
     "name": "stderr",
     "output_type": "stream",
     "text": [
      "Auto-assigning NUTS sampler...\n",
      "Initializing NUTS using jitter+adapt_diag...\n",
      "Multiprocess sampling (4 chains in 4 jobs)\n",
      "NUTS: [rv_output_logDLALCK_ALCK2, rv_DiffSlope_logDLALCK_ALCK2, rv_PoffSlope_logDLALCK_ALCK2, rv_intercept_logDLALCK_ALCK2]\n"
     ]
    },
    {
     "name": "stdout",
     "output_type": "stream",
     "text": [
      "i,y=(14, -0.8999999999999999), j,x=(14, -1.5)\n"
     ]
    },
    {
     "name": "stderr",
     "output_type": "stream",
     "text": [
      "Auto-assigning NUTS sampler...\n",
      "Initializing NUTS using jitter+adapt_diag...\n",
      "Multiprocess sampling (4 chains in 4 jobs)\n",
      "NUTS: [rv_output_logDLALCK_ALCK2, rv_DiffSlope_logDLALCK_ALCK2, rv_PoffSlope_logDLALCK_ALCK2, rv_intercept_logDLALCK_ALCK2]\n"
     ]
    },
    {
     "name": "stdout",
     "output_type": "stream",
     "text": [
      "i,y=(14, -0.8999999999999999), j,x=(15, -1.25)\n"
     ]
    },
    {
     "name": "stderr",
     "output_type": "stream",
     "text": [
      "Auto-assigning NUTS sampler...\n",
      "Initializing NUTS using jitter+adapt_diag...\n",
      "Multiprocess sampling (4 chains in 4 jobs)\n",
      "NUTS: [rv_output_logDLALCK_ALCK2, rv_DiffSlope_logDLALCK_ALCK2, rv_PoffSlope_logDLALCK_ALCK2, rv_intercept_logDLALCK_ALCK2]\n"
     ]
    },
    {
     "name": "stdout",
     "output_type": "stream",
     "text": [
      "i,y=(14, -0.8999999999999999), j,x=(16, -1.0)\n"
     ]
    },
    {
     "name": "stderr",
     "output_type": "stream",
     "text": [
      "Auto-assigning NUTS sampler...\n",
      "Initializing NUTS using jitter+adapt_diag...\n",
      "Multiprocess sampling (4 chains in 4 jobs)\n",
      "NUTS: [rv_output_logDLALCK_ALCK2, rv_DiffSlope_logDLALCK_ALCK2, rv_PoffSlope_logDLALCK_ALCK2, rv_intercept_logDLALCK_ALCK2]\n"
     ]
    },
    {
     "name": "stdout",
     "output_type": "stream",
     "text": [
      "i,y=(14, -0.8999999999999999), j,x=(17, -0.75)\n"
     ]
    },
    {
     "name": "stderr",
     "output_type": "stream",
     "text": [
      "Auto-assigning NUTS sampler...\n",
      "Initializing NUTS using jitter+adapt_diag...\n",
      "Multiprocess sampling (4 chains in 4 jobs)\n",
      "NUTS: [rv_output_logDLALCK_ALCK2, rv_DiffSlope_logDLALCK_ALCK2, rv_PoffSlope_logDLALCK_ALCK2, rv_intercept_logDLALCK_ALCK2]\n"
     ]
    },
    {
     "name": "stdout",
     "output_type": "stream",
     "text": [
      "i,y=(14, -0.8999999999999999), j,x=(18, -0.5)\n"
     ]
    },
    {
     "name": "stderr",
     "output_type": "stream",
     "text": [
      "Auto-assigning NUTS sampler...\n",
      "Initializing NUTS using jitter+adapt_diag...\n",
      "Multiprocess sampling (4 chains in 4 jobs)\n",
      "NUTS: [rv_output_logDLALCK_ALCK2, rv_DiffSlope_logDLALCK_ALCK2, rv_PoffSlope_logDLALCK_ALCK2, rv_intercept_logDLALCK_ALCK2]\n"
     ]
    },
    {
     "name": "stdout",
     "output_type": "stream",
     "text": [
      "i,y=(14, -0.8999999999999999), j,x=(19, -0.25)\n"
     ]
    },
    {
     "name": "stderr",
     "output_type": "stream",
     "text": [
      "Auto-assigning NUTS sampler...\n",
      "Initializing NUTS using jitter+adapt_diag...\n",
      "Multiprocess sampling (4 chains in 4 jobs)\n",
      "NUTS: [rv_output_logDLALCK_ALCK2, rv_DiffSlope_logDLALCK_ALCK2, rv_PoffSlope_logDLALCK_ALCK2, rv_intercept_logDLALCK_ALCK2]\n"
     ]
    },
    {
     "name": "stdout",
     "output_type": "stream",
     "text": [
      "i,y=(15, -0.75), j,x=(0, -5.0)\n"
     ]
    },
    {
     "name": "stderr",
     "output_type": "stream",
     "text": [
      "Auto-assigning NUTS sampler...\n",
      "Initializing NUTS using jitter+adapt_diag...\n",
      "Multiprocess sampling (4 chains in 4 jobs)\n",
      "NUTS: [rv_output_logDLALCK_ALCK2, rv_DiffSlope_logDLALCK_ALCK2, rv_PoffSlope_logDLALCK_ALCK2, rv_intercept_logDLALCK_ALCK2]\n"
     ]
    },
    {
     "name": "stdout",
     "output_type": "stream",
     "text": [
      "i,y=(15, -0.75), j,x=(1, -4.75)\n"
     ]
    },
    {
     "name": "stderr",
     "output_type": "stream",
     "text": [
      "Auto-assigning NUTS sampler...\n",
      "Initializing NUTS using jitter+adapt_diag...\n",
      "Multiprocess sampling (4 chains in 4 jobs)\n",
      "NUTS: [rv_output_logDLALCK_ALCK2, rv_DiffSlope_logDLALCK_ALCK2, rv_PoffSlope_logDLALCK_ALCK2, rv_intercept_logDLALCK_ALCK2]\n"
     ]
    },
    {
     "name": "stdout",
     "output_type": "stream",
     "text": [
      "i,y=(15, -0.75), j,x=(2, -4.5)\n"
     ]
    },
    {
     "name": "stderr",
     "output_type": "stream",
     "text": [
      "Auto-assigning NUTS sampler...\n",
      "Initializing NUTS using jitter+adapt_diag...\n",
      "Multiprocess sampling (4 chains in 4 jobs)\n",
      "NUTS: [rv_output_logDLALCK_ALCK2, rv_DiffSlope_logDLALCK_ALCK2, rv_PoffSlope_logDLALCK_ALCK2, rv_intercept_logDLALCK_ALCK2]\n"
     ]
    },
    {
     "name": "stdout",
     "output_type": "stream",
     "text": [
      "i,y=(15, -0.75), j,x=(3, -4.25)\n"
     ]
    },
    {
     "name": "stderr",
     "output_type": "stream",
     "text": [
      "Auto-assigning NUTS sampler...\n",
      "Initializing NUTS using jitter+adapt_diag...\n",
      "Multiprocess sampling (4 chains in 4 jobs)\n",
      "NUTS: [rv_output_logDLALCK_ALCK2, rv_DiffSlope_logDLALCK_ALCK2, rv_PoffSlope_logDLALCK_ALCK2, rv_intercept_logDLALCK_ALCK2]\n"
     ]
    },
    {
     "name": "stdout",
     "output_type": "stream",
     "text": [
      "i,y=(15, -0.75), j,x=(4, -4.0)\n"
     ]
    },
    {
     "name": "stderr",
     "output_type": "stream",
     "text": [
      "Auto-assigning NUTS sampler...\n",
      "Initializing NUTS using jitter+adapt_diag...\n",
      "Multiprocess sampling (4 chains in 4 jobs)\n",
      "NUTS: [rv_output_logDLALCK_ALCK2, rv_DiffSlope_logDLALCK_ALCK2, rv_PoffSlope_logDLALCK_ALCK2, rv_intercept_logDLALCK_ALCK2]\n"
     ]
    },
    {
     "name": "stdout",
     "output_type": "stream",
     "text": [
      "i,y=(15, -0.75), j,x=(5, -3.75)\n"
     ]
    },
    {
     "name": "stderr",
     "output_type": "stream",
     "text": [
      "Auto-assigning NUTS sampler...\n",
      "Initializing NUTS using jitter+adapt_diag...\n",
      "Multiprocess sampling (4 chains in 4 jobs)\n",
      "NUTS: [rv_output_logDLALCK_ALCK2, rv_DiffSlope_logDLALCK_ALCK2, rv_PoffSlope_logDLALCK_ALCK2, rv_intercept_logDLALCK_ALCK2]\n"
     ]
    },
    {
     "name": "stdout",
     "output_type": "stream",
     "text": [
      "i,y=(15, -0.75), j,x=(6, -3.5)\n"
     ]
    },
    {
     "name": "stderr",
     "output_type": "stream",
     "text": [
      "Auto-assigning NUTS sampler...\n",
      "Initializing NUTS using jitter+adapt_diag...\n",
      "Multiprocess sampling (4 chains in 4 jobs)\n",
      "NUTS: [rv_output_logDLALCK_ALCK2, rv_DiffSlope_logDLALCK_ALCK2, rv_PoffSlope_logDLALCK_ALCK2, rv_intercept_logDLALCK_ALCK2]\n"
     ]
    },
    {
     "name": "stdout",
     "output_type": "stream",
     "text": [
      "i,y=(15, -0.75), j,x=(7, -3.25)\n"
     ]
    },
    {
     "name": "stderr",
     "output_type": "stream",
     "text": [
      "Auto-assigning NUTS sampler...\n",
      "Initializing NUTS using jitter+adapt_diag...\n",
      "Multiprocess sampling (4 chains in 4 jobs)\n",
      "NUTS: [rv_output_logDLALCK_ALCK2, rv_DiffSlope_logDLALCK_ALCK2, rv_PoffSlope_logDLALCK_ALCK2, rv_intercept_logDLALCK_ALCK2]\n"
     ]
    },
    {
     "name": "stdout",
     "output_type": "stream",
     "text": [
      "i,y=(15, -0.75), j,x=(8, -3.0)\n"
     ]
    },
    {
     "name": "stderr",
     "output_type": "stream",
     "text": [
      "Auto-assigning NUTS sampler...\n",
      "Initializing NUTS using jitter+adapt_diag...\n",
      "Multiprocess sampling (4 chains in 4 jobs)\n",
      "NUTS: [rv_output_logDLALCK_ALCK2, rv_DiffSlope_logDLALCK_ALCK2, rv_PoffSlope_logDLALCK_ALCK2, rv_intercept_logDLALCK_ALCK2]\n"
     ]
    },
    {
     "name": "stdout",
     "output_type": "stream",
     "text": [
      "i,y=(15, -0.75), j,x=(9, -2.75)\n"
     ]
    },
    {
     "name": "stderr",
     "output_type": "stream",
     "text": [
      "Auto-assigning NUTS sampler...\n",
      "Initializing NUTS using jitter+adapt_diag...\n",
      "Multiprocess sampling (4 chains in 4 jobs)\n",
      "NUTS: [rv_output_logDLALCK_ALCK2, rv_DiffSlope_logDLALCK_ALCK2, rv_PoffSlope_logDLALCK_ALCK2, rv_intercept_logDLALCK_ALCK2]\n"
     ]
    },
    {
     "name": "stdout",
     "output_type": "stream",
     "text": [
      "i,y=(15, -0.75), j,x=(10, -2.5)\n"
     ]
    },
    {
     "name": "stderr",
     "output_type": "stream",
     "text": [
      "Auto-assigning NUTS sampler...\n",
      "Initializing NUTS using jitter+adapt_diag...\n",
      "Multiprocess sampling (4 chains in 4 jobs)\n",
      "NUTS: [rv_output_logDLALCK_ALCK2, rv_DiffSlope_logDLALCK_ALCK2, rv_PoffSlope_logDLALCK_ALCK2, rv_intercept_logDLALCK_ALCK2]\n"
     ]
    },
    {
     "name": "stdout",
     "output_type": "stream",
     "text": [
      "i,y=(15, -0.75), j,x=(11, -2.25)\n"
     ]
    },
    {
     "name": "stderr",
     "output_type": "stream",
     "text": [
      "Auto-assigning NUTS sampler...\n",
      "Initializing NUTS using jitter+adapt_diag...\n",
      "Multiprocess sampling (4 chains in 4 jobs)\n",
      "NUTS: [rv_output_logDLALCK_ALCK2, rv_DiffSlope_logDLALCK_ALCK2, rv_PoffSlope_logDLALCK_ALCK2, rv_intercept_logDLALCK_ALCK2]\n"
     ]
    },
    {
     "name": "stdout",
     "output_type": "stream",
     "text": [
      "i,y=(15, -0.75), j,x=(12, -2.0)\n"
     ]
    },
    {
     "name": "stderr",
     "output_type": "stream",
     "text": [
      "Auto-assigning NUTS sampler...\n",
      "Initializing NUTS using jitter+adapt_diag...\n",
      "Multiprocess sampling (4 chains in 4 jobs)\n",
      "NUTS: [rv_output_logDLALCK_ALCK2, rv_DiffSlope_logDLALCK_ALCK2, rv_PoffSlope_logDLALCK_ALCK2, rv_intercept_logDLALCK_ALCK2]\n"
     ]
    },
    {
     "name": "stdout",
     "output_type": "stream",
     "text": [
      "i,y=(15, -0.75), j,x=(13, -1.75)\n"
     ]
    },
    {
     "name": "stderr",
     "output_type": "stream",
     "text": [
      "Auto-assigning NUTS sampler...\n",
      "Initializing NUTS using jitter+adapt_diag...\n",
      "Multiprocess sampling (4 chains in 4 jobs)\n",
      "NUTS: [rv_output_logDLALCK_ALCK2, rv_DiffSlope_logDLALCK_ALCK2, rv_PoffSlope_logDLALCK_ALCK2, rv_intercept_logDLALCK_ALCK2]\n"
     ]
    },
    {
     "name": "stdout",
     "output_type": "stream",
     "text": [
      "i,y=(15, -0.75), j,x=(14, -1.5)\n"
     ]
    },
    {
     "name": "stderr",
     "output_type": "stream",
     "text": [
      "Auto-assigning NUTS sampler...\n",
      "Initializing NUTS using jitter+adapt_diag...\n",
      "Multiprocess sampling (4 chains in 4 jobs)\n",
      "NUTS: [rv_output_logDLALCK_ALCK2, rv_DiffSlope_logDLALCK_ALCK2, rv_PoffSlope_logDLALCK_ALCK2, rv_intercept_logDLALCK_ALCK2]\n"
     ]
    },
    {
     "name": "stdout",
     "output_type": "stream",
     "text": [
      "i,y=(15, -0.75), j,x=(15, -1.25)\n"
     ]
    },
    {
     "name": "stderr",
     "output_type": "stream",
     "text": [
      "Auto-assigning NUTS sampler...\n",
      "Initializing NUTS using jitter+adapt_diag...\n",
      "Multiprocess sampling (4 chains in 4 jobs)\n",
      "NUTS: [rv_output_logDLALCK_ALCK2, rv_DiffSlope_logDLALCK_ALCK2, rv_PoffSlope_logDLALCK_ALCK2, rv_intercept_logDLALCK_ALCK2]\n"
     ]
    },
    {
     "name": "stdout",
     "output_type": "stream",
     "text": [
      "i,y=(15, -0.75), j,x=(16, -1.0)\n"
     ]
    },
    {
     "name": "stderr",
     "output_type": "stream",
     "text": [
      "Auto-assigning NUTS sampler...\n",
      "Initializing NUTS using jitter+adapt_diag...\n",
      "Multiprocess sampling (4 chains in 4 jobs)\n",
      "NUTS: [rv_output_logDLALCK_ALCK2, rv_DiffSlope_logDLALCK_ALCK2, rv_PoffSlope_logDLALCK_ALCK2, rv_intercept_logDLALCK_ALCK2]\n"
     ]
    },
    {
     "name": "stdout",
     "output_type": "stream",
     "text": [
      "i,y=(15, -0.75), j,x=(17, -0.75)\n"
     ]
    },
    {
     "name": "stderr",
     "output_type": "stream",
     "text": [
      "Auto-assigning NUTS sampler...\n",
      "Initializing NUTS using jitter+adapt_diag...\n",
      "Multiprocess sampling (4 chains in 4 jobs)\n",
      "NUTS: [rv_output_logDLALCK_ALCK2, rv_DiffSlope_logDLALCK_ALCK2, rv_PoffSlope_logDLALCK_ALCK2, rv_intercept_logDLALCK_ALCK2]\n"
     ]
    },
    {
     "name": "stdout",
     "output_type": "stream",
     "text": [
      "i,y=(15, -0.75), j,x=(18, -0.5)\n"
     ]
    },
    {
     "name": "stderr",
     "output_type": "stream",
     "text": [
      "Auto-assigning NUTS sampler...\n",
      "Initializing NUTS using jitter+adapt_diag...\n",
      "Multiprocess sampling (4 chains in 4 jobs)\n",
      "NUTS: [rv_output_logDLALCK_ALCK2, rv_DiffSlope_logDLALCK_ALCK2, rv_PoffSlope_logDLALCK_ALCK2, rv_intercept_logDLALCK_ALCK2]\n"
     ]
    },
    {
     "name": "stdout",
     "output_type": "stream",
     "text": [
      "i,y=(15, -0.75), j,x=(19, -0.25)\n"
     ]
    },
    {
     "name": "stderr",
     "output_type": "stream",
     "text": [
      "Auto-assigning NUTS sampler...\n",
      "Initializing NUTS using jitter+adapt_diag...\n",
      "Multiprocess sampling (4 chains in 4 jobs)\n",
      "NUTS: [rv_output_logDLALCK_ALCK2, rv_DiffSlope_logDLALCK_ALCK2, rv_PoffSlope_logDLALCK_ALCK2, rv_intercept_logDLALCK_ALCK2]\n"
     ]
    },
    {
     "name": "stdout",
     "output_type": "stream",
     "text": [
      "i,y=(16, -0.6000000000000001), j,x=(0, -5.0)\n"
     ]
    },
    {
     "name": "stderr",
     "output_type": "stream",
     "text": [
      "Auto-assigning NUTS sampler...\n",
      "Initializing NUTS using jitter+adapt_diag...\n",
      "Multiprocess sampling (4 chains in 4 jobs)\n",
      "NUTS: [rv_output_logDLALCK_ALCK2, rv_DiffSlope_logDLALCK_ALCK2, rv_PoffSlope_logDLALCK_ALCK2, rv_intercept_logDLALCK_ALCK2]\n"
     ]
    },
    {
     "name": "stdout",
     "output_type": "stream",
     "text": [
      "i,y=(16, -0.6000000000000001), j,x=(1, -4.75)\n"
     ]
    },
    {
     "name": "stderr",
     "output_type": "stream",
     "text": [
      "Auto-assigning NUTS sampler...\n",
      "Initializing NUTS using jitter+adapt_diag...\n",
      "Multiprocess sampling (4 chains in 4 jobs)\n",
      "NUTS: [rv_output_logDLALCK_ALCK2, rv_DiffSlope_logDLALCK_ALCK2, rv_PoffSlope_logDLALCK_ALCK2, rv_intercept_logDLALCK_ALCK2]\n"
     ]
    },
    {
     "name": "stdout",
     "output_type": "stream",
     "text": [
      "i,y=(16, -0.6000000000000001), j,x=(2, -4.5)\n"
     ]
    },
    {
     "name": "stderr",
     "output_type": "stream",
     "text": [
      "Auto-assigning NUTS sampler...\n",
      "Initializing NUTS using jitter+adapt_diag...\n",
      "Multiprocess sampling (4 chains in 4 jobs)\n",
      "NUTS: [rv_output_logDLALCK_ALCK2, rv_DiffSlope_logDLALCK_ALCK2, rv_PoffSlope_logDLALCK_ALCK2, rv_intercept_logDLALCK_ALCK2]\n"
     ]
    },
    {
     "name": "stdout",
     "output_type": "stream",
     "text": [
      "i,y=(16, -0.6000000000000001), j,x=(3, -4.25)\n"
     ]
    },
    {
     "name": "stderr",
     "output_type": "stream",
     "text": [
      "Auto-assigning NUTS sampler...\n",
      "Initializing NUTS using jitter+adapt_diag...\n",
      "Multiprocess sampling (4 chains in 4 jobs)\n",
      "NUTS: [rv_output_logDLALCK_ALCK2, rv_DiffSlope_logDLALCK_ALCK2, rv_PoffSlope_logDLALCK_ALCK2, rv_intercept_logDLALCK_ALCK2]\n"
     ]
    },
    {
     "name": "stdout",
     "output_type": "stream",
     "text": [
      "i,y=(16, -0.6000000000000001), j,x=(4, -4.0)\n"
     ]
    },
    {
     "name": "stderr",
     "output_type": "stream",
     "text": [
      "Auto-assigning NUTS sampler...\n",
      "Initializing NUTS using jitter+adapt_diag...\n",
      "Multiprocess sampling (4 chains in 4 jobs)\n",
      "NUTS: [rv_output_logDLALCK_ALCK2, rv_DiffSlope_logDLALCK_ALCK2, rv_PoffSlope_logDLALCK_ALCK2, rv_intercept_logDLALCK_ALCK2]\n"
     ]
    },
    {
     "name": "stdout",
     "output_type": "stream",
     "text": [
      "i,y=(16, -0.6000000000000001), j,x=(5, -3.75)\n"
     ]
    },
    {
     "name": "stderr",
     "output_type": "stream",
     "text": [
      "Auto-assigning NUTS sampler...\n",
      "Initializing NUTS using jitter+adapt_diag...\n",
      "Multiprocess sampling (4 chains in 4 jobs)\n",
      "NUTS: [rv_output_logDLALCK_ALCK2, rv_DiffSlope_logDLALCK_ALCK2, rv_PoffSlope_logDLALCK_ALCK2, rv_intercept_logDLALCK_ALCK2]\n"
     ]
    },
    {
     "name": "stdout",
     "output_type": "stream",
     "text": [
      "i,y=(16, -0.6000000000000001), j,x=(6, -3.5)\n"
     ]
    },
    {
     "name": "stderr",
     "output_type": "stream",
     "text": [
      "Auto-assigning NUTS sampler...\n",
      "Initializing NUTS using jitter+adapt_diag...\n",
      "Multiprocess sampling (4 chains in 4 jobs)\n",
      "NUTS: [rv_output_logDLALCK_ALCK2, rv_DiffSlope_logDLALCK_ALCK2, rv_PoffSlope_logDLALCK_ALCK2, rv_intercept_logDLALCK_ALCK2]\n"
     ]
    },
    {
     "name": "stdout",
     "output_type": "stream",
     "text": [
      "i,y=(16, -0.6000000000000001), j,x=(7, -3.25)\n"
     ]
    },
    {
     "name": "stderr",
     "output_type": "stream",
     "text": [
      "Auto-assigning NUTS sampler...\n",
      "Initializing NUTS using jitter+adapt_diag...\n",
      "Multiprocess sampling (4 chains in 4 jobs)\n",
      "NUTS: [rv_output_logDLALCK_ALCK2, rv_DiffSlope_logDLALCK_ALCK2, rv_PoffSlope_logDLALCK_ALCK2, rv_intercept_logDLALCK_ALCK2]\n"
     ]
    },
    {
     "name": "stdout",
     "output_type": "stream",
     "text": [
      "i,y=(16, -0.6000000000000001), j,x=(8, -3.0)\n"
     ]
    },
    {
     "name": "stderr",
     "output_type": "stream",
     "text": [
      "Auto-assigning NUTS sampler...\n",
      "Initializing NUTS using jitter+adapt_diag...\n",
      "Multiprocess sampling (4 chains in 4 jobs)\n",
      "NUTS: [rv_output_logDLALCK_ALCK2, rv_DiffSlope_logDLALCK_ALCK2, rv_PoffSlope_logDLALCK_ALCK2, rv_intercept_logDLALCK_ALCK2]\n"
     ]
    },
    {
     "name": "stdout",
     "output_type": "stream",
     "text": [
      "i,y=(16, -0.6000000000000001), j,x=(9, -2.75)\n"
     ]
    },
    {
     "name": "stderr",
     "output_type": "stream",
     "text": [
      "Auto-assigning NUTS sampler...\n",
      "Initializing NUTS using jitter+adapt_diag...\n",
      "Multiprocess sampling (4 chains in 4 jobs)\n",
      "NUTS: [rv_output_logDLALCK_ALCK2, rv_DiffSlope_logDLALCK_ALCK2, rv_PoffSlope_logDLALCK_ALCK2, rv_intercept_logDLALCK_ALCK2]\n"
     ]
    },
    {
     "name": "stdout",
     "output_type": "stream",
     "text": [
      "i,y=(16, -0.6000000000000001), j,x=(10, -2.5)\n"
     ]
    },
    {
     "name": "stderr",
     "output_type": "stream",
     "text": [
      "Auto-assigning NUTS sampler...\n",
      "Initializing NUTS using jitter+adapt_diag...\n",
      "Multiprocess sampling (4 chains in 4 jobs)\n",
      "NUTS: [rv_output_logDLALCK_ALCK2, rv_DiffSlope_logDLALCK_ALCK2, rv_PoffSlope_logDLALCK_ALCK2, rv_intercept_logDLALCK_ALCK2]\n"
     ]
    },
    {
     "name": "stdout",
     "output_type": "stream",
     "text": [
      "i,y=(16, -0.6000000000000001), j,x=(11, -2.25)\n"
     ]
    },
    {
     "name": "stderr",
     "output_type": "stream",
     "text": [
      "Auto-assigning NUTS sampler...\n",
      "Initializing NUTS using jitter+adapt_diag...\n",
      "Multiprocess sampling (4 chains in 4 jobs)\n",
      "NUTS: [rv_output_logDLALCK_ALCK2, rv_DiffSlope_logDLALCK_ALCK2, rv_PoffSlope_logDLALCK_ALCK2, rv_intercept_logDLALCK_ALCK2]\n"
     ]
    },
    {
     "name": "stdout",
     "output_type": "stream",
     "text": [
      "i,y=(16, -0.6000000000000001), j,x=(12, -2.0)\n"
     ]
    },
    {
     "name": "stderr",
     "output_type": "stream",
     "text": [
      "Auto-assigning NUTS sampler...\n",
      "Initializing NUTS using jitter+adapt_diag...\n",
      "Multiprocess sampling (4 chains in 4 jobs)\n",
      "NUTS: [rv_output_logDLALCK_ALCK2, rv_DiffSlope_logDLALCK_ALCK2, rv_PoffSlope_logDLALCK_ALCK2, rv_intercept_logDLALCK_ALCK2]\n"
     ]
    },
    {
     "name": "stdout",
     "output_type": "stream",
     "text": [
      "i,y=(16, -0.6000000000000001), j,x=(13, -1.75)\n"
     ]
    },
    {
     "name": "stderr",
     "output_type": "stream",
     "text": [
      "Auto-assigning NUTS sampler...\n",
      "Initializing NUTS using jitter+adapt_diag...\n",
      "Multiprocess sampling (4 chains in 4 jobs)\n",
      "NUTS: [rv_output_logDLALCK_ALCK2, rv_DiffSlope_logDLALCK_ALCK2, rv_PoffSlope_logDLALCK_ALCK2, rv_intercept_logDLALCK_ALCK2]\n"
     ]
    },
    {
     "name": "stdout",
     "output_type": "stream",
     "text": [
      "i,y=(16, -0.6000000000000001), j,x=(14, -1.5)\n"
     ]
    },
    {
     "name": "stderr",
     "output_type": "stream",
     "text": [
      "Auto-assigning NUTS sampler...\n",
      "Initializing NUTS using jitter+adapt_diag...\n",
      "Multiprocess sampling (4 chains in 4 jobs)\n",
      "NUTS: [rv_output_logDLALCK_ALCK2, rv_DiffSlope_logDLALCK_ALCK2, rv_PoffSlope_logDLALCK_ALCK2, rv_intercept_logDLALCK_ALCK2]\n"
     ]
    },
    {
     "name": "stdout",
     "output_type": "stream",
     "text": [
      "i,y=(16, -0.6000000000000001), j,x=(15, -1.25)\n"
     ]
    },
    {
     "name": "stderr",
     "output_type": "stream",
     "text": [
      "Auto-assigning NUTS sampler...\n",
      "Initializing NUTS using jitter+adapt_diag...\n",
      "Multiprocess sampling (4 chains in 4 jobs)\n",
      "NUTS: [rv_output_logDLALCK_ALCK2, rv_DiffSlope_logDLALCK_ALCK2, rv_PoffSlope_logDLALCK_ALCK2, rv_intercept_logDLALCK_ALCK2]\n"
     ]
    },
    {
     "name": "stdout",
     "output_type": "stream",
     "text": [
      "i,y=(16, -0.6000000000000001), j,x=(16, -1.0)\n"
     ]
    },
    {
     "name": "stderr",
     "output_type": "stream",
     "text": [
      "Auto-assigning NUTS sampler...\n",
      "Initializing NUTS using jitter+adapt_diag...\n",
      "Multiprocess sampling (4 chains in 4 jobs)\n",
      "NUTS: [rv_output_logDLALCK_ALCK2, rv_DiffSlope_logDLALCK_ALCK2, rv_PoffSlope_logDLALCK_ALCK2, rv_intercept_logDLALCK_ALCK2]\n"
     ]
    },
    {
     "name": "stdout",
     "output_type": "stream",
     "text": [
      "i,y=(16, -0.6000000000000001), j,x=(17, -0.75)\n"
     ]
    },
    {
     "name": "stderr",
     "output_type": "stream",
     "text": [
      "Auto-assigning NUTS sampler...\n",
      "Initializing NUTS using jitter+adapt_diag...\n",
      "Multiprocess sampling (4 chains in 4 jobs)\n",
      "NUTS: [rv_output_logDLALCK_ALCK2, rv_DiffSlope_logDLALCK_ALCK2, rv_PoffSlope_logDLALCK_ALCK2, rv_intercept_logDLALCK_ALCK2]\n"
     ]
    },
    {
     "name": "stdout",
     "output_type": "stream",
     "text": [
      "i,y=(16, -0.6000000000000001), j,x=(18, -0.5)\n"
     ]
    },
    {
     "name": "stderr",
     "output_type": "stream",
     "text": [
      "Auto-assigning NUTS sampler...\n",
      "Initializing NUTS using jitter+adapt_diag...\n",
      "Multiprocess sampling (4 chains in 4 jobs)\n",
      "NUTS: [rv_output_logDLALCK_ALCK2, rv_DiffSlope_logDLALCK_ALCK2, rv_PoffSlope_logDLALCK_ALCK2, rv_intercept_logDLALCK_ALCK2]\n"
     ]
    },
    {
     "name": "stdout",
     "output_type": "stream",
     "text": [
      "i,y=(16, -0.6000000000000001), j,x=(19, -0.25)\n"
     ]
    },
    {
     "name": "stderr",
     "output_type": "stream",
     "text": [
      "Auto-assigning NUTS sampler...\n",
      "Initializing NUTS using jitter+adapt_diag...\n",
      "Multiprocess sampling (4 chains in 4 jobs)\n",
      "NUTS: [rv_output_logDLALCK_ALCK2, rv_DiffSlope_logDLALCK_ALCK2, rv_PoffSlope_logDLALCK_ALCK2, rv_intercept_logDLALCK_ALCK2]\n"
     ]
    },
    {
     "name": "stdout",
     "output_type": "stream",
     "text": [
      "i,y=(17, -0.4500000000000002), j,x=(0, -5.0)\n"
     ]
    },
    {
     "name": "stderr",
     "output_type": "stream",
     "text": [
      "Auto-assigning NUTS sampler...\n",
      "Initializing NUTS using jitter+adapt_diag...\n",
      "Multiprocess sampling (4 chains in 4 jobs)\n",
      "NUTS: [rv_output_logDLALCK_ALCK2, rv_DiffSlope_logDLALCK_ALCK2, rv_PoffSlope_logDLALCK_ALCK2, rv_intercept_logDLALCK_ALCK2]\n"
     ]
    },
    {
     "name": "stdout",
     "output_type": "stream",
     "text": [
      "i,y=(17, -0.4500000000000002), j,x=(1, -4.75)\n"
     ]
    },
    {
     "name": "stderr",
     "output_type": "stream",
     "text": [
      "Auto-assigning NUTS sampler...\n",
      "Initializing NUTS using jitter+adapt_diag...\n",
      "Multiprocess sampling (4 chains in 4 jobs)\n",
      "NUTS: [rv_output_logDLALCK_ALCK2, rv_DiffSlope_logDLALCK_ALCK2, rv_PoffSlope_logDLALCK_ALCK2, rv_intercept_logDLALCK_ALCK2]\n"
     ]
    },
    {
     "name": "stdout",
     "output_type": "stream",
     "text": [
      "i,y=(17, -0.4500000000000002), j,x=(2, -4.5)\n"
     ]
    },
    {
     "name": "stderr",
     "output_type": "stream",
     "text": [
      "Auto-assigning NUTS sampler...\n",
      "Initializing NUTS using jitter+adapt_diag...\n",
      "Multiprocess sampling (4 chains in 4 jobs)\n",
      "NUTS: [rv_output_logDLALCK_ALCK2, rv_DiffSlope_logDLALCK_ALCK2, rv_PoffSlope_logDLALCK_ALCK2, rv_intercept_logDLALCK_ALCK2]\n"
     ]
    },
    {
     "name": "stdout",
     "output_type": "stream",
     "text": [
      "i,y=(17, -0.4500000000000002), j,x=(3, -4.25)\n"
     ]
    },
    {
     "name": "stderr",
     "output_type": "stream",
     "text": [
      "Auto-assigning NUTS sampler...\n",
      "Initializing NUTS using jitter+adapt_diag...\n",
      "Multiprocess sampling (4 chains in 4 jobs)\n",
      "NUTS: [rv_output_logDLALCK_ALCK2, rv_DiffSlope_logDLALCK_ALCK2, rv_PoffSlope_logDLALCK_ALCK2, rv_intercept_logDLALCK_ALCK2]\n"
     ]
    },
    {
     "name": "stdout",
     "output_type": "stream",
     "text": [
      "i,y=(17, -0.4500000000000002), j,x=(4, -4.0)\n"
     ]
    },
    {
     "name": "stderr",
     "output_type": "stream",
     "text": [
      "Auto-assigning NUTS sampler...\n",
      "Initializing NUTS using jitter+adapt_diag...\n",
      "Multiprocess sampling (4 chains in 4 jobs)\n",
      "NUTS: [rv_output_logDLALCK_ALCK2, rv_DiffSlope_logDLALCK_ALCK2, rv_PoffSlope_logDLALCK_ALCK2, rv_intercept_logDLALCK_ALCK2]\n"
     ]
    },
    {
     "name": "stdout",
     "output_type": "stream",
     "text": [
      "i,y=(17, -0.4500000000000002), j,x=(5, -3.75)\n"
     ]
    },
    {
     "name": "stderr",
     "output_type": "stream",
     "text": [
      "Auto-assigning NUTS sampler...\n",
      "Initializing NUTS using jitter+adapt_diag...\n",
      "Multiprocess sampling (4 chains in 4 jobs)\n",
      "NUTS: [rv_output_logDLALCK_ALCK2, rv_DiffSlope_logDLALCK_ALCK2, rv_PoffSlope_logDLALCK_ALCK2, rv_intercept_logDLALCK_ALCK2]\n"
     ]
    },
    {
     "name": "stdout",
     "output_type": "stream",
     "text": [
      "i,y=(17, -0.4500000000000002), j,x=(6, -3.5)\n"
     ]
    },
    {
     "name": "stderr",
     "output_type": "stream",
     "text": [
      "Auto-assigning NUTS sampler...\n",
      "Initializing NUTS using jitter+adapt_diag...\n",
      "Multiprocess sampling (4 chains in 4 jobs)\n",
      "NUTS: [rv_output_logDLALCK_ALCK2, rv_DiffSlope_logDLALCK_ALCK2, rv_PoffSlope_logDLALCK_ALCK2, rv_intercept_logDLALCK_ALCK2]\n"
     ]
    },
    {
     "name": "stdout",
     "output_type": "stream",
     "text": [
      "i,y=(17, -0.4500000000000002), j,x=(7, -3.25)\n"
     ]
    },
    {
     "name": "stderr",
     "output_type": "stream",
     "text": [
      "Auto-assigning NUTS sampler...\n",
      "Initializing NUTS using jitter+adapt_diag...\n",
      "Multiprocess sampling (4 chains in 4 jobs)\n",
      "NUTS: [rv_output_logDLALCK_ALCK2, rv_DiffSlope_logDLALCK_ALCK2, rv_PoffSlope_logDLALCK_ALCK2, rv_intercept_logDLALCK_ALCK2]\n"
     ]
    },
    {
     "name": "stdout",
     "output_type": "stream",
     "text": [
      "i,y=(17, -0.4500000000000002), j,x=(8, -3.0)\n"
     ]
    },
    {
     "name": "stderr",
     "output_type": "stream",
     "text": [
      "Auto-assigning NUTS sampler...\n",
      "Initializing NUTS using jitter+adapt_diag...\n",
      "Multiprocess sampling (4 chains in 4 jobs)\n",
      "NUTS: [rv_output_logDLALCK_ALCK2, rv_DiffSlope_logDLALCK_ALCK2, rv_PoffSlope_logDLALCK_ALCK2, rv_intercept_logDLALCK_ALCK2]\n"
     ]
    },
    {
     "name": "stdout",
     "output_type": "stream",
     "text": [
      "i,y=(17, -0.4500000000000002), j,x=(9, -2.75)\n"
     ]
    },
    {
     "name": "stderr",
     "output_type": "stream",
     "text": [
      "Auto-assigning NUTS sampler...\n",
      "Initializing NUTS using jitter+adapt_diag...\n",
      "Multiprocess sampling (4 chains in 4 jobs)\n",
      "NUTS: [rv_output_logDLALCK_ALCK2, rv_DiffSlope_logDLALCK_ALCK2, rv_PoffSlope_logDLALCK_ALCK2, rv_intercept_logDLALCK_ALCK2]\n"
     ]
    },
    {
     "name": "stdout",
     "output_type": "stream",
     "text": [
      "i,y=(17, -0.4500000000000002), j,x=(10, -2.5)\n"
     ]
    },
    {
     "name": "stderr",
     "output_type": "stream",
     "text": [
      "Auto-assigning NUTS sampler...\n",
      "Initializing NUTS using jitter+adapt_diag...\n",
      "Multiprocess sampling (4 chains in 4 jobs)\n",
      "NUTS: [rv_output_logDLALCK_ALCK2, rv_DiffSlope_logDLALCK_ALCK2, rv_PoffSlope_logDLALCK_ALCK2, rv_intercept_logDLALCK_ALCK2]\n"
     ]
    },
    {
     "name": "stdout",
     "output_type": "stream",
     "text": [
      "i,y=(17, -0.4500000000000002), j,x=(11, -2.25)\n"
     ]
    },
    {
     "name": "stderr",
     "output_type": "stream",
     "text": [
      "Auto-assigning NUTS sampler...\n",
      "Initializing NUTS using jitter+adapt_diag...\n",
      "Multiprocess sampling (4 chains in 4 jobs)\n",
      "NUTS: [rv_output_logDLALCK_ALCK2, rv_DiffSlope_logDLALCK_ALCK2, rv_PoffSlope_logDLALCK_ALCK2, rv_intercept_logDLALCK_ALCK2]\n"
     ]
    },
    {
     "name": "stdout",
     "output_type": "stream",
     "text": [
      "i,y=(17, -0.4500000000000002), j,x=(12, -2.0)\n"
     ]
    },
    {
     "name": "stderr",
     "output_type": "stream",
     "text": [
      "Auto-assigning NUTS sampler...\n",
      "Initializing NUTS using jitter+adapt_diag...\n",
      "Multiprocess sampling (4 chains in 4 jobs)\n",
      "NUTS: [rv_output_logDLALCK_ALCK2, rv_DiffSlope_logDLALCK_ALCK2, rv_PoffSlope_logDLALCK_ALCK2, rv_intercept_logDLALCK_ALCK2]\n"
     ]
    },
    {
     "name": "stdout",
     "output_type": "stream",
     "text": [
      "i,y=(17, -0.4500000000000002), j,x=(13, -1.75)\n"
     ]
    },
    {
     "name": "stderr",
     "output_type": "stream",
     "text": [
      "Auto-assigning NUTS sampler...\n",
      "Initializing NUTS using jitter+adapt_diag...\n",
      "Multiprocess sampling (4 chains in 4 jobs)\n",
      "NUTS: [rv_output_logDLALCK_ALCK2, rv_DiffSlope_logDLALCK_ALCK2, rv_PoffSlope_logDLALCK_ALCK2, rv_intercept_logDLALCK_ALCK2]\n"
     ]
    },
    {
     "name": "stdout",
     "output_type": "stream",
     "text": [
      "i,y=(17, -0.4500000000000002), j,x=(14, -1.5)\n"
     ]
    },
    {
     "name": "stderr",
     "output_type": "stream",
     "text": [
      "Auto-assigning NUTS sampler...\n",
      "Initializing NUTS using jitter+adapt_diag...\n",
      "Multiprocess sampling (4 chains in 4 jobs)\n",
      "NUTS: [rv_output_logDLALCK_ALCK2, rv_DiffSlope_logDLALCK_ALCK2, rv_PoffSlope_logDLALCK_ALCK2, rv_intercept_logDLALCK_ALCK2]\n"
     ]
    },
    {
     "name": "stdout",
     "output_type": "stream",
     "text": [
      "i,y=(17, -0.4500000000000002), j,x=(15, -1.25)\n"
     ]
    },
    {
     "name": "stderr",
     "output_type": "stream",
     "text": [
      "Auto-assigning NUTS sampler...\n",
      "Initializing NUTS using jitter+adapt_diag...\n",
      "Multiprocess sampling (4 chains in 4 jobs)\n",
      "NUTS: [rv_output_logDLALCK_ALCK2, rv_DiffSlope_logDLALCK_ALCK2, rv_PoffSlope_logDLALCK_ALCK2, rv_intercept_logDLALCK_ALCK2]\n"
     ]
    },
    {
     "name": "stdout",
     "output_type": "stream",
     "text": [
      "i,y=(17, -0.4500000000000002), j,x=(16, -1.0)\n"
     ]
    },
    {
     "name": "stderr",
     "output_type": "stream",
     "text": [
      "Auto-assigning NUTS sampler...\n",
      "Initializing NUTS using jitter+adapt_diag...\n",
      "Multiprocess sampling (4 chains in 4 jobs)\n",
      "NUTS: [rv_output_logDLALCK_ALCK2, rv_DiffSlope_logDLALCK_ALCK2, rv_PoffSlope_logDLALCK_ALCK2, rv_intercept_logDLALCK_ALCK2]\n"
     ]
    },
    {
     "name": "stdout",
     "output_type": "stream",
     "text": [
      "i,y=(17, -0.4500000000000002), j,x=(17, -0.75)\n"
     ]
    },
    {
     "name": "stderr",
     "output_type": "stream",
     "text": [
      "Auto-assigning NUTS sampler...\n",
      "Initializing NUTS using jitter+adapt_diag...\n",
      "Multiprocess sampling (4 chains in 4 jobs)\n",
      "NUTS: [rv_output_logDLALCK_ALCK2, rv_DiffSlope_logDLALCK_ALCK2, rv_PoffSlope_logDLALCK_ALCK2, rv_intercept_logDLALCK_ALCK2]\n"
     ]
    },
    {
     "name": "stdout",
     "output_type": "stream",
     "text": [
      "i,y=(17, -0.4500000000000002), j,x=(18, -0.5)\n"
     ]
    },
    {
     "name": "stderr",
     "output_type": "stream",
     "text": [
      "Auto-assigning NUTS sampler...\n",
      "Initializing NUTS using jitter+adapt_diag...\n",
      "Multiprocess sampling (4 chains in 4 jobs)\n",
      "NUTS: [rv_output_logDLALCK_ALCK2, rv_DiffSlope_logDLALCK_ALCK2, rv_PoffSlope_logDLALCK_ALCK2, rv_intercept_logDLALCK_ALCK2]\n"
     ]
    },
    {
     "name": "stdout",
     "output_type": "stream",
     "text": [
      "i,y=(17, -0.4500000000000002), j,x=(19, -0.25)\n"
     ]
    },
    {
     "name": "stderr",
     "output_type": "stream",
     "text": [
      "Auto-assigning NUTS sampler...\n",
      "Initializing NUTS using jitter+adapt_diag...\n",
      "Multiprocess sampling (4 chains in 4 jobs)\n",
      "NUTS: [rv_output_logDLALCK_ALCK2, rv_DiffSlope_logDLALCK_ALCK2, rv_PoffSlope_logDLALCK_ALCK2, rv_intercept_logDLALCK_ALCK2]\n"
     ]
    },
    {
     "name": "stdout",
     "output_type": "stream",
     "text": [
      "i,y=(18, -0.30000000000000027), j,x=(0, -5.0)\n"
     ]
    },
    {
     "name": "stderr",
     "output_type": "stream",
     "text": [
      "Auto-assigning NUTS sampler...\n",
      "Initializing NUTS using jitter+adapt_diag...\n",
      "Multiprocess sampling (4 chains in 4 jobs)\n",
      "NUTS: [rv_output_logDLALCK_ALCK2, rv_DiffSlope_logDLALCK_ALCK2, rv_PoffSlope_logDLALCK_ALCK2, rv_intercept_logDLALCK_ALCK2]\n"
     ]
    },
    {
     "name": "stdout",
     "output_type": "stream",
     "text": [
      "i,y=(18, -0.30000000000000027), j,x=(1, -4.75)\n"
     ]
    },
    {
     "name": "stderr",
     "output_type": "stream",
     "text": [
      "Auto-assigning NUTS sampler...\n",
      "Initializing NUTS using jitter+adapt_diag...\n",
      "Multiprocess sampling (4 chains in 4 jobs)\n",
      "NUTS: [rv_output_logDLALCK_ALCK2, rv_DiffSlope_logDLALCK_ALCK2, rv_PoffSlope_logDLALCK_ALCK2, rv_intercept_logDLALCK_ALCK2]\n"
     ]
    },
    {
     "name": "stdout",
     "output_type": "stream",
     "text": [
      "i,y=(18, -0.30000000000000027), j,x=(2, -4.5)\n"
     ]
    },
    {
     "name": "stderr",
     "output_type": "stream",
     "text": [
      "Auto-assigning NUTS sampler...\n",
      "Initializing NUTS using jitter+adapt_diag...\n",
      "Multiprocess sampling (4 chains in 4 jobs)\n",
      "NUTS: [rv_output_logDLALCK_ALCK2, rv_DiffSlope_logDLALCK_ALCK2, rv_PoffSlope_logDLALCK_ALCK2, rv_intercept_logDLALCK_ALCK2]\n",
      "The acceptance probability does not match the target. It is 0.8827157262943354, but should be close to 0.8. Try to increase the number of tuning steps.\n"
     ]
    },
    {
     "name": "stdout",
     "output_type": "stream",
     "text": [
      "i,y=(18, -0.30000000000000027), j,x=(3, -4.25)\n"
     ]
    },
    {
     "name": "stderr",
     "output_type": "stream",
     "text": [
      "Auto-assigning NUTS sampler...\n",
      "Initializing NUTS using jitter+adapt_diag...\n",
      "Multiprocess sampling (4 chains in 4 jobs)\n",
      "NUTS: [rv_output_logDLALCK_ALCK2, rv_DiffSlope_logDLALCK_ALCK2, rv_PoffSlope_logDLALCK_ALCK2, rv_intercept_logDLALCK_ALCK2]\n"
     ]
    },
    {
     "name": "stdout",
     "output_type": "stream",
     "text": [
      "i,y=(18, -0.30000000000000027), j,x=(4, -4.0)\n"
     ]
    },
    {
     "name": "stderr",
     "output_type": "stream",
     "text": [
      "Auto-assigning NUTS sampler...\n",
      "Initializing NUTS using jitter+adapt_diag...\n",
      "Multiprocess sampling (4 chains in 4 jobs)\n",
      "NUTS: [rv_output_logDLALCK_ALCK2, rv_DiffSlope_logDLALCK_ALCK2, rv_PoffSlope_logDLALCK_ALCK2, rv_intercept_logDLALCK_ALCK2]\n"
     ]
    },
    {
     "name": "stdout",
     "output_type": "stream",
     "text": [
      "i,y=(18, -0.30000000000000027), j,x=(5, -3.75)\n"
     ]
    },
    {
     "name": "stderr",
     "output_type": "stream",
     "text": [
      "Auto-assigning NUTS sampler...\n",
      "Initializing NUTS using jitter+adapt_diag...\n",
      "Multiprocess sampling (4 chains in 4 jobs)\n",
      "NUTS: [rv_output_logDLALCK_ALCK2, rv_DiffSlope_logDLALCK_ALCK2, rv_PoffSlope_logDLALCK_ALCK2, rv_intercept_logDLALCK_ALCK2]\n"
     ]
    },
    {
     "name": "stdout",
     "output_type": "stream",
     "text": [
      "i,y=(18, -0.30000000000000027), j,x=(6, -3.5)\n"
     ]
    },
    {
     "name": "stderr",
     "output_type": "stream",
     "text": [
      "Auto-assigning NUTS sampler...\n",
      "Initializing NUTS using jitter+adapt_diag...\n",
      "Multiprocess sampling (4 chains in 4 jobs)\n",
      "NUTS: [rv_output_logDLALCK_ALCK2, rv_DiffSlope_logDLALCK_ALCK2, rv_PoffSlope_logDLALCK_ALCK2, rv_intercept_logDLALCK_ALCK2]\n"
     ]
    },
    {
     "name": "stdout",
     "output_type": "stream",
     "text": [
      "i,y=(18, -0.30000000000000027), j,x=(7, -3.25)\n"
     ]
    },
    {
     "name": "stderr",
     "output_type": "stream",
     "text": [
      "Auto-assigning NUTS sampler...\n",
      "Initializing NUTS using jitter+adapt_diag...\n",
      "Multiprocess sampling (4 chains in 4 jobs)\n",
      "NUTS: [rv_output_logDLALCK_ALCK2, rv_DiffSlope_logDLALCK_ALCK2, rv_PoffSlope_logDLALCK_ALCK2, rv_intercept_logDLALCK_ALCK2]\n"
     ]
    },
    {
     "name": "stdout",
     "output_type": "stream",
     "text": [
      "i,y=(18, -0.30000000000000027), j,x=(8, -3.0)\n"
     ]
    },
    {
     "name": "stderr",
     "output_type": "stream",
     "text": [
      "Auto-assigning NUTS sampler...\n",
      "Initializing NUTS using jitter+adapt_diag...\n",
      "Multiprocess sampling (4 chains in 4 jobs)\n",
      "NUTS: [rv_output_logDLALCK_ALCK2, rv_DiffSlope_logDLALCK_ALCK2, rv_PoffSlope_logDLALCK_ALCK2, rv_intercept_logDLALCK_ALCK2]\n"
     ]
    },
    {
     "name": "stdout",
     "output_type": "stream",
     "text": [
      "i,y=(18, -0.30000000000000027), j,x=(9, -2.75)\n"
     ]
    },
    {
     "name": "stderr",
     "output_type": "stream",
     "text": [
      "Auto-assigning NUTS sampler...\n",
      "Initializing NUTS using jitter+adapt_diag...\n",
      "Multiprocess sampling (4 chains in 4 jobs)\n",
      "NUTS: [rv_output_logDLALCK_ALCK2, rv_DiffSlope_logDLALCK_ALCK2, rv_PoffSlope_logDLALCK_ALCK2, rv_intercept_logDLALCK_ALCK2]\n"
     ]
    },
    {
     "name": "stdout",
     "output_type": "stream",
     "text": [
      "i,y=(18, -0.30000000000000027), j,x=(10, -2.5)\n"
     ]
    },
    {
     "name": "stderr",
     "output_type": "stream",
     "text": [
      "Auto-assigning NUTS sampler...\n",
      "Initializing NUTS using jitter+adapt_diag...\n",
      "Multiprocess sampling (4 chains in 4 jobs)\n",
      "NUTS: [rv_output_logDLALCK_ALCK2, rv_DiffSlope_logDLALCK_ALCK2, rv_PoffSlope_logDLALCK_ALCK2, rv_intercept_logDLALCK_ALCK2]\n"
     ]
    },
    {
     "name": "stdout",
     "output_type": "stream",
     "text": [
      "i,y=(18, -0.30000000000000027), j,x=(11, -2.25)\n"
     ]
    },
    {
     "name": "stderr",
     "output_type": "stream",
     "text": [
      "Auto-assigning NUTS sampler...\n",
      "Initializing NUTS using jitter+adapt_diag...\n",
      "Multiprocess sampling (4 chains in 4 jobs)\n",
      "NUTS: [rv_output_logDLALCK_ALCK2, rv_DiffSlope_logDLALCK_ALCK2, rv_PoffSlope_logDLALCK_ALCK2, rv_intercept_logDLALCK_ALCK2]\n"
     ]
    },
    {
     "name": "stdout",
     "output_type": "stream",
     "text": [
      "i,y=(18, -0.30000000000000027), j,x=(12, -2.0)\n"
     ]
    },
    {
     "name": "stderr",
     "output_type": "stream",
     "text": [
      "Auto-assigning NUTS sampler...\n",
      "Initializing NUTS using jitter+adapt_diag...\n",
      "Multiprocess sampling (4 chains in 4 jobs)\n",
      "NUTS: [rv_output_logDLALCK_ALCK2, rv_DiffSlope_logDLALCK_ALCK2, rv_PoffSlope_logDLALCK_ALCK2, rv_intercept_logDLALCK_ALCK2]\n"
     ]
    },
    {
     "name": "stdout",
     "output_type": "stream",
     "text": [
      "i,y=(18, -0.30000000000000027), j,x=(13, -1.75)\n"
     ]
    },
    {
     "name": "stderr",
     "output_type": "stream",
     "text": [
      "Auto-assigning NUTS sampler...\n",
      "Initializing NUTS using jitter+adapt_diag...\n",
      "Multiprocess sampling (4 chains in 4 jobs)\n",
      "NUTS: [rv_output_logDLALCK_ALCK2, rv_DiffSlope_logDLALCK_ALCK2, rv_PoffSlope_logDLALCK_ALCK2, rv_intercept_logDLALCK_ALCK2]\n"
     ]
    },
    {
     "name": "stdout",
     "output_type": "stream",
     "text": [
      "i,y=(18, -0.30000000000000027), j,x=(14, -1.5)\n"
     ]
    },
    {
     "name": "stderr",
     "output_type": "stream",
     "text": [
      "Auto-assigning NUTS sampler...\n",
      "Initializing NUTS using jitter+adapt_diag...\n",
      "Multiprocess sampling (4 chains in 4 jobs)\n",
      "NUTS: [rv_output_logDLALCK_ALCK2, rv_DiffSlope_logDLALCK_ALCK2, rv_PoffSlope_logDLALCK_ALCK2, rv_intercept_logDLALCK_ALCK2]\n"
     ]
    },
    {
     "name": "stdout",
     "output_type": "stream",
     "text": [
      "i,y=(18, -0.30000000000000027), j,x=(15, -1.25)\n"
     ]
    },
    {
     "name": "stderr",
     "output_type": "stream",
     "text": [
      "Auto-assigning NUTS sampler...\n",
      "Initializing NUTS using jitter+adapt_diag...\n",
      "Multiprocess sampling (4 chains in 4 jobs)\n",
      "NUTS: [rv_output_logDLALCK_ALCK2, rv_DiffSlope_logDLALCK_ALCK2, rv_PoffSlope_logDLALCK_ALCK2, rv_intercept_logDLALCK_ALCK2]\n"
     ]
    },
    {
     "name": "stdout",
     "output_type": "stream",
     "text": [
      "i,y=(18, -0.30000000000000027), j,x=(16, -1.0)\n"
     ]
    },
    {
     "name": "stderr",
     "output_type": "stream",
     "text": [
      "Auto-assigning NUTS sampler...\n",
      "Initializing NUTS using jitter+adapt_diag...\n",
      "Multiprocess sampling (4 chains in 4 jobs)\n",
      "NUTS: [rv_output_logDLALCK_ALCK2, rv_DiffSlope_logDLALCK_ALCK2, rv_PoffSlope_logDLALCK_ALCK2, rv_intercept_logDLALCK_ALCK2]\n"
     ]
    },
    {
     "name": "stdout",
     "output_type": "stream",
     "text": [
      "i,y=(18, -0.30000000000000027), j,x=(17, -0.75)\n"
     ]
    },
    {
     "name": "stderr",
     "output_type": "stream",
     "text": [
      "Auto-assigning NUTS sampler...\n",
      "Initializing NUTS using jitter+adapt_diag...\n",
      "Multiprocess sampling (4 chains in 4 jobs)\n",
      "NUTS: [rv_output_logDLALCK_ALCK2, rv_DiffSlope_logDLALCK_ALCK2, rv_PoffSlope_logDLALCK_ALCK2, rv_intercept_logDLALCK_ALCK2]\n"
     ]
    },
    {
     "name": "stdout",
     "output_type": "stream",
     "text": [
      "i,y=(18, -0.30000000000000027), j,x=(18, -0.5)\n"
     ]
    },
    {
     "name": "stderr",
     "output_type": "stream",
     "text": [
      "Auto-assigning NUTS sampler...\n",
      "Initializing NUTS using jitter+adapt_diag...\n",
      "Multiprocess sampling (4 chains in 4 jobs)\n",
      "NUTS: [rv_output_logDLALCK_ALCK2, rv_DiffSlope_logDLALCK_ALCK2, rv_PoffSlope_logDLALCK_ALCK2, rv_intercept_logDLALCK_ALCK2]\n"
     ]
    },
    {
     "name": "stdout",
     "output_type": "stream",
     "text": [
      "i,y=(18, -0.30000000000000027), j,x=(19, -0.25)\n"
     ]
    },
    {
     "name": "stderr",
     "output_type": "stream",
     "text": [
      "Auto-assigning NUTS sampler...\n",
      "Initializing NUTS using jitter+adapt_diag...\n",
      "Multiprocess sampling (4 chains in 4 jobs)\n",
      "NUTS: [rv_output_logDLALCK_ALCK2, rv_DiffSlope_logDLALCK_ALCK2, rv_PoffSlope_logDLALCK_ALCK2, rv_intercept_logDLALCK_ALCK2]\n"
     ]
    },
    {
     "name": "stdout",
     "output_type": "stream",
     "text": [
      "i,y=(19, -0.15), j,x=(0, -5.0)\n"
     ]
    },
    {
     "name": "stderr",
     "output_type": "stream",
     "text": [
      "Auto-assigning NUTS sampler...\n",
      "Initializing NUTS using jitter+adapt_diag...\n",
      "Multiprocess sampling (4 chains in 4 jobs)\n",
      "NUTS: [rv_output_logDLALCK_ALCK2, rv_DiffSlope_logDLALCK_ALCK2, rv_PoffSlope_logDLALCK_ALCK2, rv_intercept_logDLALCK_ALCK2]\n"
     ]
    },
    {
     "name": "stdout",
     "output_type": "stream",
     "text": [
      "i,y=(19, -0.15), j,x=(1, -4.75)\n"
     ]
    },
    {
     "name": "stderr",
     "output_type": "stream",
     "text": [
      "Auto-assigning NUTS sampler...\n",
      "Initializing NUTS using jitter+adapt_diag...\n",
      "Multiprocess sampling (4 chains in 4 jobs)\n",
      "NUTS: [rv_output_logDLALCK_ALCK2, rv_DiffSlope_logDLALCK_ALCK2, rv_PoffSlope_logDLALCK_ALCK2, rv_intercept_logDLALCK_ALCK2]\n"
     ]
    },
    {
     "name": "stdout",
     "output_type": "stream",
     "text": [
      "i,y=(19, -0.15), j,x=(2, -4.5)\n"
     ]
    },
    {
     "name": "stderr",
     "output_type": "stream",
     "text": [
      "Auto-assigning NUTS sampler...\n",
      "Initializing NUTS using jitter+adapt_diag...\n",
      "Multiprocess sampling (4 chains in 4 jobs)\n",
      "NUTS: [rv_output_logDLALCK_ALCK2, rv_DiffSlope_logDLALCK_ALCK2, rv_PoffSlope_logDLALCK_ALCK2, rv_intercept_logDLALCK_ALCK2]\n"
     ]
    },
    {
     "name": "stdout",
     "output_type": "stream",
     "text": [
      "i,y=(19, -0.15), j,x=(3, -4.25)\n"
     ]
    },
    {
     "name": "stderr",
     "output_type": "stream",
     "text": [
      "Auto-assigning NUTS sampler...\n",
      "Initializing NUTS using jitter+adapt_diag...\n",
      "Multiprocess sampling (4 chains in 4 jobs)\n",
      "NUTS: [rv_output_logDLALCK_ALCK2, rv_DiffSlope_logDLALCK_ALCK2, rv_PoffSlope_logDLALCK_ALCK2, rv_intercept_logDLALCK_ALCK2]\n"
     ]
    },
    {
     "name": "stdout",
     "output_type": "stream",
     "text": [
      "i,y=(19, -0.15), j,x=(4, -4.0)\n"
     ]
    },
    {
     "name": "stderr",
     "output_type": "stream",
     "text": [
      "Auto-assigning NUTS sampler...\n",
      "Initializing NUTS using jitter+adapt_diag...\n",
      "Multiprocess sampling (4 chains in 4 jobs)\n",
      "NUTS: [rv_output_logDLALCK_ALCK2, rv_DiffSlope_logDLALCK_ALCK2, rv_PoffSlope_logDLALCK_ALCK2, rv_intercept_logDLALCK_ALCK2]\n"
     ]
    },
    {
     "name": "stdout",
     "output_type": "stream",
     "text": [
      "i,y=(19, -0.15), j,x=(5, -3.75)\n"
     ]
    },
    {
     "name": "stderr",
     "output_type": "stream",
     "text": [
      "Auto-assigning NUTS sampler...\n",
      "Initializing NUTS using jitter+adapt_diag...\n",
      "Multiprocess sampling (4 chains in 4 jobs)\n",
      "NUTS: [rv_output_logDLALCK_ALCK2, rv_DiffSlope_logDLALCK_ALCK2, rv_PoffSlope_logDLALCK_ALCK2, rv_intercept_logDLALCK_ALCK2]\n"
     ]
    },
    {
     "name": "stdout",
     "output_type": "stream",
     "text": [
      "i,y=(19, -0.15), j,x=(6, -3.5)\n"
     ]
    },
    {
     "name": "stderr",
     "output_type": "stream",
     "text": [
      "Auto-assigning NUTS sampler...\n",
      "Initializing NUTS using jitter+adapt_diag...\n",
      "Multiprocess sampling (4 chains in 4 jobs)\n",
      "NUTS: [rv_output_logDLALCK_ALCK2, rv_DiffSlope_logDLALCK_ALCK2, rv_PoffSlope_logDLALCK_ALCK2, rv_intercept_logDLALCK_ALCK2]\n"
     ]
    },
    {
     "name": "stdout",
     "output_type": "stream",
     "text": [
      "i,y=(19, -0.15), j,x=(7, -3.25)\n"
     ]
    },
    {
     "name": "stderr",
     "output_type": "stream",
     "text": [
      "Auto-assigning NUTS sampler...\n",
      "Initializing NUTS using jitter+adapt_diag...\n",
      "Multiprocess sampling (4 chains in 4 jobs)\n",
      "NUTS: [rv_output_logDLALCK_ALCK2, rv_DiffSlope_logDLALCK_ALCK2, rv_PoffSlope_logDLALCK_ALCK2, rv_intercept_logDLALCK_ALCK2]\n"
     ]
    },
    {
     "name": "stdout",
     "output_type": "stream",
     "text": [
      "i,y=(19, -0.15), j,x=(8, -3.0)\n"
     ]
    },
    {
     "name": "stderr",
     "output_type": "stream",
     "text": [
      "Auto-assigning NUTS sampler...\n",
      "Initializing NUTS using jitter+adapt_diag...\n",
      "Multiprocess sampling (4 chains in 4 jobs)\n",
      "NUTS: [rv_output_logDLALCK_ALCK2, rv_DiffSlope_logDLALCK_ALCK2, rv_PoffSlope_logDLALCK_ALCK2, rv_intercept_logDLALCK_ALCK2]\n"
     ]
    },
    {
     "name": "stdout",
     "output_type": "stream",
     "text": [
      "i,y=(19, -0.15), j,x=(9, -2.75)\n"
     ]
    },
    {
     "name": "stderr",
     "output_type": "stream",
     "text": [
      "Auto-assigning NUTS sampler...\n",
      "Initializing NUTS using jitter+adapt_diag...\n",
      "Multiprocess sampling (4 chains in 4 jobs)\n",
      "NUTS: [rv_output_logDLALCK_ALCK2, rv_DiffSlope_logDLALCK_ALCK2, rv_PoffSlope_logDLALCK_ALCK2, rv_intercept_logDLALCK_ALCK2]\n"
     ]
    },
    {
     "name": "stdout",
     "output_type": "stream",
     "text": [
      "i,y=(19, -0.15), j,x=(10, -2.5)\n"
     ]
    },
    {
     "name": "stderr",
     "output_type": "stream",
     "text": [
      "Auto-assigning NUTS sampler...\n",
      "Initializing NUTS using jitter+adapt_diag...\n",
      "Multiprocess sampling (4 chains in 4 jobs)\n",
      "NUTS: [rv_output_logDLALCK_ALCK2, rv_DiffSlope_logDLALCK_ALCK2, rv_PoffSlope_logDLALCK_ALCK2, rv_intercept_logDLALCK_ALCK2]\n"
     ]
    },
    {
     "name": "stdout",
     "output_type": "stream",
     "text": [
      "i,y=(19, -0.15), j,x=(11, -2.25)\n"
     ]
    },
    {
     "name": "stderr",
     "output_type": "stream",
     "text": [
      "Auto-assigning NUTS sampler...\n",
      "Initializing NUTS using jitter+adapt_diag...\n",
      "Multiprocess sampling (4 chains in 4 jobs)\n",
      "NUTS: [rv_output_logDLALCK_ALCK2, rv_DiffSlope_logDLALCK_ALCK2, rv_PoffSlope_logDLALCK_ALCK2, rv_intercept_logDLALCK_ALCK2]\n"
     ]
    },
    {
     "name": "stdout",
     "output_type": "stream",
     "text": [
      "i,y=(19, -0.15), j,x=(12, -2.0)\n"
     ]
    },
    {
     "name": "stderr",
     "output_type": "stream",
     "text": [
      "Auto-assigning NUTS sampler...\n",
      "Initializing NUTS using jitter+adapt_diag...\n",
      "Multiprocess sampling (4 chains in 4 jobs)\n",
      "NUTS: [rv_output_logDLALCK_ALCK2, rv_DiffSlope_logDLALCK_ALCK2, rv_PoffSlope_logDLALCK_ALCK2, rv_intercept_logDLALCK_ALCK2]\n"
     ]
    },
    {
     "name": "stdout",
     "output_type": "stream",
     "text": [
      "i,y=(19, -0.15), j,x=(13, -1.75)\n"
     ]
    },
    {
     "name": "stderr",
     "output_type": "stream",
     "text": [
      "Auto-assigning NUTS sampler...\n",
      "Initializing NUTS using jitter+adapt_diag...\n",
      "Multiprocess sampling (4 chains in 4 jobs)\n",
      "NUTS: [rv_output_logDLALCK_ALCK2, rv_DiffSlope_logDLALCK_ALCK2, rv_PoffSlope_logDLALCK_ALCK2, rv_intercept_logDLALCK_ALCK2]\n"
     ]
    },
    {
     "name": "stdout",
     "output_type": "stream",
     "text": [
      "i,y=(19, -0.15), j,x=(14, -1.5)\n"
     ]
    },
    {
     "name": "stderr",
     "output_type": "stream",
     "text": [
      "Auto-assigning NUTS sampler...\n",
      "Initializing NUTS using jitter+adapt_diag...\n",
      "Multiprocess sampling (4 chains in 4 jobs)\n",
      "NUTS: [rv_output_logDLALCK_ALCK2, rv_DiffSlope_logDLALCK_ALCK2, rv_PoffSlope_logDLALCK_ALCK2, rv_intercept_logDLALCK_ALCK2]\n"
     ]
    },
    {
     "name": "stdout",
     "output_type": "stream",
     "text": [
      "i,y=(19, -0.15), j,x=(15, -1.25)\n"
     ]
    },
    {
     "name": "stderr",
     "output_type": "stream",
     "text": [
      "Auto-assigning NUTS sampler...\n",
      "Initializing NUTS using jitter+adapt_diag...\n",
      "Multiprocess sampling (4 chains in 4 jobs)\n",
      "NUTS: [rv_output_logDLALCK_ALCK2, rv_DiffSlope_logDLALCK_ALCK2, rv_PoffSlope_logDLALCK_ALCK2, rv_intercept_logDLALCK_ALCK2]\n"
     ]
    },
    {
     "name": "stdout",
     "output_type": "stream",
     "text": [
      "i,y=(19, -0.15), j,x=(16, -1.0)\n"
     ]
    },
    {
     "name": "stderr",
     "output_type": "stream",
     "text": [
      "Auto-assigning NUTS sampler...\n",
      "Initializing NUTS using jitter+adapt_diag...\n",
      "Multiprocess sampling (4 chains in 4 jobs)\n",
      "NUTS: [rv_output_logDLALCK_ALCK2, rv_DiffSlope_logDLALCK_ALCK2, rv_PoffSlope_logDLALCK_ALCK2, rv_intercept_logDLALCK_ALCK2]\n"
     ]
    },
    {
     "name": "stdout",
     "output_type": "stream",
     "text": [
      "i,y=(19, -0.15), j,x=(17, -0.75)\n"
     ]
    },
    {
     "name": "stderr",
     "output_type": "stream",
     "text": [
      "Auto-assigning NUTS sampler...\n",
      "Initializing NUTS using jitter+adapt_diag...\n",
      "Multiprocess sampling (4 chains in 4 jobs)\n",
      "NUTS: [rv_output_logDLALCK_ALCK2, rv_DiffSlope_logDLALCK_ALCK2, rv_PoffSlope_logDLALCK_ALCK2, rv_intercept_logDLALCK_ALCK2]\n"
     ]
    },
    {
     "name": "stdout",
     "output_type": "stream",
     "text": [
      "i,y=(19, -0.15), j,x=(18, -0.5)\n"
     ]
    },
    {
     "name": "stderr",
     "output_type": "stream",
     "text": [
      "Auto-assigning NUTS sampler...\n",
      "Initializing NUTS using jitter+adapt_diag...\n",
      "Multiprocess sampling (4 chains in 4 jobs)\n",
      "NUTS: [rv_output_logDLALCK_ALCK2, rv_DiffSlope_logDLALCK_ALCK2, rv_PoffSlope_logDLALCK_ALCK2, rv_intercept_logDLALCK_ALCK2]\n"
     ]
    },
    {
     "name": "stdout",
     "output_type": "stream",
     "text": [
      "i,y=(19, -0.15), j,x=(19, -0.25)\n"
     ]
    }
   ],
   "source": [
    "if True:\n",
    "    nx = 20 # 20 \n",
    "    ny = 20 # 20 \n",
    "    Xs = np.linspace(-5., -5./nx, nx)\n",
    "    Ys = np.linspace(-3., -3./ny, ny)\n",
    "\n",
    "    Zs_mean = np.zeros((nx, ny))\n",
    "    Zs_std = np.zeros((nx, ny))\n",
    "\n",
    "    for i,y in enumerate(Ys):\n",
    "        for j,x in enumerate(Xs):\n",
    "            cur_model= get_pm_model2_trained(df_model2_trainedTable, observed_logPoff = x, observed_logDiff = y)\n",
    "            with cur_model:\n",
    "                cur_trace = pm.sample(2000, chains=4, progressbar = False);\n",
    "            print(f\"i,y={i,y}, j,x={j,x}\")\n",
    "            Zs_mean[i,j] = cur_trace.rv_output_logDLALCK_ALCK2.mean() \n",
    "            Zs_std[i,j] = cur_trace.rv_output_logDLALCK_ALCK2.std();\n",
    "            \n",
    "    "
   ]
  },
  {
   "cell_type": "code",
   "execution_count": 35,
   "metadata": {
    "id": "q06rq_XSfD4a"
   },
   "outputs": [],
   "source": [
    "if False:\n",
    "    np.save(\"trained_logDLALCK_ALCK_mean_20x20\", Zs_mean)\n",
    "    np.save(\"trained_logDLALCK_ALCK_std_20x20\", Zs_std)\n"
   ]
  },
  {
   "cell_type": "code",
   "execution_count": 36,
   "metadata": {},
   "outputs": [],
   "source": [
    "nx = 20 # 20 \n",
    "ny = 20 # 20 \n",
    "Xs = np.linspace(-5., -5./nx, nx)\n",
    "Ys = np.linspace(-3., -3./ny, ny)\n",
    "\n",
    "logDLALCK_mean = np.load('trained_logDLALCK_ALCK_mean_20x20.npy')"
   ]
  },
  {
   "cell_type": "code",
   "execution_count": 37,
   "metadata": {},
   "outputs": [
    {
     "name": "stderr",
     "output_type": "stream",
     "text": [
      "C:\\Users\\Owner\\Anaconda3\\lib\\site-packages\\ipykernel_launcher.py:46: UserWarning: FixedFormatter should only be used together with FixedLocator\n",
      "C:\\Users\\Owner\\Anaconda3\\lib\\site-packages\\ipykernel_launcher.py:51: UserWarning: FixedFormatter should only be used together with FixedLocator\n"
     ]
    },
    {
     "data": {
      "image/png": "[encoded data removed]",
      "text/plain": [
       "<Figure size 288x864 with 2 Axes>"
      ]
     },
     "metadata": {
      "needs_background": "light"
     },
     "output_type": "display_data"
    },
    {
     "data": {
      "image/png": "[encoded data removed]",
      "text/plain": [
       "<Figure size 288x864 with 2 Axes>"
      ]
     },
     "metadata": {
      "needs_background": "light"
     },
     "output_type": "display_data"
    }
   ],
   "source": [
    "DataToPlot[3] = [[Xs,Ys],[logDLALCK_mean]]\n",
    "plotWhat=[True,False,False,True]\n",
    "# plotWhat=[True,True,True,True]\n",
    "\n",
    "plotData(DataToPlot, plotWhat)"
   ]
  },
  {
   "cell_type": "code",
   "execution_count": null,
   "metadata": {},
   "outputs": [],
   "source": []
  }
 ],
 "metadata": {
  "kernelspec": {
   "display_name": "Python 3",
   "language": "python",
   "name": "python3"
  },
  "language_info": {
   "codemirror_mode": {
    "name": "ipython",
    "version": 3
   },
   "file_extension": ".py",
   "mimetype": "text/x-python",
   "name": "python",
   "nbconvert_exporter": "python",
   "pygments_lexer": "ipython3",
   "version": "3.8.5"
  },
  "toc": {
   "base_numbering": 1,
   "nav_menu": {},
   "number_sections": true,
   "sideBar": true,
   "skip_h1_title": false,
   "title_cell": "Table of Contents",
   "title_sidebar": "Contents",
   "toc_cell": false,
   "toc_position": {},
   "toc_section_display": true,
   "toc_window_display": false
  },
  "varInspector": {
   "cols": {
    "lenName": 16,
    "lenType": 16,
    "lenVar": 40
   },
   "kernels_config": {
    "python": {
     "delete_cmd_postfix": "",
     "delete_cmd_prefix": "del ",
     "library": "var_list.py",
     "varRefreshCmd": "print(var_dic_list())"
    },
    "r": {
     "delete_cmd_postfix": ") ",
     "delete_cmd_prefix": "rm(",
     "library": "var_list.r",
     "varRefreshCmd": "cat(var_dic_list()) "
    }
   },
   "types_to_exclude": [
    "module",
    "function",
    "builtin_function_or_method",
    "instance",
    "_Feature"
   ],
   "window_display": false
  }
 },
 "nbformat": 4,
 "nbformat_minor": 4
}
