{
  "nbformat": 4,
  "nbformat_minor": 0,
  "metadata": {
    "colab": {
      "name": "coupled_model_new.ipynb",
      "provenance": [],
      "collapsed_sections": []
    },
    "kernelspec": {
      "name": "python3",
      "display_name": "Python 3"
    }
  },
  "cells": [
    {
      "cell_type": "code",
      "metadata": {
        "id": "LiRhZKeG7PMG"
      },
      "source": [
        "!pip install arviz -q\r\n",
        "!pip install theano-pymc -q\r\n",
        "!pip install pymc3==3.10.0 -q"
      ],
      "execution_count": 1,
      "outputs": []
    },
    {
      "cell_type": "code",
      "metadata": {
        "colab": {
          "base_uri": "https://localhost:8080/"
        },
        "id": "fOum5Bri7nIt",
        "outputId": "69841c74-92b4-439c-cdd6-45cfca96f365"
      },
      "source": [
        "import numpy as np\r\n",
        "import scipy as sp\r\n",
        "import pymc3 as pm\r\n",
        "import pandas as pd\r\n",
        "import matplotlib.pyplot as plt\r\n",
        "import seaborn as sns\r\n",
        "import theano.tensor as tt\r\n",
        "import scipy.stats as stats\r\n",
        "import arviz as az\r\n",
        "\r\n",
        "print('Running on PyMC3 v{}'.format(pm.__version__))\r\n",
        "print('Running on ArviZ v{}'.format(az.__version__))"
      ],
      "execution_count": 2,
      "outputs": [
        {
          "output_type": "stream",
          "text": [
            "Running on PyMC3 v3.10.0\n",
            "Running on ArviZ v0.11.1\n"
          ],
          "name": "stdout"
        }
      ]
    },
    {
      "cell_type": "code",
      "metadata": {
        "id": "tqjnmnHQ7qPa"
      },
      "source": [
        "# defining colors for the diferent entities\r\n",
        "TCR_color = np.array([0.0, 0.6, 0.0])\r\n",
        "CD45_color = np.array([1.0, 0.0, 0.0])\r\n",
        "LCK_color = np.array([0.0, 0.0, 0.4])\r\n",
        "aLCK_color = np.array([1.0, 0.6, 1.0])\r\n",
        "pTCR_color = np.array([1.0, 0.6, 0.0])\r\n",
        "membrane_color = 0.6*np.array([1.0, 1.0, 1.0])"
      ],
      "execution_count": 3,
      "outputs": []
    },
    {
      "cell_type": "code",
      "metadata": {
        "colab": {
          "base_uri": "https://localhost:8080/"
        },
        "id": "aOsy_7-sx1A5",
        "outputId": "521d0354-3b50-47b0-f7b6-8fcf17be13d8"
      },
      "source": [
        "# temp\r\n",
        "!dir"
      ],
      "execution_count": 4,
      "outputs": [
        {
          "output_type": "stream",
          "text": [
            "sample_data\n"
          ],
          "name": "stdout"
        }
      ]
    },
    {
      "cell_type": "markdown",
      "metadata": {
        "id": "dZXkvaap8fER"
      },
      "source": [
        "## Metamodel containing all surrogate models and their coupling"
      ]
    },
    {
      "cell_type": "markdown",
      "metadata": {
        "id": "wV81wtBoneDa"
      },
      "source": [
        "### Abbreviations:\n",
        "ac - slope of 'c' (e.g. at for slope of t)"
      ]
    },
    {
      "cell_type": "code",
      "metadata": {
        "colab": {
          "base_uri": "https://localhost:8080/",
          "height": 379
        },
        "id": "aJ4flFPc7viJ",
        "outputId": "7b0d5be5-714a-4242-d418-c727b7aa96c3"
      },
      "source": [
        "# Model 1 constants: ##########################\r\n",
        "# w_TCR:\r\n",
        "# intercept with origin:\r\n",
        "mu_rv_b_w_TCR_KS1 = 386.360\r\n",
        "sd_rv_b_w_TCR_KS1 = 4.043\r\n",
        "# surface t slope:\r\n",
        "mu_rv_at_w_TCR_KS1 = 0.102\r\n",
        "sd_rv_at_w_TCR_KS1 = 0.060\r\n",
        "# surface k slope:\r\n",
        "mu_rv_ak_w_TCR_KS1 = 0.016\r\n",
        "sd_rv_ak_w_TCR_KS1 = 0.016\r\n",
        "# noise:\r\n",
        "mu_rv_noise_w_TCR_KS1 = 20.782\r\n",
        "sd_rv_noise_w_TCR_KS1 = 1.529\r\n",
        "\r\n",
        "# w_CD45:\r\n",
        "# intercept with origin:\r\n",
        "mu_rv_b_w_CD45_KS1 = 347.252\t\r\n",
        "sd_rv_b_w_CD45_KS1= 27.409\r\n",
        "# surface t slope:\r\n",
        "mu_rv_at_w_CD45_KS1 = 0.124\r\n",
        "sd_rv_at_w_CD45_KS1 = 0.118\r\n",
        "# surface k slope:\r\n",
        "mu_rv_ak_w_CD45_KS1 = 0.270\r\n",
        "sd_rv_ak_w_CD45_KS1 = 0.243\r\n",
        "# noise:\r\n",
        "mu_rv_noise_w_CD45_KS1 = 239.808\t\r\n",
        "sd_rv_noise_w_CD45_KS1 = 14.057\r\n",
        "\r\n",
        "# dep:\r\n",
        "# intercept with origin:\r\n",
        "mu_rv_b_dep_KS1 = 44.085\r\n",
        "sd_rv_b_dep_KS1 = 4.107\r\n",
        "# surface t slope:\r\n",
        "mu_rv_at_dep_KS1 = 1.240\t\r\n",
        "sd_rv_at_dep_KS1 = 0.049\r\n",
        "# surface k slope:\r\n",
        "mu_rv_ak_dep_KS1 = 0.622\t\r\n",
        "sd_rv_ak_dep_KS1 = 0.049\r\n",
        "# noise:\r\n",
        "mu_rv_noise_dep_KS1 = 13.843\t\r\n",
        "sd_rv_noise_dep_KS1 = 1.032\t\r\n",
        "\r\n",
        "# Model 2 constants: ##########################\r\n",
        "# lambda (nm)\r\n",
        "# sigmoid center Diff:\r\n",
        "mu_rv_lambda_aLCK_log_Diff_center_LA2 = -2.577\r\n",
        "sd_rv_lambda_aLCK_log_Diff_center_LA2 = 0.472\r\n",
        "# sigmoid center Poff:\r\n",
        "mu_rv_lambda_aLCK_log_Poff_center_LA2 = -0.674\r\n",
        "sd_rv_lambda_aLCK_log_Poff_center_LA2 = 0.328\r\n",
        "# surface min:\r\n",
        "mu_rv_lambda_aLCK_min_LA2 = 0.003\r\n",
        "sd_rv_lambda_aLCK_min_LA2 = 0.004\r\n",
        "# surface max:\r\n",
        "mu_rv_lambda_aLCK_max_LA2 = 0.492\r\n",
        "sd_rv_lambda_aLCK_max_LA2 = 0.135\r\n",
        "# sigmoid devisor Diff:\r\n",
        "mu_rv_lambda_aLCK_log_Diff_divisor_LA2 = -1.162\r\n",
        "sd_rv_lambda_aLCK_log_Diff_divisor_LA2 = 0.222\r\n",
        "# sigmoid devisor Poff:\r\n",
        "mu_rv_lambda_aLCK_log_Poff_divisor_LA2 = 0.507\r\n",
        "sd_rv_lambda_aLCK_log_Poff_divisor_LA2 = 0.150\r\n",
        "# Noise\r\n",
        "mu_noise_lambda_aLCK_LA2 = 0.055\r\n",
        "sd_noise_lambda_aLCK_LA2 = 0.003\r\n",
        "\r\n",
        "# Model 3 constants: ##########################\r\n",
        "# gaussian sigma decay_length\r\n",
        "mu_rv_decay_length_sigma_TP3 = 61.496\r\n",
        "sd_rv_decay_length_sigma_TP3 = 4.399\r\n",
        "# gaussian mu decay_length\r\n",
        "mu_rv_decay_length_mu_TP3 = -21.977\r\n",
        "sd_rv_decay_length_mu_TP3 = 6.779\r\n",
        "# gaussian scale decay_length\r\n",
        "mu_rv_decay_length_scale_TP3 = 1.023\r\n",
        "sd_rv_decay_length_scale_TP3 = 0.147\r\n",
        "# gaussian sigma depletion\r\n",
        "mu_rv_depletion_sigma_TP3 = 54.601\r\n",
        "sd_rv_depletion_sigma_TP3 = 5.185\r\n",
        "# gaussian mu depletion\r\n",
        "mu_rv_depletion_mu_TP3 = -15.848\r\n",
        "sd_rv_depletion_mu_TP3 = 7.019\r\n",
        "# gaussian scale depletion\r\n",
        "mu_rv_depletion_scale_TP3 = 1.030\r\n",
        "sd_rv_depletion_scale_TP3 = 0.148\r\n",
        "# rTCR_max_diff noise\r\n",
        "mu_rv_noise_rTCR_max_diff_TP3 = 0.048\r\n",
        "sd_rv_noise_rTCR_max_diff_TP3 = 0.003\r\n",
        "\r\n",
        "###############################################\r\n",
        "\r\n",
        "def get_metamodel(observed_t_KS1 = None,\r\n",
        "                  observed_k_KS1 = None,\r\n",
        "                  observed_log_Poff_LA2 = None, \r\n",
        "                  observed_log_Diff_LA2 = None,\r\n",
        "                  observed_depletion_TP3 = None,\r\n",
        "                  observed_decay_length_TP3 = None):\r\n",
        "    \r\n",
        "    ''' return a metamodel with all surrogate models '''\r\n",
        "    metamodel = pm.Model()\r\n",
        "    with metamodel:\r\n",
        "        ### model1 - KS (kinetic segregation) ###########################    \r\n",
        "        # param_t = pm.Uniform('param_t', 0, 100, observed=observed_t_KS1)\r\n",
        "        # param_k = pm.Uniform('param_k', 0, 50, observed=observed_k_KS1)\r\n",
        "        rv_t = pm.Uniform('param_t', 0, 100, observed=observed_t_KS1)\r\n",
        "        rv_k = pm.Uniform('param_k', 0, 50, observed=observed_k_KS1)\r\n",
        "\r\n",
        "        # w_TCR_KS1 ###########\r\n",
        "        rv_at_w_TCR_KS1 = pm.HalfNormal('rv_at_w_TCR_KS1',\r\n",
        "                                         sd = mu_rv_at_w_TCR_KS1) # surface t slope\r\n",
        "        rv_ak_w_TCR_KS1 = pm.HalfNormal('rv_ak_w_TCR_KS1', \r\n",
        "                                         sd = mu_rv_ak_w_TCR_KS1) # surface k slope\r\n",
        "        rv_b_w_TCR_KS1 = pm.Normal('rv_b_w_TCR_KS1', \r\n",
        "                                    mu = mu_rv_b_w_TCR_KS1, \r\n",
        "                                    sd = sd_rv_b_w_TCR_KS1) # surface intercept\r\n",
        "        rv_noise_w_TCR_KS1 = pm.HalfNormal('rv_noise_w_TCR_KS1', \r\n",
        "                                            sd = mu_rv_noise_w_TCR_KS1) # noise \r\n",
        "        rv_w_TCR_KS1 = pm.Normal('rv_w_TCR_KS1',\r\n",
        "                                  mu = rv_b_w_TCR_KS1 +\\\r\n",
        "                                  rv_at_w_TCR_KS1*rv_t + rv_ak_w_TCR_KS1*rv_k,\r\n",
        "                                  sd = rv_noise_w_TCR_KS1) #\r\n",
        "\r\n",
        "        # w_CD45_KS1 ###########\r\n",
        "        rv_at_w_CD45_KS1 = pm.HalfNormal('rv_at_w_CD45_KS1',\r\n",
        "                                         sd = mu_rv_at_w_CD45_KS1) # surface t slope\r\n",
        "        rv_ak_w_CD45_KS1 = pm.HalfNormal('rv_ak_w_CD45_KS1', \r\n",
        "                                         sd = mu_rv_ak_w_CD45_KS1) # surface k slope\r\n",
        "        rv_b_w_CD45_KS1 = pm.Normal('rv_b_w_CD45_KS1', \r\n",
        "                                    mu = mu_rv_b_w_CD45_KS1, \r\n",
        "                                    sd = sd_rv_b_w_CD45_KS1) # surface intercept\r\n",
        "        rv_noise_w_CD45_KS1 = pm.HalfNormal('rv_noise_w_CD45_KS1', \r\n",
        "                                            sd = mu_rv_noise_w_CD45_KS1) # noise \r\n",
        "        rv_w_CD45_KS1 = pm.Normal('rv_w_CD45_KS1',\r\n",
        "                                  mu = rv_b_w_CD45_KS1 +\\\r\n",
        "                                  rv_at_w_CD45_KS1*rv_t + rv_ak_w_CD45_KS1*rv_k,\r\n",
        "                                  sd = rv_noise_w_CD45_KS1) #\r\n",
        "\r\n",
        "        # dep_KS1 ###########\r\n",
        "        rv_at_dep_KS1 = pm.HalfNormal('rv_at_dep_KS1',\r\n",
        "                                         sd = mu_rv_at_dep_KS1) # surface t slope\r\n",
        "        rv_ak_dep_KS1 = pm.HalfNormal('rv_ak_dep_KS1', \r\n",
        "                                         sd = mu_rv_ak_dep_KS1) # surface k slope\r\n",
        "        rv_b_dep_KS1 = pm.Normal('rv_b_dep_KS1', \r\n",
        "                                    mu = mu_rv_b_dep_KS1, \r\n",
        "                                    sd = sd_rv_b_dep_KS1) # surface intercept\r\n",
        "        rv_noise_dep_KS1 = pm.HalfNormal('rv_noise_dep_KS1', \r\n",
        "                                            sd = mu_rv_noise_dep_KS1) # noise \r\n",
        "        rv_dep_KS1 = pm.Normal('rv_dep_KS1',\r\n",
        "                                  mu = rv_b_dep_KS1 +\\\r\n",
        "                                  rv_at_dep_KS1*rv_t + rv_ak_dep_KS1*rv_k,\r\n",
        "                                  sd = rv_noise_dep_KS1) #\r\n",
        "\r\n",
        "        ### model2 - LA (LCK activation) ###########################    \r\n",
        "        # param_log_Diff = pm.Uniform('param_log_Diff', -3, 0, observed= observed_log_Diff_LA2)\r\n",
        "        # param_log_Poff = pm.Uniform('param_log_Poff', -5, 0, observed= observed_log_Poff_LA2)\r\n",
        "        rv_log_Diff = pm.Uniform('param_log_Diff', -3, 0, observed= observed_log_Diff_LA2)\r\n",
        "        rv_log_Poff = pm.Uniform('param_log_Poff', -5, 0, observed= observed_log_Poff_LA2)\r\n",
        "\r\n",
        "        ### lambda aLCK\r\n",
        "        noise_lambda_aLCK_LA2 = pm.HalfNormal('noise_lambda_aLCK_LA2',\r\n",
        "                                             sd = mu_noise_lambda_aLCK_LA2) # noise \r\n",
        "        rv_lambda_aLCK_min_LA2 = pm.TruncatedNormal('rv_lambda_aLCK_min_LA2',\r\n",
        "                                                   mu = mu_rv_lambda_aLCK_min_LA2,\r\n",
        "                                                   sd = sd_rv_lambda_aLCK_min_LA2,\r\n",
        "                                                   upper = 0.01)\r\n",
        "        rv_lambda_aLCK_max_LA2 = pm.TruncatedNormal('rv_lambda_aLCK_max_LA2',\r\n",
        "                                                   mu = mu_rv_lambda_aLCK_max_LA2,\r\n",
        "                                                   sd = sd_rv_lambda_aLCK_max_LA2,\r\n",
        "                                                   lower = 0.01)\r\n",
        "        rv_lambda_aLCK_log_Diff_center_LA2 = pm.Normal('rv_lambda_aLCK_log_Diff_center_LA2',\r\n",
        "                                                      mu = mu_rv_lambda_aLCK_log_Diff_center_LA2, # 0\r\n",
        "                                                      sd = sd_rv_lambda_aLCK_log_Diff_center_LA2) # 1\r\n",
        "        rv_lambda_aLCK_log_Diff_divisor_LA2 = pm.TruncatedNormal('rv_lambda_aLCK_log_Diff_divisor_LA2',\r\n",
        "                                                                mu = mu_rv_lambda_aLCK_log_Diff_divisor_LA2, \r\n",
        "                                                                sd = sd_rv_lambda_aLCK_log_Diff_divisor_LA2,\r\n",
        "                                                                upper = 0)\r\n",
        "        rv_lambda_aLCK_log_Poff_center_LA2 = pm.Normal('rv_lambda_aLCK_log_Poff_center_LA2',\r\n",
        "                                                       mu = mu_rv_lambda_aLCK_log_Poff_center_LA2, # -3\r\n",
        "                                                       sd = sd_rv_lambda_aLCK_log_Poff_center_LA2) # 0.5\r\n",
        "        rv_lambda_aLCK_log_Poff_divisor_LA2 = pm.TruncatedNormal('rv_lambda_aLCK_log_Poff_divisor_LA2',\r\n",
        "                                                                mu = mu_rv_lambda_aLCK_log_Poff_divisor_LA2, #\r\n",
        "                                                                sd = sd_rv_lambda_aLCK_log_Poff_divisor_LA2,\r\n",
        "                                                                lower = 0) # \r\n",
        "\r\n",
        "        rv_tmp_x1 = (rv_log_Diff - rv_lambda_aLCK_log_Diff_center_LA2) / rv_lambda_aLCK_log_Diff_divisor_LA2\r\n",
        "        rv_tmp_sig1 = 1.0 / (1 + np.exp(-rv_tmp_x1))\r\n",
        "        rv_tmp_x2 = (rv_log_Poff - rv_lambda_aLCK_log_Poff_center_LA2) / rv_lambda_aLCK_log_Poff_divisor_LA2\r\n",
        "        rv_tmp_sig2 = 1.0 / (1 + np.exp(-rv_tmp_x2))\r\n",
        "\r\n",
        "        rv_lambda_aLCK_LA2 = pm.Normal('rv_lambda_aLCK_LA', mu=rv_lambda_aLCK_min_LA2 +\\\r\n",
        "                                  (rv_lambda_aLCK_max_LA2 - rv_lambda_aLCK_min_LA2)*\\\r\n",
        "                                  rv_tmp_sig1 * rv_tmp_sig2,\r\n",
        "                                  sd=noise_lambda_aLCK_LA2) # , observed=lambda_aLCK_obs\r\n",
        "\r\n",
        "        ### Coupling model ########################################\r\n",
        "        # from model1:\r\n",
        "        rv_w_TCR_C = pm.Normal('rv_w_TCR_C', \r\n",
        "                                   mu = rv_w_TCR_KS1, \r\n",
        "                                   sd = 20) \r\n",
        "        \r\n",
        "        rv_w_CD45_C = pm.Normal('rv_w_CD45_C', \r\n",
        "                                   mu = rv_w_CD45_KS1, \r\n",
        "                                   sd = 20) \r\n",
        "           \r\n",
        "        rv_dep_C = pm.Normal('rv_dep_C', \r\n",
        "                                   mu = rv_dep_KS1, \r\n",
        "                                   sd = 50) \r\n",
        "        \r\n",
        "        # from model2:\r\n",
        "        # rv_lambda_aLCK_C = pm.Normal('rv_lambda_aLCK_C', \r\n",
        "        #                            mu = rv_lambda_aLCK_LA2, \r\n",
        "        #                            sd = 2)\r\n",
        "\r\n",
        "        rv_deday_length_aLCK_C = pm.Normal('rv_deday_length_aLCK_C', \r\n",
        "                                   mu = 1/rv_lambda_aLCK_LA2, \r\n",
        "                                   sd = 50) \r\n",
        "        \r\n",
        "        ### Model 3 (TCR phosphorylation) ################\r\n",
        "        rv_decay_length_TP = pm.Uniform('rv_decay_length_TP', 0, 300,\r\n",
        "                                        observed=observed_decay_length_TP3)\r\n",
        "        rv_depletion_TP = pm.Uniform('rv_depletion_TP', 0, 800,\r\n",
        "                                     observed=observed_depletion_TP3) \r\n",
        "\r\n",
        "\r\n",
        "        ### rTCR_max_diff\r\n",
        "        rv_noise_rTCR_max_diff_TP3 = pm.HalfNormal('rv_noise_rTCR_max_diff_TP3',\r\n",
        "                                              sd=mu_rv_noise_rTCR_max_diff_TP3) # noise \r\n",
        "        \r\n",
        "        ### decay_length:\r\n",
        "        rv_decay_length_sigma_TP3 = pm.Normal('rv_decay_length_sigma_TP3',\r\n",
        "                                             mu=mu_rv_decay_length_sigma_TP3,\r\n",
        "                                             sd=sd_rv_decay_length_sigma_TP3)\r\n",
        "        rv_decay_length_mu_TP3 = pm.Normal('rv_decay_length_mu_TP3',\r\n",
        "                                             mu=mu_rv_decay_length_mu_TP3,\r\n",
        "                                             sd=sd_rv_decay_length_mu_TP3)\r\n",
        "        rv_decay_length_scale_TP3 = pm.Normal('rv_decay_length_scale_TP3',\r\n",
        "                                             mu=mu_rv_decay_length_scale_TP3,\r\n",
        "                                             sd=sd_rv_decay_length_scale_TP3)\r\n",
        "        \r\n",
        "        rv_decay_length_gaussian_TP3 = rv_decay_length_scale_TP3*\\\r\n",
        "            np.exp(-0.5*((rv_decay_length_TP - rv_decay_length_mu_TP3)/rv_decay_length_sigma_TP3)**2)\r\n",
        "        \r\n",
        "        ### depletion:\r\n",
        "        rv_depletion_sigma_TP3 = pm.Normal('rv_depletion_sigma_TP3',\r\n",
        "                                             mu=mu_rv_depletion_sigma_TP3,\r\n",
        "                                             sd=sd_rv_depletion_sigma_TP3)\r\n",
        "        rv_depletion_mu_TP3 = pm.Normal('rv_depletion_mu_TP3',\r\n",
        "                                             mu=mu_rv_depletion_mu_TP3,\r\n",
        "                                             sd=sd_rv_depletion_mu_TP3)\r\n",
        "        rv_depletion_scale_TP3 = pm.Normal('rv_depletion_scale_TP3',\r\n",
        "                                             mu=mu_rv_depletion_scale_TP3,\r\n",
        "                                             sd=sd_rv_depletion_scale_TP3)\r\n",
        "        \r\n",
        "        rv_depletion_gaussian_TP3 = rv_depletion_scale_TP3*\\\r\n",
        "            np.exp(-0.5*((rv_depletion_TP - rv_depletion_mu_TP3)/rv_depletion_sigma_TP3)**2)       \r\n",
        "        \r\n",
        "        rv_rTCR_max_diff_TP3 = pm.Normal('rv_rTCR_max_diff_TP3', mu=rv_decay_length_gaussian_TP3*\\\r\n",
        "                                    rv_depletion_gaussian_TP3,                     \r\n",
        "                                    sd=rv_noise_rTCR_max_diff_TP3,\r\n",
        "                                    observed=rTCR_max_diff_obs)\r\n",
        "\r\n",
        "    return metamodel\r\n",
        "\r\n",
        "\r\n",
        "# Down direction\r\n",
        "metamodel= get_metamodel(observed_t_KS1= 75.0,\r\n",
        "                         observed_k_KS1= 25.0,\r\n",
        "                         observed_log_Poff_LA2= -3.0,\r\n",
        "                         observed_log_Diff_LA2= -2.0,\r\n",
        "                         observed_depletion_TP3= 200, # None\r\n",
        "                         observed_decay_length_TP3= 100) # None\r\n",
        "\r\n",
        "\"\"\"\r\n",
        "# Up direction\r\n",
        "# metamodel= get_metamodel(observed_t_KS1= None, # 75.0, None\r\n",
        "#                          observed_k_KS1= None, # 34.0, # \r\n",
        "#                          observed_log_Poff_LA2= None, # -3.0, # None\r\n",
        "#                          observed_log_Diff_LA2= None, # 1.0, # None\r\n",
        "#                          observed_dw_pTCR_TP3= 50, # None, # 50\r\n",
        "#                          observed_dm_pTCR_TP3= 600) # None # 600\r\n",
        "\r\n",
        "gv_metamodel = pm.model_to_graphviz(metamodel)\r\n",
        "# display(gv_metamodel)\r\n",
        "\"\"\"\r\n",
        "TCR_color"
      ],
      "execution_count": 21,
      "outputs": [
        {
          "output_type": "error",
          "ename": "NameError",
          "evalue": "ignored",
          "traceback": [
            "\u001b[0;31m---------------------------------------------------------------------------\u001b[0m",
            "\u001b[0;31mNameError\u001b[0m                                 Traceback (most recent call last)",
            "\u001b[0;32m<ipython-input-21-a2fe263de80f>\u001b[0m in \u001b[0;36m<module>\u001b[0;34m()\u001b[0m\n\u001b[1;32m    265\u001b[0m                          \u001b[0mobserved_log_Diff_LA2\u001b[0m\u001b[0;34m=\u001b[0m \u001b[0;34m-\u001b[0m\u001b[0;36m2.0\u001b[0m\u001b[0;34m,\u001b[0m\u001b[0;34m\u001b[0m\u001b[0;34m\u001b[0m\u001b[0m\n\u001b[1;32m    266\u001b[0m                          \u001b[0mobserved_depletion_TP3\u001b[0m\u001b[0;34m=\u001b[0m \u001b[0;36m200\u001b[0m\u001b[0;34m,\u001b[0m \u001b[0;31m# None\u001b[0m\u001b[0;34m\u001b[0m\u001b[0;34m\u001b[0m\u001b[0m\n\u001b[0;32m--> 267\u001b[0;31m                          observed_decay_length_TP3= 100) # None\n\u001b[0m\u001b[1;32m    268\u001b[0m \u001b[0;34m\u001b[0m\u001b[0m\n\u001b[1;32m    269\u001b[0m \"\"\"\n",
            "\u001b[0;32m<ipython-input-21-a2fe263de80f>\u001b[0m in \u001b[0;36mget_metamodel\u001b[0;34m(observed_t_KS1, observed_k_KS1, observed_log_Poff_LA2, observed_log_Diff_LA2, observed_depletion_TP3, observed_decay_length_TP3)\u001b[0m\n\u001b[1;32m    254\u001b[0m         rv_rTCR_max_diff_TP3 = pm.Normal('rv_rTCR_max_diff_TP3', mu=rv_decay_length_gaussian_TP3*                                    rv_depletion_gaussian_TP3,                     \n\u001b[1;32m    255\u001b[0m                                     \u001b[0msd\u001b[0m\u001b[0;34m=\u001b[0m\u001b[0mrv_noise_rTCR_max_diff_TP3\u001b[0m\u001b[0;34m,\u001b[0m\u001b[0;34m\u001b[0m\u001b[0;34m\u001b[0m\u001b[0m\n\u001b[0;32m--> 256\u001b[0;31m                                     observed=rTCR_max_diff_obs)\n\u001b[0m\u001b[1;32m    257\u001b[0m \u001b[0;34m\u001b[0m\u001b[0m\n\u001b[1;32m    258\u001b[0m     \u001b[0;32mreturn\u001b[0m \u001b[0mmetamodel\u001b[0m\u001b[0;34m\u001b[0m\u001b[0;34m\u001b[0m\u001b[0m\n",
            "\u001b[0;31mNameError\u001b[0m: name 'rTCR_max_diff_obs' is not defined"
          ]
        }
      ]
    },
    {
      "cell_type": "code",
      "metadata": {
        "colab": {
          "base_uri": "https://localhost:8080/",
          "height": 178
        },
        "id": "x9pZryOGg_P7",
        "outputId": "d62b5fc1-cc40-46b4-9117-da83ff1e22c8"
      },
      "source": [
        "gv_metamodel = pm.model_to_graphviz(metamodel)\r\n",
        "# display(gv_metamodel)"
      ],
      "execution_count": 15,
      "outputs": [
        {
          "output_type": "error",
          "ename": "NameError",
          "evalue": "ignored",
          "traceback": [
            "\u001b[0;31m---------------------------------------------------------------------------\u001b[0m",
            "\u001b[0;31mNameError\u001b[0m                                 Traceback (most recent call last)",
            "\u001b[0;32m<ipython-input-15-472136c811be>\u001b[0m in \u001b[0;36m<module>\u001b[0;34m()\u001b[0m\n\u001b[0;32m----> 1\u001b[0;31m \u001b[0mgv_metamodel\u001b[0m \u001b[0;34m=\u001b[0m \u001b[0mpm\u001b[0m\u001b[0;34m.\u001b[0m\u001b[0mmodel_to_graphviz\u001b[0m\u001b[0;34m(\u001b[0m\u001b[0mmetamodel\u001b[0m\u001b[0;34m)\u001b[0m\u001b[0;34m\u001b[0m\u001b[0;34m\u001b[0m\u001b[0m\n\u001b[0m\u001b[1;32m      2\u001b[0m \u001b[0;31m# display(gv_metamodel)\u001b[0m\u001b[0;34m\u001b[0m\u001b[0;34m\u001b[0m\u001b[0;34m\u001b[0m\u001b[0m\n",
            "\u001b[0;31mNameError\u001b[0m: name 'metamodel' is not defined"
          ]
        }
      ]
    },
    {
      "cell_type": "code",
      "metadata": {
        "id": "dvHu02AHudH1"
      },
      "source": [
        "from google.colab import files\r\n",
        "gv_metamodel.render(\"metamodel_graph\", format=\"png\")\r\n",
        "files.download(\"metamodel_graph.png\") # Download locally from colab"
      ],
      "execution_count": null,
      "outputs": []
    },
    {
      "cell_type": "code",
      "metadata": {
        "id": "qZUfmaDmIm-O"
      },
      "source": [
        "with metamodel:\r\n",
        "    trace_metamodel = pm.sample(2000, chains=4)"
      ],
      "execution_count": null,
      "outputs": []
    },
    {
      "cell_type": "code",
      "metadata": {
        "id": "c9pUu5tVJ6hc"
      },
      "source": [
        "pm.traceplot(trace_metamodel);"
      ],
      "execution_count": null,
      "outputs": []
    },
    {
      "cell_type": "code",
      "metadata": {
        "id": "mqk4-DrdLBhc"
      },
      "source": [
        "# !cat /proc/cpuinfo"
      ],
      "execution_count": null,
      "outputs": []
    },
    {
      "cell_type": "code",
      "metadata": {
        "id": "MeENDBn-vz6-"
      },
      "source": [
        "pm.summary(trace_metamodel).round(2)"
      ],
      "execution_count": null,
      "outputs": []
    },
    {
      "cell_type": "code",
      "metadata": {
        "id": "9USHoTFIwm9m"
      },
      "source": [
        "# vars(metamodel)"
      ],
      "execution_count": null,
      "outputs": []
    },
    {
      "cell_type": "code",
      "metadata": {
        "id": "S7pDowWivSvg"
      },
      "source": [
        "pm.summary(trace_metamodel, ['rv_dm_pTCR_TP2', 'rv_dw_pTCR_TP2'])"
      ],
      "execution_count": null,
      "outputs": []
    },
    {
      "cell_type": "code",
      "metadata": {
        "id": "0JNnuS0BdDgA"
      },
      "source": [
        "# metamodel= get_metamodel(observed_t_KS1= 75.0,\r\n",
        "#                          observed_k_KS1= 34.0,\r\n",
        "#                          observed_log_Poff_LA3= -3.0,\r\n",
        "#                          observed_log_Diff_LA3= 1.0\r\n",
        "# model1:\r\n",
        "\r\n",
        "# model2:\r\n",
        "\r\n",
        "# model3:\r\n",
        "\r\n",
        "mu_rv_dm_pTCR_TP2 = trace_metamodel.rv_dm_pTCR_TP2.mean()\r\n",
        "sd_rv_dm_pTCR_TP2 = trace_metamodel.rv_dm_pTCR_TP2.std()\r\n",
        "mu_rv_dw_pTCR_TP2 = trace_metamodel.rv_dw_pTCR_TP2.mean()\r\n",
        "sd_rv_dw_pTCR_TP2 = trace_metamodel.rv_dw_pTCR_TP2.std()\r\n",
        "\r\n",
        "print('mu_rv_dm_pTCR_TP2 =', mu_rv_dm_pTCR_TP2)\r\n",
        "print('sd_rv_dm_pTCR_TP2 =', sd_rv_dm_pTCR_TP2)\r\n",
        "print('mu_rv_dw_pTCR_TP2 =', mu_rv_dw_pTCR_TP2)\r\n",
        "print('sd_rv_dw_pTCR_TP2 =', sd_rv_dw_pTCR_TP2)"
      ],
      "execution_count": null,
      "outputs": []
    },
    {
      "cell_type": "code",
      "metadata": {
        "id": "s9J1XgGXdeop"
      },
      "source": [
        "xx = np.linspace(0, 1000, 201)\r\n",
        "\r\n",
        "# TCR:\r\n",
        "d_TCR = np.zeros(xx.shape)\r\n",
        "d_TCR[xx < 250] = 1\r\n",
        "# CD45:\r\n",
        "mu_rv_dw_aLCK_TP2 = trace_metamodel.rv_dw_aLCK_TP2.mean()\t\r\n",
        "mu_rv_dm_CD45_TP2 = trace_metamodel.rv_dm_CD45_TP2.mean()\r\n",
        "d_CD45 = np.zeros(xx.shape)\r\n",
        "d_CD45[(xx > mu_rv_dm_CD45_TP2-250) & (xx < mu_rv_dm_CD45_TP2+250)] = 1\r\n",
        "# aLCK:\r\n",
        "d_aLCK = 2*np.exp(-0.5*((xx - mu_rv_dm_CD45_TP2)/mu_rv_dw_aLCK_TP2)**2)\r\n",
        "# pTCR:\r\n",
        "d_pTCR = np.exp(-0.5*((xx - mu_rv_dm_pTCR_TP2)/mu_rv_dw_pTCR_TP2)**2)\r\n",
        "\r\n",
        "\r\n",
        "fig, ax3=plt.subplots(figsize=[12,3])\r\n",
        "\r\n",
        "ax3.plot(xx, d_TCR, '-', color=TCR_color)\r\n",
        "ax3.plot(xx, d_CD45, '-', color=CD45_color)\r\n",
        "ax3.plot(xx, d_aLCK, '-', color=aLCK_color)\r\n",
        "ax3.plot(xx, d_pTCR, '-', color=pTCR_color)"
      ],
      "execution_count": null,
      "outputs": []
    },
    {
      "cell_type": "code",
      "metadata": {
        "id": "yWiUScXee9au"
      },
      "source": [
        "plt.scatter(trace_metamodel.rv_dm_CD45_TP2, trace_metamodel.rv_dw_aLCK_TP2, s=1)\r\n",
        "plt.xlabel('rv_dm_CD45_TP2(nm)')\r\n",
        "plt.ylabel('rv_dw_aLCK_TP2(nm)')\r\n",
        "plt.xlim(300, 1000)"
      ],
      "execution_count": null,
      "outputs": []
    },
    {
      "cell_type": "code",
      "metadata": {
        "id": "V_UJ1DN0FZj6"
      },
      "source": [
        ""
      ],
      "execution_count": null,
      "outputs": []
    }
  ]
}