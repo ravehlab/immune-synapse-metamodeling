{
  "nbformat": 4,
  "nbformat_minor": 0,
  "metadata": {
    "colab": {
      "name": "coupled_model_new.ipynb",
      "provenance": [],
      "collapsed_sections": []
    },
    "kernelspec": {
      "display_name": "Python 3",
      "name": "python3"
    }
  },
  "cells": [
    {
      "cell_type": "code",
      "metadata": {
        "id": "LiRhZKeG7PMG",
        "colab": {
          "base_uri": "https://localhost:8080/"
        },
        "outputId": "b68bc5d7-0d0f-4f6e-d2ac-ba0b367422f7"
      },
      "source": [
        "# !pip install arviz -q\n",
        "# !pip install theano-pymc -q\n",
        "# !pip install pymc3==3.10.0 -q #\n",
        "\n",
        "!pip install arviz==0.6.1 -q\n",
        "!pip install pymc3==3.8 -q\n",
        "!pip install Theano==1.0.4 -q"
      ],
      "execution_count": null,
      "outputs": [
        {
          "output_type": "stream",
          "text": [
            "\u001b[K     |████████████████████████████████| 1.4MB 7.9MB/s \n",
            "\u001b[K     |████████████████████████████████| 4.7MB 33.6MB/s \n",
            "\u001b[K     |████████████████████████████████| 317kB 24.1MB/s \n",
            "\u001b[K     |████████████████████████████████| 911kB 8.1MB/s \n",
            "\u001b[K     |████████████████████████████████| 2.8MB 7.9MB/s \n",
            "\u001b[?25h  Building wheel for Theano (setup.py) ... \u001b[?25l\u001b[?25hdone\n"
          ],
          "name": "stdout"
        }
      ]
    },
    {
      "cell_type": "code",
      "metadata": {
        "colab": {
          "base_uri": "https://localhost:8080/"
        },
        "id": "fOum5Bri7nIt",
        "outputId": "9a3476ce-fa9e-46d6-b079-ccd0200a3a9e"
      },
      "source": [
        "import numpy as np\n",
        "# import scipy as sp\n",
        "import pymc3 as pm\n",
        "import pandas as pd\n",
        "import matplotlib.pyplot as plt\n",
        "import seaborn as sns\n",
        "# import theano.tensor as tt\n",
        "# import scipy.stats as stats\n",
        "import arviz as az\n",
        "from google.colab import files\n",
        "\n",
        "print('Running on PyMC3 v{}'.format(pm.__version__))\n",
        "print('Running on ArviZ v{}'.format(az.__version__))"
      ],
      "execution_count": null,
      "outputs": [
        {
          "output_type": "stream",
          "text": [
            "Running on PyMC3 v3.8\n",
            "Running on ArviZ v0.6.1\n"
          ],
          "name": "stdout"
        }
      ]
    },
    {
      "cell_type": "markdown",
      "metadata": {
        "id": "dZXkvaap8fER"
      },
      "source": [
        "## Metamodel containing all surrogate models and their coupling"
      ]
    },
    {
      "cell_type": "code",
      "metadata": {
        "colab": {
          "resources": {
            "http://localhost:8080/nbextensions/google.colab/files.js": {
              "data": "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",
              "ok": true,
              "headers": [
                [
                  "content-type",
                  "application/javascript"
                ]
              ],
              "status": 200,
              "status_text": ""
            }
          },
          "base_uri": "https://localhost:8080/",
          "height": 157
        },
        "id": "ZB-Aq3VwGE0W",
        "outputId": "91264047-64be-49b3-ebf0-3dc20df8e5bd"
      },
      "source": [
        "uploaded = files.upload() \n",
        "\n",
        "!ls"
      ],
      "execution_count": null,
      "outputs": [
        {
          "output_type": "display_data",
          "data": {
            "text/html": [
              "\n",
              "     <input type=\"file\" id=\"files-ec0d3ff6-dbef-4476-99ff-0a929f205572\" name=\"files[]\" multiple disabled\n",
              "        style=\"border:none\" />\n",
              "     <output id=\"result-ec0d3ff6-dbef-4476-99ff-0a929f205572\">\n",
              "      Upload widget is only available when the cell has been executed in the\n",
              "      current browser session. Please rerun this cell to enable.\n",
              "      </output>\n",
              "      <script src=\"/nbextensions/google.colab/files.js\"></script> "
            ],
            "text/plain": [
              "<IPython.core.display.HTML object>"
            ]
          },
          "metadata": {
            "tags": []
          }
        },
        {
          "output_type": "stream",
          "text": [
            "Saving trace1_summary to trace1_summary\n",
            "Saving trace3_summary to trace3_summary\n",
            "Saving trace2_summary to trace2_summary\n",
            "sample_data  trace1_summary  trace2_summary  trace3_summary\n"
          ],
          "name": "stdout"
        }
      ]
    },
    {
      "cell_type": "code",
      "metadata": {
        "colab": {
          "base_uri": "https://localhost:8080/",
          "height": 166
        },
        "id": "h4iDfveZYiar",
        "outputId": "bc2469a5-3e48-49de-bbb9-33df7ce2d7f2"
      },
      "source": [
        "\n",
        "trace1_summary_r = pd.read_pickle('trace1_summary')\n",
        "trace2_summary_r = pd.read_pickle('trace2_summary')\n",
        "trace3_summary_r = pd.read_pickle('trace3_summary') \n",
        "\n",
        "# displaying the rv names and the data of intersest: 'mean' and 'sd':\n",
        "mean_sd_r = trace1_summary_r.loc[:, ['mean','sd']]\n",
        "mean_sd_r"
      ],
      "execution_count": null,
      "outputs": [
        {
          "output_type": "execute_result",
          "data": {
            "text/html": [
              "<div>\n",
              "<style scoped>\n",
              "    .dataframe tbody tr th:only-of-type {\n",
              "        vertical-align: middle;\n",
              "    }\n",
              "\n",
              "    .dataframe tbody tr th {\n",
              "        vertical-align: top;\n",
              "    }\n",
              "\n",
              "    .dataframe thead th {\n",
              "        text-align: right;\n",
              "    }\n",
              "</style>\n",
              "<table border=\"1\" class=\"dataframe\">\n",
              "  <thead>\n",
              "    <tr style=\"text-align: right;\">\n",
              "      <th></th>\n",
              "      <th>mean</th>\n",
              "      <th>sd</th>\n",
              "    </tr>\n",
              "  </thead>\n",
              "  <tbody>\n",
              "    <tr>\n",
              "      <th>rv_intercept_dep_KS1</th>\n",
              "      <td>44.225</td>\n",
              "      <td>4.039</td>\n",
              "    </tr>\n",
              "    <tr>\n",
              "      <th>rv_slope_t_dep_KS1</th>\n",
              "      <td>1.239</td>\n",
              "      <td>0.048</td>\n",
              "    </tr>\n",
              "    <tr>\n",
              "      <th>rv_slope_k_dep_KS1</th>\n",
              "      <td>0.621</td>\n",
              "      <td>0.049</td>\n",
              "    </tr>\n",
              "    <tr>\n",
              "      <th>rv_noise_dep_KS1</th>\n",
              "      <td>13.834</td>\n",
              "      <td>1.022</td>\n",
              "    </tr>\n",
              "  </tbody>\n",
              "</table>\n",
              "</div>"
            ],
            "text/plain": [
              "                        mean     sd\n",
              "rv_intercept_dep_KS1  44.225  4.039\n",
              "rv_slope_t_dep_KS1     1.239  0.048\n",
              "rv_slope_k_dep_KS1     0.621  0.049\n",
              "rv_noise_dep_KS1      13.834  1.022"
            ]
          },
          "metadata": {
            "tags": []
          },
          "execution_count": 7
        }
      ]
    },
    {
      "cell_type": "code",
      "metadata": {
        "id": "UcTFPnmzSpPG"
      },
      "source": [
        "use_wTCR = False\n",
        "use_wCD45 = False\n",
        "use_sigmoid = False\n",
        "\n",
        "### model1:\n",
        "\n",
        "if use_sigmoid:\n",
        "    \n",
        "    # devisor_t, TruncatedNormal:\n",
        "    lower_rv_divisor_t_dep_KS1 = 0\n",
        "    upper_rv_divisor_t_dep_KS1 = None\n",
        "\n",
        "    # devisor_k, TruncatedNormal:\n",
        "    lower_rv_divisor_k_dep_KS1 = 0\n",
        "    upper_rv_divisor_k_dep_KS1 = None\n",
        "\n",
        "    # min, TruncatedNormal:\n",
        "    lower_rv_min_dep_KS1 = None\n",
        "    upper_rv_min_dep_KS1 = 0\n",
        "\n",
        "    # max, TruncatedNormal:\n",
        "    lower_rv_max_dep_KS1 = 20\n",
        "    upper_rv_max_dep_KS1 = None\n",
        "\n",
        "else:\n",
        "    pass()\n",
        "\n",
        "### model2:\n",
        "lower_rv_maxDiff_lambdaALCK_LA2 = 0.0\n",
        "upper_rv_maxDiff_lambdaALCK_LA2 = None\n",
        "\n",
        "# devisor_logDiff:\n",
        "lower_rv_devisor_logDiff_lambdaALCK_LA2 = None\n",
        "upper_rv_devisor_logDiff_lambdaALCK_LA2 = 0\n",
        "\n",
        "# maxPoff:\n",
        "lower_rv_maxPoff_lambdaALCK_LA2 = 0.0\n",
        "upper_rv_maxPoff_lambdaALCK_LA2 = None\n",
        "\n",
        "# devisor_logPoff:\n",
        "lower_rv_devisor_logPoff_lambdaALCK_LA2 = 0\n",
        "upper_rv_devisor_logPoff_lambdaALCK_LA2 = None\n",
        "\n",
        "### model3:\n",
        "### rTCRrMean_TP3: ##################\n",
        "lower_rv_devisor_decayLength_rTCRrMean_TP3 = 0\n",
        "upper_rv_devisor_decayLength_rTCRrMean_TP3 = None\n",
        "\n",
        "# min_decayLength_rTCRrMean, Normal:\n",
        "lower_rv_min_decayLength_rTCRrMean_TP3 = 0\n",
        "upper_rv_min_decayLength_rTCRrMean_TP3 = 16 # ?\n",
        "\n",
        "# max_decayLength_rTCRrMean, Normal:\n",
        "lower_rv_max_decayLength_rTCRrMean_TP3 = 16 # ?\n",
        "upper_rv_max_decayLength_rTCRrMean_TP3 = None\n",
        "\n",
        "### rTCRhMean: ###################\n",
        "# sigma_decayLength_rTCRhMean, Normal:\n",
        "mu_rv_sigma_decayLength_rTCRhMean_TP3 = 70.0\n",
        "sd_rv_sigma_decayLength_rTCRhMean_TP3 = 10.0\n"
      ],
      "execution_count": null,
      "outputs": []
    },
    {
      "cell_type": "code",
      "metadata": {
        "id": "aJ4flFPc7viJ"
      },
      "source": [
        "use_wTCR = False\n",
        "use_wCD45 = False\n",
        "use_sigmoid = False\n",
        "\n",
        "def get_metamodel(observed_t_KS1 = None,\n",
        "                  observed_k_KS1 = None,\n",
        "                  observed_logPoff_LA2 = None, \n",
        "                  observed_logDiff_LA2 = None,\n",
        "                  observed_rTCRrMean_TP3 = None,\n",
        "                  observed_rTCRhMean_TP3 = None):\n",
        "    \n",
        "    ''' return a metamodel with all surrogate models '''\n",
        "\n",
        "    metamodel = pm.Model()\n",
        "    with metamodel:\n",
        "        ### model1 - KS (kinetic segregation) ###########################    \n",
        "        if True: # direction == 'A':\n",
        "            param_t_KS1 = pm.Uniform('param_t_KS1', 0, 100, observed = observed_t_KS1)\n",
        "            param_k_KS1 = pm.Uniform('param_k_KS1', 0, 100, observed = observed_k_KS1)\n",
        "\n",
        "        # dw_TCR_KS ####################################################\n",
        "        if use_wTCR:\n",
        "            # surface t slope:\n",
        "            rv_slope_t_wTCR_KS1 = pm.HalfNormal('rv_slope_t_wTCR_KS1', \n",
        "                      sd = trace1_summary_r.loc['rv_slope_t_wTCR_KS1','mean']) \n",
        "\n",
        "            # surface k slope:\n",
        "            rv_slope_k_wTCR_KS1 = pm.HalfNormal('rv_slope_k_wTCR_KS1', \n",
        "                      sd = trace1_summary_r.loc['rv_slope_k_wTCR_KS1','mean']) \n",
        "            \n",
        "            # surface intercept:\n",
        "            rv_intercept_wTCR_KS1 = pm.Normal('rv_intercept_wTCR_KS1', \n",
        "                    mu = trace1_summary_r.loc['rv_intercept_wTCR_KS1','mean'],\n",
        "                    sd = trace1_summary_r.loc['rv_intercept_wTCR_KS1','sd']) \n",
        "\n",
        "            # noise:\n",
        "            rv_noise_wTCR_KS1 = pm.HalfNormal('rv_noise_wTCR_KS1', \n",
        "                    sd = trace1_summary_r.loc['rv_noise_wTCR_KS1','mean'])  \n",
        "            \n",
        "            # wTCR:\n",
        "            rv_wTCR_KS1 = pm.Normal('rv_wTCR_KS1', mu = rv_intercept_wTCR_KS1 +\\\n",
        "                                    rv_slope_t_wTCR_KS1*param_rv_t +\\\n",
        "                                    rv_slope_k_wTCR_KS1*param_rv_k,\n",
        "                                    sd = rv_noise_wTCR_KS1) #   \n",
        "\n",
        "        # w_CD45_KS ####################################################\n",
        "        if use_wCD45:\n",
        "            # surface t slope:\n",
        "            rv_slope_t_wCD45_KS1 = pm.HalfNormal('rv_slope_t_wCD45_KS1',\n",
        "                       sd = trace1_summary_r.loc['rv_slope_t_wCD45_KS1','mean']) \n",
        "\n",
        "            # surface k slope:\n",
        "            rv_slope_k_wCD45_KS1 = pm.HalfNormal('rv_slope_k_wCD45_KS1', \n",
        "                       sd = trace1_summary_r.loc['rv_slope_k_wCD45_KS1','mean']) \n",
        "\n",
        "            # surface intercept:\n",
        "            rv_intercept_wCD45_KS1 = pm.Normal('rv_intercept_wCD45_KS1', \n",
        "                     mu = trace1_summary_r.loc['rv_intercept_wCD45_KS1','mean'], \n",
        "                     sd = trace1_summary_r.loc['rv_intercept_wCD45_KS1','sd']) \n",
        "\n",
        "            # noise:\n",
        "            rv_noise_wCD45_KS1 = pm.HalfNormal('rv_noise_wCD45_KS1', \n",
        "                     sd = trace1_summary_r.loc['rv_noise_wCD45_KS1','mean']) \n",
        "\n",
        "            # wCD45:\n",
        "            rv_wCD45_KS1 = pm.Normal('rv_wCD45_KS',\n",
        "                                    mu = rv_intercept_wCD45_KS1 +\\\n",
        "                                    rv_slope_t_wCD45_KS1*param_rv_t +\\\n",
        "                                    rv_slope_k_wCD45_KS1*param_rv_k,\n",
        "                                    sd = rv_noise_wCD45_KS1) #\n",
        "\n",
        "        # dep_KS #####################################################\n",
        "        if use_sigmoid:\n",
        "            # sigmoid center t:\n",
        "            rv_center_t_dep_KS1 = pm.Normal('rv_center_t_dep_KS1',\n",
        "                  mu = trace1_summary_r.loc['rv_center_t_dep_KS1','mean'], \n",
        "                  sd = trace1_summary_r.loc['rv_center_t_dep_KS1','sd'])\n",
        "            \n",
        "            # sigmoid devisor t:\n",
        "            rv_divisor_t_dep_KS1 = pm.TruncatedNormal('rv_divisor_t_dep_KS1',\n",
        "                            mu = trace1_summary_r.loc['rv_divisor_t_dep_KS1','mean'],\n",
        "                            sd = trace1_summary_r.loc['rv_divisor_t_dep_KS1','sd'],\n",
        "                            lower = lower_rv_divisor_t_dep_KS1,\n",
        "                            upper = upper_rv_divisor_t_dep_KS1)\n",
        "            \n",
        "            # sigmoid center t:\n",
        "            rv_center_k_dep_KS1 = pm.Normal('rv_center_k_dep_KS1',\n",
        "                  mu = trace1_summary_r.loc['rv_center_k_dep_KS1','mean'], \n",
        "                  sd = trace1_summary_r.loc['rv_center_k_dep_KS1','sd'])\n",
        "            \n",
        "            # sigmoid devisor t:\n",
        "            rv_divisor_k_dep_KS1 = pm.TruncatedNormal('rv_divisor_k_dep_KS1',\n",
        "                            mu = trace1_summary_r.loc['rv_divisor_k_dep_KS1','mean'], \n",
        "                            sd = trace1_summary_r.loc['rv_divisor_k_dep_KS1','mean'],\n",
        "                            lower = lower_rv_divisor_k_dep_KS1,\n",
        "                            upper = upper_rv_divisor_k_dep_KS1)\n",
        "\n",
        "            # sigmoid min:        \n",
        "            rv_min_dep_KS1 = pm.TruncatedNormal('rv_min_dep_KS1',\n",
        "                      mu = trace1_summary_r.loc['rv_min_dep_KS1','mean'],\n",
        "                      sd = trace1_summary_r.loc['rv_min_dep_KS1','sd'],\n",
        "                      lower = lower_rv_min_dep_KS1,\n",
        "                      upper = upper_rv_min_dep_KS1)\n",
        "            \n",
        "            # sigmoid max:\n",
        "            rv_max_dep_KS1 = pm.TruncatedNormal('rv_max_dep_KS1',\n",
        "                      mu = trace1_summary_r.loc['rv_max_dep_KS1','mean'],\n",
        "                      sd = trace1_summary_r.loc['rv_max_dep_KS1','mean'],\n",
        "                      lower = lower_rv_max_dep_KS1,\n",
        "                      upper = upper_rv_max_dep_KS1)\n",
        "\n",
        "            # sigmoids ratio:\n",
        "            rv_sigRatio_dep_KS1 = pm.Normal('rv_sigRatio_dep_KS1',\n",
        "                  mu = trace1_summary_r.loc['rv_sigRatio_dep_KS1','mean'],\n",
        "                  sd = trace1_summary_r.loc['rv_sigRatio_dep_KS1','sd'])\n",
        "\n",
        "            # noise: \n",
        "            rv_noise_dep_KS1 = pm.HalfNormal('rv_noise_dep_KS1',\n",
        "                   sd = trace1_summary_r.loc['rv_noise_dep_KS1','mean'])\n",
        "\n",
        "            # exponent of sigmoid t:\n",
        "            rv_tmp_x2 = (param_rv_t - rv_center_t_dep_KS1)/rv_divisor_t_dep_KS1\n",
        "\n",
        "            # sigmoid t:\n",
        "            rv_tmp_sig2 = 1.0/(1 + np.exp(-rv_tmp_x2))\n",
        "\n",
        "            # exponent of sigmoid k:\n",
        "            rv_tmp_x1 = (param_rv_k - rv_center_k_dep_KS1)/rv_divisor_k_dep_KS1\n",
        "\n",
        "            # sigmoid k:\n",
        "            rv_tmp_sig1 = 1.0/(1 + np.exp(-rv_tmp_x1))\n",
        "            \n",
        "            # dep:\n",
        "            rv_dep_KS = pm.Normal('rv_dep_KS', mu = rv_min_dep_KS1 +\\\n",
        "                                  (rv_max_dep_KS1 - rv_min_dep_KS1)*\\\n",
        "                                   rv_tmp_sig1 + rv_sigRatio_dep_KS1*rv_tmp_sig2,\n",
        "                                   sd = rv_noise_dep_KS1)\n",
        "                   \n",
        "        else: # linear model1 and not sigmoid\n",
        "            # rv_***_t_dep_KS1\n",
        "            # surface t slope\n",
        "            rv_slope_t_dep_KS1 = pm.HalfNormal('rv_slope_t_dep_KS1', \n",
        "                     sd = trace1_summary_r.loc['rv_slope_t_dep_KS1','mean'])\n",
        "            \n",
        "            # rv_***_k_dep_KS1\n",
        "            # surface k slope\n",
        "            rv_slope_k_dep_KS1 = pm.HalfNormal('rv_slope_k_dep_KS1', \n",
        "                     sd = trace1_summary_r.loc['rv_slope_k_dep_KS1','mean'])\n",
        "            \n",
        "            # rv_***_dep_KS1\n",
        "            # surface intercept\n",
        "            rv_intercept_dep_KS1 = pm.Normal('rv_intercept_dep_KS1', \n",
        "                   mu = trace1_summary_r.loc['rv_intercept_dep_KS1','mean'], \n",
        "                   sd = trace1_summary_r.loc['rv_intercept_dep_KS1','sd'])\n",
        "            \n",
        "            # noise \n",
        "            rv_noise_dep_KS1 = pm.HalfNormal('rv_noise_dep_KS1', \n",
        "                   sd = trace1_summary_r.loc['rv_noise_dep_KS1','mean'])\n",
        "            \n",
        "            # rv_wCD45_KS1, equation:\n",
        "            rv_dep_KS1 = pm.Normal('rv_dep_KS1', mu = rv_intercept_dep_KS1 +\\\n",
        "                                    rv_slope_t_dep_KS1*param_t_KS1 +\\\n",
        "                                    rv_slope_k_dep_KS1*param_k_KS1,\n",
        "                                    sd = rv_noise_dep_KS1) #\n",
        "\n",
        "\n",
        "        ############################################################\n",
        "        ### model2 - LA (LCK activation) ###########################\n",
        "        if True: # direction == 'A':\n",
        "            param_logDiff_LA2 = pm.Uniform('param_logDiff_LA2', -3, 0, observed = observed_logDiff_LA2)\n",
        "            param_logPoff_LA2 = pm.Uniform('param_logPoff_LA2', -5, 0, observed = observed_logPoff_LA2)\n",
        "            \n",
        "            # rv_logDiff_LA2 = pm.Normal('rv_logDiff_LA2', \n",
        "            #                            mu = observed_logDiff_LA2, \n",
        "            #                            sd = 0.5)\n",
        "            # rv_logPoff_LA2 = pm.Uniform('rv_logPoff_LA2', \n",
        "            #                             observed_logPoff_LA2, 0.5)\n",
        "\n",
        "        # noise\n",
        "        rv_noise_lambdaALCK_LA2 = \\\n",
        "                        pm.HalfNormal('rv_noise_lambdaALCK_LA2',\n",
        "            sd = trace2_summary_r.loc['rv_noise_lambdaALCK_LA2','mean']) \n",
        "        \n",
        "        # Diff sigmoid max:\n",
        "        rv_maxDiff_lambdaALCK_LA2 = pm.TruncatedNormal('rv_maxDiff_lambdaALCK_LA2', \n",
        "                             mu = trace2_summary_r.loc['rv_maxDiff_lambdaALCK_LA2','mean'],\n",
        "                             sd = trace2_summary_r.loc['rv_maxDiff_lambdaALCK_LA2','sd'],\n",
        "                             lower = lower_rv_maxDiff_lambdaALCK_LA2,\n",
        "                             upper = upper_rv_maxDiff_lambdaALCK_LA2)\n",
        "        \n",
        "        # Diff sigmoid center:\n",
        "        rv_center_logDiff_lambdaALCK_LA2 = pm.Normal('rv_center_logDiff_lambdaALCK_LA2',\n",
        "                           mu = trace2_summary_r.loc['rv_center_logDiff_lambdaALCK_LA2','mean'],\n",
        "                           sd = trace2_summary_r.loc['rv_center_logDiff_lambdaALCK_LA2','sd'])\n",
        "        \n",
        "        # Diff sigmoid devisor:\n",
        "        rv_devisor_logDiff_lambdaALCK_LA2 = pm.TruncatedNormal('rv_devisor_logDiff_lambdaALCK_LA2',\n",
        "                                     mu = trace2_summary_r.loc['rv_devisor_logDiff_lambdaALCK_LA2','mean'],\n",
        "                                     sd = trace2_summary_r.loc['rv_devisor_logDiff_lambdaALCK_LA2','sd'],\n",
        "                                     lower = lower_rv_devisor_logDiff_lambdaALCK_LA2,\n",
        "                                     upper = upper_rv_devisor_logDiff_lambdaALCK_LA2)\n",
        "        \n",
        "        # Poff sigmoid max:\n",
        "        rv_maxPoff_lambdaALCK_LA2 = pm.TruncatedNormal('rv_maxPoff_lambdaALCK_LA2', \n",
        "                              mu = trace2_summary_r.loc['rv_maxPoff_lambdaALCK_LA2','mean'],\n",
        "                              sd = trace2_summary_r.loc['rv_maxPoff_lambdaALCK_LA2','sd'],\n",
        "                              lower = lower_rv_maxPoff_lambdaALCK_LA2,\n",
        "                              upper = upper_rv_maxPoff_lambdaALCK_LA2)\n",
        "        \n",
        "        # Poff sigmoid center:        \n",
        "        rv_center_logPoff_lambdaALCK_LA2 = pm.Normal('rv_center_logPoff_lambdaALCK_LA2',\n",
        "                           mu = trace2_summary_r.loc['rv_center_logPoff_lambdaALCK_LA2','mean'],\n",
        "                           sd = trace2_summary_r.loc['rv_center_logPoff_lambdaALCK_LA2','sd'])\n",
        "        \n",
        "        # Poff sigmoid devisor:\n",
        "        rv_devisor_logPoff_lambdaALCK_LA2 = pm.TruncatedNormal('rv_devisor_logPoff_lambdaALCK_LA2', \n",
        "                                     mu = trace2_summary_r.loc['rv_devisor_logPoff_lambdaALCK_LA2','mean'], \n",
        "                                     sd = trace2_summary_r.loc['rv_devisor_logPoff_lambdaALCK_LA2','mean'],\n",
        "                                     lower = lower_rv_devisor_logPoff_lambdaALCK_LA2,\n",
        "                                     upper = upper_rv_devisor_logPoff_lambdaALCK_LA2)\n",
        "\n",
        "        # exponent of logDiff sigmoid:\n",
        "        rv_tmp_x1 = (param_logDiff_LA2 - rv_center_logDiff_lambdaALCK_LA2)/\\\n",
        "        rv_devisor_logDiff_lambdaALCK_LA2\n",
        "\n",
        "        # logDiff sigmoid:\n",
        "        rv_tmp_sig1 = rv_maxDiff_lambdaALCK_LA2/(1 + np.exp(-rv_tmp_x1))\n",
        "\n",
        "        # exponent of logPoff sigmoid:\n",
        "        rv_tmp_x2 = (param_logPoff_LA2 - rv_center_logPoff_lambdaALCK_LA2)/\\\n",
        "        rv_devisor_logPoff_lambdaALCK_LA2\n",
        "\n",
        "        # logpoff sigmoid:\n",
        "        rv_tmp_sig2 = rv_maxPoff_lambdaALCK_LA2/(1 + np.exp(-rv_tmp_x2))\n",
        "\n",
        "        # lambdaALCK:\n",
        "        rv_lambdaALCK_LA2 = pm.Normal('rv_lambdaALCK_LA2', \n",
        "                                       mu = rv_tmp_sig1*rv_tmp_sig2,\n",
        "                                       sd = rv_noise_lambdaALCK_LA2)\n",
        "\n",
        "        ### Coupling: ###############################################\n",
        "        ### from models to coupled: #################################\n",
        "        ### from model1: \n",
        "        if use_wTCR:\n",
        "            rv_wTCR_C = pm.Normal('rv_wTCR_C', \n",
        "                                   mu = rv_wTCR_KS1, \n",
        "                                   sd = 20)\n",
        "\n",
        "        if use_wCD45:           \n",
        "            rv_wCD45_C = pm.Normal('rv_wCD45_C', \n",
        "                                    mu = rv_wCD45_KS1, \n",
        "                                    sd = 20)\n",
        "                 \n",
        "        rv_dep_C = pm.Normal('rv_dep_C', \n",
        "                              mu = rv_dep_KS1, \n",
        "                              sd = 20) \n",
        "        \n",
        "        ### from model2: \n",
        "        # rv_lambdaALCK_C = pm.Normal('rv_lambdaALCK_C', \n",
        "        #                              mu = rv_lambdaALCK_LA2, \n",
        "        #                              sd = 2)\n",
        "\n",
        "        rv_decayLength_C = pm.Normal('rv_decayLength_C', \n",
        "                                   mu = 1/rv_lambdaALCK_LA2, # !!!!\n",
        "                                   sd = 50) \n",
        "        \n",
        "        rv_depletion_C = pm.Normal('rv_depletion_C', \n",
        "                                   mu = rv_dep_C, \n",
        "                                   sd = 30)\n",
        "        \n",
        "        ### from coupled to models: #####################\n",
        "        ### to model3: \n",
        "        rv_decayLength_TP3 = pm.Normal('rv_decayLength_TP3',\n",
        "                                           mu = rv_decayLength_C,\n",
        "                                           sd = 30)\n",
        "\n",
        "        rv_depletion_TP3 = pm.Normal('rv_depletion_TP3',\n",
        "                                      mu = rv_dep_C,\n",
        "                                      sd = 30)\n",
        "\n",
        "        ### model3: ##########################################\n",
        "        ### rTCRrMean ########################################\n",
        "        # noise\n",
        "        rv_noise_rTCRrMean_TP3 = \\\n",
        "                        pm.HalfNormal('rv_noise_rTCRrMean_TP3', \n",
        "            sd = trace3_summary_r.loc['rv_noise_rTCRrMean_TP3','mean']) \n",
        "\n",
        "        # sigmoid center of decayLength_rTCRrMean:\n",
        "        rv_center_decayLength_rTCRrMean_TP3 = \\\n",
        "                        pm.Normal('rv_center_decayLength_rTCRrMean_TP3',\n",
        "        mu = trace3_summary_r.loc['rv_center_decayLength_rTCRrMean_TP3','mean'], \n",
        "        sd = trace3_summary_r.loc['rv_center_decayLength_rTCRrMean_TP3','sd'])\n",
        "        \n",
        "        # sigmoid devisor of decayLength_rTCRrMean:\n",
        "        rv_devisor_decayLength_rTCRrMean_TP3 = \\\n",
        "                        pm.TruncatedNormal('rv_devisor_decayLength_rTCRrMean_TP3',\n",
        "                 mu = trace3_summary_r.loc['rv_devisor_decayLength_rTCRrMean_TP3','mean'],\n",
        "                 sd = trace3_summary_r.loc['rv_devisor_decayLength_rTCRrMean_TP3','sd'],\n",
        "                 lower = lower_rv_devisor_decayLength_rTCRrMean_TP3,\n",
        "                 upper = upper_rv_devisor_decayLength_rTCRrMean_TP3)\n",
        "        \n",
        "        # sigmoid min of decayLength_rTCRrMean:\n",
        "        rv_min_decayLength_rTCRrMean_TP3 = \\\n",
        "                        pm.Normal('rv_min_decayLength_rTCRrMean_TP3',\n",
        "        mu = trace3_summary_r.loc['rv_min_decayLength_rTCRrMean_TP3','mean'],\n",
        "        sd = trace3_summary_r.loc['rv_min_decayLength_rTCRrMean_TP3','sd'])\n",
        "        \n",
        "        # sigmoid max of decayLength_rTCRrMean:\n",
        "        rv_max_decayLength_rTCRrMean_TP3 = \\\n",
        "                        pm.Normal('rv_max_decayLength_rTCRrMean_TP3',\n",
        "        mu = trace3_summary_r.loc['rv_max_decayLength_rTCRrMean_TP3','mean'],\n",
        "        sd = trace3_summary_r.loc['rv_max_decayLength_rTCRrMean_TP3','sd'])\n",
        "\n",
        "        # decayLength_rTCRrMean:\n",
        "        rv_decayLength_rTCRrMean_TP3 = \\\n",
        "        (rv_min_decayLength_rTCRrMean_TP3 + \\\n",
        "        (rv_max_decayLength_rTCRrMean_TP3 - rv_min_decayLength_rTCRrMean_TP3)*\\\n",
        "        np.exp(-(rv_decayLength_TP3 - rv_center_decayLength_rTCRrMean_TP3)/\\\n",
        "                     rv_devisor_decayLength_rTCRrMean_TP3))\n",
        "\n",
        "        \n",
        "        ### rv_***_depletion_rTCRrMean_TP ##################\n",
        "        # intercept of depletion_rTCRrMean:\n",
        "        rv_intercept_depletion_rTCRrMean_TP3 = \\\n",
        "                        pm.Normal('rv_intercept_depletion_rTCRrMean_TP3',\n",
        "        mu = trace3_summary_r.loc['rv_intercept_depletion_rTCRrMean_TP3','mean'],\n",
        "        sd = trace3_summary_r.loc['rv_intercept_depletion_rTCRrMean_TP3','sd'])\n",
        "        \n",
        "        # logSlope of depletion_rTCRrMean:\n",
        "        rv_logSlope_depletion_rTCRrMean_TP3 = \\\n",
        "                        pm.Normal('rv_logSlope_depletion_rTCRrMean_TP3',\n",
        "        mu = trace3_summary_r.loc['rv_logSlope_depletion_rTCRrMean_TP3','mean'],\n",
        "        sd = trace3_summary_r.loc['rv_logSlope_depletion_rTCRrMean_TP3','sd'])\n",
        "        \n",
        "        # line of depletion_rTCRrMean:\n",
        "        rv_depletion_rTCRrMean_TP3 = \\\n",
        "        rv_intercept_depletion_rTCRrMean_TP3 + \\\n",
        "        (10**rv_logSlope_depletion_rTCRrMean_TP3)*rv_depletion_TP3\n",
        "        \n",
        "        ## rTCRrMean:\n",
        "        rv_rTCRrMean_TP3 = \\\n",
        "                pm.Normal('rv_rTCRrMean_TP3', \n",
        "                mu = rv_decayLength_rTCRrMean_TP3 + \\\n",
        "                rv_depletion_rTCRrMean_TP3, \n",
        "                sd = rv_noise_rTCRrMean_TP3,\n",
        "                observed = observed_rTCRrMean_TP3)\n",
        "             \n",
        "        ### rv_***_decayLength_rTCRhMean_TP: ################\n",
        "        # noise:\n",
        "        rv_noise_rTCRhMean_TP3 = \\\n",
        "                    pm.HalfNormal('rv_noise_rTCRhMean_TP3', \n",
        "        sd = trace3_summary_r.loc['rv_noise_rTCRhMean_TP3','mean']) \n",
        "\n",
        "        # gaussian sigma of decayLength_rTCRhMean:\n",
        "        rv_sigma_decayLength_rTCRhMean_TP3 = \\\n",
        "                        pm.Normal('rv_sigma_decayLength_rTCRhMean_TP3',\n",
        "        mu = trace3_summary_r.loc['rv_sigma_decayLength_rTCRhMean_TP3','mean'],\n",
        "        sd = trace3_summary_r.loc['rv_sigma_decayLength_rTCRhMean_TP3','sd'])\n",
        "        \n",
        "        # gaussian mu of decayLength_rTCRhMean:\n",
        "        rv_mu_decayLength_rTCRhMean_TP3 = \\\n",
        "                        pm.Normal('rv_mu_decayLength_rTCRhMean_TP3',\n",
        "        mu = trace3_summary_r.loc['rv_mu_decayLength_rTCRhMean_TP3','mean'],\n",
        "        sd = trace3_summary_r.loc['rv_mu_decayLength_rTCRhMean_TP3','sd'])\n",
        "\n",
        "        # gaussian scale of decayLength_rTCRhMean:\n",
        "        rv_scale_decayLength_rTCRhMean_TP3 = \\\n",
        "                        pm.Normal('rv_scale_decayLength_rTCRhMean_TP3',\n",
        "        mu = trace3_summary_r.loc['rv_scale_decayLength_rTCRhMean_TP3','mean'],\n",
        "        sd = trace3_summary_r.loc['rv_scale_decayLength_rTCRhMean_TP3','sd'])\n",
        "         \n",
        "        # gaussian of decayLength_rTCRhMean:\n",
        "        rv_decayLength_rTCRhMean_TP3 = \\\n",
        "        rv_scale_decayLength_rTCRhMean_TP3*\\\n",
        "        np.exp(-0.5*((rv_decayLength_TP3 - rv_mu_decayLength_rTCRhMean_TP3)/\\\n",
        "                     rv_sigma_decayLength_rTCRhMean_TP3)**2)\n",
        "        \n",
        "        # line intercept of depletion_rTCRhMean:\n",
        "        rv_intercept_depletion_rTCRhMean_TP3 = \\\n",
        "                        pm.Normal('rv_intercept_depletion_rTCRhMean_TP3',\n",
        "        mu = trace3_summary_r.loc['rv_intercept_depletion_rTCRhMean_TP3','mean'],\n",
        "        sd = trace3_summary_r.loc['rv_intercept_depletion_rTCRhMean_TP3','sd'])\n",
        "        \n",
        "        # line slope of depletion_rTCRhMean:\n",
        "        rv_logSlope_depletion_rTCRhMean_TP3 = \\\n",
        "                        pm.Normal('rv_logSlope_depletion_rTCRhMean_TP3',\n",
        "        mu = trace3_summary_r.loc['rv_logSlope_depletion_rTCRhMean_TP3','mean'],\n",
        "        sd = trace3_summary_r.loc['rv_logSlope_depletion_rTCRhMean_TP3','sd'])\n",
        "        \n",
        "        # line of depletion_rTCRhMean:\n",
        "        rv_depletion_rTCRhMean_TP3 = rv_intercept_depletion_rTCRhMean_TP3 + \\\n",
        "        -(10**rv_logSlope_depletion_rTCRhMean_TP3)*rv_depletion_TP3\n",
        "        \n",
        "        # rTCRhMean:\n",
        "        rv_rTCRhMean_TP3 = \\\n",
        "        pm.Normal('rv_rTCRhMean_TP3', \n",
        "                  mu = rv_decayLength_rTCRhMean_TP3 + \\\n",
        "                  rv_depletion_rTCRhMean_TP3, \n",
        "                  sd = rv_noise_rTCRhMean_TP3,\n",
        "                  observed = observed_rTCRhMean_TP3)\n",
        "        \n",
        "        \n",
        "    return metamodel\n"
      ],
      "execution_count": null,
      "outputs": []
    },
    {
      "cell_type": "markdown",
      "metadata": {
        "id": "O2zB2qyJ6bE1"
      },
      "source": [
        "Direction A (KS, LA to TP):"
      ]
    },
    {
      "cell_type": "code",
      "metadata": {
        "id": "C-MevEgmioWY"
      },
      "source": [
        "# Direction A (KS1, LA2 to TP3):\n",
        "metamodel = get_metamodel(observed_t_KS1 = 75.0,\n",
        "                         observed_k_KS1 = 25.0,\n",
        "                         observed_logPoff_LA2 = -3.0,\n",
        "                         observed_logDiff_LA2 = -2.0,\n",
        "                         observed_rTCRrMean_TP3 = None,\n",
        "                         observed_rTCRhMean_TP3 = None)\n"
      ],
      "execution_count": null,
      "outputs": []
    },
    {
      "cell_type": "code",
      "metadata": {
        "id": "qZUfmaDmIm-O",
        "colab": {
          "base_uri": "https://localhost:8080/"
        },
        "outputId": "bdd4800d-7a27-4be5-c5c0-2a38c87b0fce"
      },
      "source": [
        "with metamodel:\n",
        "    trace_metamodel = pm.sample(2000, chains=4)"
      ],
      "execution_count": null,
      "outputs": [
        {
          "output_type": "stream",
          "text": [
            "Auto-assigning NUTS sampler...\n",
            "Initializing NUTS using jitter+adapt_diag...\n",
            "Sequential sampling (4 chains in 1 job)\n",
            "NUTS: [rv_rTCRhMean_TP3, rv_logSlope_depletion_rTCRhMean_TP3, rv_intercept_depletion_rTCRhMean_TP3, rv_scale_decayLength_rTCRhMean_TP3, rv_mu_decayLength_rTCRhMean_TP3, rv_sigma_decayLength_rTCRhMean_TP3, rv_noise_rTCRhMean_TP3, rv_rTCRrMean_TP3, rv_logSlope_depletion_rTCRrMean_TP3, rv_intercept_depletion_rTCRrMean_TP3, rv_max_decayLength_rTCRrMean_TP3, rv_min_decayLength_rTCRrMean_TP3, rv_devisor_decayLength_rTCRrMean_TP3, rv_center_decayLength_rTCRrMean_TP3, rv_noise_rTCRrMean_TP3, rv_depletion_TP3, rv_decayLength_TP3, rv_depletion_C, rv_decayLength_C, rv_dep_C, rv_lambdaALCK_LA2, rv_devisor_logPoff_lambdaALCK_LA2, rv_center_logPoff_lambdaALCK_LA2, rv_maxPoff_lambdaALCK_LA2, rv_devisor_logDiff_lambdaALCK_LA2, rv_center_logDiff_lambdaALCK_LA2, rv_maxDiff_lambdaALCK_LA2, rv_noise_lambdaALCK_LA2, rv_dep_KS1, rv_noise_dep_KS1, rv_intercept_dep_KS1, rv_slope_k_dep_KS1, rv_slope_t_dep_KS1]\n",
            "Sampling chain 0, 334 divergences: 100%|██████████| 2500/2500 [03:44<00:00, 11.13it/s]\n",
            "Sampling chain 1, 428 divergences: 100%|██████████| 2500/2500 [03:51<00:00, 10.81it/s]\n",
            "Sampling chain 2, 422 divergences: 100%|██████████| 2500/2500 [06:38<00:00,  6.27it/s]\n",
            "Sampling chain 3, 353 divergences: 100%|██████████| 2500/2500 [03:50<00:00, 10.85it/s]\n",
            "There were 334 divergences after tuning. Increase `target_accept` or reparameterize.\n",
            "There were 762 divergences after tuning. Increase `target_accept` or reparameterize.\n",
            "There were 1184 divergences after tuning. Increase `target_accept` or reparameterize.\n",
            "There were 1537 divergences after tuning. Increase `target_accept` or reparameterize.\n",
            "The rhat statistic is larger than 1.4 for some parameters. The sampler did not converge.\n",
            "The estimated number of effective samples is smaller than 200 for some parameters.\n"
          ],
          "name": "stderr"
        }
      ]
    },
    {
      "cell_type": "code",
      "metadata": {
        "id": "x9pZryOGg_P7",
        "colab": {
          "base_uri": "https://localhost:8080/",
          "height": 484
        },
        "outputId": "69f16f19-e440-40db-fb24-4655a9197c61"
      },
      "source": [
        "gv_metamodel = pm.model_to_graphviz(metamodel)\n",
        "display(gv_metamodel)\n",
        "\n",
        "# from google.colab import files\n",
        "# gv_metamodel.render(\"metamodel_graph\", format=\"png\")\n",
        "# files.download(\"metamodel_graph.png\") # Download locally from colab"
      ],
      "execution_count": null,
      "outputs": [
        {
          "output_type": "display_data",
          "data": {
            "text/plain": [
              "<graphviz.dot.Digraph at 0x7f088edb7590>"
            ],
            "image/svg+xml": "<?xml version=\"1.0\" encoding=\"UTF-8\" standalone=\"no\"?>\n<!DOCTYPE svg PUBLIC \"-//W3C//DTD SVG 1.1//EN\"\n \"http://www.w3.org/Graphics/SVG/1.1/DTD/svg11.dtd\">\n<!-- Generated by graphviz version 2.40.1 (20161225.0304)\n -->\n<!-- Title: %3 Pages: 1 -->\n<svg width=\"6532pt\" height=\"332pt\"\n viewBox=\"0.00 0.00 6532.06 332.00\" xmlns=\"http://www.w3.org/2000/svg\" xmlns:xlink=\"http://www.w3.org/1999/xlink\">\n<g id=\"graph0\" class=\"graph\" transform=\"scale(1 1) rotate(0) translate(4 328)\">\n<title>%3</title>\n<polygon fill=\"#ffffff\" stroke=\"transparent\" points=\"-4,4 -4,-328 6528.0634,-328 6528.0634,4 -4,4\"/>\n<!-- rv_center_decayLength_rTCRrMean_TP3 -->\n<g id=\"node1\" class=\"node\">\n<title>rv_center_decayLength_rTCRrMean_TP3</title>\n<ellipse fill=\"none\" stroke=\"#000000\" cx=\"630.1321\" cy=\"-90\" rx=\"207.9631\" ry=\"18\"/>\n<text text-anchor=\"middle\" x=\"630.1321\" y=\"-86.3\" font-family=\"Times,serif\" font-size=\"14.00\" fill=\"#000000\">rv_center_decayLength_rTCRrMean_TP3 ~ Normal</text>\n</g>\n<!-- rv_rTCRrMean_TP3 -->\n<g id=\"node23\" class=\"node\">\n<title>rv_rTCRrMean_TP3</title>\n<ellipse fill=\"none\" stroke=\"#000000\" cx=\"1935.1321\" cy=\"-18\" rx=\"128.0773\" ry=\"18\"/>\n<text text-anchor=\"middle\" x=\"1935.1321\" y=\"-14.3\" font-family=\"Times,serif\" font-size=\"14.00\" fill=\"#000000\">rv_rTCRrMean_TP3 ~ Normal</text>\n</g>\n<!-- rv_center_decayLength_rTCRrMean_TP3&#45;&gt;rv_rTCRrMean_TP3 -->\n<g id=\"edge21\" class=\"edge\">\n<title>rv_center_decayLength_rTCRrMean_TP3&#45;&gt;rv_rTCRrMean_TP3</title>\n<path fill=\"none\" stroke=\"#000000\" d=\"M776.5747,-77.1868C800.1573,-75.3153 824.3113,-73.5124 847.1321,-72 1190.6771,-49.2324 1595.8277,-31.5378 1801.2263,-23.2151\"/>\n<polygon fill=\"#000000\" stroke=\"#000000\" points=\"1801.6063,-26.7027 1811.4568,-22.8016 1801.3236,-19.7084 1801.6063,-26.7027\"/>\n</g>\n<!-- rv_noise_dep_KS1 -->\n<g id=\"node2\" class=\"node\">\n<title>rv_noise_dep_KS1</title>\n<ellipse fill=\"none\" stroke=\"#000000\" cx=\"2224.1321\" cy=\"-306\" rx=\"137.5759\" ry=\"18\"/>\n<text text-anchor=\"middle\" x=\"2224.1321\" y=\"-302.3\" font-family=\"Times,serif\" font-size=\"14.00\" fill=\"#000000\">rv_noise_dep_KS1 ~ HalfNormal</text>\n</g>\n<!-- rv_dep_KS1 -->\n<g id=\"node26\" class=\"node\">\n<title>rv_dep_KS1</title>\n<ellipse fill=\"none\" stroke=\"#000000\" cx=\"2224.1321\" cy=\"-234\" rx=\"96.6831\" ry=\"18\"/>\n<text text-anchor=\"middle\" x=\"2224.1321\" y=\"-230.3\" font-family=\"Times,serif\" font-size=\"14.00\" fill=\"#000000\">rv_dep_KS1 ~ Normal</text>\n</g>\n<!-- rv_noise_dep_KS1&#45;&gt;rv_dep_KS1 -->\n<g id=\"edge1\" class=\"edge\">\n<title>rv_noise_dep_KS1&#45;&gt;rv_dep_KS1</title>\n<path fill=\"none\" stroke=\"#000000\" d=\"M2224.1321,-287.8314C2224.1321,-280.131 2224.1321,-270.9743 2224.1321,-262.4166\"/>\n<polygon fill=\"#000000\" stroke=\"#000000\" points=\"2227.6322,-262.4132 2224.1321,-252.4133 2220.6322,-262.4133 2227.6322,-262.4132\"/>\n</g>\n<!-- rv_noise_rTCRrMean_TP3 -->\n<g id=\"node3\" class=\"node\">\n<title>rv_noise_rTCRrMean_TP3</title>\n<ellipse fill=\"none\" stroke=\"#000000\" cx=\"1024.1321\" cy=\"-90\" rx=\"168.1703\" ry=\"18\"/>\n<text text-anchor=\"middle\" x=\"1024.1321\" y=\"-86.3\" font-family=\"Times,serif\" font-size=\"14.00\" fill=\"#000000\">rv_noise_rTCRrMean_TP3 ~ HalfNormal</text>\n</g>\n<!-- rv_noise_rTCRrMean_TP3&#45;&gt;rv_rTCRrMean_TP3 -->\n<g id=\"edge24\" class=\"edge\">\n<title>rv_noise_rTCRrMean_TP3&#45;&gt;rv_rTCRrMean_TP3</title>\n<path fill=\"none\" stroke=\"#000000\" d=\"M1144.7337,-77.3556C1163.9258,-75.4729 1183.5666,-73.6223 1202.1321,-72 1414.7186,-53.4241 1662.367,-36.0733 1808.5448,-26.2744\"/>\n<polygon fill=\"#000000\" stroke=\"#000000\" points=\"1809.1484,-29.742 1818.8924,-25.582 1808.681,-22.7576 1809.1484,-29.742\"/>\n</g>\n<!-- rv_center_logDiff_lambdaALCK_LA2 -->\n<g id=\"node4\" class=\"node\">\n<title>rv_center_logDiff_lambdaALCK_LA2</title>\n<ellipse fill=\"none\" stroke=\"#000000\" cx=\"3116.1321\" cy=\"-306\" rx=\"196.0654\" ry=\"18\"/>\n<text text-anchor=\"middle\" x=\"3116.1321\" y=\"-302.3\" font-family=\"Times,serif\" font-size=\"14.00\" fill=\"#000000\">rv_center_logDiff_lambdaALCK_LA2 ~ Normal</text>\n</g>\n<!-- rv_lambdaALCK_LA2 -->\n<g id=\"node27\" class=\"node\">\n<title>rv_lambdaALCK_LA2</title>\n<ellipse fill=\"none\" stroke=\"#000000\" cx=\"4722.1321\" cy=\"-234\" rx=\"137.2758\" ry=\"18\"/>\n<text text-anchor=\"middle\" x=\"4722.1321\" y=\"-230.3\" font-family=\"Times,serif\" font-size=\"14.00\" fill=\"#000000\">rv_lambdaALCK_LA2 ~ Normal</text>\n</g>\n<!-- rv_center_logDiff_lambdaALCK_LA2&#45;&gt;rv_lambdaALCK_LA2 -->\n<g id=\"edge9\" class=\"edge\">\n<title>rv_center_logDiff_lambdaALCK_LA2&#45;&gt;rv_lambdaALCK_LA2</title>\n<path fill=\"none\" stroke=\"#000000\" d=\"M3252.7971,-293.0606C3275.6021,-291.1712 3299.0252,-289.3957 3321.1321,-288 3779.0038,-259.0917 4322.0998,-243.4792 4576.7252,-237.2548\"/>\n<polygon fill=\"#000000\" stroke=\"#000000\" points=\"4576.8631,-240.7526 4586.775,-237.0103 4576.6928,-233.7546 4576.8631,-240.7526\"/>\n</g>\n<!-- rv_devisor_logPoff_lambdaALCK_LA2 -->\n<g id=\"node5\" class=\"node\">\n<title>rv_devisor_logPoff_lambdaALCK_LA2</title>\n<ellipse fill=\"none\" stroke=\"#000000\" cx=\"3569.1321\" cy=\"-306\" rx=\"239.3577\" ry=\"18\"/>\n<text text-anchor=\"middle\" x=\"3569.1321\" y=\"-302.3\" font-family=\"Times,serif\" font-size=\"14.00\" fill=\"#000000\">rv_devisor_logPoff_lambdaALCK_LA2 ~ TruncatedNormal</text>\n</g>\n<!-- rv_devisor_logPoff_lambdaALCK_LA2&#45;&gt;rv_lambdaALCK_LA2 -->\n<g id=\"edge11\" class=\"edge\">\n<title>rv_devisor_logPoff_lambdaALCK_LA2&#45;&gt;rv_lambdaALCK_LA2</title>\n<path fill=\"none\" stroke=\"#000000\" d=\"M3739.5402,-293.3416C3765.5284,-291.4951 3792.041,-289.6591 3817.1321,-288 4089.6323,-269.9818 4408.4732,-251.5822 4585.6633,-241.5951\"/>\n<polygon fill=\"#000000\" stroke=\"#000000\" points=\"4586.0336,-245.0799 4595.8209,-241.023 4585.6399,-238.0909 4586.0336,-245.0799\"/>\n</g>\n<!-- param_t_KS1 -->\n<g id=\"node6\" class=\"node\">\n<title>param_t_KS1</title>\n<ellipse fill=\"#d3d3d3\" stroke=\"#000000\" cx=\"2484.1321\" cy=\"-306\" rx=\"104.7816\" ry=\"18\"/>\n<text text-anchor=\"middle\" x=\"2484.1321\" y=\"-302.3\" font-family=\"Times,serif\" font-size=\"14.00\" fill=\"#000000\">param_t_KS1 ~ Uniform</text>\n</g>\n<!-- param_t_KS1&#45;&gt;rv_dep_KS1 -->\n<g id=\"edge4\" class=\"edge\">\n<title>param_t_KS1&#45;&gt;rv_dep_KS1</title>\n<path fill=\"none\" stroke=\"#000000\" d=\"M2428.6744,-290.6425C2387.4428,-279.2245 2331.1008,-263.6221 2287.9887,-251.6834\"/>\n<polygon fill=\"#000000\" stroke=\"#000000\" points=\"2288.7397,-248.2597 2278.1683,-248.9639 2286.8715,-255.0058 2288.7397,-248.2597\"/>\n</g>\n<!-- rv_slope_k_dep_KS1 -->\n<g id=\"node7\" class=\"node\">\n<title>rv_slope_k_dep_KS1</title>\n<ellipse fill=\"none\" stroke=\"#000000\" cx=\"2754.1321\" cy=\"-306\" rx=\"147.5738\" ry=\"18\"/>\n<text text-anchor=\"middle\" x=\"2754.1321\" y=\"-302.3\" font-family=\"Times,serif\" font-size=\"14.00\" fill=\"#000000\">rv_slope_k_dep_KS1 ~ HalfNormal</text>\n</g>\n<!-- rv_slope_k_dep_KS1&#45;&gt;rv_dep_KS1 -->\n<g id=\"edge6\" class=\"edge\">\n<title>rv_slope_k_dep_KS1&#45;&gt;rv_dep_KS1</title>\n<path fill=\"none\" stroke=\"#000000\" d=\"M2655.3752,-292.584C2556.9852,-279.2178 2407.3068,-258.8841 2312.669,-246.0277\"/>\n<polygon fill=\"#000000\" stroke=\"#000000\" points=\"2312.9286,-242.5309 2302.5484,-244.6528 2311.9862,-249.4671 2312.9286,-242.5309\"/>\n</g>\n<!-- rv_maxPoff_lambdaALCK_LA2 -->\n<g id=\"node8\" class=\"node\">\n<title>rv_maxPoff_lambdaALCK_LA2</title>\n<ellipse fill=\"none\" stroke=\"#000000\" cx=\"4037.1321\" cy=\"-306\" rx=\"211.4628\" ry=\"18\"/>\n<text text-anchor=\"middle\" x=\"4037.1321\" y=\"-302.3\" font-family=\"Times,serif\" font-size=\"14.00\" fill=\"#000000\">rv_maxPoff_lambdaALCK_LA2 ~ TruncatedNormal</text>\n</g>\n<!-- rv_maxPoff_lambdaALCK_LA2&#45;&gt;rv_lambdaALCK_LA2 -->\n<g id=\"edge14\" class=\"edge\">\n<title>rv_maxPoff_lambdaALCK_LA2&#45;&gt;rv_lambdaALCK_LA2</title>\n<path fill=\"none\" stroke=\"#000000\" d=\"M4170.4259,-291.9896C4296.6779,-278.7193 4484.4057,-258.9873 4605.0358,-246.3079\"/>\n<polygon fill=\"#000000\" stroke=\"#000000\" points=\"4605.4682,-249.7819 4615.0475,-245.2556 4604.7364,-242.8202 4605.4682,-249.7819\"/>\n</g>\n<!-- rv_devisor_logDiff_lambdaALCK_LA2 -->\n<g id=\"node9\" class=\"node\">\n<title>rv_devisor_logDiff_lambdaALCK_LA2</title>\n<ellipse fill=\"none\" stroke=\"#000000\" cx=\"4505.1321\" cy=\"-306\" rx=\"238.5577\" ry=\"18\"/>\n<text text-anchor=\"middle\" x=\"4505.1321\" y=\"-302.3\" font-family=\"Times,serif\" font-size=\"14.00\" fill=\"#000000\">rv_devisor_logDiff_lambdaALCK_LA2 ~ TruncatedNormal</text>\n</g>\n<!-- rv_devisor_logDiff_lambdaALCK_LA2&#45;&gt;rv_lambdaALCK_LA2 -->\n<g id=\"edge8\" class=\"edge\">\n<title>rv_devisor_logDiff_lambdaALCK_LA2&#45;&gt;rv_lambdaALCK_LA2</title>\n<path fill=\"none\" stroke=\"#000000\" d=\"M4558.2162,-288.3868C4589.4866,-278.0114 4629.1517,-264.8506 4661.6302,-254.0744\"/>\n<polygon fill=\"#000000\" stroke=\"#000000\" points=\"4663.0727,-257.2834 4671.4617,-250.8123 4660.8683,-250.6396 4663.0727,-257.2834\"/>\n</g>\n<!-- param_k_KS1 -->\n<g id=\"node10\" class=\"node\">\n<title>param_k_KS1</title>\n<ellipse fill=\"#d3d3d3\" stroke=\"#000000\" cx=\"1367.1321\" cy=\"-306\" rx=\"107.4815\" ry=\"18\"/>\n<text text-anchor=\"middle\" x=\"1367.1321\" y=\"-302.3\" font-family=\"Times,serif\" font-size=\"14.00\" fill=\"#000000\">param_k_KS1 ~ Uniform</text>\n</g>\n<!-- param_k_KS1&#45;&gt;rv_dep_KS1 -->\n<g id=\"edge3\" class=\"edge\">\n<title>param_k_KS1&#45;&gt;rv_dep_KS1</title>\n<path fill=\"none\" stroke=\"#000000\" d=\"M1443.4499,-293.2559C1456.6574,-291.3087 1470.2739,-289.4637 1483.1321,-288 1709.5072,-262.231 1976.2653,-246.3142 2119.9072,-238.9219\"/>\n<polygon fill=\"#000000\" stroke=\"#000000\" points=\"2120.2261,-242.4103 2130.0344,-238.4044 2119.8687,-235.4194 2120.2261,-242.4103\"/>\n</g>\n<!-- rv_noise_lambdaALCK_LA2 -->\n<g id=\"node11\" class=\"node\">\n<title>rv_noise_lambdaALCK_LA2</title>\n<ellipse fill=\"none\" stroke=\"#000000\" cx=\"4939.1321\" cy=\"-306\" rx=\"177.3685\" ry=\"18\"/>\n<text text-anchor=\"middle\" x=\"4939.1321\" y=\"-302.3\" font-family=\"Times,serif\" font-size=\"14.00\" fill=\"#000000\">rv_noise_lambdaALCK_LA2 ~ HalfNormal</text>\n</g>\n<!-- rv_noise_lambdaALCK_LA2&#45;&gt;rv_lambdaALCK_LA2 -->\n<g id=\"edge10\" class=\"edge\">\n<title>rv_noise_lambdaALCK_LA2&#45;&gt;rv_lambdaALCK_LA2</title>\n<path fill=\"none\" stroke=\"#000000\" d=\"M4887.1552,-288.7542C4855.6579,-278.3035 4815.3435,-264.9273 4782.4459,-254.012\"/>\n<polygon fill=\"#000000\" stroke=\"#000000\" points=\"4783.5296,-250.6839 4772.9361,-250.8566 4781.3251,-257.3278 4783.5296,-250.6839\"/>\n</g>\n<!-- rv_rTCRhMean_TP3 -->\n<g id=\"node12\" class=\"node\">\n<title>rv_rTCRhMean_TP3</title>\n<ellipse fill=\"none\" stroke=\"#000000\" cx=\"4611.1321\" cy=\"-18\" rx=\"129.9769\" ry=\"18\"/>\n<text text-anchor=\"middle\" x=\"4611.1321\" y=\"-14.3\" font-family=\"Times,serif\" font-size=\"14.00\" fill=\"#000000\">rv_rTCRhMean_TP3 ~ Normal</text>\n</g>\n<!-- rv_devisor_decayLength_rTCRrMean_TP3 -->\n<g id=\"node13\" class=\"node\">\n<title>rv_devisor_decayLength_rTCRrMean_TP3</title>\n<ellipse fill=\"none\" stroke=\"#000000\" cx=\"1461.1321\" cy=\"-90\" rx=\"250.4558\" ry=\"18\"/>\n<text text-anchor=\"middle\" x=\"1461.1321\" y=\"-86.3\" font-family=\"Times,serif\" font-size=\"14.00\" fill=\"#000000\">rv_devisor_decayLength_rTCRrMean_TP3 ~ TruncatedNormal</text>\n</g>\n<!-- rv_devisor_decayLength_rTCRrMean_TP3&#45;&gt;rv_rTCRrMean_TP3 -->\n<g id=\"edge28\" class=\"edge\">\n<title>rv_devisor_decayLength_rTCRrMean_TP3&#45;&gt;rv_rTCRrMean_TP3</title>\n<path fill=\"none\" stroke=\"#000000\" d=\"M1568.3938,-73.7071C1649.2856,-61.4197 1759.3237,-44.7051 1837.7118,-32.798\"/>\n<polygon fill=\"#000000\" stroke=\"#000000\" points=\"1838.7123,-36.1863 1848.0732,-31.2241 1837.661,-29.2657 1838.7123,-36.1863\"/>\n</g>\n<!-- rv_mu_decayLength_rTCRhMean_TP3 -->\n<g id=\"node14\" class=\"node\">\n<title>rv_mu_decayLength_rTCRhMean_TP3</title>\n<ellipse fill=\"none\" stroke=\"#000000\" cx=\"3967.1321\" cy=\"-90\" rx=\"200.3646\" ry=\"18\"/>\n<text text-anchor=\"middle\" x=\"3967.1321\" y=\"-86.3\" font-family=\"Times,serif\" font-size=\"14.00\" fill=\"#000000\">rv_mu_decayLength_rTCRhMean_TP3 ~ Normal</text>\n</g>\n<!-- rv_mu_decayLength_rTCRhMean_TP3&#45;&gt;rv_rTCRhMean_TP3 -->\n<g id=\"edge36\" class=\"edge\">\n<title>rv_mu_decayLength_rTCRhMean_TP3&#45;&gt;rv_rTCRhMean_TP3</title>\n<path fill=\"none\" stroke=\"#000000\" d=\"M4092.8305,-75.9468C4211.0641,-62.7281 4386.3968,-43.1257 4499.7299,-30.4549\"/>\n<polygon fill=\"#000000\" stroke=\"#000000\" points=\"4500.2695,-33.9165 4509.8187,-29.327 4499.4917,-26.9598 4500.2695,-33.9165\"/>\n</g>\n<!-- rv_logSlope_depletion_rTCRrMean_TP3 -->\n<g id=\"node15\" class=\"node\">\n<title>rv_logSlope_depletion_rTCRrMean_TP3</title>\n<ellipse fill=\"none\" stroke=\"#000000\" cx=\"1935.1321\" cy=\"-90\" rx=\"206.0634\" ry=\"18\"/>\n<text text-anchor=\"middle\" x=\"1935.1321\" y=\"-86.3\" font-family=\"Times,serif\" font-size=\"14.00\" fill=\"#000000\">rv_logSlope_depletion_rTCRrMean_TP3 ~ Normal</text>\n</g>\n<!-- rv_logSlope_depletion_rTCRrMean_TP3&#45;&gt;rv_rTCRrMean_TP3 -->\n<g id=\"edge29\" class=\"edge\">\n<title>rv_logSlope_depletion_rTCRrMean_TP3&#45;&gt;rv_rTCRrMean_TP3</title>\n<path fill=\"none\" stroke=\"#000000\" d=\"M1935.1321,-71.8314C1935.1321,-64.131 1935.1321,-54.9743 1935.1321,-46.4166\"/>\n<polygon fill=\"#000000\" stroke=\"#000000\" points=\"1938.6322,-46.4132 1935.1321,-36.4133 1931.6322,-46.4133 1938.6322,-46.4132\"/>\n</g>\n<!-- param_logDiff_LA2 -->\n<g id=\"node16\" class=\"node\">\n<title>param_logDiff_LA2</title>\n<ellipse fill=\"#d3d3d3\" stroke=\"#000000\" cx=\"5264.1321\" cy=\"-306\" rx=\"129.9769\" ry=\"18\"/>\n<text text-anchor=\"middle\" x=\"5264.1321\" y=\"-302.3\" font-family=\"Times,serif\" font-size=\"14.00\" fill=\"#000000\">param_logDiff_LA2 ~ Uniform</text>\n</g>\n<!-- param_logDiff_LA2&#45;&gt;rv_lambdaALCK_LA2 -->\n<g id=\"edge15\" class=\"edge\">\n<title>param_logDiff_LA2&#45;&gt;rv_lambdaALCK_LA2</title>\n<path fill=\"none\" stroke=\"#000000\" d=\"M5170.0324,-293.4997C5074.9299,-280.8661 4928.2074,-261.3753 4828.8316,-248.1741\"/>\n<polygon fill=\"#000000\" stroke=\"#000000\" points=\"4829.1382,-244.6842 4818.7644,-246.8368 4828.2164,-251.6232 4829.1382,-244.6842\"/>\n</g>\n<!-- rv_intercept_depletion_rTCRrMean_TP3 -->\n<g id=\"node17\" class=\"node\">\n<title>rv_intercept_depletion_rTCRrMean_TP3</title>\n<ellipse fill=\"none\" stroke=\"#000000\" cx=\"2363.1321\" cy=\"-90\" rx=\"204.1638\" ry=\"18\"/>\n<text text-anchor=\"middle\" x=\"2363.1321\" y=\"-86.3\" font-family=\"Times,serif\" font-size=\"14.00\" fill=\"#000000\">rv_intercept_depletion_rTCRrMean_TP3 ~ Normal</text>\n</g>\n<!-- rv_intercept_depletion_rTCRrMean_TP3&#45;&gt;rv_rTCRrMean_TP3 -->\n<g id=\"edge22\" class=\"edge\">\n<title>rv_intercept_depletion_rTCRrMean_TP3&#45;&gt;rv_rTCRrMean_TP3</title>\n<path fill=\"none\" stroke=\"#000000\" d=\"M2268.145,-74.0209C2196.5524,-61.9772 2098.9028,-45.5502 2027.8651,-33.6\"/>\n<polygon fill=\"#000000\" stroke=\"#000000\" points=\"2028.0256,-30.0778 2017.5835,-31.8703 2026.8643,-36.9809 2028.0256,-30.0778\"/>\n</g>\n<!-- rv_min_decayLength_rTCRrMean_TP3 -->\n<g id=\"node18\" class=\"node\">\n<title>rv_min_decayLength_rTCRrMean_TP3</title>\n<ellipse fill=\"none\" stroke=\"#000000\" cx=\"2785.1321\" cy=\"-90\" rx=\"200.3646\" ry=\"18\"/>\n<text text-anchor=\"middle\" x=\"2785.1321\" y=\"-86.3\" font-family=\"Times,serif\" font-size=\"14.00\" fill=\"#000000\">rv_min_decayLength_rTCRrMean_TP3 ~ Normal</text>\n</g>\n<!-- rv_min_decayLength_rTCRrMean_TP3&#45;&gt;rv_rTCRrMean_TP3 -->\n<g id=\"edge23\" class=\"edge\">\n<title>rv_min_decayLength_rTCRrMean_TP3&#45;&gt;rv_rTCRrMean_TP3</title>\n<path fill=\"none\" stroke=\"#000000\" d=\"M2640.662,-77.5222C2619.0336,-75.6644 2596.9974,-73.7774 2576.1321,-72 2394.6594,-56.5415 2184.2646,-38.8639 2055.4434,-28.068\"/>\n<polygon fill=\"#000000\" stroke=\"#000000\" points=\"2055.4166,-24.5536 2045.1592,-27.2062 2054.832,-31.5291 2055.4166,-24.5536\"/>\n</g>\n<!-- rv_intercept_dep_KS1 -->\n<g id=\"node19\" class=\"node\">\n<title>rv_intercept_dep_KS1</title>\n<ellipse fill=\"none\" stroke=\"#000000\" cx=\"1626.1321\" cy=\"-306\" rx=\"133.7763\" ry=\"18\"/>\n<text text-anchor=\"middle\" x=\"1626.1321\" y=\"-302.3\" font-family=\"Times,serif\" font-size=\"14.00\" fill=\"#000000\">rv_intercept_dep_KS1 ~ Normal</text>\n</g>\n<!-- rv_intercept_dep_KS1&#45;&gt;rv_dep_KS1 -->\n<g id=\"edge2\" class=\"edge\">\n<title>rv_intercept_dep_KS1&#45;&gt;rv_dep_KS1</title>\n<path fill=\"none\" stroke=\"#000000\" d=\"M1723.8131,-293.6108C1738.9831,-291.7138 1754.4781,-289.7918 1769.1321,-288 1894.7075,-272.6451 2039.8611,-255.5276 2131.8024,-244.7635\"/>\n<polygon fill=\"#000000\" stroke=\"#000000\" points=\"2132.3887,-248.2189 2141.9141,-243.5802 2131.575,-241.2663 2132.3887,-248.2189\"/>\n</g>\n<!-- rv_center_logPoff_lambdaALCK_LA2 -->\n<g id=\"node20\" class=\"node\">\n<title>rv_center_logPoff_lambdaALCK_LA2</title>\n<ellipse fill=\"none\" stroke=\"#000000\" cx=\"5609.1321\" cy=\"-306\" rx=\"196.8651\" ry=\"18\"/>\n<text text-anchor=\"middle\" x=\"5609.1321\" y=\"-302.3\" font-family=\"Times,serif\" font-size=\"14.00\" fill=\"#000000\">rv_center_logPoff_lambdaALCK_LA2 ~ Normal</text>\n</g>\n<!-- rv_center_logPoff_lambdaALCK_LA2&#45;&gt;rv_lambdaALCK_LA2 -->\n<g id=\"edge7\" class=\"edge\">\n<title>rv_center_logPoff_lambdaALCK_LA2&#45;&gt;rv_lambdaALCK_LA2</title>\n<path fill=\"none\" stroke=\"#000000\" d=\"M5467.5795,-293.4805C5445.9931,-291.615 5423.9717,-289.7367 5403.1321,-288 5210.7167,-271.965 4987.6203,-254.4859 4850.6823,-243.8843\"/>\n<polygon fill=\"#000000\" stroke=\"#000000\" points=\"4850.8057,-240.3835 4840.5654,-243.1014 4850.2655,-247.3626 4850.8057,-240.3835\"/>\n</g>\n<!-- rv_sigma_decayLength_rTCRhMean_TP3 -->\n<g id=\"node21\" class=\"node\">\n<title>rv_sigma_decayLength_rTCRhMean_TP3</title>\n<ellipse fill=\"none\" stroke=\"#000000\" cx=\"4395.1321\" cy=\"-90\" rx=\"209.8628\" ry=\"18\"/>\n<text text-anchor=\"middle\" x=\"4395.1321\" y=\"-86.3\" font-family=\"Times,serif\" font-size=\"14.00\" fill=\"#000000\">rv_sigma_decayLength_rTCRhMean_TP3 ~ Normal</text>\n</g>\n<!-- rv_sigma_decayLength_rTCRhMean_TP3&#45;&gt;rv_rTCRhMean_TP3 -->\n<g id=\"edge30\" class=\"edge\">\n<title>rv_sigma_decayLength_rTCRhMean_TP3&#45;&gt;rv_rTCRhMean_TP3</title>\n<path fill=\"none\" stroke=\"#000000\" d=\"M4447.6954,-72.4789C4478.93,-62.0673 4518.6522,-48.8266 4551.1147,-38.0058\"/>\n<polygon fill=\"#000000\" stroke=\"#000000\" points=\"4552.5588,-41.2138 4560.9388,-34.7311 4550.3451,-34.573 4552.5588,-41.2138\"/>\n</g>\n<!-- rv_depletion_TP3 -->\n<g id=\"node22\" class=\"node\">\n<title>rv_depletion_TP3</title>\n<ellipse fill=\"none\" stroke=\"#000000\" cx=\"3352.1321\" cy=\"-90\" rx=\"116.9792\" ry=\"18\"/>\n<text text-anchor=\"middle\" x=\"3352.1321\" y=\"-86.3\" font-family=\"Times,serif\" font-size=\"14.00\" fill=\"#000000\">rv_depletion_TP3 ~ Normal</text>\n</g>\n<!-- rv_depletion_TP3&#45;&gt;rv_rTCRhMean_TP3 -->\n<g id=\"edge31\" class=\"edge\">\n<title>rv_depletion_TP3&#45;&gt;rv_rTCRhMean_TP3</title>\n<path fill=\"none\" stroke=\"#000000\" d=\"M3434.3481,-77.116C3448.9059,-75.1602 3463.9434,-73.3486 3478.1321,-72 3835.1414,-38.0678 4257.5661,-25.0858 4471.6769,-20.4186\"/>\n<polygon fill=\"#000000\" stroke=\"#000000\" points=\"4471.7918,-23.917 4481.7141,-20.2025 4471.6411,-16.9186 4471.7918,-23.917\"/>\n</g>\n<!-- rv_depletion_TP3&#45;&gt;rv_rTCRrMean_TP3 -->\n<g id=\"edge25\" class=\"edge\">\n<title>rv_depletion_TP3&#45;&gt;rv_rTCRrMean_TP3</title>\n<path fill=\"none\" stroke=\"#000000\" d=\"M3270.261,-77.092C3255.5972,-75.1262 3240.4346,-73.3174 3226.1321,-72 2807.4403,-33.4345 2309.7967,-22.3941 2073.2547,-19.2466\"/>\n<polygon fill=\"#000000\" stroke=\"#000000\" points=\"2073.2694,-15.7466 2063.2246,-19.1158 2073.1781,-22.746 2073.2694,-15.7466\"/>\n</g>\n<!-- rv_scale_decayLength_rTCRhMean_TP3 -->\n<g id=\"node24\" class=\"node\">\n<title>rv_scale_decayLength_rTCRhMean_TP3</title>\n<ellipse fill=\"none\" stroke=\"#000000\" cx=\"4828.1321\" cy=\"-90\" rx=\"205.2636\" ry=\"18\"/>\n<text text-anchor=\"middle\" x=\"4828.1321\" y=\"-86.3\" font-family=\"Times,serif\" font-size=\"14.00\" fill=\"#000000\">rv_scale_decayLength_rTCRhMean_TP3 ~ Normal</text>\n</g>\n<!-- rv_scale_decayLength_rTCRhMean_TP3&#45;&gt;rv_rTCRhMean_TP3 -->\n<g id=\"edge33\" class=\"edge\">\n<title>rv_scale_decayLength_rTCRhMean_TP3&#45;&gt;rv_rTCRhMean_TP3</title>\n<path fill=\"none\" stroke=\"#000000\" d=\"M4775.6024,-72.5708C4744.1148,-62.1233 4703.9667,-48.8023 4671.2198,-37.9369\"/>\n<polygon fill=\"#000000\" stroke=\"#000000\" points=\"4671.9058,-34.477 4661.3123,-34.6497 4669.7013,-41.1208 4671.9058,-34.477\"/>\n</g>\n<!-- rv_slope_t_dep_KS1 -->\n<g id=\"node25\" class=\"node\">\n<title>rv_slope_t_dep_KS1</title>\n<ellipse fill=\"none\" stroke=\"#000000\" cx=\"1923.1321\" cy=\"-306\" rx=\"144.8743\" ry=\"18\"/>\n<text text-anchor=\"middle\" x=\"1923.1321\" y=\"-302.3\" font-family=\"Times,serif\" font-size=\"14.00\" fill=\"#000000\">rv_slope_t_dep_KS1 ~ HalfNormal</text>\n</g>\n<!-- rv_slope_t_dep_KS1&#45;&gt;rv_dep_KS1 -->\n<g id=\"edge5\" class=\"edge\">\n<title>rv_slope_t_dep_KS1&#45;&gt;rv_dep_KS1</title>\n<path fill=\"none\" stroke=\"#000000\" d=\"M1989.9337,-290.0209C2038.8681,-278.3156 2105.1122,-262.4699 2154.661,-250.6177\"/>\n<polygon fill=\"#000000\" stroke=\"#000000\" points=\"2155.7415,-253.958 2164.6529,-248.2276 2154.113,-247.1501 2155.7415,-253.958\"/>\n</g>\n<!-- rv_dep_C -->\n<g id=\"node29\" class=\"node\">\n<title>rv_dep_C</title>\n<ellipse fill=\"none\" stroke=\"#000000\" cx=\"3110.1321\" cy=\"-162\" rx=\"86.3847\" ry=\"18\"/>\n<text text-anchor=\"middle\" x=\"3110.1321\" y=\"-158.3\" font-family=\"Times,serif\" font-size=\"14.00\" fill=\"#000000\">rv_dep_C ~ Normal</text>\n</g>\n<!-- rv_dep_KS1&#45;&gt;rv_dep_C -->\n<g id=\"edge16\" class=\"edge\">\n<title>rv_dep_KS1&#45;&gt;rv_dep_C</title>\n<path fill=\"none\" stroke=\"#000000\" d=\"M2313.1417,-226.7667C2482.3618,-213.0152 2848.7824,-183.2383 3019.3608,-169.3764\"/>\n<polygon fill=\"#000000\" stroke=\"#000000\" points=\"3019.8827,-172.8457 3029.5663,-168.5471 3019.3156,-165.8687 3019.8827,-172.8457\"/>\n</g>\n<!-- rv_decayLength_C -->\n<g id=\"node37\" class=\"node\">\n<title>rv_decayLength_C</title>\n<ellipse fill=\"none\" stroke=\"#000000\" cx=\"4061.1321\" cy=\"-162\" rx=\"120.7786\" ry=\"18\"/>\n<text text-anchor=\"middle\" x=\"4061.1321\" y=\"-158.3\" font-family=\"Times,serif\" font-size=\"14.00\" fill=\"#000000\">rv_decayLength_C ~ Normal</text>\n</g>\n<!-- rv_lambdaALCK_LA2&#45;&gt;rv_decayLength_C -->\n<g id=\"edge17\" class=\"edge\">\n<title>rv_lambdaALCK_LA2&#45;&gt;rv_decayLength_C</title>\n<path fill=\"none\" stroke=\"#000000\" d=\"M4616.2976,-222.4719C4493.6453,-209.1119 4292.6048,-187.2134 4169.0662,-173.7568\"/>\n<polygon fill=\"#000000\" stroke=\"#000000\" points=\"4169.1547,-170.2458 4158.8345,-172.6423 4168.3967,-177.2047 4169.1547,-170.2458\"/>\n</g>\n<!-- rv_intercept_depletion_rTCRhMean_TP3 -->\n<g id=\"node28\" class=\"node\">\n<title>rv_intercept_depletion_rTCRhMean_TP3</title>\n<ellipse fill=\"none\" stroke=\"#000000\" cx=\"5257.1321\" cy=\"-90\" rx=\"206.0634\" ry=\"18\"/>\n<text text-anchor=\"middle\" x=\"5257.1321\" y=\"-86.3\" font-family=\"Times,serif\" font-size=\"14.00\" fill=\"#000000\">rv_intercept_depletion_rTCRhMean_TP3 ~ Normal</text>\n</g>\n<!-- rv_intercept_depletion_rTCRhMean_TP3&#45;&gt;rv_rTCRhMean_TP3 -->\n<g id=\"edge35\" class=\"edge\">\n<title>rv_intercept_depletion_rTCRhMean_TP3&#45;&gt;rv_rTCRhMean_TP3</title>\n<path fill=\"none\" stroke=\"#000000\" d=\"M5129.8888,-75.8181C5011.2506,-62.5953 4836.0403,-43.0672 4722.7282,-30.438\"/>\n<polygon fill=\"#000000\" stroke=\"#000000\" points=\"4722.9671,-26.943 4712.6409,-29.3137 4722.1917,-33.8999 4722.9671,-26.943\"/>\n</g>\n<!-- rv_dep_C&#45;&gt;rv_depletion_TP3 -->\n<g id=\"edge20\" class=\"edge\">\n<title>rv_dep_C&#45;&gt;rv_depletion_TP3</title>\n<path fill=\"none\" stroke=\"#000000\" d=\"M3159.9812,-147.1689C3197.1781,-136.102 3248.2883,-120.8957 3288.446,-108.9479\"/>\n<polygon fill=\"#000000\" stroke=\"#000000\" points=\"3289.5553,-112.2696 3298.142,-106.0632 3287.5591,-105.5602 3289.5553,-112.2696\"/>\n</g>\n<!-- rv_depletion_C -->\n<g id=\"node30\" class=\"node\">\n<title>rv_depletion_C</title>\n<ellipse fill=\"none\" stroke=\"#000000\" cx=\"3110.1321\" cy=\"-90\" rx=\"107.4815\" ry=\"18\"/>\n<text text-anchor=\"middle\" x=\"3110.1321\" y=\"-86.3\" font-family=\"Times,serif\" font-size=\"14.00\" fill=\"#000000\">rv_depletion_C ~ Normal</text>\n</g>\n<!-- rv_dep_C&#45;&gt;rv_depletion_C -->\n<g id=\"edge18\" class=\"edge\">\n<title>rv_dep_C&#45;&gt;rv_depletion_C</title>\n<path fill=\"none\" stroke=\"#000000\" d=\"M3110.1321,-143.8314C3110.1321,-136.131 3110.1321,-126.9743 3110.1321,-118.4166\"/>\n<polygon fill=\"#000000\" stroke=\"#000000\" points=\"3113.6322,-118.4132 3110.1321,-108.4133 3106.6322,-118.4133 3113.6322,-118.4132\"/>\n</g>\n<!-- rv_logSlope_depletion_rTCRhMean_TP3 -->\n<g id=\"node31\" class=\"node\">\n<title>rv_logSlope_depletion_rTCRhMean_TP3</title>\n<ellipse fill=\"none\" stroke=\"#000000\" cx=\"5689.1321\" cy=\"-90\" rx=\"207.9631\" ry=\"18\"/>\n<text text-anchor=\"middle\" x=\"5689.1321\" y=\"-86.3\" font-family=\"Times,serif\" font-size=\"14.00\" fill=\"#000000\">rv_logSlope_depletion_rTCRhMean_TP3 ~ Normal</text>\n</g>\n<!-- rv_logSlope_depletion_rTCRhMean_TP3&#45;&gt;rv_rTCRhMean_TP3 -->\n<g id=\"edge32\" class=\"edge\">\n<title>rv_logSlope_depletion_rTCRhMean_TP3&#45;&gt;rv_rTCRhMean_TP3</title>\n<path fill=\"none\" stroke=\"#000000\" d=\"M5541.209,-77.3292C5518.0938,-75.4649 5494.4712,-73.6269 5472.1321,-72 5213.3934,-53.1571 4910.6199,-35.0916 4741.8501,-25.3778\"/>\n<polygon fill=\"#000000\" stroke=\"#000000\" points=\"4741.8607,-21.8727 4731.6763,-24.793 4741.4589,-28.8611 4741.8607,-21.8727\"/>\n</g>\n<!-- param_logPoff_LA2 -->\n<g id=\"node32\" class=\"node\">\n<title>param_logPoff_LA2</title>\n<ellipse fill=\"#d3d3d3\" stroke=\"#000000\" cx=\"5955.1321\" cy=\"-306\" rx=\"131.077\" ry=\"18\"/>\n<text text-anchor=\"middle\" x=\"5955.1321\" y=\"-302.3\" font-family=\"Times,serif\" font-size=\"14.00\" fill=\"#000000\">param_logPoff_LA2 ~ Uniform</text>\n</g>\n<!-- param_logPoff_LA2&#45;&gt;rv_lambdaALCK_LA2 -->\n<g id=\"edge12\" class=\"edge\">\n<title>param_logPoff_LA2&#45;&gt;rv_lambdaALCK_LA2</title>\n<path fill=\"none\" stroke=\"#000000\" d=\"M5862.9929,-293.1092C5847.0564,-291.1786 5830.6321,-289.3772 5815.1321,-288 5476.4925,-257.9118 5077.2289,-243.5024 4867.5541,-237.554\"/>\n<polygon fill=\"#000000\" stroke=\"#000000\" points=\"4867.5006,-234.0512 4857.4061,-237.2685 4867.3037,-241.0485 4867.5006,-234.0512\"/>\n</g>\n<!-- rv_decayLength_TP3 -->\n<g id=\"node33\" class=\"node\">\n<title>rv_decayLength_TP3</title>\n<ellipse fill=\"none\" stroke=\"#000000\" cx=\"3618.1321\" cy=\"-90\" rx=\"130.777\" ry=\"18\"/>\n<text text-anchor=\"middle\" x=\"3618.1321\" y=\"-86.3\" font-family=\"Times,serif\" font-size=\"14.00\" fill=\"#000000\">rv_decayLength_TP3 ~ Normal</text>\n</g>\n<!-- rv_decayLength_TP3&#45;&gt;rv_rTCRhMean_TP3 -->\n<g id=\"edge34\" class=\"edge\">\n<title>rv_decayLength_TP3&#45;&gt;rv_rTCRhMean_TP3</title>\n<path fill=\"none\" stroke=\"#000000\" d=\"M3710.6645,-77.2452C3726.4811,-75.3109 3742.7639,-73.4728 3758.1321,-72 4011.6305,-47.7053 4308.599,-31.7157 4476.8271,-23.8144\"/>\n<polygon fill=\"#000000\" stroke=\"#000000\" points=\"4477.1487,-27.3033 4486.9744,-23.3403 4476.8219,-20.3109 4477.1487,-27.3033\"/>\n</g>\n<!-- rv_decayLength_TP3&#45;&gt;rv_rTCRrMean_TP3 -->\n<g id=\"edge27\" class=\"edge\">\n<title>rv_decayLength_TP3&#45;&gt;rv_rTCRrMean_TP3</title>\n<path fill=\"none\" stroke=\"#000000\" d=\"M3527.1377,-77.0556C3510.8474,-75.0937 3494.0079,-73.2956 3478.1321,-72 3207.1543,-49.8864 2396.7366,-28.9111 2071.9608,-21.1559\"/>\n<polygon fill=\"#000000\" stroke=\"#000000\" points=\"2071.6344,-17.6472 2061.5539,-20.9079 2071.4676,-24.6452 2071.6344,-17.6472\"/>\n</g>\n<!-- rv_max_decayLength_rTCRrMean_TP3 -->\n<g id=\"node34\" class=\"node\">\n<title>rv_max_decayLength_rTCRrMean_TP3</title>\n<ellipse fill=\"none\" stroke=\"#000000\" cx=\"202.1321\" cy=\"-90\" rx=\"202.2642\" ry=\"18\"/>\n<text text-anchor=\"middle\" x=\"202.1321\" y=\"-86.3\" font-family=\"Times,serif\" font-size=\"14.00\" fill=\"#000000\">rv_max_decayLength_rTCRrMean_TP3 ~ Normal</text>\n</g>\n<!-- rv_max_decayLength_rTCRrMean_TP3&#45;&gt;rv_rTCRrMean_TP3 -->\n<g id=\"edge26\" class=\"edge\">\n<title>rv_max_decayLength_rTCRrMean_TP3&#45;&gt;rv_rTCRrMean_TP3</title>\n<path fill=\"none\" stroke=\"#000000\" d=\"M342.5148,-77.0447C366.0766,-75.1514 390.2874,-73.3788 413.1321,-72 923.3637,-41.2042 1530.9562,-26.1251 1797.8742,-20.5876\"/>\n<polygon fill=\"#000000\" stroke=\"#000000\" points=\"1798.0752,-24.0843 1808.0009,-20.3787 1797.9308,-17.0858 1798.0752,-24.0843\"/>\n</g>\n<!-- rv_maxDiff_lambdaALCK_LA2 -->\n<g id=\"node35\" class=\"node\">\n<title>rv_maxDiff_lambdaALCK_LA2</title>\n<ellipse fill=\"none\" stroke=\"#000000\" cx=\"6314.1321\" cy=\"-306\" rx=\"209.8628\" ry=\"18\"/>\n<text text-anchor=\"middle\" x=\"6314.1321\" y=\"-302.3\" font-family=\"Times,serif\" font-size=\"14.00\" fill=\"#000000\">rv_maxDiff_lambdaALCK_LA2 ~ TruncatedNormal</text>\n</g>\n<!-- rv_maxDiff_lambdaALCK_LA2&#45;&gt;rv_lambdaALCK_LA2 -->\n<g id=\"edge13\" class=\"edge\">\n<title>rv_maxDiff_lambdaALCK_LA2&#45;&gt;rv_lambdaALCK_LA2</title>\n<path fill=\"none\" stroke=\"#000000\" d=\"M6167.5311,-293.0804C6143.3563,-291.2 6118.5506,-289.4223 6095.1321,-288 5648.0209,-260.8456 5118.1338,-244.4739 4867.4467,-237.676\"/>\n<polygon fill=\"#000000\" stroke=\"#000000\" points=\"4867.2749,-234.1702 4857.184,-237.3989 4867.0858,-241.1677 4867.2749,-234.1702\"/>\n</g>\n<!-- rv_noise_rTCRhMean_TP3 -->\n<g id=\"node36\" class=\"node\">\n<title>rv_noise_rTCRhMean_TP3</title>\n<ellipse fill=\"none\" stroke=\"#000000\" cx=\"6085.1321\" cy=\"-90\" rx=\"170.0701\" ry=\"18\"/>\n<text text-anchor=\"middle\" x=\"6085.1321\" y=\"-86.3\" font-family=\"Times,serif\" font-size=\"14.00\" fill=\"#000000\">rv_noise_rTCRhMean_TP3 ~ HalfNormal</text>\n</g>\n<!-- rv_noise_rTCRhMean_TP3&#45;&gt;rv_rTCRhMean_TP3 -->\n<g id=\"edge37\" class=\"edge\">\n<title>rv_noise_rTCRhMean_TP3&#45;&gt;rv_rTCRhMean_TP3</title>\n<path fill=\"none\" stroke=\"#000000\" d=\"M5966.3039,-77.0666C5946.2369,-75.1648 5925.6037,-73.3838 5906.1321,-72 5485.4285,-42.1016 4986.5748,-27.0369 4749.5289,-21.1119\"/>\n<polygon fill=\"#000000\" stroke=\"#000000\" points=\"4749.5613,-17.6117 4739.4775,-20.8622 4749.3875,-24.6096 4749.5613,-17.6117\"/>\n</g>\n<!-- rv_decayLength_C&#45;&gt;rv_decayLength_TP3 -->\n<g id=\"edge19\" class=\"edge\">\n<title>rv_decayLength_C&#45;&gt;rv_decayLength_TP3</title>\n<path fill=\"none\" stroke=\"#000000\" d=\"M3979.3628,-148.7102C3903.9613,-136.4553 3792.0467,-118.266 3712.8002,-105.3862\"/>\n<polygon fill=\"#000000\" stroke=\"#000000\" points=\"3713.2488,-101.9133 3702.8168,-103.7637 3712.1258,-108.8226 3713.2488,-101.9133\"/>\n</g>\n</g>\n</svg>\n"
          },
          "metadata": {
            "tags": []
          }
        }
      ]
    },
    {
      "cell_type": "code",
      "metadata": {
        "colab": {
          "base_uri": "https://localhost:8080/"
        },
        "id": "pGdgNeJtZ19C",
        "outputId": "479044a8-7a44-4d62-8654-91d4ba99650a"
      },
      "source": [
        "trace_metamodel_summary = pm.summary(trace_metamodel).round(3) # var_names=[\"mu\", \"tau\"]\n",
        "trace_metamodel_summary.to_pickle('trace_metamodel_summary')\n",
        "if False: \n",
        "    files.download(\"trace_metamodel_summary\") \n",
        "!ls"
      ],
      "execution_count": null,
      "outputs": [
        {
          "output_type": "stream",
          "text": [
            "sample_data\ttrace2_summary\ttrace_metamodel_summary\n",
            "trace1_summary\ttrace3_summary\n"
          ],
          "name": "stdout"
        }
      ]
    },
    {
      "cell_type": "code",
      "metadata": {
        "id": "NNKKhN92aKCZ"
      },
      "source": [
        "# r = read, to distinguish between the original and the saved files.\n",
        "trace_metamodel_summary_r = pd.read_pickle('trace_metamodel_summary') \n",
        "\n",
        "# displaying the rv names and the data of intersest: 'mean' and 'sd':\n",
        "trace_metamodel_mean_sd_r = trace_metamodel_summary_r.loc[:, ['mean','sd']]\n",
        "trace_metamodel_mean_sd_r"
      ],
      "execution_count": null,
      "outputs": []
    },
    {
      "cell_type": "code",
      "metadata": {
        "id": "c9pUu5tVJ6hc"
      },
      "source": [
        "pm.traceplot(trace_metamodel);"
      ],
      "execution_count": null,
      "outputs": []
    },
    {
      "cell_type": "code",
      "metadata": {
        "id": "mqk4-DrdLBhc"
      },
      "source": [
        "# !cat /proc/cpuinfo"
      ],
      "execution_count": null,
      "outputs": []
    },
    {
      "cell_type": "code",
      "metadata": {
        "id": "9USHoTFIwm9m"
      },
      "source": [
        "# vars(metamodel)"
      ],
      "execution_count": null,
      "outputs": []
    },
    {
      "cell_type": "code",
      "metadata": {
        "id": "QSRLSqiS575j",
        "colab": {
          "base_uri": "https://localhost:8080/",
          "height": 106
        },
        "outputId": "edbf27f1-a330-4ffe-c4c1-7340d81eb4bf"
      },
      "source": [
        "pm.summary(trace_metamodel, ['rv_depletion_TP3','rv_decayLength_TP3'])\n"
      ],
      "execution_count": null,
      "outputs": [
        {
          "output_type": "execute_result",
          "data": {
            "text/html": [
              "<div>\n",
              "<style scoped>\n",
              "    .dataframe tbody tr th:only-of-type {\n",
              "        vertical-align: middle;\n",
              "    }\n",
              "\n",
              "    .dataframe tbody tr th {\n",
              "        vertical-align: top;\n",
              "    }\n",
              "\n",
              "    .dataframe thead th {\n",
              "        text-align: right;\n",
              "    }\n",
              "</style>\n",
              "<table border=\"1\" class=\"dataframe\">\n",
              "  <thead>\n",
              "    <tr style=\"text-align: right;\">\n",
              "      <th></th>\n",
              "      <th>mean</th>\n",
              "      <th>sd</th>\n",
              "      <th>hpd_3%</th>\n",
              "      <th>hpd_97%</th>\n",
              "      <th>mcse_mean</th>\n",
              "      <th>mcse_sd</th>\n",
              "      <th>ess_mean</th>\n",
              "      <th>ess_sd</th>\n",
              "      <th>ess_bulk</th>\n",
              "      <th>ess_tail</th>\n",
              "      <th>r_hat</th>\n",
              "    </tr>\n",
              "  </thead>\n",
              "  <tbody>\n",
              "    <tr>\n",
              "      <th>rv_depletion_TP3</th>\n",
              "      <td>129.868</td>\n",
              "      <td>67.981</td>\n",
              "      <td>11.415</td>\n",
              "      <td>263.323</td>\n",
              "      <td>2.375</td>\n",
              "      <td>1.680</td>\n",
              "      <td>820.0</td>\n",
              "      <td>819.0</td>\n",
              "      <td>854.0</td>\n",
              "      <td>1378.0</td>\n",
              "      <td>1.00</td>\n",
              "    </tr>\n",
              "    <tr>\n",
              "      <th>rv_decayLength_TP3</th>\n",
              "      <td>38.853</td>\n",
              "      <td>78.496</td>\n",
              "      <td>-89.482</td>\n",
              "      <td>176.826</td>\n",
              "      <td>20.931</td>\n",
              "      <td>15.119</td>\n",
              "      <td>14.0</td>\n",
              "      <td>14.0</td>\n",
              "      <td>12.0</td>\n",
              "      <td>151.0</td>\n",
              "      <td>1.25</td>\n",
              "    </tr>\n",
              "  </tbody>\n",
              "</table>\n",
              "</div>"
            ],
            "text/plain": [
              "                       mean      sd  hpd_3%  ...  ess_bulk  ess_tail  r_hat\n",
              "rv_depletion_TP3    129.868  67.981  11.415  ...     854.0    1378.0   1.00\n",
              "rv_decayLength_TP3   38.853  78.496 -89.482  ...      12.0     151.0   1.25\n",
              "\n",
              "[2 rows x 11 columns]"
            ]
          },
          "metadata": {
            "tags": []
          },
          "execution_count": 83
        }
      ]
    },
    {
      "cell_type": "code",
      "metadata": {
        "colab": {
          "base_uri": "https://localhost:8080/",
          "height": 528
        },
        "id": "0O2PteWfj1vJ",
        "outputId": "e115dae6-420d-41ba-e8e8-60b2b4f070f7"
      },
      "source": [
        "# import seaborn as sns\n",
        "df_trace_metamodel = pm.trace_to_dataframe(trace_metamodel)\n",
        "df_trace_metamodel\n",
        "sns.jointplot(df_trace_metamodel.loc[:,'rv_decayLength_TP3'], \n",
        "              df_trace_metamodel.loc[:,'rv_depletion_TP3'],\n",
        "              kind='kde', xlim=(0, 200), ylim=(0, 200), n_levels=10,\n",
        "              shade=True, cmap='Blues', shade_lowest=False);\n",
        "\n",
        "# Label='iris_virginica', color='b', color='r', cmap=\"Blues\"\n",
        "# box_x0 = [0, 1, 1, 0, 0]\n",
        "# box_y0 = [0, 0, 1, 1, 0]\n",
        "# plt.plot(0,0,'r.')\n",
        "# plt.plot(200*box_x0, 200*box_y0, 'r-')\n",
        "# sns.jointplot(dftrace.iloc[:, 0], dftrace.iloc[:, 1], kind='kde')"
      ],
      "execution_count": null,
      "outputs": [
        {
          "output_type": "stream",
          "text": [
            "/usr/local/lib/python3.7/dist-packages/seaborn/_decorators.py:43: FutureWarning: Pass the following variables as keyword args: x, y. From version 0.12, the only valid positional argument will be `data`, and passing other arguments without an explicit keyword will result in an error or misinterpretation.\n",
            "  FutureWarning\n",
            "/usr/local/lib/python3.7/dist-packages/seaborn/distributions.py:1676: UserWarning: `shade_lowest` is now deprecated in favor of `thresh`. Setting `thresh=0.05`, but please update your code.\n",
            "  warnings.warn(msg, UserWarning)\n"
          ],
          "name": "stderr"
        },
        {
          "output_type": "display_data",
          "data": {
            "image/png": "[encoded data removed]",
            "text/plain": [
              "<Figure size 432x432 with 3 Axes>"
            ]
          },
          "metadata": {
            "tags": [],
            "needs_background": "light"
          }
        }
      ]
    },
    {
      "cell_type": "markdown",
      "metadata": {
        "id": "9-DUCIOk6HP7"
      },
      "source": [
        "Direction B (TP to KS, LA):"
      ]
    },
    {
      "cell_type": "code",
      "metadata": {
        "id": "5hhMNMEYsSud"
      },
      "source": [
        "# Direction B (TP3 to KS1, LA2):\n",
        "metamodel= get_metamodel(observed_t_KS1 = None,\n",
        "                         observed_k_KS1 = None,\n",
        "                         observed_logPoff_LA2 = None,\n",
        "                         observed_logDiff_LA2 = None,\n",
        "                         observed_rTCRrMean_TP3 = 15.0,\n",
        "                         observed_rTCRhMean_TP3 = 0.04) \n"
      ],
      "execution_count": null,
      "outputs": []
    },
    {
      "cell_type": "code",
      "metadata": {
        "colab": {
          "base_uri": "https://localhost:8080/",
          "height": 484
        },
        "id": "ucg92v-9iXQ4",
        "outputId": "c24f42e1-3d23-4bfb-cde3-66bd3b763a8d"
      },
      "source": [
        "gv_metamodel = pm.model_to_graphviz(metamodel)\n",
        "display(gv_metamodel)"
      ],
      "execution_count": null,
      "outputs": [
        {
          "output_type": "display_data",
          "data": {
            "text/plain": [
              "<graphviz.dot.Digraph at 0x7f08af0d8f90>"
            ],
            "image/svg+xml": "<?xml version=\"1.0\" encoding=\"UTF-8\" standalone=\"no\"?>\n<!DOCTYPE svg PUBLIC \"-//W3C//DTD SVG 1.1//EN\"\n \"http://www.w3.org/Graphics/SVG/1.1/DTD/svg11.dtd\">\n<!-- Generated by graphviz version 2.40.1 (20161225.0304)\n -->\n<!-- Title: %3 Pages: 1 -->\n<svg width=\"6532pt\" height=\"332pt\"\n viewBox=\"0.00 0.00 6532.06 332.00\" xmlns=\"http://www.w3.org/2000/svg\" xmlns:xlink=\"http://www.w3.org/1999/xlink\">\n<g id=\"graph0\" class=\"graph\" transform=\"scale(1 1) rotate(0) translate(4 328)\">\n<title>%3</title>\n<polygon fill=\"#ffffff\" stroke=\"transparent\" points=\"-4,4 -4,-328 6528.0634,-328 6528.0634,4 -4,4\"/>\n<!-- rv_center_decayLength_rTCRrMean_TP3 -->\n<g id=\"node1\" class=\"node\">\n<title>rv_center_decayLength_rTCRrMean_TP3</title>\n<ellipse fill=\"none\" stroke=\"#000000\" cx=\"630.1321\" cy=\"-90\" rx=\"207.9631\" ry=\"18\"/>\n<text text-anchor=\"middle\" x=\"630.1321\" y=\"-86.3\" font-family=\"Times,serif\" font-size=\"14.00\" fill=\"#000000\">rv_center_decayLength_rTCRrMean_TP3 ~ Normal</text>\n</g>\n<!-- rv_rTCRrMean_TP3 -->\n<g id=\"node23\" class=\"node\">\n<title>rv_rTCRrMean_TP3</title>\n<ellipse fill=\"#d3d3d3\" stroke=\"#000000\" cx=\"1935.1321\" cy=\"-18\" rx=\"128.0773\" ry=\"18\"/>\n<text text-anchor=\"middle\" x=\"1935.1321\" y=\"-14.3\" font-family=\"Times,serif\" font-size=\"14.00\" fill=\"#000000\">rv_rTCRrMean_TP3 ~ Normal</text>\n</g>\n<!-- rv_center_decayLength_rTCRrMean_TP3&#45;&gt;rv_rTCRrMean_TP3 -->\n<g id=\"edge21\" class=\"edge\">\n<title>rv_center_decayLength_rTCRrMean_TP3&#45;&gt;rv_rTCRrMean_TP3</title>\n<path fill=\"none\" stroke=\"#000000\" d=\"M776.5747,-77.1868C800.1573,-75.3153 824.3113,-73.5124 847.1321,-72 1190.6771,-49.2324 1595.8277,-31.5378 1801.2263,-23.2151\"/>\n<polygon fill=\"#000000\" stroke=\"#000000\" points=\"1801.6063,-26.7027 1811.4568,-22.8016 1801.3236,-19.7084 1801.6063,-26.7027\"/>\n</g>\n<!-- rv_noise_dep_KS1 -->\n<g id=\"node2\" class=\"node\">\n<title>rv_noise_dep_KS1</title>\n<ellipse fill=\"none\" stroke=\"#000000\" cx=\"2224.1321\" cy=\"-306\" rx=\"137.5759\" ry=\"18\"/>\n<text text-anchor=\"middle\" x=\"2224.1321\" y=\"-302.3\" font-family=\"Times,serif\" font-size=\"14.00\" fill=\"#000000\">rv_noise_dep_KS1 ~ HalfNormal</text>\n</g>\n<!-- rv_dep_KS1 -->\n<g id=\"node26\" class=\"node\">\n<title>rv_dep_KS1</title>\n<ellipse fill=\"none\" stroke=\"#000000\" cx=\"2224.1321\" cy=\"-234\" rx=\"96.6831\" ry=\"18\"/>\n<text text-anchor=\"middle\" x=\"2224.1321\" y=\"-230.3\" font-family=\"Times,serif\" font-size=\"14.00\" fill=\"#000000\">rv_dep_KS1 ~ Normal</text>\n</g>\n<!-- rv_noise_dep_KS1&#45;&gt;rv_dep_KS1 -->\n<g id=\"edge1\" class=\"edge\">\n<title>rv_noise_dep_KS1&#45;&gt;rv_dep_KS1</title>\n<path fill=\"none\" stroke=\"#000000\" d=\"M2224.1321,-287.8314C2224.1321,-280.131 2224.1321,-270.9743 2224.1321,-262.4166\"/>\n<polygon fill=\"#000000\" stroke=\"#000000\" points=\"2227.6322,-262.4132 2224.1321,-252.4133 2220.6322,-262.4133 2227.6322,-262.4132\"/>\n</g>\n<!-- rv_noise_rTCRrMean_TP3 -->\n<g id=\"node3\" class=\"node\">\n<title>rv_noise_rTCRrMean_TP3</title>\n<ellipse fill=\"none\" stroke=\"#000000\" cx=\"1024.1321\" cy=\"-90\" rx=\"168.1703\" ry=\"18\"/>\n<text text-anchor=\"middle\" x=\"1024.1321\" y=\"-86.3\" font-family=\"Times,serif\" font-size=\"14.00\" fill=\"#000000\">rv_noise_rTCRrMean_TP3 ~ HalfNormal</text>\n</g>\n<!-- rv_noise_rTCRrMean_TP3&#45;&gt;rv_rTCRrMean_TP3 -->\n<g id=\"edge24\" class=\"edge\">\n<title>rv_noise_rTCRrMean_TP3&#45;&gt;rv_rTCRrMean_TP3</title>\n<path fill=\"none\" stroke=\"#000000\" d=\"M1144.7337,-77.3556C1163.9258,-75.4729 1183.5666,-73.6223 1202.1321,-72 1414.7186,-53.4241 1662.367,-36.0733 1808.5448,-26.2744\"/>\n<polygon fill=\"#000000\" stroke=\"#000000\" points=\"1809.1484,-29.742 1818.8924,-25.582 1808.681,-22.7576 1809.1484,-29.742\"/>\n</g>\n<!-- rv_center_logDiff_lambdaALCK_LA2 -->\n<g id=\"node4\" class=\"node\">\n<title>rv_center_logDiff_lambdaALCK_LA2</title>\n<ellipse fill=\"none\" stroke=\"#000000\" cx=\"3116.1321\" cy=\"-306\" rx=\"196.0654\" ry=\"18\"/>\n<text text-anchor=\"middle\" x=\"3116.1321\" y=\"-302.3\" font-family=\"Times,serif\" font-size=\"14.00\" fill=\"#000000\">rv_center_logDiff_lambdaALCK_LA2 ~ Normal</text>\n</g>\n<!-- rv_lambdaALCK_LA2 -->\n<g id=\"node27\" class=\"node\">\n<title>rv_lambdaALCK_LA2</title>\n<ellipse fill=\"none\" stroke=\"#000000\" cx=\"4722.1321\" cy=\"-234\" rx=\"137.2758\" ry=\"18\"/>\n<text text-anchor=\"middle\" x=\"4722.1321\" y=\"-230.3\" font-family=\"Times,serif\" font-size=\"14.00\" fill=\"#000000\">rv_lambdaALCK_LA2 ~ Normal</text>\n</g>\n<!-- rv_center_logDiff_lambdaALCK_LA2&#45;&gt;rv_lambdaALCK_LA2 -->\n<g id=\"edge9\" class=\"edge\">\n<title>rv_center_logDiff_lambdaALCK_LA2&#45;&gt;rv_lambdaALCK_LA2</title>\n<path fill=\"none\" stroke=\"#000000\" d=\"M3252.7971,-293.0606C3275.6021,-291.1712 3299.0252,-289.3957 3321.1321,-288 3779.0038,-259.0917 4322.0998,-243.4792 4576.7252,-237.2548\"/>\n<polygon fill=\"#000000\" stroke=\"#000000\" points=\"4576.8631,-240.7526 4586.775,-237.0103 4576.6928,-233.7546 4576.8631,-240.7526\"/>\n</g>\n<!-- rv_devisor_logPoff_lambdaALCK_LA2 -->\n<g id=\"node5\" class=\"node\">\n<title>rv_devisor_logPoff_lambdaALCK_LA2</title>\n<ellipse fill=\"none\" stroke=\"#000000\" cx=\"3569.1321\" cy=\"-306\" rx=\"239.3577\" ry=\"18\"/>\n<text text-anchor=\"middle\" x=\"3569.1321\" y=\"-302.3\" font-family=\"Times,serif\" font-size=\"14.00\" fill=\"#000000\">rv_devisor_logPoff_lambdaALCK_LA2 ~ TruncatedNormal</text>\n</g>\n<!-- rv_devisor_logPoff_lambdaALCK_LA2&#45;&gt;rv_lambdaALCK_LA2 -->\n<g id=\"edge11\" class=\"edge\">\n<title>rv_devisor_logPoff_lambdaALCK_LA2&#45;&gt;rv_lambdaALCK_LA2</title>\n<path fill=\"none\" stroke=\"#000000\" d=\"M3739.5402,-293.3416C3765.5284,-291.4951 3792.041,-289.6591 3817.1321,-288 4089.6323,-269.9818 4408.4732,-251.5822 4585.6633,-241.5951\"/>\n<polygon fill=\"#000000\" stroke=\"#000000\" points=\"4586.0336,-245.0799 4595.8209,-241.023 4585.6399,-238.0909 4586.0336,-245.0799\"/>\n</g>\n<!-- param_t_KS1 -->\n<g id=\"node6\" class=\"node\">\n<title>param_t_KS1</title>\n<ellipse fill=\"none\" stroke=\"#000000\" cx=\"2484.1321\" cy=\"-306\" rx=\"104.7816\" ry=\"18\"/>\n<text text-anchor=\"middle\" x=\"2484.1321\" y=\"-302.3\" font-family=\"Times,serif\" font-size=\"14.00\" fill=\"#000000\">param_t_KS1 ~ Uniform</text>\n</g>\n<!-- param_t_KS1&#45;&gt;rv_dep_KS1 -->\n<g id=\"edge4\" class=\"edge\">\n<title>param_t_KS1&#45;&gt;rv_dep_KS1</title>\n<path fill=\"none\" stroke=\"#000000\" d=\"M2428.6744,-290.6425C2387.4428,-279.2245 2331.1008,-263.6221 2287.9887,-251.6834\"/>\n<polygon fill=\"#000000\" stroke=\"#000000\" points=\"2288.7397,-248.2597 2278.1683,-248.9639 2286.8715,-255.0058 2288.7397,-248.2597\"/>\n</g>\n<!-- rv_slope_k_dep_KS1 -->\n<g id=\"node7\" class=\"node\">\n<title>rv_slope_k_dep_KS1</title>\n<ellipse fill=\"none\" stroke=\"#000000\" cx=\"2754.1321\" cy=\"-306\" rx=\"147.5738\" ry=\"18\"/>\n<text text-anchor=\"middle\" x=\"2754.1321\" y=\"-302.3\" font-family=\"Times,serif\" font-size=\"14.00\" fill=\"#000000\">rv_slope_k_dep_KS1 ~ HalfNormal</text>\n</g>\n<!-- rv_slope_k_dep_KS1&#45;&gt;rv_dep_KS1 -->\n<g id=\"edge6\" class=\"edge\">\n<title>rv_slope_k_dep_KS1&#45;&gt;rv_dep_KS1</title>\n<path fill=\"none\" stroke=\"#000000\" d=\"M2655.3752,-292.584C2556.9852,-279.2178 2407.3068,-258.8841 2312.669,-246.0277\"/>\n<polygon fill=\"#000000\" stroke=\"#000000\" points=\"2312.9286,-242.5309 2302.5484,-244.6528 2311.9862,-249.4671 2312.9286,-242.5309\"/>\n</g>\n<!-- rv_maxPoff_lambdaALCK_LA2 -->\n<g id=\"node8\" class=\"node\">\n<title>rv_maxPoff_lambdaALCK_LA2</title>\n<ellipse fill=\"none\" stroke=\"#000000\" cx=\"4037.1321\" cy=\"-306\" rx=\"211.4628\" ry=\"18\"/>\n<text text-anchor=\"middle\" x=\"4037.1321\" y=\"-302.3\" font-family=\"Times,serif\" font-size=\"14.00\" fill=\"#000000\">rv_maxPoff_lambdaALCK_LA2 ~ TruncatedNormal</text>\n</g>\n<!-- rv_maxPoff_lambdaALCK_LA2&#45;&gt;rv_lambdaALCK_LA2 -->\n<g id=\"edge14\" class=\"edge\">\n<title>rv_maxPoff_lambdaALCK_LA2&#45;&gt;rv_lambdaALCK_LA2</title>\n<path fill=\"none\" stroke=\"#000000\" d=\"M4170.4259,-291.9896C4296.6779,-278.7193 4484.4057,-258.9873 4605.0358,-246.3079\"/>\n<polygon fill=\"#000000\" stroke=\"#000000\" points=\"4605.4682,-249.7819 4615.0475,-245.2556 4604.7364,-242.8202 4605.4682,-249.7819\"/>\n</g>\n<!-- rv_devisor_logDiff_lambdaALCK_LA2 -->\n<g id=\"node9\" class=\"node\">\n<title>rv_devisor_logDiff_lambdaALCK_LA2</title>\n<ellipse fill=\"none\" stroke=\"#000000\" cx=\"4505.1321\" cy=\"-306\" rx=\"238.5577\" ry=\"18\"/>\n<text text-anchor=\"middle\" x=\"4505.1321\" y=\"-302.3\" font-family=\"Times,serif\" font-size=\"14.00\" fill=\"#000000\">rv_devisor_logDiff_lambdaALCK_LA2 ~ TruncatedNormal</text>\n</g>\n<!-- rv_devisor_logDiff_lambdaALCK_LA2&#45;&gt;rv_lambdaALCK_LA2 -->\n<g id=\"edge7\" class=\"edge\">\n<title>rv_devisor_logDiff_lambdaALCK_LA2&#45;&gt;rv_lambdaALCK_LA2</title>\n<path fill=\"none\" stroke=\"#000000\" d=\"M4558.2162,-288.3868C4589.4866,-278.0114 4629.1517,-264.8506 4661.6302,-254.0744\"/>\n<polygon fill=\"#000000\" stroke=\"#000000\" points=\"4663.0727,-257.2834 4671.4617,-250.8123 4660.8683,-250.6396 4663.0727,-257.2834\"/>\n</g>\n<!-- param_k_KS1 -->\n<g id=\"node10\" class=\"node\">\n<title>param_k_KS1</title>\n<ellipse fill=\"none\" stroke=\"#000000\" cx=\"1367.1321\" cy=\"-306\" rx=\"107.4815\" ry=\"18\"/>\n<text text-anchor=\"middle\" x=\"1367.1321\" y=\"-302.3\" font-family=\"Times,serif\" font-size=\"14.00\" fill=\"#000000\">param_k_KS1 ~ Uniform</text>\n</g>\n<!-- param_k_KS1&#45;&gt;rv_dep_KS1 -->\n<g id=\"edge3\" class=\"edge\">\n<title>param_k_KS1&#45;&gt;rv_dep_KS1</title>\n<path fill=\"none\" stroke=\"#000000\" d=\"M1443.4499,-293.2559C1456.6574,-291.3087 1470.2739,-289.4637 1483.1321,-288 1709.5072,-262.231 1976.2653,-246.3142 2119.9072,-238.9219\"/>\n<polygon fill=\"#000000\" stroke=\"#000000\" points=\"2120.2261,-242.4103 2130.0344,-238.4044 2119.8687,-235.4194 2120.2261,-242.4103\"/>\n</g>\n<!-- rv_noise_lambdaALCK_LA2 -->\n<g id=\"node11\" class=\"node\">\n<title>rv_noise_lambdaALCK_LA2</title>\n<ellipse fill=\"none\" stroke=\"#000000\" cx=\"4939.1321\" cy=\"-306\" rx=\"177.3685\" ry=\"18\"/>\n<text text-anchor=\"middle\" x=\"4939.1321\" y=\"-302.3\" font-family=\"Times,serif\" font-size=\"14.00\" fill=\"#000000\">rv_noise_lambdaALCK_LA2 ~ HalfNormal</text>\n</g>\n<!-- rv_noise_lambdaALCK_LA2&#45;&gt;rv_lambdaALCK_LA2 -->\n<g id=\"edge10\" class=\"edge\">\n<title>rv_noise_lambdaALCK_LA2&#45;&gt;rv_lambdaALCK_LA2</title>\n<path fill=\"none\" stroke=\"#000000\" d=\"M4887.1552,-288.7542C4855.6579,-278.3035 4815.3435,-264.9273 4782.4459,-254.012\"/>\n<polygon fill=\"#000000\" stroke=\"#000000\" points=\"4783.5296,-250.6839 4772.9361,-250.8566 4781.3251,-257.3278 4783.5296,-250.6839\"/>\n</g>\n<!-- rv_rTCRhMean_TP3 -->\n<g id=\"node12\" class=\"node\">\n<title>rv_rTCRhMean_TP3</title>\n<ellipse fill=\"#d3d3d3\" stroke=\"#000000\" cx=\"4611.1321\" cy=\"-18\" rx=\"129.9769\" ry=\"18\"/>\n<text text-anchor=\"middle\" x=\"4611.1321\" y=\"-14.3\" font-family=\"Times,serif\" font-size=\"14.00\" fill=\"#000000\">rv_rTCRhMean_TP3 ~ Normal</text>\n</g>\n<!-- rv_devisor_decayLength_rTCRrMean_TP3 -->\n<g id=\"node13\" class=\"node\">\n<title>rv_devisor_decayLength_rTCRrMean_TP3</title>\n<ellipse fill=\"none\" stroke=\"#000000\" cx=\"1461.1321\" cy=\"-90\" rx=\"250.4558\" ry=\"18\"/>\n<text text-anchor=\"middle\" x=\"1461.1321\" y=\"-86.3\" font-family=\"Times,serif\" font-size=\"14.00\" fill=\"#000000\">rv_devisor_decayLength_rTCRrMean_TP3 ~ TruncatedNormal</text>\n</g>\n<!-- rv_devisor_decayLength_rTCRrMean_TP3&#45;&gt;rv_rTCRrMean_TP3 -->\n<g id=\"edge28\" class=\"edge\">\n<title>rv_devisor_decayLength_rTCRrMean_TP3&#45;&gt;rv_rTCRrMean_TP3</title>\n<path fill=\"none\" stroke=\"#000000\" d=\"M1568.3938,-73.7071C1649.2856,-61.4197 1759.3237,-44.7051 1837.7118,-32.798\"/>\n<polygon fill=\"#000000\" stroke=\"#000000\" points=\"1838.7123,-36.1863 1848.0732,-31.2241 1837.661,-29.2657 1838.7123,-36.1863\"/>\n</g>\n<!-- rv_mu_decayLength_rTCRhMean_TP3 -->\n<g id=\"node14\" class=\"node\">\n<title>rv_mu_decayLength_rTCRhMean_TP3</title>\n<ellipse fill=\"none\" stroke=\"#000000\" cx=\"3967.1321\" cy=\"-90\" rx=\"200.3646\" ry=\"18\"/>\n<text text-anchor=\"middle\" x=\"3967.1321\" y=\"-86.3\" font-family=\"Times,serif\" font-size=\"14.00\" fill=\"#000000\">rv_mu_decayLength_rTCRhMean_TP3 ~ Normal</text>\n</g>\n<!-- rv_mu_decayLength_rTCRhMean_TP3&#45;&gt;rv_rTCRhMean_TP3 -->\n<g id=\"edge36\" class=\"edge\">\n<title>rv_mu_decayLength_rTCRhMean_TP3&#45;&gt;rv_rTCRhMean_TP3</title>\n<path fill=\"none\" stroke=\"#000000\" d=\"M4092.8305,-75.9468C4211.0641,-62.7281 4386.3968,-43.1257 4499.7299,-30.4549\"/>\n<polygon fill=\"#000000\" stroke=\"#000000\" points=\"4500.2695,-33.9165 4509.8187,-29.327 4499.4917,-26.9598 4500.2695,-33.9165\"/>\n</g>\n<!-- rv_logSlope_depletion_rTCRrMean_TP3 -->\n<g id=\"node15\" class=\"node\">\n<title>rv_logSlope_depletion_rTCRrMean_TP3</title>\n<ellipse fill=\"none\" stroke=\"#000000\" cx=\"1935.1321\" cy=\"-90\" rx=\"206.0634\" ry=\"18\"/>\n<text text-anchor=\"middle\" x=\"1935.1321\" y=\"-86.3\" font-family=\"Times,serif\" font-size=\"14.00\" fill=\"#000000\">rv_logSlope_depletion_rTCRrMean_TP3 ~ Normal</text>\n</g>\n<!-- rv_logSlope_depletion_rTCRrMean_TP3&#45;&gt;rv_rTCRrMean_TP3 -->\n<g id=\"edge29\" class=\"edge\">\n<title>rv_logSlope_depletion_rTCRrMean_TP3&#45;&gt;rv_rTCRrMean_TP3</title>\n<path fill=\"none\" stroke=\"#000000\" d=\"M1935.1321,-71.8314C1935.1321,-64.131 1935.1321,-54.9743 1935.1321,-46.4166\"/>\n<polygon fill=\"#000000\" stroke=\"#000000\" points=\"1938.6322,-46.4132 1935.1321,-36.4133 1931.6322,-46.4133 1938.6322,-46.4132\"/>\n</g>\n<!-- param_logDiff_LA2 -->\n<g id=\"node16\" class=\"node\">\n<title>param_logDiff_LA2</title>\n<ellipse fill=\"none\" stroke=\"#000000\" cx=\"5264.1321\" cy=\"-306\" rx=\"129.9769\" ry=\"18\"/>\n<text text-anchor=\"middle\" x=\"5264.1321\" y=\"-302.3\" font-family=\"Times,serif\" font-size=\"14.00\" fill=\"#000000\">param_logDiff_LA2 ~ Uniform</text>\n</g>\n<!-- param_logDiff_LA2&#45;&gt;rv_lambdaALCK_LA2 -->\n<g id=\"edge15\" class=\"edge\">\n<title>param_logDiff_LA2&#45;&gt;rv_lambdaALCK_LA2</title>\n<path fill=\"none\" stroke=\"#000000\" d=\"M5170.0324,-293.4997C5074.9299,-280.8661 4928.2074,-261.3753 4828.8316,-248.1741\"/>\n<polygon fill=\"#000000\" stroke=\"#000000\" points=\"4829.1382,-244.6842 4818.7644,-246.8368 4828.2164,-251.6232 4829.1382,-244.6842\"/>\n</g>\n<!-- rv_intercept_depletion_rTCRrMean_TP3 -->\n<g id=\"node17\" class=\"node\">\n<title>rv_intercept_depletion_rTCRrMean_TP3</title>\n<ellipse fill=\"none\" stroke=\"#000000\" cx=\"2363.1321\" cy=\"-90\" rx=\"204.1638\" ry=\"18\"/>\n<text text-anchor=\"middle\" x=\"2363.1321\" y=\"-86.3\" font-family=\"Times,serif\" font-size=\"14.00\" fill=\"#000000\">rv_intercept_depletion_rTCRrMean_TP3 ~ Normal</text>\n</g>\n<!-- rv_intercept_depletion_rTCRrMean_TP3&#45;&gt;rv_rTCRrMean_TP3 -->\n<g id=\"edge22\" class=\"edge\">\n<title>rv_intercept_depletion_rTCRrMean_TP3&#45;&gt;rv_rTCRrMean_TP3</title>\n<path fill=\"none\" stroke=\"#000000\" d=\"M2268.145,-74.0209C2196.5524,-61.9772 2098.9028,-45.5502 2027.8651,-33.6\"/>\n<polygon fill=\"#000000\" stroke=\"#000000\" points=\"2028.0256,-30.0778 2017.5835,-31.8703 2026.8643,-36.9809 2028.0256,-30.0778\"/>\n</g>\n<!-- rv_min_decayLength_rTCRrMean_TP3 -->\n<g id=\"node18\" class=\"node\">\n<title>rv_min_decayLength_rTCRrMean_TP3</title>\n<ellipse fill=\"none\" stroke=\"#000000\" cx=\"2785.1321\" cy=\"-90\" rx=\"200.3646\" ry=\"18\"/>\n<text text-anchor=\"middle\" x=\"2785.1321\" y=\"-86.3\" font-family=\"Times,serif\" font-size=\"14.00\" fill=\"#000000\">rv_min_decayLength_rTCRrMean_TP3 ~ Normal</text>\n</g>\n<!-- rv_min_decayLength_rTCRrMean_TP3&#45;&gt;rv_rTCRrMean_TP3 -->\n<g id=\"edge23\" class=\"edge\">\n<title>rv_min_decayLength_rTCRrMean_TP3&#45;&gt;rv_rTCRrMean_TP3</title>\n<path fill=\"none\" stroke=\"#000000\" d=\"M2640.662,-77.5222C2619.0336,-75.6644 2596.9974,-73.7774 2576.1321,-72 2394.6594,-56.5415 2184.2646,-38.8639 2055.4434,-28.068\"/>\n<polygon fill=\"#000000\" stroke=\"#000000\" points=\"2055.4166,-24.5536 2045.1592,-27.2062 2054.832,-31.5291 2055.4166,-24.5536\"/>\n</g>\n<!-- rv_intercept_dep_KS1 -->\n<g id=\"node19\" class=\"node\">\n<title>rv_intercept_dep_KS1</title>\n<ellipse fill=\"none\" stroke=\"#000000\" cx=\"1626.1321\" cy=\"-306\" rx=\"133.7763\" ry=\"18\"/>\n<text text-anchor=\"middle\" x=\"1626.1321\" y=\"-302.3\" font-family=\"Times,serif\" font-size=\"14.00\" fill=\"#000000\">rv_intercept_dep_KS1 ~ Normal</text>\n</g>\n<!-- rv_intercept_dep_KS1&#45;&gt;rv_dep_KS1 -->\n<g id=\"edge2\" class=\"edge\">\n<title>rv_intercept_dep_KS1&#45;&gt;rv_dep_KS1</title>\n<path fill=\"none\" stroke=\"#000000\" d=\"M1723.8131,-293.6108C1738.9831,-291.7138 1754.4781,-289.7918 1769.1321,-288 1894.7075,-272.6451 2039.8611,-255.5276 2131.8024,-244.7635\"/>\n<polygon fill=\"#000000\" stroke=\"#000000\" points=\"2132.3887,-248.2189 2141.9141,-243.5802 2131.575,-241.2663 2132.3887,-248.2189\"/>\n</g>\n<!-- rv_center_logPoff_lambdaALCK_LA2 -->\n<g id=\"node20\" class=\"node\">\n<title>rv_center_logPoff_lambdaALCK_LA2</title>\n<ellipse fill=\"none\" stroke=\"#000000\" cx=\"5609.1321\" cy=\"-306\" rx=\"196.8651\" ry=\"18\"/>\n<text text-anchor=\"middle\" x=\"5609.1321\" y=\"-302.3\" font-family=\"Times,serif\" font-size=\"14.00\" fill=\"#000000\">rv_center_logPoff_lambdaALCK_LA2 ~ Normal</text>\n</g>\n<!-- rv_center_logPoff_lambdaALCK_LA2&#45;&gt;rv_lambdaALCK_LA2 -->\n<g id=\"edge8\" class=\"edge\">\n<title>rv_center_logPoff_lambdaALCK_LA2&#45;&gt;rv_lambdaALCK_LA2</title>\n<path fill=\"none\" stroke=\"#000000\" d=\"M5467.5795,-293.4805C5445.9931,-291.615 5423.9717,-289.7367 5403.1321,-288 5210.7167,-271.965 4987.6203,-254.4859 4850.6823,-243.8843\"/>\n<polygon fill=\"#000000\" stroke=\"#000000\" points=\"4850.8057,-240.3835 4840.5654,-243.1014 4850.2655,-247.3626 4850.8057,-240.3835\"/>\n</g>\n<!-- rv_sigma_decayLength_rTCRhMean_TP3 -->\n<g id=\"node21\" class=\"node\">\n<title>rv_sigma_decayLength_rTCRhMean_TP3</title>\n<ellipse fill=\"none\" stroke=\"#000000\" cx=\"4395.1321\" cy=\"-90\" rx=\"209.8628\" ry=\"18\"/>\n<text text-anchor=\"middle\" x=\"4395.1321\" y=\"-86.3\" font-family=\"Times,serif\" font-size=\"14.00\" fill=\"#000000\">rv_sigma_decayLength_rTCRhMean_TP3 ~ Normal</text>\n</g>\n<!-- rv_sigma_decayLength_rTCRhMean_TP3&#45;&gt;rv_rTCRhMean_TP3 -->\n<g id=\"edge30\" class=\"edge\">\n<title>rv_sigma_decayLength_rTCRhMean_TP3&#45;&gt;rv_rTCRhMean_TP3</title>\n<path fill=\"none\" stroke=\"#000000\" d=\"M4447.6954,-72.4789C4478.93,-62.0673 4518.6522,-48.8266 4551.1147,-38.0058\"/>\n<polygon fill=\"#000000\" stroke=\"#000000\" points=\"4552.5588,-41.2138 4560.9388,-34.7311 4550.3451,-34.573 4552.5588,-41.2138\"/>\n</g>\n<!-- rv_depletion_TP3 -->\n<g id=\"node22\" class=\"node\">\n<title>rv_depletion_TP3</title>\n<ellipse fill=\"none\" stroke=\"#000000\" cx=\"3352.1321\" cy=\"-90\" rx=\"116.9792\" ry=\"18\"/>\n<text text-anchor=\"middle\" x=\"3352.1321\" y=\"-86.3\" font-family=\"Times,serif\" font-size=\"14.00\" fill=\"#000000\">rv_depletion_TP3 ~ Normal</text>\n</g>\n<!-- rv_depletion_TP3&#45;&gt;rv_rTCRhMean_TP3 -->\n<g id=\"edge31\" class=\"edge\">\n<title>rv_depletion_TP3&#45;&gt;rv_rTCRhMean_TP3</title>\n<path fill=\"none\" stroke=\"#000000\" d=\"M3434.3481,-77.116C3448.9059,-75.1602 3463.9434,-73.3486 3478.1321,-72 3835.1414,-38.0678 4257.5661,-25.0858 4471.6769,-20.4186\"/>\n<polygon fill=\"#000000\" stroke=\"#000000\" points=\"4471.7918,-23.917 4481.7141,-20.2025 4471.6411,-16.9186 4471.7918,-23.917\"/>\n</g>\n<!-- rv_depletion_TP3&#45;&gt;rv_rTCRrMean_TP3 -->\n<g id=\"edge25\" class=\"edge\">\n<title>rv_depletion_TP3&#45;&gt;rv_rTCRrMean_TP3</title>\n<path fill=\"none\" stroke=\"#000000\" d=\"M3270.261,-77.092C3255.5972,-75.1262 3240.4346,-73.3174 3226.1321,-72 2807.4403,-33.4345 2309.7967,-22.3941 2073.2547,-19.2466\"/>\n<polygon fill=\"#000000\" stroke=\"#000000\" points=\"2073.2694,-15.7466 2063.2246,-19.1158 2073.1781,-22.746 2073.2694,-15.7466\"/>\n</g>\n<!-- rv_scale_decayLength_rTCRhMean_TP3 -->\n<g id=\"node24\" class=\"node\">\n<title>rv_scale_decayLength_rTCRhMean_TP3</title>\n<ellipse fill=\"none\" stroke=\"#000000\" cx=\"4828.1321\" cy=\"-90\" rx=\"205.2636\" ry=\"18\"/>\n<text text-anchor=\"middle\" x=\"4828.1321\" y=\"-86.3\" font-family=\"Times,serif\" font-size=\"14.00\" fill=\"#000000\">rv_scale_decayLength_rTCRhMean_TP3 ~ Normal</text>\n</g>\n<!-- rv_scale_decayLength_rTCRhMean_TP3&#45;&gt;rv_rTCRhMean_TP3 -->\n<g id=\"edge33\" class=\"edge\">\n<title>rv_scale_decayLength_rTCRhMean_TP3&#45;&gt;rv_rTCRhMean_TP3</title>\n<path fill=\"none\" stroke=\"#000000\" d=\"M4775.6024,-72.5708C4744.1148,-62.1233 4703.9667,-48.8023 4671.2198,-37.9369\"/>\n<polygon fill=\"#000000\" stroke=\"#000000\" points=\"4671.9058,-34.477 4661.3123,-34.6497 4669.7013,-41.1208 4671.9058,-34.477\"/>\n</g>\n<!-- rv_slope_t_dep_KS1 -->\n<g id=\"node25\" class=\"node\">\n<title>rv_slope_t_dep_KS1</title>\n<ellipse fill=\"none\" stroke=\"#000000\" cx=\"1923.1321\" cy=\"-306\" rx=\"144.8743\" ry=\"18\"/>\n<text text-anchor=\"middle\" x=\"1923.1321\" y=\"-302.3\" font-family=\"Times,serif\" font-size=\"14.00\" fill=\"#000000\">rv_slope_t_dep_KS1 ~ HalfNormal</text>\n</g>\n<!-- rv_slope_t_dep_KS1&#45;&gt;rv_dep_KS1 -->\n<g id=\"edge5\" class=\"edge\">\n<title>rv_slope_t_dep_KS1&#45;&gt;rv_dep_KS1</title>\n<path fill=\"none\" stroke=\"#000000\" d=\"M1989.9337,-290.0209C2038.8681,-278.3156 2105.1122,-262.4699 2154.661,-250.6177\"/>\n<polygon fill=\"#000000\" stroke=\"#000000\" points=\"2155.7415,-253.958 2164.6529,-248.2276 2154.113,-247.1501 2155.7415,-253.958\"/>\n</g>\n<!-- rv_dep_C -->\n<g id=\"node29\" class=\"node\">\n<title>rv_dep_C</title>\n<ellipse fill=\"none\" stroke=\"#000000\" cx=\"3110.1321\" cy=\"-162\" rx=\"86.3847\" ry=\"18\"/>\n<text text-anchor=\"middle\" x=\"3110.1321\" y=\"-158.3\" font-family=\"Times,serif\" font-size=\"14.00\" fill=\"#000000\">rv_dep_C ~ Normal</text>\n</g>\n<!-- rv_dep_KS1&#45;&gt;rv_dep_C -->\n<g id=\"edge16\" class=\"edge\">\n<title>rv_dep_KS1&#45;&gt;rv_dep_C</title>\n<path fill=\"none\" stroke=\"#000000\" d=\"M2313.1417,-226.7667C2482.3618,-213.0152 2848.7824,-183.2383 3019.3608,-169.3764\"/>\n<polygon fill=\"#000000\" stroke=\"#000000\" points=\"3019.8827,-172.8457 3029.5663,-168.5471 3019.3156,-165.8687 3019.8827,-172.8457\"/>\n</g>\n<!-- rv_decayLength_C -->\n<g id=\"node37\" class=\"node\">\n<title>rv_decayLength_C</title>\n<ellipse fill=\"none\" stroke=\"#000000\" cx=\"4061.1321\" cy=\"-162\" rx=\"120.7786\" ry=\"18\"/>\n<text text-anchor=\"middle\" x=\"4061.1321\" y=\"-158.3\" font-family=\"Times,serif\" font-size=\"14.00\" fill=\"#000000\">rv_decayLength_C ~ Normal</text>\n</g>\n<!-- rv_lambdaALCK_LA2&#45;&gt;rv_decayLength_C -->\n<g id=\"edge17\" class=\"edge\">\n<title>rv_lambdaALCK_LA2&#45;&gt;rv_decayLength_C</title>\n<path fill=\"none\" stroke=\"#000000\" d=\"M4616.2976,-222.4719C4493.6453,-209.1119 4292.6048,-187.2134 4169.0662,-173.7568\"/>\n<polygon fill=\"#000000\" stroke=\"#000000\" points=\"4169.1547,-170.2458 4158.8345,-172.6423 4168.3967,-177.2047 4169.1547,-170.2458\"/>\n</g>\n<!-- rv_intercept_depletion_rTCRhMean_TP3 -->\n<g id=\"node28\" class=\"node\">\n<title>rv_intercept_depletion_rTCRhMean_TP3</title>\n<ellipse fill=\"none\" stroke=\"#000000\" cx=\"5257.1321\" cy=\"-90\" rx=\"206.0634\" ry=\"18\"/>\n<text text-anchor=\"middle\" x=\"5257.1321\" y=\"-86.3\" font-family=\"Times,serif\" font-size=\"14.00\" fill=\"#000000\">rv_intercept_depletion_rTCRhMean_TP3 ~ Normal</text>\n</g>\n<!-- rv_intercept_depletion_rTCRhMean_TP3&#45;&gt;rv_rTCRhMean_TP3 -->\n<g id=\"edge35\" class=\"edge\">\n<title>rv_intercept_depletion_rTCRhMean_TP3&#45;&gt;rv_rTCRhMean_TP3</title>\n<path fill=\"none\" stroke=\"#000000\" d=\"M5129.8888,-75.8181C5011.2506,-62.5953 4836.0403,-43.0672 4722.7282,-30.438\"/>\n<polygon fill=\"#000000\" stroke=\"#000000\" points=\"4722.9671,-26.943 4712.6409,-29.3137 4722.1917,-33.8999 4722.9671,-26.943\"/>\n</g>\n<!-- rv_dep_C&#45;&gt;rv_depletion_TP3 -->\n<g id=\"edge20\" class=\"edge\">\n<title>rv_dep_C&#45;&gt;rv_depletion_TP3</title>\n<path fill=\"none\" stroke=\"#000000\" d=\"M3159.9812,-147.1689C3197.1781,-136.102 3248.2883,-120.8957 3288.446,-108.9479\"/>\n<polygon fill=\"#000000\" stroke=\"#000000\" points=\"3289.5553,-112.2696 3298.142,-106.0632 3287.5591,-105.5602 3289.5553,-112.2696\"/>\n</g>\n<!-- rv_depletion_C -->\n<g id=\"node30\" class=\"node\">\n<title>rv_depletion_C</title>\n<ellipse fill=\"none\" stroke=\"#000000\" cx=\"3110.1321\" cy=\"-90\" rx=\"107.4815\" ry=\"18\"/>\n<text text-anchor=\"middle\" x=\"3110.1321\" y=\"-86.3\" font-family=\"Times,serif\" font-size=\"14.00\" fill=\"#000000\">rv_depletion_C ~ Normal</text>\n</g>\n<!-- rv_dep_C&#45;&gt;rv_depletion_C -->\n<g id=\"edge18\" class=\"edge\">\n<title>rv_dep_C&#45;&gt;rv_depletion_C</title>\n<path fill=\"none\" stroke=\"#000000\" d=\"M3110.1321,-143.8314C3110.1321,-136.131 3110.1321,-126.9743 3110.1321,-118.4166\"/>\n<polygon fill=\"#000000\" stroke=\"#000000\" points=\"3113.6322,-118.4132 3110.1321,-108.4133 3106.6322,-118.4133 3113.6322,-118.4132\"/>\n</g>\n<!-- rv_logSlope_depletion_rTCRhMean_TP3 -->\n<g id=\"node31\" class=\"node\">\n<title>rv_logSlope_depletion_rTCRhMean_TP3</title>\n<ellipse fill=\"none\" stroke=\"#000000\" cx=\"5689.1321\" cy=\"-90\" rx=\"207.9631\" ry=\"18\"/>\n<text text-anchor=\"middle\" x=\"5689.1321\" y=\"-86.3\" font-family=\"Times,serif\" font-size=\"14.00\" fill=\"#000000\">rv_logSlope_depletion_rTCRhMean_TP3 ~ Normal</text>\n</g>\n<!-- rv_logSlope_depletion_rTCRhMean_TP3&#45;&gt;rv_rTCRhMean_TP3 -->\n<g id=\"edge32\" class=\"edge\">\n<title>rv_logSlope_depletion_rTCRhMean_TP3&#45;&gt;rv_rTCRhMean_TP3</title>\n<path fill=\"none\" stroke=\"#000000\" d=\"M5541.209,-77.3292C5518.0938,-75.4649 5494.4712,-73.6269 5472.1321,-72 5213.3934,-53.1571 4910.6199,-35.0916 4741.8501,-25.3778\"/>\n<polygon fill=\"#000000\" stroke=\"#000000\" points=\"4741.8607,-21.8727 4731.6763,-24.793 4741.4589,-28.8611 4741.8607,-21.8727\"/>\n</g>\n<!-- param_logPoff_LA2 -->\n<g id=\"node32\" class=\"node\">\n<title>param_logPoff_LA2</title>\n<ellipse fill=\"none\" stroke=\"#000000\" cx=\"5955.1321\" cy=\"-306\" rx=\"131.077\" ry=\"18\"/>\n<text text-anchor=\"middle\" x=\"5955.1321\" y=\"-302.3\" font-family=\"Times,serif\" font-size=\"14.00\" fill=\"#000000\">param_logPoff_LA2 ~ Uniform</text>\n</g>\n<!-- param_logPoff_LA2&#45;&gt;rv_lambdaALCK_LA2 -->\n<g id=\"edge12\" class=\"edge\">\n<title>param_logPoff_LA2&#45;&gt;rv_lambdaALCK_LA2</title>\n<path fill=\"none\" stroke=\"#000000\" d=\"M5862.9929,-293.1092C5847.0564,-291.1786 5830.6321,-289.3772 5815.1321,-288 5476.4925,-257.9118 5077.2289,-243.5024 4867.5541,-237.554\"/>\n<polygon fill=\"#000000\" stroke=\"#000000\" points=\"4867.5006,-234.0512 4857.4061,-237.2685 4867.3037,-241.0485 4867.5006,-234.0512\"/>\n</g>\n<!-- rv_decayLength_TP3 -->\n<g id=\"node33\" class=\"node\">\n<title>rv_decayLength_TP3</title>\n<ellipse fill=\"none\" stroke=\"#000000\" cx=\"3618.1321\" cy=\"-90\" rx=\"130.777\" ry=\"18\"/>\n<text text-anchor=\"middle\" x=\"3618.1321\" y=\"-86.3\" font-family=\"Times,serif\" font-size=\"14.00\" fill=\"#000000\">rv_decayLength_TP3 ~ Normal</text>\n</g>\n<!-- rv_decayLength_TP3&#45;&gt;rv_rTCRhMean_TP3 -->\n<g id=\"edge34\" class=\"edge\">\n<title>rv_decayLength_TP3&#45;&gt;rv_rTCRhMean_TP3</title>\n<path fill=\"none\" stroke=\"#000000\" d=\"M3710.6645,-77.2452C3726.4811,-75.3109 3742.7639,-73.4728 3758.1321,-72 4011.6305,-47.7053 4308.599,-31.7157 4476.8271,-23.8144\"/>\n<polygon fill=\"#000000\" stroke=\"#000000\" points=\"4477.1487,-27.3033 4486.9744,-23.3403 4476.8219,-20.3109 4477.1487,-27.3033\"/>\n</g>\n<!-- rv_decayLength_TP3&#45;&gt;rv_rTCRrMean_TP3 -->\n<g id=\"edge26\" class=\"edge\">\n<title>rv_decayLength_TP3&#45;&gt;rv_rTCRrMean_TP3</title>\n<path fill=\"none\" stroke=\"#000000\" d=\"M3527.1377,-77.0556C3510.8474,-75.0937 3494.0079,-73.2956 3478.1321,-72 3207.1543,-49.8864 2396.7366,-28.9111 2071.9608,-21.1559\"/>\n<polygon fill=\"#000000\" stroke=\"#000000\" points=\"2071.6344,-17.6472 2061.5539,-20.9079 2071.4676,-24.6452 2071.6344,-17.6472\"/>\n</g>\n<!-- rv_max_decayLength_rTCRrMean_TP3 -->\n<g id=\"node34\" class=\"node\">\n<title>rv_max_decayLength_rTCRrMean_TP3</title>\n<ellipse fill=\"none\" stroke=\"#000000\" cx=\"202.1321\" cy=\"-90\" rx=\"202.2642\" ry=\"18\"/>\n<text text-anchor=\"middle\" x=\"202.1321\" y=\"-86.3\" font-family=\"Times,serif\" font-size=\"14.00\" fill=\"#000000\">rv_max_decayLength_rTCRrMean_TP3 ~ Normal</text>\n</g>\n<!-- rv_max_decayLength_rTCRrMean_TP3&#45;&gt;rv_rTCRrMean_TP3 -->\n<g id=\"edge27\" class=\"edge\">\n<title>rv_max_decayLength_rTCRrMean_TP3&#45;&gt;rv_rTCRrMean_TP3</title>\n<path fill=\"none\" stroke=\"#000000\" d=\"M342.5148,-77.0447C366.0766,-75.1514 390.2874,-73.3788 413.1321,-72 923.3637,-41.2042 1530.9562,-26.1251 1797.8742,-20.5876\"/>\n<polygon fill=\"#000000\" stroke=\"#000000\" points=\"1798.0752,-24.0843 1808.0009,-20.3787 1797.9308,-17.0858 1798.0752,-24.0843\"/>\n</g>\n<!-- rv_maxDiff_lambdaALCK_LA2 -->\n<g id=\"node35\" class=\"node\">\n<title>rv_maxDiff_lambdaALCK_LA2</title>\n<ellipse fill=\"none\" stroke=\"#000000\" cx=\"6314.1321\" cy=\"-306\" rx=\"209.8628\" ry=\"18\"/>\n<text text-anchor=\"middle\" x=\"6314.1321\" y=\"-302.3\" font-family=\"Times,serif\" font-size=\"14.00\" fill=\"#000000\">rv_maxDiff_lambdaALCK_LA2 ~ TruncatedNormal</text>\n</g>\n<!-- rv_maxDiff_lambdaALCK_LA2&#45;&gt;rv_lambdaALCK_LA2 -->\n<g id=\"edge13\" class=\"edge\">\n<title>rv_maxDiff_lambdaALCK_LA2&#45;&gt;rv_lambdaALCK_LA2</title>\n<path fill=\"none\" stroke=\"#000000\" d=\"M6167.5311,-293.0804C6143.3563,-291.2 6118.5506,-289.4223 6095.1321,-288 5648.0209,-260.8456 5118.1338,-244.4739 4867.4467,-237.676\"/>\n<polygon fill=\"#000000\" stroke=\"#000000\" points=\"4867.2749,-234.1702 4857.184,-237.3989 4867.0858,-241.1677 4867.2749,-234.1702\"/>\n</g>\n<!-- rv_noise_rTCRhMean_TP3 -->\n<g id=\"node36\" class=\"node\">\n<title>rv_noise_rTCRhMean_TP3</title>\n<ellipse fill=\"none\" stroke=\"#000000\" cx=\"6085.1321\" cy=\"-90\" rx=\"170.0701\" ry=\"18\"/>\n<text text-anchor=\"middle\" x=\"6085.1321\" y=\"-86.3\" font-family=\"Times,serif\" font-size=\"14.00\" fill=\"#000000\">rv_noise_rTCRhMean_TP3 ~ HalfNormal</text>\n</g>\n<!-- rv_noise_rTCRhMean_TP3&#45;&gt;rv_rTCRhMean_TP3 -->\n<g id=\"edge37\" class=\"edge\">\n<title>rv_noise_rTCRhMean_TP3&#45;&gt;rv_rTCRhMean_TP3</title>\n<path fill=\"none\" stroke=\"#000000\" d=\"M5966.3039,-77.0666C5946.2369,-75.1648 5925.6037,-73.3838 5906.1321,-72 5485.4285,-42.1016 4986.5748,-27.0369 4749.5289,-21.1119\"/>\n<polygon fill=\"#000000\" stroke=\"#000000\" points=\"4749.5613,-17.6117 4739.4775,-20.8622 4749.3875,-24.6096 4749.5613,-17.6117\"/>\n</g>\n<!-- rv_decayLength_C&#45;&gt;rv_decayLength_TP3 -->\n<g id=\"edge19\" class=\"edge\">\n<title>rv_decayLength_C&#45;&gt;rv_decayLength_TP3</title>\n<path fill=\"none\" stroke=\"#000000\" d=\"M3979.3628,-148.7102C3903.9613,-136.4553 3792.0467,-118.266 3712.8002,-105.3862\"/>\n<polygon fill=\"#000000\" stroke=\"#000000\" points=\"3713.2488,-101.9133 3702.8168,-103.7637 3712.1258,-108.8226 3713.2488,-101.9133\"/>\n</g>\n</g>\n</svg>\n"
          },
          "metadata": {
            "tags": []
          }
        }
      ]
    },
    {
      "cell_type": "code",
      "metadata": {
        "colab": {
          "base_uri": "https://localhost:8080/"
        },
        "id": "yWu-xShLHP58",
        "outputId": "1d6361a2-770c-4097-f71e-d7565d25f8d2"
      },
      "source": [
        "with metamodel:\n",
        "    trace_metamodel = pm.sample(2000, chains=4)"
      ],
      "execution_count": null,
      "outputs": [
        {
          "output_type": "stream",
          "text": [
            "Auto-assigning NUTS sampler...\n",
            "Initializing NUTS using jitter+adapt_diag...\n",
            "Sequential sampling (4 chains in 1 job)\n",
            "NUTS: [rv_logSlope_depletion_rTCRhMean_TP3, rv_intercept_depletion_rTCRhMean_TP3, rv_scale_decayLength_rTCRhMean_TP3, rv_mu_decayLength_rTCRhMean_TP3, rv_sigma_decayLength_rTCRhMean_TP3, rv_noise_rTCRhMean_TP3, rv_logSlope_depletion_rTCRrMean_TP3, rv_intercept_depletion_rTCRrMean_TP3, rv_max_decayLength_rTCRrMean_TP3, rv_min_decayLength_rTCRrMean_TP3, rv_devisor_decayLength_rTCRrMean_TP3, rv_center_decayLength_rTCRrMean_TP3, rv_noise_rTCRrMean_TP3, rv_depletion_TP3, rv_decayLength_TP3, rv_depletion_C, rv_decayLength_C, rv_dep_C, rv_lambdaALCK_LA2, rv_devisor_logPoff_lambdaALCK_LA2, rv_center_logPoff_lambdaALCK_LA2, rv_maxPoff_lambdaALCK_LA2, rv_devisor_logDiff_lambdaALCK_LA2, rv_center_logDiff_lambdaALCK_LA2, rv_maxDiff_lambdaALCK_LA2, rv_noise_lambdaALCK_LA2, param_logPoff_LA2, param_logDiff_LA2, rv_dep_KS1, rv_noise_dep_KS1, rv_intercept_dep_KS1, rv_slope_k_dep_KS1, rv_slope_t_dep_KS1, param_k_KS1, param_t_KS1]\n",
            "Sampling chain 0, 716 divergences: 100%|██████████| 2500/2500 [01:11<00:00, 35.21it/s]\n",
            "Sampling chain 1, 179 divergences: 100%|██████████| 2500/2500 [01:57<00:00, 21.24it/s]\n",
            "Sampling chain 2, 140 divergences: 100%|██████████| 2500/2500 [02:36<00:00, 16.02it/s]\n",
            "Sampling chain 3, 159 divergences: 100%|██████████| 2500/2500 [02:28<00:00, 16.80it/s]\n",
            "There were 716 divergences after tuning. Increase `target_accept` or reparameterize.\n",
            "The acceptance probability does not match the target. It is 0.5692030705046848, but should be close to 0.8. Try to increase the number of tuning steps.\n",
            "There were 895 divergences after tuning. Increase `target_accept` or reparameterize.\n",
            "The acceptance probability does not match the target. It is 0.7165288362708927, but should be close to 0.8. Try to increase the number of tuning steps.\n",
            "There were 1036 divergences after tuning. Increase `target_accept` or reparameterize.\n",
            "There were 1195 divergences after tuning. Increase `target_accept` or reparameterize.\n",
            "The rhat statistic is larger than 1.4 for some parameters. The sampler did not converge.\n",
            "The estimated number of effective samples is smaller than 200 for some parameters.\n"
          ],
          "name": "stderr"
        }
      ]
    },
    {
      "cell_type": "code",
      "metadata": {
        "id": "rfzub7xjzEKo"
      },
      "source": [
        "# vars(metamodel)"
      ],
      "execution_count": null,
      "outputs": []
    },
    {
      "cell_type": "code",
      "metadata": {
        "id": "SmraHVy3zrv-",
        "colab": {
          "base_uri": "https://localhost:8080/",
          "height": 166
        },
        "outputId": "b7782f89-c085-4e2d-f4d4-e260dff0243c"
      },
      "source": [
        "pm.summary(trace_metamodel, ['param_t_KS1','param_k_KS1','param_logPoff_LA2','param_logDiff_LA2'])\n"
      ],
      "execution_count": null,
      "outputs": [
        {
          "output_type": "execute_result",
          "data": {
            "text/html": [
              "<div>\n",
              "<style scoped>\n",
              "    .dataframe tbody tr th:only-of-type {\n",
              "        vertical-align: middle;\n",
              "    }\n",
              "\n",
              "    .dataframe tbody tr th {\n",
              "        vertical-align: top;\n",
              "    }\n",
              "\n",
              "    .dataframe thead th {\n",
              "        text-align: right;\n",
              "    }\n",
              "</style>\n",
              "<table border=\"1\" class=\"dataframe\">\n",
              "  <thead>\n",
              "    <tr style=\"text-align: right;\">\n",
              "      <th></th>\n",
              "      <th>mean</th>\n",
              "      <th>sd</th>\n",
              "      <th>hpd_3%</th>\n",
              "      <th>hpd_97%</th>\n",
              "      <th>mcse_mean</th>\n",
              "      <th>mcse_sd</th>\n",
              "      <th>ess_mean</th>\n",
              "      <th>ess_sd</th>\n",
              "      <th>ess_bulk</th>\n",
              "      <th>ess_tail</th>\n",
              "      <th>r_hat</th>\n",
              "    </tr>\n",
              "  </thead>\n",
              "  <tbody>\n",
              "    <tr>\n",
              "      <th>param_t_KS1</th>\n",
              "      <td>44.611</td>\n",
              "      <td>30.193</td>\n",
              "      <td>0.006</td>\n",
              "      <td>93.381</td>\n",
              "      <td>4.053</td>\n",
              "      <td>3.199</td>\n",
              "      <td>56.0</td>\n",
              "      <td>45.0</td>\n",
              "      <td>68.0</td>\n",
              "      <td>147.0</td>\n",
              "      <td>1.05</td>\n",
              "    </tr>\n",
              "    <tr>\n",
              "      <th>param_k_KS1</th>\n",
              "      <td>44.959</td>\n",
              "      <td>27.910</td>\n",
              "      <td>0.247</td>\n",
              "      <td>91.831</td>\n",
              "      <td>0.520</td>\n",
              "      <td>0.453</td>\n",
              "      <td>2879.0</td>\n",
              "      <td>1895.0</td>\n",
              "      <td>3660.0</td>\n",
              "      <td>3901.0</td>\n",
              "      <td>1.01</td>\n",
              "    </tr>\n",
              "    <tr>\n",
              "      <th>param_logPoff_LA2</th>\n",
              "      <td>-2.904</td>\n",
              "      <td>1.260</td>\n",
              "      <td>-4.998</td>\n",
              "      <td>-0.762</td>\n",
              "      <td>0.024</td>\n",
              "      <td>0.017</td>\n",
              "      <td>2663.0</td>\n",
              "      <td>2663.0</td>\n",
              "      <td>2859.0</td>\n",
              "      <td>3136.0</td>\n",
              "      <td>1.02</td>\n",
              "    </tr>\n",
              "    <tr>\n",
              "      <th>param_logDiff_LA2</th>\n",
              "      <td>-1.446</td>\n",
              "      <td>0.853</td>\n",
              "      <td>-2.780</td>\n",
              "      <td>-0.015</td>\n",
              "      <td>0.041</td>\n",
              "      <td>0.029</td>\n",
              "      <td>438.0</td>\n",
              "      <td>438.0</td>\n",
              "      <td>875.0</td>\n",
              "      <td>4103.0</td>\n",
              "      <td>1.01</td>\n",
              "    </tr>\n",
              "  </tbody>\n",
              "</table>\n",
              "</div>"
            ],
            "text/plain": [
              "                     mean      sd  hpd_3%  ...  ess_bulk  ess_tail  r_hat\n",
              "param_t_KS1        44.611  30.193   0.006  ...      68.0     147.0   1.05\n",
              "param_k_KS1        44.959  27.910   0.247  ...    3660.0    3901.0   1.01\n",
              "param_logPoff_LA2  -2.904   1.260  -4.998  ...    2859.0    3136.0   1.02\n",
              "param_logDiff_LA2  -1.446   0.853  -2.780  ...     875.0    4103.0   1.01\n",
              "\n",
              "[4 rows x 11 columns]"
            ]
          },
          "metadata": {
            "tags": []
          },
          "execution_count": 92
        }
      ]
    },
    {
      "cell_type": "code",
      "metadata": {
        "colab": {
          "base_uri": "https://localhost:8080/",
          "height": 528
        },
        "id": "0rHvtNttvNvD",
        "outputId": "bd29a9da-4dc6-4d75-fda1-f0d53c658878"
      },
      "source": [
        "df_trace_metamodel = pm.trace_to_dataframe(trace_metamodel)\n",
        "df_trace_metamodel\n",
        "sns.jointplot(df_trace_metamodel.loc[:,'param_t_KS1'], \n",
        "              df_trace_metamodel.loc[:,'param_k_KS1'], \n",
        "              kind='kde', xlim=(0, 100), ylim=(0, 100), n_levels=10,\n",
        "              shade=True, cmap='Purples', shade_lowest=False);\n"
      ],
      "execution_count": null,
      "outputs": [
        {
          "output_type": "stream",
          "text": [
            "/usr/local/lib/python3.7/dist-packages/seaborn/_decorators.py:43: FutureWarning: Pass the following variables as keyword args: x, y. From version 0.12, the only valid positional argument will be `data`, and passing other arguments without an explicit keyword will result in an error or misinterpretation.\n",
            "  FutureWarning\n",
            "/usr/local/lib/python3.7/dist-packages/seaborn/distributions.py:1676: UserWarning: `shade_lowest` is now deprecated in favor of `thresh`. Setting `thresh=0.05`, but please update your code.\n",
            "  warnings.warn(msg, UserWarning)\n"
          ],
          "name": "stderr"
        },
        {
          "output_type": "display_data",
          "data": {
            "image/png": "[encoded data removed]",
            "text/plain": [
              "<Figure size 432x432 with 3 Axes>"
            ]
          },
          "metadata": {
            "tags": [],
            "needs_background": "light"
          }
        }
      ]
    },
    {
      "cell_type": "code",
      "metadata": {
        "colab": {
          "base_uri": "https://localhost:8080/"
        },
        "id": "Hdq3pcc54Cpw",
        "outputId": "3c206b91-40fb-4ede-f433-e55ef5f0c058"
      },
      "source": [
        "if False:\n",
        "    plt.savefig('kde_model1.png')\n",
        "\n",
        "!ls"
      ],
      "execution_count": null,
      "outputs": [
        {
          "output_type": "stream",
          "text": [
            "kde_model1.png\ttrace1_summary\ttrace3_summary\n",
            "sample_data\ttrace2_summary\ttrace_metamodel_summary\n"
          ],
          "name": "stdout"
        }
      ]
    },
    {
      "cell_type": "code",
      "metadata": {
        "colab": {
          "base_uri": "https://localhost:8080/",
          "height": 528
        },
        "id": "lDOlUWtmvpWn",
        "outputId": "d8d7121e-735f-4620-8e2c-4fde2f79b578"
      },
      "source": [
        "df_trace_metamodel = pm.trace_to_dataframe(trace_metamodel)\n",
        "df_trace_metamodel\n",
        "sns.jointplot(df_trace_metamodel.loc[:,'param_logPoff_LA2'], \n",
        "              df_trace_metamodel.loc[:,'param_logDiff_LA2'],\n",
        "              kind='kde', xlim=(-5, 0), ylim=(-3, 0), n_levels=10,\n",
        "              shade=True, cmap='Oranges', shade_lowest=False);"
      ],
      "execution_count": null,
      "outputs": [
        {
          "output_type": "stream",
          "text": [
            "/usr/local/lib/python3.7/dist-packages/seaborn/_decorators.py:43: FutureWarning: Pass the following variables as keyword args: x, y. From version 0.12, the only valid positional argument will be `data`, and passing other arguments without an explicit keyword will result in an error or misinterpretation.\n",
            "  FutureWarning\n",
            "/usr/local/lib/python3.7/dist-packages/seaborn/distributions.py:1676: UserWarning: `shade_lowest` is now deprecated in favor of `thresh`. Setting `thresh=0.05`, but please update your code.\n",
            "  warnings.warn(msg, UserWarning)\n"
          ],
          "name": "stderr"
        },
        {
          "output_type": "display_data",
          "data": {
            "image/png": "[encoded data removed]",
            "text/plain": [
              "<Figure size 432x432 with 3 Axes>"
            ]
          },
          "metadata": {
            "tags": [],
            "needs_background": "light"
          }
        }
      ]
    },
    {
      "cell_type": "code",
      "metadata": {
        "id": "wSTg_lyoN31R"
      },
      "source": [
        "# metamodel = get_metamodel(depletion_array, decayLength_array, \n",
        "#                               rTCRrMean_array, rTCRhMean_array)\n",
        "# gv_metamodel = pm.model_to_graphviz(metamodel)\n",
        "# display(gv_metamodel)"
      ],
      "execution_count": null,
      "outputs": []
    },
    {
      "cell_type": "code",
      "metadata": {
        "id": "EsWcTFuKLJcx"
      },
      "source": [
        "# chain_prop = {\"linewidth\": (.5, 1, 2, 3)}\n",
        "# az.plot_trace(\n",
        "#     idata, var_names=[\"home\", \"defs\"], combined=True, chain_prop=chain_prop, compact=False, legend=True\n",
        "# );\n",
        "\n",
        "# import arviz as az\n",
        "\n",
        "# az.style.use(\"arviz-darkgrid\")\n",
        "\n",
        "\n",
        "# with model:\n",
        "#     pm.plot_posterior(trace, credible_interval=0.99)\n",
        "\n",
        "# trace_fig = az.plot_trace(trace_g, var_names=[ 'τ', 'ϵ'],\n",
        "# figsize=(12, 8));\n",
        "\n",
        "# dftrace = pm.trace_to_dataframe(trace)\n",
        "# sns.jointplot(dftrace.iloc[:, 0], dftrace.iloc[:, 1], kind='kde')"
      ],
      "execution_count": null,
      "outputs": []
    },
    {
      "cell_type": "code",
      "metadata": {
        "id": "TyCuh6Nx1VKH"
      },
      "source": [
        "        # if False: # direction == 'B':\n",
        "        #     rv_decayLength_TP3 = pm.Uniform('rv_decayLength_TP3',\n",
        "        #                                     0, 200, observed = observed_decayLength_TP3)\n",
        "        #     rv_depletion_TP3 = pm.Uniform('rv_depletion_TP3', \n",
        "        #                                   0, 200, observed = observed_depletion_TP3) \n",
        "\n"
      ],
      "execution_count": null,
      "outputs": []
    },
    {
      "cell_type": "markdown",
      "metadata": {
        "id": "isU9U17SQPVn"
      },
      "source": [
        "#### Helps:\n",
        "https://medium.com/@morganjonesartist/color-guide-to-seaborn-palettes-da849406d44f\n",
        "\n"
      ]
    },
    {
      "cell_type": "code",
      "metadata": {
        "id": "weZPlZ0zQRds"
      },
      "source": [
        ""
      ],
      "execution_count": null,
      "outputs": []
    }
  ]
}