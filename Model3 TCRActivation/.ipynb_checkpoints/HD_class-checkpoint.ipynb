{
 "cells": [
  {
   "cell_type": "code",
   "execution_count": 1,
   "metadata": {},
   "outputs": [],
   "source": [
    "import numpy as np\n",
    "import pymc3 as pm\n",
    "import matplotlib.pyplot as plt\n",
    "import pandas as pd\n",
    "import json\n",
    "from IPython.display import display, Math, Latex"
   ]
  },
  {
   "cell_type": "code",
   "execution_count": null,
   "metadata": {},
   "outputs": [],
   "source": [
    "# #@title class model\n",
    "# # model structure:\n",
    "# class model():\n",
    "#     def __init__(self):\n",
    "#         self.shortName = self.shortName() # text\n",
    "#         self.longName = self.longName() # text\n",
    "#         self.index = self.index() # integer\n",
    "#         self.description = self.description() # text\n",
    "#         self.D = self.D() # dataFrame\n",
    "#         self.H = self.H() # equations/functions/distributions\n",
    "        \n",
    "#     class D:\n",
    "#         def __init__(self):\n",
    "#             self.data = self.data()\n",
    "            \n",
    "#     class H:\n",
    "#         def __init__(self):\n",
    "#             self.distribution = self.distribution()"
   ]
  },
  {
   "cell_type": "code",
   "execution_count": 19,
   "metadata": {},
   "outputs": [],
   "source": [
    "# model structure:\n",
    "class model:\n",
    "    def __init__(self,shortName):\n",
    "        self.shortName = self.shortName() # text\n",
    "        self.longName = self.longName() # text\n",
    "        self.index = self.index() # integer\n",
    "        self.description() # text\n",
    "        self.D = self.D() # dataFrame\n",
    "        self.H = self.H() # equations/functions/distributions\n",
    "        \n",
    "    class D:\n",
    "        def __init__(self):\n",
    "            self.data = self.data()\n",
    "            \n",
    "    class H:\n",
    "        def __init__(self):\n",
    "            self.distribution = self.distribution()"
   ]
  },
  {
   "cell_type": "code",
   "execution_count": 303,
   "metadata": {},
   "outputs": [
    {
     "ename": "TypeError",
     "evalue": "__init__() missing 1 required positional argument: 'T'",
     "output_type": "error",
     "traceback": [
      "\u001b[1;31m---------------------------------------------------------------------------\u001b[0m",
      "\u001b[1;31mTypeError\u001b[0m                                 Traceback (most recent call last)",
      "\u001b[1;32m<ipython-input-303-ebf54cb28ce7>\u001b[0m in \u001b[0;36m<module>\u001b[1;34m\u001b[0m\n\u001b[1;32m----> 1\u001b[1;33m model1 = model(shortName = 'KS',\n\u001b[0m\u001b[0;32m      2\u001b[0m                \u001b[0mlongName\u001b[0m \u001b[1;33m=\u001b[0m \u001b[1;34m'Kinetic segregation'\u001b[0m\u001b[1;33m,\u001b[0m\u001b[1;33m\u001b[0m\u001b[1;33m\u001b[0m\u001b[0m\n\u001b[0;32m      3\u001b[0m                \u001b[0mdescription\u001b[0m \u001b[1;33m=\u001b[0m \u001b[0mmodel1_description\u001b[0m\u001b[1;33m,\u001b[0m\u001b[1;33m\u001b[0m\u001b[1;33m\u001b[0m\u001b[0m\n\u001b[0;32m      4\u001b[0m                \u001b[0mindex\u001b[0m \u001b[1;33m=\u001b[0m \u001b[1;36m1\u001b[0m\u001b[1;33m,\u001b[0m\u001b[1;33m\u001b[0m\u001b[1;33m\u001b[0m\u001b[0m\n\u001b[0;32m      5\u001b[0m                \u001b[0mD\u001b[0m \u001b[1;33m=\u001b[0m \u001b[1;33m[\u001b[0m\u001b[1;33m]\u001b[0m\u001b[1;33m,\u001b[0m\u001b[1;33m\u001b[0m\u001b[1;33m\u001b[0m\u001b[0m\n",
      "\u001b[1;31mTypeError\u001b[0m: __init__() missing 1 required positional argument: 'T'"
     ]
    }
   ],
   "source": [
    "model1 = model(shortName = 'KS',\n",
    "               longName = 'Kinetic segregation',\n",
    "               description = model1_description,\n",
    "               index = 1,\n",
    "               D = [],\n",
    "               H = [])\n",
    "\n",
    "model2 = model(shortName = 'LA',\n",
    "               longName = 'Lck activation',\n",
    "               description = \"\"\"model2_description\"\"\",\n",
    "               index = 2,\n",
    "               D = [],\n",
    "               H = [])\n",
    "\n",
    "model3 = model(shortName = 'TP',\n",
    "               longName = 'TCR phosphorylation',\n",
    "               description = \"\"\"model3_description\"\"\",\n",
    "               index = 3,\n",
    "               D = [],\n",
    "               H = [])\n",
    "\n",
    "# print(model1.shortName)\n",
    "# print(model1.longName)\n",
    "# print(model1.description)\n",
    "# print(model1.index)\n",
    "# print(model1.D)\n",
    "# print(model1.H)\n",
    "\n",
    "# print(model2.shortName)\n",
    "# print(model2.longName)\n",
    "# print(model2.description)\n",
    "# print(model2.index)\n",
    "# print(model2.D)\n",
    "# print(model2.H)\n",
    "\n",
    "# print(model3.shortName)\n",
    "# print(model3.longName)\n",
    "# print(model3.description)\n",
    "# print(model3.index)\n",
    "# print(model3.D)\n",
    "# print(model3.H)"
   ]
  },
  {
   "cell_type": "code",
   "execution_count": 59,
   "metadata": {},
   "outputs": [
    {
     "data": {
      "text/plain": [
       "'Distributions and inter distances of TCR and CD45 molecules\\nthat result from the early contact of a T cell and APC (Antigen Presenting Cell).'"
      ]
     },
     "execution_count": 59,
     "metadata": {},
     "output_type": "execute_result"
    }
   ],
   "source": [
    "model1j = {\"longName\" : \"Kinetic segregation\",\n",
    "           \"shortNane\" : \"KS\",\n",
    "           \"Description\" : model1_description,\n",
    "           \"index\" : 1,\n",
    "           \"D\" : \"\",\n",
    "           \"H\" : \"\"};\n",
    "\n",
    "model1j[\"Description\"]"
   ]
  },
  {
   "cell_type": "markdown",
   "metadata": {},
   "source": [
    "$$f(a) = \\lim_{x \\to a} \\frac{f(x) - f(a)}{x-a}$$"
   ]
  },
  {
   "cell_type": "code",
   "execution_count": 68,
   "metadata": {},
   "outputs": [
    {
     "ename": "TypeError",
     "evalue": "'Normal' object is not callable",
     "output_type": "error",
     "traceback": [
      "\u001b[1;31m---------------------------------------------------------------------------\u001b[0m",
      "\u001b[1;31mTypeError\u001b[0m                                 Traceback (most recent call last)",
      "\u001b[1;32m<ipython-input-68-ae51c23f74e7>\u001b[0m in \u001b[0;36m<module>\u001b[1;34m\u001b[0m\n\u001b[0;32m      1\u001b[0m \u001b[0my\u001b[0m \u001b[1;33m=\u001b[0m \u001b[0mpm\u001b[0m\u001b[1;33m.\u001b[0m\u001b[0mNormal\u001b[0m\u001b[1;33m.\u001b[0m\u001b[0mdist\u001b[0m\u001b[1;33m(\u001b[0m\u001b[0mmu\u001b[0m\u001b[1;33m=\u001b[0m\u001b[1;36m0\u001b[0m\u001b[1;33m,\u001b[0m \u001b[0msd\u001b[0m\u001b[1;33m=\u001b[0m\u001b[1;36m2\u001b[0m\u001b[1;33m)\u001b[0m\u001b[1;33m\u001b[0m\u001b[1;33m\u001b[0m\u001b[0m\n\u001b[1;32m----> 2\u001b[1;33m \u001b[0my\u001b[0m\u001b[1;33m(\u001b[0m\u001b[1;33m)\u001b[0m\u001b[1;33m\u001b[0m\u001b[1;33m\u001b[0m\u001b[0m\n\u001b[0m",
      "\u001b[1;31mTypeError\u001b[0m: 'Normal' object is not callable"
     ]
    }
   ],
   "source": [
    "y = pm.Normal.dist(mu=0, sd=2)\n"
   ]
  },
  {
   "cell_type": "code",
   "execution_count": 63,
   "metadata": {},
   "outputs": [
    {
     "data": {
      "text/plain": [
       "'name is 5'"
      ]
     },
     "execution_count": 63,
     "metadata": {},
     "output_type": "execute_result"
    }
   ],
   "source": [
    "'name is ' + str(eval(\"2 + 3\"))"
   ]
  },
  {
   "cell_type": "code",
   "execution_count": 7,
   "metadata": {},
   "outputs": [
    {
     "name": "stdout",
     "output_type": "stream",
     "text": [
      "LA\n",
      "Lck activation\n",
      "2\n"
     ]
    }
   ],
   "source": [
    "# model 2:\n",
    "model2 = model\n",
    "model2.shortName = 'LA'\n",
    "model2.longName = 'Lck activation'\n",
    "model2.description = \"\"\" \"\"\"\n",
    "model2.index = 2\n",
    "# model2.D = df_model2_TrainingData\n",
    "# model2.H = []\n",
    "\n",
    "print(model2.shortName)\n",
    "print(model2.longName)\n",
    "print(model2.index)"
   ]
  },
  {
   "cell_type": "code",
   "execution_count": 8,
   "metadata": {},
   "outputs": [
    {
     "name": "stdout",
     "output_type": "stream",
     "text": [
      "TP\n",
      "TCR phosphorylation\n",
      "3\n"
     ]
    }
   ],
   "source": [
    "# model 3:\n",
    "model3 = model\n",
    "model3.shortName = 'TP'\n",
    "model3.longName = 'TCR phosphorylation'\n",
    "model3.description = \"\"\" \"\"\"\n",
    "model3.index = 3\n",
    "# model3.D = df_model3_TrainingData\n",
    "# model3.H = []\n",
    "\n",
    "print(model3.shortName)\n",
    "print(model3.longName)\n",
    "print(model3.index)"
   ]
  },
  {
   "cell_type": "code",
   "execution_count": 105,
   "metadata": {},
   "outputs": [
    {
     "name": "stdout",
     "output_type": "stream",
     "text": [
      "TensorConstant{0.0}\n",
      "TensorConstant{2.0}\n"
     ]
    },
    {
     "data": {
      "text/plain": [
       "TensorConstant{0.0}"
      ]
     },
     "execution_count": 105,
     "metadata": {},
     "output_type": "execute_result"
    },
    {
     "data": {
      "image/png": "[encoded data removed]",
      "text/plain": [
       "<Figure size 432x288 with 1 Axes>"
      ]
     },
     "metadata": {
      "needs_background": "light"
     },
     "output_type": "display_data"
    }
   ],
   "source": [
    "# y = pm.Normal.dist(mu=0, sd=2)\n",
    "y = pm.TruncatedNormal.dist(mu=0.0, sd=2.0, lower=-1.0, upper=5.0)\n",
    "y2 = y.random(size=1000)\n",
    "# y.pdf\n",
    "# y.logp(4).eval()\n",
    "plt.plot(y2,'.');\n",
    "\n",
    "print(eval(\"y.mu\"))\n",
    "print(y.sigma)\n",
    "eval(\"y.mu\")"
   ]
  },
  {
   "cell_type": "markdown",
   "metadata": {},
   "source": [
    "$$f(x) = \\sqrt{\\frac{\\tau}{2\\pi}}\\exp\\left\\{ -\\frac{\\tau}{2} (x-\\mu)^2 \\right\\}$$"
   ]
  },
  {
   "cell_type": "markdown",
   "metadata": {},
   "source": [
    "$$f(x) = \\frac{1}{\\sigma\\sqrt{2\\pi}}\\exp\\left\\{ -\\frac{(x-\\mu)^2}{2\\sigma^2}  \\right\\}$$"
   ]
  },
  {
   "cell_type": "code",
   "execution_count": 193,
   "metadata": {},
   "outputs": [
    {
     "name": "stdout",
     "output_type": "stream",
     "text": [
      "The equasion is: \n"
     ]
    },
    {
     "data": {
      "text/latex": [
       "$\\displaystyle y=3x+5$"
      ],
      "text/plain": [
       "<IPython.core.display.Math object>"
      ]
     },
     "metadata": {},
     "output_type": "display_data"
    },
    {
     "data": {
      "text/latex": [
       "$\\displaystyle f(x)=\\frac{1}{\\sigma\\sqrt{2\\pi}}\\exp\\left\\{-\\frac{(x-\\mu)^2}{2\\sigma^2}\\right\\}$"
      ],
      "text/plain": [
       "<IPython.core.display.Math object>"
      ]
     },
     "metadata": {},
     "output_type": "display_data"
    },
    {
     "data": {
      "text/latex": [
       "$\\displaystyle Normal(\\mu, \\sigma)$"
      ],
      "text/plain": [
       "<IPython.core.display.Math object>"
      ]
     },
     "metadata": {},
     "output_type": "display_data"
    }
   ],
   "source": [
    "from IPython.display import display, Math, Latex\n",
    "a = 3\n",
    "b = 5\n",
    "\n",
    "print(\"The equasion is: \")\n",
    "display(Math(f'y={a}x+{b}'))\n",
    "display(Math('f(x)=\\\\frac{1}{\\sigma\\sqrt{2\\pi}}\\exp\\\\left\\{-\\\\frac{(x-\\mu)^2}{2\\sigma^2}\\\\right\\}'))\n",
    "display(Math('Normal(\\mu, \\sigma)'))"
   ]
  },
  {
   "cell_type": "code",
   "execution_count": 159,
   "metadata": {},
   "outputs": [],
   "source": [
    "# help(pm.Normal)"
   ]
  },
  {
   "cell_type": "code",
   "execution_count": 185,
   "metadata": {},
   "outputs": [
    {
     "data": {
      "text/latex": [
       "$\\displaystyle f(x)=\\frac{1}{\\sigma\\sqrt{2\\pi}}\\exp\\left\\{-\\frac{(x-\\mu)^2}{2\\sigma^2}\\right\\}$"
      ],
      "text/plain": [
       "<IPython.core.display.Math object>"
      ]
     },
     "metadata": {},
     "output_type": "display_data"
    }
   ],
   "source": [
    "equation1 = display(Math('f(x)=\\\\frac{1}{\\sigma\\sqrt{2\\pi}}\\exp\\\\left\\{-\\\\frac{(x-\\mu)^2}{2\\sigma^2}\\\\right\\}'))"
   ]
  },
  {
   "cell_type": "code",
   "execution_count": null,
   "metadata": {},
   "outputs": [],
   "source": [
    "equation2 = display(Math('f(x)=\\\\frac{1}{\\sigma\\sqrt{2\\pi}}\\e^\\\\left\\{-\\\\frac{(x-\\mu)^2}{2\\sigma^2}\\\\right\\}'))"
   ]
  },
  {
   "cell_type": "code",
   "execution_count": 188,
   "metadata": {},
   "outputs": [
    {
     "ename": "TypeError",
     "evalue": "'rv' object is not iterable",
     "output_type": "error",
     "traceback": [
      "\u001b[1;31m---------------------------------------------------------------------------\u001b[0m",
      "\u001b[1;31mTypeError\u001b[0m                                 Traceback (most recent call last)",
      "\u001b[1;32m<ipython-input-188-fbe3f96057b5>\u001b[0m in \u001b[0;36m<module>\u001b[1;34m\u001b[0m\n\u001b[0;32m      1\u001b[0m \u001b[1;32mfrom\u001b[0m \u001b[0msympy\u001b[0m \u001b[1;32mimport\u001b[0m \u001b[0mlatex\u001b[0m\u001b[1;33m\u001b[0m\u001b[1;33m\u001b[0m\u001b[0m\n\u001b[1;32m----> 2\u001b[1;33m \u001b[0mtl\u001b[0m \u001b[1;33m=\u001b[0m \u001b[0mmap\u001b[0m\u001b[1;33m(\u001b[0m\u001b[1;32mlambda\u001b[0m \u001b[0mtc\u001b[0m\u001b[1;33m:\u001b[0m \u001b[1;34m'$'\u001b[0m\u001b[1;33m+\u001b[0m\u001b[0mlatex\u001b[0m\u001b[1;33m(\u001b[0m\u001b[0mtc\u001b[0m\u001b[1;33m)\u001b[0m\u001b[1;33m+\u001b[0m\u001b[1;34m'$'\u001b[0m\u001b[1;33m,\u001b[0m\u001b[0mt\u001b[0m\u001b[1;33m)\u001b[0m\u001b[1;33m\u001b[0m\u001b[1;33m\u001b[0m\u001b[0m\n\u001b[0m\u001b[0;32m      3\u001b[0m \u001b[0mdf\u001b[0m \u001b[1;33m=\u001b[0m \u001b[0mDataFrame\u001b[0m\u001b[1;33m(\u001b[0m\u001b[0mtl\u001b[0m\u001b[1;33m,\u001b[0m \u001b[0mindex\u001b[0m\u001b[1;33m=\u001b[0m\u001b[1;33m[\u001b[0m\u001b[1;34m'Situation 1'\u001b[0m\u001b[1;33m,\u001b[0m \u001b[1;34m'Situation 2'\u001b[0m\u001b[1;33m]\u001b[0m\u001b[1;33m,\u001b[0m \u001b[0mcolumns\u001b[0m\u001b[1;33m=\u001b[0m\u001b[1;33m[\u001b[0m\u001b[1;34m'Answer'\u001b[0m\u001b[1;33m]\u001b[0m\u001b[1;33m)\u001b[0m\u001b[1;33m\u001b[0m\u001b[1;33m\u001b[0m\u001b[0m\n\u001b[0;32m      4\u001b[0m \u001b[0mdf\u001b[0m\u001b[1;33m\u001b[0m\u001b[1;33m\u001b[0m\u001b[0m\n",
      "\u001b[1;31mTypeError\u001b[0m: 'rv' object is not iterable"
     ]
    }
   ],
   "source": [
    "from sympy import latex\n",
    "tl = map(lambda tc: '$'+latex(tc)+'$',t)\n",
    "df = DataFrame(tl, index=['Situation 1', 'Situation 2'], columns=['Answer'])\n",
    "df"
   ]
  },
  {
   "cell_type": "code",
   "execution_count": 204,
   "metadata": {},
   "outputs": [
    {
     "data": {
      "text/latex": [
       "$\\displaystyle Normal(\\mu, \\sigma)$"
      ],
      "text/plain": [
       "<IPython.core.display.Math object>"
      ]
     },
     "metadata": {},
     "output_type": "display_data"
    },
    {
     "data": {
      "text/html": [
       "<div>\n",
       "<style scoped>\n",
       "    .dataframe tbody tr th:only-of-type {\n",
       "        vertical-align: middle;\n",
       "    }\n",
       "\n",
       "    .dataframe tbody tr th {\n",
       "        vertical-align: top;\n",
       "    }\n",
       "\n",
       "    .dataframe thead th {\n",
       "        text-align: right;\n",
       "    }\n",
       "</style>\n",
       "<table border=\"1\" class=\"dataframe\">\n",
       "  <thead>\n",
       "    <tr style=\"text-align: right;\">\n",
       "      <th></th>\n",
       "      <th>First Name</th>\n",
       "      <th>Last Name</th>\n",
       "      <th>Age</th>\n",
       "    </tr>\n",
       "  </thead>\n",
       "  <tbody>\n",
       "    <tr>\n",
       "      <th>0</th>\n",
       "      <td>John</td>\n",
       "      <td>Smith</td>\n",
       "      <td>39</td>\n",
       "    </tr>\n",
       "    <tr>\n",
       "      <th>1</th>\n",
       "      <td>$$Normal(\\mu,\\sigma)$$</td>\n",
       "      <td>$\\lambda$</td>\n",
       "      <td>25</td>\n",
       "    </tr>\n",
       "    <tr>\n",
       "      <th>2</th>\n",
       "      <td>Jennifer</td>\n",
       "      <td>$$e^{i\\pi} + 1 = 0$$</td>\n",
       "      <td>28</td>\n",
       "    </tr>\n",
       "  </tbody>\n",
       "</table>\n",
       "</div>"
      ],
      "text/plain": [
       "               First Name             Last Name  Age\n",
       "0                    John                 Smith   39\n",
       "1  $$Normal(\\mu,\\sigma)$$             $\\lambda$   25\n",
       "2                Jennifer  $$e^{i\\pi} + 1 = 0$$   28"
      ]
     },
     "execution_count": 204,
     "metadata": {},
     "output_type": "execute_result"
    }
   ],
   "source": [
    "# equation1 = eval(\"$$\\sqrt{\\frac{\\tau}{2\\pi}}\\exp\\left\\{ -\\frac{\\tau}{2} (x-\\mu)^2 \\right\\}$$\")\n",
    "equation1 = display(Math('Normal(\\mu, \\sigma)'))\n",
    "def pandas_table():\n",
    "    info = {'First Name': ['John', '$$Normal(\\mu,\\sigma)$$', 'Jennifer'], \n",
    "            'Last Name': ['Smith', '$\\lambda$', '$$e^{i\\pi} + 1 = 0$$'], \n",
    "            'Age': [39, 25, 28]}\n",
    "\n",
    "    table = pd.DataFrame(info)\n",
    "    return table\n",
    "\n",
    "pandas_table()\n"
   ]
  },
  {
   "cell_type": "code",
   "execution_count": null,
   "metadata": {},
   "outputs": [],
   "source": []
  },
  {
   "cell_type": "markdown",
   "metadata": {},
   "source": [
    "\\begin{equation}\n",
    "f(x\\mid\\mu,\\sigma) = \\frac{1}{\\sigma\\sqrt{2\\pi}}\\exp\\left\\{-\\frac{(x-\\mu)^2}{2\\sigma^2}\\right\\}\n",
    "\\end{equation}"
   ]
  },
  {
   "cell_type": "markdown",
   "metadata": {},
   "source": [
    "\\begin{equation}\n",
    "e^x=\\sum_{i=0}^\\infty\\frac{1}{i!}x^i\n",
    "\\end{equation}"
   ]
  },
  {
   "cell_type": "code",
   "execution_count": 191,
   "metadata": {},
   "outputs": [
    {
     "ename": "TypeError",
     "evalue": "__new__() missing 1 required positional argument: 'name'",
     "output_type": "error",
     "traceback": [
      "\u001b[1;31m---------------------------------------------------------------------------\u001b[0m",
      "\u001b[1;31mTypeError\u001b[0m                                 Traceback (most recent call last)",
      "\u001b[1;32m<ipython-input-191-bd0af564d71d>\u001b[0m in \u001b[0;36m<module>\u001b[1;34m\u001b[0m\n\u001b[0;32m      1\u001b[0m \u001b[0mpm\u001b[0m\u001b[1;33m.\u001b[0m\u001b[0mdistributions\u001b[0m\u001b[1;33m.\u001b[0m\u001b[0mcontinuous\u001b[0m\u001b[1;33m.\u001b[0m\u001b[0mTruncatedNormal\u001b[0m \u001b[1;31m#.pdf\u001b[0m\u001b[1;33m\u001b[0m\u001b[1;33m\u001b[0m\u001b[0m\n\u001b[1;32m----> 2\u001b[1;33m \u001b[0mpm\u001b[0m\u001b[1;33m.\u001b[0m\u001b[0mdistributions\u001b[0m\u001b[1;33m.\u001b[0m\u001b[0mcontinuous\u001b[0m\u001b[1;33m.\u001b[0m\u001b[0mNormal\u001b[0m\u001b[1;33m(\u001b[0m\u001b[0mmu\u001b[0m\u001b[1;33m=\u001b[0m\u001b[1;36m0.\u001b[0m\u001b[1;33m,\u001b[0m \u001b[0msigma\u001b[0m\u001b[1;33m=\u001b[0m\u001b[1;36m1.\u001b[0m\u001b[1;33m)\u001b[0m\u001b[1;33m\u001b[0m\u001b[1;33m\u001b[0m\u001b[0m\n\u001b[0m",
      "\u001b[1;31mTypeError\u001b[0m: __new__() missing 1 required positional argument: 'name'"
     ]
    }
   ],
   "source": [
    "pm.distributions.continuous.TruncatedNormal #.pdf\n",
    "pm.Normal(mu=0., sigma=1.)"
   ]
  },
  {
   "cell_type": "code",
   "execution_count": 123,
   "metadata": {},
   "outputs": [],
   "source": [
    "# plt.table(cellText=None,\n",
    "#         cellColours=None,\n",
    "#         cellLoc='right',\n",
    "#         colWidths=None,\n",
    "#         rowLabels=None,\n",
    "#         rowColours=None,\n",
    "#         rowLoc='left',\n",
    "#         colLabels=None,\n",
    "#         colColours=None,\n",
    "#         colLoc='center',\n",
    "#         loc='bottom',\n",
    "#         bbox=None,\n",
    "#         edges='closed')#,\n",
    "#         **kwargs)"
   ]
  },
  {
   "cell_type": "code",
   "execution_count": 134,
   "metadata": {},
   "outputs": [
    {
     "ename": "IndexError",
     "evalue": "list index out of range",
     "output_type": "error",
     "traceback": [
      "\u001b[1;31m---------------------------------------------------------------------------\u001b[0m",
      "\u001b[1;31mIndexError\u001b[0m                                Traceback (most recent call last)",
      "\u001b[1;32m<ipython-input-134-36e66fab70d7>\u001b[0m in \u001b[0;36m<module>\u001b[1;34m\u001b[0m\n\u001b[0;32m      8\u001b[0m \u001b[0mcols_widths\u001b[0m \u001b[1;33m=\u001b[0m \u001b[1;33m[\u001b[0m\u001b[1;36m0.15\u001b[0m\u001b[1;33m,\u001b[0m \u001b[1;36m0.15\u001b[0m\u001b[1;33m,\u001b[0m \u001b[1;36m0.15\u001b[0m\u001b[1;33m,\u001b[0m \u001b[1;36m0.35\u001b[0m\u001b[1;33m,\u001b[0m \u001b[1;36m0.2\u001b[0m\u001b[1;33m,\u001b[0m \u001b[1;36m0.1\u001b[0m\u001b[1;33m]\u001b[0m\u001b[1;33m\u001b[0m\u001b[1;33m\u001b[0m\u001b[0m\n\u001b[0;32m      9\u001b[0m \u001b[0mcell_text\u001b[0m \u001b[1;33m=\u001b[0m \u001b[1;33m[\u001b[0m\u001b[1;33m]\u001b[0m\u001b[1;33m\u001b[0m\u001b[1;33m\u001b[0m\u001b[0m\n\u001b[1;32m---> 10\u001b[1;33m table1 = plt.table(cellText=cell_text,\n\u001b[0m\u001b[0;32m     11\u001b[0m                       \u001b[1;31m#rowLabels=row_headers, # rowLabels=row_headers, #\u001b[0m\u001b[1;33m\u001b[0m\u001b[1;33m\u001b[0m\u001b[1;33m\u001b[0m\u001b[0m\n\u001b[0;32m     12\u001b[0m                       \u001b[1;31m#rowLoc='center', # colColours=ccolors,\u001b[0m\u001b[1;33m\u001b[0m\u001b[1;33m\u001b[0m\u001b[1;33m\u001b[0m\u001b[0m\n",
      "\u001b[1;32m~\\anaconda3\\lib\\site-packages\\matplotlib\\pyplot.py\u001b[0m in \u001b[0;36mtable\u001b[1;34m(cellText, cellColours, cellLoc, colWidths, rowLabels, rowColours, rowLoc, colLabels, colColours, colLoc, loc, bbox, edges, **kwargs)\u001b[0m\n\u001b[0;32m   2996\u001b[0m         \u001b[0mcolLoc\u001b[0m\u001b[1;33m=\u001b[0m\u001b[1;34m'center'\u001b[0m\u001b[1;33m,\u001b[0m \u001b[0mloc\u001b[0m\u001b[1;33m=\u001b[0m\u001b[1;34m'bottom'\u001b[0m\u001b[1;33m,\u001b[0m \u001b[0mbbox\u001b[0m\u001b[1;33m=\u001b[0m\u001b[1;32mNone\u001b[0m\u001b[1;33m,\u001b[0m \u001b[0medges\u001b[0m\u001b[1;33m=\u001b[0m\u001b[1;34m'closed'\u001b[0m\u001b[1;33m,\u001b[0m\u001b[1;33m\u001b[0m\u001b[1;33m\u001b[0m\u001b[0m\n\u001b[0;32m   2997\u001b[0m         **kwargs):\n\u001b[1;32m-> 2998\u001b[1;33m     return gca().table(\n\u001b[0m\u001b[0;32m   2999\u001b[0m         \u001b[0mcellText\u001b[0m\u001b[1;33m=\u001b[0m\u001b[0mcellText\u001b[0m\u001b[1;33m,\u001b[0m \u001b[0mcellColours\u001b[0m\u001b[1;33m=\u001b[0m\u001b[0mcellColours\u001b[0m\u001b[1;33m,\u001b[0m \u001b[0mcellLoc\u001b[0m\u001b[1;33m=\u001b[0m\u001b[0mcellLoc\u001b[0m\u001b[1;33m,\u001b[0m\u001b[1;33m\u001b[0m\u001b[1;33m\u001b[0m\u001b[0m\n\u001b[0;32m   3000\u001b[0m         \u001b[0mcolWidths\u001b[0m\u001b[1;33m=\u001b[0m\u001b[0mcolWidths\u001b[0m\u001b[1;33m,\u001b[0m \u001b[0mrowLabels\u001b[0m\u001b[1;33m=\u001b[0m\u001b[0mrowLabels\u001b[0m\u001b[1;33m,\u001b[0m\u001b[1;33m\u001b[0m\u001b[1;33m\u001b[0m\u001b[0m\n",
      "\u001b[1;32m~\\anaconda3\\lib\\site-packages\\matplotlib\\table.py\u001b[0m in \u001b[0;36mtable\u001b[1;34m(ax, cellText, cellColours, cellLoc, colWidths, rowLabels, rowColours, rowLoc, colLabels, colColours, colLoc, loc, bbox, edges, **kwargs)\u001b[0m\n\u001b[0;32m    739\u001b[0m \u001b[1;33m\u001b[0m\u001b[0m\n\u001b[0;32m    740\u001b[0m     \u001b[0mrows\u001b[0m \u001b[1;33m=\u001b[0m \u001b[0mlen\u001b[0m\u001b[1;33m(\u001b[0m\u001b[0mcellText\u001b[0m\u001b[1;33m)\u001b[0m\u001b[1;33m\u001b[0m\u001b[1;33m\u001b[0m\u001b[0m\n\u001b[1;32m--> 741\u001b[1;33m     \u001b[0mcols\u001b[0m \u001b[1;33m=\u001b[0m \u001b[0mlen\u001b[0m\u001b[1;33m(\u001b[0m\u001b[0mcellText\u001b[0m\u001b[1;33m[\u001b[0m\u001b[1;36m0\u001b[0m\u001b[1;33m]\u001b[0m\u001b[1;33m)\u001b[0m\u001b[1;33m\u001b[0m\u001b[1;33m\u001b[0m\u001b[0m\n\u001b[0m\u001b[0;32m    742\u001b[0m     \u001b[1;32mfor\u001b[0m \u001b[0mrow\u001b[0m \u001b[1;32min\u001b[0m \u001b[0mcellText\u001b[0m\u001b[1;33m:\u001b[0m\u001b[1;33m\u001b[0m\u001b[1;33m\u001b[0m\u001b[0m\n\u001b[0;32m    743\u001b[0m         \u001b[1;32mif\u001b[0m \u001b[0mlen\u001b[0m\u001b[1;33m(\u001b[0m\u001b[0mrow\u001b[0m\u001b[1;33m)\u001b[0m \u001b[1;33m!=\u001b[0m \u001b[0mcols\u001b[0m\u001b[1;33m:\u001b[0m\u001b[1;33m\u001b[0m\u001b[1;33m\u001b[0m\u001b[0m\n",
      "\u001b[1;31mIndexError\u001b[0m: list index out of range"
     ]
    },
    {
     "data": {
      "image/png": "[encoded data removed]",
      "text/plain": [
       "<Figure size 720x720 with 1 Axes>"
      ]
     },
     "metadata": {
      "needs_background": "light"
     },
     "output_type": "display_data"
    }
   ],
   "source": [
    "fig, ax=plt.subplots(figsize=[10,10])\n",
    "ax.set_axis_off()\n",
    "\n",
    "col_headers = ['Type','Name','Description','Distribution','Distribution parameters','Units']\n",
    "# row_headers = ['Free parameters','Output','Random variables']\n",
    "row_headers = ['$t$','$\\kappa$','$dep^{KS}$','$\\lambda$','$\\lambda$']\n",
    "# row_headers = ['5 Year','10 Year','20 Year','30 Year','40 Year']\n",
    "cols_widths = [0.15, 0.15, 0.15, 0.35, 0.2, 0.1]\n",
    "cell_text = []\n",
    "table1 = plt.table(cellText=cell_text,\n",
    "                      #rowLabels=row_headers, # rowLabels=row_headers, # \n",
    "                      #rowLoc='center', # colColours=ccolors,\n",
    "                      colLabels=col_headers,# colWidths=cols_widths\n",
    "                      loc='left')\n",
    "\n",
    "fig_background_color = 'skyblue'\n",
    "fig_border = 'steelblue'\n",
    " \n",
    "# plt.figure(linewidth=2,\n",
    "#            edgecolor=fig_border,\n",
    "#            facecolor=fig_background_color)\n",
    "\n",
    "if False: \n",
    "    plt.savefig('pyplot-table-figure-style.png',\n",
    "                bbox_inches='tight',\n",
    "                edgecolor=fig.get_edgecolor(),\n",
    "                facecolor=fig.get_facecolor(),\n",
    "                dpi=150\n",
    "                )"
   ]
  },
  {
   "cell_type": "code",
   "execution_count": 157,
   "metadata": {},
   "outputs": [
    {
     "ename": "AttributeError",
     "evalue": "'dict' object has no attribute 'distributionParameters'",
     "output_type": "error",
     "traceback": [
      "\u001b[1;31m---------------------------------------------------------------------------\u001b[0m",
      "\u001b[1;31mAttributeError\u001b[0m                            Traceback (most recent call last)",
      "\u001b[1;32m<ipython-input-157-842574001d8d>\u001b[0m in \u001b[0;36m<module>\u001b[1;34m\u001b[0m\n\u001b[0;32m     17\u001b[0m \u001b[1;33m\u001b[0m\u001b[0m\n\u001b[0;32m     18\u001b[0m \u001b[0mrv_t_dep\u001b[0m\u001b[1;33m[\u001b[0m\u001b[1;34m\"distributionParameters\"\u001b[0m\u001b[1;33m]\u001b[0m\u001b[1;33m\u001b[0m\u001b[1;33m\u001b[0m\u001b[0m\n\u001b[1;32m---> 19\u001b[1;33m \u001b[0mrv_t_dep\u001b[0m\u001b[1;33m.\u001b[0m\u001b[0mdistributionParameters\u001b[0m\u001b[1;33m\u001b[0m\u001b[1;33m\u001b[0m\u001b[0m\n\u001b[0m",
      "\u001b[1;31mAttributeError\u001b[0m: 'dict' object has no attribute 'distributionParameters'"
     ]
    }
   ],
   "source": [
    "rv_t_dep = {\n",
    "    \"type\": \"free parameter\",\n",
    "    \"name\": \"t\",\n",
    "    \"description\": \"Simulation runtime in seconds.\",\n",
    "    \"distribution\": \"Uniform(lower,upper)\",\n",
    "    \"distributionParameters\": [\n",
    "        {\n",
    "            \"lower\": 0,\n",
    "            \"units\": \"sec\"\n",
    "        },\n",
    "        {\n",
    "            \"upper\": 100,\n",
    "            \"units\": \"sec\"\n",
    "        }\n",
    "    ]\n",
    "}\n",
    "\n",
    "rv_t_dep[\"distributionParameters\"]\n",
    "rv_t_dep.distributionParameters"
   ]
  },
  {
   "cell_type": "code",
   "execution_count": 135,
   "metadata": {},
   "outputs": [
    {
     "data": {
      "text/plain": [
       "{'firstName': 'Jane',\n",
       " 'lastName': 'Doe',\n",
       " 'hobbies': ['running', 'sky diving', 'singing'],\n",
       " 'age': 35,\n",
       " 'children': [{'firstName': 'Alice', 'age': 6},\n",
       "  {'firstName': 'Bob', 'age': 8}]}"
      ]
     },
     "execution_count": 135,
     "metadata": {},
     "output_type": "execute_result"
    }
   ],
   "source": [
    "{\n",
    "    \"firstName\": \"Jane\",\n",
    "    \"lastName\": \"Doe\",\n",
    "    \"hobbies\": [\"running\", \"sky diving\", \"singing\"],\n",
    "    \"age\": 35,\n",
    "    \"children\": [\n",
    "        {\n",
    "            \"firstName\": \"Alice\",\n",
    "            \"age\": 6\n",
    "        },\n",
    "        {\n",
    "            \"firstName\": \"Bob\",\n",
    "            \"age\": 8\n",
    "        }\n",
    "    ]\n",
    "}"
   ]
  },
  {
   "cell_type": "code",
   "execution_count": 29,
   "metadata": {},
   "outputs": [
    {
     "data": {
      "image/png": "[encoded data removed]",
      "text/plain": [
       "<Figure size 432x288 with 1 Axes>"
      ]
     },
     "metadata": {
      "needs_background": "light"
     },
     "output_type": "display_data"
    }
   ],
   "source": [
    "val1 = [\"{:X}\".format(i) for i in range(10)] \n",
    "val2 = [\"{:02X}\".format(10 * i) for i in range(10)] \n",
    "val3 = [[\"\" for c in range(10)] for r in range(10)] \n",
    "   \n",
    "fig, ax = plt.subplots() \n",
    "ax.set_axis_off() \n",
    "table = ax.table( \n",
    "    cellText = val3,  \n",
    "    rowLabels = val2,  \n",
    "    colLabels = val1, \n",
    "    rowColours =[\"palegreen\"] * 10,  \n",
    "    colColours =[\"palegreen\"] * 10, \n",
    "    cellLoc ='center',  \n",
    "    loc ='upper left')         \n",
    "   \n",
    "ax.set_title('matplotlib.axes.Axes.table() function Example', \n",
    "             fontweight =\"bold\") \n",
    "   \n",
    "plt.show() "
   ]
  },
  {
   "cell_type": "code",
   "execution_count": 35,
   "metadata": {},
   "outputs": [
    {
     "data": {
      "image/png": "[encoded data removed]",
      "text/plain": [
       "<Figure size 432x288 with 1 Axes>"
      ]
     },
     "metadata": {
      "needs_background": "light"
     },
     "output_type": "display_data"
    },
    {
     "data": {
      "text/plain": [
       "<Figure size 432x288 with 0 Axes>"
      ]
     },
     "metadata": {},
     "output_type": "display_data"
    }
   ],
   "source": [
    "row_headers = ['5 Year','10 Year','20 Year','30 Year','40 Year']\n",
    "column_headers = ['Freeze','Wind','Flood','Quake','Hale']\n",
    "rcolors = plt.cm.BuPu(np.full(len(row_headers), 0.1))\n",
    "ccolors = plt.cm.BuPu(np.full(len(column_headers), 0.1))\n",
    " \n",
    "the_table = plt.table(cellText=cell_text,\n",
    "                      rowLabels=row_headers,\n",
    "                      rowColours=rcolors,\n",
    "                      rowLoc='right',\n",
    "                      colColours=ccolors,\n",
    "                      colLabels=column_headers,\n",
    "                      loc='center')\n",
    "\n",
    "fig_background_color = 'skyblue'\n",
    "fig_border = 'steelblue'\n",
    " \n",
    "plt.figure(linewidth=2,\n",
    "           edgecolor=fig_border,\n",
    "           facecolor=fig_background_color\n",
    "          )\n",
    " \n",
    "plt.savefig('pyplot-table-figure-style.png',\n",
    "            bbox_inches='tight',\n",
    "            edgecolor=fig.get_edgecolor(),\n",
    "            facecolor=fig.get_facecolor(),\n",
    "            dpi=150\n",
    "            )"
   ]
  },
  {
   "cell_type": "code",
   "execution_count": 31,
   "metadata": {},
   "outputs": [
    {
     "data": {
      "image/png": "[encoded data removed]",
      "text/plain": [
       "<Figure size 432x288 with 1 Axes>"
      ]
     },
     "metadata": {
      "needs_background": "light"
     },
     "output_type": "display_data"
    }
   ],
   "source": [
    "data = [[ 100, 100,  99, 95],\n",
    "        [ 66, 71,  76,  82],\n",
    "        [ 73,  75, 79, 81],\n",
    "        [ 17,  23, 42, 55],\n",
    "        [ 12, 18, 26, 20]]\n",
    " \n",
    "columns = ('2010', '2012', '2014', '2016')\n",
    "rows = (\"Make Calls\", \"Take Photos\", \"Texting\", \"Internet\", \"Playing games\")[::-1]\n",
    " \n",
    "values = np.arange(0, 50, 10)\n",
    "value_increment = 10\n",
    " \n",
    "# Get some pastel shades for the colors\n",
    "colors = plt.cm.BuPu(np.linspace(0, 0.5, len(rows)))\n",
    "n_rows = len(data)\n",
    " \n",
    "index = np.arange(len(columns)) + 0.3\n",
    "bar_width = 0.4\n",
    " \n",
    "# Initialize the vertical-offset for the stacked bar chart.\n",
    "y_offset = np.zeros(len(columns))\n",
    " \n",
    "# Plot bars and create text labels for the table\n",
    "cell_text = []\n",
    "for row in range(n_rows):\n",
    "    plt.bar(index, data[row], bar_width, bottom=y_offset, color=colors[row])\n",
    "    y_offset = y_offset + data[row]\n",
    "    cell_text.append(['%1.1f' % (x) for x in y_offset])\n",
    "# Reverse colors and text labels to display the last value at the top.\n",
    "colors = colors[::-1]\n",
    "cell_text.reverse()\n",
    " \n",
    "# Add a table at the bottom of the axes\n",
    "the_table = plt.table(cellText=cell_text,\n",
    "                      rowLabels=rows,\n",
    "                      rowColours=colors,\n",
    "                      colLabels=columns,\n",
    "                      loc='bottom')\n",
    " \n",
    "# Adjust layout to make room for the table:\n",
    "plt.subplots_adjust(left=0.2, bottom=0.2)\n",
    " \n",
    "plt.ylabel(\"Usage of mobile phones in ${0}'s\".format(value_increment))\n",
    "plt.yticks(values * value_increment, ['%d' % val for val in values])\n",
    "plt.xticks([])\n",
    "plt.title('Using Mobile Phones')\n",
    " \n",
    "plt.show()"
   ]
  },
  {
   "cell_type": "code",
   "execution_count": 32,
   "metadata": {},
   "outputs": [],
   "source": []
  },
  {
   "cell_type": "markdown",
   "metadata": {},
   "source": [
    "$\\lambda$ <br>\n",
    "$\\lambda^{KS}_{w_{TCR}}$ <br>\n",
    "$w^{KS}_{TCR}$ <br>\n",
    "$wTCR^{KS}$ <br>"
   ]
  },
  {
   "cell_type": "code",
   "execution_count": 53,
   "metadata": {},
   "outputs": [
    {
     "ename": "ModuleNotFoundError",
     "evalue": "No module named 'plotly'",
     "output_type": "error",
     "traceback": [
      "\u001b[1;31m---------------------------------------------------------------------------\u001b[0m",
      "\u001b[1;31mModuleNotFoundError\u001b[0m                       Traceback (most recent call last)",
      "\u001b[1;32m<ipython-input-53-790c57286a5c>\u001b[0m in \u001b[0;36m<module>\u001b[1;34m\u001b[0m\n\u001b[1;32m----> 1\u001b[1;33m \u001b[1;32mimport\u001b[0m \u001b[0mplotly\u001b[0m\u001b[1;33m.\u001b[0m\u001b[0mgraph_objects\u001b[0m \u001b[1;32mas\u001b[0m \u001b[0mgo\u001b[0m\u001b[1;33m\u001b[0m\u001b[1;33m\u001b[0m\u001b[0m\n\u001b[0m\u001b[0;32m      2\u001b[0m \u001b[1;33m\u001b[0m\u001b[0m\n\u001b[0;32m      3\u001b[0m \u001b[1;32mimport\u001b[0m \u001b[0mpandas\u001b[0m \u001b[1;32mas\u001b[0m \u001b[0mpd\u001b[0m\u001b[1;33m\u001b[0m\u001b[1;33m\u001b[0m\u001b[0m\n\u001b[0;32m      4\u001b[0m \u001b[1;33m\u001b[0m\u001b[0m\n\u001b[0;32m      5\u001b[0m colors = ['rgb(239, 243, 255)', 'rgb(189, 215, 231)', 'rgb(107, 174, 214)',\n",
      "\u001b[1;31mModuleNotFoundError\u001b[0m: No module named 'plotly'"
     ]
    }
   ],
   "source": [
    "import plotly.graph_objects as go\n",
    "\n",
    "import pandas as pd\n",
    "\n",
    "colors = ['rgb(239, 243, 255)', 'rgb(189, 215, 231)', 'rgb(107, 174, 214)',\n",
    "          'rgb(49, 130, 189)', 'rgb(8, 81, 156)']\n",
    "data = {'Year' : [2010, 2011, 2012, 2013, 2014], 'Color' : colors}\n",
    "df = pd.DataFrame(data)\n",
    "\n",
    "fig = go.Figure(data=[go.Table(\n",
    "  header=dict(\n",
    "    values=[\"Color\", \"<b>YEAR</b>\"],\n",
    "    line_color='white', fill_color='white',\n",
    "    align='center', font=dict(color='black', size=12)\n",
    "  ),\n",
    "  cells=dict(\n",
    "    values=[df.Color, df.Year],\n",
    "    line_color=[df.Color], fill_color=[df.Color],\n",
    "    align='center', font=dict(color='black', size=11)\n",
    "  ))\n",
    "])\n",
    "\n",
    "fig.show()"
   ]
  },
  {
   "cell_type": "markdown",
   "metadata": {},
   "source": [
    "<!-- |Title| -->\n",
    "| Python Operator | Description  |\n",
    "| :---: | :---: |\n",
    "| `+` | addition |\n",
    "| `-` | subtraction |\n",
    "| `*` | multiplication |\n",
    "| `/` | division |\n",
    "| `**` | power |"
   ]
  },
  {
   "cell_type": "code",
   "execution_count": null,
   "metadata": {},
   "outputs": [],
   "source": []
  }
 ],
 "metadata": {
  "kernelspec": {
   "display_name": "Python 3",
   "language": "python",
   "name": "python3"
  },
  "language_info": {
   "codemirror_mode": {
    "name": "ipython",
    "version": 3
   },
   "file_extension": ".py",
   "mimetype": "text/x-python",
   "name": "python",
   "nbconvert_exporter": "python",
   "pygments_lexer": "ipython3",
   "version": "3.8.5"
  }
 },
 "nbformat": 4,
 "nbformat_minor": 4
}
